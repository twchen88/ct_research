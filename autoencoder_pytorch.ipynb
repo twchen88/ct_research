{
 "cells": [
  {
   "cell_type": "code",
   "execution_count": 2375,
   "metadata": {},
   "outputs": [],
   "source": [
    "## import packages and helper functions\n",
    "import numpy as np\n",
    "import pandas as pd\n",
    "import matplotlib.pyplot as plt\n",
    "import seaborn as sns\n",
    "import torch\n",
    "import statistics\n",
    "import copy"
   ]
  },
  {
   "cell_type": "markdown",
   "metadata": {},
   "source": [
    "training data"
   ]
  },
  {
   "cell_type": "code",
   "execution_count": 2376,
   "metadata": {},
   "outputs": [],
   "source": [
    "# import data\n",
    "df = pd.read_csv(\"data/5_missing_5000sample.csv\")\n",
    "data = df.to_numpy()\n",
    "(l, w) = data.shape"
   ]
  },
  {
   "cell_type": "code",
   "execution_count": 2377,
   "metadata": {},
   "outputs": [],
   "source": [
    "x_train = np.zeros((l, w*2))\n",
    "for i in range(l):\n",
    "    for d in range(w):\n",
    "        p = data[i, d]\n",
    "        # update output array\n",
    "        if p == 0:\n",
    "            # print(\"shouldn't be here\")\n",
    "            missing_ind = np.random.choice(2, 1)[0]\n",
    "            x_train[i, d*2] = missing_ind\n",
    "            x_train[i, d*2+1] = missing_ind\n",
    "        else:\n",
    "            x_train[i, d*2] = p # score\n",
    "            x_train[i, d*2+1] = 1-p # 1-score"
   ]
  },
  {
   "cell_type": "code",
   "execution_count": 2378,
   "metadata": {},
   "outputs": [],
   "source": [
    "# x_train = data.reshape((-1, 28))\n",
    "# x_train.shape"
   ]
  },
  {
   "cell_type": "code",
   "execution_count": 2379,
   "metadata": {},
   "outputs": [],
   "source": [
    "from sklearn.model_selection import train_test_split\n",
    "\n",
    "x_train, x_val = train_test_split(x_train, test_size=0.20)"
   ]
  },
  {
   "cell_type": "markdown",
   "metadata": {},
   "source": [
    "Autoencoder model"
   ]
  },
  {
   "cell_type": "code",
   "execution_count": 2380,
   "metadata": {},
   "outputs": [
    {
     "data": {
      "text/plain": [
       "(5000, 2)"
      ]
     },
     "execution_count": 2380,
     "metadata": {},
     "output_type": "execute_result"
    }
   ],
   "source": [
    "(l, w)"
   ]
  },
  {
   "cell_type": "code",
   "execution_count": 2381,
   "metadata": {},
   "outputs": [],
   "source": [
    "class AE(torch.nn.Module):\n",
    "    def __init__(self):\n",
    "        super().__init__()\n",
    "        n_domains = 2\n",
    "         \n",
    "        self.encoder = torch.nn.Sequential(\n",
    "            torch.nn.Linear(n_domains * 2, 20),\n",
    "            torch.nn.Sigmoid()\n",
    "            # torch.nn.Linear(10, 5)\n",
    "        )\n",
    "         \n",
    "        self.decoder = torch.nn.Sequential(\n",
    "            # torch.nn.Linear(5, 10),\n",
    "            # torch.nn.Sigmoid(),\n",
    "            torch.nn.Linear(20, n_domains * 2),\n",
    "            torch.nn.Sigmoid()\n",
    "        )\n",
    " \n",
    "    def forward(self, x):\n",
    "        encoded = self.encoder(x)\n",
    "        decoded = self.decoder(encoded)\n",
    "        return decoded"
   ]
  },
  {
   "cell_type": "code",
   "execution_count": 2382,
   "metadata": {},
   "outputs": [],
   "source": [
    "# Model Initialization\n",
    "model = AE()\n",
    " \n",
    "# Validation using MSE Loss function\n",
    "loss_function = torch.nn.MSELoss()\n",
    " \n",
    "# Using an Adam Optimizer\n",
    "optimizer = torch.optim.Adam(model.parameters(),\n",
    "                             lr = 1e-4,\n",
    "                             weight_decay = 1e-8)"
   ]
  },
  {
   "cell_type": "code",
   "execution_count": 2383,
   "metadata": {},
   "outputs": [],
   "source": [
    "def missing(arr):\n",
    "    return arr[0] == arr[1]"
   ]
  },
  {
   "cell_type": "code",
   "execution_count": 2384,
   "metadata": {},
   "outputs": [
    {
     "name": "stdout",
     "output_type": "stream",
     "text": [
      "Epoch [1/25], Loss: 0.0773\n",
      "Epoch [2/25], Loss: 0.0710\n",
      "Epoch [3/25], Loss: 0.0621\n",
      "Epoch [4/25], Loss: 0.0497\n",
      "Epoch [5/25], Loss: 0.0351\n",
      "Epoch [6/25], Loss: 0.0210\n",
      "Epoch [7/25], Loss: 0.0100\n",
      "Epoch [8/25], Loss: 0.0038\n",
      "Epoch [9/25], Loss: 0.0016\n",
      "Epoch [10/25], Loss: 0.0012\n",
      "Epoch [11/25], Loss: 0.0012\n",
      "Epoch [12/25], Loss: 0.0012\n",
      "Epoch [13/25], Loss: 0.0012\n",
      "Epoch [14/25], Loss: 0.0012\n",
      "Epoch [15/25], Loss: 0.0012\n",
      "Epoch [16/25], Loss: 0.0012\n",
      "Epoch [17/25], Loss: 0.0012\n",
      "Epoch [18/25], Loss: 0.0012\n",
      "Epoch [19/25], Loss: 0.0012\n",
      "Epoch [20/25], Loss: 0.0012\n",
      "Epoch [21/25], Loss: 0.0012\n",
      "Epoch [22/25], Loss: 0.0012\n",
      "Epoch [23/25], Loss: 0.0011\n",
      "Epoch [24/25], Loss: 0.0011\n",
      "Epoch [25/25], Loss: 0.0011\n"
     ]
    }
   ],
   "source": [
    "epochs = 25\n",
    "outputs = []\n",
    "losses = []\n",
    "val_losses = []\n",
    "epoch_loss = []\n",
    "val_epoch_loss = []\n",
    "\n",
    "for epoch in range(epochs):\n",
    "    for session in x_train:\n",
    "\n",
    "      optimizer.zero_grad()\n",
    "\n",
    "      # Output of Autoencoder\n",
    "      session_rs = session.reshape(-1, w * 2)\n",
    "      session_t = torch.from_numpy(session_rs)\n",
    "      session_t = session_t.clone().detach().requires_grad_(True).type(torch.float32)\n",
    "      reconstructed = model(session_t)\n",
    "\n",
    "      # handle missing value\n",
    "      missing_exists = False\n",
    "      missing_domains = []\n",
    "      for domain in range(w):\n",
    "        if missing(session[domain*2:domain*2+2]):\n",
    "          missing_exists = True\n",
    "          missing_domains.append(domain)\n",
    "          \n",
    "      if missing_exists:\n",
    "        session_dc = copy.deepcopy(session)\n",
    "        for d in missing_domains:\n",
    "          target = reconstructed.detach().numpy()[0][d*2:d*2+2]\n",
    "          session_dc[d*2:d*2+2] = target\n",
    "        session_dc = session_dc.reshape(-1, w * 2)\n",
    "        session_t = torch.from_numpy(session_dc)\n",
    "        session_t = session_t.clone().detach().requires_grad_(True).type(torch.float32)\n",
    "       \n",
    "      # Calculating the loss function\n",
    "      loss = loss_function(reconstructed, session_t)\n",
    "      \n",
    "      loss.backward()\n",
    "      optimizer.step()\n",
    "      # print(f'Epoch [{epoch + 1}/{epochs}], Loss: {loss.item():.4f}')\n",
    "       \n",
    "      # Storing the losses in a list for plotting\n",
    "      epoch_loss.append(loss.item())\n",
    "\n",
    "    losses.append(statistics.mean(epoch_loss))\n",
    "    print(f'Epoch [{epoch + 1}/{epochs}], Loss: {statistics.mean(epoch_loss):.4f}')\n",
    "    epoch_loss = []\n",
    "    outputs.append((epochs, session_t, reconstructed))\n",
    "\n",
    "    with torch.no_grad():\n",
    "      for val in x_val:\n",
    "        val_rs = val.reshape(-1, w * 2)\n",
    "        val_t = torch.from_numpy(val_rs)\n",
    "        val_t = val_t.clone().detach().type(torch.float32)\n",
    "        answer = model(val_t)\n",
    "        val_loss = loss_function(answer, val_t)\n",
    "        val_epoch_loss.append(val_loss.item())\n",
    "    val_losses.append(statistics.mean(val_epoch_loss))"
   ]
  },
  {
   "cell_type": "code",
   "execution_count": 2385,
   "metadata": {},
   "outputs": [
    {
     "data": {
      "image/png": "[encoded data removed]",
      "text/plain": [
       "<Figure size 640x480 with 1 Axes>"
      ]
     },
     "metadata": {},
     "output_type": "display_data"
    }
   ],
   "source": [
    " # Defining the Plot Style\n",
    "plt.style.use('fivethirtyeight')\n",
    "plt.xlabel('Epochs')\n",
    "plt.ylabel('Loss')\n",
    " \n",
    "# Plotting\n",
    "with torch.no_grad():\n",
    "   plt.plot(losses)\n",
    "   plt.plot(val_losses)\n",
    "   plt.legend([\"train\", \"validation\"])"
   ]
  },
  {
   "cell_type": "code",
   "execution_count": 2386,
   "metadata": {},
   "outputs": [
    {
     "data": {
      "text/plain": [
       "array([0.49530838, 0.50844162, 0.5019538 , 0.4962962 ])"
      ]
     },
     "execution_count": 2386,
     "metadata": {},
     "output_type": "execute_result"
    }
   ],
   "source": [
    "np.mean(x_train, axis=0)"
   ]
  },
  {
   "cell_type": "markdown",
   "metadata": {},
   "source": [
    "Testing all missing average"
   ]
  },
  {
   "cell_type": "code",
   "execution_count": 2394,
   "metadata": {},
   "outputs": [],
   "source": [
    "missing_data = pd.read_csv(\"data/all_1_500.csv\")\n",
    "missing_data = missing_data.to_numpy()\n",
    "(l, w) = missing_data.shape"
   ]
  },
  {
   "cell_type": "code",
   "execution_count": 2395,
   "metadata": {},
   "outputs": [
    {
     "data": {
      "text/plain": [
       "array([[1., 1., 1., 1.],\n",
       "       [1., 1., 1., 1.],\n",
       "       [1., 1., 1., 1.],\n",
       "       ...,\n",
       "       [1., 1., 1., 1.],\n",
       "       [1., 1., 1., 1.],\n",
       "       [1., 1., 1., 1.]])"
      ]
     },
     "execution_count": 2395,
     "metadata": {},
     "output_type": "execute_result"
    }
   ],
   "source": [
    "missing_set = np.zeros((l, w*2))\n",
    "for i in range(l):\n",
    "    for d in range(w):\n",
    "        p = missing_data[i, d]\n",
    "        # update output array\n",
    "        missing_set[i, d*2] = p\n",
    "        missing_set[i, d*2+1] = p\n",
    "missing_set"
   ]
  },
  {
   "cell_type": "code",
   "execution_count": 2396,
   "metadata": {},
   "outputs": [
    {
     "data": {
      "text/plain": [
       "array([0.50915027, 0.48718908, 0.53434455, 0.46891469])"
      ]
     },
     "execution_count": 2396,
     "metadata": {},
     "output_type": "execute_result"
    }
   ],
   "source": [
    "total = np.array([0.0, 0.0, 0.0, 0.0])\n",
    "with torch.no_grad():\n",
    "    for row in missing_set:\n",
    "        temp = row.reshape(-1, w * 2)\n",
    "        temp = torch.from_numpy(temp)\n",
    "        temp = temp.clone().detach().type(torch.float32)\n",
    "        output = model(temp).detach().numpy()[0]\n",
    "        total = output + total\n",
    "\n",
    "total = total/l\n",
    "total"
   ]
  },
  {
   "cell_type": "markdown",
   "metadata": {},
   "source": [
    "No missing test"
   ]
  },
  {
   "cell_type": "code",
   "execution_count": 2397,
   "metadata": {},
   "outputs": [],
   "source": [
    "test_data = pd.read_csv(\"data/test_dataset_no_missing_2.csv\")\n",
    "test_data = test_data.to_numpy()\n",
    "(l, w) = test_data.shape"
   ]
  },
  {
   "cell_type": "code",
   "execution_count": 2398,
   "metadata": {},
   "outputs": [],
   "source": [
    "x_test = np.zeros((l, w*2))\n",
    "for i in range(l):\n",
    "    for d in range(w):\n",
    "        p = test_data[i, d]\n",
    "        x_test[i, d*2] = p # score\n",
    "        x_test[i, d*2+1] = 1-p # 1-score"
   ]
  },
  {
   "cell_type": "code",
   "execution_count": 2399,
   "metadata": {},
   "outputs": [
    {
     "data": {
      "text/plain": [
       "array([[0.78208023, 0.21791977, 0.3816844 , 0.6183156 ],\n",
       "       [0.39358905, 0.60641095, 0.31200055, 0.68799945],\n",
       "       [0.0572248 , 0.9427752 , 0.78475412, 0.21524588],\n",
       "       ...,\n",
       "       [0.25542948, 0.74457052, 0.88261002, 0.11738998],\n",
       "       [0.6164064 , 0.3835936 , 0.15777525, 0.84222475],\n",
       "       [0.89770934, 0.10229066, 0.6429232 , 0.3570768 ]])"
      ]
     },
     "execution_count": 2399,
     "metadata": {},
     "output_type": "execute_result"
    }
   ],
   "source": [
    "x_test"
   ]
  },
  {
   "cell_type": "code",
   "execution_count": 2400,
   "metadata": {},
   "outputs": [
    {
     "data": {
      "text/plain": [
       "0.0011803214301269237"
      ]
     },
     "execution_count": 2400,
     "metadata": {},
     "output_type": "execute_result"
    }
   ],
   "source": [
    "total_loss = 0\n",
    "with torch.no_grad():\n",
    "    for row in x_test:\n",
    "        temp = row.reshape(-1, w * 2)\n",
    "        temp = torch.from_numpy(temp)\n",
    "        temp = temp.clone().detach().type(torch.float32)\n",
    "        \n",
    "        output = model(temp)\n",
    "        loss = loss_function(output, temp).detach().numpy()\n",
    "        total_loss += loss\n",
    "\n",
    "total_loss/l"
   ]
  }
 ],
 "metadata": {
  "kernelspec": {
   "display_name": "ct",
   "language": "python",
   "name": "python3"
  },
  "language_info": {
   "codemirror_mode": {
    "name": "ipython",
    "version": 3
   },
   "file_extension": ".py",
   "mimetype": "text/x-python",
   "name": "python",
   "nbconvert_exporter": "python",
   "pygments_lexer": "ipython3",
   "version": "3.10.11"
  }
 },
 "nbformat": 4,
 "nbformat_minor": 2
}
