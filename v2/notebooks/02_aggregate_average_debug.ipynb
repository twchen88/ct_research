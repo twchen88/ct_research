{
 "cells": [
  {
   "cell_type": "markdown",
   "id": "66ba9fc5",
   "metadata": {},
   "source": [
    "Set Working Directory"
   ]
  },
  {
   "cell_type": "code",
   "execution_count": 1,
   "id": "dfe4dde7",
   "metadata": {},
   "outputs": [
    {
     "data": {
      "text/plain": [
       "'/Users/964505/CT/ct_research/v2'"
      ]
     },
     "execution_count": 1,
     "metadata": {},
     "output_type": "execute_result"
    }
   ],
   "source": [
    "import os\n",
    "os.chdir('..')\n",
    "os.getcwd()"
   ]
  },
  {
   "cell_type": "markdown",
   "id": "612c0f6d",
   "metadata": {},
   "source": [
    "Packages"
   ]
  },
  {
   "cell_type": "code",
   "execution_count": 2,
   "id": "45ac0d12",
   "metadata": {},
   "outputs": [],
   "source": [
    "import yaml\n",
    "import numpy as np\n",
    "\n",
    "import src.experiments.file_io as file_io\n",
    "import src.experiments.aggregate_average as core\n",
    "import src.experiments.shared as shared\n",
    "import src.viz.aggregate_average as viz\n",
    "\n",
    "from pathlib import Path\n",
    "from datetime import datetime\n",
    "\n",
    "from src.utils.reproducibility import set_global_seed\n",
    "from src.utils.metadata import get_git_commit_hash\n",
    "from src.utils.config_loading import load_yaml_config"
   ]
  },
  {
   "cell_type": "markdown",
   "id": "099f0ae0",
   "metadata": {},
   "source": [
    "Functions"
   ]
  },
  {
   "cell_type": "code",
   "execution_count": 3,
   "id": "030a64a7",
   "metadata": {},
   "outputs": [],
   "source": [
    "def compute_score_pair_errors(gt_score_pairs, pred_score_pairs):\n",
    "    # calculate mean absolute error\n",
    "    mean_error = np.mean(np.abs(gt_score_pairs - pred_score_pairs))\n",
    "\n",
    "    # calculate ground truth std\n",
    "    ground_truth_std = np.std(gt_score_pairs, ddof=1)\n",
    "    \n",
    "    return mean_error, ground_truth_std"
   ]
  },
  {
   "cell_type": "code",
   "execution_count": 4,
   "id": "267711e9",
   "metadata": {},
   "outputs": [],
   "source": [
    "def evaluate_error_by_missing_count(test_x, test_y, test_predictions, dims=14):\n",
    "    _, cur_score = core.split_encoding_and_scores(test_x, dims=dims)\n",
    "    future_score_gt = test_y\n",
    "\n",
    "    mean_errors_list = []\n",
    "    ground_truth_std_list = []\n",
    "    ground_truth_dict = {}\n",
    "    missing_counts = list(range(0, dims))\n",
    "\n",
    "    for n in missing_counts:\n",
    "        filter_mask = core.filter_sessions_by_missing_count(cur_score, n)\n",
    "        filtered_gt = future_score_gt[filter_mask]\n",
    "        filtered_pred = test_predictions[filter_mask]\n",
    "\n",
    "        ground_truth_dict[str(n)] = filtered_gt\n",
    "\n",
    "        if filtered_gt.size == 0:\n",
    "            mean_errors_list.append(np.nan)\n",
    "            ground_truth_std_list.append(np.nan)\n",
    "            continue\n",
    "\n",
    "        mean_error, std_dev = compute_score_pair_errors(filtered_gt, filtered_pred)\n",
    "        mean_errors_list.append(mean_error)\n",
    "        ground_truth_std_list.append(std_dev)\n",
    "\n",
    "    return missing_counts, mean_errors_list, ground_truth_std_list, ground_truth_dict"
   ]
  },
  {
   "cell_type": "markdown",
   "id": "76f26020",
   "metadata": {},
   "source": [
    "Script"
   ]
  },
  {
   "cell_type": "code",
   "execution_count": 5,
   "id": "9c2c7584",
   "metadata": {},
   "outputs": [],
   "source": [
    "config_path = \"config/experiments/20250624_aggavg_1.yaml\""
   ]
  },
  {
   "cell_type": "code",
   "execution_count": 6,
   "id": "eb14d08e",
   "metadata": {},
   "outputs": [],
   "source": [
    "# load configuration\n",
    "config = load_yaml_config(config_path)\n",
    "run_type = config[\"settings\"][\"type\"] # repeat vs non-repeat\n",
    "device = config[\"settings\"][\"device\"] # cpu or cuda\n",
    "seed = config[\"settings\"][\"seed\"]\n",
    "\n",
    "data_source = config[\"data\"][\"data_source\"] # npz file with multiple arrays\n",
    "model_source = config[\"data\"][\"model_source\"] # path to the model\n",
    "output_destination = config[\"data\"][\"destination_base\"]"
   ]
  },
  {
   "cell_type": "code",
   "execution_count": 7,
   "id": "ad78497b",
   "metadata": {},
   "outputs": [],
   "source": [
    "## general setup\n",
    "figure_names = [\"accuracy_assessment.png\", \"aggregate_average.png\"]\n",
    "\n",
    "\n",
    "## set global seed\n",
    "set_global_seed(seed)\n",
    "\n",
    "## get git commit hash\n",
    "git_commit_hash = get_git_commit_hash()"
   ]
  },
  {
   "cell_type": "code",
   "execution_count": 8,
   "id": "72646ed8",
   "metadata": {},
   "outputs": [],
   "source": [
    "## load model\n",
    "model = shared.load_model(model_source, device=device)"
   ]
  },
  {
   "cell_type": "code",
   "execution_count": 9,
   "id": "634a2d09",
   "metadata": {},
   "outputs": [],
   "source": [
    "## read data\n",
    "test_data = np.load(\"old_data/next_step_test_data_encoded.npy\")\n",
    "test_data = core.filter_rows_by_sum(test_data, slice(0, 14), 1)\n",
    "from src.training.training_torch import split_input_target\n",
    "\n",
    "test_x, test_y = split_input_target(test_data)\n",
    "test_predictions = shared.inference(model, test_x)\n",
    "test_x = test_x.cpu().numpy()\n",
    "test_y = test_y.cpu().numpy()"
   ]
  },
  {
   "cell_type": "code",
   "execution_count": 10,
   "id": "d62db495",
   "metadata": {},
   "outputs": [
    {
     "data": {
      "text/plain": [
       "((960116, 42), (960116, 14), (960116, 14))"
      ]
     },
     "execution_count": 10,
     "metadata": {},
     "output_type": "execute_result"
    }
   ],
   "source": [
    "test_x.shape, test_y.shape, test_predictions.shape"
   ]
  },
  {
   "cell_type": "code",
   "execution_count": 11,
   "id": "058807ae",
   "metadata": {},
   "outputs": [
    {
     "name": "stdout",
     "output_type": "stream",
     "text": [
      "encoidngs: [[0. 0. 0. ... 0. 1. 0.]\n",
      " [0. 0. 0. ... 0. 0. 0.]\n",
      " [0. 0. 0. ... 0. 0. 0.]\n",
      " ...\n",
      " [0. 0. 0. ... 0. 0. 0.]\n",
      " [0. 0. 0. ... 0. 0. 1.]\n",
      " [0. 0. 0. ... 0. 1. 0.]]\n",
      "score_pairs: [[[0.526      0.47399998]\n",
      "  [0.02       0.98      ]\n",
      "  [0.148      0.852     ]\n",
      "  ...\n",
      "  [0.127      0.873     ]\n",
      "  [0.081      0.919     ]\n",
      "  [1.         0.        ]]\n",
      "\n",
      " [[0.526      0.47399998]\n",
      "  [0.11       0.89      ]\n",
      "  [1.         0.        ]\n",
      "  ...\n",
      "  [0.364      0.63600004]\n",
      "  [0.644      0.356     ]\n",
      "  [0.2        0.8       ]]\n",
      "\n",
      " [[1.         0.        ]\n",
      "  [1.         0.        ]\n",
      "  [1.         0.        ]\n",
      "  ...\n",
      "  [0.74       0.26      ]\n",
      "  [1.         0.        ]\n",
      "  [0.         0.        ]]\n",
      "\n",
      " ...\n",
      "\n",
      " [[0.831      0.16900003]\n",
      "  [0.79       0.20999998]\n",
      "  [0.333      0.667     ]\n",
      "  ...\n",
      "  [1.         0.        ]\n",
      "  [0.243      0.75699997]\n",
      "  [0.         0.        ]]\n",
      "\n",
      " [[1.         1.        ]\n",
      "  [1.         1.        ]\n",
      "  [0.         0.        ]\n",
      "  ...\n",
      "  [1.         1.        ]\n",
      "  [1.         1.        ]\n",
      "  [0.089      0.911     ]]\n",
      "\n",
      " [[0.684      0.31599998]\n",
      "  [0.15       0.85      ]\n",
      "  [0.682      0.31800002]\n",
      "  ...\n",
      "  [0.273      0.727     ]\n",
      "  [0.319      0.681     ]\n",
      "  [0.987      0.01300001]]]\n",
      "Invalid mask: [[False False False ... False False False]\n",
      " [False False False ... False False False]\n",
      " [False False False ... False False  True]\n",
      " ...\n",
      " [False False False ... False False  True]\n",
      " [ True  True  True ...  True  True False]\n",
      " [False False False ... False False False]]\n",
      "Violating domains: [[False False False ... False False False]\n",
      " [False False False ... False False False]\n",
      " [False False False ... False False False]\n",
      " ...\n",
      " [False False False ... False False False]\n",
      " [False False False ... False False False]\n",
      " [False False False ... False False False]]\n",
      "Is repeat: [ True  True  True ...  True  True  True]\n"
     ]
    }
   ],
   "source": [
    "## filter by session type\n",
    "repeat_mask = core.assign_repeat(test_x)"
   ]
  },
  {
   "cell_type": "code",
   "execution_count": 12,
   "id": "a5248661",
   "metadata": {},
   "outputs": [
    {
     "data": {
      "text/plain": [
       "np.int64(956635)"
      ]
     },
     "execution_count": 12,
     "metadata": {},
     "output_type": "execute_result"
    }
   ],
   "source": [
    "repeat_mask.sum()"
   ]
  },
  {
   "cell_type": "code",
   "execution_count": 13,
   "id": "baeea979",
   "metadata": {},
   "outputs": [],
   "source": [
    "# if run type is repeat, filter for only repeat sessions\n",
    "# if run type is non-repeat, filter for only non-repeat sessions\n",
    "if run_type == \"repeat\":\n",
    "    test_x = test_x[repeat_mask]\n",
    "    test_y = test_y[repeat_mask]\n",
    "    test_predictions = test_predictions[repeat_mask]\n",
    "elif run_type == \"non-repeat\":\n",
    "    test_x = test_x[~repeat_mask]\n",
    "    test_y = test_y[~repeat_mask]\n",
    "    test_predictions = test_predictions[~repeat_mask]"
   ]
  },
  {
   "cell_type": "code",
   "execution_count": 14,
   "id": "1c6641ed",
   "metadata": {},
   "outputs": [
    {
     "data": {
      "text/plain": [
       "((956635, 42), (956635, 14), (956635, 14))"
      ]
     },
     "execution_count": 14,
     "metadata": {},
     "output_type": "execute_result"
    }
   ],
   "source": [
    "test_x.shape, test_y.shape, test_predictions.shape"
   ]
  },
  {
   "cell_type": "markdown",
   "id": "5370fd01",
   "metadata": {},
   "source": [
    "(1) find ground truth std and prediction MAE"
   ]
  },
  {
   "cell_type": "code",
   "execution_count": 15,
   "id": "ccba9fd5",
   "metadata": {},
   "outputs": [],
   "source": [
    "encoding, cur_score = core.split_encoding_and_scores(test_x, dims=14)\n",
    "future_score_gt = test_y\n",
    "\n",
    "mean_errors_list = []\n",
    "ground_truth_std_list = []\n",
    "ground_truth_dict = {}\n",
    "missing_counts = list(range(0, 14))"
   ]
  },
  {
   "cell_type": "code",
   "execution_count": null,
   "id": "e211ac76",
   "metadata": {},
   "outputs": [],
   "source": [
    "def filter_target_scores(scores, mask):\n",
    "    return scores[mask]"
   ]
  },
  {
   "cell_type": "code",
   "execution_count": null,
   "id": "ae8905e4",
   "metadata": {},
   "outputs": [
    {
     "name": "stdout",
     "output_type": "stream",
     "text": [
      "Missing count: 0, Filtered sessions: 287259\n",
      "Error:  [0.0265224  0.00453085 0.01405674 0.02137053 0.04338043]\n",
      "Mean error: 0.026774095371365547, Ground truth std: 0.27786117792129517\n",
      "Missing count: 1, Filtered sessions: 213585\n",
      "Error:  [0.05821663 0.00101447 0.0365001  0.00303726 0.02897394]\n",
      "Mean error: 0.026360534131526947, Ground truth std: 0.2737821042537689\n",
      "Missing count: 2, Filtered sessions: 142808\n",
      "Error:  [0.01897442 0.00881934 0.06706345 0.01246332 0.01011223]\n",
      "Mean error: 0.027204066514968872, Ground truth std: 0.268984854221344\n",
      "Missing count: 3, Filtered sessions: 101158\n",
      "Error:  [0.01628518 0.04109797 0.07906926 0.01974225 0.0133357 ]\n",
      "Mean error: 0.027373746037483215, Ground truth std: 0.2591855823993683\n",
      "Missing count: 4, Filtered sessions: 78571\n",
      "Error:  [0.00039792 0.00639565 0.01421417 0.00750223 0.09090641]\n",
      "Mean error: 0.02792111411690712, Ground truth std: 0.2591993510723114\n",
      "Missing count: 5, Filtered sessions: 53932\n",
      "Error:  [0.04986393 0.03560287 0.00231993 0.00860023 0.07532515]\n",
      "Mean error: 0.02981286309659481, Ground truth std: 0.2561073899269104\n",
      "Missing count: 6, Filtered sessions: 35021\n",
      "Error:  [0.01639336 0.01254609 0.06102797 0.00883299 0.010557  ]\n",
      "Mean error: 0.03224461153149605, Ground truth std: 0.25975140929222107\n",
      "Missing count: 7, Filtered sessions: 21260\n",
      "Error:  [0.03968549 0.00718188 0.07139993 0.03178978 0.03151435]\n",
      "Mean error: 0.03743864223361015, Ground truth std: 0.2595677077770233\n",
      "Missing count: 8, Filtered sessions: 11809\n",
      "Error:  [0.10584164 0.05784607 0.01450115 0.08971518 0.1696707 ]\n",
      "Mean error: 0.03658246994018555, Ground truth std: 0.27059975266456604\n",
      "Missing count: 9, Filtered sessions: 6699\n",
      "Error:  [0.01965058 0.08944115 0.01186675 0.00271595 0.04915868]\n",
      "Mean error: 0.04435831308364868, Ground truth std: 0.2537880837917328\n",
      "Missing count: 10, Filtered sessions: 3415\n",
      "Error:  [1.5748262e-02 6.9253236e-02 5.6406856e-02 4.9110785e-02 8.8125467e-05]\n",
      "Mean error: 0.054936282336711884, Ground truth std: 0.2776871919631958\n",
      "Missing count: 11, Filtered sessions: 811\n",
      "Error:  [0.05937302 0.00641702 0.03048658 0.03569031 0.01057309]\n",
      "Mean error: 0.05490605905652046, Ground truth std: 0.2509267330169678\n",
      "Missing count: 12, Filtered sessions: 227\n",
      "Error:  [0.04780239 0.01386476 0.04431987 0.1740869  0.02033162]\n",
      "Mean error: 0.051262639462947845, Ground truth std: 0.24399912357330322\n",
      "Missing count: 13, Filtered sessions: 80\n",
      "Error:  [0.22445796 0.04564637 0.09526607 0.63087016 0.01107249]\n",
      "Mean error: 0.0969734638929367, Ground truth std: 0.2385472059249878\n"
     ]
    }
   ],
   "source": [
    "for n in missing_counts:\n",
    "    filter_mask = core.filter_sessions_by_missing_count(cur_score, n)\n",
    "    filtered_encoding = encoding[filter_mask]\n",
    "    filtered_gt = future_score_gt[filter_mask][filtered_encoding == 1]\n",
    "    filtered_pred = test_predictions[filter_mask][filtered_encoding == 1]\n",
    "\n",
    "    ground_truth_dict[str(n)] = filtered_gt\n",
    "\n",
    "    if filtered_gt.size == 0:\n",
    "        mean_errors_list.append(np.nan)\n",
    "        ground_truth_std_list.append(np.nan)\n",
    "        continue\n",
    "\n",
    "    mean_error, std_dev = core.compute_errors(filtered_gt, filtered_pred)\n",
    "    mean_errors_list.append(mean_error)\n",
    "    ground_truth_std_list.append(std_dev)"
   ]
  },
  {
   "cell_type": "code",
   "execution_count": 28,
   "id": "105cacae",
   "metadata": {},
   "outputs": [
    {
     "data": {
      "image/png": "[encoded data removed]",
      "text/plain": [
       "<Figure size 800x500 with 1 Axes>"
      ]
     },
     "metadata": {},
     "output_type": "display_data"
    }
   ],
   "source": [
    "# plot error by missing count and save figure\n",
    "viz.plot_error_by_missing_count(\n",
    "    missing_counts=missing_counts,\n",
    "    std=ground_truth_std_list,\n",
    "    error=mean_errors_list,\n",
    "    run_type=run_type\n",
    ")"
   ]
  },
  {
   "cell_type": "markdown",
   "id": "17171cf8",
   "metadata": {},
   "source": [
    "(2) predict scores based on strategy"
   ]
  },
  {
   "cell_type": "code",
   "execution_count": 29,
   "id": "340074c0",
   "metadata": {},
   "outputs": [],
   "source": [
    "# ground truth original scores\n",
    "_, scores_gt = core.split_encoding_and_scores(test_x, dims=14)"
   ]
  },
  {
   "cell_type": "code",
   "execution_count": 30,
   "id": "0e8d0e0d",
   "metadata": {},
   "outputs": [],
   "source": [
    "# ground truth future scores\n",
    "future_scores_gt = test_predictions"
   ]
  },
  {
   "cell_type": "code",
   "execution_count": 31,
   "id": "b6e68986",
   "metadata": {},
   "outputs": [
    {
     "data": {
      "text/plain": [
       "((956635, 28), (956635, 14))"
      ]
     },
     "execution_count": 31,
     "metadata": {},
     "output_type": "execute_result"
    }
   ],
   "source": [
    "scores_gt.shape, future_score_gt.shape"
   ]
  },
  {
   "cell_type": "code",
   "execution_count": 32,
   "id": "fe8b0c7b",
   "metadata": {},
   "outputs": [
    {
     "name": "stdout",
     "output_type": "stream",
     "text": [
      "============= domain 1\n",
      "encoding:  [[1 0 0 ... 0 0 0]\n",
      " [1 0 0 ... 0 0 0]\n",
      " [1 0 0 ... 0 0 0]\n",
      " ...\n",
      " [1 0 0 ... 0 0 0]\n",
      " [1 0 0 ... 0 0 0]\n",
      " [1 0 0 ... 0 0 0]]\n",
      "data put in model tensor([[1.0000, 0.0000, 0.0000,  ..., 0.9190, 1.0000, 0.0000],\n",
      "        [1.0000, 0.0000, 0.0000,  ..., 0.3560, 0.2000, 0.8000],\n",
      "        [1.0000, 0.0000, 0.0000,  ..., 0.0000, 0.0000, 0.0000],\n",
      "        ...,\n",
      "        [1.0000, 0.0000, 0.0000,  ..., 0.7570, 0.0000, 0.0000],\n",
      "        [1.0000, 0.0000, 0.0000,  ..., 1.0000, 0.0890, 0.9110],\n",
      "        [1.0000, 0.0000, 0.0000,  ..., 0.6810, 0.9870, 0.0130]])\n",
      "prediction:  [[ 5.2031422e-01 -1.2150735e-02  2.5378298e-03 ... -1.6408041e-03\n",
      "  -3.8042609e-03  1.2432907e-02]\n",
      " [ 5.3318685e-01  2.9696822e-03  7.1362052e-03 ... -1.1826903e-03\n",
      "  -2.1750717e-03 -2.7329102e-04]\n",
      " [ 9.7878426e-01  8.7643415e-03  3.4796651e-03 ... -1.2176044e-02\n",
      "   1.3801077e-02  3.7907399e-03]\n",
      " ...\n",
      " [ 8.5447842e-01 -1.4362365e-02  2.7268557e-03 ...  1.8881731e-02\n",
      "   9.7842943e-03  8.8515319e-04]\n",
      " [ 3.2938012e-01  9.0862885e-03  7.6264953e-03 ... -6.2839687e-03\n",
      "  -9.9035166e-03 -1.4026434e-02]\n",
      " [ 6.7328137e-01 -4.3382719e-03  1.8013408e-03 ...  1.4003269e-02\n",
      "  -2.0383447e-03  2.0254774e-02]]\n",
      "============= domain 2\n",
      "encoding:  [[0 1 0 ... 0 0 0]\n",
      " [0 1 0 ... 0 0 0]\n",
      " [0 1 0 ... 0 0 0]\n",
      " ...\n",
      " [0 1 0 ... 0 0 0]\n",
      " [0 1 0 ... 0 0 0]\n",
      " [0 1 0 ... 0 0 0]]\n",
      "data put in model tensor([[0.0000, 1.0000, 0.0000,  ..., 0.9190, 1.0000, 0.0000],\n",
      "        [0.0000, 1.0000, 0.0000,  ..., 0.3560, 0.2000, 0.8000],\n",
      "        [0.0000, 1.0000, 0.0000,  ..., 0.0000, 0.0000, 0.0000],\n",
      "        ...,\n",
      "        [0.0000, 1.0000, 0.0000,  ..., 0.7570, 0.0000, 0.0000],\n",
      "        [0.0000, 1.0000, 0.0000,  ..., 1.0000, 0.0890, 0.9110],\n",
      "        [0.0000, 1.0000, 0.0000,  ..., 0.6810, 0.9870, 0.0130]])\n",
      "prediction:  [[-6.25947863e-03  5.74192181e-02 -1.09841395e-02 ...  3.59600782e-03\n",
      "  -1.64482743e-02  7.82528706e-03]\n",
      " [-1.04600936e-03  1.53567255e-01  5.61252236e-05 ...  4.75430489e-03\n",
      "   5.63628599e-03 -4.73220740e-03]\n",
      " [ 5.10431826e-04  9.74710643e-01  1.81246083e-03 ... -1.71062276e-02\n",
      "  -2.22329609e-03 -5.45743387e-03]\n",
      " ...\n",
      " [ 2.83658504e-03  8.01571488e-01  3.93780507e-03 ...  7.57671893e-03\n",
      "  -5.96729433e-03  1.09141711e-02]\n",
      " [-6.01258874e-03  3.14192712e-01 -1.85059384e-03 ...  7.93620944e-03\n",
      "  -1.86146349e-02 -2.14357991e-02]\n",
      " [-6.24358654e-03  2.29009897e-01  6.26021717e-03 ...  7.10576773e-03\n",
      "  -7.09372922e-04  1.43480301e-03]]\n",
      "============= domain 3\n",
      "encoding:  [[0 0 1 ... 0 0 0]\n",
      " [0 0 1 ... 0 0 0]\n",
      " [0 0 1 ... 0 0 0]\n",
      " ...\n",
      " [0 0 1 ... 0 0 0]\n",
      " [0 0 1 ... 0 0 0]\n",
      " [0 0 1 ... 0 0 0]]\n",
      "data put in model tensor([[0.0000, 0.0000, 1.0000,  ..., 0.9190, 1.0000, 0.0000],\n",
      "        [0.0000, 0.0000, 1.0000,  ..., 0.3560, 0.2000, 0.8000],\n",
      "        [0.0000, 0.0000, 1.0000,  ..., 0.0000, 0.0000, 0.0000],\n",
      "        ...,\n",
      "        [0.0000, 0.0000, 1.0000,  ..., 0.7570, 0.0000, 0.0000],\n",
      "        [0.0000, 0.0000, 1.0000,  ..., 1.0000, 0.0890, 0.9110],\n",
      "        [0.0000, 0.0000, 1.0000,  ..., 0.6810, 0.9870, 0.0130]])\n",
      "prediction:  [[ 1.6089231e-03 -1.6323186e-02  1.4426792e-01 ... -3.0358508e-03\n",
      "  -4.8893616e-02  3.0937959e-03]\n",
      " [ 5.9649944e-03 -3.5853907e-03  9.4657022e-01 ...  3.1828135e-04\n",
      "  -2.3072830e-04 -7.6242499e-03]\n",
      " [ 2.0369790e-02 -5.3812489e-03  9.5622170e-01 ... -6.3450262e-03\n",
      "  -1.9432475e-03 -5.7656793e-03]\n",
      " ...\n",
      " [ 2.1560863e-02 -1.8846422e-02  3.5356030e-01 ...  5.0582305e-02\n",
      "  -2.4209263e-02  2.0400601e-02]\n",
      " [-2.8544962e-03  1.0409541e-02  6.3165480e-01 ... -1.2779556e-02\n",
      "  -8.3491094e-03 -6.3560298e-03]\n",
      " [-1.1311322e-03 -9.0905130e-03  6.4378768e-01 ...  5.7163462e-03\n",
      "  -1.3398002e-02  1.2583774e-02]]\n",
      "============= domain 4\n",
      "encoding:  [[0 0 0 ... 0 0 0]\n",
      " [0 0 0 ... 0 0 0]\n",
      " [0 0 0 ... 0 0 0]\n",
      " ...\n",
      " [0 0 0 ... 0 0 0]\n",
      " [0 0 0 ... 0 0 0]\n",
      " [0 0 0 ... 0 0 0]]\n",
      "data put in model tensor([[0.0000, 0.0000, 0.0000,  ..., 0.9190, 1.0000, 0.0000],\n",
      "        [0.0000, 0.0000, 0.0000,  ..., 0.3560, 0.2000, 0.8000],\n",
      "        [0.0000, 0.0000, 0.0000,  ..., 0.0000, 0.0000, 0.0000],\n",
      "        ...,\n",
      "        [0.0000, 0.0000, 0.0000,  ..., 0.7570, 0.0000, 0.0000],\n",
      "        [0.0000, 0.0000, 0.0000,  ..., 1.0000, 0.0890, 0.9110],\n",
      "        [0.0000, 0.0000, 0.0000,  ..., 0.6810, 0.9870, 0.0130]])\n",
      "prediction:  [[ 5.43951988e-04 -1.35509223e-02 -5.77928685e-03 ... -1.15477890e-02\n",
      "  -2.95112301e-02  5.97026199e-04]\n",
      " [-1.44134462e-03 -3.61483544e-03  1.37546165e-02 ... -4.57389653e-03\n",
      "   1.74396404e-03 -1.32559286e-02]\n",
      " [ 2.24395394e-02  1.34281740e-02  7.66682997e-03 ... -1.40181184e-02\n",
      "  -5.91110438e-05  9.63701308e-03]\n",
      " ...\n",
      " [ 2.08172053e-02 -6.39532506e-03 -1.22827739e-02 ...  4.46599498e-02\n",
      "  -4.84664808e-04  5.67734055e-03]\n",
      " [-3.37203592e-03  3.98858637e-03 -2.31424905e-03 ... -1.28899515e-03\n",
      "  -1.56491157e-02 -2.30094511e-02]\n",
      " [ 1.86835974e-03 -9.02312249e-03  6.27895351e-03 ... -1.57558173e-03\n",
      "  -9.95831564e-03  1.58955995e-02]]\n",
      "============= domain 5\n",
      "encoding:  [[0 0 0 ... 0 0 0]\n",
      " [0 0 0 ... 0 0 0]\n",
      " [0 0 0 ... 0 0 0]\n",
      " ...\n",
      " [0 0 0 ... 0 0 0]\n",
      " [0 0 0 ... 0 0 0]\n",
      " [0 0 0 ... 0 0 0]]\n",
      "data put in model tensor([[0.0000, 0.0000, 0.0000,  ..., 0.9190, 1.0000, 0.0000],\n",
      "        [0.0000, 0.0000, 0.0000,  ..., 0.3560, 0.2000, 0.8000],\n",
      "        [0.0000, 0.0000, 0.0000,  ..., 0.0000, 0.0000, 0.0000],\n",
      "        ...,\n",
      "        [0.0000, 0.0000, 0.0000,  ..., 0.7570, 0.0000, 0.0000],\n",
      "        [0.0000, 0.0000, 0.0000,  ..., 1.0000, 0.0890, 0.9110],\n",
      "        [0.0000, 0.0000, 0.0000,  ..., 0.6810, 0.9870, 0.0130]])\n",
      "prediction:  [[-0.0077179  -0.00015062 -0.01139834 ... -0.00447559 -0.01783549\n",
      "   0.00650704]\n",
      " [-0.00035062  0.00790921  0.00258584 ... -0.00618959  0.00735484\n",
      "   0.00349877]\n",
      " [ 0.00021654  0.0087962   0.00661639 ... -0.01271971 -0.00026201\n",
      "   0.00312868]\n",
      " ...\n",
      " [-0.01194318 -0.01196401 -0.01313143 ...  0.00846916  0.00131567\n",
      "   0.0031647 ]\n",
      " [ 0.00068174  0.00280536  0.00224663 ... -0.00738533  0.00515383\n",
      "  -0.01031554]\n",
      " [-0.00244622  0.00090206  0.00411412 ...  0.00303008 -0.00422363\n",
      "   0.00713557]]\n",
      "============= domain 6\n",
      "encoding:  [[0 0 0 ... 0 0 0]\n",
      " [0 0 0 ... 0 0 0]\n",
      " [0 0 0 ... 0 0 0]\n",
      " ...\n",
      " [0 0 0 ... 0 0 0]\n",
      " [0 0 0 ... 0 0 0]\n",
      " [0 0 0 ... 0 0 0]]\n",
      "data put in model tensor([[0.0000, 0.0000, 0.0000,  ..., 0.9190, 1.0000, 0.0000],\n",
      "        [0.0000, 0.0000, 0.0000,  ..., 0.3560, 0.2000, 0.8000],\n",
      "        [0.0000, 0.0000, 0.0000,  ..., 0.0000, 0.0000, 0.0000],\n",
      "        ...,\n",
      "        [0.0000, 0.0000, 0.0000,  ..., 0.7570, 0.0000, 0.0000],\n",
      "        [0.0000, 0.0000, 0.0000,  ..., 1.0000, 0.0890, 0.9110],\n",
      "        [0.0000, 0.0000, 0.0000,  ..., 0.6810, 0.9870, 0.0130]])\n",
      "prediction:  [[-0.00209896 -0.01433964 -0.00037836 ...  0.00130852 -0.0121602\n",
      "   0.01143   ]\n",
      " [-0.0044006   0.00626632  0.01567511 ...  0.00093439  0.00134457\n",
      "  -0.00993051]\n",
      " [ 0.01791042 -0.00171351  0.00941906 ... -0.01603553  0.00887773\n",
      "   0.00738629]\n",
      " ...\n",
      " [ 0.02019601 -0.02347358 -0.00406438 ...  0.02021672 -0.0013543\n",
      "  -0.00117562]\n",
      " [-0.00618345  0.00480535  0.00139664 ... -0.00385384 -0.00751391\n",
      "  -0.01775756]\n",
      " [-0.00344249 -0.00805869 -0.0022924  ...  0.00960048 -0.00207786\n",
      "   0.01535493]]\n",
      "============= domain 7\n",
      "encoding:  [[0 0 0 ... 0 0 0]\n",
      " [0 0 0 ... 0 0 0]\n",
      " [0 0 0 ... 0 0 0]\n",
      " ...\n",
      " [0 0 0 ... 0 0 0]\n",
      " [0 0 0 ... 0 0 0]\n",
      " [0 0 0 ... 0 0 0]]\n",
      "data put in model tensor([[0.0000, 0.0000, 0.0000,  ..., 0.9190, 1.0000, 0.0000],\n",
      "        [0.0000, 0.0000, 0.0000,  ..., 0.3560, 0.2000, 0.8000],\n",
      "        [0.0000, 0.0000, 0.0000,  ..., 0.0000, 0.0000, 0.0000],\n",
      "        ...,\n",
      "        [0.0000, 0.0000, 0.0000,  ..., 0.7570, 0.0000, 0.0000],\n",
      "        [0.0000, 0.0000, 0.0000,  ..., 1.0000, 0.0890, 0.9110],\n",
      "        [0.0000, 0.0000, 0.0000,  ..., 0.6810, 0.9870, 0.0130]])\n",
      "prediction:  [[-8.9519694e-03 -1.0786004e-02 -1.2595564e-02 ... -6.9288388e-03\n",
      "  -4.5767601e-04 -5.5597732e-03]\n",
      " [ 5.1109642e-03  3.9737076e-03 -2.0588282e-03 ...  8.4485859e-03\n",
      "   2.4554709e-03 -6.0541844e-03]\n",
      " [ 9.5390379e-03 -1.7135769e-02  1.1352410e-02 ... -1.6443707e-02\n",
      "   2.3054229e-02  3.8339440e-03]\n",
      " ...\n",
      " [ 3.6570504e-03 -2.8410755e-02 -6.5744277e-03 ...  2.8847389e-02\n",
      "   1.1071019e-02  2.5379775e-02]\n",
      " [ 9.4028562e-04  8.0863237e-03  7.4853562e-04 ... -1.4817983e-02\n",
      "  -9.6592419e-03  2.7803667e-03]\n",
      " [-1.4901161e-08 -4.6266615e-04 -2.2662500e-02 ...  8.3730072e-03\n",
      "  -2.4950076e-02  1.9204294e-02]]\n",
      "============= domain 8\n",
      "encoding:  [[0 0 0 ... 0 0 0]\n",
      " [0 0 0 ... 0 0 0]\n",
      " [0 0 0 ... 0 0 0]\n",
      " ...\n",
      " [0 0 0 ... 0 0 0]\n",
      " [0 0 0 ... 0 0 0]\n",
      " [0 0 0 ... 0 0 0]]\n",
      "data put in model tensor([[0.0000, 0.0000, 0.0000,  ..., 0.9190, 1.0000, 0.0000],\n",
      "        [0.0000, 0.0000, 0.0000,  ..., 0.3560, 0.2000, 0.8000],\n",
      "        [0.0000, 0.0000, 0.0000,  ..., 0.0000, 0.0000, 0.0000],\n",
      "        ...,\n",
      "        [0.0000, 0.0000, 0.0000,  ..., 0.7570, 0.0000, 0.0000],\n",
      "        [0.0000, 0.0000, 0.0000,  ..., 1.0000, 0.0890, 0.9110],\n",
      "        [0.0000, 0.0000, 0.0000,  ..., 0.6810, 0.9870, 0.0130]])\n",
      "prediction:  [[-0.02080587  0.00754125 -0.02712329 ... -0.02198521 -0.01059687\n",
      "  -0.02167057]\n",
      " [-0.00021826  0.01837078  0.00673312 ... -0.00059289 -0.00342018\n",
      "  -0.00835859]\n",
      " [ 0.0031312  -0.01548576  0.00468917 ... -0.02199101 -0.00609336\n",
      "  -0.00115594]\n",
      " ...\n",
      " [-0.01397677 -0.00887489  0.00880891 ...  0.03399007 -0.00243911\n",
      "   0.03015584]\n",
      " [-0.00452263  0.0118618   0.00655074 ...  0.00503836 -0.00869486\n",
      "  -0.02087222]\n",
      " [-0.00931355  0.01268712 -0.00995932 ... -0.00184883  0.00551338\n",
      "  -0.02228499]]\n",
      "============= domain 9\n",
      "encoding:  [[0 0 0 ... 0 0 0]\n",
      " [0 0 0 ... 0 0 0]\n",
      " [0 0 0 ... 0 0 0]\n",
      " ...\n",
      " [0 0 0 ... 0 0 0]\n",
      " [0 0 0 ... 0 0 0]\n",
      " [0 0 0 ... 0 0 0]]\n",
      "data put in model tensor([[0.0000, 0.0000, 0.0000,  ..., 0.9190, 1.0000, 0.0000],\n",
      "        [0.0000, 0.0000, 0.0000,  ..., 0.3560, 0.2000, 0.8000],\n",
      "        [0.0000, 0.0000, 0.0000,  ..., 0.0000, 0.0000, 0.0000],\n",
      "        ...,\n",
      "        [0.0000, 0.0000, 0.0000,  ..., 0.7570, 0.0000, 0.0000],\n",
      "        [0.0000, 0.0000, 0.0000,  ..., 1.0000, 0.0890, 0.9110],\n",
      "        [0.0000, 0.0000, 0.0000,  ..., 0.6810, 0.9870, 0.0130]])\n",
      "prediction:  [[-0.00359866 -0.00023218 -0.01391639 ... -0.00655521 -0.02118204\n",
      "  -0.0148479 ]\n",
      " [ 0.00361531 -0.0003367  -0.00125056 ...  0.00315944  0.00505682\n",
      "   0.00068262]\n",
      " [ 0.00908626 -0.00908735  0.00269333 ... -0.00873709  0.0026322\n",
      "   0.00767175]\n",
      " ...\n",
      " [ 0.00142156 -0.01990995  0.01003636 ... -0.00576164  0.01512109\n",
      "   0.00390114]\n",
      " [ 0.01100959  0.00246174 -0.00220482 ...  0.00371315  0.02233826\n",
      "  -0.0065402 ]\n",
      " [-0.0036888  -0.02439294 -0.00346902 ...  0.00362819 -0.00014247\n",
      "   0.01965926]]\n",
      "============= domain 10\n",
      "encoding:  [[0 0 0 ... 0 0 0]\n",
      " [0 0 0 ... 0 0 0]\n",
      " [0 0 0 ... 0 0 0]\n",
      " ...\n",
      " [0 0 0 ... 0 0 0]\n",
      " [0 0 0 ... 0 0 0]\n",
      " [0 0 0 ... 0 0 0]]\n",
      "data put in model tensor([[0.0000, 0.0000, 0.0000,  ..., 0.9190, 1.0000, 0.0000],\n",
      "        [0.0000, 0.0000, 0.0000,  ..., 0.3560, 0.2000, 0.8000],\n",
      "        [0.0000, 0.0000, 0.0000,  ..., 0.0000, 0.0000, 0.0000],\n",
      "        ...,\n",
      "        [0.0000, 0.0000, 0.0000,  ..., 0.7570, 0.0000, 0.0000],\n",
      "        [0.0000, 0.0000, 0.0000,  ..., 1.0000, 0.0890, 0.9110],\n",
      "        [0.0000, 0.0000, 0.0000,  ..., 0.6810, 0.9870, 0.0130]])\n",
      "prediction:  [[-0.00263947 -0.00173313 -0.0009294  ... -0.00319501 -0.01549063\n",
      "  -0.00107432]\n",
      " [ 0.00454032  0.0106585   0.00619083 ... -0.00558113  0.00169098\n",
      "  -0.01249421]\n",
      " [ 0.00210731  0.0029445   0.00017861 ... -0.01688265  0.00158534\n",
      "  -0.00152148]\n",
      " ...\n",
      " [-0.0088249  -0.01359193 -0.00591418 ...  0.00542898 -0.0038764\n",
      "   0.01257349]\n",
      " [-0.00183232  0.00915962 -0.00473787 ...  0.0037942  -0.00343252\n",
      "  -0.0056215 ]\n",
      " [-0.0007348   0.00843935  0.01137123 ...  0.00295724  0.00077125\n",
      "   0.00257191]]\n",
      "============= domain 11\n",
      "encoding:  [[0 0 0 ... 0 0 0]\n",
      " [0 0 0 ... 0 0 0]\n",
      " [0 0 0 ... 0 0 0]\n",
      " ...\n",
      " [0 0 0 ... 0 0 0]\n",
      " [0 0 0 ... 0 0 0]\n",
      " [0 0 0 ... 0 0 0]]\n",
      "data put in model tensor([[0.0000, 0.0000, 0.0000,  ..., 0.9190, 1.0000, 0.0000],\n",
      "        [0.0000, 0.0000, 0.0000,  ..., 0.3560, 0.2000, 0.8000],\n",
      "        [0.0000, 0.0000, 0.0000,  ..., 0.0000, 0.0000, 0.0000],\n",
      "        ...,\n",
      "        [0.0000, 0.0000, 0.0000,  ..., 0.7570, 0.0000, 0.0000],\n",
      "        [0.0000, 0.0000, 0.0000,  ..., 1.0000, 0.0890, 0.9110],\n",
      "        [0.0000, 0.0000, 0.0000,  ..., 0.6810, 0.9870, 0.0130]])\n",
      "prediction:  [[-0.00181445 -0.02535743 -0.04070888 ... -0.00425091 -0.03540993\n",
      "  -0.00479303]\n",
      " [ 0.00805838 -0.01559546  0.01375313 ...  0.01205693  0.00493306\n",
      "  -0.02084221]\n",
      " [ 0.06485354  0.01173288  0.01691175 ...  0.02425474  0.01044453\n",
      "   0.00776277]\n",
      " ...\n",
      " [ 0.03808799 -0.01410364 -0.01131872 ...  0.10894016 -0.00547248\n",
      "  -0.00734258]\n",
      " [-0.0010549  -0.00615167 -0.00408557 ...  0.00502951 -0.02734099\n",
      "  -0.03793235]\n",
      " [ 0.01345229 -0.02012182 -0.01164788 ...  0.01531021 -0.02326541\n",
      "   0.00181013]]\n",
      "============= domain 12\n",
      "encoding:  [[0 0 0 ... 1 0 0]\n",
      " [0 0 0 ... 1 0 0]\n",
      " [0 0 0 ... 1 0 0]\n",
      " ...\n",
      " [0 0 0 ... 1 0 0]\n",
      " [0 0 0 ... 1 0 0]\n",
      " [0 0 0 ... 1 0 0]]\n",
      "data put in model tensor([[0.0000, 0.0000, 0.0000,  ..., 0.9190, 1.0000, 0.0000],\n",
      "        [0.0000, 0.0000, 0.0000,  ..., 0.3560, 0.2000, 0.8000],\n",
      "        [0.0000, 0.0000, 0.0000,  ..., 0.0000, 0.0000, 0.0000],\n",
      "        ...,\n",
      "        [0.0000, 0.0000, 0.0000,  ..., 0.7570, 0.0000, 0.0000],\n",
      "        [0.0000, 0.0000, 0.0000,  ..., 1.0000, 0.0890, 0.9110],\n",
      "        [0.0000, 0.0000, 0.0000,  ..., 0.6810, 0.9870, 0.0130]])\n",
      "prediction:  [[-3.5211667e-03 -1.3945408e-02  1.2366148e-03 ...  1.4089185e-01\n",
      "  -4.3222327e-03  2.3003910e-03]\n",
      " [ 6.6354647e-03  3.1014681e-03  8.0299145e-03 ...  3.5780528e-01\n",
      "   1.8351632e-03  4.3800473e-04]\n",
      " [ 3.5656914e-03  4.6338364e-03  3.0002622e-03 ...  7.3558193e-01\n",
      "   3.8169255e-03 -6.8593211e-04]\n",
      " ...\n",
      " [-2.4249215e-02 -1.4493912e-02  1.8418154e-02 ...  8.7914687e-01\n",
      "  -2.9385947e-03  5.7609808e-03]\n",
      " [-1.3430275e-02  8.7799728e-03  1.5820753e-02 ...  4.3059477e-01\n",
      "  -7.7909753e-03 -9.9293776e-03]\n",
      " [ 1.1690468e-02 -1.3758153e-02  1.2566585e-02 ...  2.7422881e-01\n",
      "   2.9198579e-03  8.8175815e-03]]\n",
      "============= domain 13\n",
      "encoding:  [[0 0 0 ... 0 1 0]\n",
      " [0 0 0 ... 0 1 0]\n",
      " [0 0 0 ... 0 1 0]\n",
      " ...\n",
      " [0 0 0 ... 0 1 0]\n",
      " [0 0 0 ... 0 1 0]\n",
      " [0 0 0 ... 0 1 0]]\n",
      "data put in model tensor([[0.0000, 0.0000, 0.0000,  ..., 0.9190, 1.0000, 0.0000],\n",
      "        [0.0000, 0.0000, 0.0000,  ..., 0.3560, 0.2000, 0.8000],\n",
      "        [0.0000, 0.0000, 0.0000,  ..., 0.0000, 0.0000, 0.0000],\n",
      "        ...,\n",
      "        [0.0000, 0.0000, 0.0000,  ..., 0.7570, 0.0000, 0.0000],\n",
      "        [0.0000, 0.0000, 0.0000,  ..., 1.0000, 0.0890, 0.9110],\n",
      "        [0.0000, 0.0000, 0.0000,  ..., 0.6810, 0.9870, 0.0130]])\n",
      "prediction:  [[-9.59844887e-03 -1.04744509e-02 -4.24030423e-03 ... -1.20783970e-02\n",
      "   1.39216632e-01 -4.33417410e-03]\n",
      " [ 3.77134979e-03 -6.88418746e-04  9.11519118e-03 ... -4.66284156e-03\n",
      "   6.54641807e-01 -1.08717065e-02]\n",
      " [ 1.93059221e-02  3.59211117e-03  6.14691619e-03 ... -7.38043338e-03\n",
      "   9.74892735e-01  2.87329778e-04]\n",
      " ...\n",
      " [-2.65241414e-03 -1.66448802e-02 -2.81050932e-02 ...  4.34891582e-02\n",
      "   2.84520179e-01 -8.39971006e-04]\n",
      " [-9.14902240e-03  4.57718968e-03 -4.50073369e-03 ... -8.28652084e-03\n",
      "   2.62977540e-01 -2.39231829e-02]\n",
      " [-3.31996381e-03 -3.63700837e-03  9.35424305e-03 ... -4.44812328e-03\n",
      "   3.17255914e-01  3.56369093e-03]]\n",
      "============= domain 14\n",
      "encoding:  [[0 0 0 ... 0 0 1]\n",
      " [0 0 0 ... 0 0 1]\n",
      " [0 0 0 ... 0 0 1]\n",
      " ...\n",
      " [0 0 0 ... 0 0 1]\n",
      " [0 0 0 ... 0 0 1]\n",
      " [0 0 0 ... 0 0 1]]\n",
      "data put in model tensor([[0.0000, 0.0000, 0.0000,  ..., 0.9190, 1.0000, 0.0000],\n",
      "        [0.0000, 0.0000, 0.0000,  ..., 0.3560, 0.2000, 0.8000],\n",
      "        [0.0000, 0.0000, 0.0000,  ..., 0.0000, 0.0000, 0.0000],\n",
      "        ...,\n",
      "        [0.0000, 0.0000, 0.0000,  ..., 0.7570, 0.0000, 0.0000],\n",
      "        [0.0000, 0.0000, 0.0000,  ..., 1.0000, 0.0890, 0.9110],\n",
      "        [0.0000, 0.0000, 0.0000,  ..., 0.6810, 0.9870, 0.0130]])\n",
      "prediction:  [[-2.0786151e-03 -6.6886172e-03 -1.0583483e-02 ... -1.4549151e-02\n",
      "  -1.6048150e-02  9.8587346e-01]\n",
      " [ 7.4798614e-04  1.1902653e-02  8.6518843e-04 ... -3.9601326e-03\n",
      "   3.2955296e-03  2.1145900e-01]\n",
      " [ 1.9886568e-03 -2.1226481e-03  1.1181101e-02 ... -1.4740966e-02\n",
      "  -2.1532392e-03  5.9047580e-01]\n",
      " ...\n",
      " [-3.1371638e-03 -2.0267367e-02  1.1027422e-02 ...  1.0132603e-02\n",
      "   1.1754444e-02  5.9611505e-01]\n",
      " [-3.8420111e-03  5.8068410e-03  5.9809592e-03 ...  9.8806173e-03\n",
      "   4.3359138e-03  1.2117222e-01]\n",
      " [-7.1778372e-03 -7.5645745e-05 -5.3523201e-03 ...  8.3596781e-03\n",
      "   2.3393636e-03  9.6900648e-01]]\n"
     ]
    }
   ],
   "source": [
    "# best\n",
    "prediction_list = []\n",
    "rows, cols = test_y.shape\n",
    "_, scores = core.split_encoding_and_scores(test_x, dims=14)\n",
    "for domain in range(14):\n",
    "    print(\"============= domain %d\" % (domain + 1))\n",
    "    encoding = core.create_single_encoding(rows, cols, domain)\n",
    "    print(\"encoding: \", encoding)\n",
    "    tmp_single = core.add_encoding(scores, encoding)\n",
    "    print(\"data put in model\", tmp_single)\n",
    "    single_prediction = shared.inference(model, tmp_single)\n",
    "    print(\"prediction: \", single_prediction)\n",
    "    prediction_list.append(single_prediction[:, domain])\n",
    "\n",
    "prediction_matrix = np.column_stack(prediction_list)\n",
    "difference = prediction_matrix - scores[:, ::2]\n",
    "\n",
    "# find max indices\n",
    "max_values, max_indices = shared.max_prediction_from_difference(difference, prediction_matrix, scores)\n",
    "# reconstruct matrices\n",
    "future_scores_best, best_encoding = core.reconstruct_max_matrices(max_values, max_indices, prediction_matrix.shape)\n"
   ]
  },
  {
   "cell_type": "code",
   "execution_count": 33,
   "id": "1215b46c",
   "metadata": {},
   "outputs": [
    {
     "data": {
      "text/plain": [
       "((956635, 14), (956635, 14))"
      ]
     },
     "execution_count": 33,
     "metadata": {},
     "output_type": "execute_result"
    }
   ],
   "source": [
    "future_scores_best.shape, best_encoding.shape"
   ]
  },
  {
   "cell_type": "code",
   "execution_count": 34,
   "id": "9c396baa",
   "metadata": {},
   "outputs": [],
   "source": [
    "# random\n",
    "future_scores_random = core.find_random_predictions(\n",
    "    model=model,\n",
    "    data=test_x,\n",
    "    run_type=run_type\n",
    ")"
   ]
  },
  {
   "cell_type": "code",
   "execution_count": 35,
   "id": "ae31051f",
   "metadata": {},
   "outputs": [
    {
     "data": {
      "text/plain": [
       "(956635, 14)"
      ]
     },
     "execution_count": 35,
     "metadata": {},
     "output_type": "execute_result"
    }
   ],
   "source": [
    "future_scores_random.shape"
   ]
  },
  {
   "cell_type": "code",
   "execution_count": 36,
   "id": "c149c6a4",
   "metadata": {},
   "outputs": [],
   "source": [
    "average_gt_list = []\n",
    "average_best_list = []\n",
    "average_random_list = []\n",
    "\n",
    "std_gt_list = []\n",
    "std_best_list = []\n",
    "std_random_list = []"
   ]
  },
  {
   "cell_type": "code",
   "execution_count": 37,
   "id": "580757dd",
   "metadata": {},
   "outputs": [],
   "source": [
    "for n in missing_counts:\n",
    "    missing_mask = core.filter_sessions_by_missing_count(scores_gt, n)\n",
    "    \n",
    "    scores_gt_tmp = scores_gt[missing_mask][:, ::2]\n",
    "\n",
    "    future_scores_gt_tmp = future_scores_gt[missing_mask]\n",
    "    future_scores_best_tmp = future_scores_best[missing_mask]\n",
    "    future_scores_random_tmp = future_scores_random[missing_mask]\n",
    "\n",
    "    difference_gt = future_scores_gt_tmp - scores_gt_tmp\n",
    "    difference_best = future_scores_best_tmp - scores_gt_tmp\n",
    "    difference_random = future_scores_random_tmp - scores_gt_tmp\n",
    "\n",
    "    average_gt = np.mean(np.abs(difference_gt))\n",
    "    average_best = np.mean(np.abs(difference_best))\n",
    "    average_random = np.mean(np.abs(difference_random))\n",
    "\n",
    "    std_gt = np.std(difference_gt)\n",
    "    std_best = np.std(difference_best)\n",
    "    std_random = np.std(difference_random)\n",
    "\n",
    "    average_gt_list.append(average_gt)\n",
    "    average_best_list.append(average_best)\n",
    "    average_random_list.append(average_random)\n",
    "\n",
    "    std_gt_list.append(std_gt)\n",
    "    std_best_list.append(std_best)\n",
    "    std_random_list.append(std_random)"
   ]
  },
  {
   "cell_type": "code",
   "execution_count": 38,
   "id": "68d89bb4",
   "metadata": {},
   "outputs": [],
   "source": [
    "import matplotlib.pyplot as plt"
   ]
  },
  {
   "cell_type": "code",
   "execution_count": 39,
   "id": "6492987d",
   "metadata": {},
   "outputs": [
    {
     "data": {
      "image/png": "[encoded data removed]",
      "text/plain": [
       "<Figure size 1000x600 with 1 Axes>"
      ]
     },
     "metadata": {},
     "output_type": "display_data"
    }
   ],
   "source": [
    "# Define x-axis values (number of unknown domains)\n",
    "# Plot with error bars\n",
    "plt.figure(figsize=(10, 6))\n",
    "\n",
    "plt.errorbar(missing_counts, average_best_list, yerr=std_best_list, label=\"Best\", fmt='-o', capsize=5)\n",
    "plt.errorbar(missing_counts, average_random_list, yerr=std_random_list, label=\"Random\", fmt='-o', capsize=5)\n",
    "plt.errorbar(missing_counts, average_gt_list, yerr=std_gt_list, label=\"Ground Truth\", fmt='-o', capsize=5)\n",
    "\n",
    "# Labels and Title\n",
    "plt.xlabel(\"Number of Unknown Domains\")\n",
    "plt.ylabel(\"Average Score\")\n",
    "plt.title(\"Non-Repeat Session Average Score\")\n",
    "\n",
    "# Legend and Grid\n",
    "plt.legend()\n",
    "plt.grid(axis='y', linestyle='--', alpha=0.7)\n",
    "\n",
    "# Show plot\n",
    "plt.show()"
   ]
  },
  {
   "cell_type": "code",
   "execution_count": 40,
   "id": "6ff04989",
   "metadata": {},
   "outputs": [
    {
     "data": {
      "text/plain": [
       "'# get score pairs\\ngt_score_pairs = core.extract_score_pairs(gt_score_pairs)\\npred_score_pairs = core.extract_score_pairs(pred_score_pairs)\\n\\n# find valid score pairs\\nvalid_mask = core.find_missing_mask(gt_score_pairs[:, :, 0], gt_score_pairs[:, :, 1])\\n\\n# filter valid score pairs\\ngt_score_pairs = gt_score_pairs[valid_mask]\\npred_score_pairs = pred_score_pairs[valid_mask]'"
      ]
     },
     "execution_count": 40,
     "metadata": {},
     "output_type": "execute_result"
    }
   ],
   "source": [
    "'''# get score pairs\n",
    "gt_score_pairs = core.extract_score_pairs(gt_score_pairs)\n",
    "pred_score_pairs = core.extract_score_pairs(pred_score_pairs)\n",
    "\n",
    "# find valid score pairs\n",
    "valid_mask = core.find_missing_mask(gt_score_pairs[:, :, 0], gt_score_pairs[:, :, 1])\n",
    "\n",
    "# filter valid score pairs\n",
    "gt_score_pairs = gt_score_pairs[valid_mask]\n",
    "pred_score_pairs = pred_score_pairs[valid_mask]'''\n",
    "\n"
   ]
  }
 ],
 "metadata": {
  "kernelspec": {
   "display_name": "CT",
   "language": "python",
   "name": "python3"
  },
  "language_info": {
   "codemirror_mode": {
    "name": "ipython",
    "version": 3
   },
   "file_extension": ".py",
   "mimetype": "text/x-python",
   "name": "python",
   "nbconvert_exporter": "python",
   "pygments_lexer": "ipython3",
   "version": "3.12.11"
  }
 },
 "nbformat": 4,
 "nbformat_minor": 5
}
