{
 "cells": [
  {
   "cell_type": "markdown",
   "id": "66ba9fc5",
   "metadata": {},
   "source": [
    "Set Working Directory"
   ]
  },
  {
   "cell_type": "code",
   "execution_count": 1,
   "id": "dfe4dde7",
   "metadata": {},
   "outputs": [
    {
     "data": {
      "text/plain": [
       "'/Users/964505/CT/ct_research/v2'"
      ]
     },
     "execution_count": 1,
     "metadata": {},
     "output_type": "execute_result"
    }
   ],
   "source": [
    "import os\n",
    "os.chdir('..')\n",
    "os.getcwd()"
   ]
  },
  {
   "cell_type": "markdown",
   "id": "612c0f6d",
   "metadata": {},
   "source": [
    "Packages"
   ]
  },
  {
   "cell_type": "code",
   "execution_count": 2,
   "id": "45ac0d12",
   "metadata": {},
   "outputs": [],
   "source": [
    "import yaml, torch\n",
    "import numpy as np\n",
    "\n",
    "import src.experiments.file_io as file_io\n",
    "import src.experiments.aggregate_average as core\n",
    "import src.experiments.shared as shared\n",
    "import src.viz.aggregate_average as viz\n",
    "\n",
    "from pathlib import Path\n",
    "from datetime import datetime\n",
    "\n",
    "from src.utils.reproducibility import set_global_seed\n",
    "from src.utils.metadata import get_git_commit_hash\n",
    "from src.utils.config_loading import load_yaml_config"
   ]
  },
  {
   "cell_type": "markdown",
   "id": "099f0ae0",
   "metadata": {},
   "source": [
    "Functions"
   ]
  },
  {
   "cell_type": "code",
   "execution_count": 3,
   "id": "030a64a7",
   "metadata": {},
   "outputs": [],
   "source": [
    "def compute_score_pair_errors(gt_score_pairs, pred_score_pairs):\n",
    "    # calculate mean absolute error\n",
    "    mean_error = np.mean(np.abs(gt_score_pairs - pred_score_pairs))\n",
    "\n",
    "    # calculate ground truth std\n",
    "    ground_truth_std = np.std(gt_score_pairs, ddof=1)\n",
    "    \n",
    "    return mean_error, ground_truth_std"
   ]
  },
  {
   "cell_type": "code",
   "execution_count": 4,
   "id": "267711e9",
   "metadata": {},
   "outputs": [],
   "source": [
    "def evaluate_error_by_missing_count(test_x, test_y, test_predictions, dims=14):\n",
    "    _, cur_score = core.split_encoding_and_scores(test_x, dims=dims)\n",
    "    future_score_gt = test_y\n",
    "\n",
    "    mean_errors_list = []\n",
    "    ground_truth_std_list = []\n",
    "    ground_truth_dict = {}\n",
    "    missing_counts = list(range(0, dims))\n",
    "\n",
    "    for n in missing_counts:\n",
    "        filter_mask = core.filter_sessions_by_missing_count(cur_score, n)\n",
    "        filtered_gt = future_score_gt[filter_mask]\n",
    "        filtered_pred = test_predictions[filter_mask]\n",
    "\n",
    "        ground_truth_dict[str(n)] = filtered_gt\n",
    "\n",
    "        if filtered_gt.size == 0:\n",
    "            mean_errors_list.append(np.nan)\n",
    "            ground_truth_std_list.append(np.nan)\n",
    "            continue\n",
    "\n",
    "        mean_error, std_dev = compute_score_pair_errors(filtered_gt, filtered_pred)\n",
    "        mean_errors_list.append(mean_error)\n",
    "        ground_truth_std_list.append(std_dev)\n",
    "\n",
    "    return missing_counts, mean_errors_list, ground_truth_std_list, ground_truth_dict"
   ]
  },
  {
   "cell_type": "markdown",
   "id": "76f26020",
   "metadata": {},
   "source": [
    "Script"
   ]
  },
  {
   "cell_type": "code",
   "execution_count": 5,
   "id": "9c2c7584",
   "metadata": {},
   "outputs": [],
   "source": [
    "config_path = \"config/experiments/20250624_aggavg_1.yaml\""
   ]
  },
  {
   "cell_type": "code",
   "execution_count": 6,
   "id": "eb14d08e",
   "metadata": {},
   "outputs": [],
   "source": [
    "# load configuration\n",
    "config = load_yaml_config(config_path)\n",
    "run_type = config[\"settings\"][\"type\"] # repeat vs non-repeat\n",
    "device = config[\"settings\"][\"device\"] # cpu or cuda\n",
    "seed = config[\"settings\"][\"seed\"]\n",
    "\n",
    "data_source = config[\"data\"][\"data_source\"] # npz file with multiple arrays\n",
    "model_source = config[\"data\"][\"model_source\"] # path to the model\n",
    "output_destination = config[\"data\"][\"destination_base\"]"
   ]
  },
  {
   "cell_type": "code",
   "execution_count": 7,
   "id": "ad78497b",
   "metadata": {},
   "outputs": [],
   "source": [
    "## general setup\n",
    "figure_names = [\"accuracy_assessment.png\", \"aggregate_average.png\"]\n",
    "\n",
    "\n",
    "## set global seed\n",
    "set_global_seed(seed)\n",
    "\n",
    "## get git commit hash\n",
    "git_commit_hash = get_git_commit_hash()"
   ]
  },
  {
   "cell_type": "code",
   "execution_count": 8,
   "id": "243ede53",
   "metadata": {},
   "outputs": [
    {
     "name": "stderr",
     "output_type": "stream",
     "text": [
      "/var/folders/sq/wczx8z_50yn5szt1q9b333fr0000gp/T/ipykernel_69155/3487135197.py:16: FutureWarning: You are using `torch.load` with `weights_only=False` (the current default value), which uses the default pickle module implicitly. It is possible to construct malicious pickle data which will execute arbitrary code during unpickling (See https://github.com/pytorch/pytorch/blob/main/SECURITY.md#untrusted-models for more details). In a future release, the default value for `weights_only` will be flipped to `True`. This limits the functions that could be executed during unpickling. Arbitrary objects will no longer be allowed to be loaded via this mode unless they are explicitly allowlisted by the user via `torch.serialization.add_safe_globals`. We recommend you start setting `weights_only=True` for any use case where you don't have full control of the loaded file. Please open an issue on GitHub for any issues related to this experimental feature.\n",
      "  model = torch.load(\"old_data/model.pt\", map_location=torch.device('cpu'))\n"
     ]
    }
   ],
   "source": [
    "class NN(torch.nn.Module):\n",
    "    def __init__(self):\n",
    "        super().__init__()\n",
    "        n_domains = 14\n",
    "        \n",
    "        self.model = torch.nn.Sequential(\n",
    "            torch.nn.Linear(n_domains * 3, 100),\n",
    "            torch.nn.Sigmoid(),\n",
    "            torch.nn.Linear(100, n_domains)\n",
    "        )\n",
    "\n",
    "    def forward(self, x):\n",
    "        return self.model(x)\n",
    "    \n",
    "model = NN()\n",
    "model = torch.load(\"old_data/model.pt\", map_location=torch.device('cpu'))\n"
   ]
  },
  {
   "cell_type": "code",
   "execution_count": 9,
   "id": "72646ed8",
   "metadata": {},
   "outputs": [],
   "source": [
    "## load model\n",
    "# model = shared.load_model(model_source, device=device)"
   ]
  },
  {
   "cell_type": "code",
   "execution_count": 10,
   "id": "634a2d09",
   "metadata": {},
   "outputs": [],
   "source": [
    "## read data\n",
    "test_data = np.load(\"old_data/next_step_test_data_encoded.npy\")\n",
    "test_data = core.filter_rows_by_sum(test_data, slice(0, 14), 1)\n",
    "from src.training.training_torch import split_input_target\n",
    "\n",
    "test_x, test_y = split_input_target(test_data)\n",
    "test_predictions = shared.inference(model, test_x)\n",
    "test_x = test_x.cpu().numpy()\n",
    "test_y = test_y.cpu().numpy()"
   ]
  },
  {
   "cell_type": "code",
   "execution_count": 11,
   "id": "d62db495",
   "metadata": {},
   "outputs": [
    {
     "data": {
      "text/plain": [
       "((960116, 42), (960116, 14), (960116, 14))"
      ]
     },
     "execution_count": 11,
     "metadata": {},
     "output_type": "execute_result"
    }
   ],
   "source": [
    "test_x.shape, test_y.shape, test_predictions.shape"
   ]
  },
  {
   "cell_type": "code",
   "execution_count": 12,
   "id": "058807ae",
   "metadata": {},
   "outputs": [],
   "source": [
    "## filter by session type\n",
    "repeat_mask = core.assign_repeat(test_x)"
   ]
  },
  {
   "cell_type": "code",
   "execution_count": 13,
   "id": "a5248661",
   "metadata": {},
   "outputs": [
    {
     "data": {
      "text/plain": [
       "np.int64(956635)"
      ]
     },
     "execution_count": 13,
     "metadata": {},
     "output_type": "execute_result"
    }
   ],
   "source": [
    "repeat_mask.sum()"
   ]
  },
  {
   "cell_type": "code",
   "execution_count": 14,
   "id": "baeea979",
   "metadata": {},
   "outputs": [],
   "source": [
    "# if run type is repeat, filter for only repeat sessions\n",
    "# if run type is non-repeat, filter for only non-repeat sessions\n",
    "if run_type == \"repeat\":\n",
    "    test_x = test_x[repeat_mask]\n",
    "    test_y = test_y[repeat_mask]\n",
    "    test_predictions = test_predictions[repeat_mask]\n",
    "elif run_type == \"non-repeat\":\n",
    "    test_x = test_x[~repeat_mask]\n",
    "    test_y = test_y[~repeat_mask]\n",
    "    test_predictions = test_predictions[~repeat_mask]"
   ]
  },
  {
   "cell_type": "code",
   "execution_count": 15,
   "id": "1c6641ed",
   "metadata": {},
   "outputs": [
    {
     "data": {
      "text/plain": [
       "((3481, 42), (3481, 14), (3481, 14))"
      ]
     },
     "execution_count": 15,
     "metadata": {},
     "output_type": "execute_result"
    }
   ],
   "source": [
    "test_x.shape, test_y.shape, test_predictions.shape"
   ]
  },
  {
   "cell_type": "markdown",
   "id": "5370fd01",
   "metadata": {},
   "source": [
    "(1) find ground truth std and prediction MAE"
   ]
  },
  {
   "cell_type": "code",
   "execution_count": 16,
   "id": "ccba9fd5",
   "metadata": {},
   "outputs": [],
   "source": [
    "encoding, cur_score = core.split_encoding_and_scores(test_x, dims=14)\n",
    "future_score_gt = test_y\n",
    "\n",
    "mean_errors_list = []\n",
    "ground_truth_std_list = []\n",
    "ground_truth_dict = {}\n",
    "missing_counts = list(range(0, 14))"
   ]
  },
  {
   "cell_type": "code",
   "execution_count": 17,
   "id": "ae8905e4",
   "metadata": {},
   "outputs": [
    {
     "name": "stdout",
     "output_type": "stream",
     "text": [
      "[0.2876104  0.4296505  0.4011687  0.0851903  0.27029562]\n",
      "[0.1622284  0.19464827 0.00518    0.04114538 0.12566778]\n",
      "[0.18198514 0.3717196  0.38233447 0.2432714  0.42046225]\n",
      "[0.20461869 0.28964305 0.367172   0.4455082  0.04894078]\n",
      "[0.20616391 0.04379207 0.34926343 0.34065694 0.44645172]\n",
      "[0.14445072 0.13663709 0.3495512  0.21210241 0.17301062]\n",
      "[0.25062668 0.35571563 0.31752878 0.04667783 0.03059959]\n",
      "[0.25655875 0.31509745 0.15398023 0.16313604 0.53030574]\n",
      "[0.1634582  0.26381752 0.28953132 0.47590062 0.23813102]\n",
      "[0.24042368 0.2901     0.46093768 0.32261053 0.01683867]\n",
      "[0.00937435 0.13366714 0.1657826  0.0588358  0.21588168]\n",
      "[0.1737738  0.36086518 0.19368663 0.31050175 0.02932262]\n",
      "[0.02686641 0.2653308  0.396949   0.3271251  0.19749919]\n"
     ]
    }
   ],
   "source": [
    "for n in missing_counts:\n",
    "    filter_mask = core.filter_sessions_by_missing_count(cur_score, n)\n",
    "    filtered_encoding = encoding[filter_mask]\n",
    "    filtered_gt = future_score_gt[filter_mask][filtered_encoding == 1]\n",
    "    filtered_pred = test_predictions[filter_mask][filtered_encoding == 1]\n",
    "\n",
    "    ground_truth_dict[str(n)] = filtered_gt\n",
    "\n",
    "    if filtered_gt.size == 0:\n",
    "        mean_errors_list.append(np.nan)\n",
    "        ground_truth_std_list.append(np.nan)\n",
    "        continue\n",
    "\n",
    "    mean_error, std_dev = core.compute_errors(filtered_gt, filtered_pred)\n",
    "    mean_errors_list.append(mean_error)\n",
    "    ground_truth_std_list.append(std_dev)"
   ]
  },
  {
   "cell_type": "code",
   "execution_count": 40,
   "id": "41c222fc",
   "metadata": {},
   "outputs": [
    {
     "data": {
      "text/plain": [
       "[nan,\n",
       " np.float32(0.28071186),\n",
       " np.float32(0.27214304),\n",
       " np.float32(0.26534933),\n",
       " np.float32(0.25225565),\n",
       " np.float32(0.25999567),\n",
       " np.float32(0.2471299),\n",
       " np.float32(0.2688843),\n",
       " np.float32(0.23980716),\n",
       " np.float32(0.24648431),\n",
       " np.float32(0.25723904),\n",
       " np.float32(0.23371357),\n",
       " np.float32(0.22580345),\n",
       " np.float32(0.3227173)]"
      ]
     },
     "execution_count": 40,
     "metadata": {},
     "output_type": "execute_result"
    }
   ],
   "source": [
    "mean_errors_list"
   ]
  },
  {
   "cell_type": "code",
   "execution_count": 20,
   "id": "105cacae",
   "metadata": {},
   "outputs": [
    {
     "data": {
      "image/png": "[encoded data removed]",
      "text/plain": [
       "<Figure size 800x500 with 1 Axes>"
      ]
     },
     "metadata": {},
     "output_type": "display_data"
    }
   ],
   "source": [
    "# plot error by missing count and save figure\n",
    "viz.plot_error_by_missing_count(\n",
    "    x_axis=missing_counts,\n",
    "    std=ground_truth_std_list,\n",
    "    error=mean_errors_list,\n",
    "    run_type=run_type\n",
    ")"
   ]
  },
  {
   "cell_type": "markdown",
   "id": "17171cf8",
   "metadata": {},
   "source": [
    "(2) predict scores based on strategy"
   ]
  },
  {
   "cell_type": "code",
   "execution_count": 21,
   "id": "340074c0",
   "metadata": {},
   "outputs": [],
   "source": [
    "# ground truth original scores\n",
    "encoding, scores_gt = core.split_encoding_and_scores(test_x, dims=14)"
   ]
  },
  {
   "cell_type": "code",
   "execution_count": 22,
   "id": "0e8d0e0d",
   "metadata": {},
   "outputs": [],
   "source": [
    "# ground truth future scores\n",
    "future_scores_gt = test_y"
   ]
  },
  {
   "cell_type": "code",
   "execution_count": 23,
   "id": "b6e68986",
   "metadata": {},
   "outputs": [
    {
     "data": {
      "text/plain": [
       "((3481, 28), (3481, 14))"
      ]
     },
     "execution_count": 23,
     "metadata": {},
     "output_type": "execute_result"
    }
   ],
   "source": [
    "scores_gt.shape, future_scores_gt.shape"
   ]
  },
  {
   "cell_type": "code",
   "execution_count": 24,
   "id": "0abd0885",
   "metadata": {},
   "outputs": [
    {
     "data": {
      "text/plain": [
       "array([[0.        , 0.        , 0.363     , 0.63699996, 0.345     ,\n",
       "        0.655     , 0.413     , 0.587     , 0.205     , 0.795     ,\n",
       "        0.        , 0.        , 0.056     , 0.944     , 0.        ,\n",
       "        0.        , 1.        , 1.        , 0.        , 0.        ,\n",
       "        1.        , 1.        , 0.        , 0.        , 0.279     ,\n",
       "        0.72099996, 1.        , 1.        ],\n",
       "       [0.        , 0.        , 0.        , 0.        , 0.467     ,\n",
       "        0.533     , 0.214     , 0.786     , 0.05      , 0.95      ,\n",
       "        0.684     , 0.31599998, 0.        , 0.        , 0.        ,\n",
       "        1.        , 0.25      , 0.75      , 0.286     , 0.714     ,\n",
       "        1.        , 1.        , 0.        , 0.        , 0.455     ,\n",
       "        0.54499996, 0.        , 0.        ],\n",
       "       [0.632     , 0.36799997, 0.36      , 0.64      , 1.        ,\n",
       "        0.        , 1.        , 0.        , 0.361     , 0.639     ,\n",
       "        0.667     , 0.333     , 0.        , 0.        , 0.333     ,\n",
       "        0.667     , 0.16      , 0.84000003, 0.538     , 0.462     ,\n",
       "        1.        , 0.        , 0.376     , 0.624     , 0.806     ,\n",
       "        0.194     , 0.3       , 0.7       ]], dtype=float32)"
      ]
     },
     "execution_count": 24,
     "metadata": {},
     "output_type": "execute_result"
    }
   ],
   "source": [
    "scores_gt[:3]"
   ]
  },
  {
   "cell_type": "code",
   "execution_count": 25,
   "id": "5a9623af",
   "metadata": {},
   "outputs": [
    {
     "data": {
      "text/plain": [
       "array([[0.   , 0.   , 0.   , 0.   , 0.   , 0.   , 0.   , 0.   , 0.   ,\n",
       "        0.185, 0.   , 0.   , 0.   , 0.   ],\n",
       "       [0.   , 0.   , 0.   , 0.   , 0.   , 0.   , 0.   , 0.   , 0.   ,\n",
       "        0.   , 0.   , 0.   , 0.   , 0.7  ],\n",
       "       [0.   , 0.   , 0.   , 0.   , 0.   , 0.   , 0.278, 0.   , 0.   ,\n",
       "        0.   , 0.   , 0.   , 0.   , 0.   ]], dtype=float32)"
      ]
     },
     "execution_count": 25,
     "metadata": {},
     "output_type": "execute_result"
    }
   ],
   "source": [
    "future_scores_gt[:3]"
   ]
  },
  {
   "cell_type": "code",
   "execution_count": 26,
   "id": "fe8b0c7b",
   "metadata": {},
   "outputs": [],
   "source": [
    "# best\n",
    "prediction_list = []\n",
    "rows, cols = test_y.shape\n",
    "_, scores = core.split_encoding_and_scores(test_x, dims=14)\n",
    "for domain in missing_counts:\n",
    "    single_encoding = core.create_single_encoding(rows, cols, domain)\n",
    "    tmp_single = core.add_encoding(scores, single_encoding)\n",
    "    single_prediction = shared.inference(model, tmp_single)\n",
    "    prediction_list.append(single_prediction[:, domain])\n",
    "\n",
    "prediction_matrix = np.column_stack(prediction_list)\n",
    "difference = prediction_matrix - scores[:, ::2]\n",
    "\n",
    "# find max indices\n",
    "max_values, max_indices = shared.max_prediction_from_difference_pair(difference, prediction_matrix, scores, run_type)\n",
    "# reconstruct matrices\n",
    "future_scores_best, best_encoding = core.reconstruct_max_matrices(max_values, max_indices, prediction_matrix.shape)"
   ]
  },
  {
   "cell_type": "code",
   "execution_count": 27,
   "id": "9c396baa",
   "metadata": {},
   "outputs": [],
   "source": [
    "# random\n",
    "random_encoding, future_scores_random = core.find_random_predictions(\n",
    "    model=model,\n",
    "    data=scores_gt,\n",
    "    run_type=run_type\n",
    ")"
   ]
  },
  {
   "cell_type": "code",
   "execution_count": 28,
   "id": "c149c6a4",
   "metadata": {},
   "outputs": [],
   "source": [
    "average_gt_list = []\n",
    "average_best_list = []\n",
    "average_random_list = []\n",
    "\n",
    "std_gt_list = []\n",
    "std_best_list = []\n",
    "std_random_list = []"
   ]
  },
  {
   "cell_type": "code",
   "execution_count": 29,
   "id": "e5ec6579",
   "metadata": {},
   "outputs": [],
   "source": [
    "def compute_averages_and_stds(cur_scores, future_scores, masks):\n",
    "    \"\"\"\n",
    "    masks: first mask for missing count, second mask for location of target value (encoding == 1)\n",
    "    \"\"\"\n",
    "    difference = future_scores - cur_scores\n",
    "    difference_filtered = core.filter_with_masks(difference, masks)\n",
    "\n",
    "    average = np.mean(difference_filtered)\n",
    "    std_dev = np.std(difference_filtered)\n",
    "\n",
    "    return average, std_dev"
   ]
  },
  {
   "cell_type": "code",
   "execution_count": 30,
   "id": "b01d2f22",
   "metadata": {},
   "outputs": [],
   "source": [
    "# for n in missing_counts:\n",
    "#     # get missing mask\n",
    "#     missing_mask = core.filter_sessions_by_missing_count(scores_gt, n)\n",
    "#     # get original data that fit the missing count\n",
    "#     # call helper calculate ground truth\n",
    "#     compute_averages_and_stds(scores_gt, future_scores_gt, missing_mask)\n",
    "#     # call helper find random predictions and encoding\n",
    "#     future_scores_random = core.find_random_predictions(\n",
    "#         model=model,\n",
    "#         data=test_x,\n",
    "#         run_type=run_type\n",
    "#     )\n",
    "#     # call helper calculate\n",
    "#     compute_averages_and_stds(scores_gt, future_scores_random, missing_mask)\n",
    "#     # call helper find best predictions and encoding\n",
    "#     future_scores_best, best_encoding = core.find_best_predictions(\n",
    "#         model=model,\n",
    "#         data=test_x,\n",
    "#         run_type=run_type\n",
    "#     )\n",
    "#     # call helper calculate\n",
    "#     pass"
   ]
  },
  {
   "cell_type": "code",
   "execution_count": 31,
   "id": "580757dd",
   "metadata": {},
   "outputs": [
    {
     "name": "stderr",
     "output_type": "stream",
     "text": [
      "/opt/anaconda3/envs/CT/lib/python3.12/site-packages/numpy/_core/fromnumeric.py:3860: RuntimeWarning: Mean of empty slice.\n",
      "  return _methods._mean(a, axis=axis, dtype=dtype,\n",
      "/opt/anaconda3/envs/CT/lib/python3.12/site-packages/numpy/_core/_methods.py:145: RuntimeWarning: invalid value encountered in divide\n",
      "  ret = ret.dtype.type(ret / rcount)\n",
      "/opt/anaconda3/envs/CT/lib/python3.12/site-packages/numpy/_core/_methods.py:145: RuntimeWarning: invalid value encountered in scalar divide\n",
      "  ret = ret.dtype.type(ret / rcount)\n",
      "/opt/anaconda3/envs/CT/lib/python3.12/site-packages/numpy/_core/_methods.py:223: RuntimeWarning: Degrees of freedom <= 0 for slice\n",
      "  ret = _var(a, axis=axis, dtype=dtype, out=out, ddof=ddof,\n",
      "/opt/anaconda3/envs/CT/lib/python3.12/site-packages/numpy/_core/_methods.py:181: RuntimeWarning: invalid value encountered in divide\n",
      "  arrmean = um.true_divide(arrmean, div, out=arrmean,\n",
      "/opt/anaconda3/envs/CT/lib/python3.12/site-packages/numpy/_core/_methods.py:215: RuntimeWarning: invalid value encountered in divide\n",
      "  ret = ret.dtype.type(ret / rcount)\n",
      "/opt/anaconda3/envs/CT/lib/python3.12/site-packages/numpy/_core/_methods.py:215: RuntimeWarning: invalid value encountered in scalar divide\n",
      "  ret = ret.dtype.type(ret / rcount)\n"
     ]
    }
   ],
   "source": [
    "for n in missing_counts:\n",
    "    missing_mask = core.filter_sessions_by_missing_count(scores_gt, n)\n",
    "    \n",
    "    scores_gt_tmp = scores_gt[missing_mask][:, ::2]\n",
    "\n",
    "    future_scores_gt_tmp = future_scores_gt[missing_mask]\n",
    "    future_scores_best_tmp = future_scores_best[missing_mask]\n",
    "    future_scores_random_tmp = future_scores_random[missing_mask]\n",
    "\n",
    "    difference_gt = future_scores_gt_tmp - scores_gt_tmp\n",
    "    difference_gt = difference_gt[encoding[missing_mask] == 1]\n",
    "    difference_best = future_scores_best_tmp - scores_gt_tmp\n",
    "    difference_best = difference_best[best_encoding[missing_mask] == 1]\n",
    "    difference_random = future_scores_random_tmp - scores_gt_tmp\n",
    "    difference_random = difference_random[random_encoding[missing_mask] == 1]\n",
    "\n",
    "    average_gt = np.mean(difference_gt)\n",
    "    average_best = np.mean(difference_best)\n",
    "    average_random = np.mean(difference_random)\n",
    "\n",
    "    std_gt = np.std(difference_gt)\n",
    "    std_best = np.std(difference_best)\n",
    "    std_random = np.std(difference_random)\n",
    "\n",
    "    average_gt_list.append(average_gt)\n",
    "    average_best_list.append(average_best)\n",
    "    average_random_list.append(average_random)\n",
    "\n",
    "    std_gt_list.append(std_gt)\n",
    "    std_best_list.append(std_best)\n",
    "    std_random_list.append(std_random)"
   ]
  },
  {
   "cell_type": "code",
   "execution_count": 32,
   "id": "e162d21c",
   "metadata": {},
   "outputs": [
    {
     "data": {
      "text/plain": [
       "array([0, 0, 0, 0, 0, 0, 0, 0, 0, 0, 0, 1, 0, 0])"
      ]
     },
     "execution_count": 32,
     "metadata": {},
     "output_type": "execute_result"
    }
   ],
   "source": [
    "random_encoding[0]"
   ]
  },
  {
   "cell_type": "code",
   "execution_count": 33,
   "id": "51e09d5a",
   "metadata": {},
   "outputs": [
    {
     "data": {
      "text/plain": [
       "array([0.        , 0.        , 0.363     , 0.63699996, 0.345     ,\n",
       "       0.655     , 0.413     , 0.587     , 0.205     , 0.795     ,\n",
       "       0.        , 0.        , 0.056     , 0.944     , 0.        ,\n",
       "       0.        , 1.        , 1.        , 0.        , 0.        ,\n",
       "       1.        , 1.        , 0.        , 0.        , 0.279     ,\n",
       "       0.72099996, 1.        , 1.        ], dtype=float32)"
      ]
     },
     "execution_count": 33,
     "metadata": {},
     "output_type": "execute_result"
    }
   ],
   "source": [
    "test_x[0, 14:]"
   ]
  },
  {
   "cell_type": "code",
   "execution_count": 34,
   "id": "a55cf66c",
   "metadata": {},
   "outputs": [
    {
     "data": {
      "text/plain": [
       "array([0.   , 0.   , 0.   , 0.   , 0.   , 0.   , 0.   , 0.   , 0.   ,\n",
       "       0.185, 0.   , 0.   , 0.   , 0.   ], dtype=float32)"
      ]
     },
     "execution_count": 34,
     "metadata": {},
     "output_type": "execute_result"
    }
   ],
   "source": [
    "test_y[0]"
   ]
  },
  {
   "cell_type": "code",
   "execution_count": 35,
   "id": "ef427aa5",
   "metadata": {},
   "outputs": [
    {
     "data": {
      "text/plain": [
       "array([[1., 0., 0., ..., 1., 1., 1.],\n",
       "       [0., 0., 0., ..., 1., 0., 0.],\n",
       "       [0., 0., 0., ..., 0., 0., 0.],\n",
       "       ...,\n",
       "       [0., 0., 0., ..., 1., 1., 1.],\n",
       "       [0., 0., 0., ..., 0., 0., 0.],\n",
       "       [1., 0., 0., ..., 0., 0., 0.]], shape=(238, 42), dtype=float32)"
      ]
     },
     "execution_count": 35,
     "metadata": {},
     "output_type": "execute_result"
    }
   ],
   "source": [
    "test_x[missing_mask]"
   ]
  },
  {
   "cell_type": "code",
   "execution_count": 36,
   "id": "50a283dc",
   "metadata": {},
   "outputs": [
    {
     "data": {
      "text/plain": [
       "[np.float64(nan),\n",
       " np.float64(-0.014630029391911294),\n",
       " np.float64(0.3015922943665746),\n",
       " np.float64(0.45101285777685846),\n",
       " np.float64(0.4646792173549369),\n",
       " np.float64(0.5020981267237434),\n",
       " np.float64(0.5436452847976622),\n",
       " np.float64(0.5715733372530684),\n",
       " np.float64(0.5969055678163256),\n",
       " np.float64(0.615938292145729),\n",
       " np.float64(0.624950262658093),\n",
       " np.float64(0.6580278628870196),\n",
       " np.float64(0.630164813875352),\n",
       " np.float64(0.6761806048139805)]"
      ]
     },
     "execution_count": 36,
     "metadata": {},
     "output_type": "execute_result"
    }
   ],
   "source": [
    "average_best_list"
   ]
  },
  {
   "cell_type": "code",
   "execution_count": 37,
   "id": "68d89bb4",
   "metadata": {},
   "outputs": [],
   "source": [
    "import matplotlib.pyplot as plt"
   ]
  },
  {
   "cell_type": "code",
   "execution_count": 38,
   "id": "6492987d",
   "metadata": {},
   "outputs": [
    {
     "data": {
      "image/png": "[encoded data removed]",
      "text/plain": [
       "<Figure size 1000x600 with 1 Axes>"
      ]
     },
     "metadata": {},
     "output_type": "display_data"
    }
   ],
   "source": [
    "# Define x-axis values (number of unknown domains)\n",
    "# Plot with error bars\n"
   ]
  },
  {
   "cell_type": "code",
   "execution_count": 39,
   "id": "6ff04989",
   "metadata": {},
   "outputs": [
    {
     "data": {
      "text/plain": [
       "'# get score pairs\\ngt_score_pairs = core.extract_score_pairs(gt_score_pairs)\\npred_score_pairs = core.extract_score_pairs(pred_score_pairs)\\n\\n# find valid score pairs\\nvalid_mask = core.find_missing_mask(gt_score_pairs[:, :, 0], gt_score_pairs[:, :, 1])\\n\\n# filter valid score pairs\\ngt_score_pairs = gt_score_pairs[valid_mask]\\npred_score_pairs = pred_score_pairs[valid_mask]'"
      ]
     },
     "execution_count": 39,
     "metadata": {},
     "output_type": "execute_result"
    }
   ],
   "source": [
    "'''# get score pairs\n",
    "gt_score_pairs = core.extract_score_pairs(gt_score_pairs)\n",
    "pred_score_pairs = core.extract_score_pairs(pred_score_pairs)\n",
    "\n",
    "# find valid score pairs\n",
    "valid_mask = core.find_missing_mask(gt_score_pairs[:, :, 0], gt_score_pairs[:, :, 1])\n",
    "\n",
    "# filter valid score pairs\n",
    "gt_score_pairs = gt_score_pairs[valid_mask]\n",
    "pred_score_pairs = pred_score_pairs[valid_mask]'''\n",
    "\n"
   ]
  }
 ],
 "metadata": {
  "kernelspec": {
   "display_name": "CT",
   "language": "python",
   "name": "python3"
  },
  "language_info": {
   "codemirror_mode": {
    "name": "ipython",
    "version": 3
   },
   "file_extension": ".py",
   "mimetype": "text/x-python",
   "name": "python",
   "nbconvert_exporter": "python",
   "pygments_lexer": "ipython3",
   "version": "3.12.11"
  }
 },
 "nbformat": 4,
 "nbformat_minor": 5
}
