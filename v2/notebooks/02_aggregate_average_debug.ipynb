{
 "cells": [
  {
   "cell_type": "markdown",
   "id": "66ba9fc5",
   "metadata": {},
   "source": [
    "Set Working Directory"
   ]
  },
  {
   "cell_type": "code",
   "execution_count": 1,
   "id": "dfe4dde7",
   "metadata": {},
   "outputs": [
    {
     "data": {
      "text/plain": [
       "'/Users/964505/CT/ct_research/v2'"
      ]
     },
     "execution_count": 1,
     "metadata": {},
     "output_type": "execute_result"
    }
   ],
   "source": [
    "import os\n",
    "os.chdir('..')\n",
    "os.getcwd()"
   ]
  },
  {
   "cell_type": "markdown",
   "id": "612c0f6d",
   "metadata": {},
   "source": [
    "Packages"
   ]
  },
  {
   "cell_type": "code",
   "execution_count": 2,
   "id": "45ac0d12",
   "metadata": {},
   "outputs": [],
   "source": [
    "import yaml\n",
    "import numpy as np\n",
    "\n",
    "import src.experiments.file_io as file_io\n",
    "import src.experiments.aggregate_average as core\n",
    "import src.experiments.shared as shared\n",
    "import src.viz.aggregate_average as viz\n",
    "\n",
    "from pathlib import Path\n",
    "from datetime import datetime\n",
    "\n",
    "from src.utils.reproducibility import set_global_seed\n",
    "from src.utils.metadata import get_git_commit_hash\n",
    "from src.utils.config_loading import load_yaml_config"
   ]
  },
  {
   "cell_type": "markdown",
   "id": "099f0ae0",
   "metadata": {},
   "source": [
    "Functions"
   ]
  },
  {
   "cell_type": "code",
   "execution_count": 3,
   "id": "030a64a7",
   "metadata": {},
   "outputs": [],
   "source": [
    "def compute_score_pair_errors(gt_score_pairs, pred_score_pairs):\n",
    "    # calculate mean absolute error\n",
    "    mean_error = np.mean(np.abs(gt_score_pairs - pred_score_pairs))\n",
    "\n",
    "    # calculate ground truth std\n",
    "    ground_truth_std = np.std(gt_score_pairs)\n",
    "    \n",
    "    return mean_error, ground_truth_std"
   ]
  },
  {
   "cell_type": "code",
   "execution_count": 4,
   "id": "267711e9",
   "metadata": {},
   "outputs": [],
   "source": [
    "def evaluate_error_by_missing_count(test_x, test_y, test_predictions, dims=14):\n",
    "    _, cur_score = core.split_encoding_and_scores(test_x, dims=dims)\n",
    "    future_score_gt = test_y\n",
    "\n",
    "    mean_errors_list = []\n",
    "    ground_truth_std_list = []\n",
    "    ground_truth_dict = {}\n",
    "    missing_counts = list(range(0, dims))\n",
    "\n",
    "    for n in missing_counts:\n",
    "        filter_mask = core.filter_sessions_by_missing_count(cur_score, n)\n",
    "        filtered_gt = future_score_gt[filter_mask]\n",
    "        filtered_pred = test_predictions[filter_mask]\n",
    "\n",
    "        ground_truth_dict[str(n)] = filtered_gt\n",
    "\n",
    "        if filtered_gt.size == 0:\n",
    "            mean_errors_list.append(np.nan)\n",
    "            ground_truth_std_list.append(np.nan)\n",
    "            continue\n",
    "\n",
    "        mean_error, std_dev = compute_score_pair_errors(filtered_gt, filtered_pred)\n",
    "        mean_errors_list.append(mean_error)\n",
    "        ground_truth_std_list.append(std_dev)\n",
    "\n",
    "    return missing_counts, mean_errors_list, ground_truth_std_list, ground_truth_dict"
   ]
  },
  {
   "cell_type": "markdown",
   "id": "76f26020",
   "metadata": {},
   "source": [
    "Script"
   ]
  },
  {
   "cell_type": "code",
   "execution_count": 5,
   "id": "9c2c7584",
   "metadata": {},
   "outputs": [],
   "source": [
    "config_path = \"config/experiments/20250624_aggavg_1.yaml\""
   ]
  },
  {
   "cell_type": "code",
   "execution_count": 6,
   "id": "eb14d08e",
   "metadata": {},
   "outputs": [],
   "source": [
    "# load configuration\n",
    "config = load_yaml_config(config_path)\n",
    "run_type = config[\"settings\"][\"type\"] # repeat vs non-repeat\n",
    "device = config[\"settings\"][\"device\"] # cpu or cuda\n",
    "seed = config[\"settings\"][\"seed\"]\n",
    "\n",
    "data_source = config[\"data\"][\"data_source\"] # npz file with multiple arrays\n",
    "model_source = config[\"data\"][\"model_source\"] # path to the model\n",
    "output_destination = config[\"data\"][\"destination_base\"]"
   ]
  },
  {
   "cell_type": "code",
   "execution_count": 7,
   "id": "ad78497b",
   "metadata": {},
   "outputs": [],
   "source": [
    "## general setup\n",
    "figure_names = [\"accuracy_assessment.png\", \"aggregate_average.png\"]\n",
    "\n",
    "\n",
    "## set global seed\n",
    "set_global_seed(seed)\n",
    "\n",
    "## get git commit hash\n",
    "git_commit_hash = get_git_commit_hash()"
   ]
  },
  {
   "cell_type": "code",
   "execution_count": 8,
   "id": "634a2d09",
   "metadata": {},
   "outputs": [],
   "source": [
    "## read data\n",
    "test_x, test_y = file_io.load_test_data(\n",
    "    file_path=data_source,\n",
    "    file_names=[\"test_x\", \"test_y\"]\n",
    ")\n",
    "\n",
    "test_predictions = file_io.load_saved_test_predictions(\n",
    "    file_path=data_source\n",
    ")"
   ]
  },
  {
   "cell_type": "code",
   "execution_count": 9,
   "id": "d62db495",
   "metadata": {},
   "outputs": [
    {
     "data": {
      "text/plain": [
       "((100000, 42), (100000, 14), (100000, 14))"
      ]
     },
     "execution_count": 9,
     "metadata": {},
     "output_type": "execute_result"
    }
   ],
   "source": [
    "test_x.shape, test_y.shape, test_predictions.shape"
   ]
  },
  {
   "cell_type": "code",
   "execution_count": 10,
   "id": "058807ae",
   "metadata": {},
   "outputs": [],
   "source": [
    "## filter by session type\n",
    "repeat_mask = core.assign_repeat(test_x)"
   ]
  },
  {
   "cell_type": "code",
   "execution_count": 11,
   "id": "a5248661",
   "metadata": {},
   "outputs": [
    {
     "data": {
      "text/plain": [
       "np.int64(97428)"
      ]
     },
     "execution_count": 11,
     "metadata": {},
     "output_type": "execute_result"
    }
   ],
   "source": [
    "repeat_mask.sum()"
   ]
  },
  {
   "cell_type": "code",
   "execution_count": 12,
   "id": "baeea979",
   "metadata": {},
   "outputs": [],
   "source": [
    "# if run type is repeat, filter for only repeat sessions\n",
    "# if run type is non-repeat, filter for only non-repeat sessions\n",
    "if run_type == \"repeat\":\n",
    "    test_x = test_x[repeat_mask]\n",
    "    test_y = test_y[repeat_mask]\n",
    "    test_predictions = test_predictions[repeat_mask]\n",
    "elif run_type == \"non-repeat\":\n",
    "    test_x = test_x[~repeat_mask]\n",
    "    test_y = test_y[~repeat_mask]\n",
    "    test_predictions = test_predictions[~repeat_mask]"
   ]
  },
  {
   "cell_type": "code",
   "execution_count": 13,
   "id": "1c6641ed",
   "metadata": {},
   "outputs": [
    {
     "data": {
      "text/plain": [
       "((97428, 42), (97428, 14), (97428, 14))"
      ]
     },
     "execution_count": 13,
     "metadata": {},
     "output_type": "execute_result"
    }
   ],
   "source": [
    "test_x.shape, test_y.shape, test_predictions.shape"
   ]
  },
  {
   "cell_type": "markdown",
   "id": "5370fd01",
   "metadata": {},
   "source": [
    "(1) find ground truth std and prediction MAE"
   ]
  },
  {
   "cell_type": "code",
   "execution_count": 14,
   "id": "ccba9fd5",
   "metadata": {},
   "outputs": [],
   "source": [
    "_, cur_score = core.split_encoding_and_scores(test_x, dims=14)\n",
    "future_score_gt = test_y\n",
    "\n",
    "mean_errors_list = []\n",
    "ground_truth_std_list = []\n",
    "ground_truth_dict = {}\n",
    "missing_counts = list(range(0, 14))"
   ]
  },
  {
   "cell_type": "code",
   "execution_count": 15,
   "id": "9c680d01",
   "metadata": {},
   "outputs": [],
   "source": [
    "n = 1\n",
    "filter_mask = core.filter_sessions_by_missing_count(cur_score, n)"
   ]
  },
  {
   "cell_type": "code",
   "execution_count": 16,
   "id": "ca3cab61",
   "metadata": {},
   "outputs": [
    {
     "data": {
      "text/plain": [
       "np.int64(22550)"
      ]
     },
     "execution_count": 16,
     "metadata": {},
     "output_type": "execute_result"
    }
   ],
   "source": [
    "filter_mask.sum()"
   ]
  },
  {
   "cell_type": "code",
   "execution_count": 17,
   "id": "6b028fa5",
   "metadata": {},
   "outputs": [],
   "source": [
    "filtered_gt = future_score_gt[filter_mask]\n",
    "filtered_pred = test_predictions[filter_mask]"
   ]
  },
  {
   "cell_type": "code",
   "execution_count": 18,
   "id": "ff8176d4",
   "metadata": {},
   "outputs": [
    {
     "data": {
      "text/plain": [
       "((22550, 14), (22550, 14))"
      ]
     },
     "execution_count": 18,
     "metadata": {},
     "output_type": "execute_result"
    }
   ],
   "source": [
    "filtered_gt.shape, filtered_pred.shape"
   ]
  },
  {
   "cell_type": "code",
   "execution_count": 19,
   "id": "10c4e007",
   "metadata": {},
   "outputs": [],
   "source": [
    "ground_truth_dict[str(n)] = filtered_gt\n",
    "\n",
    "if filtered_gt.size == 0:\n",
    "    mean_errors_list.append(np.nan)\n",
    "    ground_truth_std_list.append(np.nan)"
   ]
  },
  {
   "cell_type": "code",
   "execution_count": 20,
   "id": "303933e4",
   "metadata": {},
   "outputs": [],
   "source": [
    "mean_error, std_dev = compute_score_pair_errors(filtered_gt, filtered_pred)\n",
    "mean_errors_list.append(mean_error)\n",
    "ground_truth_std_list.append(std_dev)"
   ]
  },
  {
   "cell_type": "code",
   "execution_count": 21,
   "id": "c34eb308",
   "metadata": {},
   "outputs": [
    {
     "data": {
      "text/plain": [
       "(np.float32(0.008279069), np.float32(0.17967004))"
      ]
     },
     "execution_count": 21,
     "metadata": {},
     "output_type": "execute_result"
    }
   ],
   "source": [
    "mean_error, std_dev"
   ]
  },
  {
   "cell_type": "code",
   "execution_count": 22,
   "id": "ee7925d9",
   "metadata": {},
   "outputs": [],
   "source": [
    "mean_errors_list = []\n",
    "ground_truth_std_list = []\n",
    "ground_truth_dict = {}\n",
    "missing_counts = list(range(0, 14))"
   ]
  },
  {
   "cell_type": "code",
   "execution_count": 23,
   "id": "ae8905e4",
   "metadata": {},
   "outputs": [],
   "source": [
    "for n in missing_counts:\n",
    "    filter_mask = core.filter_sessions_by_missing_count(cur_score, n)\n",
    "    filtered_gt = future_score_gt[filter_mask]\n",
    "    filtered_pred = test_predictions[filter_mask]\n",
    "\n",
    "    ground_truth_dict[str(n)] = filtered_gt\n",
    "\n",
    "    if filtered_gt.size == 0:\n",
    "        mean_errors_list.append(np.nan)\n",
    "        ground_truth_std_list.append(np.nan)\n",
    "        continue\n",
    "\n",
    "    mean_error, std_dev = compute_score_pair_errors(filtered_gt, filtered_pred)\n",
    "    mean_errors_list.append(mean_error)\n",
    "    ground_truth_std_list.append(std_dev)"
   ]
  },
  {
   "cell_type": "code",
   "execution_count": 24,
   "id": "105cacae",
   "metadata": {},
   "outputs": [
    {
     "data": {
      "image/png": "[encoded data removed]",
      "text/plain": [
       "<Figure size 800x500 with 1 Axes>"
      ]
     },
     "metadata": {},
     "output_type": "display_data"
    }
   ],
   "source": [
    "# plot error by missing count and save figure\n",
    "viz.plot_error_by_missing_count(\n",
    "    missing_counts=missing_counts,\n",
    "    std=ground_truth_std_list,\n",
    "    error=mean_errors_list,\n",
    "    run_type=run_type\n",
    ")"
   ]
  },
  {
   "cell_type": "markdown",
   "id": "17171cf8",
   "metadata": {},
   "source": [
    "(2) predict scores based on strategy"
   ]
  },
  {
   "cell_type": "code",
   "execution_count": 25,
   "id": "7f5f135b",
   "metadata": {},
   "outputs": [],
   "source": [
    "# load model\n",
    "model = shared.load_model(\n",
    "    model_path=model_source,\n",
    "    device=device\n",
    ")"
   ]
  },
  {
   "cell_type": "code",
   "execution_count": 26,
   "id": "340074c0",
   "metadata": {},
   "outputs": [],
   "source": [
    "# ground truth original scores\n",
    "_, scores_gt = core.split_encoding_and_scores(test_x, dims=14)"
   ]
  },
  {
   "cell_type": "code",
   "execution_count": 27,
   "id": "0e8d0e0d",
   "metadata": {},
   "outputs": [],
   "source": [
    "# ground truth future scores\n",
    "future_scores_gt = test_predictions"
   ]
  },
  {
   "cell_type": "code",
   "execution_count": 28,
   "id": "b6e68986",
   "metadata": {},
   "outputs": [
    {
     "data": {
      "text/plain": [
       "((97428, 28), (97428, 14))"
      ]
     },
     "execution_count": 28,
     "metadata": {},
     "output_type": "execute_result"
    }
   ],
   "source": [
    "scores_gt.shape, future_score_gt.shape"
   ]
  },
  {
   "cell_type": "code",
   "execution_count": 29,
   "id": "fe8b0c7b",
   "metadata": {},
   "outputs": [
    {
     "name": "stdout",
     "output_type": "stream",
     "text": [
      "============= domain 1\n",
      "encoding:  [[1 0 0 ... 0 0 0]\n",
      " [1 0 0 ... 0 0 0]\n",
      " [1 0 0 ... 0 0 0]\n",
      " ...\n",
      " [1 0 0 ... 0 0 0]\n",
      " [1 0 0 ... 0 0 0]\n",
      " [1 0 0 ... 0 0 0]]\n",
      "data put in model tensor([[1.0000, 0.0000, 0.0000,  ..., 0.4240, 0.6670, 0.3330],\n",
      "        [1.0000, 0.0000, 0.0000,  ..., 0.1030, 0.9600, 0.0400],\n",
      "        [1.0000, 0.0000, 0.0000,  ..., 0.6220, 0.6470, 0.3530],\n",
      "        ...,\n",
      "        [1.0000, 0.0000, 0.0000,  ..., 0.1210, 0.6670, 0.3330],\n",
      "        [1.0000, 0.0000, 0.0000,  ..., 0.3640, 0.0000, 0.0000],\n",
      "        [1.0000, 0.0000, 0.0000,  ..., 0.2160, 0.9400, 0.0600]])\n",
      "prediction:  [[ 4.2815512e-01 -4.0813610e-03 -4.3222848e-03 ... -1.2307614e-03\n",
      "   3.2396480e-03  5.8489479e-04]\n",
      " [ 4.2995912e-01  7.9433247e-03 -1.9125286e-03 ... -2.8290898e-03\n",
      "   6.9698557e-04  7.1702097e-03]\n",
      " [ 1.4297935e-01  9.6511543e-03  7.3432634e-03 ... -9.1973692e-04\n",
      "   2.4508974e-03 -2.4811793e-03]\n",
      " ...\n",
      " [ 7.1868932e-01  1.9110143e-02  2.5743349e-03 ... -7.0737600e-03\n",
      "   4.3933443e-03  6.7559816e-04]\n",
      " [ 5.8438855e-01 -1.2243420e-02 -7.2719976e-03 ... -1.4558069e-02\n",
      "  -4.7682971e-03  1.1944812e-02]\n",
      " [ 9.0981203e-01  1.5370831e-02  4.3211533e-03 ... -7.0881993e-03\n",
      "   1.0559121e-03  3.9742477e-03]]\n",
      "============= domain 2\n",
      "encoding:  [[0 1 0 ... 0 0 0]\n",
      " [0 1 0 ... 0 0 0]\n",
      " [0 1 0 ... 0 0 0]\n",
      " ...\n",
      " [0 1 0 ... 0 0 0]\n",
      " [0 1 0 ... 0 0 0]\n",
      " [0 1 0 ... 0 0 0]]\n",
      "data put in model tensor([[0.0000, 1.0000, 0.0000,  ..., 0.4240, 0.6670, 0.3330],\n",
      "        [0.0000, 1.0000, 0.0000,  ..., 0.1030, 0.9600, 0.0400],\n",
      "        [0.0000, 1.0000, 0.0000,  ..., 0.6220, 0.6470, 0.3530],\n",
      "        ...,\n",
      "        [0.0000, 1.0000, 0.0000,  ..., 0.1210, 0.6670, 0.3330],\n",
      "        [0.0000, 1.0000, 0.0000,  ..., 0.3640, 0.0000, 0.0000],\n",
      "        [0.0000, 1.0000, 0.0000,  ..., 0.2160, 0.9400, 0.0600]])\n",
      "prediction:  [[ 9.3170702e-03  1.3566615e-01 -2.1899752e-03 ... -7.3704123e-04\n",
      "  -2.8986903e-04 -8.8791177e-03]\n",
      " [ 9.6912831e-03  4.0389991e-01 -2.8432719e-03 ...  6.6981763e-03\n",
      "  -4.3757027e-03 -4.1860668e-03]\n",
      " [-5.2841753e-04  4.8235005e-01  1.2108323e-02 ... -3.7986413e-03\n",
      "   6.1199833e-03 -7.6163886e-03]\n",
      " ...\n",
      " [-1.7646477e-03  9.8051447e-01  6.8545472e-03 ... -1.5607201e-02\n",
      "  -4.1165217e-03 -7.9808012e-04]\n",
      " [-1.0540232e-02  7.4590540e-01 -5.9574470e-04 ... -3.4529045e-03\n",
      "   1.4156456e-02 -7.9326080e-03]\n",
      " [ 2.3864955e-04  9.7455871e-01  8.3399806e-03 ...  1.0441989e-04\n",
      "  -2.0343815e-03  8.3764158e-03]]\n",
      "============= domain 3\n",
      "encoding:  [[0 0 1 ... 0 0 0]\n",
      " [0 0 1 ... 0 0 0]\n",
      " [0 0 1 ... 0 0 0]\n",
      " ...\n",
      " [0 0 1 ... 0 0 0]\n",
      " [0 0 1 ... 0 0 0]\n",
      " [0 0 1 ... 0 0 0]]\n",
      "data put in model tensor([[0.0000, 0.0000, 1.0000,  ..., 0.4240, 0.6670, 0.3330],\n",
      "        [0.0000, 0.0000, 1.0000,  ..., 0.1030, 0.9600, 0.0400],\n",
      "        [0.0000, 0.0000, 1.0000,  ..., 0.6220, 0.6470, 0.3530],\n",
      "        ...,\n",
      "        [0.0000, 0.0000, 1.0000,  ..., 0.1210, 0.6670, 0.3330],\n",
      "        [0.0000, 0.0000, 1.0000,  ..., 0.3640, 0.0000, 0.0000],\n",
      "        [0.0000, 0.0000, 1.0000,  ..., 0.2160, 0.9400, 0.0600]])\n",
      "prediction:  [[ 3.96097451e-03 -1.18930265e-02  8.37704301e-01 ... -8.44568014e-04\n",
      "   7.78001593e-03  3.98793444e-03]\n",
      " [ 6.11916929e-03  2.13789940e-03  9.76423502e-01 ...  4.07396257e-03\n",
      "  -7.53972214e-03  8.25471990e-03]\n",
      " [-1.90558359e-02  1.15672573e-02  4.27061319e-01 ... -1.24158412e-02\n",
      "   4.67489008e-04  4.46124375e-03]\n",
      " ...\n",
      " [-1.25583932e-02  8.42812657e-03  9.65532541e-01 ... -1.60164386e-03\n",
      "  -9.60642751e-03  3.04471515e-03]\n",
      " [-9.60803777e-03  3.28168273e-04  7.61861622e-01 ... -1.89319178e-02\n",
      "  -4.16459795e-03 -1.58019178e-03]\n",
      " [ 1.50591582e-02  1.20723024e-02  9.40147161e-01 ...  7.47998059e-03\n",
      "  -1.52162723e-02  6.83221780e-03]]\n",
      "============= domain 4\n",
      "encoding:  [[0 0 0 ... 0 0 0]\n",
      " [0 0 0 ... 0 0 0]\n",
      " [0 0 0 ... 0 0 0]\n",
      " ...\n",
      " [0 0 0 ... 0 0 0]\n",
      " [0 0 0 ... 0 0 0]\n",
      " [0 0 0 ... 0 0 0]]\n",
      "data put in model tensor([[0.0000, 0.0000, 0.0000,  ..., 0.4240, 0.6670, 0.3330],\n",
      "        [0.0000, 0.0000, 0.0000,  ..., 0.1030, 0.9600, 0.0400],\n",
      "        [0.0000, 0.0000, 0.0000,  ..., 0.6220, 0.6470, 0.3530],\n",
      "        ...,\n",
      "        [0.0000, 0.0000, 0.0000,  ..., 0.1210, 0.6670, 0.3330],\n",
      "        [0.0000, 0.0000, 0.0000,  ..., 0.3640, 0.0000, 0.0000],\n",
      "        [0.0000, 0.0000, 0.0000,  ..., 0.2160, 0.9400, 0.0600]])\n",
      "prediction:  [[ 0.0011436  -0.01950361  0.00048644 ... -0.00242023  0.00505661\n",
      "   0.00050087]\n",
      " [ 0.00035541  0.0034639   0.01021956 ... -0.00174999  0.0024191\n",
      "   0.01131504]\n",
      " [-0.02552339  0.01262091  0.00152966 ... -0.00779016 -0.00235831\n",
      "   0.00685062]\n",
      " ...\n",
      " [-0.00669757  0.02275198  0.0062023  ... -0.00208113 -0.00082717\n",
      "   0.00865938]\n",
      " [-0.0048712   0.00447451  0.00414883 ... -0.02927952  0.00307959\n",
      "   0.00963509]\n",
      " [ 0.01897971  0.03013688  0.00746847 ... -0.01419538  0.00544959\n",
      "   0.0118583 ]]\n",
      "============= domain 5\n",
      "encoding:  [[0 0 0 ... 0 0 0]\n",
      " [0 0 0 ... 0 0 0]\n",
      " [0 0 0 ... 0 0 0]\n",
      " ...\n",
      " [0 0 0 ... 0 0 0]\n",
      " [0 0 0 ... 0 0 0]\n",
      " [0 0 0 ... 0 0 0]]\n",
      "data put in model tensor([[0.0000, 0.0000, 0.0000,  ..., 0.4240, 0.6670, 0.3330],\n",
      "        [0.0000, 0.0000, 0.0000,  ..., 0.1030, 0.9600, 0.0400],\n",
      "        [0.0000, 0.0000, 0.0000,  ..., 0.6220, 0.6470, 0.3530],\n",
      "        ...,\n",
      "        [0.0000, 0.0000, 0.0000,  ..., 0.1210, 0.6670, 0.3330],\n",
      "        [0.0000, 0.0000, 0.0000,  ..., 0.3640, 0.0000, 0.0000],\n",
      "        [0.0000, 0.0000, 0.0000,  ..., 0.2160, 0.9400, 0.0600]])\n",
      "prediction:  [[ 0.0112552  -0.00223844  0.00041269 ... -0.00462707  0.00695773\n",
      "  -0.00461561]\n",
      " [ 0.01409763  0.00763073  0.01176714 ... -0.00326382 -0.00302954\n",
      "   0.00471666]\n",
      " [-0.01154662  0.01034268  0.00389644 ...  0.00025108 -0.00022635\n",
      "  -0.00388841]\n",
      " ...\n",
      " [-0.00037447  0.01251227  0.00370491 ... -0.0076525   0.00139178\n",
      "  -0.00303492]\n",
      " [ 0.00287931 -0.00871374 -0.00410185 ... -0.01287214  0.00255026\n",
      "   0.00158096]\n",
      " [ 0.00597042  0.01070791  0.00557909 ... -0.00211775 -0.00279952\n",
      "   0.001955  ]]\n",
      "============= domain 6\n",
      "encoding:  [[0 0 0 ... 0 0 0]\n",
      " [0 0 0 ... 0 0 0]\n",
      " [0 0 0 ... 0 0 0]\n",
      " ...\n",
      " [0 0 0 ... 0 0 0]\n",
      " [0 0 0 ... 0 0 0]\n",
      " [0 0 0 ... 0 0 0]]\n",
      "data put in model tensor([[0.0000, 0.0000, 0.0000,  ..., 0.4240, 0.6670, 0.3330],\n",
      "        [0.0000, 0.0000, 0.0000,  ..., 0.1030, 0.9600, 0.0400],\n",
      "        [0.0000, 0.0000, 0.0000,  ..., 0.6220, 0.6470, 0.3530],\n",
      "        ...,\n",
      "        [0.0000, 0.0000, 0.0000,  ..., 0.1210, 0.6670, 0.3330],\n",
      "        [0.0000, 0.0000, 0.0000,  ..., 0.3640, 0.0000, 0.0000],\n",
      "        [0.0000, 0.0000, 0.0000,  ..., 0.2160, 0.9400, 0.0600]])\n",
      "prediction:  [[-0.01000342 -0.01138692 -0.00198296 ...  0.00011325  0.00195483\n",
      "  -0.00741733]\n",
      " [-0.00182779  0.00636848  0.01596053 ... -0.00348293  0.00140738\n",
      "   0.00565037]\n",
      " [-0.02155224  0.00170691  0.00635554 ... -0.01620155 -0.00471742\n",
      "   0.00214412]\n",
      " ...\n",
      " [-0.00241125  0.01030105  0.00570176 ... -0.01529295 -0.00200178\n",
      "  -0.00022409]\n",
      " [ 0.00522364  0.0040222  -0.00911527 ... -0.01971804  0.0082974\n",
      "   0.00186945]\n",
      " [ 0.01275014  0.01032113  0.00708529 ... -0.0073868   0.00398589\n",
      "   0.01127032]]\n",
      "============= domain 7\n",
      "encoding:  [[0 0 0 ... 0 0 0]\n",
      " [0 0 0 ... 0 0 0]\n",
      " [0 0 0 ... 0 0 0]\n",
      " ...\n",
      " [0 0 0 ... 0 0 0]\n",
      " [0 0 0 ... 0 0 0]\n",
      " [0 0 0 ... 0 0 0]]\n",
      "data put in model tensor([[0.0000, 0.0000, 0.0000,  ..., 0.4240, 0.6670, 0.3330],\n",
      "        [0.0000, 0.0000, 0.0000,  ..., 0.1030, 0.9600, 0.0400],\n",
      "        [0.0000, 0.0000, 0.0000,  ..., 0.6220, 0.6470, 0.3530],\n",
      "        ...,\n",
      "        [0.0000, 0.0000, 0.0000,  ..., 0.1210, 0.6670, 0.3330],\n",
      "        [0.0000, 0.0000, 0.0000,  ..., 0.3640, 0.0000, 0.0000],\n",
      "        [0.0000, 0.0000, 0.0000,  ..., 0.2160, 0.9400, 0.0600]])\n",
      "prediction:  [[ 0.01298445 -0.0149209  -0.01240466 ... -0.00375456 -0.00957238\n",
      "   0.00198252]\n",
      " [ 0.01708882  0.0045291   0.00452749 ... -0.00433964 -0.0143979\n",
      "   0.0038308 ]\n",
      " [-0.01007944  0.0070648   0.00164053 ... -0.01533086 -0.01349542\n",
      "   0.00526548]\n",
      " ...\n",
      " [-0.00597297 -0.00450023  0.01040749 ... -0.01320778  0.00819031\n",
      "   0.00383891]\n",
      " [ 0.00368453 -0.00231871 -0.0006399  ... -0.00978366  0.00413383\n",
      "   0.00411971]\n",
      " [ 0.00804485  0.00037576  0.01151076 ... -0.00426485  0.01152383\n",
      "   0.00476211]]\n",
      "============= domain 8\n",
      "encoding:  [[0 0 0 ... 0 0 0]\n",
      " [0 0 0 ... 0 0 0]\n",
      " [0 0 0 ... 0 0 0]\n",
      " ...\n",
      " [0 0 0 ... 0 0 0]\n",
      " [0 0 0 ... 0 0 0]\n",
      " [0 0 0 ... 0 0 0]]\n",
      "data put in model tensor([[0.0000, 0.0000, 0.0000,  ..., 0.4240, 0.6670, 0.3330],\n",
      "        [0.0000, 0.0000, 0.0000,  ..., 0.1030, 0.9600, 0.0400],\n",
      "        [0.0000, 0.0000, 0.0000,  ..., 0.6220, 0.6470, 0.3530],\n",
      "        ...,\n",
      "        [0.0000, 0.0000, 0.0000,  ..., 0.1210, 0.6670, 0.3330],\n",
      "        [0.0000, 0.0000, 0.0000,  ..., 0.3640, 0.0000, 0.0000],\n",
      "        [0.0000, 0.0000, 0.0000,  ..., 0.2160, 0.9400, 0.0600]])\n",
      "prediction:  [[ 1.8172771e-02  8.2350671e-03 -8.3700810e-03 ... -9.0030953e-03\n",
      "  -7.8387791e-05 -4.9975794e-03]\n",
      " [ 3.2773063e-02  6.1507300e-03  6.0021179e-03 ... -1.8809848e-02\n",
      "  -2.8042179e-03 -1.3590852e-02]\n",
      " [ 6.4826757e-03  2.2345707e-02  6.9501065e-03 ...  2.0453930e-03\n",
      "   4.7859582e-03  1.4913848e-02]\n",
      " ...\n",
      " [-8.2985014e-03  6.7813396e-03  6.6255108e-03 ... -3.4508035e-03\n",
      "   1.4189021e-03  5.5563822e-03]\n",
      " [-4.4692978e-03 -1.5674688e-02 -4.4242069e-03 ... -8.3713755e-03\n",
      "   2.0226125e-02 -1.0281074e-02]\n",
      " [ 1.1114582e-02  1.2392938e-02  2.9421700e-03 ... -2.5786608e-03\n",
      "   1.2135219e-02 -5.4880576e-03]]\n",
      "============= domain 9\n",
      "encoding:  [[0 0 0 ... 0 0 0]\n",
      " [0 0 0 ... 0 0 0]\n",
      " [0 0 0 ... 0 0 0]\n",
      " ...\n",
      " [0 0 0 ... 0 0 0]\n",
      " [0 0 0 ... 0 0 0]\n",
      " [0 0 0 ... 0 0 0]]\n",
      "data put in model tensor([[0.0000, 0.0000, 0.0000,  ..., 0.4240, 0.6670, 0.3330],\n",
      "        [0.0000, 0.0000, 0.0000,  ..., 0.1030, 0.9600, 0.0400],\n",
      "        [0.0000, 0.0000, 0.0000,  ..., 0.6220, 0.6470, 0.3530],\n",
      "        ...,\n",
      "        [0.0000, 0.0000, 0.0000,  ..., 0.1210, 0.6670, 0.3330],\n",
      "        [0.0000, 0.0000, 0.0000,  ..., 0.3640, 0.0000, 0.0000],\n",
      "        [0.0000, 0.0000, 0.0000,  ..., 0.2160, 0.9400, 0.0600]])\n",
      "prediction:  [[ 0.01315521 -0.01593764 -0.00696712 ...  0.00884249  0.01266413\n",
      "   0.00957028]\n",
      " [ 0.00607812 -0.00138791  0.01091917 ... -0.00323527  0.00070457\n",
      "   0.01277277]\n",
      " [-0.01157662 -0.00052508  0.0002526  ...  0.00164835 -0.00038343\n",
      "   0.00145186]\n",
      " ...\n",
      " [-0.00658562  0.0067134  -0.00153272 ...  0.000676    0.00010756\n",
      "   0.00327305]\n",
      " [ 0.00340968  0.00394421 -0.00622064 ... -0.02081221  0.00176476\n",
      "   0.01314502]\n",
      " [ 0.00230265  0.01239091  0.00118643 ...  0.00101051 -0.0108632\n",
      "  -0.00853901]]\n",
      "============= domain 10\n",
      "encoding:  [[0 0 0 ... 0 0 0]\n",
      " [0 0 0 ... 0 0 0]\n",
      " [0 0 0 ... 0 0 0]\n",
      " ...\n",
      " [0 0 0 ... 0 0 0]\n",
      " [0 0 0 ... 0 0 0]\n",
      " [0 0 0 ... 0 0 0]]\n",
      "data put in model tensor([[0.0000, 0.0000, 0.0000,  ..., 0.4240, 0.6670, 0.3330],\n",
      "        [0.0000, 0.0000, 0.0000,  ..., 0.1030, 0.9600, 0.0400],\n",
      "        [0.0000, 0.0000, 0.0000,  ..., 0.6220, 0.6470, 0.3530],\n",
      "        ...,\n",
      "        [0.0000, 0.0000, 0.0000,  ..., 0.1210, 0.6670, 0.3330],\n",
      "        [0.0000, 0.0000, 0.0000,  ..., 0.3640, 0.0000, 0.0000],\n",
      "        [0.0000, 0.0000, 0.0000,  ..., 0.2160, 0.9400, 0.0600]])\n",
      "prediction:  [[ 0.00989889 -0.00511643 -0.00258558 ...  0.0002536   0.00364691\n",
      "  -0.00844812]\n",
      " [ 0.01998571  0.00999263  0.01053938 ... -0.01119465  0.00070938\n",
      "   0.00199621]\n",
      " [-0.00602293  0.0061779   0.00698008 ...  0.00764588  0.00187163\n",
      "   0.00152171]\n",
      " ...\n",
      " [-0.01040497  0.01000126  0.00487941 ... -0.00996143 -0.00420262\n",
      "   0.00342556]\n",
      " [ 0.00171027 -0.0038921   0.00180031 ... -0.01846366  0.01181827\n",
      "  -0.00220181]\n",
      " [ 0.00118129  0.00778155 -0.00121425 ... -0.00172558 -0.00200186\n",
      "  -0.00090692]]\n",
      "============= domain 11\n",
      "encoding:  [[0 0 0 ... 0 0 0]\n",
      " [0 0 0 ... 0 0 0]\n",
      " [0 0 0 ... 0 0 0]\n",
      " ...\n",
      " [0 0 0 ... 0 0 0]\n",
      " [0 0 0 ... 0 0 0]\n",
      " [0 0 0 ... 0 0 0]]\n",
      "data put in model tensor([[0.0000, 0.0000, 0.0000,  ..., 0.4240, 0.6670, 0.3330],\n",
      "        [0.0000, 0.0000, 0.0000,  ..., 0.1030, 0.9600, 0.0400],\n",
      "        [0.0000, 0.0000, 0.0000,  ..., 0.6220, 0.6470, 0.3530],\n",
      "        ...,\n",
      "        [0.0000, 0.0000, 0.0000,  ..., 0.1210, 0.6670, 0.3330],\n",
      "        [0.0000, 0.0000, 0.0000,  ..., 0.3640, 0.0000, 0.0000],\n",
      "        [0.0000, 0.0000, 0.0000,  ..., 0.2160, 0.9400, 0.0600]])\n",
      "prediction:  [[ 0.0066047  -0.01874345  0.00064699 ...  0.00298473 -0.00504327\n",
      "  -0.01184423]\n",
      " [ 0.00191741 -0.00609154  0.01231204 ...  0.02096838 -0.00311457\n",
      "  -0.00037165]\n",
      " [-0.02793759  0.01278146 -0.0045777  ... -0.01025367 -0.02274345\n",
      "  -0.00231981]\n",
      " ...\n",
      " [ 0.00789332  0.04085011  0.00419546 ...  0.0300298  -0.00098367\n",
      "   0.00280126]\n",
      " [ 0.00255661 -0.00665245 -0.01508236 ... -0.02648634 -0.00894804\n",
      "   0.00095702]\n",
      " [ 0.04724396  0.05165422  0.0119901  ... -0.01034849 -0.00241223\n",
      "   0.00174714]]\n",
      "============= domain 12\n",
      "encoding:  [[0 0 0 ... 1 0 0]\n",
      " [0 0 0 ... 1 0 0]\n",
      " [0 0 0 ... 1 0 0]\n",
      " ...\n",
      " [0 0 0 ... 1 0 0]\n",
      " [0 0 0 ... 1 0 0]\n",
      " [0 0 0 ... 1 0 0]]\n",
      "data put in model tensor([[0.0000, 0.0000, 0.0000,  ..., 0.4240, 0.6670, 0.3330],\n",
      "        [0.0000, 0.0000, 0.0000,  ..., 0.1030, 0.9600, 0.0400],\n",
      "        [0.0000, 0.0000, 0.0000,  ..., 0.6220, 0.6470, 0.3530],\n",
      "        ...,\n",
      "        [0.0000, 0.0000, 0.0000,  ..., 0.1210, 0.6670, 0.3330],\n",
      "        [0.0000, 0.0000, 0.0000,  ..., 0.3640, 0.0000, 0.0000],\n",
      "        [0.0000, 0.0000, 0.0000,  ..., 0.2160, 0.9400, 0.0600]])\n",
      "prediction:  [[ 1.4652111e-02 -7.1444064e-03  2.5600139e-03 ...  3.5934678e-01\n",
      "   2.3244834e-03 -3.6130529e-03]\n",
      " [ 2.4344459e-02  5.9892312e-03  4.2954925e-04 ...  5.4194134e-01\n",
      "   1.2915442e-04  4.9609318e-04]\n",
      " [-5.8892518e-03  5.0743818e-03  1.0054885e-02 ...  2.3140025e-01\n",
      "   3.5137949e-03 -6.1202580e-03]\n",
      " ...\n",
      " [-1.2470745e-02  1.1346810e-02  1.8459968e-03 ...  7.0898002e-01\n",
      "  -1.0220240e-03 -2.6428457e-03]\n",
      " [ 1.5694126e-03 -8.5894838e-03 -3.1414852e-03 ...  1.3335580e-01\n",
      "  -4.0380470e-03  7.4408650e-03]\n",
      " [ 2.7334392e-03  9.3375444e-03  6.5238187e-03 ...  3.6264536e-01\n",
      "  -8.4437514e-03 -1.2965314e-04]]\n",
      "============= domain 13\n",
      "encoding:  [[0 0 0 ... 0 1 0]\n",
      " [0 0 0 ... 0 1 0]\n",
      " [0 0 0 ... 0 1 0]\n",
      " ...\n",
      " [0 0 0 ... 0 1 0]\n",
      " [0 0 0 ... 0 1 0]\n",
      " [0 0 0 ... 0 1 0]]\n",
      "data put in model tensor([[0.0000, 0.0000, 0.0000,  ..., 0.4240, 0.6670, 0.3330],\n",
      "        [0.0000, 0.0000, 0.0000,  ..., 0.1030, 0.9600, 0.0400],\n",
      "        [0.0000, 0.0000, 0.0000,  ..., 0.6220, 0.6470, 0.3530],\n",
      "        ...,\n",
      "        [0.0000, 0.0000, 0.0000,  ..., 0.1210, 0.6670, 0.3330],\n",
      "        [0.0000, 0.0000, 0.0000,  ..., 0.3640, 0.0000, 0.0000],\n",
      "        [0.0000, 0.0000, 0.0000,  ..., 0.2160, 0.9400, 0.0600]])\n",
      "prediction:  [[ 1.11177340e-02 -1.27629638e-02  2.50903238e-03 ...  1.56039000e-03\n",
      "   5.69474876e-01 -7.30849989e-03]\n",
      " [ 1.54054463e-02  5.44113666e-03  1.37076722e-02 ... -5.32907993e-03\n",
      "   8.89794707e-01  8.03295523e-04]\n",
      " [-1.06699020e-02  1.02512836e-02  5.38644753e-03 ... -1.42434984e-03\n",
      "   3.63522083e-01 -3.57940793e-04]\n",
      " ...\n",
      " [-5.79620898e-03  1.28805935e-02  2.28813849e-03 ...  1.96681917e-03\n",
      "   8.81116688e-01 -2.47836113e-04]\n",
      " [-4.18671966e-03 -5.34094125e-03  7.89128989e-03 ... -2.32967660e-02\n",
      "   6.22107387e-01  3.25857289e-03]\n",
      " [ 1.39268115e-02  1.60624608e-02  4.67776787e-03 ... -1.10105649e-02\n",
      "   8.02309334e-01  2.11566128e-03]]\n",
      "============= domain 14\n",
      "encoding:  [[0 0 0 ... 0 0 1]\n",
      " [0 0 0 ... 0 0 1]\n",
      " [0 0 0 ... 0 0 1]\n",
      " ...\n",
      " [0 0 0 ... 0 0 1]\n",
      " [0 0 0 ... 0 0 1]\n",
      " [0 0 0 ... 0 0 1]]\n",
      "data put in model tensor([[0.0000, 0.0000, 0.0000,  ..., 0.4240, 0.6670, 0.3330],\n",
      "        [0.0000, 0.0000, 0.0000,  ..., 0.1030, 0.9600, 0.0400],\n",
      "        [0.0000, 0.0000, 0.0000,  ..., 0.6220, 0.6470, 0.3530],\n",
      "        ...,\n",
      "        [0.0000, 0.0000, 0.0000,  ..., 0.1210, 0.6670, 0.3330],\n",
      "        [0.0000, 0.0000, 0.0000,  ..., 0.3640, 0.0000, 0.0000],\n",
      "        [0.0000, 0.0000, 0.0000,  ..., 0.2160, 0.9400, 0.0600]])\n",
      "prediction:  [[ 1.09647363e-02 -2.85327435e-03 -6.44600391e-03 ...  3.78407538e-04\n",
      "   9.48443450e-03  6.60661936e-01]\n",
      " [ 1.69471353e-02  1.03661865e-02  9.80973616e-03 ... -1.18147582e-03\n",
      "  -2.67163292e-03  9.38542664e-01]\n",
      " [-2.76321918e-03  3.54242325e-03  8.26045405e-03 ...  3.78727168e-03\n",
      "   2.11470574e-03  6.51172042e-01]\n",
      " ...\n",
      " [-3.38415056e-03  1.06648132e-02  1.08464211e-02 ... -5.62404841e-03\n",
      "   5.28819859e-04  6.67605519e-01]\n",
      " [-7.87965953e-04 -3.94171476e-03 -4.08853404e-03 ... -1.63587853e-02\n",
      "   8.17548425e-04  5.66965044e-01]\n",
      " [-3.21775675e-04  1.26811638e-02  6.21908344e-03 ...  1.68779492e-03\n",
      "   2.60905130e-04  9.38206792e-01]]\n"
     ]
    }
   ],
   "source": [
    "# best\n",
    "prediction_list = []\n",
    "rows, cols = test_y.shape\n",
    "_, scores = core.split_encoding_and_scores(test_x, dims=14)\n",
    "for domain in range(14):\n",
    "    print(\"============= domain %d\" % (domain + 1))\n",
    "    encoding = core.create_single_encoding(rows, cols, domain)\n",
    "    print(\"encoding: \", encoding)\n",
    "    tmp_single = core.add_encoding(scores, encoding)\n",
    "    print(\"data put in model\", tmp_single)\n",
    "    single_prediction = shared.inference(model, tmp_single)\n",
    "    print(\"prediction: \", single_prediction)\n",
    "    prediction_list.append(single_prediction[:, domain])\n",
    "\n",
    "prediction_matrix = np.column_stack(prediction_list)\n",
    "difference = prediction_matrix - scores[:, ::2]\n",
    "\n",
    "# find max indices\n",
    "max_values, max_indices = shared.max_prediction_from_difference(difference, prediction_matrix, scores)\n",
    "# reconstruct matrices\n",
    "future_scores_best, best_encoding = core.reconstruct_max_matrices(max_values, max_indices, prediction_matrix.shape)\n"
   ]
  },
  {
   "cell_type": "code",
   "execution_count": 30,
   "id": "1215b46c",
   "metadata": {},
   "outputs": [
    {
     "data": {
      "text/plain": [
       "((97428, 14), (97428, 14))"
      ]
     },
     "execution_count": 30,
     "metadata": {},
     "output_type": "execute_result"
    }
   ],
   "source": [
    "future_scores_best.shape, best_encoding.shape"
   ]
  },
  {
   "cell_type": "code",
   "execution_count": 31,
   "id": "9c396baa",
   "metadata": {},
   "outputs": [],
   "source": [
    "# random\n",
    "future_scores_random = core.find_random_predictions(\n",
    "    model=model,\n",
    "    data=test_x,\n",
    "    run_type=run_type\n",
    ")"
   ]
  },
  {
   "cell_type": "code",
   "execution_count": 32,
   "id": "ae31051f",
   "metadata": {},
   "outputs": [
    {
     "data": {
      "text/plain": [
       "(97428, 14)"
      ]
     },
     "execution_count": 32,
     "metadata": {},
     "output_type": "execute_result"
    }
   ],
   "source": [
    "future_scores_random.shape"
   ]
  },
  {
   "cell_type": "code",
   "execution_count": 35,
   "id": "c149c6a4",
   "metadata": {},
   "outputs": [],
   "source": [
    "average_gt_list = []\n",
    "average_best_list = []\n",
    "average_random_list = []\n",
    "\n",
    "std_gt_list = []\n",
    "std_best_list = []\n",
    "std_random_list = []"
   ]
  },
  {
   "cell_type": "code",
   "execution_count": 36,
   "id": "580757dd",
   "metadata": {},
   "outputs": [],
   "source": [
    "for n in missing_counts:\n",
    "    missing_mask = core.filter_sessions_by_missing_count(scores_gt, n)\n",
    "    \n",
    "    scores_gt_tmp = scores_gt[missing_mask][:, ::2]\n",
    "\n",
    "    future_scores_gt_tmp = future_scores_gt[missing_mask]\n",
    "    future_scores_best_tmp = future_scores_best[missing_mask]\n",
    "    future_scores_random_tmp = future_scores_random[missing_mask]\n",
    "\n",
    "    difference_gt = future_scores_gt_tmp - scores_gt_tmp\n",
    "    difference_best = future_scores_best_tmp - scores_gt_tmp\n",
    "    difference_random = future_scores_random_tmp - scores_gt_tmp\n",
    "\n",
    "    average_gt = np.mean(np.abs(difference_gt))\n",
    "    average_best = np.mean(np.abs(difference_best))\n",
    "    average_random = np.mean(np.abs(difference_random))\n",
    "\n",
    "    std_gt = np.std(difference_gt)\n",
    "    std_best = np.std(difference_best)\n",
    "    std_random = np.std(difference_random)\n",
    "\n",
    "    average_gt_list.append(average_gt)\n",
    "    average_best_list.append(average_best)\n",
    "    average_random_list.append(average_random)\n",
    "\n",
    "    std_gt_list.append(std_gt)\n",
    "    std_best_list.append(std_best)\n",
    "    std_random_list.append(std_random)"
   ]
  },
  {
   "cell_type": "code",
   "execution_count": 37,
   "id": "68d89bb4",
   "metadata": {},
   "outputs": [],
   "source": [
    "import matplotlib.pyplot as plt"
   ]
  },
  {
   "cell_type": "code",
   "execution_count": 38,
   "id": "6492987d",
   "metadata": {},
   "outputs": [
    {
     "data": {
      "image/png": "[encoded data removed]",
      "text/plain": [
       "<Figure size 1000x600 with 1 Axes>"
      ]
     },
     "metadata": {},
     "output_type": "display_data"
    }
   ],
   "source": [
    "# Define x-axis values (number of unknown domains)\n",
    "# Plot with error bars\n",
    "plt.figure(figsize=(10, 6))\n",
    "\n",
    "plt.errorbar(missing_counts, average_best_list, yerr=std_best_list, label=\"Best\", fmt='-o', capsize=5)\n",
    "plt.errorbar(missing_counts, average_random_list, yerr=std_random_list, label=\"Random\", fmt='-o', capsize=5)\n",
    "plt.errorbar(missing_counts, average_gt_list, yerr=std_gt_list, label=\"Ground Truth\", fmt='-o', capsize=5)\n",
    "\n",
    "# Labels and Title\n",
    "plt.xlabel(\"Number of Unknown Domains\")\n",
    "plt.ylabel(\"Average Score\")\n",
    "plt.title(\"Non-Repeat Session Average Score\")\n",
    "\n",
    "# Legend and Grid\n",
    "plt.legend()\n",
    "plt.grid(axis='y', linestyle='--', alpha=0.7)\n",
    "\n",
    "# Show plot\n",
    "plt.show()"
   ]
  },
  {
   "cell_type": "code",
   "execution_count": null,
   "id": "6ff04989",
   "metadata": {},
   "outputs": [
    {
     "ename": "NameError",
     "evalue": "name 'gt_score_pairs' is not defined",
     "output_type": "error",
     "traceback": [
      "\u001b[31m---------------------------------------------------------------------------\u001b[39m",
      "\u001b[31mNameError\u001b[39m                                 Traceback (most recent call last)",
      "\u001b[36mCell\u001b[39m\u001b[36m \u001b[39m\u001b[32mIn[33]\u001b[39m\u001b[32m, line 2\u001b[39m\n\u001b[32m      1\u001b[39m \u001b[38;5;66;03m# get score pairs\u001b[39;00m\n\u001b[32m----> \u001b[39m\u001b[32m2\u001b[39m gt_score_pairs = core.extract_score_pairs(\u001b[43mgt_score_pairs\u001b[49m)\n\u001b[32m      3\u001b[39m pred_score_pairs = core.extract_score_pairs(pred_score_pairs)\n\u001b[32m      5\u001b[39m \u001b[38;5;66;03m# find valid score pairs\u001b[39;00m\n",
      "\u001b[31mNameError\u001b[39m: name 'gt_score_pairs' is not defined"
     ]
    }
   ],
   "source": [
    "    # get score pairs\n",
    "    gt_score_pairs = core.extract_score_pairs(gt_score_pairs)\n",
    "    pred_score_pairs = core.extract_score_pairs(pred_score_pairs)\n",
    "\n",
    "    # find valid score pairs\n",
    "    valid_mask = core.find_missing_mask(gt_score_pairs[:, :, 0], gt_score_pairs[:, :, 1])\n",
    "\n",
    "    # filter valid score pairs\n",
    "    gt_score_pairs = gt_score_pairs[valid_mask]\n",
    "    pred_score_pairs = pred_score_pairs[valid_mask]\n",
    "\n",
    "    "
   ]
  }
 ],
 "metadata": {
  "kernelspec": {
   "display_name": "CT",
   "language": "python",
   "name": "python3"
  },
  "language_info": {
   "codemirror_mode": {
    "name": "ipython",
    "version": 3
   },
   "file_extension": ".py",
   "mimetype": "text/x-python",
   "name": "python",
   "nbconvert_exporter": "python",
   "pygments_lexer": "ipython3",
   "version": "3.12.11"
  }
 },
 "nbformat": 4,
 "nbformat_minor": 5
}
