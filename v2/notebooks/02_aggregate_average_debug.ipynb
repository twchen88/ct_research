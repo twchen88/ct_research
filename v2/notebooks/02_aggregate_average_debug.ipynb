{
 "cells": [
  {
   "cell_type": "markdown",
   "id": "66ba9fc5",
   "metadata": {},
   "source": [
    "Set Working Directory"
   ]
  },
  {
   "cell_type": "code",
   "execution_count": null,
   "id": "dfe4dde7",
   "metadata": {},
   "outputs": [],
   "source": [
    "import os\n",
    "os.chdir('..')\n",
    "os.getcwd()"
   ]
  },
  {
   "cell_type": "markdown",
   "id": "612c0f6d",
   "metadata": {},
   "source": [
    "Packages"
   ]
  },
  {
   "cell_type": "code",
   "execution_count": null,
   "id": "45ac0d12",
   "metadata": {},
   "outputs": [],
   "source": [
    "import yaml, torch\n",
    "import numpy as np\n",
    "\n",
    "import src.experiments.file_io as file_io\n",
    "import src.experiments.aggregate_average as core\n",
    "import src.experiments.shared as shared\n",
    "import src.viz.aggregate_average as viz\n",
    "\n",
    "from pathlib import Path\n",
    "from datetime import datetime\n",
    "\n",
    "from src.utils.reproducibility import set_global_seed\n",
    "from src.utils.metadata import get_git_commit_hash\n",
    "from src.utils.config_loading import load_yaml_config"
   ]
  },
  {
   "cell_type": "markdown",
   "id": "099f0ae0",
   "metadata": {},
   "source": [
    "Functions"
   ]
  },
  {
   "cell_type": "code",
   "execution_count": null,
   "id": "030a64a7",
   "metadata": {},
   "outputs": [],
   "source": [
    "def compute_score_pair_errors(gt_score_pairs, pred_score_pairs):\n",
    "    # calculate mean absolute error\n",
    "    mean_error = np.mean(np.abs(gt_score_pairs - pred_score_pairs))\n",
    "\n",
    "    # calculate ground truth std\n",
    "    ground_truth_std = np.std(gt_score_pairs, ddof=1)\n",
    "    \n",
    "    return mean_error, ground_truth_std"
   ]
  },
  {
   "cell_type": "code",
   "execution_count": null,
   "id": "267711e9",
   "metadata": {},
   "outputs": [],
   "source": [
    "def evaluate_error_by_missing_count(test_x, test_y, test_predictions, dims=14):\n",
    "    _, cur_score = core.split_encoding_and_scores(test_x, dims=dims)\n",
    "    future_score_gt = test_y\n",
    "\n",
    "    mean_errors_list = []\n",
    "    ground_truth_std_list = []\n",
    "    ground_truth_dict = {}\n",
    "    missing_counts = list(range(0, dims))\n",
    "\n",
    "    for n in missing_counts:\n",
    "        filter_mask = core.filter_sessions_by_missing_count(cur_score, n)\n",
    "        filtered_gt = future_score_gt[filter_mask]\n",
    "        filtered_pred = test_predictions[filter_mask]\n",
    "\n",
    "        ground_truth_dict[str(n)] = filtered_gt\n",
    "\n",
    "        if filtered_gt.size == 0:\n",
    "            mean_errors_list.append(np.nan)\n",
    "            ground_truth_std_list.append(np.nan)\n",
    "            continue\n",
    "\n",
    "        mean_error, std_dev = compute_score_pair_errors(filtered_gt, filtered_pred)\n",
    "        mean_errors_list.append(mean_error)\n",
    "        ground_truth_std_list.append(std_dev)\n",
    "\n",
    "    return missing_counts, mean_errors_list, ground_truth_std_list, ground_truth_dict"
   ]
  },
  {
   "cell_type": "markdown",
   "id": "76f26020",
   "metadata": {},
   "source": [
    "Script"
   ]
  },
  {
   "cell_type": "code",
   "execution_count": null,
   "id": "9c2c7584",
   "metadata": {},
   "outputs": [],
   "source": [
    "config_path = \"config/experiments/20250624_aggavg_1.yaml\""
   ]
  },
  {
   "cell_type": "code",
   "execution_count": null,
   "id": "eb14d08e",
   "metadata": {},
   "outputs": [],
   "source": [
    "# load configuration\n",
    "config = load_yaml_config(config_path)\n",
    "run_type = config[\"settings\"][\"type\"] # repeat vs non-repeat\n",
    "device = config[\"settings\"][\"device\"] # cpu or cuda\n",
    "seed = config[\"settings\"][\"seed\"]\n",
    "\n",
    "data_source = config[\"data\"][\"data_source\"] # npz file with multiple arrays\n",
    "model_source = config[\"data\"][\"model_source\"] # path to the model\n",
    "output_destination = config[\"data\"][\"destination_base\"]"
   ]
  },
  {
   "cell_type": "code",
   "execution_count": null,
   "id": "ad78497b",
   "metadata": {},
   "outputs": [],
   "source": [
    "## general setup\n",
    "figure_names = [\"accuracy_assessment.png\", \"aggregate_average.png\"]\n",
    "\n",
    "\n",
    "## set global seed\n",
    "set_global_seed(seed)\n",
    "\n",
    "## get git commit hash\n",
    "git_commit_hash = get_git_commit_hash()"
   ]
  },
  {
   "cell_type": "code",
   "execution_count": null,
   "id": "243ede53",
   "metadata": {},
   "outputs": [],
   "source": [
    "class NN(torch.nn.Module):\n",
    "    def __init__(self):\n",
    "        super().__init__()\n",
    "        n_domains = 14\n",
    "        \n",
    "        self.model = torch.nn.Sequential(\n",
    "            torch.nn.Linear(n_domains * 3, 100),\n",
    "            torch.nn.Sigmoid(),\n",
    "            torch.nn.Linear(100, n_domains)\n",
    "        )\n",
    "\n",
    "    def forward(self, x):\n",
    "        return self.model(x)\n",
    "    \n",
    "model = NN()\n",
    "model = torch.load(\"old_data/model.pt\", map_location=torch.device('cpu'))\n"
   ]
  },
  {
   "cell_type": "code",
   "execution_count": null,
   "id": "72646ed8",
   "metadata": {},
   "outputs": [],
   "source": [
    "## load model\n",
    "# model = shared.load_model(model_source, device=device)"
   ]
  },
  {
   "cell_type": "code",
   "execution_count": null,
   "id": "634a2d09",
   "metadata": {},
   "outputs": [],
   "source": [
    "## read data\n",
    "test_data = np.load(\"old_data/next_step_test_data_encoded.npy\")\n",
    "test_data, mask = core.filter_rows_by_sum(test_data, slice(0, 14), 1)\n",
    "from src.training.training_torch import split_input_target\n",
    "\n",
    "test_x, test_y = split_input_target(test_data)\n",
    "test_predictions = shared.inference(model, test_x)\n",
    "test_x = test_x.cpu().numpy()\n",
    "test_y = test_y.cpu().numpy()"
   ]
  },
  {
   "cell_type": "code",
   "execution_count": null,
   "id": "d62db495",
   "metadata": {},
   "outputs": [],
   "source": [
    "test_x.shape, test_y.shape, test_predictions.shape"
   ]
  },
  {
   "cell_type": "code",
   "execution_count": null,
   "id": "058807ae",
   "metadata": {},
   "outputs": [],
   "source": [
    "## filter by session type\n",
    "repeat_mask = core.assign_repeat(test_x)  # type: ignore"
   ]
  },
  {
   "cell_type": "code",
   "execution_count": null,
   "id": "a5248661",
   "metadata": {},
   "outputs": [],
   "source": [
    "repeat_mask.sum()"
   ]
  },
  {
   "cell_type": "code",
   "execution_count": null,
   "id": "f5b97671",
   "metadata": {},
   "outputs": [],
   "source": [
    "test_x[:3]"
   ]
  },
  {
   "cell_type": "code",
   "execution_count": null,
   "id": "baeea979",
   "metadata": {},
   "outputs": [],
   "source": [
    "# if run type is repeat, filter for only repeat sessions\n",
    "# if run type is non-repeat, filter for only non-repeat sessions\n",
    "if run_type == \"repeat\":\n",
    "    test_x = test_x[repeat_mask]\n",
    "    test_y = test_y[repeat_mask]\n",
    "    test_predictions = test_predictions[repeat_mask]\n",
    "elif run_type == \"non-repeat\":\n",
    "    test_x = test_x[~repeat_mask]\n",
    "    test_y = test_y[~repeat_mask]\n",
    "    test_predictions = test_predictions[~repeat_mask]"
   ]
  },
  {
   "cell_type": "code",
   "execution_count": null,
   "id": "1c6641ed",
   "metadata": {},
   "outputs": [],
   "source": [
    "test_x.shape, test_y.shape, test_predictions.shape"
   ]
  },
  {
   "cell_type": "markdown",
   "id": "5370fd01",
   "metadata": {},
   "source": [
    "(1) find ground truth std and prediction MAE"
   ]
  },
  {
   "cell_type": "code",
   "execution_count": null,
   "id": "ccba9fd5",
   "metadata": {},
   "outputs": [],
   "source": [
    "encoding, cur_score = core.split_encoding_and_scores(test_x, dims=14)\n",
    "future_score_gt = test_y\n",
    "\n",
    "mean_errors_list = []\n",
    "ground_truth_std_list = []\n",
    "ground_truth_dict = {}\n",
    "missing_counts = list(range(0, 14))"
   ]
  },
  {
   "cell_type": "code",
   "execution_count": null,
   "id": "ae8905e4",
   "metadata": {},
   "outputs": [],
   "source": [
    "for n in missing_counts:\n",
    "    filter_mask = core.filter_sessions_by_missing_count(cur_score, n)\n",
    "    filtered_encoding = encoding[filter_mask]\n",
    "    filtered_gt = future_score_gt[filter_mask][filtered_encoding == 1]\n",
    "    filtered_pred = test_predictions[filter_mask][filtered_encoding == 1]\n",
    "\n",
    "    ground_truth_dict[str(n)] = filtered_gt\n",
    "\n",
    "    if filtered_gt.size == 0:\n",
    "        mean_errors_list.append(np.nan)\n",
    "        ground_truth_std_list.append(np.nan)\n",
    "        continue\n",
    "\n",
    "    mean_error, std_dev = core.compute_errors(filtered_gt, filtered_pred)\n",
    "    mean_errors_list.append(mean_error)\n",
    "    ground_truth_std_list.append(std_dev)"
   ]
  },
  {
   "cell_type": "code",
   "execution_count": null,
   "id": "41c222fc",
   "metadata": {},
   "outputs": [],
   "source": [
    "mean_errors_list"
   ]
  },
  {
   "cell_type": "code",
   "execution_count": null,
   "id": "105cacae",
   "metadata": {},
   "outputs": [],
   "source": [
    "# plot error by missing count and save figure\n",
    "viz.plot_error_by_missing_count(\n",
    "    x_axis=missing_counts,\n",
    "    std=ground_truth_std_list,\n",
    "    error=mean_errors_list,\n",
    "    run_type=run_type\n",
    ")"
   ]
  },
  {
   "cell_type": "markdown",
   "id": "17171cf8",
   "metadata": {},
   "source": [
    "(2) predict scores based on strategy"
   ]
  },
  {
   "cell_type": "code",
   "execution_count": null,
   "id": "340074c0",
   "metadata": {},
   "outputs": [],
   "source": [
    "# ground truth original scores\n",
    "encoding, scores_gt = core.split_encoding_and_scores(test_x, dims=14)"
   ]
  },
  {
   "cell_type": "code",
   "execution_count": null,
   "id": "0e8d0e0d",
   "metadata": {},
   "outputs": [],
   "source": [
    "# ground truth future scores\n",
    "future_scores_gt = test_y"
   ]
  },
  {
   "cell_type": "code",
   "execution_count": null,
   "id": "b6e68986",
   "metadata": {},
   "outputs": [],
   "source": [
    "scores_gt.shape, future_scores_gt.shape"
   ]
  },
  {
   "cell_type": "code",
   "execution_count": null,
   "id": "0abd0885",
   "metadata": {},
   "outputs": [],
   "source": [
    "scores_gt[:3]"
   ]
  },
  {
   "cell_type": "code",
   "execution_count": null,
   "id": "5a9623af",
   "metadata": {},
   "outputs": [],
   "source": [
    "future_scores_gt[:3]"
   ]
  },
  {
   "cell_type": "code",
   "execution_count": null,
   "id": "fe8b0c7b",
   "metadata": {},
   "outputs": [],
   "source": [
    "# best\n",
    "prediction_list = []\n",
    "rows, cols = test_y.shape\n",
    "_, scores = core.split_encoding_and_scores(test_x, dims=14)\n",
    "for domain in missing_counts:\n",
    "    single_encoding = core.create_single_encoding(rows, cols, domain)\n",
    "    tmp_single = core.add_encoding(scores, single_encoding)\n",
    "    single_prediction = shared.inference(model, tmp_single)\n",
    "    prediction_list.append(single_prediction[:, domain])\n",
    "\n",
    "prediction_matrix = np.column_stack(prediction_list)\n",
    "difference = prediction_matrix - scores[:, ::2]\n",
    "\n",
    "# find max indices\n",
    "max_values, max_indices = shared.max_prediction_from_difference_pair(difference, prediction_matrix, scores, run_type)\n",
    "# reconstruct matrices\n",
    "future_scores_best, best_encoding = core.reconstruct_max_matrices(max_values, max_indices, prediction_matrix.shape)"
   ]
  },
  {
   "cell_type": "code",
   "execution_count": null,
   "id": "9c396baa",
   "metadata": {},
   "outputs": [],
   "source": [
    "# random\n",
    "random_encoding, future_scores_random = core.find_random_predictions(\n",
    "    model=model,\n",
    "    data=scores_gt,\n",
    "    run_type=run_type\n",
    ")"
   ]
  },
  {
   "cell_type": "code",
   "execution_count": null,
   "id": "c149c6a4",
   "metadata": {},
   "outputs": [],
   "source": [
    "average_gt_list = []\n",
    "average_best_list = []\n",
    "average_random_list = []\n",
    "\n",
    "std_gt_list = []\n",
    "std_best_list = []\n",
    "std_random_list = []"
   ]
  },
  {
   "cell_type": "code",
   "execution_count": null,
   "id": "e5ec6579",
   "metadata": {},
   "outputs": [],
   "source": [
    "def compute_averages_and_stds(cur_scores, future_scores, masks):\n",
    "    \"\"\"\n",
    "    masks: first mask for missing count, second mask for location of target value (encoding == 1)\n",
    "    \"\"\"\n",
    "    difference = future_scores - cur_scores\n",
    "    difference_filtered = core.filter_with_masks(difference, masks)\n",
    "\n",
    "    average = np.mean(difference_filtered)\n",
    "    std_dev = np.std(difference_filtered)\n",
    "\n",
    "    return average, std_dev"
   ]
  },
  {
   "cell_type": "code",
   "execution_count": null,
   "id": "580757dd",
   "metadata": {},
   "outputs": [],
   "source": [
    "for n in missing_counts:\n",
    "    missing_mask = core.filter_sessions_by_missing_count(scores_gt, n)\n",
    "    \n",
    "    scores_gt_tmp = scores_gt[missing_mask][:, ::2]\n",
    "\n",
    "    future_scores_gt_tmp = future_scores_gt[missing_mask]\n",
    "    future_scores_best_tmp = future_scores_best[missing_mask]\n",
    "    future_scores_random_tmp = future_scores_random[missing_mask]\n",
    "\n",
    "    difference_gt = future_scores_gt_tmp - scores_gt_tmp\n",
    "    difference_gt = difference_gt[encoding[missing_mask] == 1]\n",
    "    difference_best = future_scores_best_tmp - scores_gt_tmp\n",
    "    difference_best = difference_best[best_encoding[missing_mask] == 1]\n",
    "    difference_random = future_scores_random_tmp - scores_gt_tmp\n",
    "    difference_random = difference_random[random_encoding[missing_mask] == 1]\n",
    "\n",
    "    average_gt = np.mean(difference_gt)\n",
    "    average_best = np.mean(difference_best)\n",
    "    average_random = np.mean(difference_random)\n",
    "\n",
    "    std_gt = np.std(difference_gt)\n",
    "    std_best = np.std(difference_best)\n",
    "    std_random = np.std(difference_random)\n",
    "\n",
    "    average_gt_list.append(average_gt)\n",
    "    average_best_list.append(average_best)\n",
    "    average_random_list.append(average_random)\n",
    "\n",
    "    std_gt_list.append(std_gt)\n",
    "    std_best_list.append(std_best)\n",
    "    std_random_list.append(std_random)"
   ]
  },
  {
   "cell_type": "code",
   "execution_count": null,
   "id": "e162d21c",
   "metadata": {},
   "outputs": [],
   "source": [
    "random_encoding[0]"
   ]
  },
  {
   "cell_type": "code",
   "execution_count": null,
   "id": "51e09d5a",
   "metadata": {},
   "outputs": [],
   "source": [
    "test_x[0, 14:]"
   ]
  },
  {
   "cell_type": "code",
   "execution_count": null,
   "id": "a55cf66c",
   "metadata": {},
   "outputs": [],
   "source": [
    "test_y[0]"
   ]
  },
  {
   "cell_type": "code",
   "execution_count": null,
   "id": "ef427aa5",
   "metadata": {},
   "outputs": [],
   "source": [
    "test_x[missing_mask]"
   ]
  },
  {
   "cell_type": "code",
   "execution_count": null,
   "id": "50a283dc",
   "metadata": {},
   "outputs": [],
   "source": [
    "average_best_list"
   ]
  },
  {
   "cell_type": "markdown",
   "id": "e2915aee",
   "metadata": {},
   "source": [
    "Newest edition of debugging~~~\n",
    "with imported functions because they be wrong apparently"
   ]
  },
  {
   "cell_type": "code",
   "execution_count": null,
   "id": "01f5e36d",
   "metadata": {},
   "outputs": [],
   "source": [
    "# reset everything\n",
    "%reset -f"
   ]
  },
  {
   "cell_type": "code",
   "execution_count": null,
   "id": "5ef2b008",
   "metadata": {},
   "outputs": [],
   "source": [
    "# deal with data\n",
    "import numpy as np\n",
    "data = np.load(\"old_data/next_step_test_data_encoded.npy\")"
   ]
  },
  {
   "cell_type": "code",
   "execution_count": null,
   "id": "423fca3a",
   "metadata": {},
   "outputs": [],
   "source": [
    "test_data = data[:3]\n",
    "test_data"
   ]
  },
  {
   "cell_type": "markdown",
   "id": "704c56a2",
   "metadata": {},
   "source": [
    "Test each function given the order that they appear in the script 04_aggregate_average.py"
   ]
  },
  {
   "cell_type": "code",
   "execution_count": null,
   "id": "0baa245d",
   "metadata": {},
   "outputs": [],
   "source": [
    "## first: filter_rows_by_sum()\n",
    "from src.experiments.aggregate_average import filter_rows_by_sum\n",
    "test_data, mask = filter_rows_by_sum(test_data, slice(0, 14), 1)\n",
    "test_data.shape"
   ]
  },
  {
   "cell_type": "code",
   "execution_count": null,
   "id": "78d3fab0",
   "metadata": {},
   "outputs": [],
   "source": [
    "fake_data_x = np.array([\n",
    "    # Row 1 (repeat)\n",
    "    [\n",
    "        # First 14 (encoding)\n",
    "        1, 0, 0, 0, 0, 0, 0, 0, 0, 0, 0, 0, 0, 0,\n",
    "        # Middle 28 (raw scores)\n",
    "        0.0625, 0.9375, 0, 0, 0.1875, 0.8125, 1, 1,\n",
    "        0.3125, 0.6875, 0.375, 0.625, 0.4375, 0.5625, 0.5, 0.5,\n",
    "        0.5625, 0.4375, 0.625, 0.375, 0.6875, 0.3125, 0.75, 0.25,\n",
    "        0.8125, 0.1875, 0.875, 0.125\n",
    "    ],\n",
    "    # Row 2 (nonrepeat)\n",
    "    [\n",
    "        0, 1, 0, 0, 0, 0, 0, 0, 0, 0, 0, 0, 0, 0,\n",
    "        0.0625, 0.9375, 0, 0, 0.1875, 0.8125, 0.25, 0.75,\n",
    "        0.3125, 0.6875, 0.375, 0.625, 0.4375, 0.5625, 0.5, 0.5,\n",
    "        0.5625, 0.4375, 0.625, 0.375, 0.6875, 0.3125, 0.75, 0.25,\n",
    "        0.8125, 0.1875, 0.875, 0.125\n",
    "    ],\n",
    "    # Row 3\n",
    "    [\n",
    "        0, 0, 0, 0, 1, 1, 0, 0, 0, 0, 0, 0, 0, 0,\n",
    "        0.0625, 0.9375, 0.125, 0.875, 0.1875, 0.8125, 0.25, 0.75,\n",
    "        0.3125, 0.6875, 0.375, 0.625, 0.4375, 0.5625, 0.5, 0.5,\n",
    "        0.5625, 0.4375, 0.625, 0.375, 0.6875, 0.3125, 0.75, 0.25,\n",
    "        0.8125, 0.1875, 0.875, 0.125,\n",
    "    ]\n",
    "])\n",
    "\n",
    "fake_data_y = np.array([[0.1, 0, 0, 0, 0, 0, 0, 0, 0, 0, 0, 0, 0, 0],\n",
    "                       [0, 0.1, 0, 0, 0, 0, 0, 0, 0, 0, 0, 0, 0, 0],\n",
    "                       [0, 0, 0, 0, 1, 1, 0, 0, 0, 0, 0, 0, 0, 0]])\n",
    "\n",
    "\n",
    "fake_data_filtered, mask_filter = filter_rows_by_sum(fake_data_x, slice(0, 14), 1)\n",
    "fake_data_filtered.shape, mask_filter"
   ]
  },
  {
   "cell_type": "code",
   "execution_count": null,
   "id": "4ad3500e",
   "metadata": {},
   "outputs": [],
   "source": [
    "fake_data_y = fake_data_y[mask_filter]\n",
    "fake_data_y.shape"
   ]
  },
  {
   "cell_type": "code",
   "execution_count": null,
   "id": "8e7ee1f9",
   "metadata": {},
   "outputs": [],
   "source": [
    "## first: assign_repeat()\n",
    "from src.experiments.aggregate_average import assign_repeat\n",
    "assign_repeat(test_data)"
   ]
  },
  {
   "cell_type": "code",
   "execution_count": null,
   "id": "1a9324bd",
   "metadata": {},
   "outputs": [],
   "source": [
    "repeat_mask = assign_repeat(fake_data_filtered)\n",
    "repeat_mask"
   ]
  },
  {
   "cell_type": "code",
   "execution_count": null,
   "id": "a4665c11",
   "metadata": {},
   "outputs": [],
   "source": [
    "fake_data_repeat = fake_data_filtered[repeat_mask]\n",
    "fake_data_nonrepeat = fake_data_filtered[~repeat_mask]\n",
    "print(\"repeat: \", fake_data_repeat)\n",
    "print(\"non-repeat: \", fake_data_nonrepeat)"
   ]
  },
  {
   "cell_type": "code",
   "execution_count": null,
   "id": "3024e7d9",
   "metadata": {},
   "outputs": [],
   "source": [
    "## start running through the pipeline of evaluate_error_by_missing_count()\n",
    "from src.experiments.aggregate_average import split_encoding_and_scores\n",
    "fake_encoding_repeat, fake_cur_score_repeat = split_encoding_and_scores(fake_data_repeat, dims=14)\n",
    "fake_encoding_nonrepeat, fake_cur_score_nonrepeat = split_encoding_and_scores(fake_data_nonrepeat, dims=14)"
   ]
  },
  {
   "cell_type": "code",
   "execution_count": null,
   "id": "64ef96a8",
   "metadata": {},
   "outputs": [],
   "source": [
    "fake_encoding_repeat, fake_cur_score_repeat"
   ]
  },
  {
   "cell_type": "code",
   "execution_count": null,
   "id": "760b7bc3",
   "metadata": {},
   "outputs": [],
   "source": [
    "fake_encoding_nonrepeat, fake_cur_score_nonrepeat"
   ]
  },
  {
   "cell_type": "code",
   "execution_count": null,
   "id": "f5ccfb28",
   "metadata": {},
   "outputs": [],
   "source": [
    "fake_future_score_repeat = fake_data_y[repeat_mask]\n",
    "fake_future_score_nonrepeat = fake_data_y[~repeat_mask]\n",
    "print(\"repeat\", fake_future_score_repeat)\n",
    "print(\"non-repeat\", fake_future_score_nonrepeat)"
   ]
  },
  {
   "cell_type": "code",
   "execution_count": null,
   "id": "6ff1946f",
   "metadata": {},
   "outputs": [],
   "source": [
    "from src.experiments.aggregate_average import filter_sessions_by_missing_count\n",
    "fake_mask_repeat = filter_sessions_by_missing_count(fake_cur_score_repeat, 2)\n",
    "fake_mask_repeat"
   ]
  },
  {
   "cell_type": "code",
   "execution_count": null,
   "id": "034e47cd",
   "metadata": {},
   "outputs": [],
   "source": [
    "fake_mask_nonrepeat = filter_sessions_by_missing_count(fake_cur_score_nonrepeat, 1)\n",
    "fake_mask_nonrepeat"
   ]
  },
  {
   "cell_type": "code",
   "execution_count": null,
   "id": "e6b4c5a2",
   "metadata": {},
   "outputs": [],
   "source": [
    "from src.experiments.aggregate_average import filter_with_masks\n",
    "filter_with_masks(fake_future_score_repeat, [fake_mask_repeat, fake_encoding_repeat == 1])"
   ]
  },
  {
   "cell_type": "code",
   "execution_count": null,
   "id": "3ab2cac2",
   "metadata": {},
   "outputs": [],
   "source": [
    "## going to aggregate_average_pipeline()\n",
    "# load the model first (sigmoid bounded so output is between 0 and 1)\n",
    "import src.experiments.shared as shared\n",
    "\n",
    "model_source = \"outputs/training_runs/run_20250922_sigmoid_final_layer_v1/model.pt\"\n",
    "model = shared.load_model(model_path=model_source, device=\"cpu\")"
   ]
  },
  {
   "cell_type": "code",
   "execution_count": null,
   "id": "8e5b4a31",
   "metadata": {},
   "outputs": [],
   "source": [
    "## find best_idx_pred()\n",
    "from src.experiments.aggregate_average import find_best_idx_pred\n",
    "find_best_idx_pred(model, fake_cur_score_repeat, fake_future_score_repeat, missing_counts=list(range(0, 14)), run_type=\"nonrepeat\")"
   ]
  },
  {
   "cell_type": "code",
   "execution_count": null,
   "id": "cc8ea906",
   "metadata": {},
   "outputs": [],
   "source": [
    "import numpy as np\n",
    "data = np.array([\n",
    "            [1, 1, 1],\n",
    "            [2, 1, 2],\n",
    "            [0, 0, 0],\n",
    "        ])\n",
    "\n",
    "filter_rows_by_sum(data, slice(0, 2), 4)"
   ]
  },
  {
   "cell_type": "code",
   "execution_count": null,
   "id": "e77cefff",
   "metadata": {},
   "outputs": [],
   "source": [
    "data[:, slice(1, 3)].sum(axis=1)"
   ]
  },
  {
   "cell_type": "markdown",
   "id": "ce6c70b6",
   "metadata": {},
   "source": [
    "Fake data run through pipeline"
   ]
  },
  {
   "cell_type": "code",
   "execution_count": 1,
   "id": "70e4167a",
   "metadata": {},
   "outputs": [],
   "source": [
    "# reset everything\n",
    "%reset -f"
   ]
  },
  {
   "cell_type": "code",
   "execution_count": 2,
   "id": "c30048c5",
   "metadata": {},
   "outputs": [
    {
     "data": {
      "text/plain": [
       "'/Users/964505/CT/ct_research/v2'"
      ]
     },
     "execution_count": 2,
     "metadata": {},
     "output_type": "execute_result"
    }
   ],
   "source": [
    "# set working directory\n",
    "import os\n",
    "os.chdir('..')\n",
    "os.getcwd()"
   ]
  },
  {
   "cell_type": "markdown",
   "id": "27e1e127",
   "metadata": {},
   "source": [
    "What we need in fake data\n",
    "- different numbers of missing domains (want to see multiple options)\n",
    "- multiple of the same number of missing domains (so we can actually test average)"
   ]
  },
  {
   "cell_type": "code",
   "execution_count": 3,
   "id": "b08fd124",
   "metadata": {},
   "outputs": [],
   "source": [
    "import numpy as np\n",
    "\n",
    "### REPEAT\n",
    "# Overview: 1 and 3 both have 3 missing counts, so we can test average\n",
    "# session 2 has no missing counts, we want to see that they have multiple options for repeat\n",
    "# domains they can choose from, and they choose according to the strategy\n",
    "fake_data_x_repeat = np.array([\n",
    "    # Session 1 (target domain 1, missing at domain 2, 4 and, 14, positive change)\n",
    "    [\n",
    "        # First 14 (encoding)\n",
    "        1, 0, 0, 0, 0, 0, 0, 0, 0, 0, 0, 0, 0, 0,\n",
    "        # Middle 28 (raw scores)\n",
    "        0.0625, 0.9375, 0, 0, 0.1875, 0.8125, 1, 1, # first 4\n",
    "        0.3125, 0.6875, 0.375, 0.625, 0.4375, 0.5625, 0.5, 0.5, # 5-8\n",
    "        0.5625, 0.4375, 0.625, 0.375, 0.6875, 0.3125, 0.75, 0.25, # 9-12\n",
    "        0.8125, 0.1875, 0, 0 # 13-14\n",
    "    ],\n",
    "    # Session 2 (no missing domains, target domain 5, negative change)\n",
    "    [\n",
    "        0, 0, 0, 0, 1, 0, 0, 0, 0, 0, 0, 0, 0, 0, # encoding\n",
    "        0.0625, 0.9375, 0.125, 0.875, 0.1875, 0.8125, 0.25, 0.75, # first 4\n",
    "        0.3125, 0.6875, 0.375, 0.625, 0.4375, 0.5625, 0.5, 0.5, # 5-8\n",
    "        0.5625, 0.4375, 0.625, 0.375, 0.6875, 0.3125, 0.75, 0.25, # 9-12\n",
    "        0.8125, 0.1875, 0.875, 0.125 # 13-14\n",
    "    ],\n",
    "    # Session 3 (target domain 2, missing at domain 1, 4, and 6)\n",
    "    [\n",
    "        0, 1, 0, 0, 0, 0, 0, 0, 0, 0, 0, 0, 0, 0, # encoding\n",
    "        0., 0., 0.125, 0.875, 0.1875, 0.8125, 0.25, 0.75, # first 4\n",
    "        0.3125, 0.6875, 1, 1, 0.4375, 0.5625, 0.5, 0.5, # 5-8\n",
    "        0.5625, 0.4375, 0.625, 0.375, 0.6875, 0.3125, 0.75, 0.25, # 9-12\n",
    "        0.8125, 0.1875, 0.875, 0.125 # 13-14\n",
    "]])\n",
    "\n",
    "\n",
    "### NON-REPEAT\n",
    "# Overview: 1 and 3 both of 2 missing counts, so we can test average\n",
    "# session has 4 missing values, so there are 4 options for best and random\n",
    "# Session 1 (target domain 2, missing at domain 2 and 4)\n",
    "fake_data_x_nonrepeat = np.array([\n",
    "    [\n",
    "        0, 1, 0, 0, 0, 0, 0, 0, 0, 0, 0, 0, 0, 0, # encoding\n",
    "        0.0625, 0.9375, 0, 0, 0.1875, 0.8125, 1, 1, # first 4\n",
    "        0.3125, 0.6875, 0.375, 0.625, 0.4375, 0.5625, 0.5, 0.5, # 5-8\n",
    "        0.5625, 0.4375, 0.625, 0.375, 0.6875, 0.3125, 0.75, 0.25, # 9-12\n",
    "        0.8125, 0.1875, 0.875, 0.125 # 13-14\n",
    "    ],\n",
    "    # Session 2 (target domain 4, missing at domain 2, 4, 12, 13)\n",
    "    [\n",
    "        0, 0, 0, 1, 0, 0, 0, 0, 0, 0, 0, 0, 0, 0, # encoding\n",
    "        0.0625, 0.9375, 0, 0, 0.1875, 0.8125, 1, 1, # first 4\n",
    "        0.3125, 0.6875, 0.375, 0.625, 0.4375, 0.5625, 0.5, 0.5, # 5-8\n",
    "        0.5625, 0.4375, 0.625, 0.375, 0.6875, 0.3125, 0, 0, # 9-12\n",
    "        0, 0, 0.875, 0.125 # 13-14\n",
    "    ],\n",
    "    # Session 3 (target domain 1, missing at domain 1 and 6)\n",
    "    [\n",
    "        1, 0, 0, 0, 0, 0, 0, 0, 0, 0, 0, 0, 0, 0, # encoding\n",
    "        0., 0., 0.125, 0.875, 0.1875, 0.8125, 0.25, 0.75, # first 4\n",
    "        0.3125, 0.6875, 0, 0, 0.4375, 0.5625, 0.5, 0.5, # 5-8\n",
    "        0.5625, 0.4375, 0.625, 0.375, 0.6875, 0.3125, 0.75, 0.25, # 9-12\n",
    "        0.8125, 0.1875, 0.875, 0.125 # 13-14\n",
    "    ],\n",
    "])\n",
    "\n",
    "# target values\n",
    "fake_data_y_repeat = np.array([[0.1, 0, 0, 0, 0, 0, 0, 0, 0, 0, 0, 0, 0, 0],\n",
    "                       [0, 0.1, 0, 0, 0, 0, 0, 0, 0, 0, 0, 0, 0, 0],\n",
    "                       [0, 0, 0, 0, 0.01, 0, 0, 0, 0, 0, 0, 0, 0, 0]])\n",
    "fake_data_y_nonrepeat = np.array([[0, 0.1, 0, 0, 0, 0, 0, 0, 0, 0, 0, 0, 0, 0],\n",
    "                       [0, 0, 0, 0.1, 0, 0, 0, 0, 0, 0, 0, 0, 0, 0],\n",
    "                       [0.01, 0, 0, 0, 0, 0, 0, 0, 0, 0, 0, 0, 0, 0]])"
   ]
  },
  {
   "cell_type": "code",
   "execution_count": 4,
   "id": "6903927e",
   "metadata": {},
   "outputs": [],
   "source": [
    "import torch\n",
    "import torch.nn as nn\n",
    "\n",
    "class fakeModel(nn.Module):\n",
    "    \"\"\"\n",
    "    For each input row x:\n",
    "      - compute i = argmax(x[:14])\n",
    "      - output a (1,14) tensor of all zeros except at i, where output[i] = fixed_output[i].\n",
    "    \"\"\"\n",
    "    def __init__(self, fixed_output, dtype=torch.float32):\n",
    "        super().__init__()\n",
    "        fixed_output = torch.as_tensor(fixed_output, dtype=dtype)\n",
    "        assert fixed_output.ndim == 1 and fixed_output.numel() >= 14, \\\n",
    "            \"fixed_output must be 1D with at least 14 elements.\"\n",
    "        self.register_buffer(\"fixed_output\", fixed_output)\n",
    "\n",
    "    def forward(self, x: torch.Tensor) -> torch.Tensor:\n",
    "        if x.dim() == 1:\n",
    "            x = x.unsqueeze(0)  # handle single sample (1, D)\n",
    "        if x.dim() > 2:\n",
    "            # flatten features if more than 2 dims\n",
    "            B = x.shape[0]\n",
    "            x = x.view(B, -1)\n",
    "        B = x.shape[0]\n",
    "\n",
    "        # compute argmax over first 14 features for each row\n",
    "        idx = x[:, :14].argmax(dim=1)  # (B,)\n",
    "        out = torch.zeros((B, 14), dtype=x.dtype, device=x.device)\n",
    "        out[torch.arange(B, device=x.device), idx] = self.fixed_output[idx]\n",
    "        return out"
   ]
  },
  {
   "cell_type": "code",
   "execution_count": 5,
   "id": "9ce23afb",
   "metadata": {},
   "outputs": [
    {
     "data": {
      "text/plain": [
       "(array([[0.5 , 0.  , 0.  , 0.  , 0.  , 0.  , 0.  , 0.  , 0.  , 0.  , 0.  ,\n",
       "         0.  , 0.  , 0.  ],\n",
       "        [0.  , 0.25, 0.  , 0.  , 0.  , 0.  , 0.  , 0.  , 0.  , 0.  , 0.  ,\n",
       "         0.  , 0.  , 0.  ],\n",
       "        [0.  , 0.  , 0.3 , 0.  , 0.  , 0.  , 0.  , 0.  , 0.  , 0.  , 0.  ,\n",
       "         0.  , 0.  , 0.  ]], dtype=float32),\n",
       " (3, 14))"
      ]
     },
     "execution_count": 5,
     "metadata": {},
     "output_type": "execute_result"
    }
   ],
   "source": [
    "## example usage of fake model\n",
    "fixed_output = np.array([0.5, 0.25, 0.3, 0.6, 0.8, 0.9, 0.01, 0.75, 0.1, 0.0, 0.2, 0.65, 0.05, 0.7])\n",
    "x = np.array([\n",
    "    [1, 0, 0, 0, 0, 0, 0, 0, 0, 0, 0, 0, 0, 0, 0.1, 0.2, 0.3], # should output 0.5 at index 0\n",
    "    [0, 1, 0, 0, 0, 0, 0, 0, 0, 0, 0, 0, 0, 0, 0.4, 0.5, 0.6], # should output 0.25 at index 1\n",
    "    [0, 0, 1, 0, 0, 0, 0, 0, 0, 0, 0, 0, 0, 0, 0.7, 0.8, 0.9], # should output 0.3 at index 2\n",
    "])\n",
    "\n",
    "model = fakeModel(fixed_output=fixed_output, dtype=torch.float32)\n",
    "model.eval()\n",
    "with torch.no_grad():\n",
    "    test_tensor = torch.as_tensor(x, dtype=torch.float32)\n",
    "    predictions = model(test_tensor).numpy()\n",
    "predictions, predictions.shape"
   ]
  },
  {
   "cell_type": "markdown",
   "id": "046c86cb",
   "metadata": {},
   "source": [
    "First, look at nonrepeat!!! because that one seems to be having problems\n",
    "What we expect at each step?\n",
    "- find best: find best out of all available\n",
    "- find random: pick a random one of all available \n",
    "- average best: take average of best\n",
    "- average random: take average of random\n",
    "- average gt: take average of GT (actually let's look at this one first)\n",
    "- plotting (final plot looks as expected)"
   ]
  },
  {
   "cell_type": "code",
   "execution_count": 6,
   "id": "061883e0",
   "metadata": {},
   "outputs": [],
   "source": [
    "from src.experiments.aggregate_average import split_encoding_and_scores\n",
    "fake_encoding_repeat, fake_cur_score_repeat = split_encoding_and_scores(fake_data_x_repeat, dims=14)"
   ]
  },
  {
   "cell_type": "code",
   "execution_count": 7,
   "id": "23a0667f",
   "metadata": {},
   "outputs": [
    {
     "data": {
      "text/plain": [
       "((3, 14), (3, 28))"
      ]
     },
     "execution_count": 7,
     "metadata": {},
     "output_type": "execute_result"
    }
   ],
   "source": [
    "fake_encoding_repeat.shape, fake_cur_score_repeat.shape"
   ]
  },
  {
   "cell_type": "code",
   "execution_count": 8,
   "id": "d83f76fc",
   "metadata": {},
   "outputs": [
    {
     "data": {
      "text/plain": [
       "((3, 14), (3, 28))"
      ]
     },
     "execution_count": 8,
     "metadata": {},
     "output_type": "execute_result"
    }
   ],
   "source": [
    "fake_encoding_nonrepeat, fake_cur_score_nonrepeat = split_encoding_and_scores(fake_data_x_nonrepeat, dims=14)\n",
    "fake_encoding_nonrepeat.shape, fake_cur_score_nonrepeat.shape"
   ]
  },
  {
   "cell_type": "code",
   "execution_count": 9,
   "id": "b04634a8",
   "metadata": {},
   "outputs": [],
   "source": [
    "from src.experiments.aggregate_average import find_best_idx_pred"
   ]
  },
  {
   "cell_type": "code",
   "execution_count": 10,
   "id": "893ee656",
   "metadata": {},
   "outputs": [],
   "source": [
    "fixed_output = np.array([0.5, 0.25, 0.3, 0.6, 0.8, 0.9, 0.01, 0.75, 0.1, 0.0, 0.2, 0.65, 0.05, 0.7])\n",
    "\n",
    "model = fakeModel(fixed_output=fixed_output, dtype=torch.float32)"
   ]
  },
  {
   "cell_type": "code",
   "execution_count": 11,
   "id": "7f2ecbb8",
   "metadata": {},
   "outputs": [
    {
     "name": "stdout",
     "output_type": "stream",
     "text": [
      "Data shape: torch.Size([3, 42])\n",
      "Data shape: torch.Size([3, 42])\n",
      "Data shape: torch.Size([3, 42])\n",
      "Data shape: torch.Size([3, 42])\n",
      "Data shape: torch.Size([3, 42])\n",
      "Data shape: torch.Size([3, 42])\n",
      "Data shape: torch.Size([3, 42])\n",
      "Data shape: torch.Size([3, 42])\n",
      "Data shape: torch.Size([3, 42])\n",
      "Data shape: torch.Size([3, 42])\n",
      "Data shape: torch.Size([3, 42])\n",
      "Data shape: torch.Size([3, 42])\n",
      "Data shape: torch.Size([3, 42])\n",
      "Data shape: torch.Size([3, 42])\n"
     ]
    }
   ],
   "source": [
    "fake_best_encoding_repeat, fake_best_predictions_repeat = find_best_idx_pred(model, fake_cur_score_repeat, fake_data_y_repeat, missing_counts=list(range(0, 14)), run_type=\"repeat\")"
   ]
  },
  {
   "cell_type": "code",
   "execution_count": 12,
   "id": "0d09424d",
   "metadata": {},
   "outputs": [
    {
     "data": {
      "text/plain": [
       "(array([5, 5, 4]), (3, 14))"
      ]
     },
     "execution_count": 12,
     "metadata": {},
     "output_type": "execute_result"
    }
   ],
   "source": [
    "fake_best_encoding_repeat.argmax(axis=1), fake_best_encoding_repeat.shape"
   ]
  },
  {
   "cell_type": "code",
   "execution_count": 13,
   "id": "fcfbabd2",
   "metadata": {},
   "outputs": [
    {
     "data": {
      "text/plain": [
       "array([[0, 0, 0, 0, 0, 1, 0, 0, 0, 0, 0, 0, 0, 0],\n",
       "       [0, 0, 0, 0, 0, 1, 0, 0, 0, 0, 0, 0, 0, 0],\n",
       "       [0, 0, 0, 0, 1, 0, 0, 0, 0, 0, 0, 0, 0, 0]])"
      ]
     },
     "execution_count": 13,
     "metadata": {},
     "output_type": "execute_result"
    }
   ],
   "source": [
    "fake_best_encoding_repeat"
   ]
  },
  {
   "cell_type": "code",
   "execution_count": 14,
   "id": "37fa9f5c",
   "metadata": {},
   "outputs": [
    {
     "data": {
      "text/plain": [
       "(array([5, 5, 4]), (3, 14))"
      ]
     },
     "execution_count": 14,
     "metadata": {},
     "output_type": "execute_result"
    }
   ],
   "source": [
    "fake_best_predictions_repeat.argmax(axis=1), fake_best_predictions_repeat.shape"
   ]
  },
  {
   "cell_type": "code",
   "execution_count": 15,
   "id": "85d2ffa8",
   "metadata": {},
   "outputs": [
    {
     "data": {
      "text/plain": [
       "array([[      -inf,       -inf,       -inf,       -inf,       -inf,\n",
       "        0.52499998,       -inf,       -inf,       -inf,       -inf,\n",
       "              -inf,       -inf,       -inf,       -inf],\n",
       "       [      -inf,       -inf,       -inf,       -inf,       -inf,\n",
       "        0.52499998,       -inf,       -inf,       -inf,       -inf,\n",
       "              -inf,       -inf,       -inf,       -inf],\n",
       "       [      -inf,       -inf,       -inf,       -inf, 0.48750001,\n",
       "              -inf,       -inf,       -inf,       -inf,       -inf,\n",
       "              -inf,       -inf,       -inf,       -inf]])"
      ]
     },
     "execution_count": 15,
     "metadata": {},
     "output_type": "execute_result"
    }
   ],
   "source": [
    "fake_best_predictions_repeat"
   ]
  },
  {
   "cell_type": "code",
   "execution_count": 16,
   "id": "fdf184b5",
   "metadata": {},
   "outputs": [
    {
     "name": "stdout",
     "output_type": "stream",
     "text": [
      "Data shape: torch.Size([3, 42])\n",
      "Data shape: torch.Size([3, 42])\n",
      "Data shape: torch.Size([3, 42])\n",
      "Data shape: torch.Size([3, 42])\n",
      "Data shape: torch.Size([3, 42])\n",
      "Data shape: torch.Size([3, 42])\n",
      "Data shape: torch.Size([3, 42])\n",
      "Data shape: torch.Size([3, 42])\n",
      "Data shape: torch.Size([3, 42])\n",
      "Data shape: torch.Size([3, 42])\n",
      "Data shape: torch.Size([3, 42])\n",
      "Data shape: torch.Size([3, 42])\n",
      "Data shape: torch.Size([3, 42])\n",
      "Data shape: torch.Size([3, 42])\n"
     ]
    }
   ],
   "source": [
    "fake_best_encoding_nonrepeat, fake_best_predictions_nonrepeat = find_best_idx_pred(model, fake_cur_score_nonrepeat, fake_data_y_nonrepeat, missing_counts=list(range(0, 14)), run_type=\"nonrepeat\")"
   ]
  },
  {
   "cell_type": "code",
   "execution_count": 17,
   "id": "1412b585",
   "metadata": {},
   "outputs": [
    {
     "data": {
      "text/plain": [
       "(array([ 3, 11,  5]), (3, 14))"
      ]
     },
     "execution_count": 17,
     "metadata": {},
     "output_type": "execute_result"
    }
   ],
   "source": [
    "fake_best_encoding_nonrepeat.argmax(axis=1), fake_best_encoding_nonrepeat.shape"
   ]
  },
  {
   "cell_type": "code",
   "execution_count": 18,
   "id": "a204030a",
   "metadata": {},
   "outputs": [
    {
     "data": {
      "text/plain": [
       "array([[      -inf,       -inf,       -inf, 0.60000002,       -inf,\n",
       "              -inf,       -inf,       -inf,       -inf,       -inf,\n",
       "              -inf,       -inf,       -inf,       -inf],\n",
       "       [      -inf,       -inf,       -inf,       -inf,       -inf,\n",
       "              -inf,       -inf,       -inf,       -inf,       -inf,\n",
       "              -inf, 0.64999998,       -inf,       -inf],\n",
       "       [      -inf,       -inf,       -inf,       -inf,       -inf,\n",
       "        0.89999998,       -inf,       -inf,       -inf,       -inf,\n",
       "              -inf,       -inf,       -inf,       -inf]])"
      ]
     },
     "execution_count": 18,
     "metadata": {},
     "output_type": "execute_result"
    }
   ],
   "source": [
    "fake_best_predictions_nonrepeat"
   ]
  },
  {
   "cell_type": "code",
   "execution_count": 19,
   "id": "61ac4a0e",
   "metadata": {},
   "outputs": [
    {
     "name": "stdout",
     "output_type": "stream",
     "text": [
      "Data shape: torch.Size([3, 42])\n",
      "Data shape: torch.Size([3, 42])\n",
      "Data shape: torch.Size([3, 42])\n",
      "Data shape: torch.Size([3, 42])\n",
      "Data shape: torch.Size([3, 42])\n",
      "Data shape: torch.Size([3, 42])\n",
      "Data shape: torch.Size([3, 42])\n",
      "Data shape: torch.Size([3, 42])\n",
      "Data shape: torch.Size([3, 42])\n",
      "Data shape: torch.Size([3, 42])\n",
      "Data shape: torch.Size([3, 42])\n",
      "Data shape: torch.Size([3, 42])\n",
      "Data shape: torch.Size([3, 42])\n",
      "Data shape: torch.Size([3, 42])\n"
     ]
    }
   ],
   "source": [
    "from src.experiments.aggregate_average import predict_all_domains\n",
    "prediction_matrix = predict_all_domains(model, fake_cur_score_nonrepeat, fake_data_y_nonrepeat, list(range(0, 14)))"
   ]
  },
  {
   "cell_type": "code",
   "execution_count": 20,
   "id": "724bf0f8",
   "metadata": {},
   "outputs": [
    {
     "data": {
      "text/plain": [
       "array([[0.5 , 0.25, 0.3 , 0.6 , 0.8 , 0.9 , 0.01, 0.75, 0.1 , 0.  , 0.2 ,\n",
       "        0.65, 0.05, 0.7 ],\n",
       "       [0.5 , 0.25, 0.3 , 0.6 , 0.8 , 0.9 , 0.01, 0.75, 0.1 , 0.  , 0.2 ,\n",
       "        0.65, 0.05, 0.7 ],\n",
       "       [0.5 , 0.25, 0.3 , 0.6 , 0.8 , 0.9 , 0.01, 0.75, 0.1 , 0.  , 0.2 ,\n",
       "        0.65, 0.05, 0.7 ]], dtype=float32)"
      ]
     },
     "execution_count": 20,
     "metadata": {},
     "output_type": "execute_result"
    }
   ],
   "source": [
    "prediction_matrix"
   ]
  },
  {
   "cell_type": "code",
   "execution_count": 21,
   "id": "238d08cb",
   "metadata": {},
   "outputs": [],
   "source": [
    "from src.experiments.aggregate_average import decode_missing_indicator\n",
    "\n",
    "current_matrix_pairs = fake_cur_score_nonrepeat.reshape(-1, 14, 2)\n",
    "\n",
    "eq_mask = current_matrix_pairs[:, :, 0] == current_matrix_pairs[:, :, 1]\n",
    "val_mask = (current_matrix_pairs[:, :, 0] == 0) | (current_matrix_pairs[:, :, 0] == 1)\n",
    "missing_mask = eq_mask & val_mask  # Shape: (N, D)\n"
   ]
  },
  {
   "cell_type": "code",
   "execution_count": 22,
   "id": "b685a6e2",
   "metadata": {},
   "outputs": [],
   "source": [
    "# invert missing mask if run type is repeat, so we consider the opposite set of domains\n",
    "run_type = \"nonrepeat\"  # or \"repeat\"\n",
    "if run_type == \"repeat\":\n",
    "    valid_mask = ~missing_mask\n",
    "else:\n",
    "    valid_mask = missing_mask\n",
    "\n",
    "current_matrix = decode_missing_indicator(fake_cur_score_nonrepeat)\n",
    "\n",
    "max_indices = np.full(current_matrix.shape, 0)\n",
    "max_values = np.full(current_matrix.shape, 0.0)\n",
    "\n",
    "# compute per-cell difference\n",
    "difference_full = np.where(np.isnan(current_matrix),\n",
    "                           prediction_matrix,\n",
    "                           prediction_matrix - current_matrix)\n",
    "\n",
    "# mask out invalid columns per row\n",
    "masked = np.where(valid_mask, difference_full, 0)\n",
    "\n",
    "# argmax per row\n",
    "row_argmax = np.argmax(masked, axis=1)\n",
    "row_maxval = masked[np.arange(masked.shape[0]), row_argmax]\n",
    "\n",
    "# build outputs\n",
    "max_indices = np.zeros_like(current_matrix, dtype=int)\n",
    "max_indices[np.arange(max_indices.shape[0]), row_argmax] = 1\n",
    "\n",
    "max_values = np.full_like(current_matrix, -np.inf, dtype=float)\n",
    "max_values[np.arange(max_values.shape[0]), row_argmax] = row_maxval"
   ]
  },
  {
   "cell_type": "code",
   "execution_count": 23,
   "id": "d304f522",
   "metadata": {},
   "outputs": [
    {
     "data": {
      "text/plain": [
       "array([[0, 0, 0, 1, 0, 0, 0, 0, 0, 0, 0, 0, 0, 0],\n",
       "       [0, 0, 0, 0, 0, 0, 0, 0, 0, 0, 0, 1, 0, 0],\n",
       "       [0, 0, 0, 0, 0, 1, 0, 0, 0, 0, 0, 0, 0, 0]])"
      ]
     },
     "execution_count": 23,
     "metadata": {},
     "output_type": "execute_result"
    }
   ],
   "source": [
    "max_indices"
   ]
  },
  {
   "cell_type": "code",
   "execution_count": 24,
   "id": "21b1b3b5",
   "metadata": {},
   "outputs": [
    {
     "data": {
      "text/plain": [
       "array([[      -inf,       -inf,       -inf, 0.60000002,       -inf,\n",
       "              -inf,       -inf,       -inf,       -inf,       -inf,\n",
       "              -inf,       -inf,       -inf,       -inf],\n",
       "       [      -inf,       -inf,       -inf,       -inf,       -inf,\n",
       "              -inf,       -inf,       -inf,       -inf,       -inf,\n",
       "              -inf, 0.64999998,       -inf,       -inf],\n",
       "       [      -inf,       -inf,       -inf,       -inf,       -inf,\n",
       "        0.89999998,       -inf,       -inf,       -inf,       -inf,\n",
       "              -inf,       -inf,       -inf,       -inf]])"
      ]
     },
     "execution_count": 24,
     "metadata": {},
     "output_type": "execute_result"
    }
   ],
   "source": [
    "max_values"
   ]
  },
  {
   "cell_type": "code",
   "execution_count": 57,
   "id": "d61d3ae9",
   "metadata": {},
   "outputs": [],
   "source": [
    "from src.experiments.aggregate_average import find_random_predictions, create_random_encoding"
   ]
  },
  {
   "cell_type": "code",
   "execution_count": 58,
   "id": "67320aad",
   "metadata": {},
   "outputs": [
    {
     "name": "stdout",
     "output_type": "stream",
     "text": [
      "Data shape: torch.Size([3, 42])\n"
     ]
    },
    {
     "data": {
      "text/plain": [
       "array([[0, 0, 0, 0, 1, 0, 0, 0, 0, 0, 0, 0, 0, 0],\n",
       "       [0, 0, 0, 0, 0, 1, 0, 0, 0, 0, 0, 0, 0, 0],\n",
       "       [0, 0, 0, 0, 0, 0, 0, 0, 0, 0, 0, 0, 1, 0]])"
      ]
     },
     "execution_count": 58,
     "metadata": {},
     "output_type": "execute_result"
    }
   ],
   "source": [
    "fake_random_encoding_repeat, fake_random_predictions_repeat = find_random_predictions(model, fake_cur_score_nonrepeat, run_type=\"repeat\")\n",
    "fake_random_encoding_repeat"
   ]
  },
  {
   "cell_type": "code",
   "execution_count": 85,
   "id": "0a824c3d",
   "metadata": {},
   "outputs": [
    {
     "name": "stdout",
     "output_type": "stream",
     "text": [
      "Data shape: torch.Size([3, 42])\n"
     ]
    },
    {
     "data": {
      "text/plain": [
       "array([[0, 1, 0, 0, 0, 0, 0, 0, 0, 0, 0, 0, 0, 0],\n",
       "       [0, 1, 0, 0, 0, 0, 0, 0, 0, 0, 0, 0, 0, 0],\n",
       "       [0, 0, 0, 0, 0, 1, 0, 0, 0, 0, 0, 0, 0, 0]])"
      ]
     },
     "execution_count": 85,
     "metadata": {},
     "output_type": "execute_result"
    }
   ],
   "source": [
    "fake_random_encoding_nonrepeat, fake_random_predictions_nonrepeat = find_random_predictions(model, fake_cur_score_nonrepeat, run_type=\"nonrepeat\")\n",
    "fake_random_encoding_nonrepeat"
   ]
  },
  {
   "cell_type": "code",
   "execution_count": 60,
   "id": "4c08ac80",
   "metadata": {},
   "outputs": [],
   "source": [
    "def find_missing_mask(x1, x2, eps=1e-8):\n",
    "    \"\"\"\n",
    "    Given two arrays x1 and x2, return a boolean mask where the pairs (same index) are missing\n",
    "    - i.e., both values are equal and either 0 or 1 (i.e., [0,0] or [1,1]).\n",
    "    \"\"\"\n",
    "    eq = np.isclose(x1, x2, atol=eps, rtol=0)  # they are (almost) equal\n",
    "    is_0_or_1 = np.isclose(x1, 0.0, atol=eps, rtol=0) | np.isclose(x1, 1.0, atol=eps, rtol=0)  # they are (almost) 0 or 1\n",
    "    return eq & is_0_or_1"
   ]
  },
  {
   "cell_type": "code",
   "execution_count": 61,
   "id": "93da8fb8",
   "metadata": {},
   "outputs": [],
   "source": [
    "score_pairs = fake_cur_score_repeat.reshape(-1, 14, 2)"
   ]
  },
  {
   "cell_type": "code",
   "execution_count": 62,
   "id": "8c0b93e7",
   "metadata": {},
   "outputs": [
    {
     "data": {
      "text/plain": [
       "array([[[0.0625, 0.9375],\n",
       "        [0.    , 0.    ],\n",
       "        [0.1875, 0.8125],\n",
       "        [1.    , 1.    ],\n",
       "        [0.3125, 0.6875],\n",
       "        [0.375 , 0.625 ],\n",
       "        [0.4375, 0.5625],\n",
       "        [0.5   , 0.5   ],\n",
       "        [0.5625, 0.4375],\n",
       "        [0.625 , 0.375 ],\n",
       "        [0.6875, 0.3125],\n",
       "        [0.75  , 0.25  ],\n",
       "        [0.8125, 0.1875],\n",
       "        [0.    , 0.    ]],\n",
       "\n",
       "       [[0.0625, 0.9375],\n",
       "        [0.125 , 0.875 ],\n",
       "        [0.1875, 0.8125],\n",
       "        [0.25  , 0.75  ],\n",
       "        [0.3125, 0.6875],\n",
       "        [0.375 , 0.625 ],\n",
       "        [0.4375, 0.5625],\n",
       "        [0.5   , 0.5   ],\n",
       "        [0.5625, 0.4375],\n",
       "        [0.625 , 0.375 ],\n",
       "        [0.6875, 0.3125],\n",
       "        [0.75  , 0.25  ],\n",
       "        [0.8125, 0.1875],\n",
       "        [0.875 , 0.125 ]],\n",
       "\n",
       "       [[0.    , 0.    ],\n",
       "        [0.125 , 0.875 ],\n",
       "        [0.1875, 0.8125],\n",
       "        [0.25  , 0.75  ],\n",
       "        [0.3125, 0.6875],\n",
       "        [1.    , 1.    ],\n",
       "        [0.4375, 0.5625],\n",
       "        [0.5   , 0.5   ],\n",
       "        [0.5625, 0.4375],\n",
       "        [0.625 , 0.375 ],\n",
       "        [0.6875, 0.3125],\n",
       "        [0.75  , 0.25  ],\n",
       "        [0.8125, 0.1875],\n",
       "        [0.875 , 0.125 ]]])"
      ]
     },
     "execution_count": 62,
     "metadata": {},
     "output_type": "execute_result"
    }
   ],
   "source": [
    "score_pairs"
   ]
  },
  {
   "cell_type": "code",
   "execution_count": 63,
   "id": "c3ee0942",
   "metadata": {},
   "outputs": [
    {
     "data": {
      "text/plain": [
       "array([[ True, False,  True, False,  True,  True,  True,  True,  True,\n",
       "         True,  True,  True,  True, False],\n",
       "       [ True,  True,  True,  True,  True,  True,  True,  True,  True,\n",
       "         True,  True,  True,  True,  True],\n",
       "       [False,  True,  True,  True,  True, False,  True,  True,  True,\n",
       "         True,  True,  True,  True,  True]])"
      ]
     },
     "execution_count": 63,
     "metadata": {},
     "output_type": "execute_result"
    }
   ],
   "source": [
    "~find_missing_mask(score_pairs[:, :, 0], score_pairs[:, :, 1])"
   ]
  },
  {
   "cell_type": "code",
   "execution_count": 64,
   "id": "475069f6",
   "metadata": {},
   "outputs": [
    {
     "data": {
      "text/plain": [
       "array([[0, 1, 0, 0, 0, 0, 0, 0, 0, 0, 0, 0, 0, 0],\n",
       "       [0, 0, 0, 0, 0, 0, 0, 0, 0, 0, 0, 1, 0, 0],\n",
       "       [0, 0, 0, 0, 0, 1, 0, 0, 0, 0, 0, 0, 0, 0]])"
      ]
     },
     "execution_count": 64,
     "metadata": {},
     "output_type": "execute_result"
    }
   ],
   "source": [
    "create_random_encoding(fake_cur_score_nonrepeat, run_type=\"nonrepeat\")"
   ]
  },
  {
   "cell_type": "code",
   "execution_count": 65,
   "id": "da2fccf0",
   "metadata": {},
   "outputs": [],
   "source": [
    "fake_random_encoding_repeat = create_random_encoding(fake_cur_score_repeat, run_type=\"repeat\")"
   ]
  },
  {
   "cell_type": "code",
   "execution_count": 66,
   "id": "b56c7626",
   "metadata": {},
   "outputs": [
    {
     "data": {
      "text/plain": [
       "array([[0, 0, 0, 0, 0, 1, 0, 0, 0, 0, 0, 0, 0, 0],\n",
       "       [0, 0, 0, 0, 0, 0, 0, 0, 0, 0, 0, 1, 0, 0],\n",
       "       [0, 0, 0, 0, 0, 0, 0, 0, 0, 0, 1, 0, 0, 0]])"
      ]
     },
     "execution_count": 66,
     "metadata": {},
     "output_type": "execute_result"
    }
   ],
   "source": [
    "fake_random_encoding_repeat"
   ]
  },
  {
   "cell_type": "code",
   "execution_count": 67,
   "id": "c1101b61",
   "metadata": {},
   "outputs": [
    {
     "data": {
      "text/plain": [
       "array([[0.    , 0.    , 0.    , 0.    , 0.    , 1.    , 0.    , 0.    ,\n",
       "        0.    , 0.    , 0.    , 0.    , 0.    , 0.    , 0.0625, 0.9375,\n",
       "        0.    , 0.    , 0.1875, 0.8125, 1.    , 1.    , 0.3125, 0.6875,\n",
       "        0.375 , 0.625 , 0.4375, 0.5625, 0.5   , 0.5   , 0.5625, 0.4375,\n",
       "        0.625 , 0.375 , 0.6875, 0.3125, 0.75  , 0.25  , 0.8125, 0.1875,\n",
       "        0.    , 0.    ],\n",
       "       [0.    , 0.    , 0.    , 0.    , 0.    , 0.    , 0.    , 0.    ,\n",
       "        0.    , 0.    , 0.    , 1.    , 0.    , 0.    , 0.0625, 0.9375,\n",
       "        0.125 , 0.875 , 0.1875, 0.8125, 0.25  , 0.75  , 0.3125, 0.6875,\n",
       "        0.375 , 0.625 , 0.4375, 0.5625, 0.5   , 0.5   , 0.5625, 0.4375,\n",
       "        0.625 , 0.375 , 0.6875, 0.3125, 0.75  , 0.25  , 0.8125, 0.1875,\n",
       "        0.875 , 0.125 ],\n",
       "       [0.    , 0.    , 0.    , 0.    , 0.    , 0.    , 0.    , 0.    ,\n",
       "        0.    , 0.    , 1.    , 0.    , 0.    , 0.    , 0.    , 0.    ,\n",
       "        0.125 , 0.875 , 0.1875, 0.8125, 0.25  , 0.75  , 0.3125, 0.6875,\n",
       "        1.    , 1.    , 0.4375, 0.5625, 0.5   , 0.5   , 0.5625, 0.4375,\n",
       "        0.625 , 0.375 , 0.6875, 0.3125, 0.75  , 0.25  , 0.8125, 0.1875,\n",
       "        0.875 , 0.125 ]])"
      ]
     },
     "execution_count": 67,
     "metadata": {},
     "output_type": "execute_result"
    }
   ],
   "source": [
    "from src.experiments.aggregate_average import add_encoding\n",
    "x_random = add_encoding(fake_cur_score_repeat, fake_random_encoding_repeat)\n",
    "x_random"
   ]
  },
  {
   "cell_type": "code",
   "execution_count": null,
   "id": "5c37b6c7",
   "metadata": {},
   "outputs": [],
   "source": []
  }
 ],
 "metadata": {
  "kernelspec": {
   "display_name": "CT",
   "language": "python",
   "name": "python3"
  },
  "language_info": {
   "codemirror_mode": {
    "name": "ipython",
    "version": 3
   },
   "file_extension": ".py",
   "mimetype": "text/x-python",
   "name": "python",
   "nbconvert_exporter": "python",
   "pygments_lexer": "ipython3",
   "version": "3.12.11"
  }
 },
 "nbformat": 4,
 "nbformat_minor": 5
}
