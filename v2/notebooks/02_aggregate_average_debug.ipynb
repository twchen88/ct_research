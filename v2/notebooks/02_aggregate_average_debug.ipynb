{
 "cells": [
  {
   "cell_type": "markdown",
   "id": "66ba9fc5",
   "metadata": {},
   "source": [
    "Set Working Directory"
   ]
  },
  {
   "cell_type": "code",
   "execution_count": 1,
   "id": "dfe4dde7",
   "metadata": {},
   "outputs": [
    {
     "data": {
      "text/plain": [
       "'/Users/964505/CT/ct_research/v2'"
      ]
     },
     "execution_count": 1,
     "metadata": {},
     "output_type": "execute_result"
    }
   ],
   "source": [
    "import os\n",
    "os.chdir('..')\n",
    "os.getcwd()"
   ]
  },
  {
   "cell_type": "markdown",
   "id": "612c0f6d",
   "metadata": {},
   "source": [
    "Packages"
   ]
  },
  {
   "cell_type": "code",
   "execution_count": 2,
   "id": "45ac0d12",
   "metadata": {},
   "outputs": [],
   "source": [
    "import yaml\n",
    "import numpy as np\n",
    "\n",
    "import src.experiments.file_io as file_io\n",
    "import src.experiments.aggregate_average as core\n",
    "import src.experiments.shared as shared\n",
    "import src.viz.aggregate_average as viz\n",
    "\n",
    "from pathlib import Path\n",
    "from datetime import datetime\n",
    "\n",
    "from src.utils.reproducibility import set_global_seed\n",
    "from src.utils.metadata import get_git_commit_hash\n",
    "from src.utils.config_loading import load_yaml_config"
   ]
  },
  {
   "cell_type": "markdown",
   "id": "099f0ae0",
   "metadata": {},
   "source": [
    "Functions"
   ]
  },
  {
   "cell_type": "code",
   "execution_count": 3,
   "id": "030a64a7",
   "metadata": {},
   "outputs": [],
   "source": [
    "def compute_score_pair_errors(gt_score_pairs, pred_score_pairs):\n",
    "    # calculate mean absolute error\n",
    "    mean_error = np.mean(np.abs(gt_score_pairs - pred_score_pairs))\n",
    "\n",
    "    # calculate ground truth std\n",
    "    ground_truth_std = np.std(gt_score_pairs, ddof=1)\n",
    "    \n",
    "    return mean_error, ground_truth_std"
   ]
  },
  {
   "cell_type": "code",
   "execution_count": 4,
   "id": "267711e9",
   "metadata": {},
   "outputs": [],
   "source": [
    "def evaluate_error_by_missing_count(test_x, test_y, test_predictions, dims=14):\n",
    "    _, cur_score = core.split_encoding_and_scores(test_x, dims=dims)\n",
    "    future_score_gt = test_y\n",
    "\n",
    "    mean_errors_list = []\n",
    "    ground_truth_std_list = []\n",
    "    ground_truth_dict = {}\n",
    "    missing_counts = list(range(0, dims))\n",
    "\n",
    "    for n in missing_counts:\n",
    "        filter_mask = core.filter_sessions_by_missing_count(cur_score, n)\n",
    "        filtered_gt = future_score_gt[filter_mask]\n",
    "        filtered_pred = test_predictions[filter_mask]\n",
    "\n",
    "        ground_truth_dict[str(n)] = filtered_gt\n",
    "\n",
    "        if filtered_gt.size == 0:\n",
    "            mean_errors_list.append(np.nan)\n",
    "            ground_truth_std_list.append(np.nan)\n",
    "            continue\n",
    "\n",
    "        mean_error, std_dev = compute_score_pair_errors(filtered_gt, filtered_pred)\n",
    "        mean_errors_list.append(mean_error)\n",
    "        ground_truth_std_list.append(std_dev)\n",
    "\n",
    "    return missing_counts, mean_errors_list, ground_truth_std_list, ground_truth_dict"
   ]
  },
  {
   "cell_type": "markdown",
   "id": "76f26020",
   "metadata": {},
   "source": [
    "Script"
   ]
  },
  {
   "cell_type": "code",
   "execution_count": 5,
   "id": "9c2c7584",
   "metadata": {},
   "outputs": [],
   "source": [
    "config_path = \"config/experiments/20250624_aggavg_1.yaml\""
   ]
  },
  {
   "cell_type": "code",
   "execution_count": 6,
   "id": "eb14d08e",
   "metadata": {},
   "outputs": [],
   "source": [
    "# load configuration\n",
    "config = load_yaml_config(config_path)\n",
    "run_type = config[\"settings\"][\"type\"] # repeat vs non-repeat\n",
    "device = config[\"settings\"][\"device\"] # cpu or cuda\n",
    "seed = config[\"settings\"][\"seed\"]\n",
    "\n",
    "data_source = config[\"data\"][\"data_source\"] # npz file with multiple arrays\n",
    "model_source = config[\"data\"][\"model_source\"] # path to the model\n",
    "output_destination = config[\"data\"][\"destination_base\"]"
   ]
  },
  {
   "cell_type": "code",
   "execution_count": 7,
   "id": "ad78497b",
   "metadata": {},
   "outputs": [],
   "source": [
    "## general setup\n",
    "figure_names = [\"accuracy_assessment.png\", \"aggregate_average.png\"]\n",
    "\n",
    "\n",
    "## set global seed\n",
    "set_global_seed(seed)\n",
    "\n",
    "## get git commit hash\n",
    "git_commit_hash = get_git_commit_hash()"
   ]
  },
  {
   "cell_type": "code",
   "execution_count": 8,
   "id": "72646ed8",
   "metadata": {},
   "outputs": [],
   "source": [
    "## load model\n",
    "model = shared.load_model(model_source, device=device)"
   ]
  },
  {
   "cell_type": "code",
   "execution_count": 9,
   "id": "634a2d09",
   "metadata": {},
   "outputs": [],
   "source": [
    "## read data\n",
    "test_data = np.load(\"old_data/next_step_test_data_encoded.npy\")\n",
    "test_data = core.filter_rows_by_sum(test_data, slice(0, 14), 1)\n",
    "from src.training.training_torch import split_input_target\n",
    "\n",
    "test_x, test_y = split_input_target(test_data)\n",
    "test_predictions = shared.inference(model, test_x)\n",
    "test_x = test_x.cpu().numpy()\n",
    "test_y = test_y.cpu().numpy()"
   ]
  },
  {
   "cell_type": "code",
   "execution_count": 10,
   "id": "d62db495",
   "metadata": {},
   "outputs": [
    {
     "data": {
      "text/plain": [
       "((960116, 42), (960116, 14), (960116, 14))"
      ]
     },
     "execution_count": 10,
     "metadata": {},
     "output_type": "execute_result"
    }
   ],
   "source": [
    "test_x.shape, test_y.shape, test_predictions.shape"
   ]
  },
  {
   "cell_type": "code",
   "execution_count": 11,
   "id": "058807ae",
   "metadata": {},
   "outputs": [],
   "source": [
    "## filter by session type\n",
    "repeat_mask = core.assign_repeat(test_x)"
   ]
  },
  {
   "cell_type": "code",
   "execution_count": 12,
   "id": "a5248661",
   "metadata": {},
   "outputs": [
    {
     "data": {
      "text/plain": [
       "np.int64(956635)"
      ]
     },
     "execution_count": 12,
     "metadata": {},
     "output_type": "execute_result"
    }
   ],
   "source": [
    "repeat_mask.sum()"
   ]
  },
  {
   "cell_type": "code",
   "execution_count": 13,
   "id": "baeea979",
   "metadata": {},
   "outputs": [],
   "source": [
    "# if run type is repeat, filter for only repeat sessions\n",
    "# if run type is non-repeat, filter for only non-repeat sessions\n",
    "if run_type == \"repeat\":\n",
    "    test_x = test_x[repeat_mask]\n",
    "    test_y = test_y[repeat_mask]\n",
    "    test_predictions = test_predictions[repeat_mask]\n",
    "elif run_type == \"non-repeat\":\n",
    "    test_x = test_x[~repeat_mask]\n",
    "    test_y = test_y[~repeat_mask]\n",
    "    test_predictions = test_predictions[~repeat_mask]"
   ]
  },
  {
   "cell_type": "code",
   "execution_count": 14,
   "id": "1c6641ed",
   "metadata": {},
   "outputs": [
    {
     "data": {
      "text/plain": [
       "((956635, 42), (956635, 14), (956635, 14))"
      ]
     },
     "execution_count": 14,
     "metadata": {},
     "output_type": "execute_result"
    }
   ],
   "source": [
    "test_x.shape, test_y.shape, test_predictions.shape"
   ]
  },
  {
   "cell_type": "markdown",
   "id": "5370fd01",
   "metadata": {},
   "source": [
    "(1) find ground truth std and prediction MAE"
   ]
  },
  {
   "cell_type": "code",
   "execution_count": 15,
   "id": "ccba9fd5",
   "metadata": {},
   "outputs": [],
   "source": [
    "# encoding, cur_score = core.split_encoding_and_scores(test_x, dims=14)\n",
    "# future_score_gt = test_y\n",
    "\n",
    "# mean_errors_list = []\n",
    "# ground_truth_std_list = []\n",
    "# ground_truth_dict = {}\n",
    "missing_counts = list(range(0, 14))"
   ]
  },
  {
   "cell_type": "code",
   "execution_count": 16,
   "id": "ae8905e4",
   "metadata": {},
   "outputs": [],
   "source": [
    "# for n in missing_counts:\n",
    "#     filter_mask = core.filter_sessions_by_missing_count(cur_score, n)\n",
    "#     filtered_encoding = encoding[filter_mask]\n",
    "#     filtered_gt = future_score_gt[filter_mask][filtered_encoding == 1]\n",
    "    # filtered_pred = test_predictions[filter_mask][filtered_encoding == 1]\n",
    "\n",
    "    # ground_truth_dict[str(n)] = filtered_gt\n",
    "\n",
    "    # if filtered_gt.size == 0:\n",
    "    #     mean_errors_list.append(np.nan)\n",
    "    #     ground_truth_std_list.append(np.nan)\n",
    "    #     continue\n",
    "\n",
    "    # mean_error, std_dev = core.compute_errors(filtered_gt, filtered_pred)\n",
    "    # mean_errors_list.append(mean_error)\n",
    "    # ground_truth_std_list.append(std_dev)"
   ]
  },
  {
   "cell_type": "code",
   "execution_count": 17,
   "id": "105cacae",
   "metadata": {},
   "outputs": [],
   "source": [
    "# # plot error by missing count and save figure\n",
    "# viz.plot_error_by_missing_count(\n",
    "#     missing_counts=missing_counts,\n",
    "#     std=ground_truth_std_list,\n",
    "#     error=mean_errors_list,\n",
    "#     run_type=run_type\n",
    "# )"
   ]
  },
  {
   "cell_type": "markdown",
   "id": "17171cf8",
   "metadata": {},
   "source": [
    "(2) predict scores based on strategy"
   ]
  },
  {
   "cell_type": "code",
   "execution_count": 18,
   "id": "340074c0",
   "metadata": {},
   "outputs": [],
   "source": [
    "# ground truth original scores\n",
    "encoding, scores_gt = core.split_encoding_and_scores(test_x, dims=14)"
   ]
  },
  {
   "cell_type": "code",
   "execution_count": 19,
   "id": "0e8d0e0d",
   "metadata": {},
   "outputs": [],
   "source": [
    "# ground truth future scores\n",
    "future_scores_gt = test_y"
   ]
  },
  {
   "cell_type": "code",
   "execution_count": 20,
   "id": "b6e68986",
   "metadata": {},
   "outputs": [
    {
     "data": {
      "text/plain": [
       "((956635, 28), (956635, 14))"
      ]
     },
     "execution_count": 20,
     "metadata": {},
     "output_type": "execute_result"
    }
   ],
   "source": [
    "scores_gt.shape, future_scores_gt.shape"
   ]
  },
  {
   "cell_type": "code",
   "execution_count": 21,
   "id": "0abd0885",
   "metadata": {},
   "outputs": [
    {
     "data": {
      "text/plain": [
       "array([[0.526     , 0.47399998, 0.02      , 0.98      , 0.148     ,\n",
       "        0.852     , 0.375     , 0.625     , 0.129     , 0.871     ,\n",
       "        0.        , 1.        , 0.022     , 0.978     , 0.        ,\n",
       "        0.        , 0.08      , 0.92      , 0.454     , 0.546     ,\n",
       "        0.8       , 0.19999999, 0.127     , 0.873     , 0.081     ,\n",
       "        0.919     , 1.        , 0.        ],\n",
       "       [0.526     , 0.47399998, 0.11      , 0.89      , 1.        ,\n",
       "        0.        , 0.4       , 0.6       , 0.168     , 0.832     ,\n",
       "        0.013     , 0.987     , 0.222     , 0.778     , 0.        ,\n",
       "        1.        , 0.307     , 0.69299996, 0.485     , 0.515     ,\n",
       "        0.64      , 0.36      , 0.364     , 0.63600004, 0.644     ,\n",
       "        0.356     , 0.2       , 0.8       ],\n",
       "       [1.        , 0.        , 1.        , 0.        , 1.        ,\n",
       "        0.        , 1.        , 0.        , 1.        , 0.        ,\n",
       "        1.        , 1.        , 0.95      , 0.05000001, 0.        ,\n",
       "        0.        , 1.        , 0.        , 1.        , 0.        ,\n",
       "        1.        , 0.        , 0.74      , 0.26      , 1.        ,\n",
       "        0.        , 0.        , 0.        ]], dtype=float32)"
      ]
     },
     "execution_count": 21,
     "metadata": {},
     "output_type": "execute_result"
    }
   ],
   "source": [
    "scores_gt[:3]"
   ]
  },
  {
   "cell_type": "code",
   "execution_count": 22,
   "id": "5a9623af",
   "metadata": {},
   "outputs": [
    {
     "data": {
      "text/plain": [
       "array([[0.   , 0.   , 0.   , 0.   , 0.   , 0.   , 0.   , 0.   , 0.   ,\n",
       "        0.   , 0.   , 0.   , 0.081, 0.   ],\n",
       "       [0.   , 0.   , 0.   , 0.   , 0.   , 0.   , 0.   , 0.   , 0.   ,\n",
       "        0.5  , 0.   , 0.   , 0.   , 0.   ],\n",
       "       [0.   , 0.   , 0.   , 0.   , 0.   , 0.   , 0.   , 0.   , 0.   ,\n",
       "        1.   , 0.   , 0.   , 0.   , 0.   ]], dtype=float32)"
      ]
     },
     "execution_count": 22,
     "metadata": {},
     "output_type": "execute_result"
    }
   ],
   "source": [
    "future_scores_gt[:3]"
   ]
  },
  {
   "cell_type": "code",
   "execution_count": 23,
   "id": "fe8b0c7b",
   "metadata": {},
   "outputs": [],
   "source": [
    "# best\n",
    "prediction_list = []\n",
    "rows, cols = test_y.shape\n",
    "_, scores = core.split_encoding_and_scores(test_x, dims=14)\n",
    "for domain in missing_counts:\n",
    "    single_encoding = core.create_single_encoding(rows, cols, domain)\n",
    "    tmp_single = core.add_encoding(scores, single_encoding)\n",
    "    single_prediction = shared.inference(model, tmp_single)\n",
    "    prediction_list.append(single_prediction[:, domain])\n",
    "\n",
    "prediction_matrix = np.column_stack(prediction_list)\n",
    "difference = prediction_matrix - scores[:, ::2]\n",
    "\n",
    "# find max indices\n",
    "max_values, max_indices = shared.max_prediction_from_difference_pair(difference, prediction_matrix, scores, run_type)\n",
    "# reconstruct matrices\n",
    "future_scores_best, best_encoding = core.reconstruct_max_matrices(max_values, max_indices, prediction_matrix.shape)"
   ]
  },
  {
   "cell_type": "code",
   "execution_count": 24,
   "id": "9c396baa",
   "metadata": {},
   "outputs": [],
   "source": [
    "# random\n",
    "random_encoding, future_scores_random = core.find_random_predictions(\n",
    "    model=model,\n",
    "    data=scores_gt,\n",
    "    run_type=run_type\n",
    ")"
   ]
  },
  {
   "cell_type": "code",
   "execution_count": 25,
   "id": "c149c6a4",
   "metadata": {},
   "outputs": [],
   "source": [
    "average_gt_list = []\n",
    "average_best_list = []\n",
    "average_random_list = []\n",
    "\n",
    "std_gt_list = []\n",
    "std_best_list = []\n",
    "std_random_list = []"
   ]
  },
  {
   "cell_type": "code",
   "execution_count": 26,
   "id": "e5ec6579",
   "metadata": {},
   "outputs": [],
   "source": [
    "def compute_averages_and_stds(cur_scores, future_scores, masks):\n",
    "    \"\"\"\n",
    "    masks: first mask for missing count, second mask for location of target value (encoding == 1)\n",
    "    \"\"\"\n",
    "    difference = future_scores - cur_scores\n",
    "    difference_filtered = core.filter_with_masks(difference, masks)\n",
    "\n",
    "    average = np.mean(difference_filtered)\n",
    "    std_dev = np.std(difference_filtered)\n",
    "\n",
    "    return average, std_dev"
   ]
  },
  {
   "cell_type": "code",
   "execution_count": 27,
   "id": "b01d2f22",
   "metadata": {},
   "outputs": [],
   "source": [
    "# for n in missing_counts:\n",
    "#     # get missing mask\n",
    "#     missing_mask = core.filter_sessions_by_missing_count(scores_gt, n)\n",
    "#     # get original data that fit the missing count\n",
    "#     # call helper calculate ground truth\n",
    "#     compute_averages_and_stds(scores_gt, future_scores_gt, missing_mask)\n",
    "#     # call helper find random predictions and encoding\n",
    "#     future_scores_random = core.find_random_predictions(\n",
    "#         model=model,\n",
    "#         data=test_x,\n",
    "#         run_type=run_type\n",
    "#     )\n",
    "#     # call helper calculate\n",
    "#     compute_averages_and_stds(scores_gt, future_scores_random, missing_mask)\n",
    "#     # call helper find best predictions and encoding\n",
    "#     future_scores_best, best_encoding = core.find_best_predictions(\n",
    "#         model=model,\n",
    "#         data=test_x,\n",
    "#         run_type=run_type\n",
    "#     )\n",
    "#     # call helper calculate\n",
    "#     pass"
   ]
  },
  {
   "cell_type": "code",
   "execution_count": 28,
   "id": "580757dd",
   "metadata": {},
   "outputs": [],
   "source": [
    "for n in missing_counts:\n",
    "    missing_mask = core.filter_sessions_by_missing_count(scores_gt, n)\n",
    "    \n",
    "    scores_gt_tmp = scores_gt[missing_mask][:, ::2]\n",
    "\n",
    "    future_scores_gt_tmp = future_scores_gt[missing_mask]\n",
    "    future_scores_best_tmp = future_scores_best[missing_mask]\n",
    "    future_scores_random_tmp = future_scores_random[missing_mask]\n",
    "\n",
    "    difference_gt = future_scores_gt_tmp - scores_gt_tmp\n",
    "    difference_gt = difference_gt[encoding[missing_mask] == 1]\n",
    "    difference_best = future_scores_best_tmp - scores_gt_tmp\n",
    "    difference_best = difference_best[best_encoding[missing_mask] == 1]\n",
    "    difference_random = future_scores_random_tmp - scores_gt_tmp\n",
    "    difference_random = difference_random[random_encoding[missing_mask] == 1]\n",
    "\n",
    "    average_gt = np.mean(difference_gt)\n",
    "    average_best = np.mean(difference_best)\n",
    "    average_random = np.mean(difference_random)\n",
    "\n",
    "    std_gt = np.std(difference_gt)\n",
    "    std_best = np.std(difference_best)\n",
    "    std_random = np.std(difference_random)\n",
    "\n",
    "    average_gt_list.append(average_gt)\n",
    "    average_best_list.append(average_best)\n",
    "    average_random_list.append(average_random)\n",
    "\n",
    "    std_gt_list.append(std_gt)\n",
    "    std_best_list.append(std_best)\n",
    "    std_random_list.append(std_random)"
   ]
  },
  {
   "cell_type": "code",
   "execution_count": 29,
   "id": "e162d21c",
   "metadata": {},
   "outputs": [
    {
     "data": {
      "text/plain": [
       "array([0, 0, 0, 0, 0, 0, 1, 0, 0, 0, 0, 0, 0, 0])"
      ]
     },
     "execution_count": 29,
     "metadata": {},
     "output_type": "execute_result"
    }
   ],
   "source": [
    "random_encoding[0]"
   ]
  },
  {
   "cell_type": "code",
   "execution_count": 30,
   "id": "51e09d5a",
   "metadata": {},
   "outputs": [
    {
     "data": {
      "text/plain": [
       "array([0.526     , 0.47399998, 0.02      , 0.98      , 0.148     ,\n",
       "       0.852     , 0.375     , 0.625     , 0.129     , 0.871     ,\n",
       "       0.        , 1.        , 0.022     , 0.978     , 0.        ,\n",
       "       0.        , 0.08      , 0.92      , 0.454     , 0.546     ,\n",
       "       0.8       , 0.19999999, 0.127     , 0.873     , 0.081     ,\n",
       "       0.919     , 1.        , 0.        ], dtype=float32)"
      ]
     },
     "execution_count": 30,
     "metadata": {},
     "output_type": "execute_result"
    }
   ],
   "source": [
    "test_x[0, 14:]"
   ]
  },
  {
   "cell_type": "code",
   "execution_count": 31,
   "id": "a55cf66c",
   "metadata": {},
   "outputs": [
    {
     "data": {
      "text/plain": [
       "array([0.   , 0.   , 0.   , 0.   , 0.   , 0.   , 0.   , 0.   , 0.   ,\n",
       "       0.   , 0.   , 0.   , 0.081, 0.   ], dtype=float32)"
      ]
     },
     "execution_count": 31,
     "metadata": {},
     "output_type": "execute_result"
    }
   ],
   "source": [
    "test_y[0]"
   ]
  },
  {
   "cell_type": "code",
   "execution_count": 32,
   "id": "ef427aa5",
   "metadata": {},
   "outputs": [
    {
     "data": {
      "text/plain": [
       "array([[0., 0., 0., ..., 0., 0., 0.],\n",
       "       [0., 0., 0., ..., 0., 1., 1.],\n",
       "       [0., 1., 0., ..., 0., 1., 1.],\n",
       "       ...,\n",
       "       [0., 0., 0., ..., 1., 0., 0.],\n",
       "       [0., 0., 0., ..., 0., 1., 1.],\n",
       "       [0., 0., 0., ..., 0., 1., 1.]], shape=(80, 42), dtype=float32)"
      ]
     },
     "execution_count": 32,
     "metadata": {},
     "output_type": "execute_result"
    }
   ],
   "source": [
    "test_x[missing_mask]"
   ]
  },
  {
   "cell_type": "code",
   "execution_count": 33,
   "id": "50a283dc",
   "metadata": {},
   "outputs": [
    {
     "data": {
      "text/plain": [
       "[np.float64(0.07141624671920725),\n",
       " np.float64(0.05383774746095314),\n",
       " np.float64(0.052733244750743744),\n",
       " np.float64(0.04513173623788254),\n",
       " np.float64(0.041469924073482184),\n",
       " np.float64(0.04625416694192471),\n",
       " np.float64(0.043550000751269205),\n",
       " np.float64(0.04321711525134392),\n",
       " np.float64(0.04155726181623959),\n",
       " np.float64(0.030606894451078816),\n",
       " np.float64(0.05418108218454512),\n",
       " np.float64(0.030664874996379037),\n",
       " np.float64(0.02428218586542664),\n",
       " np.float64(0.026693455292843282)]"
      ]
     },
     "execution_count": 33,
     "metadata": {},
     "output_type": "execute_result"
    }
   ],
   "source": [
    "average_best_list"
   ]
  },
  {
   "cell_type": "code",
   "execution_count": 34,
   "id": "68d89bb4",
   "metadata": {},
   "outputs": [],
   "source": [
    "import matplotlib.pyplot as plt"
   ]
  },
  {
   "cell_type": "code",
   "execution_count": 35,
   "id": "6492987d",
   "metadata": {},
   "outputs": [
    {
     "data": {
      "image/png": "[encoded data removed]",
      "text/plain": [
       "<Figure size 1000x600 with 1 Axes>"
      ]
     },
     "metadata": {},
     "output_type": "display_data"
    }
   ],
   "source": [
    "# Define x-axis values (number of unknown domains)\n",
    "# Plot with error bars\n",
    "plt.figure(figsize=(10, 6))\n",
    "\n",
    "plt.errorbar(missing_counts, average_best_list, yerr=std_best_list, label=\"Best\", fmt='-o', capsize=5, color=\"blue\")\n",
    "plt.errorbar(missing_counts, average_random_list, yerr=std_random_list, label=\"Random\", fmt='-o', capsize=5, color=\"orange\")\n",
    "plt.errorbar(missing_counts, average_gt_list, yerr=std_gt_list, label=\"Ground Truth\", fmt='-o', capsize=5, color=\"green\")\n",
    "\n",
    "# Labels and Title\n",
    "plt.xlabel(\"Number of Unknown Domains\")\n",
    "plt.ylabel(\"Average Score\")\n",
    "plt.title(\"Repeat Session Average Score\")\n",
    "\n",
    "# Legend and Grid\n",
    "plt.legend()\n",
    "plt.grid(axis='y', linestyle='--', alpha=0.7)\n",
    "\n",
    "# Show plot\n",
    "plt.show()"
   ]
  },
  {
   "cell_type": "code",
   "execution_count": 36,
   "id": "6ff04989",
   "metadata": {},
   "outputs": [
    {
     "data": {
      "text/plain": [
       "'# get score pairs\\ngt_score_pairs = core.extract_score_pairs(gt_score_pairs)\\npred_score_pairs = core.extract_score_pairs(pred_score_pairs)\\n\\n# find valid score pairs\\nvalid_mask = core.find_missing_mask(gt_score_pairs[:, :, 0], gt_score_pairs[:, :, 1])\\n\\n# filter valid score pairs\\ngt_score_pairs = gt_score_pairs[valid_mask]\\npred_score_pairs = pred_score_pairs[valid_mask]'"
      ]
     },
     "execution_count": 36,
     "metadata": {},
     "output_type": "execute_result"
    }
   ],
   "source": [
    "'''# get score pairs\n",
    "gt_score_pairs = core.extract_score_pairs(gt_score_pairs)\n",
    "pred_score_pairs = core.extract_score_pairs(pred_score_pairs)\n",
    "\n",
    "# find valid score pairs\n",
    "valid_mask = core.find_missing_mask(gt_score_pairs[:, :, 0], gt_score_pairs[:, :, 1])\n",
    "\n",
    "# filter valid score pairs\n",
    "gt_score_pairs = gt_score_pairs[valid_mask]\n",
    "pred_score_pairs = pred_score_pairs[valid_mask]'''\n",
    "\n"
   ]
  }
 ],
 "metadata": {
  "kernelspec": {
   "display_name": "CT",
   "language": "python",
   "name": "python3"
  },
  "language_info": {
   "codemirror_mode": {
    "name": "ipython",
    "version": 3
   },
   "file_extension": ".py",
   "mimetype": "text/x-python",
   "name": "python",
   "nbconvert_exporter": "python",
   "pygments_lexer": "ipython3",
   "version": "3.12.11"
  }
 },
 "nbformat": 4,
 "nbformat_minor": 5
}
