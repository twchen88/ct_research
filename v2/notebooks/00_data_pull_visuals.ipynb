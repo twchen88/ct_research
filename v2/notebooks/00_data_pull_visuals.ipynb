{
 "cells": [
  {
   "cell_type": "markdown",
   "id": "7a6e78dd",
   "metadata": {},
   "source": [
    "# Raw Data Sanity Check\n",
    "## Objective\n",
    "- Check to see if results from query are as expected, compared to past results (20250602)"
   ]
  },
  {
   "cell_type": "markdown",
   "id": "acf9b489",
   "metadata": {},
   "source": [
    "## Set up"
   ]
  },
  {
   "cell_type": "markdown",
   "id": "ee9666ba",
   "metadata": {},
   "source": [
    "### set up working directory\n",
    "Change working directory to parent directory (v2/)"
   ]
  },
  {
   "cell_type": "code",
   "execution_count": 1,
   "id": "f27ffdd9",
   "metadata": {},
   "outputs": [
    {
     "data": {
      "text/plain": [
       "'/Users/964505/CT/ct_research/v2'"
      ]
     },
     "execution_count": 1,
     "metadata": {},
     "output_type": "execute_result"
    }
   ],
   "source": [
    "import os\n",
    "os.chdir('..')\n",
    "os.getcwd()"
   ]
  },
  {
   "cell_type": "markdown",
   "id": "18fda9ea",
   "metadata": {},
   "source": [
    "### import libraries and src code"
   ]
  },
  {
   "cell_type": "code",
   "execution_count": 2,
   "id": "8b7ddf0d",
   "metadata": {},
   "outputs": [],
   "source": [
    "import src.data.data_io as data_io"
   ]
  },
  {
   "cell_type": "markdown",
   "id": "c6fb0a6b",
   "metadata": {},
   "source": [
    "## Load Data"
   ]
  },
  {
   "cell_type": "code",
   "execution_count": 3,
   "id": "1390fb75",
   "metadata": {},
   "outputs": [],
   "source": [
    "df = data_io.read_raw_session_file('data/raw/predictor_data_20250529.csv')"
   ]
  },
  {
   "cell_type": "markdown",
   "id": "039b0b4e",
   "metadata": {},
   "source": [
    "## Check various statistics\n",
    "- number of rows\n",
    "- number of unique users"
   ]
  },
  {
   "cell_type": "code",
   "execution_count": 4,
   "id": "d8a085b5",
   "metadata": {},
   "outputs": [
    {
     "data": {
      "text/plain": [
       "id               7008614\n",
       "patient_id         68780\n",
       "start_time       6693130\n",
       "task_type_id         173\n",
       "task_level            12\n",
       "domain_ids            27\n",
       "domain_scores     191137\n",
       "dtype: int64"
      ]
     },
     "execution_count": 4,
     "metadata": {},
     "output_type": "execute_result"
    }
   ],
   "source": [
    "df.nunique()"
   ]
  }
 ],
 "metadata": {
  "kernelspec": {
   "display_name": "CT",
   "language": "python",
   "name": "python3"
  },
  "language_info": {
   "codemirror_mode": {
    "name": "ipython",
    "version": 3
   },
   "file_extension": ".py",
   "mimetype": "text/x-python",
   "name": "python",
   "nbconvert_exporter": "python",
   "pygments_lexer": "ipython3",
   "version": "3.9.19"
  }
 },
 "nbformat": 4,
 "nbformat_minor": 5
}
