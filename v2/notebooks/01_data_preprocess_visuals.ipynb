{
 "cells": [
  {
   "cell_type": "markdown",
   "id": "954b3b23",
   "metadata": {},
   "source": [
    "### Preprocessed Data Sanity Check\n",
    "## Objective\n",
    "- Check to see that preprocessed data is as expected as compared to v1 results (20250602)"
   ]
  },
  {
   "cell_type": "markdown",
   "id": "6c0a4fc9",
   "metadata": {},
   "source": [
    "## Set up"
   ]
  },
  {
   "cell_type": "markdown",
   "id": "faeff3cb",
   "metadata": {},
   "source": [
    "### Set up working directory"
   ]
  },
  {
   "cell_type": "code",
   "execution_count": 1,
   "id": "3cb8942c",
   "metadata": {},
   "outputs": [
    {
     "data": {
      "text/plain": [
       "'/Users/964505/CT/ct_research/v2'"
      ]
     },
     "execution_count": 1,
     "metadata": {},
     "output_type": "execute_result"
    }
   ],
   "source": [
    "import os\n",
    "os.chdir('..')\n",
    "os.getcwd()"
   ]
  },
  {
   "cell_type": "markdown",
   "id": "60e27211",
   "metadata": {},
   "source": [
    "### Import Packages"
   ]
  },
  {
   "cell_type": "code",
   "execution_count": 2,
   "id": "e404ef18",
   "metadata": {},
   "outputs": [],
   "source": [
    "import src.data.data_io as data_io"
   ]
  },
  {
   "cell_type": "markdown",
   "id": "ad014529",
   "metadata": {},
   "source": [
    "## Load data"
   ]
  },
  {
   "cell_type": "code",
   "execution_count": 4,
   "id": "dba91ec8",
   "metadata": {},
   "outputs": [],
   "source": [
    "df = data_io.read_preprocessed_session_file('data/preprocessed/predictor_preprocessed_20250530.csv')"
   ]
  },
  {
   "cell_type": "markdown",
   "id": "c5a0b36e",
   "metadata": {},
   "source": [
    "## Check data stats"
   ]
  },
  {
   "cell_type": "code",
   "execution_count": 6,
   "id": "ec1f8f02",
   "metadata": {},
   "outputs": [
    {
     "data": {
      "text/plain": [
       "(5029683, 45)"
      ]
     },
     "execution_count": 6,
     "metadata": {},
     "output_type": "execute_result"
    }
   ],
   "source": [
    "df.shape"
   ]
  },
  {
   "cell_type": "code",
   "execution_count": 7,
   "id": "2ea957d0",
   "metadata": {},
   "outputs": [
    {
     "data": {
      "text/plain": [
       "1985"
      ]
     },
     "execution_count": 7,
     "metadata": {},
     "output_type": "execute_result"
    }
   ],
   "source": [
    "df[\"patient_id\"].nunique()"
   ]
  }
 ],
 "metadata": {
  "kernelspec": {
   "display_name": "CT",
   "language": "python",
   "name": "python3"
  },
  "language_info": {
   "codemirror_mode": {
    "name": "ipython",
    "version": 3
   },
   "file_extension": ".py",
   "mimetype": "text/x-python",
   "name": "python",
   "nbconvert_exporter": "python",
   "pygments_lexer": "ipython3",
   "version": "3.9.19"
  }
 },
 "nbformat": 4,
 "nbformat_minor": 5
}
