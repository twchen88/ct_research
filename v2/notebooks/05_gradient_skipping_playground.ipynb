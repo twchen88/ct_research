{
 "cells": [
  {
   "cell_type": "markdown",
   "id": "6607f575",
   "metadata": {},
   "source": [
    "Set up working directory"
   ]
  },
  {
   "cell_type": "code",
   "execution_count": null,
   "id": "986489c1",
   "metadata": {},
   "outputs": [],
   "source": [
    "import os\n",
    "os.chdir('..')\n",
    "os.getcwd()"
   ]
  },
  {
   "cell_type": "markdown",
   "id": "d8f12698",
   "metadata": {},
   "source": [
    "Import Packages"
   ]
  },
  {
   "cell_type": "code",
   "execution_count": null,
   "id": "df856ac5",
   "metadata": {},
   "outputs": [],
   "source": [
    "import torch\n",
    "import numpy as np"
   ]
  },
  {
   "cell_type": "markdown",
   "id": "70885827",
   "metadata": {},
   "source": [
    "Create fake data"
   ]
  },
  {
   "cell_type": "markdown",
   "id": "555c32ac",
   "metadata": {},
   "source": [
    "Custom autograd function"
   ]
  },
  {
   "cell_type": "code",
   "execution_count": null,
   "id": "d92902d9",
   "metadata": {},
   "outputs": [],
   "source": [
    "class normal_grad(torch.autograd.Function):\n",
    "    @staticmethod\n",
    "    def forward(ctx, input, mean, std):\n",
    "        ctx.save_for_backward(input, mean, std)\n",
    "        return (input - mean) / std\n",
    "\n",
    "    @staticmethod\n",
    "    def backward(ctx, *grad_outputs):\n",
    "        input, mean, std = ctx.saved_tensors\n",
    "        grad_output = grad_outputs[0]\n",
    "        grad_input = grad_output / std\n",
    "        grad_mean = -torch.sum(grad_output) / std\n",
    "        grad_std = torch.sum(grad_output * (input - mean)) / (std ** 2)\n",
    "        return grad_input, grad_mean, grad_std"
   ]
  },
  {
   "cell_type": "markdown",
   "id": "45259d2d",
   "metadata": {},
   "source": [
    "Define toy model"
   ]
  },
  {
   "cell_type": "code",
   "execution_count": null,
   "id": "12eb8d0c",
   "metadata": {},
   "outputs": [],
   "source": [
    "class model(torch.nn.Module):\n",
    "    def __init__(self, input_size, output_size):\n",
    "        super(model, self).__init__()\n",
    "        self.linear = torch.nn.Linear(input_size, output_size)\n",
    "\n",
    "    def forward(self, x):\n",
    "        return self.linear(x)"
   ]
  },
  {
   "cell_type": "markdown",
   "id": "493825a5",
   "metadata": {},
   "source": [
    "Testing how it works"
   ]
  },
  {
   "cell_type": "code",
   "execution_count": null,
   "id": "bb3cff73",
   "metadata": {},
   "outputs": [],
   "source": [
    "## how to even use the gradient function\n"
   ]
  },
  {
   "cell_type": "code",
   "execution_count": null,
   "id": "f9197fc8",
   "metadata": {},
   "outputs": [],
   "source": []
  }
 ],
 "metadata": {
  "language_info": {
   "name": "python"
  }
 },
 "nbformat": 4,
 "nbformat_minor": 5
}
