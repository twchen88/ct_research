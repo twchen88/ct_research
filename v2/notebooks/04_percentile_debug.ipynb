{
 "cells": [
  {
   "cell_type": "code",
   "execution_count": 1,
   "id": "ef8a9204",
   "metadata": {},
   "outputs": [
    {
     "data": {
      "text/plain": [
       "'/Users/964505/CT/ct_research/v2'"
      ]
     },
     "execution_count": 1,
     "metadata": {},
     "output_type": "execute_result"
    }
   ],
   "source": [
    "import os\n",
    "os.chdir('..')\n",
    "os.getcwd()"
   ]
  },
  {
   "cell_type": "code",
   "execution_count": 2,
   "id": "bf0e90e4",
   "metadata": {},
   "outputs": [],
   "source": [
    "import yaml\n",
    "import numpy as np\n",
    "\n",
    "import src.experiments.file_io as file_io\n",
    "import src.experiments.aggregate_average as core\n",
    "import src.experiments.shared as shared\n",
    "import src.viz.aggregate_average as viz\n",
    "\n",
    "from pathlib import Path\n",
    "from datetime import datetime\n",
    "\n",
    "from src.utils.reproducibility import set_global_seed"
   ]
  },
  {
   "cell_type": "code",
   "execution_count": 3,
   "id": "52771866",
   "metadata": {},
   "outputs": [],
   "source": [
    "set_global_seed(42) # For reproducibility"
   ]
  },
  {
   "cell_type": "code",
   "execution_count": 4,
   "id": "d10354ed",
   "metadata": {},
   "outputs": [],
   "source": [
    "data_source = \"outputs/training_runs/run_20250826_percentile_v2/results.npz\"\n",
    "model_path = \"outputs/training_runs/run_20250826_percentile_v2/model.pt\""
   ]
  },
  {
   "cell_type": "code",
   "execution_count": 5,
   "id": "dd857d15",
   "metadata": {},
   "outputs": [],
   "source": [
    "run_type = \"repeat\""
   ]
  },
  {
   "cell_type": "code",
   "execution_count": 6,
   "id": "61f52b37",
   "metadata": {},
   "outputs": [],
   "source": [
    "test_x, test_y = file_io.load_test_data(\n",
    "        file_path=data_source,\n",
    "        file_names=[\"test_x\", \"test_y\"]\n",
    "    )\n",
    "# filter for sessions with tasks that are only in one domain\n",
    "test_x, sum_mask = core.filter_rows_by_sum(test_x, slice(0, 14), 1)\n",
    "\n",
    "test_predictions = file_io.load_saved_test_predictions(\n",
    "    file_path=data_source\n",
    ")\n",
    "\n",
    "test_y = test_y[sum_mask]\n",
    "test_predictions = test_predictions[sum_mask]\n",
    "\n",
    "## filter by session type\n",
    "repeat_mask = core.assign_repeat(test_x)\n",
    "\n",
    "# if run type is repeat, filter for only repeat sessions\n",
    "# if run type is non-repeat, filter for only non-repeat sessions\n",
    "if run_type == \"non-repeat\":\n",
    "    repeat_mask = ~repeat_mask\n",
    "\n",
    "test_x = test_x[repeat_mask]\n",
    "test_y = test_y[repeat_mask]\n",
    "test_predictions = test_predictions[repeat_mask]"
   ]
  },
  {
   "cell_type": "code",
   "execution_count": 7,
   "id": "66c7b218",
   "metadata": {},
   "outputs": [
    {
     "data": {
      "text/plain": [
       "((65744, 42), (65744, 14), (65744, 14))"
      ]
     },
     "execution_count": 7,
     "metadata": {},
     "output_type": "execute_result"
    }
   ],
   "source": [
    "test_x.shape, test_y.shape, test_predictions.shape"
   ]
  },
  {
   "cell_type": "code",
   "execution_count": 11,
   "id": "d8e24ead",
   "metadata": {},
   "outputs": [
    {
     "data": {
      "text/plain": [
       "np.float32(-0.07000223)"
      ]
     },
     "execution_count": 11,
     "metadata": {},
     "output_type": "execute_result"
    }
   ],
   "source": [
    "test_predictions.min()"
   ]
  },
  {
   "cell_type": "markdown",
   "id": "91314020",
   "metadata": {},
   "source": [
    "Model outputs negative values\n",
    "Next steps:\n",
    "- why would the model output negative values if none of the training samples contain any?\n",
    "- adding an ReLU or Sigmoid activation in the last layer of the model?\n"
   ]
  }
 ],
 "metadata": {
  "kernelspec": {
   "display_name": "CT",
   "language": "python",
   "name": "python3"
  },
  "language_info": {
   "codemirror_mode": {
    "name": "ipython",
    "version": 3
   },
   "file_extension": ".py",
   "mimetype": "text/x-python",
   "name": "python",
   "nbconvert_exporter": "python",
   "pygments_lexer": "ipython3",
   "version": "3.12.11"
  }
 },
 "nbformat": 4,
 "nbformat_minor": 5
}
