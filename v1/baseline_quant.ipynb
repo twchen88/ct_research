{
 "cells": [
  {
   "cell_type": "markdown",
   "metadata": {},
   "source": [
    "## overview\n",
    "- training a model using masking to predict missing values in order to evaluate patient's overall performance\n",
    "- visualization for how prediction does overall compared to imputation as a baseline test"
   ]
  },
  {
   "cell_type": "code",
   "execution_count": 1,
   "metadata": {},
   "outputs": [],
   "source": [
    "import numpy as np\n",
    "import pandas as pd\n",
    "import matplotlib.pyplot as plt\n",
    "import matplotlib.dates as mdates\n",
    "import seaborn as sns\n",
    "import torch\n",
    "import torch.nn as nn\n",
    "import torch.nn.functional as F\n",
    "import copy\n",
    "import wandb\n",
    "import statistics\n",
    "from sklearn.model_selection import train_test_split\n",
    "import random"
   ]
  },
  {
   "cell_type": "markdown",
   "metadata": {},
   "source": [
    "Initialize run"
   ]
  },
  {
   "cell_type": "markdown",
   "metadata": {},
   "source": [
    "Data"
   ]
  },
  {
   "cell_type": "code",
   "execution_count": 2,
   "metadata": {},
   "outputs": [],
   "source": [
    "df = pd.read_csv(\"data/filtered_model_data.csv\")"
   ]
  },
  {
   "cell_type": "code",
   "execution_count": 3,
   "metadata": {},
   "outputs": [],
   "source": [
    "df[\"start_time\"] = df[\"start_time\"].astype('datetime64[ns]')\n",
    "df = df.sort_values(by=[\"patient_id\", \"start_time\"])"
   ]
  },
  {
   "cell_type": "markdown",
   "metadata": {},
   "source": [
    "Create training data"
   ]
  },
  {
   "cell_type": "code",
   "execution_count": 4,
   "metadata": {},
   "outputs": [],
   "source": [
    "def process_row(row):\n",
    "    values_a = [float(x.strip()) for x in str(row['domain_ids']).split(',')]\n",
    "    values_b = [float(x.strip()) for x in str(row['domain_scores']).split(',')]\n",
    "    return values_a, values_b"
   ]
  },
  {
   "cell_type": "code",
   "execution_count": 5,
   "metadata": {},
   "outputs": [],
   "source": [
    "def create_training_data(data : pd.DataFrame):\n",
    "    score = np.empty((1,14))\n",
    "    score.fill(np.nan)\n",
    "    scores = np.zeros((len(data), 14))\n",
    "    i = 0\n",
    "    \n",
    "    data = data.sort_values(by=[\"start_time\"])\n",
    "    for idx, row in data.iterrows():\n",
    "        domains, domain_scores = process_row(row)\n",
    "        for j in range(len(domains)):\n",
    "            score[0, int(domains[j] - 1)] = domain_scores[j]\n",
    "        # set score to the score list average\n",
    "        scores[i] = score\n",
    "        i += 1\n",
    "    \n",
    "    scores_df = pd.DataFrame(scores, columns=[\"domain %d score\" % i for i in range(1, 15)])\n",
    "    data.reset_index(drop=True, inplace=True)\n",
    "    scores_df.reset_index(drop=True, inplace=True)\n",
    "    data = pd.concat([data, scores_df], axis=1)\n",
    "    return data"
   ]
  },
  {
   "cell_type": "code",
   "execution_count": 6,
   "metadata": {},
   "outputs": [],
   "source": [
    "# def create_training_data(data : pd.DataFrame):\n",
    "#     scores = np.zeros((data[\"start_time_min\"].map(lambda t: t.date()).nunique(), 14))\n",
    "#     # scores[:, 0] = data[\"patient_id\"].iloc[0] # set first column to be patient id\n",
    "#     i = 0\n",
    "\n",
    "#     data = data.sort_values(by=[\"start_time_min\"])\n",
    "#     prevday = None\n",
    "#     curday_score = np.zeros((1,14))\n",
    "\n",
    "#     for idx, row in data.iterrows():\n",
    "#         curday = row[\"start_time_min\"].date()\n",
    "#         domains, domain_scores = process_row(row)\n",
    "\n",
    "#         # if curday is a different day than the previous day, set scores[i] to the curday scores, increment the counter\n",
    "#         if curday != prevday and prevday != None:\n",
    "#             scores[i] = curday_score\n",
    "#             i += 1\n",
    "#         # loop through the domains, update corresponding score in curdayscore\n",
    "#         for j in range(len(domains)):\n",
    "#             # print(j)\n",
    "#             curday_score[0, int(domains[j] - 1)] = domain_scores[j]\n",
    "#         # we finished the session, set prevday to curday\n",
    "#         prevday = curday\n",
    "    \n",
    "#     scores_df = pd.DataFrame(scores, columns=[\"domain %d score\" % i for i in range(1, 15)])\n",
    "#     scores_df.reset_index(drop=True, inplace=True)\n",
    "#     return scores_df"
   ]
  },
  {
   "cell_type": "code",
   "execution_count": 7,
   "metadata": {},
   "outputs": [],
   "source": [
    "data = df.groupby(\"patient_id\").apply(create_training_data, include_groups=False).reset_index(drop=True)"
   ]
  },
  {
   "cell_type": "code",
   "execution_count": 8,
   "metadata": {},
   "outputs": [],
   "source": [
    "model_data = data[[\"domain %d score\" % i for i in range(1, 15)]]"
   ]
  },
  {
   "cell_type": "code",
   "execution_count": 9,
   "metadata": {},
   "outputs": [],
   "source": [
    "def filter_nonzero_rows(df, max_zeros):\n",
    "    # Count number of zeros in each row\n",
    "    zeros_count = (df == 0).sum(axis=1)\n",
    "    \n",
    "    # Filter rows with at most max_zeros number of zeros\n",
    "    non_zero_rows = df[zeros_count <= max_zeros]\n",
    "    return non_zero_rows"
   ]
  },
  {
   "cell_type": "code",
   "execution_count": 10,
   "metadata": {},
   "outputs": [
    {
     "name": "stderr",
     "output_type": "stream",
     "text": [
      "/var/folders/vv/6vndbrvd7r1gc7xq3qqx8tfh0000gq/T/ipykernel_30282/2304702615.py:2: SettingWithCopyWarning: \n",
      "A value is trying to be set on a copy of a slice from a DataFrame\n",
      "\n",
      "See the caveats in the documentation: https://pandas.pydata.org/pandas-docs/stable/user_guide/indexing.html#returning-a-view-versus-a-copy\n",
      "  model_data.dropna(inplace=True)\n"
     ]
    }
   ],
   "source": [
    "# model_data = filter_nonzero_rows(model_data, 0) # second parameter is max number of zeros\n",
    "model_data.dropna(inplace=True)"
   ]
  },
  {
   "cell_type": "code",
   "execution_count": 11,
   "metadata": {},
   "outputs": [
    {
     "data": {
      "text/plain": [
       "(1654070, 14)"
      ]
     },
     "execution_count": 11,
     "metadata": {},
     "output_type": "execute_result"
    }
   ],
   "source": [
    "model_data.shape"
   ]
  },
  {
   "cell_type": "code",
   "execution_count": 12,
   "metadata": {},
   "outputs": [],
   "source": [
    "train_data, test_data = train_test_split(model_data, test_size=0.25)"
   ]
  },
  {
   "cell_type": "code",
   "execution_count": 13,
   "metadata": {},
   "outputs": [
    {
     "data": {
      "text/plain": [
       "((1240552, 14), (413518, 14))"
      ]
     },
     "execution_count": 13,
     "metadata": {},
     "output_type": "execute_result"
    }
   ],
   "source": [
    "train_data.shape, test_data.shape"
   ]
  },
  {
   "cell_type": "code",
   "execution_count": 14,
   "metadata": {},
   "outputs": [],
   "source": [
    "train_data = train_data.to_numpy()"
   ]
  },
  {
   "cell_type": "code",
   "execution_count": 15,
   "metadata": {},
   "outputs": [],
   "source": [
    "def generate_random_array(rows, cols, N):\n",
    "    if N > cols:\n",
    "        raise ValueError(\"N cannot be greater than the number of columns.\")\n",
    "    \n",
    "    # Create an array of ones with the desired shape\n",
    "    array = np.ones((rows, cols), dtype=int)\n",
    "    \n",
    "    # Randomly assign N zeros to each row\n",
    "    for i in range(rows):\n",
    "        indices = np.random.choice(cols, N, replace=False)\n",
    "        array[i, indices] = 0\n",
    "    \n",
    "    return array, array.shape[0] * N"
   ]
  },
  {
   "cell_type": "code",
   "execution_count": 16,
   "metadata": {},
   "outputs": [],
   "source": [
    "def generate_mask(data, N=10):\n",
    "    rows, cols = data.shape\n",
    "    assert(cols == 14)\n",
    "    mask, n_zeros = generate_random_array(rows, cols, N)\n",
    "    data = copy.deepcopy(data)\n",
    "    return data * mask, n_zeros, mask"
   ]
  },
  {
   "cell_type": "code",
   "execution_count": 17,
   "metadata": {},
   "outputs": [],
   "source": [
    "# take a numpy array for data, an int for dupe_n, return an array of shape (dupe_n * n_row, col) where\n",
    "# every ith matrix of shape (n_row, col), the data has i domains masked\n",
    "def generate_differently_masked_data(original_matrix, dupe_n=14):\n",
    "    n_row, n_col = original_matrix.shape\n",
    "    new_matrix = np.zeros((n_row * dupe_n, n_col), dtype=float)\n",
    "    new_ground_truth = np.zeros((n_row * dupe_n, n_col), dtype=float)\n",
    "    for i in range(dupe_n):\n",
    "        masked_matrix, _, _ = generate_mask(original_matrix, N = i)\n",
    "        new_matrix[i * n_row:(i + 1) * n_row, :] = masked_matrix\n",
    "        new_ground_truth[i * n_row:(i + 1) * n_row, :] = original_matrix\n",
    "    return new_matrix, new_ground_truth"
   ]
  },
  {
   "cell_type": "code",
   "execution_count": 18,
   "metadata": {},
   "outputs": [],
   "source": [
    "train_data, ground_truth = generate_differently_masked_data(train_data, dupe_n=14)"
   ]
  },
  {
   "cell_type": "code",
   "execution_count": 19,
   "metadata": {},
   "outputs": [],
   "source": [
    "def create_missing_indicator(data):\n",
    "    (l, w) = data.shape\n",
    "    temp = np.zeros((l, w*2))\n",
    "    for i in range(l):\n",
    "        for d in range(w):\n",
    "            p = data[i, d]\n",
    "            # update output array\n",
    "            if p == 0:\n",
    "                missing_ind = np.random.choice(2, 1)[0]\n",
    "                temp[i, d*2] = missing_ind\n",
    "                temp[i, d*2+1] = missing_ind\n",
    "            else:\n",
    "                temp[i, d*2] = p # score\n",
    "                temp[i, d*2+1] = 1-p # 1-score\n",
    "    return copy.deepcopy(temp)"
   ]
  },
  {
   "cell_type": "code",
   "execution_count": 20,
   "metadata": {},
   "outputs": [],
   "source": [
    "train_data = create_missing_indicator(train_data)\n",
    "ground_truth = create_missing_indicator(ground_truth)"
   ]
  },
  {
   "cell_type": "code",
   "execution_count": 21,
   "metadata": {},
   "outputs": [
    {
     "data": {
      "text/plain": [
       "((17367728, 28), (17367728, 28), (413518, 14))"
      ]
     },
     "execution_count": 21,
     "metadata": {},
     "output_type": "execute_result"
    }
   ],
   "source": [
    "train_data.shape, ground_truth.shape, test_data.shape"
   ]
  },
  {
   "cell_type": "markdown",
   "metadata": {},
   "source": [
    "Model"
   ]
  },
  {
   "cell_type": "code",
   "execution_count": 22,
   "metadata": {},
   "outputs": [],
   "source": [
    "class AE(torch.nn.Module):\n",
    "    def __init__(self):\n",
    "        super().__init__()\n",
    "        n_domains = 14\n",
    "        hidden1 = 100\n",
    "        hidden2 = 25\n",
    "        \n",
    "        self.model = torch.nn.Sequential(\n",
    "            torch.nn.Linear(n_domains * 2, hidden1),\n",
    "            torch.nn.Sigmoid(),\n",
    "            torch.nn.Linear(hidden1, hidden2),\n",
    "            torch.nn.Sigmoid(),\n",
    "            torch.nn.Linear(hidden2, hidden1),\n",
    "            torch.nn.Sigmoid(),\n",
    "            torch.nn.Linear(hidden1, n_domains * 2)\n",
    "        )\n",
    "\n",
    "    def forward(self, x):\n",
    "        return torch.clamp(self.model(x), min=0, max=1)"
   ]
  },
  {
   "cell_type": "markdown",
   "metadata": {},
   "source": [
    "masking"
   ]
  },
  {
   "cell_type": "code",
   "execution_count": 23,
   "metadata": {},
   "outputs": [],
   "source": [
    "def missing(arr):\n",
    "    assert(len(arr) == 2)\n",
    "    # if two values are the same (the only three possible values pairs are (0, 0), (1, 1), and (0.5, 0.5) and only 0.5 isn't a missing indicator)\n",
    "    return arr[0] == arr[1] and (arr[0] == 0 or arr[0] == 1)"
   ]
  },
  {
   "cell_type": "markdown",
   "metadata": {},
   "source": [
    "Training"
   ]
  },
  {
   "cell_type": "code",
   "execution_count": 24,
   "metadata": {},
   "outputs": [],
   "source": [
    "def train_model(x_train, x_val,y_train, y_val, epochs, model, optimizer, loss_function):\n",
    "    outputs = []\n",
    "    losses = []\n",
    "    val_losses = []\n",
    "    w = 14 ## hardcoded\n",
    "\n",
    "    for epoch in range(epochs):\n",
    "        epoch_loss = []\n",
    "        val_epoch_loss = []\n",
    "        ## training\n",
    "        model.train()\n",
    "        for i in range(len(x_train)):\n",
    "            session = x_train[i]\n",
    "            # Output of Autoencoder\n",
    "            session_rs = session.reshape(-1, w * 2)\n",
    "            session_t = torch.from_numpy(session_rs).float()\n",
    "            reconstructed = model(session_t)\n",
    "            \n",
    "            # handle missing value\n",
    "            # missing_exists = False\n",
    "            # missing_domains = []\n",
    "            # for domain in range(w):\n",
    "            #     if missing(session[domain*2:domain*2+2]):\n",
    "            #         missing_exists = True\n",
    "            #         missing_domains.append(domain)\n",
    "            \n",
    "\n",
    "            target = copy.deepcopy(y_train[i].reshape(-1, w * 2))\n",
    "            # if missing_exists:\n",
    "            #     recon = reconstructed.detach().numpy()\n",
    "            #     for d in missing_domains:\n",
    "            #         target[0, d*2:d*2+2] = recon[0, d*2:d*2+2]\n",
    "            target = torch.from_numpy(target).float()\n",
    "\n",
    "\n",
    "            # Calculating the loss function\n",
    "            loss = loss_function(reconstructed, target)\n",
    "            \n",
    "            optimizer.zero_grad()\n",
    "            loss.backward()\n",
    "            optimizer.step()\n",
    "            \n",
    "            # Storing the losses in a list for plotting\n",
    "            epoch_loss.append(loss.item())\n",
    "\n",
    "        losses.append(statistics.mean(epoch_loss))\n",
    "        outputs.append((epochs, session_t, reconstructed))\n",
    "\n",
    "        ## validation\n",
    "        model.eval()\n",
    "        with torch.no_grad():\n",
    "            for k in range(len(x_val)):\n",
    "                val = x_val[k]\n",
    "                val_rs = val.reshape(-1, w * 2)\n",
    "                val_t = torch.from_numpy(val_rs)\n",
    "                val_t = val_t.clone().detach().type(torch.float32)\n",
    "                answer = model(val_t)\n",
    "                val_loss = loss_function(answer, torch.from_numpy(y_val[k].reshape(-1, w * 2)).type(torch.float32))\n",
    "                val_epoch_loss.append(val_loss.item())\n",
    "        val_losses.append(statistics.mean(val_epoch_loss))\n",
    "    return losses, val_losses, outputs, model"
   ]
  },
  {
   "cell_type": "code",
   "execution_count": 25,
   "metadata": {},
   "outputs": [],
   "source": [
    "num_runs = 1"
   ]
  },
  {
   "cell_type": "code",
   "execution_count": 26,
   "metadata": {},
   "outputs": [],
   "source": [
    "losses_2d = []\n",
    "val_losses_2d = []\n",
    "for i in range(num_runs):\n",
    "    model = AE()\n",
    "    epochs = 3\n",
    "    lr = 0.005\n",
    "\n",
    "    # Validation using MSE Loss function\n",
    "    loss_function = torch.nn.MSELoss()\n",
    "    \n",
    "    # Using an Adam Optimizer\n",
    "    optimizer = torch.optim.Adam(model.parameters(),\n",
    "                                lr = lr)\n",
    "    \n",
    "    x_train, x_val, y_train, y_val = train_test_split(train_data, ground_truth, test_size=0.50) # further splitting training set into train and validation\n",
    "    model.eval()\n",
    "    with torch.no_grad():\n",
    "        predictions = model(torch.from_numpy(x_train).float())\n",
    "        zero_loss = loss_function(predictions, torch.from_numpy(y_train).float())\n",
    "\n",
    "        predictions = model(torch.from_numpy(x_val).float())\n",
    "        zero_loss_val = loss_function(predictions, torch.from_numpy(y_val).float())\n",
    "    \n",
    "    losses, val_losses, outputs, model = train_model(x_train, x_val, y_train, y_val, epochs, model, optimizer, loss_function)\n",
    "    losses = [zero_loss.item()] + losses\n",
    "    val_losses = [zero_loss_val.item()] + val_losses\n",
    "    \n",
    "    losses_2d.append(losses)\n",
    "    val_losses_2d.append(val_losses)"
   ]
  },
  {
   "cell_type": "code",
   "execution_count": 27,
   "metadata": {},
   "outputs": [],
   "source": [
    "def plot_mean_and_std(data, color_choice=\"blue\", setting=\"\"):\n",
    "    \"\"\"\n",
    "    Plots the mean and standard deviation across multiple lists of data.\n",
    "    \n",
    "    Parameters:\n",
    "    - data (list of lists): A list where each element is a list of numbers.\n",
    "    \n",
    "    The function will compute the mean and standard deviation at each point\n",
    "    across the lists and plot these as a line for the mean and shading for the\n",
    "    standard deviation.\n",
    "    \"\"\"\n",
    "    # Convert data to a NumPy array for easier manipulation\n",
    "    data_array = np.array(data)\n",
    "    \n",
    "    # Calculate mean and standard deviation\n",
    "    means = np.mean(data_array, axis=0)\n",
    "    stds = np.std(data_array, axis=0)\n",
    "    # print(means, stds)\n",
    "    \n",
    "    # Create the x-axis values\n",
    "    x_values = np.arange(len(means))\n",
    "    \n",
    "    # Plotting\n",
    "    plt.plot(x_values, means, label='%s Mean' %setting, color=color_choice)  # Mean line\n",
    "    plt.fill_between(x_values, means - stds, means + stds, color=color_choice, alpha=0.2, label='%s Standard Deviation' % setting)\n",
    "    \n",
    "    plt.title('Mean and Standard Deviation Plot')\n",
    "    plt.xlabel('epochs')\n",
    "    plt.ylabel('loss')\n",
    "    plt.legend()\n",
    "    plt.grid(True)"
   ]
  },
  {
   "cell_type": "code",
   "execution_count": 28,
   "metadata": {},
   "outputs": [
    {
     "data": {
      "image/png": "[encoded data removed]",
      "text/plain": [
       "<Figure size 640x480 with 1 Axes>"
      ]
     },
     "metadata": {},
     "output_type": "display_data"
    }
   ],
   "source": [
    "# Plotting\n",
    "with torch.no_grad():\n",
    "    plot_mean_and_std(losses_2d, \"blue\", \"Training\")\n",
    "    plot_mean_and_std(val_losses_2d, \"orange\", \"Validation\")"
   ]
  },
  {
   "cell_type": "code",
   "execution_count": 29,
   "metadata": {},
   "outputs": [
    {
     "data": {
      "text/plain": [
       "array([0.52900962, 0.47117981, 0.52526456, 0.47459265, 0.6827966 ,\n",
       "       0.31762372, 0.50510028, 0.49483788, 0.4008788 , 0.59953554,\n",
       "       0.51252321, 0.48732743, 0.51274616, 0.48722585, 0.59104362,\n",
       "       0.40909226, 0.45276613, 0.54773457, 0.53391204, 0.4665115 ,\n",
       "       0.6710614 , 0.32895726, 0.46554899, 0.53453622, 0.5990847 ,\n",
       "       0.40112016, 0.5669301 , 0.43338577])"
      ]
     },
     "execution_count": 29,
     "metadata": {},
     "output_type": "execute_result"
    }
   ],
   "source": [
    "np.mean(x_train, axis=0)"
   ]
  },
  {
   "cell_type": "markdown",
   "metadata": {},
   "source": [
    "Error Plots"
   ]
  },
  {
   "cell_type": "code",
   "execution_count": 30,
   "metadata": {},
   "outputs": [],
   "source": [
    "## data average\n",
    "def impute_with_column_mean(data : pd.DataFrame):\n",
    "    \"\"\"\n",
    "    Imputes missing values (represented as 0) in a DataFrame with the mean of the non-zero values in the same column.\n",
    "\n",
    "    Parameters:\n",
    "    - data (pd.DataFrame): The DataFrame to impute.\n",
    "\n",
    "    Returns:\n",
    "    - pd.DataFrame: The DataFrame with missing values imputed using column means.\n",
    "    \"\"\"\n",
    "    # Replace '0' with NaN to handle them as missing values\n",
    "    imputed_data = data.replace(0, np.nan)\n",
    "    \n",
    "    # Calculate the mean of each column, ignoring NaNs\n",
    "    column_means = imputed_data.mean()\n",
    "    # replace the nans with 0 since that means there's no data at all for that column\n",
    "    column_means = column_means.replace(np.nan, 0)\n",
    "\n",
    "    \n",
    "    # Replace NaN values in each column with the mean of that column\n",
    "    imputed_data.fillna(column_means, inplace=True)\n",
    "\n",
    "    return imputed_data"
   ]
  },
  {
   "cell_type": "code",
   "execution_count": 31,
   "metadata": {},
   "outputs": [],
   "source": [
    "## known domain average\n",
    "def impute_with_row_average(data : pd.DataFrame):\n",
    "    \"\"\"\n",
    "    Imputes missing values (NaN) in a DataFrame with the average of the non-missing values in the same row.\n",
    "\n",
    "    Parameters:\n",
    "    - data (pd.DataFrame): The DataFrame to impute.\n",
    "\n",
    "    Returns:\n",
    "    - pd.DataFrame: The DataFrame with missing values imputed.\n",
    "    \"\"\"\n",
    "    # Create a copy of the DataFrame to avoid modifying the original data\n",
    "    imputed_data = data.copy()\n",
    "    # Replace '0' with NaN to handle them as missing values\n",
    "    imputed_data = data.replace(0, np.nan)\n",
    "\n",
    "    # Iterate over each row\n",
    "    for index, row in imputed_data.iterrows():\n",
    "        # Calculate the mean of the non-NaN values in the row\n",
    "        mean_value = row.mean()\n",
    "        if np.isnan(mean_value):\n",
    "            mean_value = 0\n",
    "\n",
    "        # Replace NaN values in the row with the calculated mean\n",
    "        imputed_data.loc[index] = row.fillna(mean_value)\n",
    "\n",
    "    return imputed_data"
   ]
  },
  {
   "cell_type": "code",
   "execution_count": 32,
   "metadata": {},
   "outputs": [],
   "source": [
    "# mode = other => impute by average of other domains, mode = data => impute by average of the data set\n",
    "def imputation(data, mode=\"\"):\n",
    "    if mode == \"other\":\n",
    "        return impute_with_row_average(data)\n",
    "    elif mode == \"data\":\n",
    "        return impute_with_column_mean(data)"
   ]
  },
  {
   "cell_type": "code",
   "execution_count": 33,
   "metadata": {},
   "outputs": [],
   "source": [
    "# get predictions from the model\n",
    "def predict(data, model):\n",
    "    model.eval()\n",
    "    data_t = torch.tensor(data, dtype=torch.float32)\n",
    "    with torch.no_grad():\n",
    "        return model(data_t).clone().detach().numpy()"
   ]
  },
  {
   "cell_type": "code",
   "execution_count": 34,
   "metadata": {},
   "outputs": [
    {
     "data": {
      "text/html": [
       "<div>\n",
       "<style scoped>\n",
       "    .dataframe tbody tr th:only-of-type {\n",
       "        vertical-align: middle;\n",
       "    }\n",
       "\n",
       "    .dataframe tbody tr th {\n",
       "        vertical-align: top;\n",
       "    }\n",
       "\n",
       "    .dataframe thead th {\n",
       "        text-align: right;\n",
       "    }\n",
       "</style>\n",
       "<table border=\"1\" class=\"dataframe\">\n",
       "  <thead>\n",
       "    <tr style=\"text-align: right;\">\n",
       "      <th></th>\n",
       "      <th>domain 1 score</th>\n",
       "      <th>domain 2 score</th>\n",
       "      <th>domain 3 score</th>\n",
       "      <th>domain 4 score</th>\n",
       "      <th>domain 5 score</th>\n",
       "      <th>domain 6 score</th>\n",
       "      <th>domain 7 score</th>\n",
       "      <th>domain 8 score</th>\n",
       "      <th>domain 9 score</th>\n",
       "      <th>domain 10 score</th>\n",
       "      <th>domain 11 score</th>\n",
       "      <th>domain 12 score</th>\n",
       "      <th>domain 13 score</th>\n",
       "      <th>domain 14 score</th>\n",
       "    </tr>\n",
       "  </thead>\n",
       "  <tbody>\n",
       "    <tr>\n",
       "      <th>2317999</th>\n",
       "      <td>0.628</td>\n",
       "      <td>1.00</td>\n",
       "      <td>0.933</td>\n",
       "      <td>0.500</td>\n",
       "      <td>0.480</td>\n",
       "      <td>0.632</td>\n",
       "      <td>0.470</td>\n",
       "      <td>0.667</td>\n",
       "      <td>0.690</td>\n",
       "      <td>0.800</td>\n",
       "      <td>1.00</td>\n",
       "      <td>0.393</td>\n",
       "      <td>0.564</td>\n",
       "      <td>1.000</td>\n",
       "    </tr>\n",
       "    <tr>\n",
       "      <th>4402179</th>\n",
       "      <td>0.926</td>\n",
       "      <td>1.00</td>\n",
       "      <td>1.000</td>\n",
       "      <td>1.000</td>\n",
       "      <td>1.000</td>\n",
       "      <td>0.320</td>\n",
       "      <td>0.633</td>\n",
       "      <td>0.894</td>\n",
       "      <td>0.707</td>\n",
       "      <td>1.000</td>\n",
       "      <td>1.00</td>\n",
       "      <td>1.000</td>\n",
       "      <td>0.838</td>\n",
       "      <td>0.680</td>\n",
       "    </tr>\n",
       "    <tr>\n",
       "      <th>4651174</th>\n",
       "      <td>0.337</td>\n",
       "      <td>1.00</td>\n",
       "      <td>0.815</td>\n",
       "      <td>0.963</td>\n",
       "      <td>0.845</td>\n",
       "      <td>0.733</td>\n",
       "      <td>1.000</td>\n",
       "      <td>1.000</td>\n",
       "      <td>1.000</td>\n",
       "      <td>1.000</td>\n",
       "      <td>1.00</td>\n",
       "      <td>1.000</td>\n",
       "      <td>0.838</td>\n",
       "      <td>0.326</td>\n",
       "    </tr>\n",
       "    <tr>\n",
       "      <th>2911601</th>\n",
       "      <td>0.615</td>\n",
       "      <td>0.39</td>\n",
       "      <td>0.933</td>\n",
       "      <td>0.414</td>\n",
       "      <td>0.260</td>\n",
       "      <td>0.431</td>\n",
       "      <td>0.310</td>\n",
       "      <td>1.000</td>\n",
       "      <td>0.310</td>\n",
       "      <td>0.621</td>\n",
       "      <td>1.00</td>\n",
       "      <td>0.350</td>\n",
       "      <td>0.430</td>\n",
       "      <td>0.874</td>\n",
       "    </tr>\n",
       "    <tr>\n",
       "      <th>3468637</th>\n",
       "      <td>0.071</td>\n",
       "      <td>0.09</td>\n",
       "      <td>0.733</td>\n",
       "      <td>0.186</td>\n",
       "      <td>0.030</td>\n",
       "      <td>0.053</td>\n",
       "      <td>0.460</td>\n",
       "      <td>0.317</td>\n",
       "      <td>0.000</td>\n",
       "      <td>0.071</td>\n",
       "      <td>0.20</td>\n",
       "      <td>0.172</td>\n",
       "      <td>0.273</td>\n",
       "      <td>0.893</td>\n",
       "    </tr>\n",
       "    <tr>\n",
       "      <th>...</th>\n",
       "      <td>...</td>\n",
       "      <td>...</td>\n",
       "      <td>...</td>\n",
       "      <td>...</td>\n",
       "      <td>...</td>\n",
       "      <td>...</td>\n",
       "      <td>...</td>\n",
       "      <td>...</td>\n",
       "      <td>...</td>\n",
       "      <td>...</td>\n",
       "      <td>...</td>\n",
       "      <td>...</td>\n",
       "      <td>...</td>\n",
       "      <td>...</td>\n",
       "    </tr>\n",
       "    <tr>\n",
       "      <th>3607401</th>\n",
       "      <td>0.629</td>\n",
       "      <td>0.55</td>\n",
       "      <td>1.000</td>\n",
       "      <td>0.329</td>\n",
       "      <td>0.150</td>\n",
       "      <td>1.000</td>\n",
       "      <td>0.610</td>\n",
       "      <td>1.000</td>\n",
       "      <td>0.280</td>\n",
       "      <td>0.800</td>\n",
       "      <td>1.00</td>\n",
       "      <td>0.715</td>\n",
       "      <td>0.163</td>\n",
       "      <td>0.740</td>\n",
       "    </tr>\n",
       "    <tr>\n",
       "      <th>1215275</th>\n",
       "      <td>0.211</td>\n",
       "      <td>0.02</td>\n",
       "      <td>0.370</td>\n",
       "      <td>0.363</td>\n",
       "      <td>0.123</td>\n",
       "      <td>0.695</td>\n",
       "      <td>0.711</td>\n",
       "      <td>0.259</td>\n",
       "      <td>0.106</td>\n",
       "      <td>0.408</td>\n",
       "      <td>0.72</td>\n",
       "      <td>0.254</td>\n",
       "      <td>0.270</td>\n",
       "      <td>0.260</td>\n",
       "    </tr>\n",
       "    <tr>\n",
       "      <th>4989217</th>\n",
       "      <td>0.415</td>\n",
       "      <td>0.24</td>\n",
       "      <td>1.000</td>\n",
       "      <td>0.214</td>\n",
       "      <td>0.200</td>\n",
       "      <td>0.653</td>\n",
       "      <td>0.450</td>\n",
       "      <td>1.000</td>\n",
       "      <td>0.230</td>\n",
       "      <td>0.507</td>\n",
       "      <td>1.00</td>\n",
       "      <td>0.314</td>\n",
       "      <td>0.606</td>\n",
       "      <td>0.347</td>\n",
       "    </tr>\n",
       "    <tr>\n",
       "      <th>1884438</th>\n",
       "      <td>0.843</td>\n",
       "      <td>0.28</td>\n",
       "      <td>0.707</td>\n",
       "      <td>0.300</td>\n",
       "      <td>0.150</td>\n",
       "      <td>0.400</td>\n",
       "      <td>0.840</td>\n",
       "      <td>1.000</td>\n",
       "      <td>0.230</td>\n",
       "      <td>0.328</td>\n",
       "      <td>1.00</td>\n",
       "      <td>0.214</td>\n",
       "      <td>0.400</td>\n",
       "      <td>0.800</td>\n",
       "    </tr>\n",
       "    <tr>\n",
       "      <th>2425473</th>\n",
       "      <td>0.571</td>\n",
       "      <td>0.01</td>\n",
       "      <td>0.840</td>\n",
       "      <td>0.228</td>\n",
       "      <td>0.080</td>\n",
       "      <td>0.632</td>\n",
       "      <td>0.500</td>\n",
       "      <td>0.434</td>\n",
       "      <td>0.050</td>\n",
       "      <td>0.829</td>\n",
       "      <td>1.00</td>\n",
       "      <td>0.071</td>\n",
       "      <td>0.569</td>\n",
       "      <td>0.307</td>\n",
       "    </tr>\n",
       "  </tbody>\n",
       "</table>\n",
       "<p>413518 rows × 14 columns</p>\n",
       "</div>"
      ],
      "text/plain": [
       "         domain 1 score  domain 2 score  domain 3 score  domain 4 score  \\\n",
       "2317999           0.628            1.00           0.933           0.500   \n",
       "4402179           0.926            1.00           1.000           1.000   \n",
       "4651174           0.337            1.00           0.815           0.963   \n",
       "2911601           0.615            0.39           0.933           0.414   \n",
       "3468637           0.071            0.09           0.733           0.186   \n",
       "...                 ...             ...             ...             ...   \n",
       "3607401           0.629            0.55           1.000           0.329   \n",
       "1215275           0.211            0.02           0.370           0.363   \n",
       "4989217           0.415            0.24           1.000           0.214   \n",
       "1884438           0.843            0.28           0.707           0.300   \n",
       "2425473           0.571            0.01           0.840           0.228   \n",
       "\n",
       "         domain 5 score  domain 6 score  domain 7 score  domain 8 score  \\\n",
       "2317999           0.480           0.632           0.470           0.667   \n",
       "4402179           1.000           0.320           0.633           0.894   \n",
       "4651174           0.845           0.733           1.000           1.000   \n",
       "2911601           0.260           0.431           0.310           1.000   \n",
       "3468637           0.030           0.053           0.460           0.317   \n",
       "...                 ...             ...             ...             ...   \n",
       "3607401           0.150           1.000           0.610           1.000   \n",
       "1215275           0.123           0.695           0.711           0.259   \n",
       "4989217           0.200           0.653           0.450           1.000   \n",
       "1884438           0.150           0.400           0.840           1.000   \n",
       "2425473           0.080           0.632           0.500           0.434   \n",
       "\n",
       "         domain 9 score  domain 10 score  domain 11 score  domain 12 score  \\\n",
       "2317999           0.690            0.800             1.00            0.393   \n",
       "4402179           0.707            1.000             1.00            1.000   \n",
       "4651174           1.000            1.000             1.00            1.000   \n",
       "2911601           0.310            0.621             1.00            0.350   \n",
       "3468637           0.000            0.071             0.20            0.172   \n",
       "...                 ...              ...              ...              ...   \n",
       "3607401           0.280            0.800             1.00            0.715   \n",
       "1215275           0.106            0.408             0.72            0.254   \n",
       "4989217           0.230            0.507             1.00            0.314   \n",
       "1884438           0.230            0.328             1.00            0.214   \n",
       "2425473           0.050            0.829             1.00            0.071   \n",
       "\n",
       "         domain 13 score  domain 14 score  \n",
       "2317999            0.564            1.000  \n",
       "4402179            0.838            0.680  \n",
       "4651174            0.838            0.326  \n",
       "2911601            0.430            0.874  \n",
       "3468637            0.273            0.893  \n",
       "...                  ...              ...  \n",
       "3607401            0.163            0.740  \n",
       "1215275            0.270            0.260  \n",
       "4989217            0.606            0.347  \n",
       "1884438            0.400            0.800  \n",
       "2425473            0.569            0.307  \n",
       "\n",
       "[413518 rows x 14 columns]"
      ]
     },
     "execution_count": 34,
     "metadata": {},
     "output_type": "execute_result"
    }
   ],
   "source": [
    "test_data"
   ]
  },
  {
   "cell_type": "code",
   "execution_count": 35,
   "metadata": {},
   "outputs": [],
   "source": [
    "column_names = [\"domain %d score\" % i for i in range(1, 15)]\n",
    "accuracy_list_prediction_sq = []\n",
    "accuracy_list_knownimputation_sq = []\n",
    "accuracy_list_dataimputation_sq = []\n",
    "accuracy_list_prediction_abs = []\n",
    "accuracy_list_knownimputation_abs = []\n",
    "accuracy_list_dataimputation_abs = []"
   ]
  },
  {
   "cell_type": "code",
   "execution_count": 36,
   "metadata": {},
   "outputs": [],
   "source": [
    "def create_new_array_2d(ground_truth, prediction, masked):\n",
    "    # Ensure all arrays have the same shape\n",
    "    if ground_truth.shape != prediction.shape or prediction.shape != masked.shape:\n",
    "        raise ValueError(\"All arrays must have the same shape\")\n",
    "\n",
    "    # Initialize the new array with the same shape\n",
    "    new_array = np.empty_like(ground_truth)\n",
    "\n",
    "    # Iterate through each row\n",
    "    for i in range(ground_truth.shape[0]):\n",
    "        # Iterate through each pair of values in the row\n",
    "        for j in range(0, ground_truth.shape[1], 2):\n",
    "            pair_masked = masked[i, j:j+2]\n",
    "            # print(pair_masked)\n",
    "            # Check if the pair in the masked array is missing\n",
    "            if pair_masked[0] == pair_masked[1] and (pair_masked[0] == 1 or pair_masked[0] == 0):\n",
    "                # print(i, j, pair_masked)\n",
    "                # Use the corresponding pair from the prediction array\n",
    "                new_array[i, j:j+2] = prediction[i, j:j+2]\n",
    "            else:\n",
    "                # Use the corresponding pair from the ground truth array\n",
    "                new_array[i, j:j+2] = ground_truth[i, j:j+2]\n",
    "\n",
    "    return new_array"
   ]
  },
  {
   "cell_type": "code",
   "execution_count": 37,
   "metadata": {},
   "outputs": [],
   "source": [
    "def get_accuracy(y_pred, y_true, mask, fn : str):\n",
    "    mask = mask ^ 1\n",
    "    n_missing = np.sum(mask)\n",
    "    y_pred *= mask\n",
    "    y_true *= mask\n",
    "    diff = y_pred - y_true\n",
    "    if n_missing == 0: n_missing = 1\n",
    "    if fn == \"mse\":\n",
    "        # print(np.sum(np.power(diff, 2)))\n",
    "        return np.sum(np.power(diff, 2)) / n_missing\n",
    "    elif fn == \"mae\":\n",
    "        # print(np.sum(np.abs(diff)))\n",
    "        return np.sum(np.abs(diff)) / n_missing"
   ]
  },
  {
   "cell_type": "code",
   "execution_count": 38,
   "metadata": {},
   "outputs": [],
   "source": [
    "from scipy.stats import sem\n",
    "\n",
    "for masked_number in range(14):\n",
    "    # masked_ratio = masked_number / 14\n",
    "    ## create masked testing data so we can see how the model predicts and how imputation compares\n",
    "    masked_test_data, n_missing, mask = generate_mask(test_data[column_names].copy().to_numpy(), N=masked_number)\n",
    "    assert n_missing == masked_number * test_data.shape[0], \"n missing weird\"\n",
    "    assert n_missing == np.size(mask) - np.sum(mask), \"n missing weird\"\n",
    "\n",
    "    # impute \n",
    "    imputataion_data_data = imputation(pd.DataFrame(masked_test_data, columns=column_names), mode=\"data\").to_numpy()\n",
    "    imputataion_data_known = imputation(pd.DataFrame(masked_test_data, columns=column_names), mode=\"other\").to_numpy()\n",
    "    \n",
    "\n",
    "    # predict\n",
    "    masked_test_data = create_missing_indicator(masked_test_data)\n",
    "    predictions = predict(masked_test_data, model)[:, ::2]\n",
    "\n",
    "    ## get accuracy (abs)\n",
    "    original = test_data[column_names].copy().to_numpy()\n",
    "    assert original.shape == mask.shape and original.shape == predictions.shape and original.shape == imputataion_data_data.shape \\\n",
    "           and original.shape == imputataion_data_known.shape, \"shape weird\"\n",
    "    \n",
    "    accuracy_list_prediction_abs.append(get_accuracy(predictions, original, mask, \"mae\"))\n",
    "\n",
    "    accuracy_list_dataimputation_abs.append(get_accuracy(imputataion_data_data, original, mask, \"mae\"))\n",
    "\n",
    "    accuracy_list_knownimputation_abs.append(get_accuracy(imputataion_data_known, original, mask, \"mae\"))\n",
    "\n",
    "    ## get accuracy (sq)\n",
    "    accuracy_list_prediction_sq.append(get_accuracy(predictions, original, mask, \"mse\"))\n",
    "\n",
    "    accuracy_list_dataimputation_sq.append(get_accuracy(imputataion_data_data, original, mask, \"mse\"))\n",
    "\n",
    "    accuracy_list_knownimputation_sq.append(get_accuracy(imputataion_data_known, original, mask, \"mse\"))\n"
   ]
  },
  {
   "cell_type": "markdown",
   "metadata": {},
   "source": [
    "Visualization"
   ]
  },
  {
   "cell_type": "code",
   "execution_count": 39,
   "metadata": {},
   "outputs": [
    {
     "data": {
      "text/plain": [
       "(0.22005613985488576, 0.07614740675834769)"
      ]
     },
     "execution_count": 39,
     "metadata": {},
     "output_type": "execute_result"
    }
   ],
   "source": [
    "get_accuracy(predictions, original, mask, \"mae\"), get_accuracy(predictions, original, mask, \"mse\")"
   ]
  },
  {
   "cell_type": "code",
   "execution_count": 40,
   "metadata": {},
   "outputs": [
    {
     "data": {
      "text/plain": [
       "[0.0,\n",
       " 0.15962832700011625,\n",
       " 0.161525687508268,\n",
       " 0.1643173828728555,\n",
       " 0.16703555231540748,\n",
       " 0.16981716823293694,\n",
       " 0.17287690083004123,\n",
       " 0.17620359441012454,\n",
       " 0.1801130026727717,\n",
       " 0.1843525055145504,\n",
       " 0.18955006707614575,\n",
       " 0.19623839636879237,\n",
       " 0.2055189461209804,\n",
       " 0.22005613985488576]"
      ]
     },
     "execution_count": 40,
     "metadata": {},
     "output_type": "execute_result"
    }
   ],
   "source": [
    "accuracy_list_prediction_abs"
   ]
  },
  {
   "cell_type": "code",
   "execution_count": 41,
   "metadata": {},
   "outputs": [
    {
     "data": {
      "text/plain": [
       "[0.0,\n",
       " 0.04681811199690387,\n",
       " 0.04764422298174079,\n",
       " 0.048946039287491944,\n",
       " 0.05018043641658459,\n",
       " 0.05143629725725555,\n",
       " 0.05285707466979735,\n",
       " 0.054358350856435554,\n",
       " 0.05628247751179604,\n",
       " 0.05825850201430568,\n",
       " 0.06072364450124204,\n",
       " 0.06398730982108312,\n",
       " 0.06858655734821067,\n",
       " 0.07614740675834769]"
      ]
     },
     "execution_count": 41,
     "metadata": {},
     "output_type": "execute_result"
    }
   ],
   "source": [
    "accuracy_list_prediction_sq"
   ]
  },
  {
   "cell_type": "code",
   "execution_count": 42,
   "metadata": {},
   "outputs": [
    {
     "data": {
      "text/plain": [
       "<matplotlib.legend.Legend at 0x385182c10>"
      ]
     },
     "execution_count": 42,
     "metadata": {},
     "output_type": "execute_result"
    },
    {
     "data": {
      "image/png": "[encoded data removed]",
      "text/plain": [
       "<Figure size 1200x1200 with 1 Axes>"
      ]
     },
     "metadata": {},
     "output_type": "display_data"
    }
   ],
   "source": [
    "fig = plt.figure(figsize=(12, 12))\n",
    "# plt.errorbar(range(0, 14), accuracy_list_prediction_sq, yerr=error_prediction_sq, label=\"prediction\", linewidth=3)\n",
    "# plt.errorbar(range(0, 14), accuracy_list_imputation_sq, yerr=error_imputation_sq, label=\"imputation\")\n",
    "\n",
    "x_values = range(0, 14)\n",
    "\n",
    "plt.plot(x_values, accuracy_list_prediction_sq, label=\"model\", marker=\"o\")\n",
    "plt.plot(x_values, accuracy_list_knownimputation_sq, label=\"imputation - known domains\", marker=\"o\")\n",
    "plt.plot(x_values, accuracy_list_dataimputation_sq, label=\"imputation - test set average\", marker=\"o\")\n",
    "\n",
    "for x, y1, y2, y3 in zip(x_values, accuracy_list_prediction_sq, accuracy_list_knownimputation_sq, accuracy_list_dataimputation_sq):\n",
    "    offset = 10\n",
    "\n",
    "    label = \"{:.4f}\".format(y1)\n",
    "    plt.annotate(label, # this is the text\n",
    "                (x,y1), # these are the coordinates to position the label\n",
    "                textcoords=\"offset points\", # how to position the text\n",
    "                xytext=(0,offset), # distance from text to points (x,y)\n",
    "                ha='center') # horizontal alignment can be left, right or center\n",
    "    \n",
    "    label = \"{:.4f}\".format(y2)\n",
    "    plt.annotate(label, # this is the text\n",
    "                (x,y2), # these are the coordinates to position the label\n",
    "                textcoords=\"offset points\", # how to position the text\n",
    "                xytext=(0,offset), # distance from text to points (x,y)\n",
    "                ha='center') # horizontal alignment can be left, right or center\n",
    "    \n",
    "    label = \"{:.4f}\".format(y3)\n",
    "    plt.annotate(label, # this is the text\n",
    "                (x,y3), # these are the coordinates to position the label\n",
    "                textcoords=\"offset points\", # how to position the text\n",
    "                xytext=(0,offset), # distance from text to points (x,y)\n",
    "                ha='center') # horizontal alignment can be left, right or center\n",
    "\n",
    "\n",
    "\n",
    "plt.xlabel(\"number of masked domains\")\n",
    "plt.ylabel(\"mean squared error\")\n",
    "plt.title(\"Mean squared error vs number of masked domains\")\n",
    "plt.legend()"
   ]
  },
  {
   "cell_type": "code",
   "execution_count": 43,
   "metadata": {},
   "outputs": [
    {
     "data": {
      "text/plain": [
       "<matplotlib.legend.Legend at 0x385182b50>"
      ]
     },
     "execution_count": 43,
     "metadata": {},
     "output_type": "execute_result"
    },
    {
     "data": {
      "image/png": "[encoded data removed]",
      "text/plain": [
       "<Figure size 1200x1200 with 1 Axes>"
      ]
     },
     "metadata": {},
     "output_type": "display_data"
    }
   ],
   "source": [
    "fig = plt.figure(figsize=(12, 12))\n",
    "# plt.errorbar(range(0, 14), accuracy_list_prediction_abs, yerr=error_prediction_abs, label=\"prediction\", linewidth=3)\n",
    "# plt.errorbar(range(0, 14), accuracy_list_imputation_abs, yerr=error_imputation_abs, label=\"imputation\")\n",
    "x_values = range(0, 14)\n",
    "\n",
    "plt.plot(x_values, accuracy_list_prediction_abs, label=\"model\", marker=\"o\")\n",
    "plt.plot(x_values, accuracy_list_knownimputation_abs, label=\"imputation - known domains\", marker=\"o\")\n",
    "plt.plot(x_values, accuracy_list_dataimputation_abs, label=\"imputation - test set average\", marker=\"o\")\n",
    "\n",
    "for x, y1, y2, y3 in zip(x_values, accuracy_list_prediction_abs, accuracy_list_knownimputation_abs, accuracy_list_dataimputation_abs):\n",
    "    offset = 10\n",
    "\n",
    "    label = \"{:.4f}\".format(y1)\n",
    "    plt.annotate(label, # this is the text\n",
    "                (x,y1), # these are the coordinates to position the label\n",
    "                textcoords=\"offset points\", # how to position the text\n",
    "                xytext=(0,offset), # distance from text to points (x,y)\n",
    "                ha='center') # horizontal alignment can be left, right or center\n",
    "    \n",
    "    label = \"{:.4f}\".format(y2)\n",
    "    plt.annotate(label, # this is the text\n",
    "                (x,y2), # these are the coordinates to position the label\n",
    "                textcoords=\"offset points\", # how to position the text\n",
    "                xytext=(0,offset), # distance from text to points (x,y)\n",
    "                ha='center') # horizontal alignment can be left, right or center\n",
    "    \n",
    "    label = \"{:.4f}\".format(y3)\n",
    "    plt.annotate(label, # this is the text\n",
    "                (x,y3), # these are the coordinates to position the label\n",
    "                textcoords=\"offset points\", # how to position the text\n",
    "                xytext=(0,offset), # distance from text to points (x,y)\n",
    "                ha='center') # horizontal alignment can be left, right or center\n",
    "\n",
    "plt.xlabel(\"number of masked domains\")\n",
    "plt.ylabel(\"mean absolute error\")\n",
    "plt.title(\"Mean absolute erorr vs number of masked domains\")\n",
    "plt.legend()"
   ]
  },
  {
   "cell_type": "code",
   "execution_count": 44,
   "metadata": {},
   "outputs": [],
   "source": [
    "# torch.save(model.state_dict(), \"model/base_quant01.pth\")"
   ]
  },
  {
   "cell_type": "code",
   "execution_count": 45,
   "metadata": {},
   "outputs": [
    {
     "data": {
      "text/html": [
       "<div>\n",
       "<style scoped>\n",
       "    .dataframe tbody tr th:only-of-type {\n",
       "        vertical-align: middle;\n",
       "    }\n",
       "\n",
       "    .dataframe tbody tr th {\n",
       "        vertical-align: top;\n",
       "    }\n",
       "\n",
       "    .dataframe thead th {\n",
       "        text-align: right;\n",
       "    }\n",
       "</style>\n",
       "<table border=\"1\" class=\"dataframe\">\n",
       "  <thead>\n",
       "    <tr style=\"text-align: right;\">\n",
       "      <th></th>\n",
       "      <th>domain 1 score</th>\n",
       "      <th>domain 2 score</th>\n",
       "      <th>domain 3 score</th>\n",
       "      <th>domain 4 score</th>\n",
       "      <th>domain 5 score</th>\n",
       "      <th>domain 6 score</th>\n",
       "      <th>domain 7 score</th>\n",
       "      <th>domain 8 score</th>\n",
       "      <th>domain 9 score</th>\n",
       "      <th>domain 10 score</th>\n",
       "      <th>domain 11 score</th>\n",
       "      <th>domain 12 score</th>\n",
       "      <th>domain 13 score</th>\n",
       "      <th>domain 14 score</th>\n",
       "    </tr>\n",
       "  </thead>\n",
       "  <tbody>\n",
       "    <tr>\n",
       "      <th>2317999</th>\n",
       "      <td>0.628</td>\n",
       "      <td>1.00</td>\n",
       "      <td>0.933</td>\n",
       "      <td>0.500</td>\n",
       "      <td>0.480</td>\n",
       "      <td>0.632</td>\n",
       "      <td>0.470</td>\n",
       "      <td>0.667</td>\n",
       "      <td>0.690</td>\n",
       "      <td>0.800</td>\n",
       "      <td>1.00</td>\n",
       "      <td>0.393</td>\n",
       "      <td>0.564</td>\n",
       "      <td>1.000</td>\n",
       "    </tr>\n",
       "    <tr>\n",
       "      <th>4402179</th>\n",
       "      <td>0.926</td>\n",
       "      <td>1.00</td>\n",
       "      <td>1.000</td>\n",
       "      <td>1.000</td>\n",
       "      <td>1.000</td>\n",
       "      <td>0.320</td>\n",
       "      <td>0.633</td>\n",
       "      <td>0.894</td>\n",
       "      <td>0.707</td>\n",
       "      <td>1.000</td>\n",
       "      <td>1.00</td>\n",
       "      <td>1.000</td>\n",
       "      <td>0.838</td>\n",
       "      <td>0.680</td>\n",
       "    </tr>\n",
       "    <tr>\n",
       "      <th>4651174</th>\n",
       "      <td>0.337</td>\n",
       "      <td>1.00</td>\n",
       "      <td>0.815</td>\n",
       "      <td>0.963</td>\n",
       "      <td>0.845</td>\n",
       "      <td>0.733</td>\n",
       "      <td>1.000</td>\n",
       "      <td>1.000</td>\n",
       "      <td>1.000</td>\n",
       "      <td>1.000</td>\n",
       "      <td>1.00</td>\n",
       "      <td>1.000</td>\n",
       "      <td>0.838</td>\n",
       "      <td>0.326</td>\n",
       "    </tr>\n",
       "    <tr>\n",
       "      <th>2911601</th>\n",
       "      <td>0.615</td>\n",
       "      <td>0.39</td>\n",
       "      <td>0.933</td>\n",
       "      <td>0.414</td>\n",
       "      <td>0.260</td>\n",
       "      <td>0.431</td>\n",
       "      <td>0.310</td>\n",
       "      <td>1.000</td>\n",
       "      <td>0.310</td>\n",
       "      <td>0.621</td>\n",
       "      <td>1.00</td>\n",
       "      <td>0.350</td>\n",
       "      <td>0.430</td>\n",
       "      <td>0.874</td>\n",
       "    </tr>\n",
       "    <tr>\n",
       "      <th>3468637</th>\n",
       "      <td>0.071</td>\n",
       "      <td>0.09</td>\n",
       "      <td>0.733</td>\n",
       "      <td>0.186</td>\n",
       "      <td>0.030</td>\n",
       "      <td>0.053</td>\n",
       "      <td>0.460</td>\n",
       "      <td>0.317</td>\n",
       "      <td>0.000</td>\n",
       "      <td>0.071</td>\n",
       "      <td>0.20</td>\n",
       "      <td>0.172</td>\n",
       "      <td>0.273</td>\n",
       "      <td>0.893</td>\n",
       "    </tr>\n",
       "    <tr>\n",
       "      <th>...</th>\n",
       "      <td>...</td>\n",
       "      <td>...</td>\n",
       "      <td>...</td>\n",
       "      <td>...</td>\n",
       "      <td>...</td>\n",
       "      <td>...</td>\n",
       "      <td>...</td>\n",
       "      <td>...</td>\n",
       "      <td>...</td>\n",
       "      <td>...</td>\n",
       "      <td>...</td>\n",
       "      <td>...</td>\n",
       "      <td>...</td>\n",
       "      <td>...</td>\n",
       "    </tr>\n",
       "    <tr>\n",
       "      <th>3607401</th>\n",
       "      <td>0.629</td>\n",
       "      <td>0.55</td>\n",
       "      <td>1.000</td>\n",
       "      <td>0.329</td>\n",
       "      <td>0.150</td>\n",
       "      <td>1.000</td>\n",
       "      <td>0.610</td>\n",
       "      <td>1.000</td>\n",
       "      <td>0.280</td>\n",
       "      <td>0.800</td>\n",
       "      <td>1.00</td>\n",
       "      <td>0.715</td>\n",
       "      <td>0.163</td>\n",
       "      <td>0.740</td>\n",
       "    </tr>\n",
       "    <tr>\n",
       "      <th>1215275</th>\n",
       "      <td>0.211</td>\n",
       "      <td>0.02</td>\n",
       "      <td>0.370</td>\n",
       "      <td>0.363</td>\n",
       "      <td>0.123</td>\n",
       "      <td>0.695</td>\n",
       "      <td>0.711</td>\n",
       "      <td>0.259</td>\n",
       "      <td>0.106</td>\n",
       "      <td>0.408</td>\n",
       "      <td>0.72</td>\n",
       "      <td>0.254</td>\n",
       "      <td>0.270</td>\n",
       "      <td>0.260</td>\n",
       "    </tr>\n",
       "    <tr>\n",
       "      <th>4989217</th>\n",
       "      <td>0.415</td>\n",
       "      <td>0.24</td>\n",
       "      <td>1.000</td>\n",
       "      <td>0.214</td>\n",
       "      <td>0.200</td>\n",
       "      <td>0.653</td>\n",
       "      <td>0.450</td>\n",
       "      <td>1.000</td>\n",
       "      <td>0.230</td>\n",
       "      <td>0.507</td>\n",
       "      <td>1.00</td>\n",
       "      <td>0.314</td>\n",
       "      <td>0.606</td>\n",
       "      <td>0.347</td>\n",
       "    </tr>\n",
       "    <tr>\n",
       "      <th>1884438</th>\n",
       "      <td>0.843</td>\n",
       "      <td>0.28</td>\n",
       "      <td>0.707</td>\n",
       "      <td>0.300</td>\n",
       "      <td>0.150</td>\n",
       "      <td>0.400</td>\n",
       "      <td>0.840</td>\n",
       "      <td>1.000</td>\n",
       "      <td>0.230</td>\n",
       "      <td>0.328</td>\n",
       "      <td>1.00</td>\n",
       "      <td>0.214</td>\n",
       "      <td>0.400</td>\n",
       "      <td>0.800</td>\n",
       "    </tr>\n",
       "    <tr>\n",
       "      <th>2425473</th>\n",
       "      <td>0.571</td>\n",
       "      <td>0.01</td>\n",
       "      <td>0.840</td>\n",
       "      <td>0.228</td>\n",
       "      <td>0.080</td>\n",
       "      <td>0.632</td>\n",
       "      <td>0.500</td>\n",
       "      <td>0.434</td>\n",
       "      <td>0.050</td>\n",
       "      <td>0.829</td>\n",
       "      <td>1.00</td>\n",
       "      <td>0.071</td>\n",
       "      <td>0.569</td>\n",
       "      <td>0.307</td>\n",
       "    </tr>\n",
       "  </tbody>\n",
       "</table>\n",
       "<p>413518 rows × 14 columns</p>\n",
       "</div>"
      ],
      "text/plain": [
       "         domain 1 score  domain 2 score  domain 3 score  domain 4 score  \\\n",
       "2317999           0.628            1.00           0.933           0.500   \n",
       "4402179           0.926            1.00           1.000           1.000   \n",
       "4651174           0.337            1.00           0.815           0.963   \n",
       "2911601           0.615            0.39           0.933           0.414   \n",
       "3468637           0.071            0.09           0.733           0.186   \n",
       "...                 ...             ...             ...             ...   \n",
       "3607401           0.629            0.55           1.000           0.329   \n",
       "1215275           0.211            0.02           0.370           0.363   \n",
       "4989217           0.415            0.24           1.000           0.214   \n",
       "1884438           0.843            0.28           0.707           0.300   \n",
       "2425473           0.571            0.01           0.840           0.228   \n",
       "\n",
       "         domain 5 score  domain 6 score  domain 7 score  domain 8 score  \\\n",
       "2317999           0.480           0.632           0.470           0.667   \n",
       "4402179           1.000           0.320           0.633           0.894   \n",
       "4651174           0.845           0.733           1.000           1.000   \n",
       "2911601           0.260           0.431           0.310           1.000   \n",
       "3468637           0.030           0.053           0.460           0.317   \n",
       "...                 ...             ...             ...             ...   \n",
       "3607401           0.150           1.000           0.610           1.000   \n",
       "1215275           0.123           0.695           0.711           0.259   \n",
       "4989217           0.200           0.653           0.450           1.000   \n",
       "1884438           0.150           0.400           0.840           1.000   \n",
       "2425473           0.080           0.632           0.500           0.434   \n",
       "\n",
       "         domain 9 score  domain 10 score  domain 11 score  domain 12 score  \\\n",
       "2317999           0.690            0.800             1.00            0.393   \n",
       "4402179           0.707            1.000             1.00            1.000   \n",
       "4651174           1.000            1.000             1.00            1.000   \n",
       "2911601           0.310            0.621             1.00            0.350   \n",
       "3468637           0.000            0.071             0.20            0.172   \n",
       "...                 ...              ...              ...              ...   \n",
       "3607401           0.280            0.800             1.00            0.715   \n",
       "1215275           0.106            0.408             0.72            0.254   \n",
       "4989217           0.230            0.507             1.00            0.314   \n",
       "1884438           0.230            0.328             1.00            0.214   \n",
       "2425473           0.050            0.829             1.00            0.071   \n",
       "\n",
       "         domain 13 score  domain 14 score  \n",
       "2317999            0.564            1.000  \n",
       "4402179            0.838            0.680  \n",
       "4651174            0.838            0.326  \n",
       "2911601            0.430            0.874  \n",
       "3468637            0.273            0.893  \n",
       "...                  ...              ...  \n",
       "3607401            0.163            0.740  \n",
       "1215275            0.270            0.260  \n",
       "4989217            0.606            0.347  \n",
       "1884438            0.400            0.800  \n",
       "2425473            0.569            0.307  \n",
       "\n",
       "[413518 rows x 14 columns]"
      ]
     },
     "execution_count": 45,
     "metadata": {},
     "output_type": "execute_result"
    }
   ],
   "source": [
    "test_data"
   ]
  },
  {
   "cell_type": "code",
   "execution_count": 46,
   "metadata": {},
   "outputs": [
    {
     "data": {
      "text/plain": [
       "domain 1 score     0.537678\n",
       "domain 2 score     0.532263\n",
       "domain 3 score     0.839410\n",
       "domain 4 score     0.504378\n",
       "domain 5 score     0.291540\n",
       "domain 6 score     0.432620\n",
       "domain 7 score     0.515574\n",
       "domain 8 score     0.603264\n",
       "domain 9 score     0.395647\n",
       "domain 10 score    0.556583\n",
       "domain 11 score    0.794506\n",
       "domain 12 score    0.432024\n",
       "domain 13 score    0.683947\n",
       "domain 14 score    0.622716\n",
       "dtype: float64"
      ]
     },
     "execution_count": 46,
     "metadata": {},
     "output_type": "execute_result"
    }
   ],
   "source": [
    "test_data.mean()"
   ]
  },
  {
   "cell_type": "code",
   "execution_count": 47,
   "metadata": {},
   "outputs": [
    {
     "name": "stderr",
     "output_type": "stream",
     "text": [
      "Bad pipe message: %s [b'\\xf4`#\\x8b\\xeaE\\xf7\\xcaC\\xbeFse\\x95\\x9e\\x15M;\\x00\\x01|\\x00\\x00\\x00\\x01\\x00\\x02\\x00\\x03\\x00\\x04\\x00\\x05\\x00\\x06\\x00\\x07\\x00\\x08\\x00\\t\\x00\\n\\x00\\x0b\\x00\\x0c\\x00\\r\\x00\\x0e\\x00\\x0f\\x00\\x10\\x00\\x11']\n"
     ]
    }
   ],
   "source": [
    "torch.save(model, \"model/clamp1.pt\")"
   ]
  }
 ],
 "metadata": {
  "kernelspec": {
   "display_name": "ct",
   "language": "python",
   "name": "python3"
  },
  "language_info": {
   "codemirror_mode": {
    "name": "ipython",
    "version": 3
   },
   "file_extension": ".py",
   "mimetype": "text/x-python",
   "name": "python",
   "nbconvert_exporter": "python",
   "pygments_lexer": "ipython3",
   "version": "3.9.19"
  }
 },
 "nbformat": 4,
 "nbformat_minor": 2
}
