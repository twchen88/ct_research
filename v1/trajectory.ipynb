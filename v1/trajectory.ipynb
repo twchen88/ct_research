{
 "cells": [
  {
   "cell_type": "markdown",
   "metadata": {},
   "source": [
    "# Set up"
   ]
  },
  {
   "cell_type": "code",
   "execution_count": 1,
   "metadata": {},
   "outputs": [],
   "source": [
    "## import packages\n",
    "import numpy as np\n",
    "import pandas as pd\n",
    "import matplotlib.pyplot as plt\n",
    "import seaborn as sns\n",
    "import torch\n",
    "import torch.nn as nn\n",
    "import torch.nn.functional as F\n",
    "from torch.utils.data import DataLoader, Dataset\n",
    "import statistics\n",
    "from datetime import datetime\n",
    "from sklearn.model_selection import train_test_split\n",
    "import random, sys, copy, os, json"
   ]
  },
  {
   "cell_type": "code",
   "execution_count": 2,
   "metadata": {},
   "outputs": [],
   "source": [
    "# Set seeds for reproducibility\n",
    "torch.manual_seed(42)\n",
    "np.random.seed(42)\n",
    "random.seed(42)\n",
    "\n",
    "# Ensure deterministic algorithms\n",
    "torch.backends.cudnn.deterministic = True\n",
    "torch.backends.cudnn.benchmark = False"
   ]
  },
  {
   "cell_type": "code",
   "execution_count": 3,
   "metadata": {},
   "outputs": [],
   "source": [
    "score_columns = [\"domain %d score\" %i for i in range(1, 15)]\n",
    "encoding_columns = [\"domain %d encoding\" %i for i in range(1, 15)]\n",
    "target_columns = [\"domain %d target\" %i for i in range(1, 15)]\n",
    "repeat_columns = [\"repeat\"]\n",
    "time_columns = [\"start_time\"]"
   ]
  },
  {
   "cell_type": "markdown",
   "metadata": {},
   "source": [
    "# Define Model"
   ]
  },
  {
   "cell_type": "code",
   "execution_count": 4,
   "metadata": {},
   "outputs": [],
   "source": [
    "## input : 14 domain encodings + 14 domains (28 total features with missing indicator)\n",
    "## output: 28 score (prediction for the scores after next domain)\n",
    "## copied from next_step.py, which was used to train the model\n",
    "class NN(torch.nn.Module):\n",
    "    def __init__(self):\n",
    "        super().__init__()\n",
    "        n_domains = 14\n",
    "        \n",
    "        self.model = torch.nn.Sequential(\n",
    "            torch.nn.Linear(n_domains * 3, 100),\n",
    "            torch.nn.Sigmoid(),\n",
    "            torch.nn.Linear(100, n_domains)\n",
    "        )\n",
    "\n",
    "    def forward(self, x):\n",
    "        return self.model(x)"
   ]
  },
  {
   "cell_type": "code",
   "execution_count": 5,
   "metadata": {},
   "outputs": [],
   "source": [
    "# initialize the model\n",
    "model = NN()\n",
    "model = torch.load(\"output/experiment4/model.pt\", map_location=torch.device('cpu'))"
   ]
  },
  {
   "cell_type": "markdown",
   "metadata": {},
   "source": [
    "# Define different methods\n",
    "- best: pick the domain that gives the highest score\n",
    "- middle ground: picking something in the middle, might need to aggregate the results\n",
    "- worst: pick the domain that gives the lowest score\n",
    "\n",
    "Apply these methods and compare. We are hoping to see that the orders do matter and the \"patient\" ends up in different places after trying all 14 domains."
   ]
  },
  {
   "cell_type": "markdown",
   "metadata": {},
   "source": [
    "## Helper Functions"
   ]
  },
  {
   "cell_type": "code",
   "execution_count": 6,
   "metadata": {},
   "outputs": [],
   "source": [
    "# create missing indicator when given the score data\n",
    "def create_missing_indicator(data):\n",
    "    torch.manual_seed(42)\n",
    "    np.random.seed(42)\n",
    "    random.seed(42)\n",
    "    (l, w) = data.shape\n",
    "    temp = np.zeros((l, w*2))\n",
    "    for i in range(l):\n",
    "        for d in range(w):\n",
    "            p = data[i, d]\n",
    "            # update output array\n",
    "            # if p == 0:\n",
    "            if np.isnan(p):\n",
    "                missing_ind = np.random.choice(2, 1)[0]\n",
    "                temp[i, d*2] = missing_ind\n",
    "                temp[i, d*2+1] = missing_ind\n",
    "            else:\n",
    "                temp[i, d*2] = p # score\n",
    "                temp[i, d*2+1] = 1-p # 1-score\n",
    "    assert not np.isnan(temp).any(), \"nans exists!!!\"\n",
    "    return copy.deepcopy(temp)"
   ]
  },
  {
   "cell_type": "code",
   "execution_count": 7,
   "metadata": {},
   "outputs": [],
   "source": [
    "# add encoding to scores and return a tensor that can be put directly into the model\n",
    "def add_encoding(scores : np.ndarray, encoding : np.ndarray):\n",
    "    return torch.from_numpy(np.hstack((encoding, scores))).float()"
   ]
  },
  {
   "cell_type": "code",
   "execution_count": 8,
   "metadata": {},
   "outputs": [],
   "source": [
    "# given current scores and encoding, return what can be put into the model\n",
    "def create_model_data(data, encoding):\n",
    "    data_scores = create_missing_indicator(data)\n",
    "    output = add_encoding(data_scores, encoding)\n",
    "    return output"
   ]
  },
  {
   "cell_type": "code",
   "execution_count": 9,
   "metadata": {},
   "outputs": [],
   "source": [
    "# given the number of rows and cols and index, return a numpy array of according size with all 0s except for specified column\n",
    "def create_single_encoding(rows, cols, column_index):\n",
    "    if column_index < 0 or column_index >= cols:\n",
    "        raise ValueError(\"Column index is out of bounds.\")\n",
    "\n",
    "    # Create a zero matrix\n",
    "    matrix = np.zeros((rows, cols), dtype=int)\n",
    "\n",
    "    # Set all values in the specified column to 1\n",
    "    matrix[:, column_index] = 1\n",
    "\n",
    "    return matrix"
   ]
  },
  {
   "cell_type": "code",
   "execution_count": 10,
   "metadata": {},
   "outputs": [],
   "source": [
    "# return prediction given model and input data\n",
    "def predict(model, x):\n",
    "    model.eval()\n",
    "    with torch.no_grad():\n",
    "        predictions = model(x)\n",
    "        return predictions.clone().numpy()"
   ]
  },
  {
   "cell_type": "code",
   "execution_count": 11,
   "metadata": {},
   "outputs": [],
   "source": [
    "def max_prediction_from_difference(difference_matrix, prediction_matrix, current_matrix):\n",
    "    nan_mask = np.isnan(current_matrix)  # Boolean mask where True indicates NaN\n",
    "\n",
    "    # Initialize arrays to store results\n",
    "    max_indices = np.full(difference_matrix.shape[0], np.nan)  # Store max indices\n",
    "    max_values = np.full(difference_matrix.shape[0], np.nan)  # Store corresponding prediction values\n",
    "\n",
    "    # Iterate through each row\n",
    "    for i in range(difference_matrix.shape[0]):\n",
    "        valid_indices = np.where(nan_mask[i])[0]  # Get column indices where current_matrix has NaN\n",
    "        if valid_indices.size > 0:\n",
    "            valid_differences = difference_matrix[i, valid_indices]  # Select values where NaN exists in current_matrix\n",
    "            max_idx = np.argmax(valid_differences)  # Find index of max value (relative to valid_indices)\n",
    "            max_indices[i] = valid_indices[max_idx]  # Store original column index\n",
    "            max_values[i] = prediction_matrix[i, valid_indices[max_idx]]  # Get corresponding prediction value\n",
    "\n",
    "    return max_values, max_indices"
   ]
  },
  {
   "cell_type": "code",
   "execution_count": 12,
   "metadata": {},
   "outputs": [],
   "source": [
    "def min_prediction_from_difference(difference_matrix, prediction_matrix, current_matrix):\n",
    "    nan_mask = np.isnan(current_matrix)  # Boolean mask where True indicates NaN\n",
    "\n",
    "    # Initialize arrays to store results\n",
    "    min_indices = np.full(difference_matrix.shape[0], np.nan)  # Store max indices\n",
    "    min_values = np.full(difference_matrix.shape[0], np.nan)  # Store corresponding prediction values\n",
    "\n",
    "    # Iterate through each row\n",
    "    for i in range(difference_matrix.shape[0]):\n",
    "        valid_indices = np.where(nan_mask[i])[0]  # Get column indices where current_matrix has NaN\n",
    "        if valid_indices.size > 0:\n",
    "            valid_differences = difference_matrix[i, valid_indices]  # Select values where NaN exists in current_matrix\n",
    "            min_idx = np.argmin(valid_differences)  # Find index of max value (relative to valid_indices)\n",
    "            min_indices[i] = valid_indices[min_idx]  # Store original column index\n",
    "            min_values[i] = prediction_matrix[i, valid_indices[min_idx]]  # Get corresponding prediction value\n",
    "\n",
    "    return min_values, min_indices"
   ]
  },
  {
   "cell_type": "code",
   "execution_count": 13,
   "metadata": {},
   "outputs": [],
   "source": [
    "def random_prediction_from_difference(difference_matrix, prediction_matrix, current_matrix):\n",
    "    nan_mask = np.isnan(current_matrix)  # Boolean mask where True indicates NaN\n",
    "\n",
    "    # Initialize arrays to store results\n",
    "    random_indices = np.full(difference_matrix.shape[0], np.nan)  # Store random indices\n",
    "    random_values = np.full(difference_matrix.shape[0], np.nan)  # Store corresponding prediction values\n",
    "\n",
    "    # Iterate through each row\n",
    "    for i in range(difference_matrix.shape[0]):\n",
    "        valid_indices = np.where(nan_mask[i])[0]  # Get column indices where current_matrix has NaN\n",
    "        if valid_indices.size > 0:\n",
    "            chosen_idx = np.random.choice(valid_indices)  # Choose one at random\n",
    "            random_indices[i] = chosen_idx\n",
    "            random_values[i] = prediction_matrix[i, chosen_idx]  # Get corresponding prediction value\n",
    "\n",
    "    return random_values, random_indices\n"
   ]
  },
  {
   "cell_type": "code",
   "execution_count": 14,
   "metadata": {},
   "outputs": [],
   "source": [
    "# take in initial data, mode, and model, return the next domain and predicted score according to mode\n",
    "def find_next_domain(initial_scores, model, mode):\n",
    "    prediction_list = [] # initialize where to store the prediction scores\n",
    "    for i in range(14):\n",
    "        rows, cols = initial_scores.shape\n",
    "        # create encoding\n",
    "        encoding = create_single_encoding(rows, cols, i)\n",
    "        # create data to put into model\n",
    "        x = create_model_data(initial_scores, encoding)\n",
    "        # predict the score if its domain i and append to prediction list\n",
    "        single_prediction = predict(model, x)\n",
    "        prediction_list.append(single_prediction[:, i])\n",
    "    prediction_matrix = np.column_stack(prediction_list)\n",
    "    difference = prediction_matrix - np.nan_to_num(initial_scores)\n",
    "    # choose based on mode\n",
    "    if mode == \"best\":\n",
    "        # find max indices\n",
    "        value, index = max_prediction_from_difference(difference, prediction_matrix, initial_scores)\n",
    "    elif mode == \"middle\":\n",
    "        value, index = random_prediction_from_difference(difference, prediction_matrix, initial_scores)\n",
    "    elif mode == \"worst\":\n",
    "        value, index = min_prediction_from_difference(difference, prediction_matrix, initial_scores)\n",
    "    return int(index[0]), value[0]"
   ]
  },
  {
   "cell_type": "code",
   "execution_count": 15,
   "metadata": {},
   "outputs": [],
   "source": [
    "# take in model and mode, return a list of scores according to the mode\n",
    "def trajectory(model, mode):\n",
    "    performance = [] # known domain average, s_i, at time step i\n",
    "    order = [] # order of domains practiced\n",
    "    current_scores = np.empty((1,14))\n",
    "    current_scores[:] = np.nan # current scores, filled by nans first\n",
    "    # go through 14 steps of predictions\n",
    "    for i in range(14):\n",
    "        # find predicted domain and score in this step according to mode\n",
    "        next_domain, next_score = find_next_domain(current_scores, model, mode)\n",
    "        # update current scores\n",
    "        current_scores[0, next_domain] = next_score\n",
    "        # calculate known domain average\n",
    "        cur_mean = np.nanmean(current_scores)\n",
    "        # append to score list and order list\n",
    "        performance.append(cur_mean)\n",
    "        order.append(next_domain + 1)\n",
    "    return performance, current_scores, order"
   ]
  },
  {
   "cell_type": "markdown",
   "metadata": {},
   "source": [
    "## Best"
   ]
  },
  {
   "cell_type": "code",
   "execution_count": 16,
   "metadata": {},
   "outputs": [],
   "source": [
    "best_peformance, best_final_scores, best_order = trajectory(model, \"best\")"
   ]
  },
  {
   "cell_type": "markdown",
   "metadata": {},
   "source": [
    "## Middle Ground"
   ]
  },
  {
   "cell_type": "code",
   "execution_count": 17,
   "metadata": {},
   "outputs": [],
   "source": [
    "middle_peformance, middle_final_scores, middle_order = trajectory(model, \"middle\")"
   ]
  },
  {
   "cell_type": "markdown",
   "metadata": {},
   "source": [
    "## Worst"
   ]
  },
  {
   "cell_type": "code",
   "execution_count": 18,
   "metadata": {},
   "outputs": [],
   "source": [
    "worst_peformance, worst_final_scores, worst_order = trajectory(model, \"worst\")"
   ]
  },
  {
   "cell_type": "markdown",
   "metadata": {},
   "source": [
    "# Visualizations"
   ]
  },
  {
   "cell_type": "code",
   "execution_count": 25,
   "metadata": {},
   "outputs": [
    {
     "data": {
      "image/png": "[encoded data removed]",
      "text/plain": [
       "<Figure size 640x480 with 1 Axes>"
      ]
     },
     "metadata": {},
     "output_type": "display_data"
    }
   ],
   "source": [
    "plt.figure()\n",
    "x_values = range(1, 15)\n",
    "plt.plot(x_values, best_peformance, label=\"best\", marker=\"o\")\n",
    "plt.plot(x_values, middle_peformance, label=\"random\", marker=\"o\")\n",
    "plt.plot(x_values, worst_peformance, label=\"worst\", marker=\"o\")\n",
    "\n",
    "plt.xlabel(\"Timestep\")\n",
    "plt.ylabel(\"Known Domain Average\")\n",
    "plt.title(\"Known Domain Average Over Time for Three Different Modes\")\n",
    "plt.grid(axis='y', linestyle='--', alpha=0.7)\n",
    "plt.legend()\n",
    "plt.show()"
   ]
  },
  {
   "cell_type": "code",
   "execution_count": 20,
   "metadata": {},
   "outputs": [
    {
     "data": {
      "image/png": "[encoded data removed]",
      "text/plain": [
       "<Figure size 640x480 with 1 Axes>"
      ]
     },
     "metadata": {},
     "output_type": "display_data"
    }
   ],
   "source": [
    "plt.figure()\n",
    "x = np.arange(14)\n",
    "width = 0.25\n",
    "\n",
    "plt.bar(x - width, best_final_scores.flatten(), width, label='best')\n",
    "plt.bar(x, middle_final_scores.flatten(), width, label='middle')\n",
    "plt.bar(x + width, worst_final_scores.flatten(), width, label='worst')\n",
    "\n",
    "plt.ylabel('Score')\n",
    "plt.title('Model Scores by Domain')\n",
    "plt.legend()\n",
    "plt.tight_layout()\n",
    "plt.show()"
   ]
  },
  {
   "cell_type": "code",
   "execution_count": 21,
   "metadata": {},
   "outputs": [
    {
     "data": {
      "text/plain": [
       "([3, 11, 8, 1, 13, 14, 12, 7, 10, 2, 6, 9, 5, 4],\n",
       " [8, 12, 13, 7, 3, 4, 11, 9, 10, 14, 5, 6, 1, 2],\n",
       " [6, 10, 7, 13, 14, 5, 9, 4, 12, 2, 3, 8, 1, 11])"
      ]
     },
     "execution_count": 21,
     "metadata": {},
     "output_type": "execute_result"
    }
   ],
   "source": [
    "best_order, middle_order, worst_order"
   ]
  }
 ],
 "metadata": {
  "kernelspec": {
   "display_name": "ct",
   "language": "python",
   "name": "python3"
  },
  "language_info": {
   "codemirror_mode": {
    "name": "ipython",
    "version": 3
   },
   "file_extension": ".py",
   "mimetype": "text/x-python",
   "name": "python",
   "nbconvert_exporter": "python",
   "pygments_lexer": "ipython3",
   "version": "3.9.19"
  }
 },
 "nbformat": 4,
 "nbformat_minor": 2
}
