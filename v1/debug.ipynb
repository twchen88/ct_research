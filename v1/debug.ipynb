{
 "cells": [
  {
   "cell_type": "markdown",
   "metadata": {},
   "source": [
    "# Debug various functions used the variance.ipynb, baseline_quant.ipynb, masking.ipynb, and sanity_checks.ipynb"
   ]
  },
  {
   "cell_type": "code",
   "execution_count": 93,
   "metadata": {},
   "outputs": [],
   "source": [
    "## import packages\n",
    "import numpy as np\n",
    "import pandas as pd\n",
    "import matplotlib.pyplot as plt\n",
    "import matplotlib.dates as mdates\n",
    "import seaborn as sns\n",
    "import torch\n",
    "import torch.nn as nn\n",
    "import torch.nn.functional as F\n",
    "import copy\n",
    "import wandb\n",
    "import statistics\n",
    "from sklearn.model_selection import train_test_split\n",
    "from sklearn.metrics import mean_squared_error, mean_absolute_error\n",
    "import random\n",
    "from scipy.stats import sem"
   ]
  },
  {
   "cell_type": "markdown",
   "metadata": {},
   "source": [
    "## Gradient"
   ]
  },
  {
   "cell_type": "code",
   "execution_count": 94,
   "metadata": {},
   "outputs": [],
   "source": [
    "data = torch.from_numpy(np.array([[0, 0, 1, 0]])).float()"
   ]
  },
  {
   "cell_type": "code",
   "execution_count": 95,
   "metadata": {},
   "outputs": [],
   "source": [
    "class NN(nn.Module):\n",
    "    def __init__(self):\n",
    "        super().__init__()\n",
    "        input_dim = 4\n",
    "        n_unit = 3\n",
    "        output_dim = 4\n",
    "        self.model = nn.Sequential(\n",
    "            nn.Linear(input_dim, n_unit),\n",
    "            nn.Sigmoid(),\n",
    "            nn.Linear(n_unit, output_dim)\n",
    "        )\n",
    "    \n",
    "    def forward(self, x):\n",
    "        return self.model(x)"
   ]
  },
  {
   "cell_type": "code",
   "execution_count": 96,
   "metadata": {},
   "outputs": [],
   "source": [
    "model = NN()"
   ]
  },
  {
   "cell_type": "code",
   "execution_count": 97,
   "metadata": {},
   "outputs": [
    {
     "data": {
      "text/plain": [
       "torch.Size([4])"
      ]
     },
     "execution_count": 97,
     "metadata": {},
     "output_type": "execute_result"
    }
   ],
   "source": [
    "data[0].shape"
   ]
  },
  {
   "cell_type": "code",
   "execution_count": 98,
   "metadata": {},
   "outputs": [],
   "source": [
    "output = model(data[0])"
   ]
  },
  {
   "cell_type": "code",
   "execution_count": 99,
   "metadata": {},
   "outputs": [],
   "source": [
    "target = copy.deepcopy(data[0])\n",
    "# target = torch.from_numpy(np.hstack((output.detach().numpy()[:2], target.detach().numpy()[2:]))).float()"
   ]
  },
  {
   "cell_type": "code",
   "execution_count": 100,
   "metadata": {},
   "outputs": [],
   "source": [
    "# take in two torch tensors, return MSE for non-missing values only\n",
    "class custom_MSE(nn.Module):\n",
    "    def __init__(self) -> None:\n",
    "        super(custom_MSE, self).__init__()\n",
    "    \n",
    "    def missing(self, arr : np.array):\n",
    "        assert(arr.shape == (2,))\n",
    "        x1 = arr[0]\n",
    "        x2 = arr[1]\n",
    "        return x1 == x2 and x1 != 0.5\n",
    "    \n",
    "    def forward(self, y_pred : torch.Tensor, target : torch.Tensor):\n",
    "        assert(target.shape == torch.Size([4])) ## hardcoded for now\n",
    "        r = target.shape[0]\n",
    "        y_pred_vals = y_pred.detach().numpy() ## different name to keep gradient\n",
    "        target_vals = target.detach().numpy()\n",
    "        new_target = np.zeros((r,))\n",
    "        missing_count = 0\n",
    "\n",
    "        for i in range(0, r, 2):\n",
    "            pair_target = target_vals[i:i+2]\n",
    "            pair_y_pred = y_pred_vals[i:i+2]\n",
    "            if self.missing(pair_target):\n",
    "                missing_count += 1\n",
    "                new_target[i:i+2] = pair_y_pred\n",
    "            else:\n",
    "                new_target[i:i+2] = pair_target\n",
    "        \n",
    "        new_target = torch.from_numpy(new_target).float()\n",
    "\n",
    "        loss = torch.divide(torch.sum(torch.pow(torch.subtract(y_pred, new_target), 2)), missing_count)\n",
    "        print(loss)\n",
    "        return loss"
   ]
  },
  {
   "cell_type": "code",
   "execution_count": 101,
   "metadata": {},
   "outputs": [],
   "source": [
    "loss_fn = custom_MSE()"
   ]
  },
  {
   "cell_type": "code",
   "execution_count": 102,
   "metadata": {},
   "outputs": [
    {
     "data": {
      "text/plain": [
       "(tensor([ 0.1954,  0.1833, -0.2231,  0.7691], grad_fn=<ViewBackward0>),\n",
       " tensor([0., 0., 1., 0.]))"
      ]
     },
     "execution_count": 102,
     "metadata": {},
     "output_type": "execute_result"
    }
   ],
   "source": [
    "output, target"
   ]
  },
  {
   "cell_type": "code",
   "execution_count": 103,
   "metadata": {},
   "outputs": [
    {
     "name": "stdout",
     "output_type": "stream",
     "text": [
      "tensor(2.0876, grad_fn=<DivBackward0>)\n"
     ]
    }
   ],
   "source": [
    "loss = loss_fn(output, target)"
   ]
  },
  {
   "cell_type": "code",
   "execution_count": 104,
   "metadata": {},
   "outputs": [
    {
     "data": {
      "text/plain": [
       "tensor(2.0876, grad_fn=<DivBackward0>)"
      ]
     },
     "execution_count": 104,
     "metadata": {},
     "output_type": "execute_result"
    }
   ],
   "source": [
    "loss"
   ]
  },
  {
   "cell_type": "code",
   "execution_count": 105,
   "metadata": {},
   "outputs": [],
   "source": [
    "optimizer = torch.optim.Adam(model.parameters())"
   ]
  },
  {
   "cell_type": "code",
   "execution_count": 106,
   "metadata": {},
   "outputs": [],
   "source": [
    "optimizer.zero_grad()"
   ]
  },
  {
   "cell_type": "code",
   "execution_count": 107,
   "metadata": {},
   "outputs": [],
   "source": [
    "loss.backward()"
   ]
  },
  {
   "cell_type": "code",
   "execution_count": 108,
   "metadata": {},
   "outputs": [],
   "source": [
    "optimizer.step()"
   ]
  },
  {
   "cell_type": "code",
   "execution_count": 109,
   "metadata": {},
   "outputs": [
    {
     "name": "stdout",
     "output_type": "stream",
     "text": [
      "tensor([[ 0.0000,  0.0000,  0.0763,  0.0000],\n",
      "        [ 0.0000,  0.0000,  0.0114,  0.0000],\n",
      "        [ 0.0000,  0.0000, -0.0746,  0.0000]]) torch.Size([3, 4])\n",
      "tensor([ 0.0763,  0.0114, -0.0746]) torch.Size([3])\n",
      "tensor([[ 0.0000,  0.0000,  0.0000],\n",
      "        [ 0.0000,  0.0000,  0.0000],\n",
      "        [-1.1711, -1.5150, -1.3266],\n",
      "        [ 0.7364,  0.9526,  0.8342]]) torch.Size([4, 3])\n",
      "tensor([ 0.0000,  0.0000, -2.4463,  1.5382]) torch.Size([4])\n"
     ]
    }
   ],
   "source": [
    "for param in model.parameters():\n",
    "    print(param.grad, param.grad.shape)"
   ]
  },
  {
   "cell_type": "code",
   "execution_count": 110,
   "metadata": {},
   "outputs": [],
   "source": [
    "final = model(data[0])"
   ]
  },
  {
   "cell_type": "code",
   "execution_count": 111,
   "metadata": {},
   "outputs": [
    {
     "data": {
      "text/plain": [
       "tensor([ 0.1955,  0.1836, -0.2205,  0.7663], grad_fn=<ViewBackward0>)"
      ]
     },
     "execution_count": 111,
     "metadata": {},
     "output_type": "execute_result"
    },
    {
     "name": "stderr",
     "output_type": "stream",
     "text": [
      "Bad pipe message: %s [b'\\xe7\\x9d\\x8bQR5^Z\\x80a\\xcc\\xda\\xd7\\x875i\\x00\\xbe\\x00\\x01|\\x00\\x00\\x00\\x01\\x00\\x02\\x00\\x03\\x00\\x04\\x00\\x05\\x00\\x06\\x00\\x07\\x00\\x08\\x00\\t\\x00\\n\\x00\\x0b\\x00\\x0c\\x00\\r\\x00\\x0e\\x00\\x0f\\x00\\x10\\x00\\x11\\x00\\x12\\x00\\x13\\x00\\x14\\x00\\x15\\x00\\x16\\x00\\x17\\x00\\x18\\x00\\x19\\x00\\x1a\\x00\\x1b\\x00/\\x000\\x001\\x002\\x003\\x004\\x005\\x006\\x007\\x008\\x009\\x00:\\x00;\\x00<\\x00=\\x00>\\x00?\\x00@\\x00A\\x00B\\x00C\\x00D\\x00E\\x00F\\x00g\\x00h\\x00i\\x00j\\x00k\\x00l\\x00m\\x00\\x84\\x00\\x85\\x00\\x86\\x00\\x87\\x00\\x88\\x00\\x89\\x00\\x96\\x00\\x97\\x00\\x98\\x00\\x99\\x00\\x9a\\x00\\x9b\\x00\\x9c\\x00\\x9d\\x00\\x9e\\x00\\x9f\\x00\\xa0\\x00\\xa1\\x00\\xa2\\x00\\xa3\\x00\\xa4\\x00\\xa5\\x00\\xa6\\x00\\xa7\\x00\\xba\\x00\\xbb\\x00\\xbc\\x00\\xbd\\x00\\xbe\\x00', b\"\\xc0\\x00\\xc1\\x00\\xc2\\x00\\xc3\\x00\\xc4\\x00\\xc5\\x13\\x01\\x13\\x02\\x13\\x03\\x13\\x04\\x13\\x05\\xc0\\x01\\xc0\\x02\\xc0\\x03\\xc0\\x04\\xc0\\x05\\xc0\\x06\\xc0\\x07\\xc0\\x08\\xc0\\t\\xc0\\n\\xc0\\x0b\\xc0\\x0c\\xc0\\r\\xc0\\x0e\\xc0\\x0f\\xc0\\x10\\xc0\\x11\\xc0\\x12\\xc0\\x13\\xc0\\x14\\xc0\\x15\\xc0\\x16\\xc0\\x17\\xc0\\x18\\xc0\\x19\\xc0#\\xc0$\\xc0%\\xc0&\\xc0'\\xc0(\\xc0)\\xc0*\\xc0+\\xc0,\\xc0-\\xc0.\\xc0/\\xc00\\xc01\\xc02\\xc0r\\xc0s\\xc0t\\xc0u\\xc0v\\xc0w\\xc0x\\xc0y\\xc0z\\xc0{\\xc0|\\xc0}\\xc0~\\xc0\\x7f\\xc0\\x80\\xc0\\x81\\xc0\\x82\\xc0\\x83\\xc0\\x84\\xc0\\x85\\xc0\\x86\\xc0\\x87\\xc0\\x88\\xc0\\x89\\xc0\\x8a\\xc0\\x8b\\xc0\\x8c\\xc0\\x8d\\xc0\\x8e\\xc0\\x8f\\xc0\\x90\\xc0\\x91\\xc0\\x92\\xc0\\x93\\xc0\\x94\\xc0\\x95\\xc0\\x96\\xc0\\x97\\xc0\\x98\\xc0\\x99\\xc0\\x9a\\xc0\\x9b\\xcc\\xa8\\xcc\"]\n",
      "Bad pipe message: %s [b\"f\\x08^@\\x00\\x107\\xcbD3/P\\xc7\\xc1'O)\\xe7\\x00\\x01|\\x00\\x00\\x00\\x01\\x00\\x02\\x00\\x03\\x00\\x04\\x00\\x05\\x00\\x06\\x00\\x07\\x00\\x08\\x00\\t\\x00\\n\\x00\\x0b\\x00\\x0c\\x00\\r\\x00\\x0e\\x00\\x0f\\x00\\x10\\x00\\x11\\x00\\x12\\x00\\x13\\x00\\x14\\x00\\x15\\x00\\x16\\x00\\x17\\x00\\x18\\x00\\x19\\x00\\x1a\\x00\\x1b\\x00/\\x000\\x001\\x002\\x003\\x004\\x005\\x006\\x007\\x008\\x009\\x00:\\x00;\\x00<\\x00=\\x00>\\x00?\\x00@\\x00A\\x00B\\x00C\\x00D\\x00E\\x00F\\x00g\\x00h\\x00i\\x00j\\x00k\\x00l\\x00m\\x00\\x84\\x00\\x85\\x00\\x86\\x00\\x87\\x00\\x88\\x00\\x89\\x00\\x96\\x00\\x97\\x00\\x98\\x00\\x99\\x00\\x9a\\x00\\x9b\\x00\\x9c\\x00\\x9d\\x00\\x9e\\x00\\x9f\\x00\\xa0\\x00\\xa1\\x00\\xa2\\x00\\xa3\\x00\\xa4\\x00\\xa5\\x00\\xa6\\x00\\xa7\\x00\\xba\\x00\\xbb\\x00\\xbc\\x00\\xbd\\x00\\xbe\\x00\\xbf\\x00\\xc0\\x00\\xc1\\x00\\xc2\\x00\\xc3\\x00\\xc4\\x00\\xc5\\x13\\x01\\x13\\x02\\x13\\x03\\x13\\x04\", b'\\xc0\\x01\\xc0\\x02\\xc0\\x03\\xc0\\x04\\xc0\\x05\\xc0\\x06\\xc0\\x07\\xc0\\x08\\xc0\\t', b\"\\xc0\\x0b\\xc0\\x0c\\xc0\\r\\xc0\\x0e\\xc0\\x0f\\xc0\\x10\\xc0\\x11\\xc0\\x12\\xc0\\x13\\xc0\\x14\\xc0\\x15\\xc0\\x16\\xc0\\x17\\xc0\\x18\\xc0\\x19\\xc0#\\xc0$\\xc0%\\xc0&\\xc0'\\xc0(\\xc0)\\xc0*\\xc0+\\xc0,\\xc0-\\xc0.\\xc0/\\xc00\\xc01\\xc02\\xc0r\\xc0s\\xc0t\\xc0u\\xc0v\\xc0w\\xc0x\\xc0y\\xc0z\\xc0{\\xc0|\\xc0}\\xc0~\\xc0\\x7f\\xc0\\x80\\xc0\\x81\\xc0\\x82\\xc0\\x83\\xc0\\x84\\xc0\\x85\\xc0\\x86\\xc0\\x87\\xc0\\x88\\xc0\\x89\\xc0\\x8a\\xc0\\x8b\\xc0\\x8c\\xc0\\x8d\\xc0\\x8e\\xc0\\x8f\\xc0\\x90\\xc0\\x91\\xc0\\x92\\xc0\\x93\\xc0\\x94\\xc0\\x95\\xc0\\x96\\xc0\\x97\\xc0\\x98\\xc0\\x99\\xc0\\x9a\\xc0\\x9b\\xcc\\xa8\\xcc\\xa9\\xcc\\xaa\\xcc\\xab\\xcc\\xac\\xcc\\xad\\xcc\\xae\\x02\\x00\\x01\\x00,\\x00\\n\\x00\\n\\x00\\x08\\x00\\x17\\x00\\x19\\x00\\x18\\x00\\x16\\x00\\x0b\\x00\\x04\\x03\\x00\\x01\\x02\\x00\\r\\x00\\x12\"]\n",
      "Bad pipe message: %s [b'2\\xdf\\xacU3\\xff0N\\xf0\\xc6\\x9b\\x1c<\\\\\\xe7\\xc6\\x0cJ\\x00\\x01|\\x00\\x00\\x00\\x01\\x00\\x02\\x00\\x03\\x00\\x04\\x00\\x05\\x00\\x06\\x00\\x07\\x00\\x08\\x00\\t\\x00\\n\\x00\\x0b\\x00\\x0c\\x00\\r\\x00\\x0e\\x00\\x0f\\x00\\x10\\x00\\x11\\x00\\x12\\x00\\x13\\x00\\x14\\x00\\x15\\x00\\x16\\x00\\x17\\x00\\x18\\x00\\x19\\x00\\x1a\\x00\\x1b\\x00/\\x000\\x001\\x002\\x003\\x004\\x005\\x006\\x007\\x008\\x009\\x00:\\x00;\\x00<\\x00=\\x00>\\x00?\\x00@\\x00A\\x00B\\x00C\\x00D\\x00E\\x00F\\x00g\\x00h\\x00i\\x00j\\x00k']\n",
      "Bad pipe message: %s [b'\\x17\\x96\\x0f\\xef9\\xb0\\xf7\\xf14\\x0f\\x19\\x9e8\\x07ZL\\xca\\xeb\\x00\\x000\\x00A\\x00B\\x00C\\x00']\n",
      "Bad pipe message: %s [b'\\xa8\\x0c\\xf23Q\\xc3\\x9d\\x83\\x14\\xaa\\xd8\\xb4*0\\n\\x83\\xab<\\x00\\x00*\\x00\\x03\\x00\\x06\\x00\\x07\\x00\\x08\\x00\\t\\x00\\x0b\\x00\\x0c\\x00\\x0e\\x00\\x0f\\x00\\x11\\x00', b'\\x14\\x00\\x15\\x00\\x17\\x00\\x19\\x00\\x1a\\xc0\\x02\\xc0\\x07\\xc0\\x0c\\xc0\\x11']\n",
      "Bad pipe message: %s [b'>\\xc0\\x06\\xe4\\x16\\x88\\x9fDh%\\xbe\\xdf\\xde\\xaf\\x12\\xde\\x19\\x82\\x00\\x00T\\xc0r\\xc0s\\xc0t\\xc0u\\xc0v\\xc0w\\xc0x\\xc0y\\xc0z\\xc0{\\xc0|\\xc0}\\xc0~\\xc0\\x7f\\xc0\\x80\\xc0\\x81\\xc0\\x82\\xc0\\x83\\xc0\\x84\\xc0\\x85\\xc0\\x86\\xc0\\x87\\xc0\\x88\\xc0\\x89\\xc0\\x8a\\xc0\\x8b\\xc0\\x8c\\xc0\\x8d\\xc0\\x8e\\xc0\\x8f\\xc0\\x90\\xc0\\x91\\xc0\\x92\\xc0\\x93\\xc0\\x94\\xc0\\x95\\xc0\\x96\\xc0\\x97\\xc0\\x98\\xc0\\x99\\xc0\\x9a\\xc0\\x9b\\x02\\x00\\x01\\x00,\\x00\\n\\x00\\n\\x00\\x08\\x00\\x17\\x00\\x19\\x00\\x18\\x00\\x16\\x00\\x0b\\x00\\x04\\x03\\x00\\x01\\x02\\x00\\r\\x00\\x12\\x00\\x10\\x04\\x03\\x08\\x04\\x04']\n",
      "Bad pipe message: %s [b'JW\\xa2kw\\xde\\xc3\\xca\\xa1\\xe2w\\x84\"\\xa4Pt']\n",
      "Bad pipe message: %s [b'\\xb9\\x1fy\\x8b\\x8e\\x0e\\x8f\\xa9\\xae\\xd8\\xf6pcb\\xe2\\x08\\xe4\\xc2\\x00\\x00T\\xc0r\\xc0s\\xc0t\\xc0u\\xc0v\\xc0w\\xc0x\\xc0y\\xc0z\\xc0{\\xc0|\\xc0}\\xc0~\\xc0\\x7f\\xc0\\x80\\xc0\\x81\\xc0\\x82\\xc0\\x83\\xc0\\x84\\xc0\\x85\\xc0\\x86\\xc0\\x87\\xc0\\x88\\xc0\\x89\\xc0\\x8a\\xc0\\x8b\\xc0\\x8c\\xc0\\x8d\\xc0\\x8e\\xc0\\x8f\\xc0\\x90\\xc0\\x91\\xc0\\x92\\xc0\\x93\\xc0\\x94\\xc0\\x95\\xc0\\x96\\xc0\\x97\\xc0\\x98\\xc0\\x99\\xc0\\x9a\\xc0\\x9b\\x02\\x00\\x01\\x00,\\x00\\n\\x00', b'\\x08\\x00\\x17\\x00\\x19\\x00\\x18\\x00\\x16']\n",
      "Bad pipe message: %s [b'\\xd7\\xe5\\x97\\xf4\\x1bp\\xca\\x8e\\xf3r\\x12\\xbenD(\"\\xe3\\x07\\x00\\x006\\xc0\\x01\\xc0\\x03\\xc0\\x04\\xc0\\x05\\xc0\\x06\\xc0\\x08\\xc0\\t\\xc0\\n\\xc0\\x0b\\xc0\\r\\xc0']\n",
      "Bad pipe message: %s [b'\\x0f\\xc0\\x10\\xc0\\x12\\xc0\\x13\\xc0\\x14\\xc0\\x15\\xc0\\x17']\n",
      "Bad pipe message: %s [b's\\xd5\\xdf3\\xdc\\xfcv\\x18f\\xfcN{\\x03?\\x86/\\xb2f\\x00\\x000\\x00A\\x00']\n",
      "Bad pipe message: %s [b'\\xe6\\x99']\n",
      "Bad pipe message: %s [b'\\xa5']\n",
      "Bad pipe message: %s [b'qG\\xf4\\x02#t\\x9b\\x17+Mt \\xf4\\xbf\\xe3\\x00\\x00T\\xc0r\\xc0s\\xc0t\\xc0']\n",
      "Bad pipe message: %s [b'v\\xc0w\\xc0x\\xc0y\\xc0z\\xc0{\\xc0|\\xc0}\\xc0~\\xc0\\x7f\\xc0\\x80\\xc0\\x81\\xc0\\x82\\xc0\\x83\\xc0\\x84\\xc0\\x85\\xc0\\x86\\xc0\\x87\\xc0\\x88\\xc0\\x89\\xc0\\x8a\\xc0\\x8b\\xc0\\x8c\\xc0\\x8d\\xc0\\x8e\\xc0\\x8f\\xc0\\x90\\xc0\\x91\\xc0\\x92\\xc0\\x93\\xc0\\x94\\xc0\\x95\\xc0\\x96\\xc0\\x97\\xc0\\x98\\xc0\\x99\\xc0\\x9a\\xc0\\x9b\\x02\\x00\\x01\\x00,\\x00\\n\\x00\\n\\x00\\x08\\x00\\x17\\x00\\x19\\x00\\x18\\x00\\x16\\x00\\x0b\\x00\\x04\\x03\\x00\\x01\\x02\\x00\\r\\x00\\x12\\x00\\x10\\x04\\x03\\x08\\x04\\x04\\x01\\x05\\x03']\n",
      "Bad pipe message: %s [b'\\xbc2%\\x1f\\xac\\xf1\\xbc=jnwF1\\xd5:\\xacS7\\x00\\x00*\\x00\\x03\\x00\\x06\\x00\\x07\\x00\\x08\\x00\\t\\x00\\x0b\\x00\\x0c\\x00\\x0e\\x00\\x0f\\x00\\x11\\x00\\x12\\x00\\x14\\x00\\x15\\x00\\x17\\x00\\x19\\x00\\x1a\\xc0\\x02\\xc0\\x07\\xc0\\x0c\\xc0\\x11\\xc0\\x16\\x02\\x00\\x01\\x00,\\x00\\n\\x00\\n\\x00\\x08\\x00\\x17\\x00\\x19\\x00\\x18\\x00\\x16\\x00\\x0b\\x00\\x04\\x03\\x00\\x01\\x02\\x00\\r\\x00\\x12\\x00\\x10\\x04']\n",
      "Bad pipe message: %s [b'\\x04\\x04']\n",
      "Bad pipe message: %s [b'\\x97\\xf6(\\x13.\\xbe/\\x1b\\xd0\\xd3\\x89A\\xd7t\\xa3n\\x07\\xe4 \\x7fp\\xf9C\\xc1\\xd7\\x91\\xc5_\\xdfv\\xdekD']\n",
      "Bad pipe message: %s [b'\\xe7k\\xd5\\t\\xe1\\x95\\xea(\\xc6\\x8b\\xf1\\x13\\xc9a\\xcf\\xdc\\x00\\n\\x13\\x01\\x13\\x02\\x13\\x03\\x13\\x04\\x13\\x05\\x01\\x00\\x00\\x9e\\x00+\\x00\\x03\\x02\\x03\\x04\\x00\\n\\x00\\n\\x00\\x08\\xaa\\xaa\\x00\\x17\\x00\\x18\\x00\\x1d\\x00\\x00\\x00\\x10\\x00\\x0e\\x00\\x00\\x0bAMBUS140821\\x00\\r\\x00\\x12\\x00\\x10\\x04\\x03\\x08\\x04\\x04\\x01\\x05\\x03\\x08\\x05\\x05\\x01\\x08\\x06\\x06\\x01\\x00\\x17\\x00\\x00\\x00#\\x00\\x05\\x01\\x00\\x00\\x00\\x00\\x00\\x05\\x00\\x01\\x00\\x00\\x10\\x00\\x0e\\x00\\x0c']\n",
      "Bad pipe message: %s [b'2']\n",
      "Bad pipe message: %s [b'ttp/1.1']\n",
      "Bad pipe message: %s [b'\\x81\\xd6<\\x02\\xf8y=\\x7f\\xa9d\\x19\\xfc\\x02\\xda\\x84q\\x13\\xa9\\x00\\x01|\\x00\\x00\\x00\\x01\\x00\\x02\\x00\\x03\\x00\\x04\\x00\\x05\\x00\\x06\\x00\\x07\\x00\\x08\\x00\\t\\x00\\n\\x00\\x0b\\x00\\x0c\\x00\\r\\x00\\x0e\\x00\\x0f\\x00\\x10\\x00\\x11\\x00\\x12\\x00\\x13\\x00\\x14\\x00\\x15\\x00\\x16\\x00\\x17\\x00\\x18\\x00\\x19']\n",
      "Bad pipe message: %s [b'\\xed%*s\\xfeLz$\\xc1#\\x1e\\x81\\xd5\\x19\\x8b\\xb6$\\x11\\x00\\x01|\\x00\\x00\\x00\\x01\\x00\\x02\\x00\\x03\\x00\\x04\\x00\\x05\\x00\\x06\\x00\\x07\\x00\\x08\\x00\\t\\x00\\n\\x00\\x0b\\x00\\x0c\\x00\\r\\x00\\x0e\\x00\\x0f\\x00\\x10\\x00\\x11\\x00\\x12\\x00\\x13\\x00\\x14\\x00\\x15\\x00\\x16\\x00\\x17\\x00\\x18\\x00\\x19\\x00\\x1a\\x00\\x1b\\x00/\\x000\\x001\\x002\\x003\\x004\\x005\\x006\\x007\\x008\\x009\\x00:\\x00;\\x00<\\x00=\\x00>\\x00?\\x00@\\x00A\\x00B\\x00C\\x00D\\x00E\\x00F\\x00g\\x00h\\x00i\\x00j\\x00k\\x00l\\x00m\\x00\\x84\\x00\\x85\\x00\\x86\\x00\\x87\\x00\\x88\\x00\\x89\\x00\\x96\\x00\\x97\\x00\\x98\\x00\\x99\\x00\\x9a\\x00\\x9b\\x00\\x9c\\x00\\x9d\\x00\\x9e\\x00']\n",
      "Bad pipe message: %s [b\"\\xa0\\x00\\xa1\\x00\\xa2\\x00\\xa3\\x00\\xa4\\x00\\xa5\\x00\\xa6\\x00\\xa7\\x00\\xba\\x00\\xbb\\x00\\xbc\\x00\\xbd\\x00\\xbe\\x00\\xbf\\x00\\xc0\\x00\\xc1\\x00\\xc2\\x00\\xc3\\x00\\xc4\\x00\\xc5\\x13\\x01\\x13\\x02\\x13\\x03\\x13\\x04\\x13\\x05\\xc0\\x01\\xc0\\x02\\xc0\\x03\\xc0\\x04\\xc0\\x05\\xc0\\x06\\xc0\\x07\\xc0\\x08\\xc0\\t\\xc0\\n\\xc0\\x0b\\xc0\\x0c\\xc0\\r\\xc0\\x0e\\xc0\\x0f\\xc0\\x10\\xc0\\x11\\xc0\\x12\\xc0\\x13\\xc0\\x14\\xc0\\x15\\xc0\\x16\\xc0\\x17\\xc0\\x18\\xc0\\x19\\xc0#\\xc0$\\xc0%\\xc0&\\xc0'\\xc0(\\xc0)\\xc0*\\xc0+\\xc0,\\xc0-\\xc0.\\xc0/\\xc00\\xc01\\xc02\\xc0r\\xc0s\\xc0t\\xc0u\\xc0v\\xc0w\\xc0x\\xc0y\\xc0z\\xc0{\\xc0|\\xc0}\\xc0~\\xc0\"]\n",
      "Bad pipe message: %s [b'\\xc2kk\\x9f\\x04]\\x02\\x04v\\x06\\xb7\\xa1D\\x87\\x9f\\x94\\x16\\xc8\\x00\\x01|\\x00\\x00\\x00\\x01\\x00\\x02\\x00\\x03\\x00\\x04\\x00\\x05\\x00\\x06\\x00\\x07\\x00\\x08\\x00\\t\\x00\\n\\x00\\x0b\\x00\\x0c\\x00\\r\\x00\\x0e\\x00\\x0f\\x00\\x10\\x00\\x11\\x00\\x12\\x00\\x13\\x00\\x14\\x00\\x15\\x00\\x16\\x00\\x17\\x00\\x18\\x00\\x19\\x00\\x1a\\x00\\x1b\\x00/\\x000\\x001\\x002\\x003\\x004\\x005\\x006\\x007\\x008\\x009\\x00:\\x00;\\x00<\\x00=\\x00>\\x00']\n",
      "Bad pipe message: %s [b'@\\x00A\\x00B\\x00C\\x00D\\x00E\\x00F\\x00g\\x00h\\x00i\\x00j\\x00k\\x00l\\x00m\\x00\\x84\\x00\\x85\\x00\\x86\\x00\\x87\\x00\\x88\\x00\\x89\\x00\\x96\\x00\\x97\\x00\\x98\\x00\\x99\\x00\\x9a\\x00\\x9b\\x00\\x9c\\x00\\x9d\\x00\\x9e\\x00\\x9f\\x00\\xa0\\x00']\n",
      "Bad pipe message: %s [b\"\\xa2\\x00\\xa3\\x00\\xa4\\x00\\xa5\\x00\\xa6\\x00\\xa7\\x00\\xba\\x00\\xbb\\x00\\xbc\\x00\\xbd\\x00\\xbe\\x00\\xbf\\x00\\xc0\\x00\\xc1\\x00\\xc2\\x00\\xc3\\x00\\xc4\\x00\\xc5\\x13\\x01\\x13\\x02\\x13\\x03\\x13\\x04\\x13\\x05\\xc0\\x01\\xc0\\x02\\xc0\\x03\\xc0\\x04\\xc0\\x05\\xc0\\x06\\xc0\\x07\\xc0\\x08\\xc0\\t\\xc0\\n\\xc0\\x0b\\xc0\\x0c\\xc0\\r\\xc0\\x0e\\xc0\\x0f\\xc0\\x10\\xc0\\x11\\xc0\\x12\\xc0\\x13\\xc0\\x14\\xc0\\x15\\xc0\\x16\\xc0\\x17\\xc0\\x18\\xc0\\x19\\xc0#\\xc0$\\xc0%\\xc0&\\xc0'\\xc0(\\xc0)\\xc0*\\xc0+\\xc0,\\xc0-\\xc0.\\xc0/\\xc00\\xc01\\xc02\\xc0r\\xc0s\\xc0t\\xc0u\\xc0v\\xc0w\\xc0x\\xc0y\\xc0z\\xc0{\\xc0|\\xc0}\\xc0~\\xc0\\x7f\\xc0\\x80\\xc0\\x81\\xc0\"]\n",
      "Bad pipe message: %s [b'\\x95\\xc2\\x9b\\x8f,\\xd6k\\x9e|h\\xefB\\xc2q4\\x1f\\xd4\\x05\\x00\\x000\\x00A\\x00B\\x00C\\x00D\\x00E\\x00F\\x00\\x84\\x00\\x85\\x00\\x86\\x00\\x87\\x00\\x88\\x00\\x89\\x00\\xba\\x00\\xbb\\x00\\xbc\\x00\\xbd\\x00\\xbe\\x00\\xbf\\x00\\xc0\\x00\\xc1\\x00\\xc2\\x00\\xc3\\x00']\n",
      "Bad pipe message: %s [b'\\xfd\\xed\\x03\\xfcZ\\x92 \\x89\\xaf\\xbf\\xc9@\\x8a\\x0c\\xfc\\t\\xd9m\\x00\\x00T\\xc0r\\xc0s\\xc0t\\xc0u\\xc0v\\xc0w\\xc0x\\xc0y\\xc0z\\xc0{\\xc0|\\xc0}\\xc0~\\xc0\\x7f\\xc0\\x80\\xc0\\x81']\n",
      "Bad pipe message: %s [b\"'f\\x9f\\xac\\x16\\xc7\\x9e\\xc7 \\x16\\xf2W\\xa2\\r`\\xb6\\xa1\\xf6\\x00\\x00*\\x00\\x03\\x00\\x06\\x00\\x07\\x00\\x08\\x00\\t\\x00\\x0b\\x00\\x0c\\x00\\x0e\\x00\\x0f\\x00\\x11\\x00\\x12\\x00\\x14\\x00\\x15\\x00\\x17\\x00\\x19\\x00\\x1a\\xc0\\x02\\xc0\\x07\\xc0\\x0c\\xc0\\x11\\xc0\\x16\\x02\\x00\\x01\\x00,\\x00\", b'\\n\\x00\\x08\\x00\\x17\\x00\\x19\\x00\\x18']\n",
      "Bad pipe message: %s [b'\\x8f\\xf6\\xb7\\xc9;pk\\xe8e\\x1e\\x94\\x94H+\\x0c\\x18\\x0b\\xbb\\x00\\x006\\xc0\\x01\\xc0\\x03\\xc0\\x04\\xc0\\x05\\xc0\\x06\\xc0\\x08\\xc0\\t\\xc0\\n\\xc0\\x0b\\xc0\\r\\xc0\\x0e\\xc0\\x0f\\xc0\\x10\\xc0\\x12\\xc0\\x13\\xc0\\x14\\xc0\\x15\\xc0\\x17\\xc0\\x18\\xc0\\x19\\xcc\\xa8\\xcc\\xa9']\n",
      "Bad pipe message: %s [b'\\xd4\\x9av\\xee\\xc9\\xb83\\x94\\x070dy\\xf5\\xb8\\x8a2H\\xe5\\x00\\x00*\\x00\\x03\\x00\\x06\\x00\\x07\\x00\\x08\\x00\\t\\x00\\x0b\\x00\\x0c\\x00']\n",
      "Bad pipe message: %s [b'\\x0f\\x00\\x11\\x00\\x12\\x00\\x14\\x00\\x15\\x00\\x17\\x00\\x19']\n",
      "Bad pipe message: %s [b'>\\xd4y\\x08\\x97\\x1d[\\x98\\x0f\\xdc\\xa1\\x83\\xf8\\x9b\\xd7\\xdfLS\\x00\\x00J\\x00\\x00\\x00\\x01\\x00\\x02\\x00\\x04\\x00\\x05\\x00\\n\\x00\\r\\x00\\x10\\x00', b'\\x16\\x00\\x18\\x00\\x1b\\x00/\\x000\\x001\\x002\\x003\\x004\\x00']\n",
      "Bad pipe message: %s [b'\\xf9\\x97\\x90\\x9ek\\xeb\\xac\\xcb\\x93h\\xb2\\xa2\\xfcS\\xef\\x83iA\\x00\\x00T\\xc0r\\xc0s\\xc0t\\xc0u\\xc0v\\xc0w\\xc0x\\xc0y\\xc0z\\xc0{\\xc0|\\xc0}\\xc0~\\xc0\\x7f\\xc0\\x80\\xc0\\x81\\xc0\\x82\\xc0\\x83\\xc0\\x84\\xc0\\x85\\xc0\\x86\\xc0\\x87\\xc0\\x88\\xc0\\x89\\xc0\\x8a\\xc0\\x8b\\xc0\\x8c\\xc0\\x8d\\xc0\\x8e\\xc0\\x8f\\xc0\\x90']\n",
      "Bad pipe message: %s [b'QE\\x14n\\xc1\\x8f;c\\x86|l\\xc2\\x99\\x18\\x0c\\xafJ\\xb2\\x00\\x00*\\x00\\x03\\x00\\x06\\x00\\x07\\x00\\x08\\x00\\t\\x00\\x0b\\x00\\x0c\\x00\\x0e\\x00\\x0f\\x00\\x11\\x00\\x12\\x00\\x14\\x00\\x15\\x00\\x17\\x00\\x19\\x00\\x1a\\xc0\\x02\\xc0\\x07\\xc0\\x0c\\xc0\\x11\\xc0\\x16\\x02\\x00\\x01\\x00,\\x00\\n\\x00\\n\\x00\\x08\\x00\\x17\\x00\\x19\\x00\\x18\\x00\\x16\\x00\\x0b\\x00\\x04\\x03\\x00', b'']\n",
      "Bad pipe message: %s [b'\\xdb\\xfa\\xbaa\\x81\\xf3\\xb6\\xe8Cp\\xc1\\xc2Q\\xcevc\\xa37\\x00\\x01|\\x00\\x00\\x00\\x01\\x00\\x02\\x00\\x03\\x00\\x04\\x00\\x05\\x00\\x06\\x00\\x07\\x00\\x08\\x00\\t\\x00\\n\\x00\\x0b\\x00\\x0c\\x00\\r\\x00\\x0e\\x00\\x0f\\x00\\x10\\x00\\x11\\x00\\x12\\x00\\x13\\x00\\x14\\x00\\x15\\x00\\x16\\x00\\x17\\x00\\x18\\x00\\x19\\x00\\x1a\\x00\\x1b\\x00/\\x000\\x001\\x002\\x003\\x004\\x005\\x006\\x007\\x008\\x009\\x00:\\x00;\\x00<\\x00=\\x00>\\x00?\\x00@\\x00A\\x00B\\x00C\\x00D\\x00E\\x00F\\x00g\\x00h\\x00i\\x00j\\x00k\\x00l\\x00m\\x00\\x84\\x00\\x85\\x00\\x86\\x00\\x87\\x00\\x88\\x00\\x89\\x00\\x96\\x00\\x97\\x00\\x98\\x00\\x99\\x00\\x9a\\x00\\x9b\\x00\\x9c\\x00\\x9d\\x00\\x9e\\x00\\x9f\\x00\\xa0\\x00\\xa1\\x00\\xa2\\x00\\xa3\\x00\\xa4\\x00\\xa5\\x00\\xa6\\x00\\xa7\\x00\\xba\\x00\\xbb\\x00\\xbc\\x00\\xbd\\x00\\xbe\\x00\\xbf\\x00\\xc0\\x00', b\"\\xc2\\x00\\xc3\\x00\\xc4\\x00\\xc5\\x13\\x01\\x13\\x02\\x13\\x03\\x13\\x04\\x13\\x05\\xc0\\x01\\xc0\\x02\\xc0\\x03\\xc0\\x04\\xc0\\x05\\xc0\\x06\\xc0\\x07\\xc0\\x08\\xc0\\t\\xc0\\n\\xc0\\x0b\\xc0\\x0c\\xc0\\r\\xc0\\x0e\\xc0\\x0f\\xc0\\x10\\xc0\\x11\\xc0\\x12\\xc0\\x13\\xc0\\x14\\xc0\\x15\\xc0\\x16\\xc0\\x17\\xc0\\x18\\xc0\\x19\\xc0#\\xc0$\\xc0%\\xc0&\\xc0'\\xc0(\\xc0)\\xc0*\\xc0+\\xc0,\\xc0-\\xc0.\\xc0/\\xc00\\xc01\\xc02\\xc0r\\xc0s\\xc0t\\xc0u\\xc0v\\xc0w\\xc0x\\xc0y\\xc0z\\xc0{\\xc0|\\xc0}\\xc0~\\xc0\\x7f\\xc0\\x80\\xc0\\x81\\xc0\\x82\\xc0\\x83\\xc0\\x84\\xc0\\x85\\xc0\\x86\\xc0\\x87\\xc0\\x88\\xc0\\x89\\xc0\\x8a\\xc0\\x8b\\xc0\\x8c\\xc0\\x8d\\xc0\\x8e\\xc0\\x8f\\xc0\\x90\\xc0\\x91\\xc0\\x92\\xc0\\x93\\xc0\\x94\\xc0\\x95\\xc0\\x96\\xc0\\x97\\xc0\\x98\\xc0\\x99\\xc0\\x9a\\xc0\\x9b\\xcc\\xa8\\xcc\\xa9\\xcc\\xaa\\xcc\\xab\\xcc\"]\n",
      "Bad pipe message: %s [b'\\xb4\\xed;P\\xee\\x1b\\xa6$']\n",
      "Bad pipe message: %s [b'\\xc9\\xd7\\xf0\\x8e\\xfe\\xea6\\xb1\\xad\\x11\\xd3 :\\xf8D\\xcd:k\\x00\\x01|\\x00\\x00\\x00\\x01\\x00\\x02\\x00\\x03\\x00\\x04\\x00\\x05\\x00\\x06\\x00\\x07\\x00\\x08\\x00\\t\\x00\\n\\x00\\x0b\\x00\\x0c\\x00\\r\\x00\\x0e\\x00\\x0f\\x00\\x10\\x00\\x11\\x00\\x12\\x00\\x13\\x00\\x14\\x00\\x15\\x00\\x16\\x00\\x17\\x00\\x18\\x00\\x19\\x00\\x1a']\n",
      "Bad pipe message: %s [b'\\xd6\\xad\\x8a\\xedG\\xb3a\\x86\\x00\\x01|\\x00\\x00\\x00\\x01\\x00\\x02\\x00\\x03\\x00\\x04\\x00\\x05\\x00\\x06\\x00\\x07\\x00\\x08\\x00\\t\\x00\\n\\x00\\x0b\\x00\\x0c\\x00\\r\\x00\\x0e\\x00\\x0f\\x00\\x10\\x00\\x11\\x00\\x12\\x00\\x13\\x00\\x14\\x00\\x15\\x00\\x16\\x00\\x17\\x00\\x18\\x00\\x19\\x00\\x1a\\x00\\x1b\\x00/\\x000\\x001\\x002\\x003\\x004\\x005\\x006\\x007\\x008\\x009\\x00:\\x00;\\x00<\\x00=\\x00>\\x00?\\x00@\\x00A\\x00B\\x00C\\x00D\\x00E\\x00F\\x00g\\x00h\\x00i\\x00j\\x00k\\x00l\\x00m\\x00\\x84\\x00\\x85\\x00\\x86\\x00\\x87\\x00\\x88\\x00\\x89\\x00\\x96\\x00\\x97\\x00\\x98\\x00\\x99\\x00\\x9a\\x00\\x9b\\x00\\x9c\\x00\\x9d\\x00\\x9e\\x00\\x9f\\x00\\xa0\\x00\\xa1\\x00\\xa2\\x00\\xa3\\x00\\xa4\\x00\\xa5\\x00\\xa6\\x00\\xa7\\x00\\xba\\x00\\xbb\\x00\\xbc\\x00\\xbd\\x00\\xbe\\x00\\xbf\\x00\\xc0\\x00\\xc1\\x00\\xc2\\x00\\xc3\\x00\\xc4\\x00\\xc5\\x13\\x01\\x13\\x02\\x13\\x03\\x13\\x04\\x13\\x05\\xc0\\x01\\xc0\\x02\\xc0\\x03\\xc0\\x04\\xc0\\x05\\xc0\\x06\\xc0\\x07\\xc0\\x08\\xc0\\t\\xc0\\n\\xc0\\x0b\\xc0\\x0c\\xc0\\r\\xc0\\x0e\\xc0\\x0f']\n",
      "Bad pipe message: %s [b'\\xd4\\xda4\\xcd\\xa2\\x18\\x94\\xe3.\\xf2\\xc5\\x99\\xe6[5\\xc0\\xaa\\xcc\\x00\\x01|\\x00\\x00\\x00\\x01\\x00\\x02\\x00\\x03\\x00\\x04\\x00\\x05\\x00\\x06\\x00\\x07\\x00\\x08\\x00\\t\\x00\\n\\x00\\x0b\\x00\\x0c\\x00\\r\\x00\\x0e\\x00\\x0f\\x00\\x10\\x00\\x11\\x00\\x12\\x00\\x13\\x00\\x14\\x00\\x15\\x00\\x16\\x00\\x17\\x00\\x18\\x00\\x19\\x00\\x1a\\x00\\x1b\\x00/\\x000\\x001\\x002\\x003\\x004\\x005\\x006\\x007\\x008\\x009\\x00:\\x00;\\x00<\\x00=\\x00>\\x00?\\x00@\\x00A\\x00B\\x00C\\x00D\\x00E\\x00F\\x00g\\x00h\\x00i\\x00j\\x00k\\x00l\\x00m\\x00\\x84\\x00', b'\\x86\\x00\\x87\\x00\\x88\\x00\\x89\\x00\\x96\\x00\\x97\\x00\\x98\\x00\\x99\\x00\\x9a\\x00\\x9b\\x00\\x9c\\x00\\x9d\\x00\\x9e\\x00\\x9f\\x00\\xa0\\x00\\xa1\\x00\\xa2\\x00\\xa3\\x00\\xa4\\x00\\xa5\\x00\\xa6\\x00\\xa7\\x00\\xba\\x00\\xbb\\x00\\xbc\\x00\\xbd\\x00\\xbe\\x00\\xbf\\x00\\xc0\\x00\\xc1\\x00\\xc2\\x00\\xc3\\x00\\xc4\\x00\\xc5\\x13\\x01\\x13\\x02\\x13\\x03\\x13\\x04\\x13\\x05\\xc0\\x01\\xc0\\x02\\xc0\\x03\\xc0\\x04\\xc0\\x05\\xc0\\x06\\xc0\\x07\\xc0\\x08\\xc0\\t\\xc0\\n\\xc0\\x0b\\xc0\\x0c\\xc0\\r\\xc0\\x0e\\xc0\\x0f\\xc0\\x10\\xc0\\x11\\xc0\\x12\\xc0\\x13\\xc0\\x14\\xc0\\x15\\xc0\\x16\\xc0\\x17\\xc0\\x18\\xc0\\x19\\xc0#\\xc0$\\xc0']\n",
      "Bad pipe message: %s [b\"\\xc0\\x11\\xc0\\x12\\xc0\\x13\\xc0\\x14\\xc0\\x15\\xc0\\x16\\xc0\\x17\\xc0\\x18\\xc0\\x19\\xc0#\\xc0$\\xc0%\\xc0&\\xc0'\\xc0(\\xc0)\\xc0*\\xc0+\\xc0,\\xc0-\\xc0.\\xc0/\\xc00\\xc01\\xc02\\xc0r\\xc0s\\xc0t\\xc0u\\xc0v\\xc0w\\xc0x\\xc0y\\xc0z\\xc0{\\xc0|\\xc0}\\xc0~\\xc0\\x7f\\xc0\\x80\\xc0\\x81\\xc0\\x82\\xc0\\x83\\xc0\\x84\\xc0\\x85\\xc0\\x86\\xc0\\x87\\xc0\\x88\\xc0\\x89\\xc0\\x8a\\xc0\\x8b\\xc0\\x8c\\xc0\\x8d\\xc0\\x8e\\xc0\\x8f\\xc0\\x90\\xc0\\x91\\xc0\\x92\\xc0\\x93\\xc0\\x94\\xc0\\x95\\xc0\\x96\\xc0\\x97\\xc0\\x98\\xc0\\x99\\xc0\\x9a\\xc0\\x9b\\xcc\\xa8\\xcc\\xa9\\xcc\\xaa\\xcc\\xab\\xcc\\xac\\xcc\\xad\\xcc\\xae\\x02\\x00\\x01\\x00,\\x00\\n\\x00\\n\\x00\\x08\\x00\\x17\\x00\\x19\\x00\\x18\\x00\\x16\\x00\\x0b\\x00\\x04\\x03\\x00\\x01\\x02\\x00\\r\\x00\\x12\\x00\\x10\\x04\\x03\\x08\\x04\\x04\\x01\\x05\\x03\\x05\\x01\"]\n",
      "Bad pipe message: %s [b\"&\\xc0'\\xc0(\\xc0)\\xc0*\\xc0+\\xc0,\\xc0-\\xc0.\\xc0/\\xc00\\xc01\\xc02\\xc0r\\xc0s\\xc0t\\xc0u\\xc0v\\xc0\"]\n",
      "Bad pipe message: %s [b\"0&\\x02'v\\xd8\\x88\\xd3\\x13,\\xafM\\x8d\\x86\\x81+\\x81d\"]\n",
      "Bad pipe message: %s [b'O\\xb8\\xbd\\xd8><a\\xa1\\xbd\\xec\\\\\\x08\\xf4\\xb38\\xc8yr\\x00\\x00J\\x00\\x00\\x00\\x01\\x00\\x02\\x00\\x04\\x00\\x05\\x00\\n\\x00\\r\\x00\\x10\\x00\\x13\\x00\\x16\\x00', b'\\x1b\\x00/\\x000\\x001\\x002\\x003\\x004\\x005\\x006\\x007\\x008\\x009']\n",
      "Bad pipe message: %s [b'\\xf1\\xbe\\xc7C/\\x0f\\xb4\\x9fb\\x91P\\xf5\\xb3\\xcb\\xc7!\\xa0\\xd5\\x00\\x00*\\x00\\x03\\x00\\x06\\x00\\x07\\x00\\x08\\x00\\t\\x00\\x0b\\x00\\x0c\\x00\\x0e\\x00\\x0f\\x00\\x11\\x00\\x12\\x00\\x14\\x00\\x15\\x00\\x17\\x00\\x19\\x00\\x1a\\xc0\\x02\\xc0\\x07\\xc0\\x0c\\xc0\\x11\\xc0\\x16\\x02\\x00\\x01\\x00,\\x00\\n\\x00\\n\\x00\\x08\\x00\\x17\\x00', b'\\x18\\x00\\x16\\x00\\x0b\\x00\\x04\\x03\\x00\\x01\\x02\\x00\\r\\x00\\x12\\x00\\x10\\x04\\x03\\x08\\x04\\x04\\x01\\x05']\n",
      "Bad pipe message: %s [b'$7g\\\\\\xd9GI\\x8b.T=U\\xee\\xe4\\xc7\\xec,\\xd2\\x00\\x006\\xc0\\x01\\xc0\\x03\\xc0\\x04\\xc0\\x05\\xc0\\x06\\xc0\\x08\\xc0\\t\\xc0\\n\\xc0\\x0b\\xc0\\r\\xc0\\x0e\\xc0\\x0f\\xc0\\x10\\xc0\\x12\\xc0\\x13\\xc0\\x14\\xc0\\x15\\xc0\\x17\\xc0\\x18\\xc0', b'\\xa8\\xcc\\xa9\\xcc\\xaa\\xcc\\xab\\xcc\\xac\\xcc\\xad\\xcc\\xae\\x02\\x00\\x01\\x00,\\x00\\n\\x00\\n\\x00\\x08']\n",
      "Bad pipe message: %s [b'\\xbd\\xe2\\xf5,T\\xddz\\xda\\xcc;\\x8di\\xb4\\x8e\\x07p(\\x1a\\x00\\x00T\\xc0r\\xc0s\\xc0t\\xc0u\\xc0v\\xc0w\\xc0x\\xc0y\\xc0z\\xc0{\\xc0|\\xc0}\\xc0~\\xc0\\x7f\\xc0\\x80\\xc0\\x81\\xc0\\x82\\xc0\\x83\\xc0\\x84\\xc0\\x85\\xc0\\x86\\xc0\\x87\\xc0\\x88\\xc0\\x89\\xc0\\x8a\\xc0\\x8b\\xc0\\x8c\\xc0\\x8d\\xc0\\x8e\\xc0\\x8f\\xc0\\x90\\xc0\\x91\\xc0\\x92\\xc0\\x93\\xc0\\x94\\xc0\\x95\\xc0\\x96\\xc0\\x97\\xc0\\x98\\xc0\\x99\\xc0\\x9a\\xc0\\x9b\\x02\\x00\\x01\\x00,\\x00\\n\\x00\\n\\x00', b'\\x17\\x00\\x19\\x00\\x18\\x00\\x16']\n",
      "Bad pipe message: %s [b'\\xf8N\\xc7\\x00t\\xdfh\\x8bM\\x07\\t6\\xf0\\xb0\\xbe\\xc6\\x03; t\\x19C9tp\\xab\\xee\\xc4oGiL\\x08\\x01@YZ\\x87\\x0c\\x83\\xcco\\xc60d\\xb3\\xcbZ[\\xd0\\n\\x00\\n\\x13\\x01\\x13\\x02\\x13\\x03\\x13\\x04\\x13\\x05\\x01\\x00\\x00\\x9e\\x00+\\x00\\x03\\x02\\x03\\x04\\x00\\n\\x00\\n\\x00\\x08\\xaa\\xaa\\x00\\x17\\x00\\x18\\x00\\x1d\\x00\\x00']\n",
      "Bad pipe message: %s [b'D\\xdb\\x84=\\x9dU]\\xacH\\xcbF\\x17Dj\\x1f\\xfe\\x7f\\x02\\x00\\x01|\\x00\\x00\\x00\\x01\\x00\\x02\\x00\\x03\\x00\\x04\\x00\\x05\\x00\\x06\\x00\\x07\\x00', b'\\t\\x00\\n\\x00\\x0b\\x00\\x0c']\n",
      "Bad pipe message: %s [b'Ba92\\xc3\\xf5\\x83\\x1e\\xec\\xf4\\xa8K\\xa5\\xdf1\\xa3k\\x9e\\x00\\x01|\\x00\\x00\\x00\\x01\\x00\\x02\\x00\\x03\\x00\\x04\\x00\\x05\\x00\\x06\\x00\\x07\\x00\\x08\\x00\\t\\x00\\n\\x00\\x0b\\x00\\x0c\\x00\\r\\x00\\x0e\\x00\\x0f\\x00\\x10\\x00\\x11\\x00\\x12\\x00\\x13\\x00\\x14\\x00\\x15\\x00\\x16\\x00\\x17\\x00\\x18\\x00\\x19\\x00\\x1a\\x00\\x1b\\x00/\\x000\\x001\\x002\\x003\\x004\\x005\\x006\\x007\\x008\\x009\\x00:\\x00;\\x00<\\x00=\\x00>\\x00?\\x00@\\x00A\\x00B\\x00C\\x00D\\x00E\\x00F\\x00g\\x00h\\x00i\\x00', b'k\\x00l\\x00m\\x00\\x84\\x00\\x85\\x00\\x86\\x00\\x87\\x00\\x88\\x00\\x89\\x00\\x96\\x00\\x97\\x00\\x98\\x00\\x99\\x00\\x9a\\x00\\x9b\\x00\\x9c\\x00\\x9d\\x00\\x9e\\x00\\x9f\\x00\\xa0\\x00\\xa1\\x00\\xa2\\x00\\xa3\\x00\\xa4\\x00\\xa5\\x00\\xa6\\x00\\xa7\\x00\\xba\\x00\\xbb\\x00\\xbc\\x00\\xbd\\x00\\xbe\\x00\\xbf\\x00\\xc0\\x00\\xc1\\x00\\xc2\\x00\\xc3\\x00\\xc4\\x00\\xc5\\x13\\x01\\x13\\x02\\x13\\x03\\x13\\x04\\x13\\x05\\xc0\\x01\\xc0\\x02\\xc0\\x03\\xc0\\x04\\xc0\\x05\\xc0\\x06\\xc0\\x07\\xc0\\x08\\xc0\\t']\n",
      "Bad pipe message: %s [b\"\\xc0\\x0b\\xc0\\x0c\\xc0\\r\\xc0\\x0e\\xc0\\x0f\\xc0\\x10\\xc0\\x11\\xc0\\x12\\xc0\\x13\\xc0\\x14\\xc0\\x15\\xc0\\x16\\xc0\\x17\\xc0\\x18\\xc0\\x19\\xc0#\\xc0$\\xc0%\\xc0&\\xc0'\\xc0(\\xc0)\\xc0*\\xc0+\\xc0,\\xc0-\\xc0.\\xc0/\\xc00\\xc01\\xc02\\xc0r\\xc0s\\xc0t\\xc0u\\xc0v\\xc0w\\xc0x\\xc0y\\xc0z\\xc0{\\xc0|\\xc0}\\xc0~\\xc0\\x7f\\xc0\\x80\\xc0\\x81\\xc0\\x82\\xc0\\x83\\xc0\\x84\\xc0\\x85\\xc0\\x86\\xc0\\x87\\xc0\\x88\\xc0\\x89\\xc0\\x8a\\xc0\\x8b\\xc0\\x8c\\xc0\\x8d\\xc0\\x8e\\xc0\\x8f\\xc0\\x90\\xc0\\x91\\xc0\\x92\\xc0\\x93\\xc0\\x94\\xc0\\x95\\xc0\\x96\\xc0\\x97\\xc0\\x98\\xc0\\x99\\xc0\\x9a\\xc0\\x9b\\xcc\\xa8\\xcc\\xa9\\xcc\\xaa\\xcc\\xab\\xcc\\xac\\xcc\\xad\\xcc\\xae\\x02\\x00\\x01\\x00,\\x00\\n\\x00\\n\\x00\\x08\\x00\\x17\\x00\\x19\\x00\\x18\\x00\\x16\\x00\\x0b\\x00\\x04\\x03\\x00\\x01\\x02\\x00\\r\\x00\\x12\"]\n",
      "Bad pipe message: %s [b'\\x8d\\xb1,!\\xfa\\x9f\\xf8\\x17\\xd1?\\xa4}\\xed\\xafi_\\xeb(\\x00\\x01|\\x00\\x00\\x00\\x01\\x00\\x02\\x00\\x03\\x00\\x04\\x00\\x05\\x00\\x06\\x00\\x07\\x00\\x08\\x00\\t\\x00\\n\\x00\\x0b\\x00\\x0c\\x00\\r\\x00\\x0e\\x00']\n",
      "Bad pipe message: %s [b'\\x10\\x00\\x11\\x00\\x12\\x00\\x13\\x00\\x14\\x00\\x15\\x00\\x16\\x00']\n",
      "Bad pipe message: %s [b'\\x18\\x00\\x19\\x00\\x1a\\x00\\x1b\\x00/\\x000\\x001\\x002\\x003\\x004\\x005\\x00']\n",
      "Bad pipe message: %s [b'7\\x008\\x009\\x00:\\x00;\\x00<\\x00=\\x00>\\x00?\\x00@\\x00A\\x00B\\x00C\\x00D\\x00E\\x00F\\x00g\\x00h\\x00i\\x00j\\x00k\\x00l\\x00m\\x00\\x84\\x00\\x85\\x00\\x86\\x00\\x87']\n",
      "Bad pipe message: %s [b'3,\\xe7\\xb9\\x88\\xcbR\\xdc\\x04\\x12w\\xde|er_C', b'\\x00*\\x00\\x03\\x00\\x06\\x00\\x07\\x00\\x08\\x00\\t\\x00\\x0b\\x00\\x0c\\x00\\x0e\\x00\\x0f\\x00\\x11\\x00\\x12\\x00\\x14\\x00\\x15\\x00\\x17\\x00\\x19\\x00\\x1a\\xc0\\x02\\xc0\\x07\\xc0\\x0c\\xc0\\x11']\n",
      "Bad pipe message: %s [b'\\x1b&\\x86\\xfc\\x00\\xa6T\\xd4\\xd7#\\xf5pk\\xa4{\\x11]\\x97\\x00\\x00']\n",
      "Bad pipe message: %s [b'\\x01\\xc0\\x03\\xc0\\x04\\xc0\\x05\\xc0\\x06\\xc0\\x08\\xc0\\t\\xc0\\n\\xc0\\x0b\\xc0\\r\\xc0\\x0e\\xc0\\x0f\\xc0\\x10\\xc0\\x12\\xc0\\x13\\xc0\\x14\\xc0\\x15\\xc0\\x17\\xc0\\x18\\xc0\\x19\\xcc\\xa8\\xcc\\xa9\\xcc\\xaa\\xcc\\xab\\xcc\\xac\\xcc\\xad\\xcc\\xae']\n",
      "Bad pipe message: %s [b'\\x01']\n",
      "Bad pipe message: %s [b'\\x06\\x9f5erE\\xaa\\xe4\\xce\\x8e`\\xef\\x82\\xb8\\xb0\\x01\\xb9[\\x00\\x00T\\xc0r\\xc0s']\n",
      "Bad pipe message: %s [b'hs\\x99\\x03\\x81~\\xb1\\r$O\\xdb\\x08', b'|\\x1f\\xa2J\\x00\\x006\\xc0\\x01\\xc0\\x03\\xc0\\x04\\xc0\\x05\\xc0\\x06\\xc0\\x08\\xc0\\t\\xc0\\n\\xc0\\x0b\\xc0\\r\\xc0\\x0e\\xc0\\x0f\\xc0\\x10\\xc0\\x12\\xc0\\x13\\xc0\\x14\\xc0\\x15\\xc0\\x17\\xc0\\x18\\xc0\\x19\\xcc']\n",
      "Bad pipe message: %s [b\" \\x98e\\xd8\\x03\\xf9\\x9b?w\\xa8\\x81e\\xc3\\xad\\xdb\\x07\\xc1\\x0f\\x00\\x00D\\x00\\x96\\x00\\x97\\x00\\x98\\x00\\x99\\x00\\x9a\\x00\\x9b\\x00\\x9c\\x00\\x9d\\x00\\x9e\\x00\\x9f\\x00\\xa0\\x00\\xa1\\x00\\xa2\\x00\\xa3\\x00\\xa4\\x00\\xa5\\x00\\xa6\\x00\\xa7\\xc0#\\xc0$\\xc0%\\xc0&\\xc0'\\xc0(\\xc0)\\xc0*\\xc0+\\xc0,\\xc0-\\xc0.\\xc0/\\xc00\\xc01\\xc02\\x02\\x00\\x01\\x00,\\x00\\n\\x00\\n\\x00\\x08\\x00\\x17\\x00\\x19\\x00\\x18\\x00\\x16\\x00\\x0b\\x00\\x04\"]\n",
      "Bad pipe message: %s [b'\\x01\\x02']\n",
      "Bad pipe message: %s [b'\\xfb\\x04C\\n\\x801q\\xdcC \\x89-!p\\x06\\xc3\\x9f\\x85\\x00\\x006\\xc0\\x01\\xc0\\x03\\xc0\\x04\\xc0\\x05\\xc0\\x06\\xc0\\x08\\xc0\\t\\xc0\\n\\xc0\\x0b\\xc0\\r\\xc0\\x0e\\xc0\\x0f\\xc0\\x10\\xc0\\x12\\xc0\\x13\\xc0\\x14\\xc0']\n",
      "Bad pipe message: %s [b'\\x17\\xc0\\x18\\xc0\\x19\\xcc\\xa8\\xcc\\xa9\\xcc\\xaa\\xcc\\xab\\xcc\\xac\\xcc\\xad\\xcc\\xae\\x02']\n",
      "Bad pipe message: %s [b'\\xd4WB\\x9a\\xc0\\\\\\x14]rK\\x91\\xaa\\x11\\x08\\xc9\\x12\\x19|\\x00\\x00J\\x00\\x00\\x00\\x01\\x00\\x02\\x00\\x04\\x00\\x05\\x00\\n\\x00\\r\\x00\\x10\\x00\\x13\\x00\\x16\\x00\\x18\\x00', b'/\\x000\\x001\\x002\\x003\\x004\\x005\\x006\\x007\\x008\\x009\\x00:\\x00;\\x00']\n",
      "Bad pipe message: %s [b'X\\xea\\xa3\\x19v\\x13F\\xea0\\x19P\\xc6F\\x9d\\xb0i\\xfb\\x01\\x00\\x00*\\x00\\x03\\x00\\x06\\x00\\x07\\x00\\x08\\x00\\t\\x00\\x0b\\x00\\x0c\\x00\\x0e\\x00\\x0f\\x00\\x11\\x00\\x12\\x00\\x14\\x00\\x15\\x00\\x17\\x00\\x19\\x00\\x1a\\xc0\\x02\\xc0\\x07\\xc0\\x0c\\xc0\\x11\\xc0\\x16\\x02\\x00\\x01\\x00,\\x00\\n\\x00\\n\\x00\\x08\\x00\\x17\\x00', b'\\x18\\x00\\x16\\x00\\x0b\\x00\\x04\\x03\\x00\\x01\\x02\\x00\\r\\x00\\x12\\x00\\x10\\x04\\x03\\x08\\x04\\x04\\x01\\x05']\n",
      "Bad pipe message: %s [b'\\x80\\xecX *\\xe3\\xbc\\x08_\\x043\\xc9r\\tv\\x92\\xae\\xe1 8D\\x05\\xe2f\\xd7\\x9c\\x84\\xea\\x97\\xe6\\xec\\x7f\\x13I\\xb0v\\x9b\\x01)O*\\xcd\\xf0\\x91\\x88o\\x93muzT\\x00\\n\\x13\\x01\\x13\\x02\\x13\\x03\\x13\\x04\\x13\\x05\\x01\\x00\\x00\\x9e\\x00+\\x00\\x03\\x02\\x03\\x04\\x00\\n\\x00\\n\\x00\\x08\\xaa\\xaa\\x00\\x17\\x00\\x18\\x00\\x1d\\x00\\x00\\x00\\x10\\x00\\x0e\\x00\\x00\\x0bAMBUS140821\\x00\\r\\x00\\x12\\x00\\x10\\x04\\x03\\x08\\x04\\x04\\x01\\x05\\x03\\x08\\x05\\x05\\x01\\x08\\x06\\x06\\x01\\x00\\x17\\x00\\x00\\x00#\\x00\\x05\\x01\\x00\\x00\\x00']\n"
     ]
    }
   ],
   "source": [
    "final"
   ]
  },
  {
   "cell_type": "markdown",
   "metadata": {},
   "source": [
    "## Imputation\n",
    "- imputation with data average function\n",
    "- imputation with known domain average"
   ]
  },
  {
   "cell_type": "code",
   "execution_count": 54,
   "metadata": {},
   "outputs": [
    {
     "data": {
      "text/plain": [
       "array([[4, 6, 2, 6, 5, 2, 6, 7, 8, 2, 5, 4, 3, 1],\n",
       "       [4, 5, 2, 7, 4, 7, 2, 9, 6, 2, 1, 4, 6, 8],\n",
       "       [1, 3, 7, 2, 7, 9, 2, 7, 3, 5, 7, 1, 4, 7]])"
      ]
     },
     "execution_count": 54,
     "metadata": {},
     "output_type": "execute_result"
    }
   ],
   "source": [
    "## create dummy data so we can control everything\n",
    "\n",
    "# 3 x 14\n",
    "data_ = [[4, 6, 2, 6, 5, 2, 6, 7, 8, 2, 5, 4, 3, 1],\n",
    "         [4, 5, 2, 7, 4, 7, 2, 9, 6, 2, 1, 4, 6, 8],\n",
    "         [1, 3, 7, 2, 7, 9, 2, 7, 3, 5, 7, 1 ,4 ,7]]\n",
    "data_narray = np.array(data_)\n",
    "# data_narray = np.random.rand(10, 14)\n",
    "data_narray"
   ]
  },
  {
   "cell_type": "markdown",
   "metadata": {},
   "source": [
    "the functions"
   ]
  },
  {
   "cell_type": "code",
   "execution_count": 55,
   "metadata": {},
   "outputs": [],
   "source": [
    "## data average\n",
    "def impute_with_column_mean(data : pd.DataFrame):\n",
    "    \"\"\"\n",
    "    Imputes missing values (represented as 0) in a DataFrame with the mean of the non-zero values in the same column.\n",
    "\n",
    "    Parameters:\n",
    "    - data (pd.DataFrame): The DataFrame to impute.\n",
    "\n",
    "    Returns:\n",
    "    - pd.DataFrame: The DataFrame with missing values imputed using column means.\n",
    "    \"\"\"\n",
    "    # Replace '0' with NaN to handle them as missing values\n",
    "    imputed_data = data.replace(0, np.nan)\n",
    "    \n",
    "    # Calculate the mean of each column, ignoring NaNs\n",
    "    column_means = imputed_data.mean()\n",
    "    # replace the nans with 0 since that means there's no data at all for that column\n",
    "    column_means = column_means.replace(np.nan, 0)\n",
    "\n",
    "    \n",
    "    # Replace NaN values in each column with the mean of that column\n",
    "    imputed_data.fillna(column_means, inplace=True)\n",
    "\n",
    "    return imputed_data"
   ]
  },
  {
   "cell_type": "code",
   "execution_count": 56,
   "metadata": {},
   "outputs": [],
   "source": [
    "## known domain average\n",
    "def impute_with_row_average(data : pd.DataFrame):\n",
    "    \"\"\"\n",
    "    Imputes missing values (NaN) in a DataFrame with the average of the non-missing values in the same row.\n",
    "\n",
    "    Parameters:\n",
    "    - data (pd.DataFrame): The DataFrame to impute.\n",
    "\n",
    "    Returns:\n",
    "    - pd.DataFrame: The DataFrame with missing values imputed.\n",
    "    \"\"\"\n",
    "    # Create a copy of the DataFrame to avoid modifying the original data\n",
    "    imputed_data = data.copy()\n",
    "    # Replace '0' with NaN to handle them as missing values\n",
    "    imputed_data = data.replace(0, np.nan)\n",
    "\n",
    "    # Iterate over each row\n",
    "    for index, row in imputed_data.iterrows():\n",
    "        # Calculate the mean of the non-NaN values in the row\n",
    "        mean_value = row.mean()\n",
    "        if np.isnan(mean_value):\n",
    "            mean_value = 0\n",
    "\n",
    "        # Replace NaN values in the row with the calculated mean\n",
    "        imputed_data.loc[index] = row.fillna(mean_value)\n",
    "\n",
    "    return imputed_data"
   ]
  },
  {
   "cell_type": "markdown",
   "metadata": {},
   "source": [
    "Mask"
   ]
  },
  {
   "cell_type": "code",
   "execution_count": 57,
   "metadata": {},
   "outputs": [],
   "source": [
    "def generate_random_array(rows, cols, N):\n",
    "    if N > cols:\n",
    "        raise ValueError(\"N cannot be greater than the number of columns.\")\n",
    "    \n",
    "    # Create an array of ones with the desired shape\n",
    "    array = np.ones((rows, cols), dtype=int)\n",
    "    \n",
    "    # Randomly assign N zeros to each row\n",
    "    for i in range(rows):\n",
    "        indices = np.random.choice(cols, N, replace=False)\n",
    "        array[i, indices] = 0\n",
    "    \n",
    "    return array, array.shape[0] * N\n",
    "\n",
    "def generate_mask(data, N=4):\n",
    "    rows, cols = data.shape\n",
    "    assert(cols == 14)\n",
    "    mask, n_zeros = generate_random_array(rows, cols, N)\n",
    "    return data * mask, n_zeros, mask"
   ]
  },
  {
   "cell_type": "code",
   "execution_count": 58,
   "metadata": {},
   "outputs": [],
   "source": [
    "data_masked_narray, n_zeros, mask = generate_mask(data_narray)"
   ]
  },
  {
   "cell_type": "code",
   "execution_count": 59,
   "metadata": {},
   "outputs": [
    {
     "data": {
      "text/plain": [
       "array([[4, 6, 2, 6, 5, 2, 0, 7, 8, 0, 0, 0, 3, 1],\n",
       "       [0, 0, 2, 7, 0, 7, 2, 9, 6, 2, 1, 0, 6, 8],\n",
       "       [0, 3, 0, 2, 7, 9, 2, 0, 3, 5, 7, 1, 4, 0]])"
      ]
     },
     "execution_count": 59,
     "metadata": {},
     "output_type": "execute_result"
    }
   ],
   "source": [
    "data_masked_narray"
   ]
  },
  {
   "cell_type": "code",
   "execution_count": 60,
   "metadata": {},
   "outputs": [
    {
     "data": {
      "text/plain": [
       "array([[4, 6, 2, 6, 5, 2, 6, 7, 8, 2, 5, 4, 3, 1],\n",
       "       [4, 5, 2, 7, 4, 7, 2, 9, 6, 2, 1, 4, 6, 8],\n",
       "       [1, 3, 7, 2, 7, 9, 2, 7, 3, 5, 7, 1, 4, 7]])"
      ]
     },
     "execution_count": 60,
     "metadata": {},
     "output_type": "execute_result"
    }
   ],
   "source": [
    "data_narray"
   ]
  },
  {
   "cell_type": "code",
   "execution_count": 61,
   "metadata": {},
   "outputs": [
    {
     "data": {
      "text/plain": [
       "array([[1, 1, 1, 1, 1, 1, 0, 1, 1, 0, 0, 0, 1, 1],\n",
       "       [0, 0, 1, 1, 0, 1, 1, 1, 1, 1, 1, 0, 1, 1],\n",
       "       [0, 1, 0, 1, 1, 1, 1, 0, 1, 1, 1, 1, 1, 0]])"
      ]
     },
     "execution_count": 61,
     "metadata": {},
     "output_type": "execute_result"
    }
   ],
   "source": [
    "mask"
   ]
  },
  {
   "cell_type": "code",
   "execution_count": 62,
   "metadata": {},
   "outputs": [
    {
     "data": {
      "text/plain": [
       "array([[0, 0, 0, 0, 0, 0, 1, 0, 0, 1, 1, 1, 0, 0],\n",
       "       [1, 1, 0, 0, 1, 0, 0, 0, 0, 0, 0, 1, 0, 0],\n",
       "       [1, 0, 1, 0, 0, 0, 0, 1, 0, 0, 0, 0, 0, 1]])"
      ]
     },
     "execution_count": 62,
     "metadata": {},
     "output_type": "execute_result"
    }
   ],
   "source": [
    "mask ^ 1"
   ]
  },
  {
   "cell_type": "markdown",
   "metadata": {},
   "source": [
    "Debugging code for imputing with data average"
   ]
  },
  {
   "cell_type": "code",
   "execution_count": 63,
   "metadata": {},
   "outputs": [
    {
     "data": {
      "text/plain": [
       "array([[4, 6, 2, 6, 5, 2, 0, 7, 8, 0, 0, 0, 3, 1],\n",
       "       [0, 0, 2, 7, 0, 7, 2, 9, 6, 2, 1, 0, 6, 8],\n",
       "       [0, 3, 0, 2, 7, 9, 2, 0, 3, 5, 7, 1, 4, 0]])"
      ]
     },
     "execution_count": 63,
     "metadata": {},
     "output_type": "execute_result"
    }
   ],
   "source": [
    "# mean of each column (data average)\n",
    "data_masked_narray"
   ]
  },
  {
   "cell_type": "code",
   "execution_count": 64,
   "metadata": {},
   "outputs": [
    {
     "data": {
      "text/plain": [
       "'\\nnotes (9.23.24)\\n- yep, looks weird, not imputing by average and seeing some nan values \\n'"
      ]
     },
     "execution_count": 64,
     "metadata": {},
     "output_type": "execute_result"
    }
   ],
   "source": [
    "data_average_impute = impute_with_column_mean(pd.DataFrame(data_masked_narray))\n",
    "\n",
    "'''\n",
    "notes (9.23.24)\n",
    "- yep, looks weird, not imputing by average and seeing some nan values \n",
    "'''"
   ]
  },
  {
   "cell_type": "code",
   "execution_count": 65,
   "metadata": {},
   "outputs": [
    {
     "data": {
      "text/plain": [
       "array([[4, 6, 2, 6, 5, 2, 0, 7, 8, 0, 0, 0, 3, 1],\n",
       "       [0, 0, 2, 7, 0, 7, 2, 9, 6, 2, 1, 0, 6, 8],\n",
       "       [0, 3, 0, 2, 7, 9, 2, 0, 3, 5, 7, 1, 4, 0]])"
      ]
     },
     "execution_count": 65,
     "metadata": {},
     "output_type": "execute_result"
    }
   ],
   "source": [
    "data_masked_narray"
   ]
  },
  {
   "cell_type": "code",
   "execution_count": 66,
   "metadata": {},
   "outputs": [
    {
     "data": {
      "text/html": [
       "<div>\n",
       "<style scoped>\n",
       "    .dataframe tbody tr th:only-of-type {\n",
       "        vertical-align: middle;\n",
       "    }\n",
       "\n",
       "    .dataframe tbody tr th {\n",
       "        vertical-align: top;\n",
       "    }\n",
       "\n",
       "    .dataframe thead th {\n",
       "        text-align: right;\n",
       "    }\n",
       "</style>\n",
       "<table border=\"1\" class=\"dataframe\">\n",
       "  <thead>\n",
       "    <tr style=\"text-align: right;\">\n",
       "      <th></th>\n",
       "      <th>0</th>\n",
       "      <th>1</th>\n",
       "      <th>2</th>\n",
       "      <th>3</th>\n",
       "      <th>4</th>\n",
       "      <th>5</th>\n",
       "      <th>6</th>\n",
       "      <th>7</th>\n",
       "      <th>8</th>\n",
       "      <th>9</th>\n",
       "      <th>10</th>\n",
       "      <th>11</th>\n",
       "      <th>12</th>\n",
       "      <th>13</th>\n",
       "    </tr>\n",
       "  </thead>\n",
       "  <tbody>\n",
       "    <tr>\n",
       "      <th>0</th>\n",
       "      <td>4.0</td>\n",
       "      <td>6.0</td>\n",
       "      <td>2.0</td>\n",
       "      <td>6</td>\n",
       "      <td>5.0</td>\n",
       "      <td>2</td>\n",
       "      <td>2.0</td>\n",
       "      <td>7.0</td>\n",
       "      <td>8</td>\n",
       "      <td>3.5</td>\n",
       "      <td>4.0</td>\n",
       "      <td>1.0</td>\n",
       "      <td>3</td>\n",
       "      <td>1.0</td>\n",
       "    </tr>\n",
       "    <tr>\n",
       "      <th>1</th>\n",
       "      <td>4.0</td>\n",
       "      <td>4.5</td>\n",
       "      <td>2.0</td>\n",
       "      <td>7</td>\n",
       "      <td>6.0</td>\n",
       "      <td>7</td>\n",
       "      <td>2.0</td>\n",
       "      <td>9.0</td>\n",
       "      <td>6</td>\n",
       "      <td>2.0</td>\n",
       "      <td>1.0</td>\n",
       "      <td>1.0</td>\n",
       "      <td>6</td>\n",
       "      <td>8.0</td>\n",
       "    </tr>\n",
       "    <tr>\n",
       "      <th>2</th>\n",
       "      <td>4.0</td>\n",
       "      <td>3.0</td>\n",
       "      <td>2.0</td>\n",
       "      <td>2</td>\n",
       "      <td>7.0</td>\n",
       "      <td>9</td>\n",
       "      <td>2.0</td>\n",
       "      <td>8.0</td>\n",
       "      <td>3</td>\n",
       "      <td>5.0</td>\n",
       "      <td>7.0</td>\n",
       "      <td>1.0</td>\n",
       "      <td>4</td>\n",
       "      <td>4.5</td>\n",
       "    </tr>\n",
       "  </tbody>\n",
       "</table>\n",
       "</div>"
      ],
      "text/plain": [
       "    0    1    2   3    4   5    6    7   8    9    10   11  12   13\n",
       "0  4.0  6.0  2.0   6  5.0   2  2.0  7.0   8  3.5  4.0  1.0   3  1.0\n",
       "1  4.0  4.5  2.0   7  6.0   7  2.0  9.0   6  2.0  1.0  1.0   6  8.0\n",
       "2  4.0  3.0  2.0   2  7.0   9  2.0  8.0   3  5.0  7.0  1.0   4  4.5"
      ]
     },
     "execution_count": 66,
     "metadata": {},
     "output_type": "execute_result"
    }
   ],
   "source": [
    "### take out code in function to test\n",
    "data = pd.DataFrame(data_masked_narray)\n",
    "\n",
    "imputed_data = data.replace(0, np.nan)\n",
    "\n",
    "column_means = imputed_data.mean()\n",
    "column_means = column_means.replace(np.nan, 0)\n",
    "\n",
    "imputed_data.fillna(column_means, inplace=True)\n",
    "imputed_data"
   ]
  },
  {
   "cell_type": "code",
   "execution_count": 67,
   "metadata": {},
   "outputs": [
    {
     "data": {
      "text/html": [
       "<div>\n",
       "<style scoped>\n",
       "    .dataframe tbody tr th:only-of-type {\n",
       "        vertical-align: middle;\n",
       "    }\n",
       "\n",
       "    .dataframe tbody tr th {\n",
       "        vertical-align: top;\n",
       "    }\n",
       "\n",
       "    .dataframe thead th {\n",
       "        text-align: right;\n",
       "    }\n",
       "</style>\n",
       "<table border=\"1\" class=\"dataframe\">\n",
       "  <thead>\n",
       "    <tr style=\"text-align: right;\">\n",
       "      <th></th>\n",
       "      <th>0</th>\n",
       "      <th>1</th>\n",
       "      <th>2</th>\n",
       "      <th>3</th>\n",
       "      <th>4</th>\n",
       "      <th>5</th>\n",
       "      <th>6</th>\n",
       "      <th>7</th>\n",
       "      <th>8</th>\n",
       "      <th>9</th>\n",
       "      <th>10</th>\n",
       "      <th>11</th>\n",
       "      <th>12</th>\n",
       "      <th>13</th>\n",
       "    </tr>\n",
       "  </thead>\n",
       "  <tbody>\n",
       "    <tr>\n",
       "      <th>0</th>\n",
       "      <td>4.0</td>\n",
       "      <td>6.0</td>\n",
       "      <td>2.0</td>\n",
       "      <td>6</td>\n",
       "      <td>5.0</td>\n",
       "      <td>2</td>\n",
       "      <td>2.0</td>\n",
       "      <td>7.0</td>\n",
       "      <td>8</td>\n",
       "      <td>3.5</td>\n",
       "      <td>4.0</td>\n",
       "      <td>1.0</td>\n",
       "      <td>3</td>\n",
       "      <td>1.0</td>\n",
       "    </tr>\n",
       "    <tr>\n",
       "      <th>1</th>\n",
       "      <td>4.0</td>\n",
       "      <td>4.5</td>\n",
       "      <td>2.0</td>\n",
       "      <td>7</td>\n",
       "      <td>6.0</td>\n",
       "      <td>7</td>\n",
       "      <td>2.0</td>\n",
       "      <td>9.0</td>\n",
       "      <td>6</td>\n",
       "      <td>2.0</td>\n",
       "      <td>1.0</td>\n",
       "      <td>1.0</td>\n",
       "      <td>6</td>\n",
       "      <td>8.0</td>\n",
       "    </tr>\n",
       "    <tr>\n",
       "      <th>2</th>\n",
       "      <td>4.0</td>\n",
       "      <td>3.0</td>\n",
       "      <td>2.0</td>\n",
       "      <td>2</td>\n",
       "      <td>7.0</td>\n",
       "      <td>9</td>\n",
       "      <td>2.0</td>\n",
       "      <td>8.0</td>\n",
       "      <td>3</td>\n",
       "      <td>5.0</td>\n",
       "      <td>7.0</td>\n",
       "      <td>1.0</td>\n",
       "      <td>4</td>\n",
       "      <td>4.5</td>\n",
       "    </tr>\n",
       "  </tbody>\n",
       "</table>\n",
       "</div>"
      ],
      "text/plain": [
       "    0    1    2   3    4   5    6    7   8    9    10   11  12   13\n",
       "0  4.0  6.0  2.0   6  5.0   2  2.0  7.0   8  3.5  4.0  1.0   3  1.0\n",
       "1  4.0  4.5  2.0   7  6.0   7  2.0  9.0   6  2.0  1.0  1.0   6  8.0\n",
       "2  4.0  3.0  2.0   2  7.0   9  2.0  8.0   3  5.0  7.0  1.0   4  4.5"
      ]
     },
     "execution_count": 67,
     "metadata": {},
     "output_type": "execute_result"
    }
   ],
   "source": [
    "data_average_impute"
   ]
  },
  {
   "cell_type": "markdown",
   "metadata": {},
   "source": [
    "Debugging code for impute with known domain average"
   ]
  },
  {
   "cell_type": "code",
   "execution_count": 68,
   "metadata": {},
   "outputs": [
    {
     "data": {
      "text/plain": [
       "array([[4, 6, 2, 6, 5, 2, 0, 7, 8, 0, 0, 0, 3, 1],\n",
       "       [0, 0, 2, 7, 0, 7, 2, 9, 6, 2, 1, 0, 6, 8],\n",
       "       [0, 3, 0, 2, 7, 9, 2, 0, 3, 5, 7, 1, 4, 0]])"
      ]
     },
     "execution_count": 68,
     "metadata": {},
     "output_type": "execute_result"
    }
   ],
   "source": [
    "data_masked_narray"
   ]
  },
  {
   "cell_type": "code",
   "execution_count": 69,
   "metadata": {},
   "outputs": [
    {
     "data": {
      "text/html": [
       "<div>\n",
       "<style scoped>\n",
       "    .dataframe tbody tr th:only-of-type {\n",
       "        vertical-align: middle;\n",
       "    }\n",
       "\n",
       "    .dataframe tbody tr th {\n",
       "        vertical-align: top;\n",
       "    }\n",
       "\n",
       "    .dataframe thead th {\n",
       "        text-align: right;\n",
       "    }\n",
       "</style>\n",
       "<table border=\"1\" class=\"dataframe\">\n",
       "  <thead>\n",
       "    <tr style=\"text-align: right;\">\n",
       "      <th></th>\n",
       "      <th>0</th>\n",
       "      <th>1</th>\n",
       "      <th>2</th>\n",
       "      <th>3</th>\n",
       "      <th>4</th>\n",
       "      <th>5</th>\n",
       "      <th>6</th>\n",
       "      <th>7</th>\n",
       "      <th>8</th>\n",
       "      <th>9</th>\n",
       "      <th>10</th>\n",
       "      <th>11</th>\n",
       "      <th>12</th>\n",
       "      <th>13</th>\n",
       "    </tr>\n",
       "  </thead>\n",
       "  <tbody>\n",
       "    <tr>\n",
       "      <th>0</th>\n",
       "      <td>4.0</td>\n",
       "      <td>6.0</td>\n",
       "      <td>2.0</td>\n",
       "      <td>6</td>\n",
       "      <td>5.0</td>\n",
       "      <td>2</td>\n",
       "      <td>4.4</td>\n",
       "      <td>7.0</td>\n",
       "      <td>8</td>\n",
       "      <td>4.4</td>\n",
       "      <td>4.4</td>\n",
       "      <td>4.4</td>\n",
       "      <td>3</td>\n",
       "      <td>1.0</td>\n",
       "    </tr>\n",
       "    <tr>\n",
       "      <th>1</th>\n",
       "      <td>5.0</td>\n",
       "      <td>5.0</td>\n",
       "      <td>2.0</td>\n",
       "      <td>7</td>\n",
       "      <td>5.0</td>\n",
       "      <td>7</td>\n",
       "      <td>2.0</td>\n",
       "      <td>9.0</td>\n",
       "      <td>6</td>\n",
       "      <td>2.0</td>\n",
       "      <td>1.0</td>\n",
       "      <td>5.0</td>\n",
       "      <td>6</td>\n",
       "      <td>8.0</td>\n",
       "    </tr>\n",
       "    <tr>\n",
       "      <th>2</th>\n",
       "      <td>4.3</td>\n",
       "      <td>3.0</td>\n",
       "      <td>4.3</td>\n",
       "      <td>2</td>\n",
       "      <td>7.0</td>\n",
       "      <td>9</td>\n",
       "      <td>2.0</td>\n",
       "      <td>4.3</td>\n",
       "      <td>3</td>\n",
       "      <td>5.0</td>\n",
       "      <td>7.0</td>\n",
       "      <td>1.0</td>\n",
       "      <td>4</td>\n",
       "      <td>4.3</td>\n",
       "    </tr>\n",
       "  </tbody>\n",
       "</table>\n",
       "</div>"
      ],
      "text/plain": [
       "    0    1    2   3    4   5    6    7   8    9    10   11  12   13\n",
       "0  4.0  6.0  2.0   6  5.0   2  4.4  7.0   8  4.4  4.4  4.4   3  1.0\n",
       "1  5.0  5.0  2.0   7  5.0   7  2.0  9.0   6  2.0  1.0  5.0   6  8.0\n",
       "2  4.3  3.0  4.3   2  7.0   9  2.0  4.3   3  5.0  7.0  1.0   4  4.3"
      ]
     },
     "execution_count": 69,
     "metadata": {},
     "output_type": "execute_result"
    }
   ],
   "source": [
    "known_average_impute = impute_with_row_average(pd.DataFrame(data_masked_narray))\n",
    "known_average_impute"
   ]
  },
  {
   "cell_type": "code",
   "execution_count": 70,
   "metadata": {},
   "outputs": [
    {
     "name": "stdout",
     "output_type": "stream",
     "text": [
      "4.4\n",
      "5.0\n",
      "4.3\n"
     ]
    }
   ],
   "source": [
    "imputed_data = data.replace(0, np.nan)\n",
    "# Iterate over each row\n",
    "for index, row in imputed_data.iterrows():\n",
    "#     # Calculate the mean of the non-NaN values in the row\n",
    "    mean_value = row.mean()\n",
    "    if np.isnan(mean_value):\n",
    "        mean_value = 0\n",
    "    print(mean_value)\n",
    "    # Replace NaN values in the row with the calculated mean\n",
    "    imputed_data.loc[index] = row.fillna(mean_value)"
   ]
  }
 ],
 "metadata": {
  "kernelspec": {
   "display_name": "ct",
   "language": "python",
   "name": "python3"
  },
  "language_info": {
   "codemirror_mode": {
    "name": "ipython",
    "version": 3
   },
   "file_extension": ".py",
   "mimetype": "text/x-python",
   "name": "python",
   "nbconvert_exporter": "python",
   "pygments_lexer": "ipython3",
   "version": "3.9.19"
  }
 },
 "nbformat": 4,
 "nbformat_minor": 2
}
