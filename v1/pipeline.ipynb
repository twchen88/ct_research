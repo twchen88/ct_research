{
 "cells": [
  {
   "cell_type": "markdown",
   "metadata": {},
   "source": [
    "## overview\n",
    "- pipeline that finds the best suggestion, prototype"
   ]
  },
  {
   "cell_type": "code",
   "execution_count": 288,
   "metadata": {},
   "outputs": [],
   "source": [
    "## import packages\n",
    "import numpy as np\n",
    "import pandas as pd\n",
    "import matplotlib.pyplot as plt\n",
    "import seaborn as sns\n",
    "import torch\n",
    "import torch.nn as nn\n",
    "import torch.nn.functional as F\n",
    "from torch.utils.data import DataLoader, Dataset\n",
    "import statistics\n",
    "from datetime import datetime\n",
    "from sklearn.model_selection import train_test_split\n",
    "import random, sys, copy, os, json"
   ]
  },
  {
   "cell_type": "code",
   "execution_count": 289,
   "metadata": {},
   "outputs": [],
   "source": [
    "# Set seeds for reproducibility\n",
    "torch.manual_seed(42)\n",
    "np.random.seed(42)\n",
    "random.seed(42)\n",
    "\n",
    "# Ensure deterministic algorithms\n",
    "torch.backends.cudnn.deterministic = True\n",
    "torch.backends.cudnn.benchmark = False"
   ]
  },
  {
   "cell_type": "markdown",
   "metadata": {},
   "source": [
    "Data"
   ]
  },
  {
   "cell_type": "code",
   "execution_count": 290,
   "metadata": {},
   "outputs": [],
   "source": [
    "df = pd.read_csv(\"data/filtered_model_data.csv\")"
   ]
  },
  {
   "cell_type": "code",
   "execution_count": 291,
   "metadata": {},
   "outputs": [],
   "source": [
    "df[\"start_time\"] = df[\"start_time\"].astype('datetime64[ns]')\n",
    "df = df.sort_values(by=[\"patient_id\", \"start_time\"])"
   ]
  },
  {
   "cell_type": "markdown",
   "metadata": {},
   "source": [
    "Create training data"
   ]
  },
  {
   "cell_type": "code",
   "execution_count": 292,
   "metadata": {},
   "outputs": [],
   "source": [
    "# given a row of sessions, take domain_ids and domain_scores, which are in string format separated by \",\", and replace with a list of the values\n",
    "def process_row(row):\n",
    "    values_a = [int(x.strip()) for x in str(row['domain_ids']).split(',')]\n",
    "    values_b = [float(x.strip()) for x in str(row['domain_scores']).split(',')]\n",
    "    return values_a, values_b"
   ]
  },
  {
   "cell_type": "code",
   "execution_count": null,
   "metadata": {},
   "outputs": [],
   "source": [
    "# take in a dataframe of a patient's session, extract information useful for training\n",
    "def create_training_data(data: pd.DataFrame):\n",
    "    # Initialize variables\n",
    "    session_row = [] # contents of a row (patient id, encoding, cur score, prev score, repeat)\n",
    "    overall = [] # aggregate of everything (n sessions x 44)\n",
    "\n",
    "    cur_score = np.zeros((14)) # score for each session\n",
    "    cur_score.fill(np.nan)\n",
    "    prev_score = None\n",
    "\n",
    "    patient_id = data[\"patient_id\"].iloc[0] # save patient_id\n",
    "\n",
    "    # Sort data by session start time\n",
    "    data = data.sort_values(by=[\"start_time\"])\n",
    "\n",
    "    # Process each row\n",
    "    for idx, row in data.iterrows():\n",
    "        domains, domain_scores = process_row(row)  # returns a list of domains : int and of domain_scores : float\n",
    "\n",
    "        for j, domain in enumerate(domains):\n",
    "            cur_score[domain - 1] = domain_scores[j] # update score in the loop\n",
    "\n",
    "        # Encode domains for this session\n",
    "        domain_encoding = np.zeros(14)\n",
    "        for domain in domains:\n",
    "            domain_encoding[domain - 1] = 1\n",
    "        \n",
    "\n",
    "        # if the session does not contain the target domain or is the first (no prev score), continue in the loop without doing anything, do this before appending\n",
    "        if prev_score is None:\n",
    "            session_row = []\n",
    "            prev_score = cur_score.copy()\n",
    "            continue\n",
    "        # assert np.sum(domain_encoding) != 1, \"continue not working\"\n",
    "\n",
    "        # append everything in the row list\n",
    "        session_row.append(patient_id)\n",
    "        session_row.extend(domain_encoding.copy().tolist())\n",
    "        session_row.extend(prev_score.copy().tolist())\n",
    "        session_row.extend(cur_score.copy().tolist())\n",
    "        session_row.append(row[\"start_time\"].timestamp())\n",
    "        assert len(session_row) == 44, \"session row length incorrect\"\n",
    "\n",
    "        # append row to overall, reset\n",
    "        overall.append(session_row)\n",
    "        session_row = []\n",
    "        prev_score = cur_score.copy()\n",
    "\n",
    "    # Convert to numpy arrays\n",
    "    if overall:\n",
    "        overall = np.array(overall)\n",
    "        assert len(overall.shape) == 2, \"dimensions of overall wrong\"\n",
    "    else:\n",
    "        # Handle case where scores is empty\n",
    "        return pd.DataFrame(columns=[\"patient_id\"] + [\"domain %d encoding\" % i for i in range(1, 15)] +\n",
    "                                   [\"domain %d score\" % i for i in range(1, 15)] +\n",
    "                                   [\"domain %d target\" % i for i in range(1, 15)] +\n",
    "                                   [\"start_time\"])\n",
    "    \n",
    "        # Create column names\n",
    "    column_names = (\n",
    "        [\"patient_id\"]\n",
    "        + [f\"domain {i} encoding\" for i in range(1, 15)]\n",
    "        + [f\"domain {i} score\" for i in range(1, 15)]\n",
    "        + [f\"domain {i} target\" for i in range(1, 15)]\n",
    "        + [\"repeat\"]\n",
    "        + [\"start_time\"]\n",
    "    )\n",
    "\n",
    "    # Create dataframe\n",
    "    scores_df = pd.DataFrame(overall, columns=column_names)\n",
    "    scores_df.reset_index(drop=True, inplace=True)\n",
    "    return scores_df"
   ]
  },
  {
   "cell_type": "code",
   "execution_count": 294,
   "metadata": {},
   "outputs": [],
   "source": [
    "# data = df.groupby(\"patient_id\")[df.columns].apply(create_training_data).reset_index(drop=True)"
   ]
  },
  {
   "cell_type": "code",
   "execution_count": 295,
   "metadata": {},
   "outputs": [],
   "source": [
    "# data.to_csv(\"data/next_step_data.csv\", index=False)"
   ]
  },
  {
   "cell_type": "code",
   "execution_count": 296,
   "metadata": {},
   "outputs": [],
   "source": [
    "score_columns = [\"domain %d score\" %i for i in range(1, 15)]\n",
    "encoding_columns = [\"domain %d encoding\" %i for i in range(1, 15)]\n",
    "target_columns = [\"domain %d target\" %i for i in range(1, 15)]\n",
    "repeat_columns = [\"repeat\"]\n",
    "time_columns = [\"start_time\"]"
   ]
  },
  {
   "cell_type": "code",
   "execution_count": 297,
   "metadata": {},
   "outputs": [],
   "source": [
    "data = pd.read_csv(\"data/next_step_data.csv\")"
   ]
  },
  {
   "cell_type": "code",
   "execution_count": 298,
   "metadata": {},
   "outputs": [
    {
     "data": {
      "text/html": [
       "<div>\n",
       "<style scoped>\n",
       "    .dataframe tbody tr th:only-of-type {\n",
       "        vertical-align: middle;\n",
       "    }\n",
       "\n",
       "    .dataframe tbody tr th {\n",
       "        vertical-align: top;\n",
       "    }\n",
       "\n",
       "    .dataframe thead th {\n",
       "        text-align: right;\n",
       "    }\n",
       "</style>\n",
       "<table border=\"1\" class=\"dataframe\">\n",
       "  <thead>\n",
       "    <tr style=\"text-align: right;\">\n",
       "      <th></th>\n",
       "      <th>patient_id</th>\n",
       "      <th>domain 1 encoding</th>\n",
       "      <th>domain 2 encoding</th>\n",
       "      <th>domain 3 encoding</th>\n",
       "      <th>domain 4 encoding</th>\n",
       "      <th>domain 5 encoding</th>\n",
       "      <th>domain 6 encoding</th>\n",
       "      <th>domain 7 encoding</th>\n",
       "      <th>domain 8 encoding</th>\n",
       "      <th>domain 9 encoding</th>\n",
       "      <th>...</th>\n",
       "      <th>domain 7 target</th>\n",
       "      <th>domain 8 target</th>\n",
       "      <th>domain 9 target</th>\n",
       "      <th>domain 10 target</th>\n",
       "      <th>domain 11 target</th>\n",
       "      <th>domain 12 target</th>\n",
       "      <th>domain 13 target</th>\n",
       "      <th>domain 14 target</th>\n",
       "      <th>repeat</th>\n",
       "      <th>start_time</th>\n",
       "    </tr>\n",
       "  </thead>\n",
       "  <tbody>\n",
       "    <tr>\n",
       "      <th>0</th>\n",
       "      <td>2171.0</td>\n",
       "      <td>0.0</td>\n",
       "      <td>0.0</td>\n",
       "      <td>0.0</td>\n",
       "      <td>1.0</td>\n",
       "      <td>1.0</td>\n",
       "      <td>0.0</td>\n",
       "      <td>0.0</td>\n",
       "      <td>0.0</td>\n",
       "      <td>0.0</td>\n",
       "      <td>...</td>\n",
       "      <td>NaN</td>\n",
       "      <td>NaN</td>\n",
       "      <td>NaN</td>\n",
       "      <td>NaN</td>\n",
       "      <td>NaN</td>\n",
       "      <td>NaN</td>\n",
       "      <td>NaN</td>\n",
       "      <td>NaN</td>\n",
       "      <td>0.0</td>\n",
       "      <td>1.513443e+09</td>\n",
       "    </tr>\n",
       "    <tr>\n",
       "      <th>1</th>\n",
       "      <td>2171.0</td>\n",
       "      <td>0.0</td>\n",
       "      <td>0.0</td>\n",
       "      <td>0.0</td>\n",
       "      <td>0.0</td>\n",
       "      <td>0.0</td>\n",
       "      <td>1.0</td>\n",
       "      <td>1.0</td>\n",
       "      <td>0.0</td>\n",
       "      <td>0.0</td>\n",
       "      <td>...</td>\n",
       "      <td>0.21</td>\n",
       "      <td>NaN</td>\n",
       "      <td>NaN</td>\n",
       "      <td>NaN</td>\n",
       "      <td>NaN</td>\n",
       "      <td>NaN</td>\n",
       "      <td>NaN</td>\n",
       "      <td>NaN</td>\n",
       "      <td>0.0</td>\n",
       "      <td>1.513444e+09</td>\n",
       "    </tr>\n",
       "    <tr>\n",
       "      <th>2</th>\n",
       "      <td>2171.0</td>\n",
       "      <td>0.0</td>\n",
       "      <td>0.0</td>\n",
       "      <td>0.0</td>\n",
       "      <td>0.0</td>\n",
       "      <td>0.0</td>\n",
       "      <td>0.0</td>\n",
       "      <td>0.0</td>\n",
       "      <td>0.0</td>\n",
       "      <td>1.0</td>\n",
       "      <td>...</td>\n",
       "      <td>0.21</td>\n",
       "      <td>NaN</td>\n",
       "      <td>0.630</td>\n",
       "      <td>NaN</td>\n",
       "      <td>NaN</td>\n",
       "      <td>NaN</td>\n",
       "      <td>NaN</td>\n",
       "      <td>NaN</td>\n",
       "      <td>0.0</td>\n",
       "      <td>1.513444e+09</td>\n",
       "    </tr>\n",
       "    <tr>\n",
       "      <th>3</th>\n",
       "      <td>2171.0</td>\n",
       "      <td>1.0</td>\n",
       "      <td>0.0</td>\n",
       "      <td>0.0</td>\n",
       "      <td>0.0</td>\n",
       "      <td>0.0</td>\n",
       "      <td>0.0</td>\n",
       "      <td>0.0</td>\n",
       "      <td>0.0</td>\n",
       "      <td>0.0</td>\n",
       "      <td>...</td>\n",
       "      <td>0.21</td>\n",
       "      <td>NaN</td>\n",
       "      <td>0.630</td>\n",
       "      <td>NaN</td>\n",
       "      <td>NaN</td>\n",
       "      <td>NaN</td>\n",
       "      <td>NaN</td>\n",
       "      <td>NaN</td>\n",
       "      <td>1.0</td>\n",
       "      <td>1.515096e+09</td>\n",
       "    </tr>\n",
       "    <tr>\n",
       "      <th>4</th>\n",
       "      <td>2171.0</td>\n",
       "      <td>0.0</td>\n",
       "      <td>0.0</td>\n",
       "      <td>0.0</td>\n",
       "      <td>1.0</td>\n",
       "      <td>1.0</td>\n",
       "      <td>0.0</td>\n",
       "      <td>0.0</td>\n",
       "      <td>0.0</td>\n",
       "      <td>0.0</td>\n",
       "      <td>...</td>\n",
       "      <td>0.21</td>\n",
       "      <td>NaN</td>\n",
       "      <td>0.630</td>\n",
       "      <td>NaN</td>\n",
       "      <td>NaN</td>\n",
       "      <td>NaN</td>\n",
       "      <td>NaN</td>\n",
       "      <td>NaN</td>\n",
       "      <td>1.0</td>\n",
       "      <td>1.515096e+09</td>\n",
       "    </tr>\n",
       "    <tr>\n",
       "      <th>...</th>\n",
       "      <td>...</td>\n",
       "      <td>...</td>\n",
       "      <td>...</td>\n",
       "      <td>...</td>\n",
       "      <td>...</td>\n",
       "      <td>...</td>\n",
       "      <td>...</td>\n",
       "      <td>...</td>\n",
       "      <td>...</td>\n",
       "      <td>...</td>\n",
       "      <td>...</td>\n",
       "      <td>...</td>\n",
       "      <td>...</td>\n",
       "      <td>...</td>\n",
       "      <td>...</td>\n",
       "      <td>...</td>\n",
       "      <td>...</td>\n",
       "      <td>...</td>\n",
       "      <td>...</td>\n",
       "      <td>...</td>\n",
       "      <td>...</td>\n",
       "    </tr>\n",
       "    <tr>\n",
       "      <th>5835360</th>\n",
       "      <td>568669.0</td>\n",
       "      <td>1.0</td>\n",
       "      <td>0.0</td>\n",
       "      <td>0.0</td>\n",
       "      <td>0.0</td>\n",
       "      <td>0.0</td>\n",
       "      <td>0.0</td>\n",
       "      <td>0.0</td>\n",
       "      <td>0.0</td>\n",
       "      <td>0.0</td>\n",
       "      <td>...</td>\n",
       "      <td>1.00</td>\n",
       "      <td>0.882</td>\n",
       "      <td>0.667</td>\n",
       "      <td>0.846</td>\n",
       "      <td>1.0</td>\n",
       "      <td>0.188</td>\n",
       "      <td>0.827</td>\n",
       "      <td>NaN</td>\n",
       "      <td>1.0</td>\n",
       "      <td>1.687208e+09</td>\n",
       "    </tr>\n",
       "    <tr>\n",
       "      <th>5835361</th>\n",
       "      <td>568669.0</td>\n",
       "      <td>0.0</td>\n",
       "      <td>0.0</td>\n",
       "      <td>0.0</td>\n",
       "      <td>1.0</td>\n",
       "      <td>1.0</td>\n",
       "      <td>0.0</td>\n",
       "      <td>0.0</td>\n",
       "      <td>0.0</td>\n",
       "      <td>0.0</td>\n",
       "      <td>...</td>\n",
       "      <td>1.00</td>\n",
       "      <td>0.882</td>\n",
       "      <td>0.667</td>\n",
       "      <td>0.846</td>\n",
       "      <td>1.0</td>\n",
       "      <td>0.188</td>\n",
       "      <td>0.827</td>\n",
       "      <td>NaN</td>\n",
       "      <td>1.0</td>\n",
       "      <td>1.687210e+09</td>\n",
       "    </tr>\n",
       "    <tr>\n",
       "      <th>5835362</th>\n",
       "      <td>568669.0</td>\n",
       "      <td>0.0</td>\n",
       "      <td>0.0</td>\n",
       "      <td>0.0</td>\n",
       "      <td>0.0</td>\n",
       "      <td>0.0</td>\n",
       "      <td>0.0</td>\n",
       "      <td>0.0</td>\n",
       "      <td>0.0</td>\n",
       "      <td>1.0</td>\n",
       "      <td>...</td>\n",
       "      <td>1.00</td>\n",
       "      <td>0.882</td>\n",
       "      <td>0.667</td>\n",
       "      <td>0.846</td>\n",
       "      <td>1.0</td>\n",
       "      <td>0.188</td>\n",
       "      <td>0.827</td>\n",
       "      <td>NaN</td>\n",
       "      <td>1.0</td>\n",
       "      <td>1.687211e+09</td>\n",
       "    </tr>\n",
       "    <tr>\n",
       "      <th>5835363</th>\n",
       "      <td>568669.0</td>\n",
       "      <td>0.0</td>\n",
       "      <td>0.0</td>\n",
       "      <td>0.0</td>\n",
       "      <td>0.0</td>\n",
       "      <td>0.0</td>\n",
       "      <td>0.0</td>\n",
       "      <td>0.0</td>\n",
       "      <td>0.0</td>\n",
       "      <td>0.0</td>\n",
       "      <td>...</td>\n",
       "      <td>1.00</td>\n",
       "      <td>0.882</td>\n",
       "      <td>0.667</td>\n",
       "      <td>0.846</td>\n",
       "      <td>1.0</td>\n",
       "      <td>0.218</td>\n",
       "      <td>0.827</td>\n",
       "      <td>NaN</td>\n",
       "      <td>1.0</td>\n",
       "      <td>1.687216e+09</td>\n",
       "    </tr>\n",
       "    <tr>\n",
       "      <th>5835364</th>\n",
       "      <td>568669.0</td>\n",
       "      <td>0.0</td>\n",
       "      <td>0.0</td>\n",
       "      <td>0.0</td>\n",
       "      <td>0.0</td>\n",
       "      <td>0.0</td>\n",
       "      <td>0.0</td>\n",
       "      <td>0.0</td>\n",
       "      <td>0.0</td>\n",
       "      <td>0.0</td>\n",
       "      <td>...</td>\n",
       "      <td>1.00</td>\n",
       "      <td>0.882</td>\n",
       "      <td>0.667</td>\n",
       "      <td>0.846</td>\n",
       "      <td>1.0</td>\n",
       "      <td>0.218</td>\n",
       "      <td>0.784</td>\n",
       "      <td>NaN</td>\n",
       "      <td>1.0</td>\n",
       "      <td>1.687217e+09</td>\n",
       "    </tr>\n",
       "  </tbody>\n",
       "</table>\n",
       "<p>5835365 rows × 45 columns</p>\n",
       "</div>"
      ],
      "text/plain": [
       "         patient_id  domain 1 encoding  domain 2 encoding  domain 3 encoding  \\\n",
       "0            2171.0                0.0                0.0                0.0   \n",
       "1            2171.0                0.0                0.0                0.0   \n",
       "2            2171.0                0.0                0.0                0.0   \n",
       "3            2171.0                1.0                0.0                0.0   \n",
       "4            2171.0                0.0                0.0                0.0   \n",
       "...             ...                ...                ...                ...   \n",
       "5835360    568669.0                1.0                0.0                0.0   \n",
       "5835361    568669.0                0.0                0.0                0.0   \n",
       "5835362    568669.0                0.0                0.0                0.0   \n",
       "5835363    568669.0                0.0                0.0                0.0   \n",
       "5835364    568669.0                0.0                0.0                0.0   \n",
       "\n",
       "         domain 4 encoding  domain 5 encoding  domain 6 encoding  \\\n",
       "0                      1.0                1.0                0.0   \n",
       "1                      0.0                0.0                1.0   \n",
       "2                      0.0                0.0                0.0   \n",
       "3                      0.0                0.0                0.0   \n",
       "4                      1.0                1.0                0.0   \n",
       "...                    ...                ...                ...   \n",
       "5835360                0.0                0.0                0.0   \n",
       "5835361                1.0                1.0                0.0   \n",
       "5835362                0.0                0.0                0.0   \n",
       "5835363                0.0                0.0                0.0   \n",
       "5835364                0.0                0.0                0.0   \n",
       "\n",
       "         domain 7 encoding  domain 8 encoding  domain 9 encoding  ...  \\\n",
       "0                      0.0                0.0                0.0  ...   \n",
       "1                      1.0                0.0                0.0  ...   \n",
       "2                      0.0                0.0                1.0  ...   \n",
       "3                      0.0                0.0                0.0  ...   \n",
       "4                      0.0                0.0                0.0  ...   \n",
       "...                    ...                ...                ...  ...   \n",
       "5835360                0.0                0.0                0.0  ...   \n",
       "5835361                0.0                0.0                0.0  ...   \n",
       "5835362                0.0                0.0                1.0  ...   \n",
       "5835363                0.0                0.0                0.0  ...   \n",
       "5835364                0.0                0.0                0.0  ...   \n",
       "\n",
       "         domain 7 target  domain 8 target  domain 9 target  domain 10 target  \\\n",
       "0                    NaN              NaN              NaN               NaN   \n",
       "1                   0.21              NaN              NaN               NaN   \n",
       "2                   0.21              NaN            0.630               NaN   \n",
       "3                   0.21              NaN            0.630               NaN   \n",
       "4                   0.21              NaN            0.630               NaN   \n",
       "...                  ...              ...              ...               ...   \n",
       "5835360             1.00            0.882            0.667             0.846   \n",
       "5835361             1.00            0.882            0.667             0.846   \n",
       "5835362             1.00            0.882            0.667             0.846   \n",
       "5835363             1.00            0.882            0.667             0.846   \n",
       "5835364             1.00            0.882            0.667             0.846   \n",
       "\n",
       "         domain 11 target  domain 12 target  domain 13 target  \\\n",
       "0                     NaN               NaN               NaN   \n",
       "1                     NaN               NaN               NaN   \n",
       "2                     NaN               NaN               NaN   \n",
       "3                     NaN               NaN               NaN   \n",
       "4                     NaN               NaN               NaN   \n",
       "...                   ...               ...               ...   \n",
       "5835360               1.0             0.188             0.827   \n",
       "5835361               1.0             0.188             0.827   \n",
       "5835362               1.0             0.188             0.827   \n",
       "5835363               1.0             0.218             0.827   \n",
       "5835364               1.0             0.218             0.784   \n",
       "\n",
       "         domain 14 target  repeat    start_time  \n",
       "0                     NaN     0.0  1.513443e+09  \n",
       "1                     NaN     0.0  1.513444e+09  \n",
       "2                     NaN     0.0  1.513444e+09  \n",
       "3                     NaN     1.0  1.515096e+09  \n",
       "4                     NaN     1.0  1.515096e+09  \n",
       "...                   ...     ...           ...  \n",
       "5835360               NaN     1.0  1.687208e+09  \n",
       "5835361               NaN     1.0  1.687210e+09  \n",
       "5835362               NaN     1.0  1.687211e+09  \n",
       "5835363               NaN     1.0  1.687216e+09  \n",
       "5835364               NaN     1.0  1.687217e+09  \n",
       "\n",
       "[5835365 rows x 45 columns]"
      ]
     },
     "execution_count": 298,
     "metadata": {},
     "output_type": "execute_result"
    }
   ],
   "source": [
    "data"
   ]
  },
  {
   "cell_type": "code",
   "execution_count": 299,
   "metadata": {},
   "outputs": [],
   "source": [
    "# filter rows based on number of missing values (denoted by nans) the session has\n",
    "def filter_n_missing(df, n_missing):\n",
    "    global score_columns\n",
    "    # only use the score columns when counting 0s\n",
    "    scores = df[score_columns]\n",
    "    # Count number of nans in each row\n",
    "    missing_count = scores.isna().sum(axis=1)\n",
    "    \n",
    "    # Filter rows with n_zeros number of zeros\n",
    "    filtered_rows = df[missing_count == n_missing]\n",
    "    return filtered_rows"
   ]
  },
  {
   "cell_type": "code",
   "execution_count": null,
   "metadata": {},
   "outputs": [],
   "source": [
    "train_data, test_data = train_test_split(data, test_size=0.25, random_state=42)\n",
    "n_samples = 100000\n",
    "\n",
    "## one sample for train, only to see if it learns that one example\n",
    "# train_data = train_data[:n_samples].copy()\n",
    "test_data = test_data[:n_samples].copy()"
   ]
  },
  {
   "cell_type": "code",
   "execution_count": 301,
   "metadata": {},
   "outputs": [
    {
     "data": {
      "text/html": [
       "<div>\n",
       "<style scoped>\n",
       "    .dataframe tbody tr th:only-of-type {\n",
       "        vertical-align: middle;\n",
       "    }\n",
       "\n",
       "    .dataframe tbody tr th {\n",
       "        vertical-align: top;\n",
       "    }\n",
       "\n",
       "    .dataframe thead th {\n",
       "        text-align: right;\n",
       "    }\n",
       "</style>\n",
       "<table border=\"1\" class=\"dataframe\">\n",
       "  <thead>\n",
       "    <tr style=\"text-align: right;\">\n",
       "      <th></th>\n",
       "      <th>patient_id</th>\n",
       "      <th>domain 1 encoding</th>\n",
       "      <th>domain 2 encoding</th>\n",
       "      <th>domain 3 encoding</th>\n",
       "      <th>domain 4 encoding</th>\n",
       "      <th>domain 5 encoding</th>\n",
       "      <th>domain 6 encoding</th>\n",
       "      <th>domain 7 encoding</th>\n",
       "      <th>domain 8 encoding</th>\n",
       "      <th>domain 9 encoding</th>\n",
       "      <th>...</th>\n",
       "      <th>domain 7 target</th>\n",
       "      <th>domain 8 target</th>\n",
       "      <th>domain 9 target</th>\n",
       "      <th>domain 10 target</th>\n",
       "      <th>domain 11 target</th>\n",
       "      <th>domain 12 target</th>\n",
       "      <th>domain 13 target</th>\n",
       "      <th>domain 14 target</th>\n",
       "      <th>repeat</th>\n",
       "      <th>start_time</th>\n",
       "    </tr>\n",
       "  </thead>\n",
       "  <tbody>\n",
       "    <tr>\n",
       "      <th>5198989</th>\n",
       "      <td>321864.0</td>\n",
       "      <td>0.0</td>\n",
       "      <td>0.0</td>\n",
       "      <td>0.0</td>\n",
       "      <td>0.0</td>\n",
       "      <td>0.0</td>\n",
       "      <td>0.0</td>\n",
       "      <td>0.0</td>\n",
       "      <td>0.0</td>\n",
       "      <td>0.0</td>\n",
       "      <td>...</td>\n",
       "      <td>0.022</td>\n",
       "      <td>NaN</td>\n",
       "      <td>0.080</td>\n",
       "      <td>0.454</td>\n",
       "      <td>0.80</td>\n",
       "      <td>0.127</td>\n",
       "      <td>0.081</td>\n",
       "      <td>1.000</td>\n",
       "      <td>1.0</td>\n",
       "      <td>1.602174e+09</td>\n",
       "    </tr>\n",
       "    <tr>\n",
       "      <th>4478682</th>\n",
       "      <td>268337.0</td>\n",
       "      <td>0.0</td>\n",
       "      <td>0.0</td>\n",
       "      <td>0.0</td>\n",
       "      <td>0.0</td>\n",
       "      <td>0.0</td>\n",
       "      <td>0.0</td>\n",
       "      <td>0.0</td>\n",
       "      <td>0.0</td>\n",
       "      <td>0.0</td>\n",
       "      <td>...</td>\n",
       "      <td>0.222</td>\n",
       "      <td>0.000</td>\n",
       "      <td>0.307</td>\n",
       "      <td>0.500</td>\n",
       "      <td>0.64</td>\n",
       "      <td>0.364</td>\n",
       "      <td>0.644</td>\n",
       "      <td>0.200</td>\n",
       "      <td>1.0</td>\n",
       "      <td>1.672064e+09</td>\n",
       "    </tr>\n",
       "    <tr>\n",
       "      <th>108777</th>\n",
       "      <td>16506.0</td>\n",
       "      <td>0.0</td>\n",
       "      <td>0.0</td>\n",
       "      <td>0.0</td>\n",
       "      <td>0.0</td>\n",
       "      <td>0.0</td>\n",
       "      <td>0.0</td>\n",
       "      <td>0.0</td>\n",
       "      <td>0.0</td>\n",
       "      <td>0.0</td>\n",
       "      <td>...</td>\n",
       "      <td>0.950</td>\n",
       "      <td>NaN</td>\n",
       "      <td>1.000</td>\n",
       "      <td>1.000</td>\n",
       "      <td>1.00</td>\n",
       "      <td>0.740</td>\n",
       "      <td>1.000</td>\n",
       "      <td>NaN</td>\n",
       "      <td>1.0</td>\n",
       "      <td>1.678826e+09</td>\n",
       "    </tr>\n",
       "    <tr>\n",
       "      <th>5428722</th>\n",
       "      <td>333131.0</td>\n",
       "      <td>0.0</td>\n",
       "      <td>0.0</td>\n",
       "      <td>0.0</td>\n",
       "      <td>0.0</td>\n",
       "      <td>0.0</td>\n",
       "      <td>0.0</td>\n",
       "      <td>0.0</td>\n",
       "      <td>0.0</td>\n",
       "      <td>0.0</td>\n",
       "      <td>...</td>\n",
       "      <td>NaN</td>\n",
       "      <td>NaN</td>\n",
       "      <td>1.000</td>\n",
       "      <td>0.492</td>\n",
       "      <td>0.76</td>\n",
       "      <td>0.333</td>\n",
       "      <td>0.881</td>\n",
       "      <td>0.200</td>\n",
       "      <td>1.0</td>\n",
       "      <td>1.682856e+09</td>\n",
       "    </tr>\n",
       "    <tr>\n",
       "      <th>3125710</th>\n",
       "      <td>191189.0</td>\n",
       "      <td>0.0</td>\n",
       "      <td>0.0</td>\n",
       "      <td>0.0</td>\n",
       "      <td>0.0</td>\n",
       "      <td>0.0</td>\n",
       "      <td>0.0</td>\n",
       "      <td>0.0</td>\n",
       "      <td>0.0</td>\n",
       "      <td>0.0</td>\n",
       "      <td>...</td>\n",
       "      <td>0.180</td>\n",
       "      <td>NaN</td>\n",
       "      <td>0.260</td>\n",
       "      <td>0.607</td>\n",
       "      <td>1.00</td>\n",
       "      <td>0.457</td>\n",
       "      <td>0.291</td>\n",
       "      <td>0.474</td>\n",
       "      <td>1.0</td>\n",
       "      <td>1.546050e+09</td>\n",
       "    </tr>\n",
       "    <tr>\n",
       "      <th>...</th>\n",
       "      <td>...</td>\n",
       "      <td>...</td>\n",
       "      <td>...</td>\n",
       "      <td>...</td>\n",
       "      <td>...</td>\n",
       "      <td>...</td>\n",
       "      <td>...</td>\n",
       "      <td>...</td>\n",
       "      <td>...</td>\n",
       "      <td>...</td>\n",
       "      <td>...</td>\n",
       "      <td>...</td>\n",
       "      <td>...</td>\n",
       "      <td>...</td>\n",
       "      <td>...</td>\n",
       "      <td>...</td>\n",
       "      <td>...</td>\n",
       "      <td>...</td>\n",
       "      <td>...</td>\n",
       "      <td>...</td>\n",
       "      <td>...</td>\n",
       "    </tr>\n",
       "    <tr>\n",
       "      <th>3954103</th>\n",
       "      <td>228753.0</td>\n",
       "      <td>0.0</td>\n",
       "      <td>0.0</td>\n",
       "      <td>0.0</td>\n",
       "      <td>1.0</td>\n",
       "      <td>0.0</td>\n",
       "      <td>0.0</td>\n",
       "      <td>0.0</td>\n",
       "      <td>0.0</td>\n",
       "      <td>0.0</td>\n",
       "      <td>...</td>\n",
       "      <td>NaN</td>\n",
       "      <td>NaN</td>\n",
       "      <td>NaN</td>\n",
       "      <td>NaN</td>\n",
       "      <td>NaN</td>\n",
       "      <td>0.000</td>\n",
       "      <td>NaN</td>\n",
       "      <td>NaN</td>\n",
       "      <td>1.0</td>\n",
       "      <td>1.543280e+09</td>\n",
       "    </tr>\n",
       "    <tr>\n",
       "      <th>5421291</th>\n",
       "      <td>333131.0</td>\n",
       "      <td>0.0</td>\n",
       "      <td>0.0</td>\n",
       "      <td>0.0</td>\n",
       "      <td>0.0</td>\n",
       "      <td>0.0</td>\n",
       "      <td>0.0</td>\n",
       "      <td>0.0</td>\n",
       "      <td>0.0</td>\n",
       "      <td>0.0</td>\n",
       "      <td>...</td>\n",
       "      <td>NaN</td>\n",
       "      <td>NaN</td>\n",
       "      <td>1.000</td>\n",
       "      <td>0.808</td>\n",
       "      <td>1.00</td>\n",
       "      <td>0.449</td>\n",
       "      <td>1.000</td>\n",
       "      <td>0.380</td>\n",
       "      <td>1.0</td>\n",
       "      <td>1.610984e+09</td>\n",
       "    </tr>\n",
       "    <tr>\n",
       "      <th>5137134</th>\n",
       "      <td>319140.0</td>\n",
       "      <td>0.0</td>\n",
       "      <td>0.0</td>\n",
       "      <td>0.0</td>\n",
       "      <td>0.0</td>\n",
       "      <td>0.0</td>\n",
       "      <td>0.0</td>\n",
       "      <td>0.0</td>\n",
       "      <td>0.0</td>\n",
       "      <td>0.0</td>\n",
       "      <td>...</td>\n",
       "      <td>NaN</td>\n",
       "      <td>0.792</td>\n",
       "      <td>NaN</td>\n",
       "      <td>0.492</td>\n",
       "      <td>0.40</td>\n",
       "      <td>NaN</td>\n",
       "      <td>NaN</td>\n",
       "      <td>0.600</td>\n",
       "      <td>1.0</td>\n",
       "      <td>1.595794e+09</td>\n",
       "    </tr>\n",
       "    <tr>\n",
       "      <th>851176</th>\n",
       "      <td>80797.0</td>\n",
       "      <td>0.0</td>\n",
       "      <td>0.0</td>\n",
       "      <td>1.0</td>\n",
       "      <td>0.0</td>\n",
       "      <td>0.0</td>\n",
       "      <td>0.0</td>\n",
       "      <td>0.0</td>\n",
       "      <td>0.0</td>\n",
       "      <td>0.0</td>\n",
       "      <td>...</td>\n",
       "      <td>NaN</td>\n",
       "      <td>0.466</td>\n",
       "      <td>NaN</td>\n",
       "      <td>0.571</td>\n",
       "      <td>NaN</td>\n",
       "      <td>0.272</td>\n",
       "      <td>0.308</td>\n",
       "      <td>0.600</td>\n",
       "      <td>1.0</td>\n",
       "      <td>1.578844e+09</td>\n",
       "    </tr>\n",
       "    <tr>\n",
       "      <th>1086460</th>\n",
       "      <td>96300.0</td>\n",
       "      <td>1.0</td>\n",
       "      <td>0.0</td>\n",
       "      <td>0.0</td>\n",
       "      <td>0.0</td>\n",
       "      <td>0.0</td>\n",
       "      <td>0.0</td>\n",
       "      <td>0.0</td>\n",
       "      <td>0.0</td>\n",
       "      <td>0.0</td>\n",
       "      <td>...</td>\n",
       "      <td>0.900</td>\n",
       "      <td>NaN</td>\n",
       "      <td>NaN</td>\n",
       "      <td>0.536</td>\n",
       "      <td>NaN</td>\n",
       "      <td>0.321</td>\n",
       "      <td>0.333</td>\n",
       "      <td>NaN</td>\n",
       "      <td>1.0</td>\n",
       "      <td>1.519388e+09</td>\n",
       "    </tr>\n",
       "  </tbody>\n",
       "</table>\n",
       "<p>1000 rows × 45 columns</p>\n",
       "</div>"
      ],
      "text/plain": [
       "         patient_id  domain 1 encoding  domain 2 encoding  domain 3 encoding  \\\n",
       "5198989    321864.0                0.0                0.0                0.0   \n",
       "4478682    268337.0                0.0                0.0                0.0   \n",
       "108777      16506.0                0.0                0.0                0.0   \n",
       "5428722    333131.0                0.0                0.0                0.0   \n",
       "3125710    191189.0                0.0                0.0                0.0   \n",
       "...             ...                ...                ...                ...   \n",
       "3954103    228753.0                0.0                0.0                0.0   \n",
       "5421291    333131.0                0.0                0.0                0.0   \n",
       "5137134    319140.0                0.0                0.0                0.0   \n",
       "851176      80797.0                0.0                0.0                1.0   \n",
       "1086460     96300.0                1.0                0.0                0.0   \n",
       "\n",
       "         domain 4 encoding  domain 5 encoding  domain 6 encoding  \\\n",
       "5198989                0.0                0.0                0.0   \n",
       "4478682                0.0                0.0                0.0   \n",
       "108777                 0.0                0.0                0.0   \n",
       "5428722                0.0                0.0                0.0   \n",
       "3125710                0.0                0.0                0.0   \n",
       "...                    ...                ...                ...   \n",
       "3954103                1.0                0.0                0.0   \n",
       "5421291                0.0                0.0                0.0   \n",
       "5137134                0.0                0.0                0.0   \n",
       "851176                 0.0                0.0                0.0   \n",
       "1086460                0.0                0.0                0.0   \n",
       "\n",
       "         domain 7 encoding  domain 8 encoding  domain 9 encoding  ...  \\\n",
       "5198989                0.0                0.0                0.0  ...   \n",
       "4478682                0.0                0.0                0.0  ...   \n",
       "108777                 0.0                0.0                0.0  ...   \n",
       "5428722                0.0                0.0                0.0  ...   \n",
       "3125710                0.0                0.0                0.0  ...   \n",
       "...                    ...                ...                ...  ...   \n",
       "3954103                0.0                0.0                0.0  ...   \n",
       "5421291                0.0                0.0                0.0  ...   \n",
       "5137134                0.0                0.0                0.0  ...   \n",
       "851176                 0.0                0.0                0.0  ...   \n",
       "1086460                0.0                0.0                0.0  ...   \n",
       "\n",
       "         domain 7 target  domain 8 target  domain 9 target  domain 10 target  \\\n",
       "5198989            0.022              NaN            0.080             0.454   \n",
       "4478682            0.222            0.000            0.307             0.500   \n",
       "108777             0.950              NaN            1.000             1.000   \n",
       "5428722              NaN              NaN            1.000             0.492   \n",
       "3125710            0.180              NaN            0.260             0.607   \n",
       "...                  ...              ...              ...               ...   \n",
       "3954103              NaN              NaN              NaN               NaN   \n",
       "5421291              NaN              NaN            1.000             0.808   \n",
       "5137134              NaN            0.792              NaN             0.492   \n",
       "851176               NaN            0.466              NaN             0.571   \n",
       "1086460            0.900              NaN              NaN             0.536   \n",
       "\n",
       "         domain 11 target  domain 12 target  domain 13 target  \\\n",
       "5198989              0.80             0.127             0.081   \n",
       "4478682              0.64             0.364             0.644   \n",
       "108777               1.00             0.740             1.000   \n",
       "5428722              0.76             0.333             0.881   \n",
       "3125710              1.00             0.457             0.291   \n",
       "...                   ...               ...               ...   \n",
       "3954103               NaN             0.000               NaN   \n",
       "5421291              1.00             0.449             1.000   \n",
       "5137134              0.40               NaN               NaN   \n",
       "851176                NaN             0.272             0.308   \n",
       "1086460               NaN             0.321             0.333   \n",
       "\n",
       "         domain 14 target  repeat    start_time  \n",
       "5198989             1.000     1.0  1.602174e+09  \n",
       "4478682             0.200     1.0  1.672064e+09  \n",
       "108777                NaN     1.0  1.678826e+09  \n",
       "5428722             0.200     1.0  1.682856e+09  \n",
       "3125710             0.474     1.0  1.546050e+09  \n",
       "...                   ...     ...           ...  \n",
       "3954103               NaN     1.0  1.543280e+09  \n",
       "5421291             0.380     1.0  1.610984e+09  \n",
       "5137134             0.600     1.0  1.595794e+09  \n",
       "851176              0.600     1.0  1.578844e+09  \n",
       "1086460               NaN     1.0  1.519388e+09  \n",
       "\n",
       "[1000 rows x 45 columns]"
      ]
     },
     "execution_count": 301,
     "metadata": {},
     "output_type": "execute_result"
    }
   ],
   "source": [
    "test_data"
   ]
  },
  {
   "cell_type": "code",
   "execution_count": 302,
   "metadata": {},
   "outputs": [],
   "source": [
    "# create missing indicator when given the score data\n",
    "def create_missing_indicator(data):\n",
    "    torch.manual_seed(42)\n",
    "    np.random.seed(42)\n",
    "    random.seed(42)\n",
    "    (l, w) = data.shape\n",
    "    temp = np.zeros((l, w*2))\n",
    "    for i in range(l):\n",
    "        for d in range(w):\n",
    "            p = data[i, d]\n",
    "            # update output array\n",
    "            # if p == 0:\n",
    "            if np.isnan(p):\n",
    "                missing_ind = np.random.choice(2, 1)[0]\n",
    "                temp[i, d*2] = missing_ind\n",
    "                temp[i, d*2+1] = missing_ind\n",
    "            else:\n",
    "                temp[i, d*2] = p # score\n",
    "                temp[i, d*2+1] = 1-p # 1-score\n",
    "    assert not np.isnan(temp).any(), \"nans exists!!!\"\n",
    "    return copy.deepcopy(temp)"
   ]
  },
  {
   "cell_type": "code",
   "execution_count": 303,
   "metadata": {},
   "outputs": [],
   "source": [
    "# given a processed dataframe, return data and target numpy arrays\n",
    "def create_model_data(data : pd.DataFrame):\n",
    "    target = data[target_columns].copy().to_numpy() * data[encoding_columns].copy().to_numpy()\n",
    "    data_scores = create_missing_indicator(data[score_columns].copy().to_numpy())\n",
    "    return data_scores, target"
   ]
  },
  {
   "cell_type": "markdown",
   "metadata": {},
   "source": [
    "Model"
   ]
  },
  {
   "cell_type": "code",
   "execution_count": 304,
   "metadata": {},
   "outputs": [],
   "source": [
    "## input : 14 domain encodings + 14 domains (28 total features with missing indicator)\n",
    "## output: 28 score (prediction for the scores after next domain)\n",
    "## copied from next_step.py, which was used to train the model\n",
    "class NN(torch.nn.Module):\n",
    "    def __init__(self):\n",
    "        super().__init__()\n",
    "        n_domains = 14\n",
    "        \n",
    "        self.model = torch.nn.Sequential(\n",
    "            torch.nn.Linear(n_domains * 3, 100),\n",
    "            torch.nn.Sigmoid(),\n",
    "            torch.nn.Linear(100, n_domains)\n",
    "        )\n",
    "\n",
    "    def forward(self, x):\n",
    "        return self.model(x)\n",
    "\n",
    "# used for batch training\n",
    "class customDataset(Dataset):\n",
    "    def __init__(self, data, target):\n",
    "        super().__init__()\n",
    "        self.data = data\n",
    "        self.target = target\n",
    "\n",
    "    def __len__(self):\n",
    "        return self.data.shape[0]\n",
    "\n",
    "    def __getitem__(self, index):\n",
    "        return self.data[index, :], self.target[index, :]"
   ]
  },
  {
   "cell_type": "code",
   "execution_count": 305,
   "metadata": {},
   "outputs": [],
   "source": [
    "# initialize the model\n",
    "model = NN()\n",
    "model = torch.load(\"output/experiment4/model.pt\", map_location=torch.device('cpu'))"
   ]
  },
  {
   "cell_type": "code",
   "execution_count": 306,
   "metadata": {},
   "outputs": [],
   "source": [
    "# add encoding to scores and return a tensor that can be put directly into the model\n",
    "def add_encoding(scores : np.ndarray, encoding : np.ndarray):\n",
    "    return torch.from_numpy(np.hstack((encoding, scores))).float()"
   ]
  },
  {
   "cell_type": "code",
   "execution_count": 307,
   "metadata": {},
   "outputs": [],
   "source": [
    "# return predictions, loss, and mae\n",
    "def predict(model, x, y):\n",
    "    loss_function = torch.nn.MSELoss()\n",
    "    with torch.no_grad():\n",
    "        predictions = model(x)\n",
    "        loss = loss_function(predictions, y.reshape(predictions.shape))    \n",
    "        return predictions.clone().numpy()"
   ]
  },
  {
   "cell_type": "code",
   "execution_count": 308,
   "metadata": {},
   "outputs": [],
   "source": [
    "def overall_avg_improvement(cur_score, prev_score, encoding):\n",
    "    cur_score = np.nan_to_num(cur_score, nan=0)\n",
    "    prev_score = np.nan_to_num(prev_score, nan=0)\n",
    "    assert cur_score.shape == prev_score.shape and prev_score.shape == encoding.shape\n",
    "    if np.sum(encoding) == 0:\n",
    "        total_improvement = 0\n",
    "        print(\"no sessions\")\n",
    "    else:\n",
    "        total = np.sum(encoding)\n",
    "        total_improvement = np.sum(encoding * cur_score - encoding * prev_score) / total\n",
    "    return total_improvement"
   ]
  },
  {
   "cell_type": "code",
   "execution_count": 309,
   "metadata": {},
   "outputs": [],
   "source": [
    "def random_assignment(data):\n",
    "    # sort by timestamp\n",
    "    data = data.sort_values(by=\"start_time\")\n",
    "    # assign repeat values\n",
    "    seen = dict() # Track repeat status and update scores\n",
    "    repeat_lst = []\n",
    "    for idx, row in data.iterrows():\n",
    "            domain = row[encoding_columns].idxmax()\n",
    "            if domain not in seen:\n",
    "                seen[domain] = 1\n",
    "                repeat_lst.append(0)\n",
    "            else:\n",
    "                repeat_lst.append(1)\n",
    "    data.drop(repeat_columns[0], axis=1, inplace=True)\n",
    "    data[repeat_columns[0]] = repeat_lst    \n",
    "    return data"
   ]
  },
  {
   "cell_type": "markdown",
   "metadata": {},
   "source": [
    "Calculate Ground Truth"
   ]
  },
  {
   "cell_type": "markdown",
   "metadata": {},
   "source": [
    "### prepare data"
   ]
  },
  {
   "cell_type": "code",
   "execution_count": 310,
   "metadata": {},
   "outputs": [],
   "source": [
    "ground_truth_test_data_repeat = test_data[test_data.repeat == 1].copy()\n",
    "ground_truth_test_data_nonrepeat = test_data[test_data.repeat == 0].copy()"
   ]
  },
  {
   "cell_type": "code",
   "execution_count": 311,
   "metadata": {},
   "outputs": [],
   "source": [
    "ground_truth_test_data_n_zeros_repeat = dict() ## a dictionary that stores the data on the key of the number of missing domains\n",
    "for n in range(14):\n",
    "    tmp = filter_n_missing(ground_truth_test_data_repeat, n_missing=n)\n",
    "    ground_truth_test_data_n_zeros_repeat[n] = tmp.copy()"
   ]
  },
  {
   "cell_type": "code",
   "execution_count": 312,
   "metadata": {},
   "outputs": [],
   "source": [
    "ground_truth_test_data_n_zeros_nonrepeat = dict() ## a dictionary that stores the data on the key of the number of missing domains\n",
    "for n in range(14):\n",
    "    tmp = filter_n_missing(ground_truth_test_data_nonrepeat, n_missing=n)\n",
    "    ground_truth_test_data_n_zeros_nonrepeat[n] = tmp.copy()"
   ]
  },
  {
   "cell_type": "code",
   "execution_count": 313,
   "metadata": {},
   "outputs": [
    {
     "data": {
      "text/plain": [
       "(210, 210)"
      ]
     },
     "execution_count": 313,
     "metadata": {},
     "output_type": "execute_result"
    }
   ],
   "source": [
    "np.isnan(ground_truth_test_data_n_zeros_repeat[1][score_columns]).sum().sum(), ground_truth_test_data_n_zeros_repeat[1].shape[0]"
   ]
  },
  {
   "cell_type": "markdown",
   "metadata": {},
   "source": [
    "### plot preparations"
   ]
  },
  {
   "cell_type": "code",
   "execution_count": 314,
   "metadata": {},
   "outputs": [],
   "source": [
    "ground_truth_prediction_dict_repeat = dict() # dictionary that stores the prediction list\n",
    "ground_truth_avg_improvement_lst_repeat = []"
   ]
  },
  {
   "cell_type": "code",
   "execution_count": 315,
   "metadata": {},
   "outputs": [
    {
     "name": "stdout",
     "output_type": "stream",
     "text": [
      "0\n",
      "1\n",
      "2\n",
      "3\n",
      "4\n",
      "5\n",
      "6\n",
      "7\n",
      "8\n",
      "9\n",
      "10\n",
      "11\n",
      "12\n",
      "13\n",
      "no sessions\n"
     ]
    }
   ],
   "source": [
    "# loop through number of domains\n",
    "for n in range(14):\n",
    "    print(n)\n",
    "    tmp = ground_truth_test_data_n_zeros_repeat[n] # set tmp to the data used for this iteration\n",
    "    assert np.isnan(tmp[score_columns]).sum().sum() == tmp.shape[0] * n\n",
    "    x_tmp, y_tmp = create_model_data(tmp) # create scores with missing indicators and target\n",
    "\n",
    "    encoding = tmp[encoding_columns].copy().to_numpy() # encoding\n",
    "    tmp_single = add_encoding(x_tmp, encoding) # add encoding on x_tmp\n",
    "    prediction = predict(model, tmp_single, torch.from_numpy(y_tmp).float())\n",
    "    \n",
    "    ground_truth_prediction_dict_repeat[n] = prediction\n",
    "    ground_truth_avg_improvement_lst_repeat.append(overall_avg_improvement(tmp[target_columns].to_numpy(), ground_truth_test_data_n_zeros_repeat[n][score_columns].to_numpy(), encoding))"
   ]
  },
  {
   "cell_type": "code",
   "execution_count": 320,
   "metadata": {},
   "outputs": [
    {
     "data": {
      "text/plain": [
       "997"
      ]
     },
     "execution_count": 320,
     "metadata": {},
     "output_type": "execute_result"
    }
   ],
   "source": [
    "summ = 0\n",
    "for n in range(14):\n",
    "    summ += ground_truth_test_data_n_zeros_repeat[n].shape[0]\n",
    "\n",
    "summ"
   ]
  },
  {
   "cell_type": "code",
   "execution_count": 323,
   "metadata": {},
   "outputs": [
    {
     "data": {
      "text/html": [
       "<div>\n",
       "<style scoped>\n",
       "    .dataframe tbody tr th:only-of-type {\n",
       "        vertical-align: middle;\n",
       "    }\n",
       "\n",
       "    .dataframe tbody tr th {\n",
       "        vertical-align: top;\n",
       "    }\n",
       "\n",
       "    .dataframe thead th {\n",
       "        text-align: right;\n",
       "    }\n",
       "</style>\n",
       "<table border=\"1\" class=\"dataframe\">\n",
       "  <thead>\n",
       "    <tr style=\"text-align: right;\">\n",
       "      <th></th>\n",
       "      <th>patient_id</th>\n",
       "      <th>domain 1 encoding</th>\n",
       "      <th>domain 2 encoding</th>\n",
       "      <th>domain 3 encoding</th>\n",
       "      <th>domain 4 encoding</th>\n",
       "      <th>domain 5 encoding</th>\n",
       "      <th>domain 6 encoding</th>\n",
       "      <th>domain 7 encoding</th>\n",
       "      <th>domain 8 encoding</th>\n",
       "      <th>domain 9 encoding</th>\n",
       "      <th>...</th>\n",
       "      <th>domain 7 target</th>\n",
       "      <th>domain 8 target</th>\n",
       "      <th>domain 9 target</th>\n",
       "      <th>domain 10 target</th>\n",
       "      <th>domain 11 target</th>\n",
       "      <th>domain 12 target</th>\n",
       "      <th>domain 13 target</th>\n",
       "      <th>domain 14 target</th>\n",
       "      <th>repeat</th>\n",
       "      <th>start_time</th>\n",
       "    </tr>\n",
       "  </thead>\n",
       "  <tbody>\n",
       "    <tr>\n",
       "      <th>5198989</th>\n",
       "      <td>321864.0</td>\n",
       "      <td>0.0</td>\n",
       "      <td>0.0</td>\n",
       "      <td>0.0</td>\n",
       "      <td>0.0</td>\n",
       "      <td>0.0</td>\n",
       "      <td>0.0</td>\n",
       "      <td>0.0</td>\n",
       "      <td>0.0</td>\n",
       "      <td>0.0</td>\n",
       "      <td>...</td>\n",
       "      <td>0.022</td>\n",
       "      <td>NaN</td>\n",
       "      <td>0.080</td>\n",
       "      <td>0.454</td>\n",
       "      <td>0.80</td>\n",
       "      <td>0.127</td>\n",
       "      <td>0.081</td>\n",
       "      <td>1.000</td>\n",
       "      <td>1.0</td>\n",
       "      <td>1.602174e+09</td>\n",
       "    </tr>\n",
       "    <tr>\n",
       "      <th>4478682</th>\n",
       "      <td>268337.0</td>\n",
       "      <td>0.0</td>\n",
       "      <td>0.0</td>\n",
       "      <td>0.0</td>\n",
       "      <td>0.0</td>\n",
       "      <td>0.0</td>\n",
       "      <td>0.0</td>\n",
       "      <td>0.0</td>\n",
       "      <td>0.0</td>\n",
       "      <td>0.0</td>\n",
       "      <td>...</td>\n",
       "      <td>0.222</td>\n",
       "      <td>0.000</td>\n",
       "      <td>0.307</td>\n",
       "      <td>0.500</td>\n",
       "      <td>0.64</td>\n",
       "      <td>0.364</td>\n",
       "      <td>0.644</td>\n",
       "      <td>0.200</td>\n",
       "      <td>1.0</td>\n",
       "      <td>1.672064e+09</td>\n",
       "    </tr>\n",
       "    <tr>\n",
       "      <th>108777</th>\n",
       "      <td>16506.0</td>\n",
       "      <td>0.0</td>\n",
       "      <td>0.0</td>\n",
       "      <td>0.0</td>\n",
       "      <td>0.0</td>\n",
       "      <td>0.0</td>\n",
       "      <td>0.0</td>\n",
       "      <td>0.0</td>\n",
       "      <td>0.0</td>\n",
       "      <td>0.0</td>\n",
       "      <td>...</td>\n",
       "      <td>0.950</td>\n",
       "      <td>NaN</td>\n",
       "      <td>1.000</td>\n",
       "      <td>1.000</td>\n",
       "      <td>1.00</td>\n",
       "      <td>0.740</td>\n",
       "      <td>1.000</td>\n",
       "      <td>NaN</td>\n",
       "      <td>1.0</td>\n",
       "      <td>1.678826e+09</td>\n",
       "    </tr>\n",
       "    <tr>\n",
       "      <th>5428722</th>\n",
       "      <td>333131.0</td>\n",
       "      <td>0.0</td>\n",
       "      <td>0.0</td>\n",
       "      <td>0.0</td>\n",
       "      <td>0.0</td>\n",
       "      <td>0.0</td>\n",
       "      <td>0.0</td>\n",
       "      <td>0.0</td>\n",
       "      <td>0.0</td>\n",
       "      <td>0.0</td>\n",
       "      <td>...</td>\n",
       "      <td>NaN</td>\n",
       "      <td>NaN</td>\n",
       "      <td>1.000</td>\n",
       "      <td>0.492</td>\n",
       "      <td>0.76</td>\n",
       "      <td>0.333</td>\n",
       "      <td>0.881</td>\n",
       "      <td>0.200</td>\n",
       "      <td>1.0</td>\n",
       "      <td>1.682856e+09</td>\n",
       "    </tr>\n",
       "    <tr>\n",
       "      <th>3125710</th>\n",
       "      <td>191189.0</td>\n",
       "      <td>0.0</td>\n",
       "      <td>0.0</td>\n",
       "      <td>0.0</td>\n",
       "      <td>0.0</td>\n",
       "      <td>0.0</td>\n",
       "      <td>0.0</td>\n",
       "      <td>0.0</td>\n",
       "      <td>0.0</td>\n",
       "      <td>0.0</td>\n",
       "      <td>...</td>\n",
       "      <td>0.180</td>\n",
       "      <td>NaN</td>\n",
       "      <td>0.260</td>\n",
       "      <td>0.607</td>\n",
       "      <td>1.00</td>\n",
       "      <td>0.457</td>\n",
       "      <td>0.291</td>\n",
       "      <td>0.474</td>\n",
       "      <td>1.0</td>\n",
       "      <td>1.546050e+09</td>\n",
       "    </tr>\n",
       "    <tr>\n",
       "      <th>...</th>\n",
       "      <td>...</td>\n",
       "      <td>...</td>\n",
       "      <td>...</td>\n",
       "      <td>...</td>\n",
       "      <td>...</td>\n",
       "      <td>...</td>\n",
       "      <td>...</td>\n",
       "      <td>...</td>\n",
       "      <td>...</td>\n",
       "      <td>...</td>\n",
       "      <td>...</td>\n",
       "      <td>...</td>\n",
       "      <td>...</td>\n",
       "      <td>...</td>\n",
       "      <td>...</td>\n",
       "      <td>...</td>\n",
       "      <td>...</td>\n",
       "      <td>...</td>\n",
       "      <td>...</td>\n",
       "      <td>...</td>\n",
       "      <td>...</td>\n",
       "    </tr>\n",
       "    <tr>\n",
       "      <th>3954103</th>\n",
       "      <td>228753.0</td>\n",
       "      <td>0.0</td>\n",
       "      <td>0.0</td>\n",
       "      <td>0.0</td>\n",
       "      <td>1.0</td>\n",
       "      <td>0.0</td>\n",
       "      <td>0.0</td>\n",
       "      <td>0.0</td>\n",
       "      <td>0.0</td>\n",
       "      <td>0.0</td>\n",
       "      <td>...</td>\n",
       "      <td>NaN</td>\n",
       "      <td>NaN</td>\n",
       "      <td>NaN</td>\n",
       "      <td>NaN</td>\n",
       "      <td>NaN</td>\n",
       "      <td>0.000</td>\n",
       "      <td>NaN</td>\n",
       "      <td>NaN</td>\n",
       "      <td>1.0</td>\n",
       "      <td>1.543280e+09</td>\n",
       "    </tr>\n",
       "    <tr>\n",
       "      <th>5421291</th>\n",
       "      <td>333131.0</td>\n",
       "      <td>0.0</td>\n",
       "      <td>0.0</td>\n",
       "      <td>0.0</td>\n",
       "      <td>0.0</td>\n",
       "      <td>0.0</td>\n",
       "      <td>0.0</td>\n",
       "      <td>0.0</td>\n",
       "      <td>0.0</td>\n",
       "      <td>0.0</td>\n",
       "      <td>...</td>\n",
       "      <td>NaN</td>\n",
       "      <td>NaN</td>\n",
       "      <td>1.000</td>\n",
       "      <td>0.808</td>\n",
       "      <td>1.00</td>\n",
       "      <td>0.449</td>\n",
       "      <td>1.000</td>\n",
       "      <td>0.380</td>\n",
       "      <td>1.0</td>\n",
       "      <td>1.610984e+09</td>\n",
       "    </tr>\n",
       "    <tr>\n",
       "      <th>5137134</th>\n",
       "      <td>319140.0</td>\n",
       "      <td>0.0</td>\n",
       "      <td>0.0</td>\n",
       "      <td>0.0</td>\n",
       "      <td>0.0</td>\n",
       "      <td>0.0</td>\n",
       "      <td>0.0</td>\n",
       "      <td>0.0</td>\n",
       "      <td>0.0</td>\n",
       "      <td>0.0</td>\n",
       "      <td>...</td>\n",
       "      <td>NaN</td>\n",
       "      <td>0.792</td>\n",
       "      <td>NaN</td>\n",
       "      <td>0.492</td>\n",
       "      <td>0.40</td>\n",
       "      <td>NaN</td>\n",
       "      <td>NaN</td>\n",
       "      <td>0.600</td>\n",
       "      <td>1.0</td>\n",
       "      <td>1.595794e+09</td>\n",
       "    </tr>\n",
       "    <tr>\n",
       "      <th>851176</th>\n",
       "      <td>80797.0</td>\n",
       "      <td>0.0</td>\n",
       "      <td>0.0</td>\n",
       "      <td>1.0</td>\n",
       "      <td>0.0</td>\n",
       "      <td>0.0</td>\n",
       "      <td>0.0</td>\n",
       "      <td>0.0</td>\n",
       "      <td>0.0</td>\n",
       "      <td>0.0</td>\n",
       "      <td>...</td>\n",
       "      <td>NaN</td>\n",
       "      <td>0.466</td>\n",
       "      <td>NaN</td>\n",
       "      <td>0.571</td>\n",
       "      <td>NaN</td>\n",
       "      <td>0.272</td>\n",
       "      <td>0.308</td>\n",
       "      <td>0.600</td>\n",
       "      <td>1.0</td>\n",
       "      <td>1.578844e+09</td>\n",
       "    </tr>\n",
       "    <tr>\n",
       "      <th>1086460</th>\n",
       "      <td>96300.0</td>\n",
       "      <td>1.0</td>\n",
       "      <td>0.0</td>\n",
       "      <td>0.0</td>\n",
       "      <td>0.0</td>\n",
       "      <td>0.0</td>\n",
       "      <td>0.0</td>\n",
       "      <td>0.0</td>\n",
       "      <td>0.0</td>\n",
       "      <td>0.0</td>\n",
       "      <td>...</td>\n",
       "      <td>0.900</td>\n",
       "      <td>NaN</td>\n",
       "      <td>NaN</td>\n",
       "      <td>0.536</td>\n",
       "      <td>NaN</td>\n",
       "      <td>0.321</td>\n",
       "      <td>0.333</td>\n",
       "      <td>NaN</td>\n",
       "      <td>1.0</td>\n",
       "      <td>1.519388e+09</td>\n",
       "    </tr>\n",
       "  </tbody>\n",
       "</table>\n",
       "<p>997 rows × 45 columns</p>\n",
       "</div>"
      ],
      "text/plain": [
       "         patient_id  domain 1 encoding  domain 2 encoding  domain 3 encoding  \\\n",
       "5198989    321864.0                0.0                0.0                0.0   \n",
       "4478682    268337.0                0.0                0.0                0.0   \n",
       "108777      16506.0                0.0                0.0                0.0   \n",
       "5428722    333131.0                0.0                0.0                0.0   \n",
       "3125710    191189.0                0.0                0.0                0.0   \n",
       "...             ...                ...                ...                ...   \n",
       "3954103    228753.0                0.0                0.0                0.0   \n",
       "5421291    333131.0                0.0                0.0                0.0   \n",
       "5137134    319140.0                0.0                0.0                0.0   \n",
       "851176      80797.0                0.0                0.0                1.0   \n",
       "1086460     96300.0                1.0                0.0                0.0   \n",
       "\n",
       "         domain 4 encoding  domain 5 encoding  domain 6 encoding  \\\n",
       "5198989                0.0                0.0                0.0   \n",
       "4478682                0.0                0.0                0.0   \n",
       "108777                 0.0                0.0                0.0   \n",
       "5428722                0.0                0.0                0.0   \n",
       "3125710                0.0                0.0                0.0   \n",
       "...                    ...                ...                ...   \n",
       "3954103                1.0                0.0                0.0   \n",
       "5421291                0.0                0.0                0.0   \n",
       "5137134                0.0                0.0                0.0   \n",
       "851176                 0.0                0.0                0.0   \n",
       "1086460                0.0                0.0                0.0   \n",
       "\n",
       "         domain 7 encoding  domain 8 encoding  domain 9 encoding  ...  \\\n",
       "5198989                0.0                0.0                0.0  ...   \n",
       "4478682                0.0                0.0                0.0  ...   \n",
       "108777                 0.0                0.0                0.0  ...   \n",
       "5428722                0.0                0.0                0.0  ...   \n",
       "3125710                0.0                0.0                0.0  ...   \n",
       "...                    ...                ...                ...  ...   \n",
       "3954103                0.0                0.0                0.0  ...   \n",
       "5421291                0.0                0.0                0.0  ...   \n",
       "5137134                0.0                0.0                0.0  ...   \n",
       "851176                 0.0                0.0                0.0  ...   \n",
       "1086460                0.0                0.0                0.0  ...   \n",
       "\n",
       "         domain 7 target  domain 8 target  domain 9 target  domain 10 target  \\\n",
       "5198989            0.022              NaN            0.080             0.454   \n",
       "4478682            0.222            0.000            0.307             0.500   \n",
       "108777             0.950              NaN            1.000             1.000   \n",
       "5428722              NaN              NaN            1.000             0.492   \n",
       "3125710            0.180              NaN            0.260             0.607   \n",
       "...                  ...              ...              ...               ...   \n",
       "3954103              NaN              NaN              NaN               NaN   \n",
       "5421291              NaN              NaN            1.000             0.808   \n",
       "5137134              NaN            0.792              NaN             0.492   \n",
       "851176               NaN            0.466              NaN             0.571   \n",
       "1086460            0.900              NaN              NaN             0.536   \n",
       "\n",
       "         domain 11 target  domain 12 target  domain 13 target  \\\n",
       "5198989              0.80             0.127             0.081   \n",
       "4478682              0.64             0.364             0.644   \n",
       "108777               1.00             0.740             1.000   \n",
       "5428722              0.76             0.333             0.881   \n",
       "3125710              1.00             0.457             0.291   \n",
       "...                   ...               ...               ...   \n",
       "3954103               NaN             0.000               NaN   \n",
       "5421291              1.00             0.449             1.000   \n",
       "5137134              0.40               NaN               NaN   \n",
       "851176                NaN             0.272             0.308   \n",
       "1086460               NaN             0.321             0.333   \n",
       "\n",
       "         domain 14 target  repeat    start_time  \n",
       "5198989             1.000     1.0  1.602174e+09  \n",
       "4478682             0.200     1.0  1.672064e+09  \n",
       "108777                NaN     1.0  1.678826e+09  \n",
       "5428722             0.200     1.0  1.682856e+09  \n",
       "3125710             0.474     1.0  1.546050e+09  \n",
       "...                   ...     ...           ...  \n",
       "3954103               NaN     1.0  1.543280e+09  \n",
       "5421291             0.380     1.0  1.610984e+09  \n",
       "5137134             0.600     1.0  1.595794e+09  \n",
       "851176              0.600     1.0  1.578844e+09  \n",
       "1086460               NaN     1.0  1.519388e+09  \n",
       "\n",
       "[997 rows x 45 columns]"
      ]
     },
     "execution_count": 323,
     "metadata": {},
     "output_type": "execute_result"
    }
   ],
   "source": [
    "ground_truth_test_data_repeat"
   ]
  },
  {
   "cell_type": "code",
   "execution_count": 316,
   "metadata": {},
   "outputs": [
    {
     "data": {
      "text/plain": [
       "0"
      ]
     },
     "execution_count": 316,
     "metadata": {},
     "output_type": "execute_result"
    }
   ],
   "source": [
    "ground_truth_avg_improvement_lst_repeat[13]"
   ]
  },
  {
   "cell_type": "code",
   "execution_count": 328,
   "metadata": {},
   "outputs": [],
   "source": [
    "scores = ground_truth_test_data_repeat[score_columns]\n",
    "# Count number of nans in each row\n",
    "missing_count = scores.isna().sum(axis=1)\n",
    "\n",
    "# Filter rows with n_zeros number of zeros\n",
    "filtered_rows = ground_truth_test_data_repeat[missing_count > 12]"
   ]
  },
  {
   "cell_type": "code",
   "execution_count": 317,
   "metadata": {},
   "outputs": [
    {
     "data": {
      "image/png": "[encoded data removed]",
      "text/plain": [
       "<Figure size 640x480 with 1 Axes>"
      ]
     },
     "metadata": {},
     "output_type": "display_data"
    }
   ],
   "source": [
    "plt.figure()\n",
    "plt.plot(range(1,15), ground_truth_avg_improvement_lst_repeat[::-1])\n",
    "plt.xlabel(\"number of known domains\")\n",
    "plt.ylabel(\"average best improvement in score\")\n",
    "plt.title(\"average best improvement for ground truth repeats\")\n",
    "plt.show()"
   ]
  },
  {
   "cell_type": "code",
   "execution_count": 147,
   "metadata": {},
   "outputs": [],
   "source": [
    "ground_truth_prediction_dict_nonrepeat = dict() # dictionary that stores the prediction list\n",
    "ground_truth_avg_improvement_lst_nonrepeat = []"
   ]
  },
  {
   "cell_type": "code",
   "execution_count": null,
   "metadata": {},
   "outputs": [
    {
     "name": "stdout",
     "output_type": "stream",
     "text": [
      "no sessions\n",
      "no sessions\n",
      "no sessions\n",
      "no sessions\n",
      "no sessions\n",
      "no sessions\n",
      "no sessions\n",
      "no sessions\n",
      "no sessions\n",
      "no sessions\n",
      "no sessions\n",
      "no sessions\n",
      "no sessions\n",
      "no sessions\n"
     ]
    }
   ],
   "source": [
    "# loop through number of domains\n",
    "for n in range(14):\n",
    "    print(n)\n",
    "    tmp = ground_truth_test_data_n_zeros_nonrepeat[n] # set tmp to the data used for this iteration\n",
    "    x_tmp, y_tmp = create_model_data(tmp) # create scores with missing indicators and target\n",
    "\n",
    "    encoding = tmp[encoding_columns].copy().to_numpy() # encoding\n",
    "    tmp_single = add_encoding(x_tmp, encoding) # add encoding on x_tmp\n",
    "    prediction, loss, mae = predict(model, tmp_single, torch.from_numpy(y_tmp).float())\n",
    "    \n",
    "    ground_truth_prediction_dict_nonrepeat[n] = prediction\n",
    "    ground_truth_avg_improvement_lst_nonrepeat.append(overall_avg_improvement(tmp[target_columns].to_numpy(), ground_truth_test_data_n_zeros_nonrepeat[n][score_columns].to_numpy(), encoding))"
   ]
  },
  {
   "cell_type": "code",
   "execution_count": 149,
   "metadata": {},
   "outputs": [
    {
     "data": {
      "image/png": "[encoded data removed]",
      "text/plain": [
       "<Figure size 640x480 with 1 Axes>"
      ]
     },
     "metadata": {},
     "output_type": "display_data"
    }
   ],
   "source": [
    "plt.figure()\n",
    "plt.plot(range(1,15), ground_truth_avg_improvement_lst_nonrepeat[::-1])\n",
    "plt.xlabel(\"number of known domains\")\n",
    "plt.ylabel(\"average best improvement in score\")\n",
    "plt.title(\"average best improvement for ground truth nonrepeats\")\n",
    "plt.show()\n",
    "## TODO: double check that this matches the average"
   ]
  },
  {
   "cell_type": "markdown",
   "metadata": {},
   "source": [
    "overall stats"
   ]
  },
  {
   "cell_type": "code",
   "execution_count": 150,
   "metadata": {},
   "outputs": [
    {
     "data": {
      "text/plain": [
       "0.0055"
      ]
     },
     "execution_count": 150,
     "metadata": {},
     "output_type": "execute_result"
    }
   ],
   "source": [
    "overall_avg_improvement(ground_truth_test_data_repeat[target_columns].to_numpy(), ground_truth_test_data_repeat[score_columns].to_numpy(), ground_truth_test_data_repeat[encoding_columns].to_numpy())"
   ]
  },
  {
   "cell_type": "code",
   "execution_count": 151,
   "metadata": {},
   "outputs": [
    {
     "name": "stdout",
     "output_type": "stream",
     "text": [
      "no sessions\n"
     ]
    },
    {
     "data": {
      "text/plain": [
       "0"
      ]
     },
     "execution_count": 151,
     "metadata": {},
     "output_type": "execute_result"
    }
   ],
   "source": [
    "overall_avg_improvement(ground_truth_test_data_nonrepeat[target_columns].to_numpy(), ground_truth_test_data_nonrepeat[score_columns].to_numpy(), ground_truth_test_data_nonrepeat[encoding_columns].to_numpy())"
   ]
  },
  {
   "cell_type": "markdown",
   "metadata": {},
   "source": [
    "Predict Random"
   ]
  },
  {
   "cell_type": "code",
   "execution_count": 152,
   "metadata": {},
   "outputs": [],
   "source": [
    "# take in a dataframe of a patient's session, extract information useful for training\n",
    "def create_random_data(data: pd.DataFrame):\n",
    "    # Initialize variables\n",
    "    session_row = [] # contents of a row (patient id, encoding, cur score, prev score, repeat)\n",
    "    overall = [] # aggregate of everything (n sessions x 44)\n",
    "\n",
    "    cur_score = np.zeros((14)) # score for each session\n",
    "    cur_score.fill(np.nan)\n",
    "    prev_score = None\n",
    "\n",
    "    # seen = {} # dictionary for seen\n",
    "    patient_id = data[\"patient_id\"].iloc[0] # save patient_id\n",
    "\n",
    "    # Sort data by session start time\n",
    "    data = data.sort_values(by=[\"start_time\"])\n",
    "\n",
    "    # Process each row\n",
    "    for idx, row in data.iterrows():\n",
    "        domains, domain_scores = process_row(row)  # returns a list of domains : int and of domain_scores : float\n",
    "        domain = np.random.choice(14, 1)[0] # choose a random domain instead\n",
    "\n",
    "        # Track repeat status and update scores\n",
    "        if prev_score is None:\n",
    "            repeat = False\n",
    "        else:\n",
    "            # find if domain already has a score\n",
    "            next_domain_score = prev_score[domain]\n",
    "            if np.isnan(next_domain_score): repeat = False\n",
    "            else: repeat = True\n",
    "        # repeat = False\n",
    "\n",
    "        # for j, domain in enumerate(domains):\n",
    "        # if domain not in seen:\n",
    "        #     seen[domain] = True\n",
    "        # else:\n",
    "        #     repeat = True\n",
    "        \n",
    "        for j, domain in enumerate(domains):\n",
    "            cur_score[domain - 1] = domain_scores[j] # update score in the loop\n",
    "\n",
    "        # Encode domains for this session\n",
    "        domain_encoding = np.zeros(14)\n",
    "        domain_encoding[domain - 1] = 1\n",
    "        \n",
    "        \n",
    "\n",
    "        # if the session does not contain the target domain or is the first (no prev score), continue in the loop without doing anything, do this before appending\n",
    "        if prev_score is None:\n",
    "            session_row = []\n",
    "            prev_score = cur_score.copy()\n",
    "            continue\n",
    "        # assert np.sum(domain_encoding) != 1, \"continue not working\"\n",
    "\n",
    "        # append everything in the row list\n",
    "        session_row.append(patient_id)\n",
    "        session_row.extend(domain_encoding.copy().tolist()) #encoding\n",
    "        session_row.extend(prev_score.copy().tolist()) # score\n",
    "        session_row.extend(cur_score.copy().tolist())# target\n",
    "        session_row.append(repeat)\n",
    "        session_row.append(row[\"start_time\"].timestamp())\n",
    "        assert len(session_row) == 45, \"session row length incorrect\"\n",
    "\n",
    "        # append row to overall, reset\n",
    "        overall.append(session_row)\n",
    "        session_row = []\n",
    "        prev_score = cur_score.copy()\n",
    "\n",
    "    # Convert to numpy arrays\n",
    "    if overall:\n",
    "        overall = np.array(overall)\n",
    "        assert len(overall.shape) == 2, \"dimensions of overall wrong\"\n",
    "    else:\n",
    "        # Handle case where scores is empty\n",
    "        return pd.DataFrame(columns=[\"patient_id\"] + [\"domain %d encoding\" % i for i in range(1, 15)] +\n",
    "                                   [\"domain %d score\" % i for i in range(1, 15)] +\n",
    "                                   [\"domain %d target\" % i for i in range(1, 15)] +\n",
    "                                   [\"repeat\"] +\n",
    "                                   [\"start_time\"])\n",
    "    \n",
    "        # Create column names\n",
    "    column_names = (\n",
    "        [\"patient_id\"]\n",
    "        + [f\"domain {i} encoding\" for i in range(1, 15)]\n",
    "        + [f\"domain {i} score\" for i in range(1, 15)]\n",
    "        + [f\"domain {i} target\" for i in range(1, 15)]\n",
    "        + [\"repeat\"]\n",
    "        + [\"start_time\"]\n",
    "    )\n",
    "\n",
    "    # Create dataframe\n",
    "    scores_df = pd.DataFrame(overall, columns=column_names)\n",
    "    scores_df.reset_index(drop=True, inplace=True)\n",
    "    return scores_df"
   ]
  },
  {
   "cell_type": "code",
   "execution_count": 153,
   "metadata": {},
   "outputs": [],
   "source": [
    "def create_random_encoding(shape):\n",
    "    torch.manual_seed(42)\n",
    "    np.random.seed(42)\n",
    "    random.seed(42)\n",
    "    # Get matrix dimensions\n",
    "    rows, cols = shape\n",
    "    # Create a zero matrix\n",
    "    encoding = np.zeros((rows, cols), dtype=int)\n",
    "    # Generate a random column index for each row\n",
    "    col_indices = np.random.randint(0, cols, size=rows)  # Shape (100000,)\n",
    "    # Assign 1s at the randomly selected column indices\n",
    "    encoding[np.arange(rows), col_indices] = 1\n",
    "    return encoding"
   ]
  },
  {
   "cell_type": "code",
   "execution_count": 154,
   "metadata": {},
   "outputs": [],
   "source": [
    "def find_random_predictions(data):\n",
    "    x, y = create_model_data(data) # create scores with missing indicators and target\n",
    "    e = data[encoding_columns].to_numpy()\n",
    "    x_random = add_encoding(x, e)\n",
    "    predictions, loss, mae = predict(model, x_random, torch.from_numpy(y).float())\n",
    "    return predictions, e"
   ]
  },
  {
   "cell_type": "code",
   "execution_count": 155,
   "metadata": {},
   "outputs": [],
   "source": [
    "def random_repeat_assignment(data):\n",
    "    # replace encoding\n",
    "    encoding = create_random_encoding(data[encoding_columns].shape)\n",
    "    data[encoding_columns] = encoding\n",
    "    # assign repeat\n",
    "    data = data.groupby(\"patient_id\")[data.columns].apply(random_assignment).reset_index(drop=True)\n",
    "    return data"
   ]
  },
  {
   "cell_type": "code",
   "execution_count": 156,
   "metadata": {},
   "outputs": [
    {
     "data": {
      "text/html": [
       "<div>\n",
       "<style scoped>\n",
       "    .dataframe tbody tr th:only-of-type {\n",
       "        vertical-align: middle;\n",
       "    }\n",
       "\n",
       "    .dataframe tbody tr th {\n",
       "        vertical-align: top;\n",
       "    }\n",
       "\n",
       "    .dataframe thead th {\n",
       "        text-align: right;\n",
       "    }\n",
       "</style>\n",
       "<table border=\"1\" class=\"dataframe\">\n",
       "  <thead>\n",
       "    <tr style=\"text-align: right;\">\n",
       "      <th></th>\n",
       "      <th>patient_id</th>\n",
       "      <th>domain 1 encoding</th>\n",
       "      <th>domain 2 encoding</th>\n",
       "      <th>domain 3 encoding</th>\n",
       "      <th>domain 4 encoding</th>\n",
       "      <th>domain 5 encoding</th>\n",
       "      <th>domain 6 encoding</th>\n",
       "      <th>domain 7 encoding</th>\n",
       "      <th>domain 8 encoding</th>\n",
       "      <th>domain 9 encoding</th>\n",
       "      <th>...</th>\n",
       "      <th>domain 7 target</th>\n",
       "      <th>domain 8 target</th>\n",
       "      <th>domain 9 target</th>\n",
       "      <th>domain 10 target</th>\n",
       "      <th>domain 11 target</th>\n",
       "      <th>domain 12 target</th>\n",
       "      <th>domain 13 target</th>\n",
       "      <th>domain 14 target</th>\n",
       "      <th>repeat</th>\n",
       "      <th>start_time</th>\n",
       "    </tr>\n",
       "  </thead>\n",
       "  <tbody>\n",
       "  </tbody>\n",
       "</table>\n",
       "<p>0 rows × 45 columns</p>\n",
       "</div>"
      ],
      "text/plain": [
       "Empty DataFrame\n",
       "Columns: [patient_id, domain 1 encoding, domain 2 encoding, domain 3 encoding, domain 4 encoding, domain 5 encoding, domain 6 encoding, domain 7 encoding, domain 8 encoding, domain 9 encoding, domain 10 encoding, domain 11 encoding, domain 12 encoding, domain 13 encoding, domain 14 encoding, domain 1 score, domain 2 score, domain 3 score, domain 4 score, domain 5 score, domain 6 score, domain 7 score, domain 8 score, domain 9 score, domain 10 score, domain 11 score, domain 12 score, domain 13 score, domain 14 score, domain 1 target, domain 2 target, domain 3 target, domain 4 target, domain 5 target, domain 6 target, domain 7 target, domain 8 target, domain 9 target, domain 10 target, domain 11 target, domain 12 target, domain 13 target, domain 14 target, repeat, start_time]\n",
       "Index: []\n",
       "\n",
       "[0 rows x 45 columns]"
      ]
     },
     "execution_count": 156,
     "metadata": {},
     "output_type": "execute_result"
    }
   ],
   "source": [
    "temp = test_data.copy()\n",
    "temp = temp[temp.patient_id == 2171.0].head()\n",
    "temp"
   ]
  },
  {
   "cell_type": "code",
   "execution_count": 157,
   "metadata": {},
   "outputs": [],
   "source": [
    "encoding = create_random_encoding(temp[encoding_columns].shape)"
   ]
  },
  {
   "cell_type": "code",
   "execution_count": 158,
   "metadata": {},
   "outputs": [
    {
     "data": {
      "text/html": [
       "<div>\n",
       "<style scoped>\n",
       "    .dataframe tbody tr th:only-of-type {\n",
       "        vertical-align: middle;\n",
       "    }\n",
       "\n",
       "    .dataframe tbody tr th {\n",
       "        vertical-align: top;\n",
       "    }\n",
       "\n",
       "    .dataframe thead th {\n",
       "        text-align: right;\n",
       "    }\n",
       "</style>\n",
       "<table border=\"1\" class=\"dataframe\">\n",
       "  <thead>\n",
       "    <tr style=\"text-align: right;\">\n",
       "      <th></th>\n",
       "      <th>domain 1 encoding</th>\n",
       "      <th>domain 2 encoding</th>\n",
       "      <th>domain 3 encoding</th>\n",
       "      <th>domain 4 encoding</th>\n",
       "      <th>domain 5 encoding</th>\n",
       "      <th>domain 6 encoding</th>\n",
       "      <th>domain 7 encoding</th>\n",
       "      <th>domain 8 encoding</th>\n",
       "      <th>domain 9 encoding</th>\n",
       "      <th>domain 10 encoding</th>\n",
       "      <th>domain 11 encoding</th>\n",
       "      <th>domain 12 encoding</th>\n",
       "      <th>domain 13 encoding</th>\n",
       "      <th>domain 14 encoding</th>\n",
       "    </tr>\n",
       "  </thead>\n",
       "  <tbody>\n",
       "  </tbody>\n",
       "</table>\n",
       "</div>"
      ],
      "text/plain": [
       "Empty DataFrame\n",
       "Columns: [domain 1 encoding, domain 2 encoding, domain 3 encoding, domain 4 encoding, domain 5 encoding, domain 6 encoding, domain 7 encoding, domain 8 encoding, domain 9 encoding, domain 10 encoding, domain 11 encoding, domain 12 encoding, domain 13 encoding, domain 14 encoding]\n",
       "Index: []"
      ]
     },
     "execution_count": 158,
     "metadata": {},
     "output_type": "execute_result"
    }
   ],
   "source": [
    "temp[encoding_columns]"
   ]
  },
  {
   "cell_type": "code",
   "execution_count": 159,
   "metadata": {},
   "outputs": [],
   "source": [
    "temp[encoding_columns] = encoding"
   ]
  },
  {
   "cell_type": "code",
   "execution_count": 160,
   "metadata": {},
   "outputs": [
    {
     "data": {
      "text/plain": [
       "array([], shape=(0, 14), dtype=int64)"
      ]
     },
     "execution_count": 160,
     "metadata": {},
     "output_type": "execute_result"
    }
   ],
   "source": [
    "encoding"
   ]
  },
  {
   "cell_type": "code",
   "execution_count": 161,
   "metadata": {},
   "outputs": [
    {
     "data": {
      "text/html": [
       "<div>\n",
       "<style scoped>\n",
       "    .dataframe tbody tr th:only-of-type {\n",
       "        vertical-align: middle;\n",
       "    }\n",
       "\n",
       "    .dataframe tbody tr th {\n",
       "        vertical-align: top;\n",
       "    }\n",
       "\n",
       "    .dataframe thead th {\n",
       "        text-align: right;\n",
       "    }\n",
       "</style>\n",
       "<table border=\"1\" class=\"dataframe\">\n",
       "  <thead>\n",
       "    <tr style=\"text-align: right;\">\n",
       "      <th></th>\n",
       "      <th>domain 1 encoding</th>\n",
       "      <th>domain 2 encoding</th>\n",
       "      <th>domain 3 encoding</th>\n",
       "      <th>domain 4 encoding</th>\n",
       "      <th>domain 5 encoding</th>\n",
       "      <th>domain 6 encoding</th>\n",
       "      <th>domain 7 encoding</th>\n",
       "      <th>domain 8 encoding</th>\n",
       "      <th>domain 9 encoding</th>\n",
       "      <th>domain 10 encoding</th>\n",
       "      <th>domain 11 encoding</th>\n",
       "      <th>domain 12 encoding</th>\n",
       "      <th>domain 13 encoding</th>\n",
       "      <th>domain 14 encoding</th>\n",
       "    </tr>\n",
       "  </thead>\n",
       "  <tbody>\n",
       "  </tbody>\n",
       "</table>\n",
       "</div>"
      ],
      "text/plain": [
       "Empty DataFrame\n",
       "Columns: [domain 1 encoding, domain 2 encoding, domain 3 encoding, domain 4 encoding, domain 5 encoding, domain 6 encoding, domain 7 encoding, domain 8 encoding, domain 9 encoding, domain 10 encoding, domain 11 encoding, domain 12 encoding, domain 13 encoding, domain 14 encoding]\n",
       "Index: []"
      ]
     },
     "execution_count": 161,
     "metadata": {},
     "output_type": "execute_result"
    }
   ],
   "source": [
    "temp[encoding_columns]"
   ]
  },
  {
   "cell_type": "code",
   "execution_count": 162,
   "metadata": {},
   "outputs": [],
   "source": [
    "random_test_data = df.groupby(\"patient_id\")[df.columns].apply(create_random_data).reset_index(drop=True)"
   ]
  },
  {
   "cell_type": "code",
   "execution_count": 163,
   "metadata": {},
   "outputs": [],
   "source": [
    "random_test_data_repeat = random_test_data[random_test_data.repeat == 1].copy()\n",
    "random_test_data_nonrepeat = random_test_data[random_test_data.repeat == 0].copy()"
   ]
  },
  {
   "cell_type": "code",
   "execution_count": 164,
   "metadata": {},
   "outputs": [],
   "source": [
    "random_x_test_repeat, random_y_test_repeat = create_model_data(random_test_data_repeat)\n",
    "random_x_test_nonrepeat, random_y_test_nonrepeat = create_model_data(random_test_data_nonrepeat)"
   ]
  },
  {
   "cell_type": "code",
   "execution_count": 165,
   "metadata": {},
   "outputs": [],
   "source": [
    "random_test_data_n_zeros_repeat = dict() ## a dictionary that stores the data on the key of the number of missing domains\n",
    "for n in range(14):\n",
    "    tmp = filter_n_missing(random_test_data_repeat, n_missing=n)\n",
    "    random_test_data_n_zeros_repeat[n] = tmp.copy()"
   ]
  },
  {
   "cell_type": "code",
   "execution_count": 166,
   "metadata": {},
   "outputs": [],
   "source": [
    "random_prediction_dict_repeat = dict() # dictionary that stores the prediction list\n",
    "random_avg_improvement_lst_repeat = []"
   ]
  },
  {
   "cell_type": "code",
   "execution_count": 168,
   "metadata": {},
   "outputs": [],
   "source": [
    "# loop through number of domains\n",
    "for n in range(14):\n",
    "    tmp = random_test_data_n_zeros_repeat[n] # set tmp to the data used for this iteration\n",
    "\n",
    "    encoding = tmp[encoding_columns]\n",
    "    prediction, encoding = find_random_predictions(tmp)\n",
    "    \n",
    "    random_prediction_dict_repeat[n] = prediction\n",
    "    random_avg_improvement_lst_repeat.append(overall_avg_improvement(prediction, random_test_data_n_zeros_repeat[n][score_columns].to_numpy(), encoding))"
   ]
  },
  {
   "cell_type": "code",
   "execution_count": 169,
   "metadata": {},
   "outputs": [
    {
     "data": {
      "text/plain": [
       "-0.004004904584843019"
      ]
     },
     "execution_count": 169,
     "metadata": {},
     "output_type": "execute_result"
    }
   ],
   "source": [
    "random_prediction_repeat, random_encoding_repeat = find_random_predictions(random_test_data_repeat)\n",
    "overall_avg_improvement(random_prediction_repeat, random_test_data_repeat[score_columns].to_numpy(), random_encoding_repeat)"
   ]
  },
  {
   "cell_type": "code",
   "execution_count": 170,
   "metadata": {},
   "outputs": [
    {
     "data": {
      "image/png": "[encoded data removed]",
      "text/plain": [
       "<Figure size 640x480 with 1 Axes>"
      ]
     },
     "metadata": {},
     "output_type": "display_data"
    }
   ],
   "source": [
    "plt.figure()\n",
    "plt.plot(range(1,15), random_avg_improvement_lst_repeat[::-1])\n",
    "plt.xlabel(\"number of known domains\")\n",
    "plt.ylabel(\"average best improvement in score\")\n",
    "plt.title(\"average best improvement for random repeats\")\n",
    "plt.show()"
   ]
  },
  {
   "cell_type": "code",
   "execution_count": 171,
   "metadata": {},
   "outputs": [],
   "source": [
    "random_prediction_dict_nonrepeat = dict() # dictionary that stores the prediction list\n",
    "random_avg_improvement_lst_nonrepeat = []"
   ]
  },
  {
   "cell_type": "code",
   "execution_count": 172,
   "metadata": {},
   "outputs": [],
   "source": [
    "random_test_data_n_zeros_nonrepeat = dict() ## a dictionary that stores the data on the key of the number of missing domains\n",
    "for n in range(14):\n",
    "    tmp = filter_n_missing(random_test_data_nonrepeat, n_missing=n)\n",
    "    random_test_data_n_zeros_nonrepeat[n] = tmp.copy()"
   ]
  },
  {
   "cell_type": "code",
   "execution_count": 173,
   "metadata": {},
   "outputs": [
    {
     "name": "stdout",
     "output_type": "stream",
     "text": [
      "no sessions\n"
     ]
    }
   ],
   "source": [
    "# loop through number of domains\n",
    "for n in range(14):\n",
    "    tmp = random_test_data_n_zeros_nonrepeat[n] # set tmp to the data used for this iteration\n",
    "\n",
    "    prediction, encoding = find_random_predictions(tmp)\n",
    "    \n",
    "    random_prediction_dict_nonrepeat[n] = prediction\n",
    "    random_avg_improvement_lst_nonrepeat.append(overall_avg_improvement(prediction, random_test_data_n_zeros_nonrepeat[n][score_columns].to_numpy(), encoding))"
   ]
  },
  {
   "cell_type": "code",
   "execution_count": 174,
   "metadata": {},
   "outputs": [
    {
     "data": {
      "text/plain": [
       "0.000908459656946316"
      ]
     },
     "execution_count": 174,
     "metadata": {},
     "output_type": "execute_result"
    }
   ],
   "source": [
    "random_prediction_nonrepeat, random_encoding_nonrepeat = find_random_predictions(random_test_data_nonrepeat)\n",
    "overall_avg_improvement(random_prediction_nonrepeat, random_test_data_nonrepeat[score_columns].to_numpy(), random_encoding_nonrepeat)"
   ]
  },
  {
   "cell_type": "code",
   "execution_count": 175,
   "metadata": {},
   "outputs": [
    {
     "data": {
      "image/png": "[encoded data removed]",
      "text/plain": [
       "<Figure size 640x480 with 1 Axes>"
      ]
     },
     "metadata": {},
     "output_type": "display_data"
    }
   ],
   "source": [
    "plt.figure()\n",
    "plt.plot(range(1,15), random_avg_improvement_lst_nonrepeat[::-1])\n",
    "plt.xlabel(\"number of known domains\")\n",
    "plt.ylabel(\"average best improvement in score\")\n",
    "plt.title(\"average best improvement for random nonrepeats\")\n",
    "plt.show()"
   ]
  },
  {
   "cell_type": "markdown",
   "metadata": {},
   "source": [
    "Predict Best"
   ]
  },
  {
   "cell_type": "code",
   "execution_count": 176,
   "metadata": {},
   "outputs": [],
   "source": [
    "def create_single_encoding(rows, cols, column_index):\n",
    "    if column_index < 0 or column_index >= cols:\n",
    "        raise ValueError(\"Column index is out of bounds.\")\n",
    "\n",
    "    # Create a zero matrix\n",
    "    matrix = np.zeros((rows, cols), dtype=int)\n",
    "\n",
    "    # Set all values in the specified column to 1\n",
    "    matrix[:, column_index] = 1\n",
    "\n",
    "    return matrix"
   ]
  },
  {
   "cell_type": "code",
   "execution_count": 177,
   "metadata": {},
   "outputs": [],
   "source": [
    "def predict_all_domains(x, y):\n",
    "    prediction_list = []\n",
    "    rows, cols = y.shape\n",
    "    # loop through fourteen domains, get the predictions and store the predictions for that domain only in a list\n",
    "    for domain in range(14):\n",
    "        encoding = create_single_encoding(rows, cols, domain)\n",
    "        x_single = add_encoding(x, encoding)\n",
    "        single_prediction, loss, mae = predict(model, x_single, torch.from_numpy(y).float())\n",
    "        prediction_list.append(single_prediction[:, domain])\n",
    "    return prediction_list"
   ]
  },
  {
   "cell_type": "code",
   "execution_count": 178,
   "metadata": {},
   "outputs": [],
   "source": [
    "def find_best_idx_pred(x, y, original):\n",
    "    prediction_lst = predict_all_domains(x, y)\n",
    "    prediction_matrix = np.column_stack(prediction_lst)  # Shape: (100000, 14)\n",
    "    difference = prediction_matrix - original\n",
    "    # Find the index of the max difference for each row\n",
    "    max_indices = np.argmax(difference, axis=1)  # Shape: (100000,)\n",
    "    rows, cols = y.shape\n",
    "    # Create a zero matrix of shape (100000, 14)\n",
    "    encoding = np.zeros((rows, cols), dtype=int)\n",
    "    # Assign 1s at the max_indices positions to create the full encoding matrix with best domains\n",
    "    encoding[np.arange(rows), max_indices] = 1\n",
    "    # create a zero matrix of shape (100000, 14)\n",
    "    predictions = np.zeros((rows, cols), dtype=prediction_matrix.dtype)  # Keep same data type\n",
    "    # Fill in the max values at their corresponding positions\n",
    "    predictions[np.arange(rows), max_indices] = prediction_matrix[np.arange(rows), max_indices]\n",
    "    return encoding, predictions"
   ]
  },
  {
   "cell_type": "code",
   "execution_count": 179,
   "metadata": {},
   "outputs": [],
   "source": [
    "def best_repeat_assignment(data_dict, encoding_dict, pred_dict):\n",
    "    # replace encoding\n",
    "    for key, val in data_dict.items():\n",
    "         val[encoding_columns] = encoding_dict[key]\n",
    "         val[target_columns] = pred_dict[key]\n",
    "    # combine data\n",
    "    combined_data = pd.concat(data_dict.values(), ignore_index=True)\n",
    "    # assign repeat\n",
    "    combined_data = combined_data.groupby(\"patient_id\")[combined_data.columns].apply(random_assignment).reset_index(drop=True)\n",
    "    return combined_data"
   ]
  },
  {
   "cell_type": "code",
   "execution_count": 180,
   "metadata": {},
   "outputs": [],
   "source": [
    "best_test_data = test_data.copy()"
   ]
  },
  {
   "cell_type": "code",
   "execution_count": 181,
   "metadata": {},
   "outputs": [],
   "source": [
    "best_prediction_dict = dict() # dictionary that stores the prediction lists, key = number of domains missing\n",
    "best_encoding_dict = dict() # dictionary that stores the best encoding, key = number of domains missing"
   ]
  },
  {
   "cell_type": "code",
   "execution_count": 182,
   "metadata": {},
   "outputs": [],
   "source": [
    "best_test_data_n_zeros = dict() ## a dictionary that stores the data on the key of the number of missing domains\n",
    "for n in range(14):\n",
    "    tmp = filter_n_missing(best_test_data, n_missing=n)\n",
    "    best_test_data_n_zeros[n] = tmp.copy()"
   ]
  },
  {
   "cell_type": "code",
   "execution_count": 183,
   "metadata": {},
   "outputs": [],
   "source": [
    "# loop through number of domains, add a list of predictions (len == 14) to best_prediction_dict\n",
    "for n in range(14):\n",
    "    tmp = best_test_data_n_zeros[n] # set tmp to the data used for this iteration\n",
    "    x_tmp, y_tmp = create_model_data(tmp) # create scores with missing indicators and target\n",
    "    rows, cols = y_tmp.shape\n",
    "    prediction_list = []\n",
    "    # loop through fourteen domains, get the predictions and store the predictions for that domain only in a list\n",
    "    for domain in range(14):\n",
    "        encoding = create_single_encoding(rows, cols, domain)\n",
    "        tmp_single = add_encoding(x_tmp, encoding)\n",
    "        single_prediction, loss, mae = predict(model, tmp_single, torch.from_numpy(y_tmp).float())\n",
    "        prediction_list.append(single_prediction[:, domain])\n",
    "    \n",
    "    best_prediction_dict[n] = prediction_list"
   ]
  },
  {
   "cell_type": "code",
   "execution_count": 184,
   "metadata": {},
   "outputs": [],
   "source": [
    "# loop through number of domains, for each set (data with n domains missing), find the best encoding and best predictions\n",
    "for n in range(14):\n",
    "    prediction_matrix = np.column_stack(best_prediction_dict[n])  # Shape: (100000, 14)\n",
    "    difference = prediction_matrix - best_test_data_n_zeros[n][score_columns].to_numpy()\n",
    "    rows, cols = prediction_matrix.shape\n",
    "    # Find the index of the max difference for each row\n",
    "    max_indices = np.argmax(difference, axis=1)  # Shape: (100000,)\n",
    "    # Create a zero matrix of shape (100000, 14)\n",
    "    best_encoding = np.zeros((rows, cols), dtype=int)\n",
    "    # Assign 1s at the max_indices positions to create the full encoding matrix with best domains\n",
    "    best_encoding[np.arange(rows), max_indices] = 1\n",
    "    best_encoding_dict[n] = best_encoding\n",
    "    # create a zero matrix of shape (100000, 14)\n",
    "    best_predictions = np.zeros((rows, cols), dtype=prediction_matrix.dtype)  # Keep same data type\n",
    "    # Fill in the max values at their corresponding positions\n",
    "    best_predictions[np.arange(rows), max_indices] = prediction_matrix[np.arange(rows), max_indices]\n",
    "    best_prediction_dict[n] = best_predictions"
   ]
  },
  {
   "cell_type": "code",
   "execution_count": 185,
   "metadata": {},
   "outputs": [],
   "source": [
    "best_data = best_repeat_assignment(best_test_data_n_zeros, best_encoding_dict, best_prediction_dict)"
   ]
  },
  {
   "cell_type": "code",
   "execution_count": 186,
   "metadata": {},
   "outputs": [],
   "source": [
    "best_avg_improvement_lst_repeat = []\n",
    "best_avg_improvement_lst_nonrepeat = []"
   ]
  },
  {
   "cell_type": "code",
   "execution_count": 187,
   "metadata": {},
   "outputs": [
    {
     "name": "stdout",
     "output_type": "stream",
     "text": [
      "no sessions\n",
      "no sessions\n",
      "no sessions\n",
      "no sessions\n",
      "no sessions\n",
      "no sessions\n",
      "no sessions\n",
      "no sessions\n",
      "no sessions\n",
      "no sessions\n",
      "no sessions\n",
      "no sessions\n",
      "no sessions\n",
      "no sessions\n",
      "no sessions\n",
      "no sessions\n",
      "no sessions\n"
     ]
    }
   ],
   "source": [
    "for n in range(14):\n",
    "    tmp = filter_n_missing(best_data, n_missing=n)\n",
    "    tmp_repeat = tmp[tmp.repeat == 1].copy()\n",
    "    tmp_nonrepeat = tmp[tmp.repeat == 0].copy()\n",
    "    best_avg_improvement_lst_repeat.append(overall_avg_improvement(tmp_repeat[target_columns].to_numpy(), tmp_repeat[score_columns].to_numpy(), tmp_repeat[encoding_columns].to_numpy()))\n",
    "    best_avg_improvement_lst_nonrepeat.append(overall_avg_improvement(tmp_nonrepeat[target_columns].to_numpy(), tmp_nonrepeat[score_columns].to_numpy(), tmp_nonrepeat[encoding_columns].to_numpy()))"
   ]
  },
  {
   "cell_type": "code",
   "execution_count": 188,
   "metadata": {},
   "outputs": [
    {
     "data": {
      "image/png": "[encoded data removed]",
      "text/plain": [
       "<Figure size 640x480 with 1 Axes>"
      ]
     },
     "metadata": {},
     "output_type": "display_data"
    }
   ],
   "source": [
    "plt.figure()\n",
    "plt.plot(range(1,15), best_avg_improvement_lst_repeat[::-1], label=\"best\")\n",
    "plt.plot(range(1,15), random_avg_improvement_lst_repeat[::-1], label=\"random\")\n",
    "plt.plot(range(1,15), ground_truth_avg_improvement_lst_repeat[::-1], label=\"ground truth\")\n",
    "plt.xlabel(\"number of known domains\")\n",
    "plt.ylabel(\"average best improvement in score\")\n",
    "plt.title(\"repeats\")\n",
    "plt.legend()\n",
    "plt.show()"
   ]
  },
  {
   "cell_type": "code",
   "execution_count": 189,
   "metadata": {},
   "outputs": [
    {
     "data": {
      "image/png": "[encoded data removed]",
      "text/plain": [
       "<Figure size 640x480 with 1 Axes>"
      ]
     },
     "metadata": {},
     "output_type": "display_data"
    }
   ],
   "source": [
    "plt.figure()\n",
    "plt.plot(range(1,15), best_avg_improvement_lst_nonrepeat[::-1], label=\"best\")\n",
    "plt.plot(range(1,15), random_avg_improvement_lst_nonrepeat[::-1], label=\"random\")\n",
    "plt.plot(range(1,15), ground_truth_avg_improvement_lst_nonrepeat[::-1], label=\"ground truth\")\n",
    "plt.xlabel(\"number of known domains\")\n",
    "plt.ylabel(\"average best improvement in score for non repeat\")\n",
    "plt.title(\"nonrepeats\")\n",
    "plt.legend()\n",
    "plt.show()"
   ]
  },
  {
   "cell_type": "markdown",
   "metadata": {},
   "source": [
    "debugging stuff"
   ]
  },
  {
   "cell_type": "code",
   "execution_count": 190,
   "metadata": {},
   "outputs": [],
   "source": [
    "tmp = filter_n_missing(best_data, n_missing=13)\n",
    "tmp_nonrepeat = tmp[tmp.repeat == 0].copy()"
   ]
  },
  {
   "cell_type": "code",
   "execution_count": 191,
   "metadata": {},
   "outputs": [],
   "source": [
    "tmp = filter_n_missing(best_test_data, n_missing=1)\n",
    "tmp_nonrepeat = tmp[tmp.repeat == 0].copy()"
   ]
  },
  {
   "cell_type": "code",
   "execution_count": 192,
   "metadata": {},
   "outputs": [],
   "source": [
    "domain = tmp_nonrepeat[encoding_columns].idxmax(axis=1)\n",
    "missing_score = tmp_nonrepeat.columns[tmp_nonrepeat.isna().any()]"
   ]
  },
  {
   "cell_type": "code",
   "execution_count": 193,
   "metadata": {},
   "outputs": [],
   "source": [
    "tmp1 = filter_n_missing(best_data, n_missing=13)\n",
    "tmp_nonrepeat = tmp1[tmp1.repeat == 1].copy()\n",
    "x_tmp1, y_tmp1 = create_model_data(tmp_nonrepeat) # create scores with missing indicators and target\n",
    "\n",
    "encoding1 = tmp_nonrepeat[encoding_columns].copy().to_numpy() # encoding\n",
    "tmp_single1 = add_encoding(x_tmp1, encoding1) # add encoding on x_tmp\n",
    "prediction1, loss, mae = predict(model, tmp_single1, torch.from_numpy(y_tmp1).float())"
   ]
  },
  {
   "cell_type": "code",
   "execution_count": 194,
   "metadata": {},
   "outputs": [],
   "source": [
    "tmp = ground_truth_test_data_n_zeros_nonrepeat[13] # set tmp to the data used for this iteration\n",
    "x_tmp, y_tmp = create_model_data(tmp) # create scores with missing indicators and target\n",
    "\n",
    "encoding = tmp[encoding_columns].copy().to_numpy() # encoding\n",
    "tmp_single = add_encoding(x_tmp, encoding) # add encoding on x_tmp\n",
    "prediction, loss, mae = predict(model, tmp_single, torch.from_numpy(y_tmp).float())"
   ]
  },
  {
   "cell_type": "code",
   "execution_count": 195,
   "metadata": {},
   "outputs": [
    {
     "name": "stdout",
     "output_type": "stream",
     "text": [
      "# of missing = 0, # of sessions = 3\n",
      "True\n",
      "# of missing = 1, # of sessions = 0\n",
      "False\n",
      "# of missing = 2, # of sessions = 0\n",
      "False\n",
      "# of missing = 3, # of sessions = 0\n",
      "False\n",
      "# of missing = 4, # of sessions = 0\n",
      "False\n",
      "# of missing = 5, # of sessions = 0\n",
      "False\n",
      "# of missing = 6, # of sessions = 0\n",
      "False\n",
      "# of missing = 7, # of sessions = 0\n",
      "False\n",
      "# of missing = 8, # of sessions = 0\n",
      "True\n",
      "# of missing = 9, # of sessions = 0\n",
      "False\n",
      "# of missing = 10, # of sessions = 0\n",
      "False\n",
      "# of missing = 11, # of sessions = 0\n",
      "True\n",
      "# of missing = 12, # of sessions = 0\n",
      "True\n",
      "# of missing = 13, # of sessions = 0\n",
      "True\n"
     ]
    }
   ],
   "source": [
    "for n in range(14):\n",
    "    tmp = filter_n_missing(best_data, n_missing=n)\n",
    "    tmp_repeat = tmp[tmp.repeat == 1].copy()\n",
    "    tmp_nonrepeat = tmp[tmp.repeat == 0].copy()\n",
    "    total_sessions = tmp_repeat.shape[0]\n",
    "    print(\"# of missing = %d, # of sessions = %d\" % (n, total_sessions))\n",
    "    print(np.isnan(tmp_repeat[score_columns]).sum(axis=1).sum() + np.isnan(tmp_nonrepeat[score_columns]).sum(axis=1).sum() == n * total_sessions)"
   ]
  },
  {
   "cell_type": "code",
   "execution_count": 196,
   "metadata": {},
   "outputs": [
    {
     "data": {
      "text/plain": [
       "(0, 45)"
      ]
     },
     "execution_count": 196,
     "metadata": {},
     "output_type": "execute_result"
    }
   ],
   "source": [
    "tmp1.shape"
   ]
  },
  {
   "cell_type": "code",
   "execution_count": 197,
   "metadata": {},
   "outputs": [
    {
     "data": {
      "text/html": [
       "<div>\n",
       "<style scoped>\n",
       "    .dataframe tbody tr th:only-of-type {\n",
       "        vertical-align: middle;\n",
       "    }\n",
       "\n",
       "    .dataframe tbody tr th {\n",
       "        vertical-align: top;\n",
       "    }\n",
       "\n",
       "    .dataframe thead th {\n",
       "        text-align: right;\n",
       "    }\n",
       "</style>\n",
       "<table border=\"1\" class=\"dataframe\">\n",
       "  <thead>\n",
       "    <tr style=\"text-align: right;\">\n",
       "      <th></th>\n",
       "      <th>domain 1 score</th>\n",
       "      <th>domain 2 score</th>\n",
       "      <th>domain 3 score</th>\n",
       "      <th>domain 4 score</th>\n",
       "      <th>domain 5 score</th>\n",
       "      <th>domain 6 score</th>\n",
       "      <th>domain 7 score</th>\n",
       "      <th>domain 8 score</th>\n",
       "      <th>domain 9 score</th>\n",
       "      <th>domain 10 score</th>\n",
       "      <th>domain 11 score</th>\n",
       "      <th>domain 12 score</th>\n",
       "      <th>domain 13 score</th>\n",
       "      <th>domain 14 score</th>\n",
       "    </tr>\n",
       "  </thead>\n",
       "  <tbody>\n",
       "  </tbody>\n",
       "</table>\n",
       "</div>"
      ],
      "text/plain": [
       "Empty DataFrame\n",
       "Columns: [domain 1 score, domain 2 score, domain 3 score, domain 4 score, domain 5 score, domain 6 score, domain 7 score, domain 8 score, domain 9 score, domain 10 score, domain 11 score, domain 12 score, domain 13 score, domain 14 score]\n",
       "Index: []"
      ]
     },
     "execution_count": 197,
     "metadata": {},
     "output_type": "execute_result"
    }
   ],
   "source": [
    "tmp_nonrepeat[score_columns].head()"
   ]
  },
  {
   "cell_type": "code",
   "execution_count": 198,
   "metadata": {},
   "outputs": [
    {
     "data": {
      "text/html": [
       "<div>\n",
       "<style scoped>\n",
       "    .dataframe tbody tr th:only-of-type {\n",
       "        vertical-align: middle;\n",
       "    }\n",
       "\n",
       "    .dataframe tbody tr th {\n",
       "        vertical-align: top;\n",
       "    }\n",
       "\n",
       "    .dataframe thead th {\n",
       "        text-align: right;\n",
       "    }\n",
       "</style>\n",
       "<table border=\"1\" class=\"dataframe\">\n",
       "  <thead>\n",
       "    <tr style=\"text-align: right;\">\n",
       "      <th></th>\n",
       "      <th>domain 1 encoding</th>\n",
       "      <th>domain 2 encoding</th>\n",
       "      <th>domain 3 encoding</th>\n",
       "      <th>domain 4 encoding</th>\n",
       "      <th>domain 5 encoding</th>\n",
       "      <th>domain 6 encoding</th>\n",
       "      <th>domain 7 encoding</th>\n",
       "      <th>domain 8 encoding</th>\n",
       "      <th>domain 9 encoding</th>\n",
       "      <th>domain 10 encoding</th>\n",
       "      <th>domain 11 encoding</th>\n",
       "      <th>domain 12 encoding</th>\n",
       "      <th>domain 13 encoding</th>\n",
       "      <th>domain 14 encoding</th>\n",
       "    </tr>\n",
       "  </thead>\n",
       "  <tbody>\n",
       "  </tbody>\n",
       "</table>\n",
       "</div>"
      ],
      "text/plain": [
       "Empty DataFrame\n",
       "Columns: [domain 1 encoding, domain 2 encoding, domain 3 encoding, domain 4 encoding, domain 5 encoding, domain 6 encoding, domain 7 encoding, domain 8 encoding, domain 9 encoding, domain 10 encoding, domain 11 encoding, domain 12 encoding, domain 13 encoding, domain 14 encoding]\n",
       "Index: []"
      ]
     },
     "execution_count": 198,
     "metadata": {},
     "output_type": "execute_result"
    }
   ],
   "source": [
    "tmp_nonrepeat[encoding_columns].head()"
   ]
  },
  {
   "cell_type": "code",
   "execution_count": 199,
   "metadata": {},
   "outputs": [
    {
     "data": {
      "text/plain": [
       "(0, 45)"
      ]
     },
     "execution_count": 199,
     "metadata": {},
     "output_type": "execute_result"
    }
   ],
   "source": [
    "tmp.shape"
   ]
  },
  {
   "cell_type": "code",
   "execution_count": 200,
   "metadata": {},
   "outputs": [
    {
     "name": "stdout",
     "output_type": "stream",
     "text": [
      "# of missing = 0, # of sessions = 33\n",
      "True\n",
      "# of missing = 1, # of sessions = 22\n",
      "True\n",
      "# of missing = 2, # of sessions = 15\n",
      "True\n",
      "# of missing = 3, # of sessions = 7\n",
      "True\n",
      "# of missing = 4, # of sessions = 11\n",
      "True\n",
      "# of missing = 5, # of sessions = 4\n",
      "True\n",
      "# of missing = 6, # of sessions = 2\n",
      "True\n",
      "# of missing = 7, # of sessions = 3\n",
      "True\n",
      "# of missing = 8, # of sessions = 0\n",
      "True\n",
      "# of missing = 9, # of sessions = 2\n",
      "True\n",
      "# of missing = 10, # of sessions = 1\n",
      "True\n",
      "# of missing = 11, # of sessions = 0\n",
      "True\n",
      "# of missing = 12, # of sessions = 0\n",
      "True\n",
      "# of missing = 13, # of sessions = 0\n",
      "True\n"
     ]
    }
   ],
   "source": [
    "for n in range(14):\n",
    "    tmp = filter_n_missing(best_data, n_missing=n)\n",
    "    tmp_repeat = tmp[tmp.repeat == 1].copy()\n",
    "    tmp_nonrepeat = tmp[tmp.repeat == 0].copy()\n",
    "    total_sessions = tmp_repeat.shape[0] + tmp_nonrepeat.shape[0]\n",
    "    print(\"# of missing = %d, # of sessions = %d\" % (n, total_sessions))\n",
    "    print(np.isnan(tmp_repeat[score_columns]).sum(axis=1).sum() + np.isnan(tmp_nonrepeat[score_columns]).sum(axis=1).sum() == n * total_sessions)"
   ]
  },
  {
   "cell_type": "code",
   "execution_count": 201,
   "metadata": {},
   "outputs": [
    {
     "name": "stdout",
     "output_type": "stream",
     "text": [
      "# of missing = 0, # of sessions = 33\n",
      "True\n",
      "# of missing = 1, # of sessions = 22\n",
      "True\n",
      "# of missing = 2, # of sessions = 15\n",
      "True\n",
      "# of missing = 3, # of sessions = 7\n",
      "True\n",
      "# of missing = 4, # of sessions = 11\n",
      "True\n",
      "# of missing = 5, # of sessions = 4\n",
      "True\n",
      "# of missing = 6, # of sessions = 2\n",
      "True\n",
      "# of missing = 7, # of sessions = 3\n",
      "True\n",
      "# of missing = 8, # of sessions = 0\n",
      "True\n",
      "# of missing = 9, # of sessions = 2\n",
      "True\n",
      "# of missing = 10, # of sessions = 1\n",
      "True\n",
      "# of missing = 11, # of sessions = 0\n",
      "True\n",
      "# of missing = 12, # of sessions = 0\n",
      "True\n",
      "# of missing = 13, # of sessions = 0\n",
      "True\n"
     ]
    }
   ],
   "source": [
    "for n in range(14):\n",
    "    total_sessions = ground_truth_test_data_n_zeros_nonrepeat[n].shape[0] + ground_truth_test_data_n_zeros_repeat[n].shape[0]\n",
    "    print(\"# of missing = %d, # of sessions = %d\" % (n, total_sessions))\n",
    "    print(np.isnan(ground_truth_test_data_n_zeros_nonrepeat[n][score_columns]).sum(axis=1).sum() + np.isnan(ground_truth_test_data_n_zeros_repeat[n][score_columns]).sum(axis=1).sum() == n * total_sessions)"
   ]
  }
 ],
 "metadata": {
  "kernelspec": {
   "display_name": "ct",
   "language": "python",
   "name": "python3"
  },
  "language_info": {
   "codemirror_mode": {
    "name": "ipython",
    "version": 3
   },
   "file_extension": ".py",
   "mimetype": "text/x-python",
   "name": "python",
   "nbconvert_exporter": "python",
   "pygments_lexer": "ipython3",
   "version": "3.9.19"
  }
 },
 "nbformat": 4,
 "nbformat_minor": 2
}
