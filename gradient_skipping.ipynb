{
 "cells": [
  {
   "cell_type": "code",
   "execution_count": 733,
   "metadata": {},
   "outputs": [],
   "source": [
    "## import packages\n",
    "import numpy as np\n",
    "import pandas as pd\n",
    "import matplotlib.pyplot as plt\n",
    "import seaborn as sns\n",
    "import torch\n",
    "import torch.nn as nn\n",
    "import torch.nn.functional as F\n",
    "from torch.autograd import Function\n",
    "from torch.utils.data import DataLoader, Dataset\n",
    "import copy\n",
    "import statistics\n",
    "from datetime import datetime\n",
    "from sklearn.model_selection import train_test_split\n",
    "import random"
   ]
  },
  {
   "cell_type": "code",
   "execution_count": 734,
   "metadata": {},
   "outputs": [],
   "source": [
    "# Set seeds for reproducibility\n",
    "torch.manual_seed(42)\n",
    "np.random.seed(42)\n",
    "random.seed(42)\n",
    "\n",
    "# Ensure deterministic algorithms\n",
    "torch.backends.cudnn.deterministic = True\n",
    "torch.backends.cudnn.benchmark = False"
   ]
  },
  {
   "cell_type": "markdown",
   "metadata": {},
   "source": [
    "# Toy Example"
   ]
  },
  {
   "cell_type": "markdown",
   "metadata": {},
   "source": [
    "## Baseline model\n",
    "regular model as baseline"
   ]
  },
  {
   "cell_type": "code",
   "execution_count": 735,
   "metadata": {},
   "outputs": [],
   "source": [
    "class Baseline(nn.Module):\n",
    "    def __init__(self, hyperparams=dict):\n",
    "        super().__init__()\n",
    "        self.dimensions = hyperparams[\"input_dim\"] + hyperparams[\"hidden_dim\"] + hyperparams[\"output_dim\"] # list of dimensions\n",
    "        self.create_model()\n",
    "    \n",
    "    def forward(self, x):\n",
    "        for i, layer in enumerate(self.model):\n",
    "            x = layer(x)\n",
    "            # Apply Sigmoid activation for all layers except the last one\n",
    "            if i < len(self.model) - 1:  # Skip activation for the output layer\n",
    "                # x = torch.relu(x)\n",
    "                pass\n",
    "        return x\n",
    "\n",
    "    def create_model(self):\n",
    "        self.model = nn.ModuleList() # initialize module list\n",
    "\n",
    "        # Create only linear layers, activations handled in forward()\n",
    "        for i in range(len(self.dimensions) - 1):\n",
    "            self.model.append(nn.Linear(self.dimensions[i], self.dimensions[i + 1]))\n"
   ]
  },
  {
   "cell_type": "markdown",
   "metadata": {},
   "source": [
    "## Custom gradient"
   ]
  },
  {
   "cell_type": "code",
   "execution_count": 736,
   "metadata": {},
   "outputs": [],
   "source": [
    "# Custom Gradient Function for missing value prediction\n",
    "class CustomGradient(Function):\n",
    "    @staticmethod\n",
    "    def missing(values):\n",
    "        assert values.shape[0] == 2, \"shape incorrect in missing function\"\n",
    "        return values[0] == values[1]\n",
    "\n",
    "    @staticmethod\n",
    "    def forward(ctx, input):\n",
    "        ctx.save_for_backward(input)\n",
    "        return input\n",
    "\n",
    "    @staticmethod\n",
    "    def backward(ctx, grad_output):\n",
    "        input, = ctx.saved_tensors  # Retrieve input saved during forward pass\n",
    "        n_domains = input.shape[1] // 2  # Find the number of domains\n",
    "        grad_input = grad_output.clone()  # Copy to modify\n",
    "\n",
    "        # Modify gradients without breaking computation graph\n",
    "        for i in range(input.shape[0]):\n",
    "            for j in range(0, n_domains, 2):  # Loop through the entire input matrix\n",
    "                pair = input[i, j:j+2]  # Check pairs using tensor operations\n",
    "                if CustomGradient.missing(pair):  # Modify gradient to be 0\n",
    "                    grad_input[i, j] = 0\n",
    "                    grad_input[i, j + 1] = 0\n",
    "\n",
    "        return grad_input\n",
    "\n",
    "custom_grad = CustomGradient.apply"
   ]
  },
  {
   "cell_type": "code",
   "execution_count": 737,
   "metadata": {},
   "outputs": [],
   "source": [
    "## define a custom network based on the baseline model\n",
    "class CustomNet(Baseline):\n",
    "    def __init__(self, hyperparams=dict):\n",
    "        super().__init__(hyperparams)\n",
    "\n",
    "    def forward(self, x):\n",
    "        x = custom_grad(x)\n",
    "        for i, layer in enumerate(self.model):\n",
    "            x = layer(x)\n",
    "            # Apply Sigmoid activation for all layers except the last one\n",
    "            if i < len(self.model) - 1:  # Skip activation for the output layer\n",
    "                # x = torch.relu(x)\n",
    "                pass\n",
    "        return x"
   ]
  },
  {
   "cell_type": "markdown",
   "metadata": {},
   "source": [
    "## testing\n",
    "I wanna see how the two models will change and be different\n",
    "- if there's no missing, it should be the same\n",
    "- if there are missing, confirm how the gradient changes by hand"
   ]
  },
  {
   "cell_type": "code",
   "execution_count": 738,
   "metadata": {},
   "outputs": [],
   "source": [
    "## set universal hyperparameters\n",
    "size = 14\n",
    "lr = 0.01\n",
    "loss_function = torch.nn.MSELoss()"
   ]
  },
  {
   "cell_type": "code",
   "execution_count": 739,
   "metadata": {},
   "outputs": [
    {
     "data": {
      "text/plain": [
       "(tensor([[0.8823, 0.9150, 0.3829, 0.9593, 0.3904, 0.6009, 0.2566, 0.7936, 0.9408,\n",
       "          0.1332, 0.9346, 0.5936, 0.8694, 0.5677]]),\n",
       " tensor([[0.0000, 0.0000, 0.3829, 0.9593, 0.0000, 0.0000, 0.2566, 0.7936, 0.9408,\n",
       "          0.1332, 0.0000, 0.0000, 0.8694, 0.5677]], requires_grad=True),\n",
       " tensor([[0.0000, 0.0000, 0.3829, 0.9593, 0.0000, 0.0000, 0.2566, 0.7936, 0.9408,\n",
       "          0.1332, 0.0000, 0.0000, 0.8694, 0.5677]], requires_grad=True))"
      ]
     },
     "execution_count": 739,
     "metadata": {},
     "output_type": "execute_result"
    }
   ],
   "source": [
    "## create example input\n",
    "x = torch.rand(1, size)\n",
    "target_x = x.clone().detach()\n",
    "\n",
    "x[0, 0] = 0\n",
    "x[0, 1] = 0\n",
    "x[0, 4] = 0\n",
    "x[0, 5] = 0\n",
    "x[0, 10] = 0\n",
    "x[0, 11] = 0\n",
    "\n",
    "gradient_x = x.clone().detach().requires_grad_(True)\n",
    "baseline_x = x.clone().detach().requires_grad_(True)\n",
    "target_x, baseline_x, gradient_x"
   ]
  },
  {
   "cell_type": "code",
   "execution_count": 740,
   "metadata": {},
   "outputs": [],
   "source": [
    "## define hyperparameters\n",
    "hyperparameters = dict()\n",
    "hyperparameters[\"input_dim\"] = [size]\n",
    "hyperparameters[\"output_dim\"] = [size]\n",
    "hyperparameters[\"hidden_dim\"] = [10]"
   ]
  },
  {
   "cell_type": "code",
   "execution_count": 741,
   "metadata": {},
   "outputs": [],
   "source": [
    "## define baseline model and associated thingies\n",
    "torch.manual_seed(42)\n",
    "baseline_model = Baseline(hyperparameters)\n",
    "\n",
    "baseline_optimizer = torch.optim.Adam(baseline_model.parameters(), lr = lr)"
   ]
  },
  {
   "cell_type": "code",
   "execution_count": 742,
   "metadata": {},
   "outputs": [],
   "source": [
    "## define custom model and associated thingies\n",
    "torch.manual_seed(42)\n",
    "custom_model = CustomNet(hyperparameters)\n",
    "## loss function and optimizer definition\n",
    "\n",
    "custom_optimizer = torch.optim.Adam(custom_model.parameters(), lr = lr)"
   ]
  },
  {
   "cell_type": "markdown",
   "metadata": {},
   "source": [
    "### training"
   ]
  },
  {
   "cell_type": "code",
   "execution_count": 743,
   "metadata": {},
   "outputs": [],
   "source": [
    "# Define hook function to amplify gradients\n",
    "def hook_fn(grad):\n",
    "    # print(\"Hooked Gradient:\", grad)  # Debugging output\n",
    "    return grad * 10  # Amplify gradients\n",
    "\n",
    "# Attach hooks to weights and biases\n",
    "for i, layer in enumerate(custom_model.model):\n",
    "    if isinstance(layer, nn.Linear):  # Apply to Linear layers only\n",
    "        layer.weight.register_hook(hook_fn)  # Hook on weights\n",
    "        layer.bias.register_hook(hook_fn)    # Hook on biases\n",
    "\n",
    "# # Debugging gradient flow\n",
    "# def debug_hook(module, grad_input, grad_output):\n",
    "#     print(f\"Layer: {module}, Grad Input: {grad_input}, Grad Output: {grad_output}\")\n",
    "\n",
    "# # Attach debugging hooks to each layer\n",
    "# for layer in custom_model.model:\n",
    "#     if isinstance(layer, nn.Linear):\n",
    "#         layer.register_backward_hook(debug_hook)"
   ]
  },
  {
   "cell_type": "code",
   "execution_count": 744,
   "metadata": {},
   "outputs": [],
   "source": [
    "## one step training\n",
    "def train_one_step(model, optimizer, loss_fn, input, target):\n",
    "    model_output = model(input)\n",
    "    loss = loss_fn(target, model_output)\n",
    "\n",
    "    optimizer.zero_grad()\n",
    "    loss.backward()\n",
    "\n",
    "    optimizer.step()\n",
    "\n",
    "    return model_output, loss"
   ]
  },
  {
   "cell_type": "code",
   "execution_count": 745,
   "metadata": {},
   "outputs": [],
   "source": [
    "def train(n_steps, model, optimizer, loss_fn, input, target):\n",
    "    output = []\n",
    "    loss = []\n",
    "    for i in range(n_steps):\n",
    "        model_output_, loss_ = train_one_step(model, optimizer, loss_fn, input, target)\n",
    "        output.append(model_output_)\n",
    "        loss.append(loss_)\n",
    "\n",
    "    return output, loss"
   ]
  },
  {
   "cell_type": "markdown",
   "metadata": {},
   "source": [
    "### testing"
   ]
  },
  {
   "cell_type": "code",
   "execution_count": 746,
   "metadata": {},
   "outputs": [],
   "source": [
    "steps = 10"
   ]
  },
  {
   "cell_type": "code",
   "execution_count": 747,
   "metadata": {},
   "outputs": [],
   "source": [
    "baseline_output, baseline_loss = train(steps, baseline_model, baseline_optimizer, loss_function, baseline_x, target_x)"
   ]
  },
  {
   "cell_type": "code",
   "execution_count": 748,
   "metadata": {},
   "outputs": [
    {
     "name": "stdout",
     "output_type": "stream",
     "text": [
      "Is Baseline Input Leaf? True\n",
      "Baseline Input Gradient: tensor([[-0.0568, -0.0400, -0.0411,  0.0521,  0.2190,  0.0415, -0.4059, -0.0967,\n",
      "         -0.3956, -0.5788, -0.4435, -0.2656, -0.0733, -0.1300]])\n"
     ]
    }
   ],
   "source": [
    "print(\"Is Baseline Input Leaf?\", baseline_x.is_leaf)\n",
    "print(\"Baseline Input Gradient:\", baseline_x.grad)"
   ]
  },
  {
   "cell_type": "code",
   "execution_count": 749,
   "metadata": {},
   "outputs": [],
   "source": [
    "custom_output, custom_loss = train(steps, custom_model, custom_optimizer, loss_function, gradient_x, target_x)"
   ]
  },
  {
   "cell_type": "code",
   "execution_count": 750,
   "metadata": {},
   "outputs": [
    {
     "name": "stdout",
     "output_type": "stream",
     "text": [
      "Is Custom Input Leaf? True\n",
      "Custom Input Gradient: tensor([[ 0.0000,  0.0000, -0.0411,  0.0521,  0.0000,  0.0000, -0.4059, -0.0967,\n",
      "         -0.3956, -0.5788, -0.4435, -0.2656, -0.0733, -0.1300]])\n"
     ]
    }
   ],
   "source": [
    "print(\"Is Custom Input Leaf?\", gradient_x.is_leaf)\n",
    "print(\"Custom Input Gradient:\", gradient_x.grad)"
   ]
  },
  {
   "cell_type": "markdown",
   "metadata": {},
   "source": [
    "## Sanity checks - how do these models behave"
   ]
  },
  {
   "cell_type": "code",
   "execution_count": 751,
   "metadata": {},
   "outputs": [
    {
     "name": "stdout",
     "output_type": "stream",
     "text": [
      "Step 1: Output Difference: 0.0\n",
      "Step 2: Output Difference: 1.1175870895385742e-07\n",
      "Step 3: Output Difference: 1.7881393432617188e-07\n",
      "Step 4: Output Difference: 1.341104507446289e-07\n",
      "Step 5: Output Difference: 1.1920928955078125e-07\n",
      "Step 6: Output Difference: 2.384185791015625e-07\n",
      "Step 7: Output Difference: 3.2782554626464844e-07\n",
      "Step 8: Output Difference: 4.0978193283081055e-07\n",
      "Step 9: Output Difference: 2.980232238769531e-07\n",
      "Step 10: Output Difference: 3.5762786865234375e-07\n"
     ]
    }
   ],
   "source": [
    "for step in range(steps):\n",
    "    print(f\"Step {step+1}: Output Difference: {(baseline_output[step] - custom_output[step]).abs().max().item()}\")"
   ]
  },
  {
   "cell_type": "code",
   "execution_count": 752,
   "metadata": {},
   "outputs": [
    {
     "data": {
      "text/plain": [
       "[tensor(0.6675, grad_fn=<MseLossBackward0>),\n",
       " tensor(0.5744, grad_fn=<MseLossBackward0>),\n",
       " tensor(0.4944, grad_fn=<MseLossBackward0>),\n",
       " tensor(0.4233, grad_fn=<MseLossBackward0>),\n",
       " tensor(0.3577, grad_fn=<MseLossBackward0>),\n",
       " tensor(0.2957, grad_fn=<MseLossBackward0>),\n",
       " tensor(0.2368, grad_fn=<MseLossBackward0>),\n",
       " tensor(0.1821, grad_fn=<MseLossBackward0>),\n",
       " tensor(0.1332, grad_fn=<MseLossBackward0>),\n",
       " tensor(0.0920, grad_fn=<MseLossBackward0>)]"
      ]
     },
     "execution_count": 752,
     "metadata": {},
     "output_type": "execute_result"
    }
   ],
   "source": [
    "baseline_loss"
   ]
  },
  {
   "cell_type": "code",
   "execution_count": 753,
   "metadata": {},
   "outputs": [
    {
     "data": {
      "text/plain": [
       "[tensor(0.6675, grad_fn=<MseLossBackward0>),\n",
       " tensor(0.5744, grad_fn=<MseLossBackward0>),\n",
       " tensor(0.4944, grad_fn=<MseLossBackward0>),\n",
       " tensor(0.4233, grad_fn=<MseLossBackward0>),\n",
       " tensor(0.3577, grad_fn=<MseLossBackward0>),\n",
       " tensor(0.2957, grad_fn=<MseLossBackward0>),\n",
       " tensor(0.2368, grad_fn=<MseLossBackward0>),\n",
       " tensor(0.1821, grad_fn=<MseLossBackward0>),\n",
       " tensor(0.1332, grad_fn=<MseLossBackward0>),\n",
       " tensor(0.0920, grad_fn=<MseLossBackward0>)]"
      ]
     },
     "execution_count": 753,
     "metadata": {},
     "output_type": "execute_result"
    }
   ],
   "source": [
    "custom_loss"
   ]
  },
  {
   "cell_type": "code",
   "execution_count": 754,
   "metadata": {},
   "outputs": [
    {
     "name": "stdout",
     "output_type": "stream",
     "text": [
      "Outputs Comparison:\n",
      "Baseline Output: tensor([[0.8508, 0.6859, 0.3533, 0.2704, 0.4322, 0.4066, 0.2286, 0.4641, 0.3173,\n",
      "         0.0766, 0.6813, 0.8757, 0.6688, 0.3809]], grad_fn=<AddmmBackward0>)\n",
      "Gradient Output: tensor([[0.8508, 0.6859, 0.3533, 0.2704, 0.4322, 0.4066, 0.2286, 0.4641, 0.3173,\n",
      "         0.0766, 0.6813, 0.8757, 0.6688, 0.3809]], grad_fn=<AddmmBackward0>)\n",
      "Difference: tensor(3.5763e-07, grad_fn=<MaxBackward1>)\n"
     ]
    }
   ],
   "source": [
    "print(\"Outputs Comparison:\")\n",
    "print(\"Baseline Output:\", baseline_output[-1])\n",
    "print(\"Gradient Output:\", custom_output[-1])\n",
    "print(\"Difference:\", (baseline_output[-1] - custom_output[-1]).abs().max())"
   ]
  },
  {
   "cell_type": "code",
   "execution_count": 755,
   "metadata": {},
   "outputs": [
    {
     "name": "stdout",
     "output_type": "stream",
     "text": [
      "Gradients Comparison:\n",
      "Baseline Input Gradient: tensor([[-0.0568, -0.0400, -0.0411,  0.0521,  0.2190,  0.0415, -0.4059, -0.0967,\n",
      "         -0.3956, -0.5788, -0.4435, -0.2656, -0.0733, -0.1300]])\n",
      "Gradient Input Gradient: tensor([[ 0.0000,  0.0000, -0.0411,  0.0521,  0.0000,  0.0000, -0.4059, -0.0967,\n",
      "         -0.3956, -0.5788, -0.4435, -0.2656, -0.0733, -0.1300]])\n",
      "Gradient Difference: tensor(0.2190)\n"
     ]
    }
   ],
   "source": [
    "# Compare input gradients\n",
    "print(\"Gradients Comparison:\")\n",
    "print(\"Baseline Input Gradient:\", baseline_x.grad)\n",
    "print(\"Gradient Input Gradient:\", gradient_x.grad)\n",
    "print(\"Gradient Difference:\", (baseline_x.grad - gradient_x.grad).abs().max())"
   ]
  },
  {
   "cell_type": "code",
   "execution_count": 756,
   "metadata": {},
   "outputs": [
    {
     "name": "stdout",
     "output_type": "stream",
     "text": [
      "Layer 0 Output Difference: 4.172325134277344e-07\n",
      "Layer 1 Output Difference: 3.8743019104003906e-07\n",
      "Layer 0 Weight Gradient Difference: 0.9944490194320679\n",
      "Layer 0 Bias Gradient Difference: 1.0366342067718506\n",
      "Layer 1 Weight Gradient Difference: 1.7068126201629639\n",
      "Layer 1 Bias Gradient Difference: 1.6445785760879517\n"
     ]
    }
   ],
   "source": [
    "# Enable gradients for inputs\n",
    "baseline_input = baseline_x.clone().detach().requires_grad_(True)\n",
    "gradient_input = gradient_x.clone().detach().requires_grad_(True)\n",
    "\n",
    "for i, (b_layer, g_layer) in enumerate(zip(baseline_model.model, custom_model.model)):\n",
    "    # Forward pass\n",
    "    baseline_input = b_layer(baseline_input)\n",
    "    gradient_input = g_layer(gradient_input)\n",
    "\n",
    "    # Retain gradients for intermediate outputs\n",
    "    baseline_input.retain_grad()\n",
    "    gradient_input.retain_grad()\n",
    "\n",
    "    # Print output differences layer-by-layer\n",
    "    print(f\"Layer {i} Output Difference: {(baseline_input - gradient_input).abs().max().item()}\")\n",
    "\n",
    "# Compute MSE Loss\n",
    "baseline_loss = F.mse_loss(baseline_input, target_x)\n",
    "gradient_loss = F.mse_loss(gradient_input, target_x)\n",
    "\n",
    "# Backward pass for gradients\n",
    "baseline_loss.backward(retain_graph=True)\n",
    "gradient_loss.backward(retain_graph=True)\n",
    "\n",
    "# Compare gradients for weights and biases layer-by-layer\n",
    "for j, (b_layer, g_layer) in enumerate(zip(baseline_model.model, custom_model.model)):\n",
    "    if isinstance(b_layer, nn.Linear):  # Only compare Linear layers\n",
    "        # Weight gradient difference\n",
    "        weight_diff = (b_layer.weight.grad - g_layer.weight.grad).abs().max().item()\n",
    "        # Bias gradient difference\n",
    "        bias_diff = (b_layer.bias.grad - g_layer.bias.grad).abs().max().item()\n",
    "\n",
    "        print(f\"Layer {j} Weight Gradient Difference: {weight_diff}\")\n",
    "        print(f\"Layer {j} Bias Gradient Difference: {bias_diff}\")\n"
   ]
  },
  {
   "cell_type": "code",
   "execution_count": 757,
   "metadata": {},
   "outputs": [
    {
     "name": "stdout",
     "output_type": "stream",
     "text": [
      "Weight Difference: 2.5331974029541016e-07\n",
      "Bias Difference: 8.940696716308594e-08\n"
     ]
    },
    {
     "name": "stderr",
     "output_type": "stream",
     "text": [
      "Bad pipe message: %s [b'nc\\x12H\\xd7k\\x0fmm\\xfe~\\x94\\r\\xd2.\\xa8\\xc1O\\x00\\x01|\\x00\\x00\\x00\\x01\\x00\\x02\\x00\\x03\\x00\\x04\\x00\\x05\\x00\\x06\\x00\\x07\\x00\\x08\\x00\\t\\x00\\n\\x00\\x0b\\x00\\x0c\\x00\\r\\x00\\x0e\\x00\\x0f\\x00\\x10\\x00\\x11\\x00\\x12\\x00\\x13\\x00\\x14\\x00\\x15\\x00\\x16\\x00\\x17\\x00\\x18\\x00\\x19\\x00\\x1a\\x00\\x1b\\x00/\\x000\\x001\\x002\\x003\\x004\\x005\\x006\\x007\\x008\\x009\\x00:\\x00;\\x00<\\x00=\\x00>\\x00?\\x00@\\x00A\\x00B\\x00C\\x00D\\x00E\\x00F\\x00g\\x00h\\x00i\\x00j\\x00k\\x00l\\x00m\\x00\\x84\\x00\\x85\\x00\\x86\\x00\\x87\\x00\\x88\\x00\\x89\\x00\\x96\\x00\\x97\\x00\\x98\\x00\\x99\\x00\\x9a\\x00\\x9b\\x00\\x9c\\x00\\x9d\\x00\\x9e\\x00\\x9f\\x00\\xa0\\x00\\xa1\\x00\\xa2\\x00\\xa3\\x00\\xa4\\x00\\xa5\\x00\\xa6\\x00\\xa7\\x00\\xba\\x00\\xbb\\x00\\xbc\\x00\\xbd\\x00\\xbe\\x00\\xbf\\x00\\xc0\\x00\\xc1\\x00\\xc2\\x00\\xc3\\x00\\xc4\\x00\\xc5\\x13\\x01\\x13\\x02\\x13\\x03\\x13']\n",
      "Bad pipe message: %s [b'\\x05\\xc0\\x01', b\"\\xc0\\x03\\xc0\\x04\\xc0\\x05\\xc0\\x06\\xc0\\x07\\xc0\\x08\\xc0\\t\\xc0\\n\\xc0\\x0b\\xc0\\x0c\\xc0\\r\\xc0\\x0e\\xc0\\x0f\\xc0\\x10\\xc0\\x11\\xc0\\x12\\xc0\\x13\\xc0\\x14\\xc0\\x15\\xc0\\x16\\xc0\\x17\\xc0\\x18\\xc0\\x19\\xc0#\\xc0$\\xc0%\\xc0&\\xc0'\\xc0(\\xc0)\\xc0*\\xc0+\\xc0,\\xc0-\\xc0.\\xc0/\\xc00\\xc01\\xc02\\xc0r\\xc0s\\xc0t\\xc0u\\xc0v\\xc0w\\xc0x\\xc0y\\xc0z\\xc0{\\xc0|\\xc0}\\xc0~\\xc0\\x7f\\xc0\\x80\\xc0\\x81\\xc0\\x82\\xc0\\x83\\xc0\\x84\\xc0\\x85\\xc0\\x86\\xc0\\x87\\xc0\\x88\\xc0\\x89\\xc0\\x8a\\xc0\\x8b\\xc0\\x8c\\xc0\\x8d\\xc0\\x8e\\xc0\\x8f\\xc0\\x90\\xc0\\x91\\xc0\\x92\\xc0\\x93\\xc0\\x94\\xc0\\x95\\xc0\\x96\\xc0\\x97\\xc0\\x98\\xc0\\x99\\xc0\\x9a\\xc0\\x9b\\xcc\\xa8\\xcc\\xa9\\xcc\\xaa\\xcc\\xab\\xcc\\xac\\xcc\\xad\\xcc\\xae\\x02\\x00\\x01\\x00,\\x00\\n\\x00\\n\\x00\\x08\\x00\\x17\\x00\\x19\"]\n",
      "Bad pipe message: %s [b'\\x1d\\xf8R^\\x03\\xb0ft~\\x8a\\n\\xb5\\xc3\\xc2\\x99\\xc3\\xa5\\x02\\x00\\x01|\\x00\\x00\\x00\\x01\\x00\\x02\\x00\\x03\\x00\\x04\\x00\\x05\\x00\\x06\\x00\\x07\\x00\\x08\\x00\\t\\x00\\n\\x00\\x0b\\x00\\x0c\\x00\\r\\x00\\x0e\\x00\\x0f\\x00\\x10\\x00\\x11\\x00\\x12\\x00\\x13\\x00\\x14\\x00\\x15\\x00\\x16\\x00\\x17\\x00\\x18\\x00\\x19\\x00\\x1a\\x00', b'/\\x000\\x001\\x002\\x003\\x004\\x005\\x006\\x007\\x008\\x009\\x00:\\x00;\\x00']\n",
      "Bad pipe message: %s [b'=\\x00>\\x00?\\x00@\\x00A\\x00B\\x00C\\x00D\\x00E\\x00F\\x00g\\x00h\\x00i\\x00j\\x00k\\x00l\\x00m\\x00\\x84\\x00\\x85\\x00\\x86\\x00\\x87\\x00\\x88\\x00\\x89\\x00\\x96\\x00\\x97\\x00\\x98\\x00\\x99\\x00\\x9a\\x00\\x9b\\x00\\x9c']\n",
      "Bad pipe message: %s [b'4yD<6\\xa7\\xdfJc\\xea\\xce\\xcf\\xcb\\xfc{\\x89\\x0eW\\x00\\x01|\\x00\\x00\\x00\\x01\\x00\\x02\\x00\\x03\\x00\\x04\\x00\\x05\\x00\\x06\\x00\\x07\\x00\\x08\\x00\\t\\x00\\n\\x00\\x0b\\x00\\x0c\\x00\\r\\x00\\x0e\\x00\\x0f\\x00\\x10\\x00\\x11\\x00\\x12\\x00\\x13\\x00\\x14\\x00\\x15\\x00\\x16\\x00\\x17\\x00\\x18\\x00\\x19\\x00\\x1a\\x00\\x1b\\x00/\\x000\\x001\\x002\\x003\\x004\\x005\\x006\\x007\\x008\\x009\\x00:\\x00;\\x00<\\x00=\\x00>\\x00?\\x00@\\x00A\\x00B\\x00C\\x00D\\x00E\\x00F\\x00g\\x00h\\x00i\\x00j\\x00k\\x00l\\x00m\\x00\\x84\\x00\\x85\\x00\\x86\\x00\\x87']\n",
      "Bad pipe message: %s [b'3\\xa1\\x90\\xb1\\xd8\\xb4\\xec\\xec;\\x9du\\xce\\x8bv\\xb2LO?\\x00\\x00D\\x00\\x96\\x00\\x97\\x00\\x98\\x00\\x99\\x00\\x9a\\x00\\x9b\\x00\\x9c\\x00\\x9d\\x00\\x9e\\x00\\x9f\\x00\\xa0\\x00\\xa1\\x00']\n",
      "Bad pipe message: %s [b'o \\xcf\\xa4\\x02\\x82d7\\x06\\x15\\xcd@u\\xb4[J\\xb0o\\x00\\x006\\xc0\\x01\\xc0\\x03\\xc0\\x04\\xc0\\x05\\xc0\\x06\\xc0\\x08\\xc0\\t\\xc0\\n\\xc0\\x0b\\xc0\\r\\xc0\\x0e\\xc0\\x0f\\xc0\\x10\\xc0\\x12\\xc0\\x13\\xc0\\x14\\xc0\\x15\\xc0\\x17\\xc0\\x18\\xc0\\x19\\xcc\\xa8\\xcc\\xa9\\xcc\\xaa\\xcc\\xab\\xcc\\xac']\n",
      "Bad pipe message: %s [b'a\\xb3\\xa9\\xf6\\x9c\\x93\\x7f\\x9d{D\\t\\x11\\x94\\xc1U\\xf1\\x93\\xc1\\x00\\x00D\\x00\\x96\\x00\\x97\\x00\\x98\\x00\\x99\\x00\\x9a\\x00\\x9b\\x00\\x9c\\x00\\x9d\\x00\\x9e\\x00\\x9f\\x00\\xa0\\x00\\xa1\\x00\\xa2\\x00\\xa3\\x00\\xa4\\x00\\xa5\\x00\\xa6\\x00\\xa7\\xc0#\\xc0$\\xc0', b\"&\\xc0'\\xc0(\\xc0)\\xc0*\\xc0+\\xc0,\\xc0-\\xc0.\\xc0/\\xc00\\xc01\\xc02\\x02\\x00\\x01\\x00,\\x00\\n\\x00\\n\\x00\\x08\"]\n",
      "Bad pipe message: %s [b'\\xc1}\\x04P^\\x1f\\xbc\\x06\\xdf\\xeaGm\\x859~k\\xbdy\\x00\\x00T\\xc0r\\xc0s\\xc0t\\xc0u\\xc0v\\xc0w\\xc0x\\xc0y\\xc0z\\xc0{\\xc0|\\xc0}\\xc0~\\xc0\\x7f\\xc0\\x80\\xc0\\x81\\xc0\\x82\\xc0\\x83\\xc0\\x84\\xc0\\x85']\n",
      "Bad pipe message: %s [b'\\x9f^T\\xd6j^\\x81\\x93\\xbe\\x1a\\x7f\\xe5\\xf1\\xc6\\x87_\\xeb\\x9a\\x00\\x00*\\x00\\x03\\x00\\x06\\x00\\x07\\x00\\x08\\x00\\t\\x00\\x0b\\x00\\x0c\\x00\\x0e\\x00\\x0f\\x00\\x11\\x00\\x12\\x00\\x14\\x00\\x15\\x00\\x17\\x00\\x19\\x00\\x1a\\xc0\\x02\\xc0\\x07']\n",
      "Bad pipe message: %s [b'iW\\xc2\\xe1s\\xb0\\xf4\\xb8\\x0f\\xab \\x1f\\xcfP\\xc3\\xdaLm\\x00\\x00*\\x00\\x03\\x00\\x06\\x00\\x07\\x00\\x08\\x00', b'\\x0b\\x00\\x0c\\x00\\x0e\\x00\\x0f\\x00']\n",
      "Bad pipe message: %s [b'\\x12\\x00\\x14\\x00\\x15\\x00\\x17\\x00\\x19\\x00\\x1a\\xc0\\x02\\xc0\\x07\\xc0']\n",
      "Bad pipe message: %s [b'\\x11\\xc0\\x16\\x02\\x00\\x01\\x00,\\x00\\n\\x00']\n",
      "Bad pipe message: %s [b'\\x08\\x00\\x17\\x00\\x19\\x00\\x18\\x00\\x16']\n",
      "Bad pipe message: %s [b'\\x95\\x15f\\x1c\\xfd\\xb7D\\r]\\xf4F`\\n!\\xdd\\x82\\x0b@\\x00\\x006\\xc0\\x01\\xc0\\x03\\xc0\\x04\\xc0\\x05\\xc0\\x06\\xc0\\x08\\xc0\\t\\xc0\\n\\xc0\\x0b\\xc0\\r\\xc0\\x0e\\xc0\\x0f\\xc0\\x10\\xc0\\x12\\xc0\\x13\\xc0\\x14\\xc0\\x15\\xc0\\x17\\xc0\\x18\\xc0\\x19\\xcc\\xa8\\xcc\\xa9\\xcc\\xaa\\xcc\\xab\\xcc\\xac\\xcc\\xad\\xcc\\xae\\x02\\x00\\x01\\x00,\\x00\\n\\x00\\n\\x00']\n",
      "Bad pipe message: %s [b'\\x17\\x00\\x19\\x00\\x18\\x00\\x16']\n",
      "Bad pipe message: %s [b\"\\xfc'\\xd0\\xa3x\\xe5\\xf3\\xc3\\x0f\\x18\\xb2\\x19\\xbao\\xc1\\x87\\x19\\xfd\\x00\\x00J\\x00\\x00\\x00\\x01\\x00\\x02\\x00\\x04\\x00\\x05\\x00\\n\\x00\\r\\x00\\x10\\x00\\x13\\x00\\x16\\x00\\x18\\x00\\x1b\\x00\"]\n",
      "Bad pipe message: %s [b'0\\x001\\x002\\x003\\x004\\x005\\x006\\x007\\x008\\x009\\x00:\\x00;\\x00<\\x00=\\x00>\\x00?\\x00@\\x00g\\x00h\\x00i\\x00j\\x00k\\x00l\\x00']\n",
      "Bad pipe message: %s [b'\\xaf.\\xa8D\\x89\\x9c\\xaa%\\xac\\xfc[ryu\\xeb;\\xcbM\\x00\\x01|\\x00\\x00\\x00\\x01\\x00\\x02\\x00\\x03\\x00\\x04\\x00\\x05\\x00\\x06\\x00\\x07\\x00\\x08\\x00\\t\\x00\\n\\x00\\x0b\\x00\\x0c\\x00\\r\\x00\\x0e\\x00\\x0f\\x00\\x10\\x00\\x11\\x00\\x12\\x00\\x13\\x00\\x14\\x00\\x15\\x00\\x16\\x00\\x17\\x00\\x18\\x00\\x19\\x00\\x1a\\x00\\x1b\\x00/\\x000\\x001\\x002']\n",
      "Bad pipe message: %s [b'\\x01 F\\x059\\xa9\\xc6\\xc8\\x15\\x9e!\\xadr\\x90\\xb49`z\\x00\\x01|\\x00\\x00\\x00\\x01\\x00\\x02\\x00\\x03\\x00\\x04\\x00\\x05\\x00\\x06\\x00\\x07\\x00\\x08\\x00\\t\\x00\\n\\x00\\x0b\\x00\\x0c\\x00\\r\\x00\\x0e\\x00\\x0f\\x00\\x10\\x00\\x11\\x00\\x12\\x00\\x13\\x00\\x14\\x00\\x15\\x00\\x16\\x00\\x17\\x00\\x18\\x00\\x19\\x00\\x1a\\x00\\x1b\\x00/\\x000\\x001\\x002\\x003\\x004\\x005\\x006\\x007\\x008\\x009\\x00:\\x00;\\x00<\\x00=\\x00>\\x00?\\x00@\\x00A\\x00B\\x00C\\x00D\\x00E\\x00F\\x00g\\x00h\\x00i\\x00j\\x00k\\x00l\\x00m\\x00\\x84\\x00\\x85\\x00\\x86\\x00\\x87\\x00\\x88\\x00\\x89\\x00\\x96\\x00\\x97\\x00\\x98\\x00\\x99\\x00\\x9a\\x00\\x9b\\x00\\x9c\\x00\\x9d\\x00\\x9e\\x00\\x9f\\x00\\xa0\\x00\\xa1\\x00\\xa2\\x00\\xa3\\x00\\xa4\\x00\\xa5\\x00\\xa6\\x00\\xa7\\x00\\xba\\x00\\xbb\\x00\\xbc\\x00\\xbd\\x00\\xbe\\x00\\xbf\\x00\\xc0\\x00\\xc1\\x00\\xc2\\x00\\xc3\\x00\\xc4\\x00\\xc5\\x13\\x01\\x13\\x02\\x13\\x03\\x13\\x04\\x13\\x05\\xc0\\x01\\xc0\\x02\\xc0', b'\\x04\\xc0']\n",
      "Bad pipe message: %s [b'\\x06\\xc0\\x07\\xc0']\n",
      "Bad pipe message: %s [b'\\t\\xc0\\n\\xc0\\x0b\\xc0\\x0c']\n",
      "Bad pipe message: %s [b\"\\xc0\\x0e\\xc0\\x0f\\xc0\\x10\\xc0\\x11\\xc0\\x12\\xc0\\x13\\xc0\\x14\\xc0\\x15\\xc0\\x16\\xc0\\x17\\xc0\\x18\\xc0\\x19\\xc0#\\xc0$\\xc0%\\xc0&\\xc0'\\xc0(\\xc0)\\xc0*\\xc0+\\xc0,\\xc0-\\xc0.\\xc0/\\xc00\\xc01\\xc02\\xc0r\\xc0s\\xc0t\\xc0u\\xc0v\\xc0w\\xc0x\\xc0y\\xc0z\\xc0{\\xc0|\\xc0}\\xc0~\\xc0\\x7f\\xc0\\x80\\xc0\\x81\\xc0\\x82\\xc0\\x83\\xc0\\x84\\xc0\\x85\\xc0\\x86\\xc0\\x87\\xc0\\x88\\xc0\\x89\\xc0\\x8a\\xc0\\x8b\\xc0\\x8c\\xc0\\x8d\\xc0\\x8e\\xc0\\x8f\\xc0\\x90\\xc0\\x91\\xc0\\x92\\xc0\\x93\\xc0\\x94\\xc0\\x95\\xc0\\x96\\xc0\\x97\\xc0\\x98\\xc0\\x99\\xc0\\x9a\\xc0\\x9b\\xcc\\xa8\\xcc\\xa9\\xcc\\xaa\\xcc\\xab\\xcc\\xac\\xcc\\xad\\xcc\\xae\\x02\\x00\\x01\\x00,\\x00\\n\\x00\\n\\x00\\x08\\x00\\x17\\x00\\x19\\x00\\x18\\x00\\x16\\x00\\x0b\\x00\\x04\\x03\\x00\\x01\\x02\\x00\\r\\x00\\x12\\x00\\x10\\x04\\x03\\x08\\x04\", b'\\x05\\x03\\x05', b'']\n",
      "Bad pipe message: %s [b'\\xa0\\x9c\\x84\\x80\\x14\\x92Q\\xe6\\xbdR`\\xbe\\xec\\xf8\\x04\\n']\n",
      "Bad pipe message: %s [b\"\\\\\\xcdx\\xc0\\x7f!'\\x1f\\xf4\\xaf\\xdf\\xed88h\\xbc\\x15}\\x00\\x000\\x00A\\x00B\\x00C\"]\n",
      "Bad pipe message: %s [b\"f\\x1d<\\xcb;-Y\\x0ce\\xc1\\x0f<N\\xe1TF\\xb5\\x10\\x00\\x00D\\x00\\x96\\x00\\x97\\x00\\x98\\x00\\x99\\x00\\x9a\\x00\\x9b\\x00\\x9c\\x00\\x9d\\x00\\x9e\\x00\\x9f\\x00\\xa0\\x00\\xa1\\x00\\xa2\\x00\\xa3\\x00\\xa4\\x00\\xa5\\x00\\xa6\\x00\\xa7\\xc0#\\xc0$\\xc0%\\xc0&\\xc0'\\xc0(\\xc0)\\xc0*\\xc0+\\xc0,\\xc0-\\xc0.\\xc0/\"]\n",
      "Bad pipe message: %s [b'\\xe4\\x85\\xd6\\xe5\\x87yp\\x86\\x9d']\n",
      "Bad pipe message: %s [b'N\\xa1,`\\xef<\\x05\\x15\\xc1\\r4I\\xf1\\x9d`\\xeeka\\x00\\x00\\n\\x13\\x01\\x13\\x02\\x13\\x03\\x13\\x04\\x13\\x05', b'\\x01']\n",
      "Bad pipe message: %s [b'&c\\xcb\\x19\\xf2\\xe9\\xce\\xcb\\x144C=\\xc8\\x19\\xb9\\xc0']\n",
      "Bad pipe message: %s [b'\\x00\\x000\\x00A\\x00B\\x00C\\x00D\\x00E\\x00F\\x00\\x84\\x00\\x85\\x00\\x86\\x00\\x87\\x00\\x88\\x00\\x89\\x00\\xba\\x00']\n",
      "Bad pipe message: %s [b'\\x1b*\\xf1\\xb3(\\x1b\\x93\\x07o\\x83\\xdd\\x95\\xd7\\xea\\xb5\\xfbcH\\x00\\x00D\\x00\\x96\\x00\\x97\\x00\\x98\\x00\\x99\\x00\\x9a\\x00\\x9b\\x00\\x9c\\x00\\x9d\\x00']\n",
      "Bad pipe message: %s [b'\\x84yGu9\\x84\\x85/#\\xf3\\xcc\\x02H\\x9dNwm4\\x00\\x00T\\xc0r\\xc0s\\xc0t\\xc0u\\xc0v\\xc0w\\xc0x\\xc0y\\xc0z\\xc0{\\xc0|\\xc0}\\xc0~\\xc0\\x7f\\xc0\\x80\\xc0\\x81\\xc0\\x82\\xc0\\x83\\xc0\\x84\\xc0\\x85\\xc0\\x86\\xc0\\x87\\xc0\\x88\\xc0\\x89\\xc0\\x8a\\xc0\\x8b\\xc0\\x8c\\xc0\\x8d\\xc0\\x8e\\xc0\\x8f\\xc0\\x90\\xc0\\x91\\xc0\\x92\\xc0\\x93\\xc0\\x94\\xc0\\x95\\xc0\\x96\\xc0\\x97\\xc0\\x98']\n",
      "Bad pipe message: %s [b'@\\x8e,\\x04*?R', b'\\x85\\xea\\x99\\xa4?*\\x98\\xe0\\x9b\\x00\\x00D\\x00\\x96\\x00\\x97\\x00\\x98\\x00\\x99\\x00\\x9a\\x00\\x9b\\x00\\x9c\\x00\\x9d\\x00\\x9e']\n",
      "Bad pipe message: %s [b'\\xa0\\x92l\\xbb\\xbf\\xb3\\xa3O\\xd1\\x81~\\x19\\xd2\\xc4\\xf6H\\xb0\\x0c\\x00\\x00T\\xc0r\\xc0s\\xc0t\\xc0u\\xc0v\\xc0w\\xc0x\\xc0y\\xc0z\\xc0{\\xc0|\\xc0}\\xc0~\\xc0\\x7f\\xc0\\x80\\xc0\\x81\\xc0\\x82\\xc0\\x83\\xc0\\x84\\xc0\\x85\\xc0\\x86\\xc0\\x87\\xc0\\x88\\xc0\\x89\\xc0\\x8a\\xc0\\x8b\\xc0\\x8c\\xc0\\x8d\\xc0\\x8e\\xc0\\x8f\\xc0\\x90\\xc0\\x91\\xc0\\x92\\xc0\\x93\\xc0\\x94\\xc0\\x95\\xc0\\x96\\xc0\\x97\\xc0\\x98\\xc0\\x99\\xc0\\x9a\\xc0']\n",
      "Bad pipe message: %s [b'\\x82\\xb20\\xf1\\x04\\x88\\x12\\x9b\\xbb\\x9fH\\xc9\\x19\\x08\\xda\\x9f\\x06\\xdc\\x00\\x00*\\x00\\x03\\x00\\x06\\x00\\x07\\x00\\x08\\x00\\t\\x00\\x0b\\x00\\x0c\\x00\\x0e\\x00\\x0f\\x00\\x11\\x00\\x12\\x00\\x14\\x00\\x15\\x00\\x17\\x00\\x19\\x00\\x1a\\xc0\\x02\\xc0\\x07\\xc0\\x0c\\xc0\\x11\\xc0\\x16\\x02\\x00\\x01\\x00,\\x00\\n\\x00\\n\\x00\\x08\\x00\\x17\\x00\\x19\\x00\\x18\\x00\\x16\\x00\\x0b\\x00\\x04\\x03\\x00\\x01\\x02\\x00\\r\\x00\\x12\\x00\\x10\\x04\\x03\\x08\\x04', b'\\x05\\x03\\x05', b'']\n",
      "Bad pipe message: %s [b'\\xb3Ah\\x0cS\\xa00\\xe9^\\xe2m\\xdf\\x86\\x8c\\x1f\\xe4\\x15\\x93 \\x92I\\xdeR\\xbf\\xce\\xcfi\\x03\\xe9\\xa0\\xde\\xc0\\x97\\xc1\\xbb\\xb6\\xf2\\xb6N\\xf5\\xeb\\x87\\xff\\x98\\xcc\\xa5\\x17bo\\xf2~\\x00\\n\\x13\\x01\\x13\\x02\\x13\\x03\\x13\\x04\\x13\\x05\\x01\\x00\\x00\\x9e\\x00+\\x00\\x03\\x02\\x03\\x04\\x00\\n\\x00\\n\\x00\\x08\\xaa\\xaa\\x00\\x17\\x00\\x18\\x00\\x1d\\x00\\x00\\x00\\x10\\x00\\x0e\\x00\\x00\\x0bAMBUS140821\\x00\\r\\x00\\x12\\x00\\x10\\x04\\x03\\x08\\x04\\x04\\x01\\x05', b'\\x05\\x05']\n",
      "Bad pipe message: %s [b'']\n",
      "Bad pipe message: %s [b'\\x01\\x00\\x17\\x00\\x00']\n",
      "Bad pipe message: %s [b'sO\\xc4wr\\xbcO\\x86,\\xb3\\xb0\\xf2\\xbb\\xb7\\x7f/\\xb9\\x8a\\x00\\x01|\\x00\\x00\\x00\\x01\\x00\\x02\\x00\\x03\\x00\\x04\\x00\\x05\\x00\\x06\\x00\\x07\\x00\\x08\\x00\\t\\x00\\n\\x00\\x0b\\x00\\x0c\\x00\\r\\x00\\x0e\\x00\\x0f\\x00\\x10\\x00\\x11\\x00\\x12\\x00\\x13\\x00\\x14\\x00\\x15\\x00\\x16\\x00\\x17\\x00\\x18\\x00\\x19\\x00\\x1a\\x00\\x1b\\x00', b'0\\x001\\x002\\x003\\x004\\x005\\x006\\x007\\x008\\x009\\x00:\\x00;\\x00<\\x00=\\x00>\\x00?\\x00@\\x00A\\x00B\\x00C\\x00D\\x00E\\x00F\\x00']\n",
      "Bad pipe message: %s [b'h\\x00i\\x00j\\x00k\\x00l\\x00m\\x00\\x84\\x00\\x85\\x00\\x86\\x00\\x87\\x00\\x88\\x00\\x89\\x00\\x96\\x00\\x97\\x00\\x98\\x00\\x99\\x00\\x9a\\x00\\x9b\\x00\\x9c\\x00\\x9d\\x00\\x9e\\x00\\x9f\\x00\\xa0\\x00\\xa1\\x00\\xa2\\x00\\xa3\\x00\\xa4\\x00\\xa5\\x00\\xa6\\x00\\xa7\\x00\\xba\\x00\\xbb\\x00\\xbc\\x00\\xbd\\x00\\xbe\\x00\\xbf\\x00\\xc0\\x00\\xc1\\x00\\xc2\\x00\\xc3\\x00\\xc4\\x00\\xc5\\x13\\x01\\x13\\x02\\x13\\x03\\x13\\x04\\x13\\x05\\xc0\\x01\\xc0\\x02\\xc0\\x03\\xc0\\x04\\xc0']\n",
      "Bad pipe message: %s [b\"\\x8c\\x8e\\x9b<\\x99\\xeaT\\xd0l*V'\\x12\\x80\\x82\\xac\\x8e2\\x00\\x01|\\x00\\x00\\x00\\x01\\x00\\x02\\x00\\x03\\x00\\x04\\x00\\x05\\x00\\x06\\x00\\x07\\x00\\x08\\x00\\t\\x00\\n\\x00\\x0b\\x00\\x0c\\x00\\r\\x00\\x0e\\x00\\x0f\\x00\\x10\\x00\\x11\\x00\\x12\\x00\\x13\\x00\\x14\\x00\\x15\\x00\\x16\\x00\\x17\\x00\", b'\\x19\\x00\\x1a\\x00\\x1b\\x00/\\x000\\x001\\x002\\x003\\x004\\x005\\x006\\x007']\n",
      "Bad pipe message: %s [b'\\x10\\x17m\\x1b/\\xf5P\\x87#\\x0f\\xa1q\\xd2)\\xf0\\x99T\\x86\\x00\\x01|\\x00\\x00\\x00\\x01\\x00\\x02\\x00\\x03\\x00\\x04\\x00\\x05\\x00\\x06\\x00\\x07\\x00\\x08\\x00\\t\\x00\\n\\x00\\x0b\\x00\\x0c\\x00\\r\\x00\\x0e\\x00\\x0f\\x00\\x10\\x00\\x11\\x00\\x12\\x00\\x13\\x00\\x14\\x00\\x15\\x00\\x16\\x00\\x17\\x00\\x18\\x00\\x19\\x00\\x1a\\x00\\x1b\\x00/\\x000\\x001\\x002\\x003\\x004\\x005\\x006\\x007\\x008\\x009\\x00:\\x00;\\x00<\\x00=\\x00>\\x00?\\x00@\\x00A\\x00B\\x00C\\x00D\\x00E\\x00F\\x00g\\x00h\\x00i\\x00j\\x00k\\x00l\\x00m\\x00\\x84\\x00\\x85\\x00\\x86\\x00\\x87']\n",
      "Bad pipe message: %s [b'\\x06\\xc0\\x07\\xc0']\n",
      "Bad pipe message: %s [b'\\t\\xc0\\n\\xc0\\x0b\\xc0\\x0c']\n",
      "Bad pipe message: %s [b\"\\xc0\\x0e\\xc0\\x0f\\xc0\\x10\\xc0\\x11\\xc0\\x12\\xc0\\x13\\xc0\\x14\\xc0\\x15\\xc0\\x16\\xc0\\x17\\xc0\\x18\\xc0\\x19\\xc0#\\xc0$\\xc0%\\xc0&\\xc0'\\xc0(\\xc0)\\xc0*\\xc0+\\xc0,\\xc0-\\xc0.\\xc0/\\xc00\\xc01\\xc02\\xc0r\\xc0s\\xc0t\\xc0u\\xc0v\\xc0w\\xc0x\\xc0y\\xc0z\\xc0{\\xc0|\\xc0}\\xc0~\\xc0\\x7f\\xc0\\x80\\xc0\\x81\\xc0\\x82\\xc0\\x83\\xc0\\x84\\xc0\\x85\\xc0\\x86\\xc0\\x87\\xc0\\x88\\xc0\\x89\\xc0\\x8a\\xc0\\x8b\\xc0\\x8c\\xc0\\x8d\\xc0\\x8e\\xc0\\x8f\\xc0\\x90\\xc0\\x91\\xc0\\x92\\xc0\\x93\\xc0\\x94\\xc0\\x95\\xc0\\x96\\xc0\\x97\\xc0\\x98\\xc0\\x99\\xc0\\x9a\\xc0\\x9b\\xcc\\xa8\\xcc\\xa9\\xcc\\xaa\\xcc\\xab\\xcc\\xac\\xcc\\xad\\xcc\\xae\\x02\\x00\\x01\\x00,\\x00\\n\\x00\\n\\x00\\x08\\x00\\x17\\x00\\x19\\x00\\x18\\x00\\x16\\x00\\x0b\\x00\\x04\\x03\\x00\\x01\\x02\\x00\\r\\x00\\x12\\x00\\x10\\x04\\x03\\x08\\x04\", b'\\x05\\x03\\x05', b'']\n",
      "Bad pipe message: %s [b'\\xaf\\x18\\xfd>\\x913\\xc8\\x0c\\x8d>\\xb3\\xe58almy\\x9f\\x00\\x00J\\x00\\x00\\x00\\x01\\x00\\x02\\x00\\x04\\x00\\x05\\x00\\n\\x00\\r\\x00\\x10\\x00\\x13\\x00\\x16\\x00\\x18\\x00\\x1b\\x00/\\x000\\x001\\x002\\x003\\x004\\x005\\x006\\x007\\x008\\x009\\x00:\\x00;\\x00<\\x00=\\x00>\\x00?']\n",
      "Bad pipe message: %s [b'-f7\\\\\\xa8\\x15\\x81\\xbe\\xa3\\xf5\\x94\\xc2\\x1e\\xd0\\xf2\\xe2u\\x8f\\x00\\x00J\\x00\\x00\\x00\\x01\\x00\\x02\\x00\\x04\\x00\\x05\\x00\\n\\x00\\r\\x00\\x10\\x00\\x13']\n",
      "Bad pipe message: %s [b'M5k']\n",
      "Bad pipe message: %s [b',\\xcc\\x1f\\x95\\x88}\\xd5\\x03\\x81\\x9f\\x11\\xb9!J\\xb2\\xc0=\\xf5\\x00\\x006\\xc0\\x01\\xc0\\x03\\xc0\\x04\\xc0\\x05\\xc0\\x06\\xc0\\x08\\xc0\\t\\xc0\\n\\xc0\\x0b\\xc0\\r\\xc0\\x0e\\xc0\\x0f\\xc0\\x10\\xc0\\x12\\xc0\\x13\\xc0\\x14\\xc0\\x15']\n",
      "Bad pipe message: %s [b\"\\xdf\\x18H\\x18\\x0b\\xdcw\\x17\\xe4\\xf8\\x0c\\x04\\xa2\\xfcr\\xa5\\x1e\\x89\\x00\\x00D\\x00\\x96\\x00\\x97\\x00\\x98\\x00\\x99\\x00\\x9a\\x00\\x9b\\x00\\x9c\\x00\\x9d\\x00\\x9e\\x00\\x9f\\x00\\xa0\\x00\\xa1\\x00\\xa2\\x00\\xa3\\x00\\xa4\\x00\\xa5\\x00\\xa6\\x00\\xa7\\xc0#\\xc0$\\xc0%\\xc0&\\xc0'\\xc0(\\xc0)\\xc0*\\xc0+\\xc0,\\xc0-\\xc0.\\xc0/\\xc00\\xc01\\xc02\\x02\\x00\\x01\\x00,\\x00\\n\\x00\\n\\x00\\x08\\x00\\x17\\x00\\x19\"]\n",
      "Bad pipe message: %s [b'\\xba\\x80\\xc1\\xc9\\x0bw\\xf6\\x7f\\xdb\\x05\\x88\\xf9}\\xba\\xd9\\xf2\\xa28\\x00\\x00*\\x00\\x03\\x00\\x06\\x00\\x07\\x00\\x08\\x00\\t\\x00\\x0b\\x00\\x0c\\x00\\x0e\\x00\\x0f\\x00\\x11\\x00\\x12\\x00\\x14\\x00\\x15\\x00\\x17\\x00\\x19\\x00\\x1a\\xc0\\x02\\xc0\\x07\\xc0\\x0c\\xc0\\x11\\xc0\\x16\\x02\\x00\\x01\\x00,\\x00\\n\\x00\\n\\x00\\x08\\x00\\x17\\x00\\x19\\x00\\x18\\x00\\x16\\x00\\x0b\\x00\\x04\\x03\\x00', b'']\n",
      "Bad pipe message: %s [b\"d,h#\\n\\xd8\\xf5\\x1f\\xdb\\x0c\\x8ep\\xe4\\xf0\\xd8\\xd0\\x99'\\x00\\x006\\xc0\\x01\\xc0\\x03\\xc0\\x04\\xc0\\x05\\xc0\\x06\\xc0\\x08\\xc0\\t\\xc0\\n\"]\n",
      "Bad pipe message: %s [b'\\xe5\\xca^X\\xbb6\\xdfmj\\x97\\x9a\\xd9\\x8c\\x16:O\\x1dS \\x87\\xe1(\\xa3\\xb3\\xf2h[\\x94^\\x1c\\x06\\xe1\\xad\\xa7\\xfc\\xc0\\xce\\xbd\\x81k\\x06K\\xb0\\x82\\xcc\\xa7\\x88\\xf8']\n",
      "Bad pipe message: %s [b'\\xa6\\xb7y\\xf4\\xd7\\xfb\\xea8\\xedH~\\x9aBLR\\xf2\\xd8\\xb9\\x00\\x01|\\x00\\x00\\x00\\x01\\x00\\x02\\x00\\x03\\x00\\x04\\x00\\x05\\x00\\x06\\x00\\x07\\x00\\x08\\x00\\t\\x00\\n\\x00\\x0b\\x00\\x0c\\x00\\r\\x00\\x0e\\x00\\x0f\\x00\\x10\\x00\\x11\\x00\\x12\\x00\\x13\\x00\\x14\\x00\\x15\\x00\\x16\\x00\\x17\\x00\\x18\\x00\\x19\\x00\\x1a\\x00\\x1b\\x00/\\x000\\x001\\x002\\x003\\x004\\x005\\x006\\x007\\x008\\x009\\x00:\\x00;\\x00<\\x00=\\x00>\\x00?\\x00@\\x00A\\x00B\\x00C\\x00D\\x00E\\x00F\\x00g\\x00h\\x00i\\x00j\\x00k\\x00l\\x00m\\x00\\x84\\x00\\x85\\x00\\x86\\x00\\x87\\x00\\x88\\x00\\x89\\x00\\x96\\x00\\x97\\x00\\x98\\x00\\x99\\x00\\x9a\\x00\\x9b\\x00\\x9c\\x00\\x9d\\x00\\x9e\\x00\\x9f\\x00\\xa0\\x00\\xa1\\x00\\xa2\\x00\\xa3\\x00\\xa4\\x00\\xa5\\x00\\xa6\\x00\\xa7\\x00\\xba\\x00\\xbb\\x00\\xbc\\x00\\xbd\\x00\\xbe\\x00\\xbf\\x00\\xc0\\x00\\xc1\\x00\\xc2\\x00\\xc3\\x00\\xc4\\x00\\xc5\\x13\\x01\\x13\\x02\\x13\\x03\\x13\\x04\\x13\\x05\\xc0\\x01\\xc0\\x02\\xc0\\x03\\xc0\\x04\\xc0\\x05\\xc0\\x06\\xc0\\x07\\xc0\\x08\\xc0\\t\\xc0\\n\\xc0\\x0b', b\"\\xc0\\r\\xc0\\x0e\\xc0\\x0f\\xc0\\x10\\xc0\\x11\\xc0\\x12\\xc0\\x13\\xc0\\x14\\xc0\\x15\\xc0\\x16\\xc0\\x17\\xc0\\x18\\xc0\\x19\\xc0#\\xc0$\\xc0%\\xc0&\\xc0'\\xc0(\\xc0)\\xc0*\\xc0+\\xc0,\\xc0-\\xc0.\\xc0/\\xc00\\xc01\\xc02\\xc0r\\xc0s\\xc0t\\xc0u\\xc0v\\xc0w\\xc0x\\xc0y\\xc0z\\xc0{\\xc0|\\xc0}\\xc0~\\xc0\\x7f\\xc0\\x80\\xc0\\x81\\xc0\\x82\\xc0\\x83\\xc0\\x84\\xc0\\x85\\xc0\\x86\\xc0\\x87\\xc0\\x88\\xc0\\x89\\xc0\\x8a\\xc0\\x8b\\xc0\\x8c\\xc0\\x8d\\xc0\\x8e\\xc0\\x8f\\xc0\\x90\\xc0\\x91\\xc0\\x92\\xc0\\x93\\xc0\\x94\\xc0\\x95\\xc0\\x96\\xc0\\x97\\xc0\\x98\\xc0\\x99\\xc0\\x9a\\xc0\\x9b\\xcc\\xa8\\xcc\\xa9\\xcc\\xaa\\xcc\\xab\\xcc\\xac\\xcc\\xad\\xcc\\xae\\x02\\x00\\x01\\x00,\\x00\\n\\x00\\n\\x00\\x08\\x00\\x17\\x00\\x19\\x00\\x18\\x00\\x16\\x00\\x0b\\x00\\x04\\x03\\x00\\x01\\x02\\x00\\r\\x00\\x12\\x00\\x10\\x04\\x03\"]\n",
      "Bad pipe message: %s [b'\\x04\\x01\\x05\\x03\\x05\\x01\\x08']\n",
      "Bad pipe message: %s [b'J\\x89\\xd1\\xd2%\\xe1\\xd5\\xc5,\\xe4\\xa8\\x94\\xbe3\\xef\\xb7\\xd2\\xb3\\x00\\x01|\\x00\\x00\\x00\\x01\\x00\\x02\\x00\\x03\\x00\\x04\\x00\\x05\\x00\\x06\\x00\\x07\\x00\\x08\\x00\\t\\x00\\n\\x00\\x0b\\x00\\x0c\\x00\\r\\x00\\x0e\\x00\\x0f\\x00\\x10\\x00\\x11\\x00\\x12\\x00\\x13\\x00\\x14\\x00\\x15\\x00\\x16\\x00\\x17\\x00\\x18\\x00\\x19\\x00\\x1a\\x00\\x1b\\x00/\\x000\\x001\\x002\\x003\\x004\\x005\\x006\\x007\\x008\\x009\\x00:\\x00;\\x00<\\x00=\\x00>\\x00?\\x00@\\x00A\\x00B\\x00C\\x00D\\x00E\\x00F\\x00g\\x00h\\x00i\\x00j\\x00k\\x00l\\x00m\\x00\\x84\\x00\\x85\\x00\\x86\\x00\\x87\\x00\\x88\\x00\\x89\\x00\\x96\\x00\\x97\\x00\\x98\\x00\\x99\\x00\\x9a\\x00\\x9b\\x00\\x9c\\x00\\x9d\\x00\\x9e\\x00\\x9f\\x00\\xa0\\x00\\xa1\\x00\\xa2\\x00\\xa3\\x00\\xa4\\x00\\xa5\\x00\\xa6\\x00\\xa7\\x00\\xba\\x00\\xbb\\x00\\xbc\\x00\\xbd\\x00\\xbe\\x00\\xbf\\x00\\xc0\\x00\\xc1\\x00\\xc2\\x00']\n",
      "Bad pipe message: %s [b'\\xbb\\x82\\xcdq\"\\x06\\xeaI\\x91\\x1f\\xcb\\xd4\\xca\\xbf\\x1a;Z\\x1a\\x00\\x01|\\x00\\x00\\x00\\x01\\x00\\x02\\x00\\x03\\x00\\x04\\x00\\x05\\x00\\x06\\x00\\x07\\x00\\x08\\x00\\t\\x00\\n\\x00\\x0b\\x00\\x0c\\x00\\r\\x00\\x0e\\x00\\x0f\\x00\\x10\\x00\\x11\\x00\\x12\\x00\\x13\\x00\\x14\\x00\\x15\\x00\\x16\\x00\\x17\\x00\\x18\\x00\\x19\\x00\\x1a\\x00\\x1b\\x00/\\x000\\x001\\x002\\x003']\n",
      "Bad pipe message: %s [b\"\\xc4\\x00\\xc5\\x13\\x01\\x13\\x02\\x13\\x03\\x13\\x04\\x13\\x05\\xc0\\x01\\xc0\\x02\\xc0\\x03\\xc0\\x04\\xc0\\x05\\xc0\\x06\\xc0\\x07\\xc0\\x08\\xc0\\t\\xc0\\n\\xc0\\x0b\\xc0\\x0c\\xc0\\r\\xc0\\x0e\\xc0\\x0f\\xc0\\x10\\xc0\\x11\\xc0\\x12\\xc0\\x13\\xc0\\x14\\xc0\\x15\\xc0\\x16\\xc0\\x17\\xc0\\x18\\xc0\\x19\\xc0#\\xc0$\\xc0%\\xc0&\\xc0'\\xc0(\\xc0)\\xc0*\\xc0+\\xc0,\\xc0-\\xc0.\\xc0/\\xc00\\xc01\\xc02\\xc0r\\xc0s\\xc0t\\xc0u\\xc0v\\xc0w\\xc0x\\xc0y\\xc0z\\xc0{\\xc0|\\xc0}\\xc0~\\xc0\\x7f\\xc0\\x80\\xc0\\x81\\xc0\\x82\\xc0\\x83\\xc0\\x84\\xc0\\x85\\xc0\\x86\\xc0\\x87\\xc0\\x88\\xc0\\x89\\xc0\\x8a\\xc0\\x8b\\xc0\\x8c\\xc0\\x8d\\xc0\\x8e\\xc0\\x8f\\xc0\\x90\\xc0\\x91\\xc0\\x92\\xc0\\x93\\xc0\\x94\\xc0\\x95\\xc0\\x96\\xc0\\x97\\xc0\\x98\\xc0\\x99\\xc0\\x9a\\xc0\\x9b\\xcc\\xa8\\xcc\\xa9\\xcc\\xaa\\xcc\\xab\\xcc\\xac\\xcc\\xad\\xcc\\xae\\x02\"]\n",
      "Bad pipe message: %s [b'\\x12\\xe9);8 \\xdfC\\xe8\\xff\\xed\\xae||:\\x08\\x17\\xa1\\x00\\x01|\\x00\\x00\\x00\\x01\\x00\\x02\\x00\\x03\\x00\\x04\\x00\\x05\\x00\\x06\\x00\\x07\\x00\\x08\\x00\\t\\x00\\n\\x00\\x0b\\x00\\x0c\\x00\\r\\x00\\x0e\\x00\\x0f\\x00\\x10\\x00\\x11\\x00\\x12\\x00\\x13\\x00\\x14\\x00\\x15\\x00\\x16\\x00\\x17\\x00\\x18\\x00\\x19\\x00\\x1a\\x00\\x1b\\x00/\\x000\\x001\\x002\\x003\\x004\\x005\\x006\\x007\\x008\\x009\\x00:\\x00;\\x00<\\x00=\\x00>\\x00?\\x00@\\x00A\\x00B\\x00C\\x00D\\x00E\\x00F\\x00g\\x00h\\x00i\\x00j\\x00k\\x00l\\x00m\\x00\\x84\\x00\\x85\\x00\\x86\\x00\\x87\\x00']\n",
      "Bad pipe message: %s [b\"\\x89\\x00\\x96\\x00\\x97\\x00\\x98\\x00\\x99\\x00\\x9a\\x00\\x9b\\x00\\x9c\\x00\\x9d\\x00\\x9e\\x00\\x9f\\x00\\xa0\\x00\\xa1\\x00\\xa2\\x00\\xa3\\x00\\xa4\\x00\\xa5\\x00\\xa6\\x00\\xa7\\x00\\xba\\x00\\xbb\\x00\\xbc\\x00\\xbd\\x00\\xbe\\x00\\xbf\\x00\\xc0\\x00\\xc1\\x00\\xc2\\x00\\xc3\\x00\\xc4\\x00\\xc5\\x13\\x01\\x13\\x02\\x13\\x03\\x13\\x04\\x13\\x05\\xc0\\x01\\xc0\\x02\\xc0\\x03\\xc0\\x04\\xc0\\x05\\xc0\\x06\\xc0\\x07\\xc0\\x08\\xc0\\t\\xc0\\n\\xc0\\x0b\\xc0\\x0c\\xc0\\r\\xc0\\x0e\\xc0\\x0f\\xc0\\x10\\xc0\\x11\\xc0\\x12\\xc0\\x13\\xc0\\x14\\xc0\\x15\\xc0\\x16\\xc0\\x17\\xc0\\x18\\xc0\\x19\\xc0#\\xc0$\\xc0%\\xc0&\\xc0'\\xc0(\\xc0)\"]\n",
      "Bad pipe message: %s [b\"E'r\\xb1\\xc4\\x93\\xe9#\\x8dW\\x1e'\\x19\\x8d\\x04\\x0e2\\xd5\\x00\\x000\\x00A\\x00B\\x00\"]\n",
      "Bad pipe message: %s [b\"\\xc8\\xf81\\xfa.\\xd8\\xe9g\\x8b\\x89:\\x81^\\xa6\\xc0O\\x05,\\x00\\x00D\\x00\\x96\\x00\\x97\\x00\\x98\\x00\\x99\\x00\\x9a\\x00\\x9b\\x00\\x9c\\x00\\x9d\\x00\\x9e\\x00\\x9f\\x00\\xa0\\x00\\xa1\\x00\\xa2\\x00\\xa3\\x00\\xa4\\x00\\xa5\\x00\\xa6\\x00\\xa7\\xc0#\\xc0$\\xc0%\\xc0&\\xc0'\\xc0(\\xc0)\\xc0*\\xc0+\\xc0,\\xc0-\\xc0.\\xc0/\\xc00\\xc01\\xc02\\x02\\x00\\x01\\x00,\\x00\\n\\x00\\n\\x00\\x08\\x00\\x17\\x00\\x19\\x00\\x18\\x00\\x16\\x00\\x0b\\x00\\x04\\x03\\x00\\x01\", b'\\r']\n",
      "Bad pipe message: %s [b'\\xfb\\xfa\\x91\\xa6\\xf64\\xb7Z\\xf2l7\\x1d\\xd7\\x1d\\x1f\\xe9\\xbd9\\x00\\x006\\xc0\\x01\\xc0\\x03\\xc0\\x04\\xc0\\x05\\xc0\\x06\\xc0\\x08\\xc0\\t\\xc0\\n\\xc0\\x0b\\xc0', b'\\x0e\\xc0\\x0f\\xc0\\x10\\xc0\\x12\\xc0\\x13\\xc0\\x14\\xc0']\n",
      "Bad pipe message: %s [b'\\x17\\xc0\\x18\\xc0\\x19\\xcc\\xa8\\xcc\\xa9\\xcc\\xaa\\xcc\\xab\\xcc\\xac\\xcc\\xad\\xcc\\xae\\x02']\n",
      "Bad pipe message: %s [b'Z\\xb6d\\xdaO\\xaf\\xe8\\xe6\\xcb\\x8c\\xbe\\x98L\\x08\\x01@L{\\x00\\x000\\x00A\\x00B\\x00C\\x00D\\x00E\\x00F\\x00\\x84\\x00\\x85\\x00\\x86\\x00\\x87\\x00\\x88\\x00\\x89\\x00\\xba\\x00\\xbb\\x00\\xbc\\x00\\xbd\\x00\\xbe\\x00\\xbf\\x00\\xc0\\x00']\n",
      "Bad pipe message: %s [b'\\xef\\x1d\\x19\\xcd\\xb9\\xea}\\x1f\\xbaf\\\\\\xf3\\xc3z]k\\r\\xc9\\x00\\x00T\\xc0r\\xc0s\\xc0t\\xc0u\\xc0v\\xc0w\\xc0x\\xc0y\\xc0z\\xc0{\\xc0|\\xc0}\\xc0~\\xc0\\x7f\\xc0\\x80\\xc0\\x81\\xc0\\x82\\xc0\\x83\\xc0\\x84\\xc0\\x85\\xc0\\x86\\xc0\\x87\\xc0\\x88\\xc0\\x89\\xc0\\x8a\\xc0\\x8b\\xc0\\x8c\\xc0\\x8d\\xc0\\x8e\\xc0\\x8f']\n",
      "Bad pipe message: %s [b'\\x18\\xd0\\xce\\xe8\\xef[\\xc3\\x04\\x9e\\xea\\xc2X>\\xf1\\xd8\\xa5\\xc1\\x01\\x00\\x00*\\x00\\x03\\x00\\x06\\x00\\x07\\x00\\x08\\x00\\t\\x00\\x0b\\x00\\x0c\\x00\\x0e\\x00\\x0f\\x00\\x11\\x00\\x12\\x00\\x14\\x00\\x15\\x00\\x17\\x00\\x19\\x00\\x1a\\xc0\\x02\\xc0\\x07\\xc0\\x0c\\xc0\\x11\\xc0\\x16\\x02\\x00\\x01\\x00,\\x00\\n\\x00\\n\\x00\\x08\\x00\\x17\\x00', b'\\x18\\x00\\x16\\x00\\x0b\\x00\\x04\\x03\\x00\\x01\\x02\\x00\\r\\x00\\x12\\x00\\x10\\x04\\x03\\x08\\x04\\x04\\x01\\x05']\n",
      "Bad pipe message: %s [b'F\\xe714\\x07\\x1a\\xc6\\x9e\\xc2Z\\x04\\xf1\\xaa!\\xd4>\\xad#\\x00\\x00J\\x00\\x00\\x00\\x01\\x00\\x02\\x00\\x04\\x00\\x05\\x00\\n\\x00\\r\\x00\\x10\\x00\\x13\\x00\\x16\\x00\\x18']\n",
      "Bad pipe message: %s [b'\\xc5\\x12g\\xbdq\\xc6s\\x99\\xd3\\xfc/\\x18v\\xb9\\x7f\\x95\\xd9\\xfc\\x00\\x00T\\xc0r\\xc0s\\xc0t\\xc0u\\xc0v\\xc0w\\xc0x\\xc0y\\xc0z\\xc0{\\xc0|\\xc0}\\xc0~\\xc0\\x7f\\xc0\\x80\\xc0\\x81\\xc0\\x82\\xc0\\x83\\xc0\\x84\\xc0\\x85\\xc0\\x86\\xc0\\x87\\xc0\\x88\\xc0\\x89\\xc0\\x8a\\xc0\\x8b\\xc0\\x8c\\xc0\\x8d\\xc0\\x8e\\xc0\\x8f\\xc0\\x90\\xc0\\x91\\xc0\\x92\\xc0\\x93\\xc0\\x94\\xc0\\x95\\xc0\\x96\\xc0\\x97\\xc0\\x98\\xc0\\x99\\xc0']\n",
      "Bad pipe message: %s [b'gA\\xe6G\\xe2\\xcc<\\xfc\\xb4\\x84\\xb9h\\xf6\\xe8]u\\x8d\\x05\\x00\\x00*\\x00\\x03\\x00\\x06\\x00\\x07\\x00\\x08\\x00\\t\\x00\\x0b\\x00\\x0c\\x00\\x0e\\x00\\x0f\\x00\\x11\\x00\\x12\\x00']\n",
      "Bad pipe message: %s [b'\\x15\\x00\\x17\\x00\\x19\\x00\\x1a\\xc0\\x02\\xc0\\x07\\xc0\\x0c\\xc0\\x11\\xc0\\x16\\x02\\x00']\n",
      "Bad pipe message: %s [b'']\n",
      "Bad pipe message: %s [b'\\n\\x00\\n\\x00\\x08\\x00\\x17\\x00\\x19\\x00\\x18\\x00\\x16\\x00\\x0b\\x00\\x04\\x03\\x00\\x01\\x02\\x00\\r\\x00\\x12\\x00\\x10\\x04\\x03\\x08\\x04\\x04\\x01\\x05\\x03\\x05\\x01\\x08\\x05\\x08\\x06\\x06\\x01']\n",
      "Bad pipe message: %s [b'+\\xde\\x03\\xa6(\\x14\\x8bM\\xf4\\xdb\\xfe\\x9e2#\\xa77X\\xe5\\x00\\x00\\n\\x13']\n",
      "Bad pipe message: %s [b'\\xcb\\x01\\x05\\xcc\\n\\n\\xf3U\\xc1$+\\x96\\xca\\x1dr\\xf5\\tQ \\xfa\\xc92v\\'\\x11Qt+\\xc6J@\\x9cw*\\xd8J#\\x0e@\\x0eb$@K\\xe3\\x00C\\xffFd\"\\x00\\n\\x13\\x01\\x13\\x02\\x13\\x03\\x13\\x04\\x13\\x05\\x01\\x00\\x00\\x9e\\x00+\\x00\\x03\\x02\\x03\\x04\\x00\\n\\x00\\n\\x00\\x08\\xaa\\xaa\\x00\\x17\\x00\\x18\\x00\\x1d\\x00\\x00\\x00\\x10\\x00\\x0e\\x00\\x00\\x0bAMBUS140821\\x00\\r\\x00\\x12\\x00\\x10\\x04\\x03\\x08\\x04\\x04\\x01\\x05\\x03\\x08\\x05\\x05\\x01\\x08\\x06\\x06\\x01\\x00\\x17\\x00\\x00\\x00#\\x00\\x05\\x01\\x00\\x00\\x00\\x00\\x00\\x05\\x00\\x01\\x00\\x00\\x10\\x00\\x0e\\x00\\x0c\\x02h2\\x08http/1.']\n",
      "Bad pipe message: %s [b'-\\x00\\x02\\x01\\x01\\x00\\x1b\\x00\\x03\\x01\\x00\\x02\\x00\\x12\\x00\\x00\\x003\\x00&\\x00$\\x00\\x1d\\x00 \\xa8^\\xd8\\xae!Ht\\xddp\\xe0\\xa0\\xb4\\xb4\\xda_\\x1fc\\x98\\x84Jx\\xec']\n"
     ]
    }
   ],
   "source": [
    "baseline_weight = baseline_model.model[0].weight\n",
    "gradient_weight = custom_model.model[0].weight\n",
    "\n",
    "baseline_bias = baseline_model.model[0].bias\n",
    "gradient_bias = custom_model.model[0].bias\n",
    "\n",
    "print(\"Weight Difference:\", (baseline_weight - gradient_weight).abs().max().item())\n",
    "print(\"Bias Difference:\", (baseline_bias - gradient_bias).abs().max().item())"
   ]
  }
 ],
 "metadata": {
  "kernelspec": {
   "display_name": "ct",
   "language": "python",
   "name": "python3"
  },
  "language_info": {
   "codemirror_mode": {
    "name": "ipython",
    "version": 3
   },
   "file_extension": ".py",
   "mimetype": "text/x-python",
   "name": "python",
   "nbconvert_exporter": "python",
   "pygments_lexer": "ipython3",
   "version": "3.9.19"
  }
 },
 "nbformat": 4,
 "nbformat_minor": 2
}
