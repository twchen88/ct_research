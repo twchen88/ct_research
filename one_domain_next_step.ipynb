{
 "cells": [
  {
   "cell_type": "markdown",
   "metadata": {},
   "source": [
    "## overview\n",
    "- predict performance at next step given next domain to practice on, only train one domain at a time"
   ]
  },
  {
   "cell_type": "code",
   "execution_count": 1077,
   "metadata": {},
   "outputs": [],
   "source": [
    "import numpy as np\n",
    "import pandas as pd\n",
    "import matplotlib.pyplot as plt\n",
    "import seaborn as sns\n",
    "import torch\n",
    "import torch.nn as nn\n",
    "import torch.nn.functional as F\n",
    "from torch.utils.data import DataLoader, Dataset\n",
    "import copy\n",
    "import wandb\n",
    "import statistics\n",
    "from datetime import datetime\n",
    "from sklearn.model_selection import train_test_split\n",
    "import random\n",
    "from scipy.stats import sem"
   ]
  },
  {
   "cell_type": "markdown",
   "metadata": {},
   "source": [
    "Initialize run"
   ]
  },
  {
   "cell_type": "code",
   "execution_count": 1078,
   "metadata": {},
   "outputs": [],
   "source": [
    "# Set seeds for reproducibility\n",
    "torch.manual_seed(42)\n",
    "np.random.seed(42)\n",
    "random.seed(42)\n",
    "\n",
    "# Ensure deterministic algorithms\n",
    "torch.backends.cudnn.deterministic = True\n",
    "torch.backends.cudnn.benchmark = False"
   ]
  },
  {
   "cell_type": "markdown",
   "metadata": {},
   "source": [
    "Data"
   ]
  },
  {
   "cell_type": "code",
   "execution_count": 1079,
   "metadata": {},
   "outputs": [],
   "source": [
    "# read in filtered sessions data\n",
    "df = pd.read_csv(\"data/filtered_ds.csv\")"
   ]
  },
  {
   "cell_type": "code",
   "execution_count": 1080,
   "metadata": {},
   "outputs": [],
   "source": [
    "# sort df by start time min\n",
    "df[\"start_time_min\"] = df[\"start_time_min\"].astype('datetime64[ns]')\n",
    "df = df.sort_values(by=[\"patient_id\", \"start_time_min\"])"
   ]
  },
  {
   "cell_type": "markdown",
   "metadata": {},
   "source": [
    "Create training data"
   ]
  },
  {
   "cell_type": "code",
   "execution_count": 1081,
   "metadata": {},
   "outputs": [],
   "source": [
    "domain_included = dict()\n",
    "for i in range(1, 15):\n",
    "    domain_included[i] = 0"
   ]
  },
  {
   "cell_type": "code",
   "execution_count": 1082,
   "metadata": {},
   "outputs": [],
   "source": [
    "# given a row of sessions, take domain_ids and domain_scores, which are in string format separated by \",\", and replace with a list of the values\n",
    "def process_row(row):\n",
    "    values_a = [int(x.strip()) for x in str(row['domain_ids']).split(',')]\n",
    "    values_b = [float(x.strip()) for x in str(row['domain_scores']).split(',')]\n",
    "    return values_a, values_b"
   ]
  },
  {
   "cell_type": "code",
   "execution_count": 1083,
   "metadata": {},
   "outputs": [],
   "source": [
    "# take in a dataframe of a patient's session, extract information useful for training\n",
    "def create_training_data(data: pd.DataFrame):\n",
    "    # Initialize variables\n",
    "    session_row = [] # contents of a row (patient id, encoding, cur score, prev score, repeat)\n",
    "    overall = [] # aggregate of everything (n sessions x 44)\n",
    "\n",
    "    cur_score = np.zeros((14)) # score for each session\n",
    "    prev_score = None\n",
    "\n",
    "    seen = {} # dictionary for seen\n",
    "    patient_id = data[\"patient_id\"].iloc[0] # save patient_id\n",
    "\n",
    "    # Sort data by session start time\n",
    "    data = data.sort_values(by=[\"start_time_min\"])\n",
    "\n",
    "    # Process each row\n",
    "    for idx, row in data.iterrows():\n",
    "        domains, domain_scores = process_row(row)  # returns a list of domains : int and of domain_scores : float\n",
    "\n",
    "        # Track repeat status and update scores\n",
    "        repeat = False\n",
    "\n",
    "        for j, domain in enumerate(domains):\n",
    "            if domain not in seen:\n",
    "                seen[domain] = True\n",
    "            else:\n",
    "                repeat = True\n",
    "\n",
    "            cur_score[domain - 1] = domain_scores[j] # update score in the loop\n",
    "\n",
    "        # Encode domains for this session\n",
    "        domain_encoding = np.zeros(14)\n",
    "        for domain in domains:\n",
    "            domain_encoding[domain - 1] = 1\n",
    "\n",
    "        # if the session does not contain the target domain or is the first (no prev score), continue in the loop without doing anything, do this before appending\n",
    "        if prev_score is None or len(domains) != 1 or domain_included[domains[0]] >= 10: # only sessions that only do one domain\n",
    "            session_row = []\n",
    "            prev_score = cur_score.copy()\n",
    "            continue\n",
    "        assert np.sum(domain_encoding) == 1, \"continue not working\"\n",
    "\n",
    "        # append everything in the row list\n",
    "        session_row.append(patient_id)\n",
    "        session_row.extend(domain_encoding.copy().tolist())\n",
    "        session_row.extend(prev_score.copy().tolist())\n",
    "        session_row.extend(cur_score.copy().tolist())\n",
    "        session_row.append(repeat)\n",
    "        assert len(session_row) == 44, \"session row length weird\"\n",
    "\n",
    "        # append row to overall, reset\n",
    "        overall.append(session_row)\n",
    "        session_row = []\n",
    "        prev_score = cur_score.copy()\n",
    "        domain_included[domains[0]] += 1\n",
    "\n",
    "\n",
    "    # Convert to numpy arrays\n",
    "    if overall:\n",
    "        overall = np.array(overall)\n",
    "        assert len(overall.shape) == 2, \"dimensions of overall wrong\"\n",
    "    else:\n",
    "        # Handle case where scores is empty\n",
    "        return pd.DataFrame(columns=[\"patient_id\"] + [\"domain %d encoding\" % i for i in range(1, 15)] +\n",
    "                                   [\"domain %d score\" % i for i in range(1, 15)] +\n",
    "                                   [\"domain %d target\" % i for i in range(1, 15)] +\n",
    "                                   [\"repeat\"])\n",
    "    \n",
    "        # Create column names\n",
    "    column_names = (\n",
    "        [\"patient_id\"]\n",
    "        + [f\"domain {i} encoding\" for i in range(1, 15)]\n",
    "        + [f\"domain {i} score\" for i in range(1, 15)]\n",
    "        + [f\"domain {i} target\" for i in range(1, 15)]\n",
    "        + [\"repeat\"]\n",
    "    )\n",
    "\n",
    "    # Create dataframe\n",
    "    scores_df = pd.DataFrame(overall, columns=column_names)\n",
    "    scores_df.reset_index(drop=True, inplace=True)\n",
    "    return scores_df"
   ]
  },
  {
   "cell_type": "code",
   "execution_count": 1084,
   "metadata": {},
   "outputs": [
    {
     "name": "stderr",
     "output_type": "stream",
     "text": [
      "/var/folders/vv/6vndbrvd7r1gc7xq3qqx8tfh0000gq/T/ipykernel_45089/1164513361.py:2: FutureWarning: The behavior of DataFrame concatenation with empty or all-NA entries is deprecated. In a future version, this will no longer exclude empty or all-NA columns when determining the result dtypes. To retain the old behavior, exclude the relevant entries before the concat operation.\n",
      "  data = df.groupby(\"patient_id\")[df.columns].apply(create_training_data).reset_index(drop=True)\n"
     ]
    }
   ],
   "source": [
    "# apply create_training_data to each individual patients\n",
    "data = df.groupby(\"patient_id\")[df.columns].apply(create_training_data).reset_index(drop=True)"
   ]
  },
  {
   "cell_type": "code",
   "execution_count": 1085,
   "metadata": {},
   "outputs": [],
   "source": [
    "## pick a random patient for case study\n",
    "# pid = random.choice(pd.unique(data[\"patient_id\"]))\n",
    "# ## save the patient's data\n",
    "# case_study_data = copy.deepcopy(data[data['patient_id'] == pid])\n",
    "# ## remove the patient's data from the dataset\n",
    "# model_data = data.drop(data[data['patient_id'] == pid].index)\n",
    "\n",
    "# ## reset index for the case study\n",
    "# case_study_data = case_study_data.reset_index(drop=True)"
   ]
  },
  {
   "cell_type": "code",
   "execution_count": 1086,
   "metadata": {},
   "outputs": [],
   "source": [
    "# drop patient_id column\n",
    "# model_data = model_data.drop([\"patient_id\"], axis=1)"
   ]
  },
  {
   "cell_type": "code",
   "execution_count": 1087,
   "metadata": {},
   "outputs": [],
   "source": [
    "# filter rows based on number of zeros allowed\n",
    "def filter_nonzero_rows(df, max_zeros, column_names=[\"domain %d score\" %i for i in range(1, 15)]):\n",
    "    # only use the score columns when counting 0s\n",
    "    scores = df[column_names]\n",
    "    # Count number of zeros in each row\n",
    "    zeros_count = (scores == 0).sum(axis=1)\n",
    "    \n",
    "    # Filter rows with at most max_zeros number of zeros\n",
    "    non_zero_rows = df[zeros_count <= max_zeros]\n",
    "    return non_zero_rows"
   ]
  },
  {
   "cell_type": "code",
   "execution_count": 1088,
   "metadata": {},
   "outputs": [],
   "source": [
    "model_data = data"
   ]
  },
  {
   "cell_type": "code",
   "execution_count": 1089,
   "metadata": {},
   "outputs": [
    {
     "data": {
      "text/plain": [
       "(130, 44)"
      ]
     },
     "execution_count": 1089,
     "metadata": {},
     "output_type": "execute_result"
    }
   ],
   "source": [
    "model_data.shape"
   ]
  },
  {
   "cell_type": "code",
   "execution_count": 1090,
   "metadata": {},
   "outputs": [],
   "source": [
    "# train_data, test_data = train_test_split(model_data, test_size=0.25)\n",
    "\n",
    "## one sample for train, only to see if it learns that one example\n",
    "train_data = model_data.copy()\n",
    "test_data = model_data.copy()"
   ]
  },
  {
   "cell_type": "code",
   "execution_count": 1091,
   "metadata": {},
   "outputs": [],
   "source": [
    "def generate_random_array(rows, cols, N):\n",
    "    if N > cols:\n",
    "        raise ValueError(\"N cannot be greater than the number of columns.\")\n",
    "    \n",
    "    # Create an array of ones with the desired shape\n",
    "    array = np.ones((rows, cols), dtype=int)\n",
    "    \n",
    "    # Randomly assign N zeros to each row\n",
    "    for i in range(rows):\n",
    "        indices = np.random.choice(cols, N, replace=False)\n",
    "        array[i, indices] = 0\n",
    "    \n",
    "    return array, array.shape[0] * N"
   ]
  },
  {
   "cell_type": "code",
   "execution_count": 1092,
   "metadata": {},
   "outputs": [],
   "source": [
    "def generate_mask(data, N=10):\n",
    "    rows, cols = data.shape\n",
    "    assert(cols == 14)\n",
    "    mask, n_zeros = generate_random_array(rows, cols, N)\n",
    "    data = copy.deepcopy(data)\n",
    "    return data * mask, n_zeros, mask"
   ]
  },
  {
   "cell_type": "code",
   "execution_count": 1093,
   "metadata": {},
   "outputs": [],
   "source": [
    "def generate_differently_masked_data(original_matrix, dupe_n=14):\n",
    "    score_columns = [\"domain %d score\" %i for i in range(1, 15)]\n",
    "    encoding_columns = [\"domain %d encoding\" %i for i in range(1, 15)]\n",
    "    target_columns = [\"domain %d target\" %i for i in range(1, 15)]\n",
    "    final_matrix_lst = [original_matrix.copy()] * dupe_n\n",
    "    for i in range(14):\n",
    "        final_matrix_lst[i][score_columns], _, _ = generate_mask(original_matrix[score_columns], N = i)\n",
    "    final_matrix = pd.concat(final_matrix_lst)\n",
    "    return copy.deepcopy(final_matrix[encoding_columns + score_columns]), copy.deepcopy(final_matrix[target_columns])"
   ]
  },
  {
   "cell_type": "code",
   "execution_count": 1094,
   "metadata": {},
   "outputs": [],
   "source": [
    "score_columns = [\"domain %d score\" %i for i in range(1, 15)]\n",
    "encoding_columns = [\"domain %d encoding\" %i for i in range(1, 15)]\n",
    "target_columns = [\"domain %d target\" %i for i in range(1, 15)]\n",
    "repeat_columns = [\"repeat\"]"
   ]
  },
  {
   "cell_type": "code",
   "execution_count": 1095,
   "metadata": {},
   "outputs": [],
   "source": [
    "# train_data, target = generate_differently_masked_data(train_data, dupe_n=14)\n",
    "target = np.sum(train_data[target_columns].copy().to_numpy() * train_data[encoding_columns].copy().to_numpy(), axis=1)\n",
    "train_data = train_data[encoding_columns + score_columns].copy()"
   ]
  },
  {
   "cell_type": "code",
   "execution_count": 1096,
   "metadata": {},
   "outputs": [],
   "source": [
    "gt = np.sum(train_data[score_columns].to_numpy() * train_data[encoding_columns].copy().to_numpy(), axis=1)\n",
    "domain_arr = np.argmax(train_data[encoding_columns].copy().to_numpy(), axis=1)"
   ]
  },
  {
   "cell_type": "code",
   "execution_count": 1097,
   "metadata": {},
   "outputs": [
    {
     "data": {
      "text/plain": [
       "array([0.   , 0.   , 0.45 , 0.507, 0.703, 0.585, 0.95 , 0.807, 0.733,\n",
       "       0.45 , 0.507, 0.571, 0.95 , 0.807, 0.739, 0.45 , 0.5  , 0.571,\n",
       "       0.95 , 0.807, 0.776, 0.45 , 0.5  , 0.95 , 0.814, 0.45 , 0.5  ,\n",
       "       0.745, 0.95 , 0.807, 0.45 , 0.5  , 0.751, 0.95 , 0.8  , 0.45 ,\n",
       "       0.5  , 0.745, 0.45 , 0.45 , 0.95 , 0.8  , 0.44 , 0.507, 0.739,\n",
       "       0.95 , 0.793, 0.507, 0.709, 0.   , 0.95 , 0.786, 0.507, 0.703,\n",
       "       1.   , 1.   , 1.   , 1.   , 1.   , 1.   , 0.571, 1.   , 0.571,\n",
       "       0.571, 1.   , 1.   , 0.585, 0.6  , 0.614, 0.571, 0.   , 0.407,\n",
       "       0.36 , 0.314, 0.267, 0.267, 0.267, 0.267, 0.267, 0.267, 0.171,\n",
       "       0.53 , 0.2  , 0.2  , 0.2  , 0.214, 0.214, 0.214, 0.3  , 0.257,\n",
       "       0.257, 0.621, 0.067, 0.067, 0.067, 0.067, 0.067, 0.067, 0.067,\n",
       "       0.067, 0.067, 0.   , 0.14 , 0.15 , 0.15 , 0.15 , 0.14 , 0.14 ,\n",
       "       0.15 , 0.15 , 0.   , 0.882, 0.882, 0.882, 0.764, 0.764, 0.764,\n",
       "       0.   , 0.   , 0.   , 0.106, 0.08 , 0.093, 0.067, 0.08 , 0.08 ,\n",
       "       0.053, 0.027, 0.04 , 0.04 ])"
      ]
     },
     "execution_count": 1097,
     "metadata": {},
     "output_type": "execute_result"
    }
   ],
   "source": [
    "gt"
   ]
  },
  {
   "cell_type": "code",
   "execution_count": 1098,
   "metadata": {},
   "outputs": [
    {
     "data": {
      "text/plain": [
       "array([0.95 , 0.807, 0.45 , 0.507, 0.703, 0.571, 0.95 , 0.807, 0.703,\n",
       "       0.45 , 0.507, 0.571, 0.95 , 0.807, 0.739, 0.45 , 0.5  , 0.571,\n",
       "       0.95 , 0.814, 0.745, 0.45 , 0.5  , 0.95 , 0.807, 0.45 , 0.5  ,\n",
       "       0.745, 0.95 , 0.8  , 0.45 , 0.5  , 0.782, 0.95 , 0.8  , 0.45 ,\n",
       "       0.5  , 0.745, 0.45 , 0.44 , 0.95 , 0.793, 0.44 , 0.507, 0.739,\n",
       "       0.95 , 0.786, 0.507, 0.709, 1.   , 0.95 , 0.786, 0.507, 0.703,\n",
       "       1.   , 1.   , 1.   , 1.   , 1.   , 1.   , 0.571, 1.   , 0.571,\n",
       "       0.571, 1.   , 1.   , 0.6  , 0.614, 0.629, 0.571, 0.407, 0.36 ,\n",
       "       0.314, 0.267, 0.267, 0.267, 0.267, 0.267, 0.267, 0.267, 0.186,\n",
       "       0.53 , 0.2  , 0.2  , 0.2  , 0.214, 0.214, 0.257, 0.257, 0.257,\n",
       "       0.257, 0.067, 0.067, 0.067, 0.067, 0.067, 0.067, 0.067, 0.067,\n",
       "       0.067, 0.067, 0.14 , 0.15 , 0.15 , 0.15 , 0.14 , 0.14 , 0.14 ,\n",
       "       0.15 , 0.15 , 0.882, 0.882, 0.882, 0.764, 0.764, 0.764, 0.823,\n",
       "       0.   , 0.   , 0.   , 0.08 , 0.093, 0.067, 0.08 , 0.08 , 0.053,\n",
       "       0.027, 0.04 , 0.04 , 0.04 ])"
      ]
     },
     "execution_count": 1098,
     "metadata": {},
     "output_type": "execute_result"
    }
   ],
   "source": [
    "target"
   ]
  },
  {
   "cell_type": "code",
   "execution_count": 1099,
   "metadata": {},
   "outputs": [
    {
     "name": "stdout",
     "output_type": "stream",
     "text": [
      "[ 0.95   0.807  0.     0.     0.    -0.014  0.     0.    -0.03   0.\n",
      "  0.     0.     0.     0.     0.     0.     0.     0.     0.     0.007\n",
      " -0.031  0.     0.     0.    -0.007  0.     0.     0.     0.    -0.007\n",
      "  0.     0.     0.031  0.     0.     0.     0.     0.     0.    -0.01\n",
      "  0.    -0.007  0.     0.     0.     0.    -0.007  0.     0.     1.\n",
      "  0.     0.     0.     0.     0.     0.     0.     0.     0.     0.\n",
      "  0.     0.     0.     0.     0.     0.     0.015  0.014  0.015  0.\n",
      "  0.407 -0.047 -0.046 -0.047  0.     0.     0.     0.     0.     0.\n",
      "  0.015  0.     0.     0.     0.     0.     0.     0.043 -0.043  0.\n",
      "  0.    -0.554  0.     0.     0.     0.     0.     0.     0.     0.\n",
      "  0.     0.14   0.01   0.     0.    -0.01   0.     0.     0.     0.\n",
      "  0.882  0.     0.    -0.118  0.     0.     0.059  0.     0.     0.\n",
      " -0.026  0.013 -0.026  0.013  0.    -0.027 -0.026  0.013  0.     0.   ]\n"
     ]
    },
    {
     "data": {
      "image/png": "[encoded data removed]",
      "text/plain": [
       "<Figure size 800x600 with 1 Axes>"
      ]
     },
     "metadata": {},
     "output_type": "display_data"
    }
   ],
   "source": [
    "## ground truth\n",
    "diff = target - gt\n",
    "print(diff)\n",
    "\n",
    "\n",
    "# Find unique domains and their indices\n",
    "unique_domains, inverse_indices = np.unique(domain_arr, return_inverse=True)\n",
    "\n",
    "# Compute the average difference for each domain\n",
    "average_differences = np.array([diff[inverse_indices == i].mean() for i in range(len(unique_domains))])\n",
    "\n",
    "# Plot the bar chart\n",
    "fig, ax = plt.subplots(figsize=(8, 6))  # Create the figure and axes\n",
    "bars = ax.bar(range(len(average_differences)), average_differences, tick_label=[f\"{i+1}\" for i in unique_domains])\n",
    "\n",
    "\n",
    "# Add values to the bars\n",
    "ax.bar_label(bars, label_type='edge')\n",
    "\n",
    "# Set the y-axis range\n",
    "ax.set_ylim(-1, 1)\n",
    "\n",
    "\n",
    "# Add labels and title\n",
    "plt.xlabel(\"Domains\", fontsize=12)\n",
    "plt.ylabel(\"Average Difference\", fontsize=12)\n",
    "plt.title(\"Ground Truth Training Data Domain Improvement Averages\", fontsize=16)\n",
    "plt.tight_layout()\n",
    "\n",
    "# Show the plot\n",
    "plt.show()"
   ]
  },
  {
   "cell_type": "code",
   "execution_count": 1100,
   "metadata": {},
   "outputs": [],
   "source": [
    "train_data = train_data.to_numpy()\n",
    "# target = target.reshape((1, -1))"
   ]
  },
  {
   "cell_type": "code",
   "execution_count": 1101,
   "metadata": {},
   "outputs": [],
   "source": [
    "def create_missing_indicator(data):\n",
    "    (l, w) = data.shape\n",
    "    temp = np.zeros((l, w*2))\n",
    "    for i in range(l):\n",
    "        for d in range(w):\n",
    "            p = data[i, d]\n",
    "            # update output array\n",
    "            if p == 0:\n",
    "                # print(\"shouldn't be here\")\n",
    "                missing_ind = np.random.choice(2, 1)[0]\n",
    "                temp[i, d*2] = missing_ind\n",
    "                temp[i, d*2+1] = missing_ind\n",
    "            else:\n",
    "                temp[i, d*2] = p # score\n",
    "                temp[i, d*2+1] = 1-p # 1-score\n",
    "    return copy.deepcopy(temp)"
   ]
  },
  {
   "cell_type": "code",
   "execution_count": 1102,
   "metadata": {},
   "outputs": [],
   "source": [
    "train_data_scores = create_missing_indicator(train_data[:, -14:])\n",
    "train_data = np.hstack((train_data[:, :14], train_data_scores))"
   ]
  },
  {
   "cell_type": "markdown",
   "metadata": {},
   "source": [
    "Model"
   ]
  },
  {
   "cell_type": "code",
   "execution_count": null,
   "metadata": {},
   "outputs": [],
   "source": [
    "## input : 14 domain encodings + 14 domains (28 total features with missing indicator)\n",
    "## output: 28 score (prediction for the scores after next domain)\n",
    "class NN(torch.nn.Module):\n",
    "    def __init__(self):\n",
    "        super().__init__()\n",
    "        n_domains = 14\n",
    "        \n",
    "        self.model = torch.nn.Sequential(\n",
    "            torch.nn.Linear(n_domains * 3, 100),\n",
    "            torch.nn.Sigmoid(),\n",
    "            torch.nn.Linear(100, 1)\n",
    "        )\n",
    "\n",
    "    def forward(self, x):\n",
    "        return self.model(x)"
   ]
  },
  {
   "cell_type": "code",
   "execution_count": 1104,
   "metadata": {},
   "outputs": [],
   "source": [
    "# used for batch training\n",
    "class customDataset(Dataset):\n",
    "    def __init__(self, data, target):\n",
    "        super().__init__()\n",
    "        self.data = data\n",
    "        self.target = target\n",
    "        # self.data = torch.from_numpy(data).float()\n",
    "        # self.target = torch.from_numpy(target).float()\n",
    "\n",
    "    def __len__(self):\n",
    "        return self.data.shape[0]\n",
    "\n",
    "    def __getitem__(self, index):\n",
    "        return self.data[index, :], self.target[index] ## index, :"
   ]
  },
  {
   "cell_type": "markdown",
   "metadata": {},
   "source": [
    "Training"
   ]
  },
  {
   "cell_type": "code",
   "execution_count": 1105,
   "metadata": {},
   "outputs": [],
   "source": [
    "def train_model(x_train, x_val,y_train, y_val, epochs, model, optimizer, loss_function, history):\n",
    "    losses = []\n",
    "    val_losses = []\n",
    "    w = 14 ## hardcoded\n",
    "\n",
    "    data_set = customDataset(x_train, y_train)\n",
    "    data_loader = DataLoader(data_set, batch_size=1, shuffle=True)\n",
    "\n",
    "    for epoch in range(epochs):\n",
    "        epoch_loss = []\n",
    "        val_epoch_loss = []\n",
    "        ## training\n",
    "        model.train()\n",
    "        for batch_x, batch_y in data_loader:\n",
    "        # Output of Autoencoder\n",
    "            reconstructed = model(batch_x)\n",
    "            \n",
    "            # Calculating the loss function\n",
    "            loss = loss_function(reconstructed, batch_y.reshape(reconstructed.shape))\n",
    "            # print(\"epoch %d: \" %epoch, reconstructed, loss)\n",
    "\n",
    "            optimizer.zero_grad()\n",
    "            loss.backward()\n",
    "\n",
    "            # store history of weights, bias, gradients in the dictionary history\n",
    "            history[\"weight\"].append(model.model[0].weight.detach().numpy())\n",
    "            history[\"bias\"].append(model.model[0].bias.detach().numpy())\n",
    "            history[\"gradient\"].append(model.model[0].weight.grad.numpy())\n",
    "\n",
    "            optimizer.step()\n",
    "            \n",
    "            # Storing the losses in a list for plotting\n",
    "            epoch_loss.append(loss.item())\n",
    "\n",
    "        losses.append(statistics.mean(epoch_loss))\n",
    "\n",
    "        ## validation\n",
    "        model.eval()\n",
    "        with torch.no_grad():\n",
    "            val_rs = x_val.reshape(-1, w * 3)\n",
    "            val_t = torch.from_numpy(val_rs)\n",
    "            val_t = val_t.clone().detach().type(torch.float32)\n",
    "            answer = model(val_t)\n",
    "            val_loss = loss_function(answer, torch.tensor(y_val).type(torch.float32).reshape(answer.shape))\n",
    "        val_losses.append(val_loss)\n",
    "    return losses, val_losses, history, model"
   ]
  },
  {
   "cell_type": "code",
   "execution_count": 1106,
   "metadata": {},
   "outputs": [],
   "source": [
    "num_runs = 1"
   ]
  },
  {
   "cell_type": "code",
   "execution_count": 1107,
   "metadata": {},
   "outputs": [
    {
     "name": "stderr",
     "output_type": "stream",
     "text": [
      "/opt/homebrew/anaconda3/envs/ct/lib/python3.9/site-packages/torch/nn/modules/loss.py:535: UserWarning: Using a target size (torch.Size([130])) that is different to the input size (torch.Size([130, 1])). This will likely lead to incorrect results due to broadcasting. Please ensure they have the same size.\n",
      "  return F.mse_loss(input, target, reduction=self.reduction)\n"
     ]
    }
   ],
   "source": [
    "losses_2d = []\n",
    "val_losses_2d = []\n",
    "model_history = {\"weight\": [], \"bias\": [], \"gradient\": []}\n",
    "for i in range(num_runs):\n",
    "    model = NN()\n",
    "    epochs = 30000\n",
    "    lr = 0.00001\n",
    "\n",
    "    # Validation using MSE Loss function\n",
    "    loss_function = torch.nn.MSELoss()\n",
    "    \n",
    "    # Using an Adam Optimizer\n",
    "    optimizer = torch.optim.Adam(model.parameters(),\n",
    "                                lr = lr)\n",
    "    \n",
    "    # x_train, x_val, y_train, y_val = train_test_split(train_data, target, test_size=0.50)\n",
    "    x_train = torch.from_numpy(train_data.copy()).float()\n",
    "    x_val = train_data.copy()\n",
    "    y_train = torch.tensor(target).float()\n",
    "    y_val = target\n",
    "\n",
    "    model.eval()\n",
    "    with torch.no_grad():\n",
    "        predictions = model(x_train)\n",
    "        zero_loss = loss_function(predictions, y_train)\n",
    "\n",
    "        predictions = model(torch.from_numpy(x_val).float())\n",
    "        zero_loss_val = loss_function(predictions, torch.tensor(y_val).float().reshape(predictions.shape))\n",
    "    \n",
    "    losses, val_losses, model_history, model = train_model(x_train, x_val, y_train, y_val, epochs, model, optimizer, loss_function, model_history)\n",
    "    losses = [zero_loss.item()] + losses\n",
    "    val_losses = [zero_loss_val.item()] + val_losses\n",
    "    \n",
    "    losses_2d.append(losses)\n",
    "    val_losses_2d.append(val_losses)"
   ]
  },
  {
   "cell_type": "code",
   "execution_count": 1108,
   "metadata": {},
   "outputs": [],
   "source": [
    "def plot_mean_and_std(data, color_choice=\"blue\", setting=\"\"):\n",
    "    \"\"\"\n",
    "    Plots the mean and standard deviation across multiple lists of data.\n",
    "    \n",
    "    Parameters:\n",
    "    - data (list of lists): A list where each element is a list of numbers.\n",
    "    \n",
    "    The function will compute the mean and standard deviation at each point\n",
    "    across the lists and plot these as a line for the mean and shading for the\n",
    "    standard deviation.\n",
    "    \"\"\"\n",
    "    # Convert data to a NumPy array for easier manipulation\n",
    "    data_array = np.array(data)\n",
    "    \n",
    "    # Calculate mean and standard deviation\n",
    "    means = np.mean(data_array, axis=0)\n",
    "    stds = np.std(data_array, axis=0)\n",
    "    # print(means, stds)\n",
    "    \n",
    "    # Create the x-axis values\n",
    "    x_values = np.arange(len(means))\n",
    "    \n",
    "    # Plotting\n",
    "    plt.plot(x_values, means, label='%s Mean' % setting, color=color_choice)  # Mean line\n",
    "    plt.fill_between(x_values, means - stds, means + stds, color=color_choice, alpha=0.2, label='%s Standard Deviation' % setting)\n",
    "    \n",
    "    plt.title('Mean and Standard Deviation Plot of %s' % setting)\n",
    "    plt.xlabel('epochs')\n",
    "    plt.ylabel('loss')\n",
    "    plt.legend()\n",
    "    plt.grid(True)"
   ]
  },
  {
   "cell_type": "code",
   "execution_count": 1109,
   "metadata": {},
   "outputs": [
    {
     "data": {
      "image/png": "[encoded data removed]",
      "text/plain": [
       "<Figure size 640x480 with 1 Axes>"
      ]
     },
     "metadata": {},
     "output_type": "display_data"
    }
   ],
   "source": [
    "# Defining the Plot Style\n",
    "\n",
    "# Plotting\n",
    "if num_runs != 0:\n",
    "    with torch.no_grad():\n",
    "        plot_mean_and_std(losses_2d, \"blue\", \"Training\")\n",
    "        plot_mean_and_std(val_losses_2d, \"orange\", \"Validation\")"
   ]
  },
  {
   "cell_type": "code",
   "execution_count": 1110,
   "metadata": {},
   "outputs": [
    {
     "data": {
      "text/plain": [
       "(tensor(0.0002), tensor(0.0082))"
      ]
     },
     "execution_count": 1110,
     "metadata": {},
     "output_type": "execute_result"
    }
   ],
   "source": [
    "with torch.no_grad():\n",
    "    predictions = model(x_train)\n",
    "    loss = loss_function(predictions, y_train.reshape(predictions.shape))\n",
    "\n",
    "loss, torch.mean(torch.abs(predictions - y_train.reshape(predictions.shape)))"
   ]
  },
  {
   "cell_type": "code",
   "execution_count": 1113,
   "metadata": {},
   "outputs": [
    {
     "data": {
      "text/plain": [
       "(tensor(0.0008), tensor(0.0213))"
      ]
     },
     "execution_count": 1113,
     "metadata": {},
     "output_type": "execute_result"
    }
   ],
   "source": [
    "with torch.no_grad():\n",
    "    x_test = test_data[encoding_columns + score_columns].copy().to_numpy()\n",
    "    test_data_scores = create_missing_indicator(x_test[:, -14:])\n",
    "    x_test = np.hstack((x_test[:, :14], test_data_scores))\n",
    "    x_test = torch.from_numpy(x_test).float()\n",
    "    y_test = torch.from_numpy(np.sum(test_data[target_columns].copy().to_numpy() * test_data[encoding_columns].copy().to_numpy(), axis=1)).float()\n",
    "\n",
    "    predictions = model(x_test)\n",
    "    loss = loss_function(predictions, y_test.reshape(predictions.shape))\n",
    "\n",
    "loss, torch.mean(torch.abs(predictions - y_test.reshape(predictions.shape)))"
   ]
  },
  {
   "cell_type": "code",
   "execution_count": 1114,
   "metadata": {},
   "outputs": [
    {
     "name": "stdout",
     "output_type": "stream",
     "text": [
      "[ 8.92232656e-01  7.96828508e-01  2.99173594e-04 -1.00952394e-02\n",
      "  1.95456238e-02  1.18661308e-02  1.32680416e-02 -2.30255909e-02\n",
      " -1.08899670e-02 -6.25274777e-03  7.09503174e-04  2.81834402e-02\n",
      " -5.79268932e-03 -3.80142403e-03 -1.83902159e-02 -6.04492426e-04\n",
      " -1.70430243e-02  2.11251774e-02 -5.44388294e-03  2.87322330e-03\n",
      " -1.78400049e-02  1.68820202e-02  7.50708580e-03  2.08191156e-02\n",
      " -1.20255842e-02  1.48632705e-02 -4.93076444e-03 -2.24882317e-02\n",
      " -1.38123751e-02 -2.57896967e-02 -8.69010091e-03 -6.91536069e-03\n",
      " -4.78235016e-02 -6.97834492e-03  1.73549175e-02  1.83143198e-02\n",
      "  1.56164169e-03 -3.20517969e-02 -1.33739531e-02 -2.31412470e-02\n",
      " -8.59398842e-03 -1.00005150e-02  7.66530395e-03 -8.71247125e-03\n",
      " -4.37644863e-03  2.62691259e-02  2.95724697e-02 -1.32510073e-02\n",
      "  3.85363016e-02  1.02632773e+00 -1.37531281e-02  1.06440916e-02\n",
      "  1.53650932e-02  2.73600311e-02  9.76085663e-04  9.39273834e-03\n",
      "  9.68539715e-03  4.30798531e-03 -6.41489029e-03 -4.02367115e-03\n",
      " -5.78512764e-03  2.31099129e-02  8.36561108e-03 -1.56935654e-02\n",
      " -1.23572350e-02 -1.27480030e-02  1.08238840e-02 -6.01670742e-03\n",
      " -2.21764221e-02  2.62303152e-02  3.78570378e-01 -3.54932196e-02\n",
      " -1.61075151e-02 -1.25456049e-02  6.20557833e-03  1.44817727e-02\n",
      " -2.25514872e-02 -1.73018677e-02 -4.33593197e-02 -4.93012173e-02\n",
      " -1.11626050e-02  1.67585325e-02 -1.71913922e-02  6.31751597e-02\n",
      " -1.12435043e-02 -2.40342164e-03  2.74013445e-02  1.47296951e-02\n",
      " -1.08626443e-01 -4.89597924e-02 -5.20930297e-02 -5.56931534e-01\n",
      "  5.14227319e-03  5.68407941e-03  1.37186217e-03 -1.45660622e-02\n",
      " -4.08530068e-03  3.47079515e-04 -1.34030564e-02  4.62413001e-03\n",
      " -8.19164348e-03  1.88068181e-01  1.78246057e-02 -1.05522215e-02\n",
      " -1.23898327e-02 -1.56282127e-02  2.31166041e-02  1.69997370e-02\n",
      " -5.70207238e-03  1.48834646e-02  8.19087148e-01 -6.21655293e-02\n",
      " -6.20830364e-02 -6.67789288e-02  4.25397739e-02 -1.90895939e-03\n",
      "  3.72963533e-02  1.41329467e-02 -1.51535869e-03  1.60699785e-02\n",
      " -6.49404762e-02 -4.48199379e-02  5.85856683e-02  5.83515184e-02\n",
      "  7.28242230e-02 -4.17969692e-02  1.62627132e-02 -7.03184803e-02\n",
      " -5.88423097e-02 -4.31984746e-02]\n"
     ]
    },
    {
     "data": {
      "image/png": "[encoded data removed]",
      "text/plain": [
       "<Figure size 800x600 with 1 Axes>"
      ]
     },
     "metadata": {},
     "output_type": "display_data"
    },
    {
     "name": "stderr",
     "output_type": "stream",
     "text": [
      "Bad pipe message: %s [b'w~\\x88\\xe55N=f\\xbf~E\\xf8g2\\xe6\\xaf\"\\x88\\x00\\x01|\\x00\\x00\\x00\\x01\\x00\\x02\\x00\\x03\\x00\\x04\\x00\\x05\\x00\\x06\\x00\\x07\\x00\\x08\\x00\\t\\x00\\n\\x00\\x0b\\x00\\x0c\\x00\\r\\x00\\x0e\\x00\\x0f\\x00\\x10\\x00\\x11\\x00\\x12\\x00\\x13\\x00\\x14\\x00\\x15\\x00\\x16\\x00\\x17\\x00\\x18\\x00\\x19\\x00\\x1a\\x00\\x1b\\x00/\\x000\\x001\\x002\\x003\\x004\\x005\\x006\\x007\\x008\\x009\\x00:\\x00;\\x00<\\x00=\\x00>\\x00?\\x00@\\x00A\\x00B\\x00C\\x00D\\x00E\\x00F\\x00g\\x00h\\x00i\\x00j\\x00k\\x00l\\x00m\\x00\\x84\\x00\\x85\\x00\\x86\\x00\\x87\\x00\\x88\\x00\\x89\\x00\\x96\\x00\\x97\\x00\\x98\\x00\\x99\\x00\\x9a\\x00\\x9b\\x00\\x9c\\x00\\x9d\\x00\\x9e\\x00\\x9f\\x00\\xa0\\x00\\xa1\\x00\\xa2\\x00\\xa3\\x00\\xa4\\x00\\xa5\\x00\\xa6\\x00\\xa7\\x00\\xba\\x00\\xbb\\x00\\xbc\\x00\\xbd\\x00\\xbe\\x00\\xbf\\x00\\xc0\\x00\\xc1\\x00\\xc2\\x00\\xc3\\x00\\xc4\\x00\\xc5', b'\\x13\\x02\\x13\\x03\\x13\\x04\\x13\\x05\\xc0\\x01\\xc0\\x02\\xc0\\x03\\xc0\\x04\\xc0\\x05', b\"\\xc0\\x07\\xc0\\x08\\xc0\\t\\xc0\\n\\xc0\\x0b\\xc0\\x0c\\xc0\\r\\xc0\\x0e\\xc0\\x0f\\xc0\\x10\\xc0\\x11\\xc0\\x12\\xc0\\x13\\xc0\\x14\\xc0\\x15\\xc0\\x16\\xc0\\x17\\xc0\\x18\\xc0\\x19\\xc0#\\xc0$\\xc0%\\xc0&\\xc0'\\xc0(\\xc0)\\xc0*\\xc0+\\xc0,\\xc0-\\xc0.\\xc0/\\xc00\\xc01\\xc02\\xc0r\\xc0s\\xc0t\\xc0u\\xc0v\\xc0w\\xc0x\\xc0y\\xc0z\\xc0{\\xc0|\\xc0}\\xc0~\\xc0\\x7f\\xc0\\x80\\xc0\\x81\\xc0\\x82\\xc0\\x83\\xc0\\x84\\xc0\\x85\\xc0\\x86\\xc0\\x87\\xc0\\x88\\xc0\\x89\\xc0\\x8a\\xc0\\x8b\\xc0\\x8c\\xc0\\x8d\\xc0\\x8e\\xc0\\x8f\\xc0\\x90\\xc0\\x91\\xc0\\x92\\xc0\\x93\\xc0\\x94\\xc0\\x95\\xc0\\x96\\xc0\\x97\\xc0\\x98\\xc0\\x99\\xc0\\x9a\\xc0\\x9b\\xcc\\xa8\\xcc\\xa9\\xcc\\xaa\\xcc\\xab\\xcc\\xac\\xcc\\xad\\xcc\\xae\\x02\\x00\\x01\\x00J\\x00\\n\\x00\\n\\x00\\x08\\x00\\x17\\x00\\x19\\x00\\x18\\x00\\x16\\x00\\x0b\\x00\\x04\"]\n",
      "Bad pipe message: %s [b'\\xb9!@x(\\xc0\\xc5\\xd6E\\x94E\\xabUl\\xbe\\xaf\\x9e]\\x00\\x01|\\x00\\x00\\x00\\x01\\x00\\x02\\x00\\x03\\x00\\x04\\x00\\x05\\x00\\x06\\x00\\x07\\x00\\x08\\x00\\t\\x00\\n\\x00\\x0b\\x00\\x0c\\x00\\r\\x00\\x0e\\x00\\x0f\\x00\\x10\\x00\\x11\\x00\\x12\\x00\\x13\\x00\\x14\\x00\\x15\\x00\\x16\\x00\\x17\\x00\\x18\\x00\\x19\\x00\\x1a\\x00\\x1b\\x00/\\x000\\x001\\x002\\x003\\x004\\x005\\x006\\x007\\x008\\x009\\x00:\\x00;\\x00<\\x00=\\x00>\\x00?\\x00@\\x00A\\x00B\\x00C\\x00D\\x00E\\x00F\\x00g\\x00h\\x00i\\x00j\\x00k\\x00l\\x00m\\x00\\x84\\x00\\x85\\x00\\x86\\x00\\x87\\x00\\x88\\x00\\x89\\x00\\x96\\x00\\x97\\x00\\x98\\x00\\x99\\x00\\x9a\\x00\\x9b\\x00\\x9c\\x00\\x9d\\x00\\x9e']\n",
      "Bad pipe message: %s [b'\\x01\\x02']\n",
      "Bad pipe message: %s [b'\\xc9Q6(\\xda\\xeb\\xa1*\\xbe\\xb3\\xba\\x98@\\x97\\x97\\xcd\\x0c\\x00\\x00\\x01|\\x00\\x00\\x00\\x01\\x00\\x02\\x00\\x03\\x00\\x04\\x00\\x05\\x00\\x06\\x00\\x07\\x00\\x08\\x00\\t\\x00\\n\\x00\\x0b\\x00\\x0c\\x00\\r\\x00\\x0e\\x00\\x0f\\x00\\x10\\x00\\x11\\x00\\x12\\x00\\x13\\x00\\x14\\x00\\x15\\x00\\x16\\x00\\x17\\x00\\x18\\x00\\x19\\x00\\x1a\\x00\\x1b\\x00/\\x000\\x001\\x002\\x003\\x004\\x005\\x006\\x007\\x008\\x009\\x00:\\x00;\\x00<\\x00=\\x00>\\x00?\\x00@\\x00A\\x00B\\x00C\\x00D\\x00E\\x00F\\x00g\\x00h\\x00i\\x00j\\x00k\\x00l\\x00m\\x00\\x84\\x00', b'\\x86\\x00\\x87\\x00\\x88\\x00\\x89\\x00\\x96\\x00\\x97\\x00\\x98\\x00\\x99\\x00\\x9a\\x00\\x9b\\x00\\x9c\\x00\\x9d\\x00\\x9e\\x00\\x9f\\x00\\xa0\\x00\\xa1\\x00\\xa2\\x00\\xa3\\x00\\xa4\\x00\\xa5\\x00\\xa6\\x00\\xa7\\x00\\xba\\x00\\xbb\\x00\\xbc\\x00\\xbd\\x00\\xbe\\x00\\xbf\\x00\\xc0\\x00\\xc1\\x00\\xc2\\x00\\xc3\\x00\\xc4\\x00\\xc5\\x13\\x01\\x13\\x02\\x13\\x03\\x13\\x04\\x13\\x05\\xc0\\x01\\xc0\\x02\\xc0\\x03\\xc0\\x04\\xc0\\x05\\xc0\\x06\\xc0\\x07\\xc0\\x08\\xc0\\t\\xc0\\n\\xc0\\x0b\\xc0\\x0c\\xc0\\r\\xc0\\x0e\\xc0\\x0f\\xc0\\x10\\xc0\\x11\\xc0\\x12\\xc0\\x13\\xc0\\x14\\xc0\\x15\\xc0\\x16\\xc0\\x17\\xc0\\x18\\xc0\\x19\\xc0#\\xc0$\\xc0']\n",
      "Bad pipe message: %s [b'P\\xdaH\\xda~\\xae1\\x86\\xa4>+\\x15t\\xfcx\\xd2\\xa0\\xdf\\x00\\x01|\\x00\\x00\\x00\\x01\\x00\\x02\\x00\\x03\\x00\\x04\\x00\\x05\\x00\\x06\\x00\\x07\\x00\\x08\\x00\\t\\x00\\n\\x00\\x0b\\x00\\x0c\\x00\\r\\x00\\x0e\\x00\\x0f\\x00\\x10\\x00\\x11\\x00\\x12\\x00\\x13\\x00\\x14\\x00\\x15\\x00\\x16\\x00\\x17\\x00\\x18\\x00\\x19\\x00\\x1a\\x00\\x1b\\x00/\\x000\\x001\\x002\\x003\\x004\\x005\\x006\\x007\\x008\\x009\\x00:\\x00;\\x00<\\x00=\\x00>\\x00?\\x00@']\n",
      "Bad pipe message: %s [b\"&\\xc0'\\xc0(\\xc0)\\xc0*\\xc0+\\xc0,\\xc0-\\xc0.\\xc0/\\xc00\\xc01\\xc02\\xc0r\\xc0s\\xc0t\\xc0u\\xc0v\\xc0\"]\n"
     ]
    }
   ],
   "source": [
    "## ground truth\n",
    "diff = predictions.numpy().reshape(gt.shape) - gt\n",
    "\n",
    "# Find unique domains and their indices\n",
    "unique_domains, inverse_indices = np.unique(domain_arr, return_inverse=True)\n",
    "\n",
    "# Compute the average difference for each domain\n",
    "average_differences = np.array([diff[inverse_indices == i].mean() for i in range(len(unique_domains))])\n",
    "\n",
    "# Plot the bar chart\n",
    "fig, ax = plt.subplots(figsize=(8, 6))  # Create the figure and axes\n",
    "bars = ax.bar(range(len(average_differences)), average_differences, tick_label=[f\"{i+1}\" for i in unique_domains])\n",
    "\n",
    "\n",
    "# Add values to the bars\n",
    "ax.bar_label(bars, label_type='edge')\n",
    "\n",
    "# Set the y-axis range\n",
    "ax.set_ylim(-1, 1)\n",
    "\n",
    "\n",
    "# Add labels and title\n",
    "plt.xlabel(\"Domains\", fontsize=12)\n",
    "plt.ylabel(\"Average Difference\", fontsize=12)\n",
    "plt.title(\"Prediction Training Data Domain Improvement Averages\", fontsize=16)\n",
    "plt.tight_layout()\n",
    "\n",
    "# Show the plot\n",
    "plt.show()"
   ]
  },
  {
   "cell_type": "code",
   "execution_count": null,
   "metadata": {},
   "outputs": [],
   "source": [
    "l2norm_gradient = [np.linalg.norm(arr) for arr in model_history[\"gradient\"]]"
   ]
  },
  {
   "cell_type": "code",
   "execution_count": null,
   "metadata": {},
   "outputs": [],
   "source": [
    "for i in range(0, len(model_history[\"weight\"]), 5):\n",
    "    plt.figure()\n",
    "    plt.imshow(model_history[\"weight\"][i])\n",
    "    plt.show()"
   ]
  },
  {
   "cell_type": "code",
   "execution_count": null,
   "metadata": {},
   "outputs": [],
   "source": [
    "# Plot gradient magnitudes\n",
    "plt.figure(figsize=(10, 6))\n",
    "\n",
    "plt.plot(range(len(l2norm_gradient)), l2norm_gradient)\n",
    "\n",
    "plt.xlabel(\"Epochs\", fontsize=12)\n",
    "plt.ylabel(\"Gradient Magnitude (L2 Norm)\", fontsize=12)\n",
    "plt.title(\"Gradient Magnitude Changes Over Epochs\", fontsize=16)\n",
    "plt.legend()\n",
    "plt.tight_layout()\n",
    "plt.show()\n"
   ]
  },
  {
   "cell_type": "code",
   "execution_count": null,
   "metadata": {},
   "outputs": [],
   "source": [
    "model_history[\"bias\"][0].shape"
   ]
  },
  {
   "cell_type": "code",
   "execution_count": null,
   "metadata": {},
   "outputs": [],
   "source": [
    "np.matmul(model_history[\"weight\"][0], train_data.reshape(-1, 1)) + model_history[\"bias\"][0]"
   ]
  },
  {
   "cell_type": "code",
   "execution_count": null,
   "metadata": {},
   "outputs": [],
   "source": [
    "with torch.no_grad():\n",
    "    print(model(torch.from_numpy(train_data).float()))"
   ]
  },
  {
   "cell_type": "markdown",
   "metadata": {},
   "source": [
    "### Quantitative (overall baseline vs prediction view)\n",
    "- compare our prediction to baseline in test set in a quantitative manner (rather than looking at an individual heatmap)"
   ]
  },
  {
   "cell_type": "code",
   "execution_count": null,
   "metadata": {},
   "outputs": [],
   "source": [
    "if num_runs == 0: ## no training, load a previously saved model\n",
    "    print(\"loading old model\")\n",
    "    model = NN()\n",
    "    model = torch.load(\"model/next_step_3.pt\")"
   ]
  },
  {
   "cell_type": "code",
   "execution_count": null,
   "metadata": {},
   "outputs": [],
   "source": [
    "## take in dataframe, return known domain average for prediction, modified from baseline quant 11/04/2024\n",
    "def known_domain_average(data : pd.DataFrame):\n",
    "    \"\"\"\n",
    "    Imputes missing values (NaN) in a DataFrame with the average of the non-missing values in the same row.\n",
    "\n",
    "    Parameters:\n",
    "    - data (pd.DataFrame): The DataFrame to impute.\n",
    "\n",
    "    Returns:\n",
    "    - pd.DataFrame: The DataFrame with missing values imputed.\n",
    "    \"\"\"\n",
    "    assert(data.shape[1] == 14 * 2) ## make sure that the dataframe is the right shape with encoding, current, and target\n",
    "\n",
    "    # separate encoding, scores, and target (which we dont need so ignored in here)\n",
    "    encoding = data.iloc[:, :14].copy()\n",
    "    data_ = data.iloc[:, 14:28].copy()\n",
    "\n",
    "    # Replace '0' with NaN to handle them as missing values\n",
    "    data_ = data.replace(0, np.nan)\n",
    "    # initialize the list we are going to use to store all known domain average\n",
    "    known_domain_average_lst = []\n",
    "\n",
    "    # Iterate over each row\n",
    "    for index, row in data_.iterrows():\n",
    "        # Calculate the mean of the non-NaN values in the row\n",
    "        mean_value = row.mean()\n",
    "        # if there are no known domains, we say known domain average is 0\n",
    "        if np.isnan(mean_value):\n",
    "            mean_value = 0\n",
    "        # append the average onto the list\n",
    "        known_domain_average_lst.append(mean_value)\n",
    "        # in the encoding df, replace na with \n",
    "        encoding.loc[index] = encoding.loc[index].replace(1, mean_value)\n",
    "    \n",
    "    return encoding"
   ]
  },
  {
   "cell_type": "code",
   "execution_count": null,
   "metadata": {},
   "outputs": [],
   "source": [
    "def get_accuracy(y_pred, y_true, n, fn : str):\n",
    "    diff = y_pred - y_true\n",
    "    if fn == \"mse\":\n",
    "        return np.sum(np.power(diff, 2)) / n\n",
    "    elif fn == \"mae\":\n",
    "        return np.sum(np.abs(diff)) / n"
   ]
  },
  {
   "cell_type": "code",
   "execution_count": null,
   "metadata": {},
   "outputs": [],
   "source": [
    "# get predictions from the model\n",
    "def predict(data, model):\n",
    "    model.eval()\n",
    "    data_t = torch.tensor(data, dtype=torch.float32)\n",
    "    with torch.no_grad():\n",
    "        return model(data_t).clone().detach().numpy()"
   ]
  },
  {
   "cell_type": "code",
   "execution_count": null,
   "metadata": {},
   "outputs": [],
   "source": [
    "'''accuracy_list_prediction_sq = []\n",
    "accuracy_list_knownimputation_sq = []\n",
    "accuracy_list_prediction_abs = []\n",
    "accuracy_list_knownimputation_abs = []\n",
    "\n",
    "for masked_number in range(14):\n",
    "    # Count the number of rows with exactly 'masked_number' missing values (indicated by 0)\n",
    "    masked_rows = (test_data[score_columns] == 0).sum(axis=1) == masked_number\n",
    "    masked_test_data = test_data[masked_rows]\n",
    "    \n",
    "    if masked_test_data.shape[0] == 0:\n",
    "        # If no rows have the required number of missing values, append NaN and continue\n",
    "        accuracy_list_prediction_abs.append(np.nan)\n",
    "        accuracy_list_knownimputation_abs.append(np.nan)\n",
    "        accuracy_list_prediction_sq.append(np.nan)\n",
    "        accuracy_list_knownimputation_sq.append(np.nan)\n",
    "        continue\n",
    "\n",
    "    # known domain average prediction for the next domains\n",
    "    baseline_prediction = known_domain_average(masked_test_data[encoding_columns + score_columns]).to_numpy()\n",
    "\n",
    "    # predict\n",
    "    masked_test_data_ = copy.deepcopy(masked_test_data[encoding_columns + score_columns])\n",
    "    masked_test_data_ = masked_test_data_.to_numpy()\n",
    "    test_data_scores = create_missing_indicator(masked_test_data_[:, -14:])\n",
    "    masked_test_data_ = np.hstack((masked_test_data_[:, :14], test_data_scores))\n",
    "    model_prediction = predict(masked_test_data_, model)\n",
    "    model_prediction = np.multiply(model_prediction, masked_test_data[encoding_columns].to_numpy()) # element wise multiply the two so we have the same form as baseline prediction\n",
    "    # we only have the values we are predicting in the matrix, everything else is 0\n",
    "\n",
    "    # get accuracy (abs)\n",
    "    original = masked_test_data[target_columns].copy().to_numpy() # ground truth\n",
    "    original = np.multiply(original, masked_test_data[encoding_columns].copy().to_numpy()) # element wise multiply the two so we only have the scores we care about predicting\n",
    "    assert original.shape == model_prediction.shape and original.shape == baseline_prediction.shape\n",
    "    n_predicting = np.sum(masked_test_data[encoding_columns].copy().to_numpy())\n",
    "\n",
    "    accuracy_list_prediction_abs.append(get_accuracy(model_prediction, original, n_predicting, \"mae\"))\n",
    "    accuracy_list_knownimputation_abs.append(get_accuracy(baseline_prediction, original, n_predicting, \"mae\"))\n",
    "\n",
    "    # get accuracy (sq)\n",
    "    accuracy_list_prediction_sq.append(get_accuracy(model_prediction, original, n_predicting, \"mse\"))\n",
    "    accuracy_list_knownimputation_sq.append(get_accuracy(baseline_prediction, original, n_predicting, \"mse\"))'''"
   ]
  },
  {
   "cell_type": "code",
   "execution_count": null,
   "metadata": {},
   "outputs": [],
   "source": [
    "'''fig = plt.figure(figsize=(12, 12))\n",
    "# plt.errorbar(range(0, 14), accuracy_list_prediction_sq, yerr=error_prediction_sq, label=\"model\", linewidth=3)\n",
    "# plt.errorbar(range(0, 14), accuracy_list_imputation_sq, yerr=error_imputation_sq, label=\"baseline\")\n",
    "\n",
    "x_values = range(0, 14)\n",
    "\n",
    "plt.plot(x_values, accuracy_list_prediction_sq, label=\"model\", marker=\"o\")\n",
    "plt.plot(x_values, accuracy_list_knownimputation_sq, label=\"baseline\", marker=\"o\")\n",
    "\n",
    "for x, y1, y2 in zip(x_values, accuracy_list_prediction_sq, accuracy_list_knownimputation_sq):\n",
    "    offset = 10\n",
    "\n",
    "    label = \"{:.4f}\".format(y1)\n",
    "    plt.annotate(label, # this is the text\n",
    "                (x,y1), # these are the coordinates to position the label\n",
    "                textcoords=\"offset points\", # how to position the text\n",
    "                xytext=(0,10), # distance from text to points (x,y)\n",
    "                ha='center') # horizontal alignment can be left, right or center\n",
    "    \n",
    "    label = \"{:.4f}\".format(y2)\n",
    "    plt.annotate(label, # this is the text\n",
    "                (x,y2), # these are the coordinates to position the label\n",
    "                textcoords=\"offset points\", # how to position the text\n",
    "                xytext=(0,-10), # distance from text to points (x,y)\n",
    "                ha='center') # horizontal alignment can be left, right or center\n",
    "\n",
    "\n",
    "\n",
    "plt.xlabel(\"number of masked domains\")\n",
    "plt.ylabel(\"mean squared error\")\n",
    "plt.title(\"Mean squared error vs number of masked domains\")\n",
    "plt.legend()'''"
   ]
  },
  {
   "cell_type": "code",
   "execution_count": null,
   "metadata": {},
   "outputs": [],
   "source": [
    "'''fig = plt.figure(figsize=(12, 12))\n",
    "# plt.errorbar(range(0, 14), accuracy_list_prediction_abs, yerr=error_prediction_abs, label=\"prediction\", linewidth=3)\n",
    "# plt.errorbar(range(0, 14), accuracy_list_imputation_abs, yerr=error_imputation_abs, label=\"imputation\")\n",
    "x_values = range(0, 14)\n",
    "\n",
    "plt.plot(x_values, accuracy_list_prediction_abs, label=\"model\", marker=\"o\")\n",
    "plt.plot(x_values, accuracy_list_knownimputation_abs, label=\"baseline\", marker=\"o\")\n",
    "\n",
    "for x, y1, y2 in zip(x_values, accuracy_list_prediction_abs, accuracy_list_knownimputation_abs):\n",
    "\n",
    "    label = \"{:.4f}\".format(y1)\n",
    "    plt.annotate(label, # this is the text\n",
    "                (x,y1), # these are the coordinates to position the label\n",
    "                textcoords=\"offset points\", # how to position the text\n",
    "                xytext=(0,10), # distance from text to points (x,y)\n",
    "                ha='center') # horizontal alignment can be left, right or center\n",
    "    \n",
    "    label = \"{:.4f}\".format(y2)\n",
    "    plt.annotate(label, # this is the text\n",
    "                (x,y2), # these are the coordinates to position the label\n",
    "                textcoords=\"offset points\", # how to position the text\n",
    "                xytext=(0,-10), # distance from text to points (x,y)\n",
    "                ha='center') # horizontal alignment can be left, right or center\n",
    "    \n",
    "\n",
    "plt.xlabel(\"number of masked domains\")\n",
    "plt.ylabel(\"mean absolute error\")\n",
    "plt.title(\"Mean absolute erorr vs number of masked domains\")\n",
    "plt.legend()'''"
   ]
  },
  {
   "cell_type": "markdown",
   "metadata": {},
   "source": [
    "### Visualization\n",
    "- visualize individual patient's trajectory (ground truth vs prediction vs imputation?)\n",
    "- look at overall quantitative picture"
   ]
  },
  {
   "cell_type": "code",
   "execution_count": null,
   "metadata": {},
   "outputs": [],
   "source": [
    "column_names = [\"domain %d score\" % i for i in range(1, 15)]\n",
    "column_rename_dict = {}\n",
    "for i in range(len(column_names)):\n",
    "    column_rename_dict[column_names[i]] = i + 1"
   ]
  },
  {
   "cell_type": "code",
   "execution_count": null,
   "metadata": {},
   "outputs": [],
   "source": [
    "# takes in a matrix, returns a list mean along rows\n",
    "def get_score(data):\n",
    "    return np.mean(data, axis=1)"
   ]
  },
  {
   "cell_type": "code",
   "execution_count": null,
   "metadata": {},
   "outputs": [],
   "source": [
    "# get ground truth scores (overall)\n",
    "GT_scores = get_score(case_study_data[column_names].to_numpy())"
   ]
  },
  {
   "cell_type": "code",
   "execution_count": null,
   "metadata": {},
   "outputs": [],
   "source": [
    "# get prediction scores\n",
    "model.eval()\n",
    "with torch.no_grad():\n",
    "    test_data_case = case_study_data[encoding_columns + score_columns].to_numpy()\n",
    "    test_data_scores = create_missing_indicator(test_data_case[:, -14:])\n",
    "    test_data_case = np.hstack((test_data_case[:, :14], test_data_scores))\n",
    "    predictions = model(torch.from_numpy(test_data_case).type(torch.float32)).detach().numpy()"
   ]
  },
  {
   "cell_type": "code",
   "execution_count": null,
   "metadata": {},
   "outputs": [],
   "source": [
    "n_missing = np.sum(case_study_data[encoding_columns].to_numpy())\n",
    "target_ = np.multiply(case_study_data[target_columns].to_numpy(), case_study_data[encoding_columns].to_numpy()) # only the targets we want to predict\n",
    "prediction_ = np.multiply(predictions, case_study_data[encoding_columns].to_numpy()) # only the scores we want to predict\n",
    "mse_ = np.divide(np.sum(np.abs(target_ - prediction_)), n_missing)"
   ]
  },
  {
   "cell_type": "code",
   "execution_count": null,
   "metadata": {},
   "outputs": [],
   "source": [
    "# mask for which columns we are trying to predict\n",
    "mask = case_study_data[encoding_columns].to_numpy()"
   ]
  },
  {
   "cell_type": "code",
   "execution_count": null,
   "metadata": {},
   "outputs": [],
   "source": [
    "prediction_only = pd.DataFrame(mask * predictions, columns=column_names)\n",
    "target_only = pd.DataFrame(mask * case_study_data[target_columns].to_numpy(), columns=column_names)"
   ]
  },
  {
   "cell_type": "code",
   "execution_count": null,
   "metadata": {},
   "outputs": [],
   "source": [
    "## plot specific domain progression\n",
    "plt.figure()\n",
    "plt.plot(range(case_study_data.shape[0]), case_study_data[\"domain %d target\" % target_domain])\n",
    "plt.show()\n",
    "plt.figure()\n",
    "plt.plot(range(case_study_data.shape[0]), predictions[:, target_domain - 1])\n",
    "plt.show()"
   ]
  },
  {
   "cell_type": "code",
   "execution_count": null,
   "metadata": {},
   "outputs": [],
   "source": [
    "fig = plt.figure(figsize=(12, 18))\n",
    "vmin = 0\n",
    "vmax = 1\n",
    "\n",
    "plt.subplot(2, 2, 1)\n",
    "sns.heatmap(prediction_only, cmap=\"viridis\", cbar=True, vmin=vmin, vmax=vmax)\n",
    "plt.title(\"model prediction (next step domains only)\")\n",
    "\n",
    "plt.subplot(2, 2, 2)\n",
    "sns.heatmap(target_only, cmap=\"viridis\", cbar=True, vmin=vmin, vmax=vmax)\n",
    "plt.title(\"ground truth (next step domains only)\")\n",
    "\n",
    "plt.subplot(2, 2, 3)\n",
    "sns.heatmap(case_study_data[score_columns], cmap=\"viridis\", cbar=True, vmin=vmin, vmax=vmax)\n",
    "plt.title(\"full ground truth\")\n",
    "\n",
    "fig.tight_layout()\n",
    "fig.subplots_adjust(hspace=0.2)"
   ]
  },
  {
   "cell_type": "code",
   "execution_count": null,
   "metadata": {},
   "outputs": [],
   "source": [
    "np.unique(df[df.patient_id == pid][\"domain_ids\"])"
   ]
  },
  {
   "cell_type": "code",
   "execution_count": null,
   "metadata": {},
   "outputs": [],
   "source": [
    "## ground truth\n",
    "diff = test_data[target_columns].to_numpy() * test_data[encoding_columns].to_numpy() - test_data[score_columns].to_numpy() * test_data[encoding_columns].to_numpy()\n",
    "\n",
    "\n",
    "# Calculate column-wise averages\n",
    "column_averages = np.sum(diff, axis=0) / np.sum(test_data[encoding_columns].to_numpy(), axis=0)\n",
    "\n",
    "# Plot the bar chart\n",
    "fig, ax = plt.subplots(figsize=(8, 6))  # Create the figure and axes\n",
    "# bars = ax.bar(range(len(column_averages)), column_averages, tick_label=[f\"{i+1}\" for i in range(len(column_averages))])\n",
    "bars = ax.bar(range(1), column_averages, tick_label=[str(target_domain)])\n",
    "\n",
    "# Add values to the bars\n",
    "ax.bar_label(bars, label_type='edge')\n",
    "\n",
    "# Set the y-axis range from -1 to 1\n",
    "ax.set_ylim(-1, 1)\n",
    "\n",
    "# Add labels and title\n",
    "plt.xlabel(\"Domains\", fontsize=12)\n",
    "plt.ylabel(\"Average Difference\", fontsize=12)\n",
    "plt.title(\"Test Data Ground Truth Domain Improvement Averages\", fontsize=16)\n",
    "plt.tight_layout()\n",
    "\n",
    "# Show the plot\n",
    "plt.show()"
   ]
  },
  {
   "cell_type": "code",
   "execution_count": null,
   "metadata": {},
   "outputs": [],
   "source": [
    "test_data_input = test_data[encoding_columns + score_columns].copy().to_numpy().reshape((1, -1))\n",
    "test_data_scores = create_missing_indicator(test_data_input[:, -14:])\n",
    "test_data_input = np.hstack((test_data_input[:, :14], test_data_scores))"
   ]
  },
  {
   "cell_type": "code",
   "execution_count": null,
   "metadata": {},
   "outputs": [],
   "source": [
    "predictions = model(torch.from_numpy(test_data_input).float())"
   ]
  },
  {
   "cell_type": "code",
   "execution_count": null,
   "metadata": {},
   "outputs": [],
   "source": [
    "predictions"
   ]
  },
  {
   "cell_type": "code",
   "execution_count": null,
   "metadata": {},
   "outputs": [],
   "source": [
    "diff = predictions.detach().numpy() * test_data[encoding_columns].to_numpy() - test_data[score_columns].to_numpy() * test_data[encoding_columns].to_numpy()"
   ]
  },
  {
   "cell_type": "code",
   "execution_count": null,
   "metadata": {},
   "outputs": [],
   "source": [
    "np.sum(test_data[encoding_columns].to_numpy(), axis=0)"
   ]
  },
  {
   "cell_type": "code",
   "execution_count": null,
   "metadata": {},
   "outputs": [],
   "source": [
    "diff"
   ]
  },
  {
   "cell_type": "code",
   "execution_count": null,
   "metadata": {},
   "outputs": [],
   "source": [
    "# Calculate column-wise averages\n",
    "column_averages = np.sum(diff, axis=0) / np.sum(test_data[encoding_columns].to_numpy(), axis=0)\n",
    "\n",
    "# Plot the bar chart\n",
    "fig, ax = plt.subplots(figsize=(8, 6))  # Create the figure and axes\n",
    "# bars = ax.bar(range(len(column_averages)), column_averages, tick_label=[f\"{i+1}\" for i in range(len(column_averages))])\n",
    "bars = ax.bar(range(1), column_averages, tick_label=[str(target_domain)])\n",
    "\n",
    "# Add values to the bars\n",
    "ax.bar_label(bars, label_type='edge')\n",
    "\n",
    "# Set the y-axis range from -1 to 1\n",
    "ax.set_ylim(-1, 1)\n",
    "\n",
    "# Add labels and title\n",
    "plt.xlabel(\"Domains\", fontsize=12)\n",
    "plt.ylabel(\"Average Difference\", fontsize=12)\n",
    "plt.title(\"All Prediction Domain Improvement Averages\", fontsize=16)\n",
    "plt.tight_layout()\n",
    "\n",
    "# Show the plot\n",
    "plt.show()"
   ]
  },
  {
   "cell_type": "code",
   "execution_count": null,
   "metadata": {},
   "outputs": [],
   "source": [
    "diff.shape"
   ]
  },
  {
   "cell_type": "code",
   "execution_count": null,
   "metadata": {},
   "outputs": [],
   "source": [
    "repeat_test = test_data[repeat_columns].to_numpy().copy().flatten()\n",
    "repeat_test.shape"
   ]
  },
  {
   "cell_type": "code",
   "execution_count": null,
   "metadata": {},
   "outputs": [],
   "source": [
    "train_data"
   ]
  },
  {
   "cell_type": "code",
   "execution_count": null,
   "metadata": {},
   "outputs": [],
   "source": [
    "target"
   ]
  },
  {
   "cell_type": "code",
   "execution_count": null,
   "metadata": {},
   "outputs": [],
   "source": [
    "predict(train_data, model)"
   ]
  },
  {
   "cell_type": "code",
   "execution_count": null,
   "metadata": {},
   "outputs": [],
   "source": [
    "sample = torch.from_numpy(train_data).float().clone().detach().requires_grad_(True)\n",
    "target_sample = torch.from_numpy(target).float().clone().detach()\n",
    "\n",
    "for i, layer in enumerate(model.model):\n",
    "    # Forward pass\n",
    "    sample = layer(sample)\n",
    "\n",
    "    # Retain gradients for intermediate outputs\n",
    "    sample.retain_grad()\n",
    "\n",
    "    # Print output differences layer-by-layer\n",
    "    print(f\"Layer {i} Output: {sample}\")\n",
    "\n",
    "# Compute MSE Loss\n",
    "loss = F.mse_loss(sample, target_sample)\n",
    "print(\"loss: \", loss)\n",
    "\n",
    "# Backward pass for gradients\n",
    "loss.backward(retain_graph=True)\n",
    "\n",
    "# Compare gradients for weights and biases layer-by-layer\n",
    "for j, layer in enumerate(model.model):\n",
    "    if isinstance(layer, nn.Linear):  # Only compare Linear layers\n",
    "        print(f\"Layer {j} Weight Gradient: {layer.bias.grad}\")"
   ]
  },
  {
   "cell_type": "code",
   "execution_count": null,
   "metadata": {},
   "outputs": [],
   "source": [
    "repeats_diff_gt = test_data[repeat_test == 1][target_columns].to_numpy() * test_data[repeat_test == 1][encoding_columns].to_numpy() - test_data[repeat_test == 1][score_columns].to_numpy() * test_data[repeat_test == 1][encoding_columns].to_numpy()"
   ]
  },
  {
   "cell_type": "code",
   "execution_count": null,
   "metadata": {},
   "outputs": [],
   "source": [
    "non_repeat_diff_gt = test_data[repeat_test == 0][target_columns].to_numpy() * test_data[repeat_test == 0][encoding_columns].to_numpy() - test_data[repeat_test == 0][score_columns].to_numpy() * test_data[repeat_test == 0][encoding_columns].to_numpy()"
   ]
  },
  {
   "cell_type": "code",
   "execution_count": null,
   "metadata": {},
   "outputs": [],
   "source": [
    "repeats_diff = diff[repeat_test == 1]\n",
    "non_repeats_diff = diff[repeat_test == 0]"
   ]
  },
  {
   "cell_type": "code",
   "execution_count": null,
   "metadata": {},
   "outputs": [],
   "source": [
    "repeats_n = test_data[encoding_columns].to_numpy()[repeat_test == 1]\n",
    "non_repeats_n = test_data[encoding_columns].to_numpy()[repeat_test == 0]"
   ]
  },
  {
   "cell_type": "code",
   "execution_count": null,
   "metadata": {},
   "outputs": [],
   "source": [
    "# Calculate column-wise averages\n",
    "column_averages = np.sum(repeats_diff_gt, axis=0) / np.sum(repeats_n, axis=0)\n",
    "\n",
    "# Plot the bar chart\n",
    "fig, ax = plt.subplots(figsize=(8, 6))  # Create the figure and axes\n",
    "# bars = ax.bar(range(len(column_averages)), column_averages, tick_label=[f\"{i+1}\" for i in range(len(column_averages))])\n",
    "bars = ax.bar(range(1), column_averages, tick_label=[str(target_domain)])\n",
    "\n",
    "# Add values to the bars\n",
    "ax.bar_label(bars, label_type='edge')\n",
    "\n",
    "# Set the y-axis range from -1 to 1\n",
    "ax.set_ylim(-1, 1)\n",
    "\n",
    "# Add labels and title\n",
    "plt.xlabel(\"Domains\", fontsize=12)\n",
    "plt.ylabel(\"Average Difference\", fontsize=12)\n",
    "plt.title(\"Repeat Ground Truth Domain Improvement Averages\", fontsize=16)\n",
    "plt.tight_layout()\n",
    "\n",
    "# Show the plot\n",
    "plt.show()"
   ]
  },
  {
   "cell_type": "code",
   "execution_count": null,
   "metadata": {},
   "outputs": [],
   "source": [
    "# Calculate column-wise averages\n",
    "column_averages = np.sum(repeats_diff, axis=0) / np.sum(repeats_n, axis=0)\n",
    "\n",
    "# Plot the bar chart\n",
    "fig, ax = plt.subplots(figsize=(8, 6))  # Create the figure and axes\n",
    "# bars = ax.bar(range(len(column_averages)), column_averages, tick_label=[f\"{i+1}\" for i in range(len(column_averages))])\n",
    "bars = ax.bar(range(1), column_averages, tick_label=[str(target_domain)])\n",
    "\n",
    "# Add values to the bars\n",
    "ax.bar_label(bars, label_type='edge')\n",
    "\n",
    "# Set the y-axis range from -1 to 1\n",
    "ax.set_ylim(-1, 1)\n",
    "\n",
    "# Add labels and title\n",
    "plt.xlabel(\"Domains\", fontsize=12)\n",
    "plt.ylabel(\"Average Difference\", fontsize=12)\n",
    "plt.title(\"Repeat Prediction Domain Improvement Averages\", fontsize=16)\n",
    "plt.tight_layout()\n",
    "\n",
    "# Show the plot\n",
    "plt.show()"
   ]
  },
  {
   "cell_type": "code",
   "execution_count": null,
   "metadata": {},
   "outputs": [],
   "source": [
    "# Calculate column-wise averages\n",
    "column_averages = np.sum(non_repeat_diff_gt, axis=0) / np.sum(repeats_n, axis=0)\n",
    "\n",
    "# Plot the bar chart\n",
    "fig, ax = plt.subplots(figsize=(8, 6))  # Create the figure and axes\n",
    "# bars = ax.bar(range(len(column_averages)), column_averages, tick_label=[f\"{i+1}\" for i in range(len(column_averages))])\n",
    "bars = ax.bar(range(1), column_averages, tick_label=[str(target_domain)])\n",
    "\n",
    "# Add values to the bars\n",
    "ax.bar_label(bars, label_type='edge')\n",
    "\n",
    "# Set the y-axis range from -1 to 1\n",
    "ax.set_ylim(-1, 1)\n",
    "\n",
    "# Add labels and title\n",
    "plt.xlabel(\"Domains\", fontsize=12)\n",
    "plt.ylabel(\"Average Difference\", fontsize=12)\n",
    "plt.title(\"Repeat Ground Truth Domain Improvement Averages\", fontsize=16)\n",
    "plt.tight_layout()\n",
    "\n",
    "# Show the plot\n",
    "plt.show()"
   ]
  },
  {
   "cell_type": "code",
   "execution_count": null,
   "metadata": {},
   "outputs": [],
   "source": [
    "# Calculate column-wise averages\n",
    "column_averages = np.sum(non_repeats_diff, axis=0) / np.sum(non_repeats_n, axis=0)\n",
    "\n",
    "# Plot the bar chart\n",
    "fig, ax = plt.subplots(figsize=(8, 6))  # Create the figure and axes\n",
    "# bars = ax.bar(range(len(column_averages)), column_averages, tick_label=[f\"{i+1}\" for i in range(len(column_averages))])\n",
    "bars = ax.bar(range(1), column_averages, tick_label=[str(target_domain)])\n",
    "\n",
    "# Add values to the bars\n",
    "ax.bar_label(bars, label_type='edge')\n",
    "\n",
    "# Set the y-axis range from -1 to 1\n",
    "ax.set_ylim(-1, 1)\n",
    "\n",
    "# Add labels and title\n",
    "plt.xlabel(\"Domains\", fontsize=12)\n",
    "plt.ylabel(\"Average Difference\", fontsize=12)\n",
    "plt.title(\"Non Repeat Prediction Domain Improvement Averages\", fontsize=16)\n",
    "plt.tight_layout()\n",
    "\n",
    "# Show the plot\n",
    "plt.show()"
   ]
  },
  {
   "cell_type": "code",
   "execution_count": null,
   "metadata": {},
   "outputs": [],
   "source": [
    "# store model as \n",
    "# torch.save(model, \"model/next_step_5.pt\")"
   ]
  }
 ],
 "metadata": {
  "kernelspec": {
   "display_name": "ct",
   "language": "python",
   "name": "python3"
  },
  "language_info": {
   "codemirror_mode": {
    "name": "ipython",
    "version": 3
   },
   "file_extension": ".py",
   "mimetype": "text/x-python",
   "name": "python",
   "nbconvert_exporter": "python",
   "pygments_lexer": "ipython3",
   "version": "3.9.19"
  }
 },
 "nbformat": 4,
 "nbformat_minor": 2
}
