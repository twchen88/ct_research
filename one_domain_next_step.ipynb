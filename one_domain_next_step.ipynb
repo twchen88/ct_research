{
 "cells": [
  {
   "cell_type": "markdown",
   "metadata": {},
   "source": [
    "## overview\n",
    "- predict performance at next step given next domain to practice on, only train one domain at a time"
   ]
  },
  {
   "cell_type": "code",
   "execution_count": 1,
   "metadata": {},
   "outputs": [],
   "source": [
    "import numpy as np\n",
    "import pandas as pd\n",
    "import matplotlib.pyplot as plt\n",
    "import seaborn as sns\n",
    "import torch\n",
    "import torch.nn as nn\n",
    "import torch.nn.functional as F\n",
    "from torch.utils.data import DataLoader, Dataset\n",
    "import copy\n",
    "import wandb\n",
    "import statistics\n",
    "from datetime import datetime\n",
    "from sklearn.model_selection import train_test_split\n",
    "import random\n",
    "from scipy.stats import sem"
   ]
  },
  {
   "cell_type": "markdown",
   "metadata": {},
   "source": [
    "Initialize run"
   ]
  },
  {
   "cell_type": "code",
   "execution_count": 2,
   "metadata": {},
   "outputs": [],
   "source": [
    "## only looking at sessions where the target_domain is the next domain\n",
    "target_domain = 1"
   ]
  },
  {
   "cell_type": "code",
   "execution_count": 3,
   "metadata": {},
   "outputs": [],
   "source": [
    "# Set seeds for reproducibility\n",
    "torch.manual_seed(42)\n",
    "np.random.seed(42)\n",
    "random.seed(42)\n",
    "\n",
    "# Ensure deterministic algorithms\n",
    "torch.backends.cudnn.deterministic = True\n",
    "torch.backends.cudnn.benchmark = False"
   ]
  },
  {
   "cell_type": "markdown",
   "metadata": {},
   "source": [
    "Data"
   ]
  },
  {
   "cell_type": "code",
   "execution_count": 4,
   "metadata": {},
   "outputs": [],
   "source": [
    "# read in filtered sessions data\n",
    "df = pd.read_csv(\"data/filtered_ds.csv\")"
   ]
  },
  {
   "cell_type": "code",
   "execution_count": 5,
   "metadata": {},
   "outputs": [],
   "source": [
    "# sort df by start time min\n",
    "df[\"start_time_min\"] = df[\"start_time_min\"].astype('datetime64[ns]')\n",
    "df = df.sort_values(by=[\"patient_id\", \"start_time_min\"])"
   ]
  },
  {
   "cell_type": "markdown",
   "metadata": {},
   "source": [
    "Create training data"
   ]
  },
  {
   "cell_type": "code",
   "execution_count": 6,
   "metadata": {},
   "outputs": [],
   "source": [
    "# given a row of sessions, take domain_ids and domain_scores, which are in string format separated by \",\", and replace with a list of the values\n",
    "def process_row(row):\n",
    "    values_a = [int(x.strip()) for x in str(row['domain_ids']).split(',')]\n",
    "    values_b = [float(x.strip()) for x in str(row['domain_scores']).split(',')]\n",
    "    return values_a, values_b"
   ]
  },
  {
   "cell_type": "code",
   "execution_count": 7,
   "metadata": {},
   "outputs": [],
   "source": [
    "# take in a dataframe of a patient's session, extract information useful for training\n",
    "def create_training_data(data: pd.DataFrame):\n",
    "    # Initialize variables\n",
    "    session_row = [] # contents of a row (patient id, encoding, cur score, prev score, repeat)\n",
    "    overall = [] # aggregate of everything (n sessions x 44)\n",
    "\n",
    "    cur_score = np.zeros((14)) # score for each session\n",
    "    prev_score = None\n",
    "\n",
    "    seen = {} # dictionary for seen\n",
    "    patient_id = data[\"patient_id\"].iloc[0] # save patient_id\n",
    "\n",
    "    # Sort data by session start time\n",
    "    data = data.sort_values(by=[\"start_time_min\"])\n",
    "\n",
    "    # Process each row\n",
    "    for idx, row in data.iterrows():\n",
    "        domains, domain_scores = process_row(row)  # returns a list of domains : int and of domain_scores : float\n",
    "\n",
    "        # Track repeat status and update scores\n",
    "        repeat = False\n",
    "        for j, domain in enumerate(domains):\n",
    "            if domain not in seen:\n",
    "                seen[domain] = True\n",
    "            else:\n",
    "                repeat = True\n",
    "\n",
    "            cur_score[domain - 1] = domain_scores[j] # update score in the loop\n",
    "\n",
    "        # Encode domains for this session\n",
    "        domain_encoding = np.zeros(14)\n",
    "        for domain in domains:\n",
    "            domain_encoding[domain - 1] = 1\n",
    "\n",
    "        # if the session does not contain the target domain or is the first (no prev score), continue in the loop without doing anything, do this before appending\n",
    "        if target_domain not in domains or prev_score is None or len(domains) != 1: # only sessions that only do one domain\n",
    "            session_row = []\n",
    "            prev_score = cur_score.copy()\n",
    "            continue\n",
    "        assert target_domain in domains, \"continue not working\"\n",
    "\n",
    "        # append everything in the row list\n",
    "        session_row.append(patient_id)\n",
    "        session_row.extend(domain_encoding.copy().tolist())\n",
    "        session_row.extend(prev_score.copy().tolist())\n",
    "        session_row.extend(cur_score.copy().tolist())\n",
    "        session_row.append(repeat)\n",
    "        assert len(session_row) == 44, \"session row length weird\"\n",
    "\n",
    "        # append row to overall, reset\n",
    "        overall.append(session_row)\n",
    "        session_row = []\n",
    "        prev_score = cur_score.copy()\n",
    "\n",
    "        # only one sample\n",
    "        break\n",
    "\n",
    "    # Convert to numpy arrays\n",
    "    if overall:\n",
    "        overall = np.array(overall)\n",
    "        assert len(overall.shape) == 2, \"dimensions of overall wrong\"\n",
    "    else:\n",
    "        # Handle case where scores is empty\n",
    "        return pd.DataFrame(columns=[\"patient_id\"] + [\"domain %d encoding\" % i for i in range(1, 15)] +\n",
    "                                   [\"domain %d score\" % i for i in range(1, 15)] +\n",
    "                                   [\"domain %d target\" % i for i in range(1, 15)] +\n",
    "                                   [\"repeat\"])\n",
    "    \n",
    "        # Create column names\n",
    "    column_names = (\n",
    "        [\"patient_id\"]\n",
    "        + [f\"domain {i} encoding\" for i in range(1, 15)]\n",
    "        + [f\"domain {i} score\" for i in range(1, 15)]\n",
    "        + [f\"domain {i} target\" for i in range(1, 15)]\n",
    "        + [\"repeat\"]\n",
    "    )\n",
    "\n",
    "    # Create dataframe\n",
    "    scores_df = pd.DataFrame(overall, columns=column_names)\n",
    "    scores_df.reset_index(drop=True, inplace=True)\n",
    "    return scores_df"
   ]
  },
  {
   "cell_type": "code",
   "execution_count": 8,
   "metadata": {},
   "outputs": [
    {
     "name": "stderr",
     "output_type": "stream",
     "text": [
      "/var/folders/vv/6vndbrvd7r1gc7xq3qqx8tfh0000gq/T/ipykernel_90070/1164513361.py:2: FutureWarning: The behavior of DataFrame concatenation with empty or all-NA entries is deprecated. In a future version, this will no longer exclude empty or all-NA columns when determining the result dtypes. To retain the old behavior, exclude the relevant entries before the concat operation.\n",
      "  data = df.groupby(\"patient_id\")[df.columns].apply(create_training_data).reset_index(drop=True)\n"
     ]
    }
   ],
   "source": [
    "# apply create_training_data to each individual patients\n",
    "data = df.groupby(\"patient_id\")[df.columns].apply(create_training_data).reset_index(drop=True)"
   ]
  },
  {
   "cell_type": "code",
   "execution_count": 9,
   "metadata": {},
   "outputs": [],
   "source": [
    "## pick a random patient for case study\n",
    "pid = random.choice(pd.unique(data[\"patient_id\"]))\n",
    "## save the patient's data\n",
    "case_study_data = copy.deepcopy(data[data['patient_id'] == pid])\n",
    "## remove the patient's data from the dataset\n",
    "model_data = data.drop(data[data['patient_id'] == pid].index)\n",
    "\n",
    "## reset index for the case study\n",
    "case_study_data = case_study_data.reset_index(drop=True)"
   ]
  },
  {
   "cell_type": "code",
   "execution_count": 10,
   "metadata": {},
   "outputs": [],
   "source": [
    "# drop patient_id column\n",
    "model_data = model_data.drop([\"patient_id\"], axis=1)"
   ]
  },
  {
   "cell_type": "code",
   "execution_count": 11,
   "metadata": {},
   "outputs": [],
   "source": [
    "# filter rows based on number of zeros allowed\n",
    "def filter_nonzero_rows(df, max_zeros, column_names=[\"domain %d score\" %i for i in range(1, 15)]):\n",
    "    # only use the score columns when counting 0s\n",
    "    scores = df[column_names]\n",
    "    # Count number of zeros in each row\n",
    "    zeros_count = (scores == 0).sum(axis=1)\n",
    "    \n",
    "    # Filter rows with at most max_zeros number of zeros\n",
    "    non_zero_rows = df[zeros_count <= max_zeros]\n",
    "    return non_zero_rows"
   ]
  },
  {
   "cell_type": "code",
   "execution_count": 12,
   "metadata": {},
   "outputs": [
    {
     "data": {
      "text/plain": [
       "(2595, 43)"
      ]
     },
     "execution_count": 12,
     "metadata": {},
     "output_type": "execute_result"
    }
   ],
   "source": [
    "model_data.shape"
   ]
  },
  {
   "cell_type": "code",
   "execution_count": 13,
   "metadata": {},
   "outputs": [],
   "source": [
    "# train_data, test_data = train_test_split(model_data, test_size=0.25)\n",
    "\n",
    "## one sample for train, only to see if it learns that one example\n",
    "train_data = model_data.iloc[0].copy()\n",
    "test_data = model_data.iloc[0].copy()"
   ]
  },
  {
   "cell_type": "code",
   "execution_count": 14,
   "metadata": {},
   "outputs": [],
   "source": [
    "def generate_random_array(rows, cols, N):\n",
    "    if N > cols:\n",
    "        raise ValueError(\"N cannot be greater than the number of columns.\")\n",
    "    \n",
    "    # Create an array of ones with the desired shape\n",
    "    array = np.ones((rows, cols), dtype=int)\n",
    "    \n",
    "    # Randomly assign N zeros to each row\n",
    "    for i in range(rows):\n",
    "        indices = np.random.choice(cols, N, replace=False)\n",
    "        array[i, indices] = 0\n",
    "    \n",
    "    return array, array.shape[0] * N"
   ]
  },
  {
   "cell_type": "code",
   "execution_count": 15,
   "metadata": {},
   "outputs": [],
   "source": [
    "def generate_mask(data, N=10):\n",
    "    rows, cols = data.shape\n",
    "    assert(cols == 14)\n",
    "    mask, n_zeros = generate_random_array(rows, cols, N)\n",
    "    data = copy.deepcopy(data)\n",
    "    return data * mask, n_zeros, mask"
   ]
  },
  {
   "cell_type": "code",
   "execution_count": 16,
   "metadata": {},
   "outputs": [],
   "source": [
    "def generate_differently_masked_data(original_matrix, dupe_n=14):\n",
    "    score_columns = [\"domain %d score\" %i for i in range(1, 15)]\n",
    "    encoding_columns = [\"domain %d encoding\" %i for i in range(1, 15)]\n",
    "    target_columns = [\"domain %d target\" %i for i in range(1, 15)]\n",
    "    final_matrix_lst = [original_matrix.copy()] * dupe_n\n",
    "    for i in range(14):\n",
    "        final_matrix_lst[i][score_columns], _, _ = generate_mask(original_matrix[score_columns], N = i)\n",
    "    final_matrix = pd.concat(final_matrix_lst)\n",
    "    return copy.deepcopy(final_matrix[encoding_columns + score_columns]), copy.deepcopy(final_matrix[target_columns])"
   ]
  },
  {
   "cell_type": "code",
   "execution_count": 17,
   "metadata": {},
   "outputs": [],
   "source": [
    "score_columns = [\"domain %d score\" %i for i in range(1, 15)]\n",
    "encoding_columns = [\"domain %d encoding\" %i for i in range(1, 15)]\n",
    "target_columns = [\"domain %d target\" %i for i in range(1, 15)]\n",
    "repeat_columns = [\"repeat\"]"
   ]
  },
  {
   "cell_type": "code",
   "execution_count": 18,
   "metadata": {},
   "outputs": [],
   "source": [
    "# train_data, target = generate_differently_masked_data(train_data, dupe_n=14)\n",
    "target = train_data[target_columns].copy().to_numpy() * train_data[encoding_columns].copy().to_numpy()\n",
    "train_data = train_data[encoding_columns + score_columns].copy()"
   ]
  },
  {
   "cell_type": "code",
   "execution_count": 19,
   "metadata": {},
   "outputs": [
    {
     "data": {
      "text/plain": [
       "(array([0.571, 0.   , 0.   , 0.   , 0.   , 0.   , 0.   , 0.   , 0.   ,\n",
       "        0.   , 0.   , 0.   , 0.   , 0.   ]),\n",
       " domain 1 encoding     1.000\n",
       " domain 2 encoding     0.000\n",
       " domain 3 encoding     0.000\n",
       " domain 4 encoding     0.000\n",
       " domain 5 encoding     0.000\n",
       " domain 6 encoding     0.000\n",
       " domain 7 encoding     0.000\n",
       " domain 8 encoding     0.000\n",
       " domain 9 encoding     0.000\n",
       " domain 10 encoding    0.000\n",
       " domain 11 encoding    0.000\n",
       " domain 12 encoding    0.000\n",
       " domain 13 encoding    0.000\n",
       " domain 14 encoding    0.000\n",
       " domain 1 score        0.585\n",
       " domain 2 score        0.000\n",
       " domain 3 score        0.000\n",
       " domain 4 score        0.643\n",
       " domain 5 score        0.450\n",
       " domain 6 score        0.000\n",
       " domain 7 score        0.000\n",
       " domain 8 score        0.000\n",
       " domain 9 score        0.950\n",
       " domain 10 score       0.807\n",
       " domain 11 score       0.000\n",
       " domain 12 score       0.507\n",
       " domain 13 score       0.703\n",
       " domain 14 score       0.000\n",
       " Name: 0, dtype: float64)"
      ]
     },
     "execution_count": 19,
     "metadata": {},
     "output_type": "execute_result"
    }
   ],
   "source": [
    "target , train_data"
   ]
  },
  {
   "cell_type": "code",
   "execution_count": 20,
   "metadata": {},
   "outputs": [
    {
     "data": {
      "image/png": "[encoded data removed]",
      "text/plain": [
       "<Figure size 800x600 with 1 Axes>"
      ]
     },
     "metadata": {},
     "output_type": "display_data"
    }
   ],
   "source": [
    "## ground truth\n",
    "diff = target - train_data[score_columns].to_numpy() * train_data[encoding_columns].to_numpy()\n",
    "\n",
    "\n",
    "# Calculate column-wise averages\n",
    "column_averages = np.sum(diff, axis=0) / np.sum(train_data[encoding_columns].to_numpy(), axis=0)\n",
    "\n",
    "# Plot the bar chart\n",
    "fig, ax = plt.subplots(figsize=(8, 6))  # Create the figure and axes\n",
    "# bars = ax.bar(range(len(column_averages)), column_averages, tick_label=[f\"{i+1}\" for i in range(len(column_averages))])\n",
    "bars = ax.bar(range(1), column_averages, tick_label=[str(target_domain)])\n",
    "\n",
    "\n",
    "# Add values to the bars\n",
    "ax.bar_label(bars, label_type='edge')\n",
    "\n",
    "\n",
    "# Add labels and title\n",
    "plt.xlabel(\"Domains\", fontsize=12)\n",
    "plt.ylabel(\"Average Difference\", fontsize=12)\n",
    "plt.title(\"Ground Truth Training Data Domain Improvement Averages\", fontsize=16)\n",
    "plt.tight_layout()\n",
    "\n",
    "# Show the plot\n",
    "plt.show()"
   ]
  },
  {
   "cell_type": "code",
   "execution_count": 21,
   "metadata": {},
   "outputs": [],
   "source": [
    "train_data = train_data.to_numpy().reshape((1, -1))\n",
    "target = target.reshape((1, -1))"
   ]
  },
  {
   "cell_type": "code",
   "execution_count": 22,
   "metadata": {},
   "outputs": [],
   "source": [
    "def create_missing_indicator(data):\n",
    "    (l, w) = data.shape\n",
    "    temp = np.zeros((l, w*2))\n",
    "    for i in range(l):\n",
    "        for d in range(w):\n",
    "            p = data[i, d]\n",
    "            # update output array\n",
    "            if p == 0:\n",
    "                # print(\"shouldn't be here\")\n",
    "                missing_ind = np.random.choice(2, 1)[0]\n",
    "                temp[i, d*2] = missing_ind\n",
    "                temp[i, d*2+1] = missing_ind\n",
    "            else:\n",
    "                temp[i, d*2] = p # score\n",
    "                temp[i, d*2+1] = 1-p # 1-score\n",
    "    return copy.deepcopy(temp)"
   ]
  },
  {
   "cell_type": "code",
   "execution_count": 23,
   "metadata": {},
   "outputs": [],
   "source": [
    "train_data_scores = create_missing_indicator(train_data[:, -14:])\n",
    "train_data = np.hstack((train_data[:, :14], train_data_scores))"
   ]
  },
  {
   "cell_type": "markdown",
   "metadata": {},
   "source": [
    "Model"
   ]
  },
  {
   "cell_type": "code",
   "execution_count": 24,
   "metadata": {},
   "outputs": [],
   "source": [
    "## input : 14 domain encodings + 14 domains (28 total features with missing indicator)\n",
    "## output: 28 score (prediction for the scores after next domain)\n",
    "class NN(torch.nn.Module):\n",
    "    def __init__(self):\n",
    "        super().__init__()\n",
    "        n_domains = 14\n",
    "        \n",
    "        self.model = torch.nn.Sequential(\n",
    "            torch.nn.Linear(n_domains * 3, 1)  ## single layer test\n",
    "        )\n",
    "\n",
    "    def forward(self, x):\n",
    "        return torch.clamp(self.model(x), min=0, max=1)"
   ]
  },
  {
   "cell_type": "code",
   "execution_count": 25,
   "metadata": {},
   "outputs": [],
   "source": [
    "class customDataset(Dataset):\n",
    "    def __init__(self, data, target):\n",
    "        super().__init__()\n",
    "        self.data = torch.from_numpy(data).float()\n",
    "        self.target = torch.from_numpy(target).float()\n",
    "\n",
    "    def __len__(self):\n",
    "        return self.data.shape[0]\n",
    "\n",
    "    def __getitem__(self, index):\n",
    "        return self.data[index, :], self.target[index, :]"
   ]
  },
  {
   "cell_type": "markdown",
   "metadata": {},
   "source": [
    "Training"
   ]
  },
  {
   "cell_type": "code",
   "execution_count": 26,
   "metadata": {},
   "outputs": [],
   "source": [
    "def train_model(x_train, x_val,y_train, y_val, epochs, model, optimizer, loss_function, history):\n",
    "    losses = []\n",
    "    val_losses = []\n",
    "    w = 14 ## hardcoded\n",
    "\n",
    "    # data_set = customDataset(x_train, y_train)\n",
    "    # data_loader = DataLoader(data_set, batch_size=1, shuffle=True)\n",
    "\n",
    "    for epoch in range(epochs):\n",
    "        epoch_loss = []\n",
    "        val_epoch_loss = []\n",
    "        ## training\n",
    "        model.train()\n",
    "        # for batch_x, batch_y in data_loader:\n",
    "        # Output of Autoencoder\n",
    "        reconstructed = model(x_train)\n",
    "        \n",
    "        # Calculating the loss function\n",
    "        loss = loss_function(reconstructed, y_train)\n",
    "        print(\"epoch %d: \" %epoch, reconstructed)\n",
    "\n",
    "        optimizer.zero_grad()\n",
    "        loss.backward()\n",
    "\n",
    "        # store history of weights, bias, gradients in the dictionary history\n",
    "        history[\"weight\"].append(model.model[0].weight.detach().numpy())\n",
    "        history[\"bias\"].append(model.model[0].bias.detach().numpy())\n",
    "        history[\"gradient\"].append(model.model[0].weight.grad.numpy()) ## tracking the column for the first score\n",
    "\n",
    "        optimizer.step()\n",
    "        \n",
    "        # Storing the losses in a list for plotting\n",
    "        epoch_loss.append(loss.item())\n",
    "\n",
    "        losses.append(statistics.mean(epoch_loss))\n",
    "\n",
    "        ## validation\n",
    "        model.eval()\n",
    "        with torch.no_grad():\n",
    "            val_rs = x_val.reshape(-1, w * 3)\n",
    "            val_t = torch.from_numpy(val_rs)\n",
    "            val_t = val_t.clone().detach().type(torch.float32)\n",
    "            answer = model(val_t)\n",
    "            val_loss = loss_function(answer, torch.from_numpy(y_val.reshape(-1, w)).type(torch.float32))\n",
    "        val_losses.append(val_loss)\n",
    "    return losses, val_losses, history, model"
   ]
  },
  {
   "cell_type": "code",
   "execution_count": 27,
   "metadata": {},
   "outputs": [],
   "source": [
    "num_runs = 1"
   ]
  },
  {
   "cell_type": "code",
   "execution_count": 28,
   "metadata": {},
   "outputs": [],
   "source": [
    "model = NN()"
   ]
  },
  {
   "cell_type": "code",
   "execution_count": 29,
   "metadata": {},
   "outputs": [
    {
     "name": "stdout",
     "output_type": "stream",
     "text": [
      "epoch 0:  tensor([[0.]], grad_fn=<ClampBackward1>)\n",
      "epoch 1:  tensor([[0.]], grad_fn=<ClampBackward1>)\n",
      "epoch 2:  tensor([[0.]], grad_fn=<ClampBackward1>)\n",
      "epoch 3:  tensor([[0.]], grad_fn=<ClampBackward1>)\n",
      "epoch 4:  tensor([[0.]], grad_fn=<ClampBackward1>)\n",
      "epoch 5:  tensor([[0.]], grad_fn=<ClampBackward1>)\n",
      "epoch 6:  tensor([[0.]], grad_fn=<ClampBackward1>)\n",
      "epoch 7:  tensor([[0.]], grad_fn=<ClampBackward1>)\n",
      "epoch 8:  tensor([[0.]], grad_fn=<ClampBackward1>)\n",
      "epoch 9:  tensor([[0.]], grad_fn=<ClampBackward1>)\n",
      "epoch 10:  tensor([[0.]], grad_fn=<ClampBackward1>)\n",
      "epoch 11:  tensor([[0.]], grad_fn=<ClampBackward1>)\n",
      "epoch 12:  tensor([[0.]], grad_fn=<ClampBackward1>)\n",
      "epoch 13:  tensor([[0.]], grad_fn=<ClampBackward1>)\n",
      "epoch 14:  tensor([[0.]], grad_fn=<ClampBackward1>)\n",
      "epoch 15:  tensor([[0.]], grad_fn=<ClampBackward1>)\n",
      "epoch 16:  tensor([[0.]], grad_fn=<ClampBackward1>)\n",
      "epoch 17:  tensor([[0.]], grad_fn=<ClampBackward1>)\n",
      "epoch 18:  tensor([[0.]], grad_fn=<ClampBackward1>)\n",
      "epoch 19:  tensor([[0.]], grad_fn=<ClampBackward1>)\n",
      "epoch 20:  tensor([[0.]], grad_fn=<ClampBackward1>)\n",
      "epoch 21:  tensor([[0.]], grad_fn=<ClampBackward1>)\n",
      "epoch 22:  tensor([[0.]], grad_fn=<ClampBackward1>)\n",
      "epoch 23:  tensor([[0.]], grad_fn=<ClampBackward1>)\n",
      "epoch 24:  tensor([[0.]], grad_fn=<ClampBackward1>)\n"
     ]
    },
    {
     "name": "stderr",
     "output_type": "stream",
     "text": [
      "/opt/homebrew/anaconda3/envs/ct/lib/python3.9/site-packages/torch/nn/modules/loss.py:535: UserWarning: Using a target size (torch.Size([1, 14])) that is different to the input size (torch.Size([1, 1])). This will likely lead to incorrect results due to broadcasting. Please ensure they have the same size.\n",
      "  return F.mse_loss(input, target, reduction=self.reduction)\n"
     ]
    }
   ],
   "source": [
    "losses_2d = []\n",
    "val_losses_2d = []\n",
    "model_history = {\"weight\": [], \"bias\": [], \"gradient\": []}\n",
    "for i in range(num_runs):\n",
    "    model = NN()\n",
    "    epochs = 25\n",
    "    lr = 0.001\n",
    "\n",
    "    # Validation using MSE Loss function\n",
    "    loss_function = torch.nn.MSELoss()\n",
    "    \n",
    "    # Using an Adam Optimizer\n",
    "    optimizer = torch.optim.Adam(model.parameters(),\n",
    "                                lr = lr)\n",
    "    \n",
    "    # x_train, x_val, y_train, y_val = train_test_split(train_data, target, test_size=0.50)\n",
    "    x_train = torch.from_numpy(train_data.copy()).float()\n",
    "    x_val = train_data.copy()\n",
    "    y_train = torch.from_numpy(target.copy()).float()\n",
    "    y_val = target.copy()\n",
    "\n",
    "    model.eval()\n",
    "    with torch.no_grad():\n",
    "        predictions = model(x_train)\n",
    "        zero_loss = loss_function(predictions, y_train)\n",
    "\n",
    "        predictions = model(torch.from_numpy(x_val).float())\n",
    "        zero_loss_val = loss_function(predictions, torch.from_numpy(y_val).float())\n",
    "    \n",
    "    losses, val_losses, model_history, model = train_model(x_train, x_val, y_train, y_val, epochs, model, optimizer, loss_function, model_history)\n",
    "    losses = [zero_loss.item()] + losses\n",
    "    val_losses = [zero_loss_val.item()] + val_losses\n",
    "    \n",
    "    losses_2d.append(losses)\n",
    "    val_losses_2d.append(val_losses)"
   ]
  },
  {
   "cell_type": "code",
   "execution_count": 30,
   "metadata": {},
   "outputs": [],
   "source": [
    "def plot_mean_and_std(data, color_choice=\"blue\", setting=\"\"):\n",
    "    \"\"\"\n",
    "    Plots the mean and standard deviation across multiple lists of data.\n",
    "    \n",
    "    Parameters:\n",
    "    - data (list of lists): A list where each element is a list of numbers.\n",
    "    \n",
    "    The function will compute the mean and standard deviation at each point\n",
    "    across the lists and plot these as a line for the mean and shading for the\n",
    "    standard deviation.\n",
    "    \"\"\"\n",
    "    # Convert data to a NumPy array for easier manipulation\n",
    "    data_array = np.array(data)\n",
    "    \n",
    "    # Calculate mean and standard deviation\n",
    "    means = np.mean(data_array, axis=0)\n",
    "    stds = np.std(data_array, axis=0)\n",
    "    # print(means, stds)\n",
    "    \n",
    "    # Create the x-axis values\n",
    "    x_values = np.arange(len(means))\n",
    "    \n",
    "    # Plotting\n",
    "    plt.plot(x_values, means, label='%s Mean' % setting, color=color_choice)  # Mean line\n",
    "    plt.fill_between(x_values, means - stds, means + stds, color=color_choice, alpha=0.2, label='%s Standard Deviation' % setting)\n",
    "    \n",
    "    plt.title('Mean and Standard Deviation Plot of %s' % setting)\n",
    "    plt.xlabel('epochs')\n",
    "    plt.ylabel('loss')\n",
    "    plt.legend()\n",
    "    plt.grid(True)"
   ]
  },
  {
   "cell_type": "code",
   "execution_count": 31,
   "metadata": {},
   "outputs": [
    {
     "data": {
      "image/png": "[encoded data removed]",
      "text/plain": [
       "<Figure size 640x480 with 1 Axes>"
      ]
     },
     "metadata": {},
     "output_type": "display_data"
    }
   ],
   "source": [
    "# Defining the Plot Style\n",
    "\n",
    "# Plotting\n",
    "if num_runs != 0:\n",
    "    with torch.no_grad():\n",
    "        plot_mean_and_std(losses_2d, \"blue\", \"Training\")\n",
    "        plot_mean_and_std(val_losses_2d, \"orange\", \"Validation\")"
   ]
  },
  {
   "cell_type": "code",
   "execution_count": 32,
   "metadata": {},
   "outputs": [
    {
     "data": {
      "text/plain": [
       "(tensor(0.0233),\n",
       " tensor([[0.]]),\n",
       " tensor([[0.5710, 0.0000, 0.0000, 0.0000, 0.0000, 0.0000, 0.0000, 0.0000, 0.0000,\n",
       "          0.0000, 0.0000, 0.0000, 0.0000, 0.0000]]))"
      ]
     },
     "execution_count": 32,
     "metadata": {},
     "output_type": "execute_result"
    }
   ],
   "source": [
    "with torch.no_grad():\n",
    "    predictions = model(x_train)\n",
    "    loss = loss_function(predictions, y_train)\n",
    "\n",
    "loss, predictions, y_train"
   ]
  },
  {
   "cell_type": "code",
   "execution_count": 33,
   "metadata": {},
   "outputs": [],
   "source": [
    "l2norm_gradient = [np.linalg.norm(arr) for arr in model_history[\"gradient\"]]"
   ]
  },
  {
   "cell_type": "code",
   "execution_count": 34,
   "metadata": {},
   "outputs": [
    {
     "data": {
      "text/plain": [
       "[array([[ 0.13776545,  0.08919653, -0.06745719,  0.08907387,  0.02760892,\n",
       "          0.07836065, -0.09404868, -0.1527462 , -0.05961673, -0.1183542 ,\n",
       "          0.1266119 ,  0.0444442 ,  0.06391454,  0.04880016, -0.00268426,\n",
       "          0.12075908, -0.10963463,  0.00971551, -0.10531824,  0.04757975,\n",
       "         -0.05313934,  0.04728106, -0.03214779,  0.12797794, -0.09145589,\n",
       "         -0.09202621, -0.09203177,  0.13878705,  0.05142177,  0.14847851,\n",
       "         -0.1273429 , -0.15304981, -0.12072136, -0.10379818,  0.06249905,\n",
       "          0.05525231,  0.12821442, -0.07968616, -0.10519042,  0.08186999,\n",
       "         -0.06237011,  0.09365039]], dtype=float32),\n",
       " array([[ 0.13776545,  0.08919653, -0.06745719,  0.08907387,  0.02760892,\n",
       "          0.07836065, -0.09404868, -0.1527462 , -0.05961673, -0.1183542 ,\n",
       "          0.1266119 ,  0.0444442 ,  0.06391454,  0.04880016, -0.00268426,\n",
       "          0.12075908, -0.10963463,  0.00971551, -0.10531824,  0.04757975,\n",
       "         -0.05313934,  0.04728106, -0.03214779,  0.12797794, -0.09145589,\n",
       "         -0.09202621, -0.09203177,  0.13878705,  0.05142177,  0.14847851,\n",
       "         -0.1273429 , -0.15304981, -0.12072136, -0.10379818,  0.06249905,\n",
       "          0.05525231,  0.12821442, -0.07968616, -0.10519042,  0.08186999,\n",
       "         -0.06237011,  0.09365039]], dtype=float32),\n",
       " array([[ 0.13776545,  0.08919653, -0.06745719,  0.08907387,  0.02760892,\n",
       "          0.07836065, -0.09404868, -0.1527462 , -0.05961673, -0.1183542 ,\n",
       "          0.1266119 ,  0.0444442 ,  0.06391454,  0.04880016, -0.00268426,\n",
       "          0.12075908, -0.10963463,  0.00971551, -0.10531824,  0.04757975,\n",
       "         -0.05313934,  0.04728106, -0.03214779,  0.12797794, -0.09145589,\n",
       "         -0.09202621, -0.09203177,  0.13878705,  0.05142177,  0.14847851,\n",
       "         -0.1273429 , -0.15304981, -0.12072136, -0.10379818,  0.06249905,\n",
       "          0.05525231,  0.12821442, -0.07968616, -0.10519042,  0.08186999,\n",
       "         -0.06237011,  0.09365039]], dtype=float32),\n",
       " array([[ 0.13776545,  0.08919653, -0.06745719,  0.08907387,  0.02760892,\n",
       "          0.07836065, -0.09404868, -0.1527462 , -0.05961673, -0.1183542 ,\n",
       "          0.1266119 ,  0.0444442 ,  0.06391454,  0.04880016, -0.00268426,\n",
       "          0.12075908, -0.10963463,  0.00971551, -0.10531824,  0.04757975,\n",
       "         -0.05313934,  0.04728106, -0.03214779,  0.12797794, -0.09145589,\n",
       "         -0.09202621, -0.09203177,  0.13878705,  0.05142177,  0.14847851,\n",
       "         -0.1273429 , -0.15304981, -0.12072136, -0.10379818,  0.06249905,\n",
       "          0.05525231,  0.12821442, -0.07968616, -0.10519042,  0.08186999,\n",
       "         -0.06237011,  0.09365039]], dtype=float32),\n",
       " array([[ 0.13776545,  0.08919653, -0.06745719,  0.08907387,  0.02760892,\n",
       "          0.07836065, -0.09404868, -0.1527462 , -0.05961673, -0.1183542 ,\n",
       "          0.1266119 ,  0.0444442 ,  0.06391454,  0.04880016, -0.00268426,\n",
       "          0.12075908, -0.10963463,  0.00971551, -0.10531824,  0.04757975,\n",
       "         -0.05313934,  0.04728106, -0.03214779,  0.12797794, -0.09145589,\n",
       "         -0.09202621, -0.09203177,  0.13878705,  0.05142177,  0.14847851,\n",
       "         -0.1273429 , -0.15304981, -0.12072136, -0.10379818,  0.06249905,\n",
       "          0.05525231,  0.12821442, -0.07968616, -0.10519042,  0.08186999,\n",
       "         -0.06237011,  0.09365039]], dtype=float32),\n",
       " array([[ 0.13776545,  0.08919653, -0.06745719,  0.08907387,  0.02760892,\n",
       "          0.07836065, -0.09404868, -0.1527462 , -0.05961673, -0.1183542 ,\n",
       "          0.1266119 ,  0.0444442 ,  0.06391454,  0.04880016, -0.00268426,\n",
       "          0.12075908, -0.10963463,  0.00971551, -0.10531824,  0.04757975,\n",
       "         -0.05313934,  0.04728106, -0.03214779,  0.12797794, -0.09145589,\n",
       "         -0.09202621, -0.09203177,  0.13878705,  0.05142177,  0.14847851,\n",
       "         -0.1273429 , -0.15304981, -0.12072136, -0.10379818,  0.06249905,\n",
       "          0.05525231,  0.12821442, -0.07968616, -0.10519042,  0.08186999,\n",
       "         -0.06237011,  0.09365039]], dtype=float32),\n",
       " array([[ 0.13776545,  0.08919653, -0.06745719,  0.08907387,  0.02760892,\n",
       "          0.07836065, -0.09404868, -0.1527462 , -0.05961673, -0.1183542 ,\n",
       "          0.1266119 ,  0.0444442 ,  0.06391454,  0.04880016, -0.00268426,\n",
       "          0.12075908, -0.10963463,  0.00971551, -0.10531824,  0.04757975,\n",
       "         -0.05313934,  0.04728106, -0.03214779,  0.12797794, -0.09145589,\n",
       "         -0.09202621, -0.09203177,  0.13878705,  0.05142177,  0.14847851,\n",
       "         -0.1273429 , -0.15304981, -0.12072136, -0.10379818,  0.06249905,\n",
       "          0.05525231,  0.12821442, -0.07968616, -0.10519042,  0.08186999,\n",
       "         -0.06237011,  0.09365039]], dtype=float32),\n",
       " array([[ 0.13776545,  0.08919653, -0.06745719,  0.08907387,  0.02760892,\n",
       "          0.07836065, -0.09404868, -0.1527462 , -0.05961673, -0.1183542 ,\n",
       "          0.1266119 ,  0.0444442 ,  0.06391454,  0.04880016, -0.00268426,\n",
       "          0.12075908, -0.10963463,  0.00971551, -0.10531824,  0.04757975,\n",
       "         -0.05313934,  0.04728106, -0.03214779,  0.12797794, -0.09145589,\n",
       "         -0.09202621, -0.09203177,  0.13878705,  0.05142177,  0.14847851,\n",
       "         -0.1273429 , -0.15304981, -0.12072136, -0.10379818,  0.06249905,\n",
       "          0.05525231,  0.12821442, -0.07968616, -0.10519042,  0.08186999,\n",
       "         -0.06237011,  0.09365039]], dtype=float32),\n",
       " array([[ 0.13776545,  0.08919653, -0.06745719,  0.08907387,  0.02760892,\n",
       "          0.07836065, -0.09404868, -0.1527462 , -0.05961673, -0.1183542 ,\n",
       "          0.1266119 ,  0.0444442 ,  0.06391454,  0.04880016, -0.00268426,\n",
       "          0.12075908, -0.10963463,  0.00971551, -0.10531824,  0.04757975,\n",
       "         -0.05313934,  0.04728106, -0.03214779,  0.12797794, -0.09145589,\n",
       "         -0.09202621, -0.09203177,  0.13878705,  0.05142177,  0.14847851,\n",
       "         -0.1273429 , -0.15304981, -0.12072136, -0.10379818,  0.06249905,\n",
       "          0.05525231,  0.12821442, -0.07968616, -0.10519042,  0.08186999,\n",
       "         -0.06237011,  0.09365039]], dtype=float32),\n",
       " array([[ 0.13776545,  0.08919653, -0.06745719,  0.08907387,  0.02760892,\n",
       "          0.07836065, -0.09404868, -0.1527462 , -0.05961673, -0.1183542 ,\n",
       "          0.1266119 ,  0.0444442 ,  0.06391454,  0.04880016, -0.00268426,\n",
       "          0.12075908, -0.10963463,  0.00971551, -0.10531824,  0.04757975,\n",
       "         -0.05313934,  0.04728106, -0.03214779,  0.12797794, -0.09145589,\n",
       "         -0.09202621, -0.09203177,  0.13878705,  0.05142177,  0.14847851,\n",
       "         -0.1273429 , -0.15304981, -0.12072136, -0.10379818,  0.06249905,\n",
       "          0.05525231,  0.12821442, -0.07968616, -0.10519042,  0.08186999,\n",
       "         -0.06237011,  0.09365039]], dtype=float32),\n",
       " array([[ 0.13776545,  0.08919653, -0.06745719,  0.08907387,  0.02760892,\n",
       "          0.07836065, -0.09404868, -0.1527462 , -0.05961673, -0.1183542 ,\n",
       "          0.1266119 ,  0.0444442 ,  0.06391454,  0.04880016, -0.00268426,\n",
       "          0.12075908, -0.10963463,  0.00971551, -0.10531824,  0.04757975,\n",
       "         -0.05313934,  0.04728106, -0.03214779,  0.12797794, -0.09145589,\n",
       "         -0.09202621, -0.09203177,  0.13878705,  0.05142177,  0.14847851,\n",
       "         -0.1273429 , -0.15304981, -0.12072136, -0.10379818,  0.06249905,\n",
       "          0.05525231,  0.12821442, -0.07968616, -0.10519042,  0.08186999,\n",
       "         -0.06237011,  0.09365039]], dtype=float32),\n",
       " array([[ 0.13776545,  0.08919653, -0.06745719,  0.08907387,  0.02760892,\n",
       "          0.07836065, -0.09404868, -0.1527462 , -0.05961673, -0.1183542 ,\n",
       "          0.1266119 ,  0.0444442 ,  0.06391454,  0.04880016, -0.00268426,\n",
       "          0.12075908, -0.10963463,  0.00971551, -0.10531824,  0.04757975,\n",
       "         -0.05313934,  0.04728106, -0.03214779,  0.12797794, -0.09145589,\n",
       "         -0.09202621, -0.09203177,  0.13878705,  0.05142177,  0.14847851,\n",
       "         -0.1273429 , -0.15304981, -0.12072136, -0.10379818,  0.06249905,\n",
       "          0.05525231,  0.12821442, -0.07968616, -0.10519042,  0.08186999,\n",
       "         -0.06237011,  0.09365039]], dtype=float32),\n",
       " array([[ 0.13776545,  0.08919653, -0.06745719,  0.08907387,  0.02760892,\n",
       "          0.07836065, -0.09404868, -0.1527462 , -0.05961673, -0.1183542 ,\n",
       "          0.1266119 ,  0.0444442 ,  0.06391454,  0.04880016, -0.00268426,\n",
       "          0.12075908, -0.10963463,  0.00971551, -0.10531824,  0.04757975,\n",
       "         -0.05313934,  0.04728106, -0.03214779,  0.12797794, -0.09145589,\n",
       "         -0.09202621, -0.09203177,  0.13878705,  0.05142177,  0.14847851,\n",
       "         -0.1273429 , -0.15304981, -0.12072136, -0.10379818,  0.06249905,\n",
       "          0.05525231,  0.12821442, -0.07968616, -0.10519042,  0.08186999,\n",
       "         -0.06237011,  0.09365039]], dtype=float32),\n",
       " array([[ 0.13776545,  0.08919653, -0.06745719,  0.08907387,  0.02760892,\n",
       "          0.07836065, -0.09404868, -0.1527462 , -0.05961673, -0.1183542 ,\n",
       "          0.1266119 ,  0.0444442 ,  0.06391454,  0.04880016, -0.00268426,\n",
       "          0.12075908, -0.10963463,  0.00971551, -0.10531824,  0.04757975,\n",
       "         -0.05313934,  0.04728106, -0.03214779,  0.12797794, -0.09145589,\n",
       "         -0.09202621, -0.09203177,  0.13878705,  0.05142177,  0.14847851,\n",
       "         -0.1273429 , -0.15304981, -0.12072136, -0.10379818,  0.06249905,\n",
       "          0.05525231,  0.12821442, -0.07968616, -0.10519042,  0.08186999,\n",
       "         -0.06237011,  0.09365039]], dtype=float32),\n",
       " array([[ 0.13776545,  0.08919653, -0.06745719,  0.08907387,  0.02760892,\n",
       "          0.07836065, -0.09404868, -0.1527462 , -0.05961673, -0.1183542 ,\n",
       "          0.1266119 ,  0.0444442 ,  0.06391454,  0.04880016, -0.00268426,\n",
       "          0.12075908, -0.10963463,  0.00971551, -0.10531824,  0.04757975,\n",
       "         -0.05313934,  0.04728106, -0.03214779,  0.12797794, -0.09145589,\n",
       "         -0.09202621, -0.09203177,  0.13878705,  0.05142177,  0.14847851,\n",
       "         -0.1273429 , -0.15304981, -0.12072136, -0.10379818,  0.06249905,\n",
       "          0.05525231,  0.12821442, -0.07968616, -0.10519042,  0.08186999,\n",
       "         -0.06237011,  0.09365039]], dtype=float32),\n",
       " array([[ 0.13776545,  0.08919653, -0.06745719,  0.08907387,  0.02760892,\n",
       "          0.07836065, -0.09404868, -0.1527462 , -0.05961673, -0.1183542 ,\n",
       "          0.1266119 ,  0.0444442 ,  0.06391454,  0.04880016, -0.00268426,\n",
       "          0.12075908, -0.10963463,  0.00971551, -0.10531824,  0.04757975,\n",
       "         -0.05313934,  0.04728106, -0.03214779,  0.12797794, -0.09145589,\n",
       "         -0.09202621, -0.09203177,  0.13878705,  0.05142177,  0.14847851,\n",
       "         -0.1273429 , -0.15304981, -0.12072136, -0.10379818,  0.06249905,\n",
       "          0.05525231,  0.12821442, -0.07968616, -0.10519042,  0.08186999,\n",
       "         -0.06237011,  0.09365039]], dtype=float32),\n",
       " array([[ 0.13776545,  0.08919653, -0.06745719,  0.08907387,  0.02760892,\n",
       "          0.07836065, -0.09404868, -0.1527462 , -0.05961673, -0.1183542 ,\n",
       "          0.1266119 ,  0.0444442 ,  0.06391454,  0.04880016, -0.00268426,\n",
       "          0.12075908, -0.10963463,  0.00971551, -0.10531824,  0.04757975,\n",
       "         -0.05313934,  0.04728106, -0.03214779,  0.12797794, -0.09145589,\n",
       "         -0.09202621, -0.09203177,  0.13878705,  0.05142177,  0.14847851,\n",
       "         -0.1273429 , -0.15304981, -0.12072136, -0.10379818,  0.06249905,\n",
       "          0.05525231,  0.12821442, -0.07968616, -0.10519042,  0.08186999,\n",
       "         -0.06237011,  0.09365039]], dtype=float32),\n",
       " array([[ 0.13776545,  0.08919653, -0.06745719,  0.08907387,  0.02760892,\n",
       "          0.07836065, -0.09404868, -0.1527462 , -0.05961673, -0.1183542 ,\n",
       "          0.1266119 ,  0.0444442 ,  0.06391454,  0.04880016, -0.00268426,\n",
       "          0.12075908, -0.10963463,  0.00971551, -0.10531824,  0.04757975,\n",
       "         -0.05313934,  0.04728106, -0.03214779,  0.12797794, -0.09145589,\n",
       "         -0.09202621, -0.09203177,  0.13878705,  0.05142177,  0.14847851,\n",
       "         -0.1273429 , -0.15304981, -0.12072136, -0.10379818,  0.06249905,\n",
       "          0.05525231,  0.12821442, -0.07968616, -0.10519042,  0.08186999,\n",
       "         -0.06237011,  0.09365039]], dtype=float32),\n",
       " array([[ 0.13776545,  0.08919653, -0.06745719,  0.08907387,  0.02760892,\n",
       "          0.07836065, -0.09404868, -0.1527462 , -0.05961673, -0.1183542 ,\n",
       "          0.1266119 ,  0.0444442 ,  0.06391454,  0.04880016, -0.00268426,\n",
       "          0.12075908, -0.10963463,  0.00971551, -0.10531824,  0.04757975,\n",
       "         -0.05313934,  0.04728106, -0.03214779,  0.12797794, -0.09145589,\n",
       "         -0.09202621, -0.09203177,  0.13878705,  0.05142177,  0.14847851,\n",
       "         -0.1273429 , -0.15304981, -0.12072136, -0.10379818,  0.06249905,\n",
       "          0.05525231,  0.12821442, -0.07968616, -0.10519042,  0.08186999,\n",
       "         -0.06237011,  0.09365039]], dtype=float32),\n",
       " array([[ 0.13776545,  0.08919653, -0.06745719,  0.08907387,  0.02760892,\n",
       "          0.07836065, -0.09404868, -0.1527462 , -0.05961673, -0.1183542 ,\n",
       "          0.1266119 ,  0.0444442 ,  0.06391454,  0.04880016, -0.00268426,\n",
       "          0.12075908, -0.10963463,  0.00971551, -0.10531824,  0.04757975,\n",
       "         -0.05313934,  0.04728106, -0.03214779,  0.12797794, -0.09145589,\n",
       "         -0.09202621, -0.09203177,  0.13878705,  0.05142177,  0.14847851,\n",
       "         -0.1273429 , -0.15304981, -0.12072136, -0.10379818,  0.06249905,\n",
       "          0.05525231,  0.12821442, -0.07968616, -0.10519042,  0.08186999,\n",
       "         -0.06237011,  0.09365039]], dtype=float32),\n",
       " array([[ 0.13776545,  0.08919653, -0.06745719,  0.08907387,  0.02760892,\n",
       "          0.07836065, -0.09404868, -0.1527462 , -0.05961673, -0.1183542 ,\n",
       "          0.1266119 ,  0.0444442 ,  0.06391454,  0.04880016, -0.00268426,\n",
       "          0.12075908, -0.10963463,  0.00971551, -0.10531824,  0.04757975,\n",
       "         -0.05313934,  0.04728106, -0.03214779,  0.12797794, -0.09145589,\n",
       "         -0.09202621, -0.09203177,  0.13878705,  0.05142177,  0.14847851,\n",
       "         -0.1273429 , -0.15304981, -0.12072136, -0.10379818,  0.06249905,\n",
       "          0.05525231,  0.12821442, -0.07968616, -0.10519042,  0.08186999,\n",
       "         -0.06237011,  0.09365039]], dtype=float32),\n",
       " array([[ 0.13776545,  0.08919653, -0.06745719,  0.08907387,  0.02760892,\n",
       "          0.07836065, -0.09404868, -0.1527462 , -0.05961673, -0.1183542 ,\n",
       "          0.1266119 ,  0.0444442 ,  0.06391454,  0.04880016, -0.00268426,\n",
       "          0.12075908, -0.10963463,  0.00971551, -0.10531824,  0.04757975,\n",
       "         -0.05313934,  0.04728106, -0.03214779,  0.12797794, -0.09145589,\n",
       "         -0.09202621, -0.09203177,  0.13878705,  0.05142177,  0.14847851,\n",
       "         -0.1273429 , -0.15304981, -0.12072136, -0.10379818,  0.06249905,\n",
       "          0.05525231,  0.12821442, -0.07968616, -0.10519042,  0.08186999,\n",
       "         -0.06237011,  0.09365039]], dtype=float32),\n",
       " array([[ 0.13776545,  0.08919653, -0.06745719,  0.08907387,  0.02760892,\n",
       "          0.07836065, -0.09404868, -0.1527462 , -0.05961673, -0.1183542 ,\n",
       "          0.1266119 ,  0.0444442 ,  0.06391454,  0.04880016, -0.00268426,\n",
       "          0.12075908, -0.10963463,  0.00971551, -0.10531824,  0.04757975,\n",
       "         -0.05313934,  0.04728106, -0.03214779,  0.12797794, -0.09145589,\n",
       "         -0.09202621, -0.09203177,  0.13878705,  0.05142177,  0.14847851,\n",
       "         -0.1273429 , -0.15304981, -0.12072136, -0.10379818,  0.06249905,\n",
       "          0.05525231,  0.12821442, -0.07968616, -0.10519042,  0.08186999,\n",
       "         -0.06237011,  0.09365039]], dtype=float32),\n",
       " array([[ 0.13776545,  0.08919653, -0.06745719,  0.08907387,  0.02760892,\n",
       "          0.07836065, -0.09404868, -0.1527462 , -0.05961673, -0.1183542 ,\n",
       "          0.1266119 ,  0.0444442 ,  0.06391454,  0.04880016, -0.00268426,\n",
       "          0.12075908, -0.10963463,  0.00971551, -0.10531824,  0.04757975,\n",
       "         -0.05313934,  0.04728106, -0.03214779,  0.12797794, -0.09145589,\n",
       "         -0.09202621, -0.09203177,  0.13878705,  0.05142177,  0.14847851,\n",
       "         -0.1273429 , -0.15304981, -0.12072136, -0.10379818,  0.06249905,\n",
       "          0.05525231,  0.12821442, -0.07968616, -0.10519042,  0.08186999,\n",
       "         -0.06237011,  0.09365039]], dtype=float32),\n",
       " array([[ 0.13776545,  0.08919653, -0.06745719,  0.08907387,  0.02760892,\n",
       "          0.07836065, -0.09404868, -0.1527462 , -0.05961673, -0.1183542 ,\n",
       "          0.1266119 ,  0.0444442 ,  0.06391454,  0.04880016, -0.00268426,\n",
       "          0.12075908, -0.10963463,  0.00971551, -0.10531824,  0.04757975,\n",
       "         -0.05313934,  0.04728106, -0.03214779,  0.12797794, -0.09145589,\n",
       "         -0.09202621, -0.09203177,  0.13878705,  0.05142177,  0.14847851,\n",
       "         -0.1273429 , -0.15304981, -0.12072136, -0.10379818,  0.06249905,\n",
       "          0.05525231,  0.12821442, -0.07968616, -0.10519042,  0.08186999,\n",
       "         -0.06237011,  0.09365039]], dtype=float32)]"
      ]
     },
     "execution_count": 34,
     "metadata": {},
     "output_type": "execute_result"
    }
   ],
   "source": [
    "model_history[\"weight\"]"
   ]
  },
  {
   "cell_type": "code",
   "execution_count": 35,
   "metadata": {},
   "outputs": [
    {
     "data": {
      "image/png": "[encoded data removed]",
      "text/plain": [
       "<Figure size 640x480 with 1 Axes>"
      ]
     },
     "metadata": {},
     "output_type": "display_data"
    },
    {
     "data": {
      "image/png": "[encoded data removed]",
      "text/plain": [
       "<Figure size 640x480 with 1 Axes>"
      ]
     },
     "metadata": {},
     "output_type": "display_data"
    },
    {
     "data": {
      "image/png": "[encoded data removed]",
      "text/plain": [
       "<Figure size 640x480 with 1 Axes>"
      ]
     },
     "metadata": {},
     "output_type": "display_data"
    },
    {
     "data": {
      "image/png": "[encoded data removed]",
      "text/plain": [
       "<Figure size 640x480 with 1 Axes>"
      ]
     },
     "metadata": {},
     "output_type": "display_data"
    },
    {
     "data": {
      "image/png": "[encoded data removed]",
      "text/plain": [
       "<Figure size 640x480 with 1 Axes>"
      ]
     },
     "metadata": {},
     "output_type": "display_data"
    },
    {
     "data": {
      "image/png": "[encoded data removed]",
      "text/plain": [
       "<Figure size 640x480 with 1 Axes>"
      ]
     },
     "metadata": {},
     "output_type": "display_data"
    },
    {
     "data": {
      "image/png": "[encoded data removed]",
      "text/plain": [
       "<Figure size 640x480 with 1 Axes>"
      ]
     },
     "metadata": {},
     "output_type": "display_data"
    },
    {
     "data": {
      "image/png": "[encoded data removed]",
      "text/plain": [
       "<Figure size 640x480 with 1 Axes>"
      ]
     },
     "metadata": {},
     "output_type": "display_data"
    },
    {
     "data": {
      "image/png": "[encoded data removed]",
      "text/plain": [
       "<Figure size 640x480 with 1 Axes>"
      ]
     },
     "metadata": {},
     "output_type": "display_data"
    },
    {
     "data": {
      "image/png": "[encoded data removed]",
      "text/plain": [
       "<Figure size 640x480 with 1 Axes>"
      ]
     },
     "metadata": {},
     "output_type": "display_data"
    },
    {
     "data": {
      "image/png": "[encoded data removed]",
      "text/plain": [
       "<Figure size 640x480 with 1 Axes>"
      ]
     },
     "metadata": {},
     "output_type": "display_data"
    },
    {
     "data": {
      "image/png": "[encoded data removed]",
      "text/plain": [
       "<Figure size 640x480 with 1 Axes>"
      ]
     },
     "metadata": {},
     "output_type": "display_data"
    },
    {
     "data": {
      "image/png": "[encoded data removed]",
      "text/plain": [
       "<Figure size 640x480 with 1 Axes>"
      ]
     },
     "metadata": {},
     "output_type": "display_data"
    },
    {
     "data": {
      "image/png": "[encoded data removed]",
      "text/plain": [
       "<Figure size 640x480 with 1 Axes>"
      ]
     },
     "metadata": {},
     "output_type": "display_data"
    },
    {
     "data": {
      "image/png": "[encoded data removed]",
      "text/plain": [
       "<Figure size 640x480 with 1 Axes>"
      ]
     },
     "metadata": {},
     "output_type": "display_data"
    },
    {
     "data": {
      "image/png": "[encoded data removed]",
      "text/plain": [
       "<Figure size 640x480 with 1 Axes>"
      ]
     },
     "metadata": {},
     "output_type": "display_data"
    },
    {
     "data": {
      "image/png": "[encoded data removed]",
      "text/plain": [
       "<Figure size 640x480 with 1 Axes>"
      ]
     },
     "metadata": {},
     "output_type": "display_data"
    },
    {
     "data": {
      "image/png": "[encoded data removed]",
      "text/plain": [
       "<Figure size 640x480 with 1 Axes>"
      ]
     },
     "metadata": {},
     "output_type": "display_data"
    },
    {
     "data": {
      "image/png": "[encoded data removed]",
      "text/plain": [
       "<Figure size 640x480 with 1 Axes>"
      ]
     },
     "metadata": {},
     "output_type": "display_data"
    },
    {
     "data": {
      "image/png": "[encoded data removed]",
      "text/plain": [
       "<Figure size 640x480 with 1 Axes>"
      ]
     },
     "metadata": {},
     "output_type": "display_data"
    },
    {
     "data": {
      "image/png": "[encoded data removed]",
      "text/plain": [
       "<Figure size 640x480 with 1 Axes>"
      ]
     },
     "metadata": {},
     "output_type": "display_data"
    },
    {
     "data": {
      "image/png": "[encoded data removed]",
      "text/plain": [
       "<Figure size 640x480 with 1 Axes>"
      ]
     },
     "metadata": {},
     "output_type": "display_data"
    },
    {
     "data": {
      "image/png": "[encoded data removed]",
      "text/plain": [
       "<Figure size 640x480 with 1 Axes>"
      ]
     },
     "metadata": {},
     "output_type": "display_data"
    },
    {
     "data": {
      "image/png": "[encoded data removed]",
      "text/plain": [
       "<Figure size 640x480 with 1 Axes>"
      ]
     },
     "metadata": {},
     "output_type": "display_data"
    },
    {
     "data": {
      "image/png": "[encoded data removed]",
      "text/plain": [
       "<Figure size 640x480 with 1 Axes>"
      ]
     },
     "metadata": {},
     "output_type": "display_data"
    }
   ],
   "source": [
    "for i in range(len(model_history[\"weight\"])):\n",
    "    plt.figure()\n",
    "    plt.imshow(model_history[\"weight\"][i])\n",
    "    plt.show()"
   ]
  },
  {
   "cell_type": "code",
   "execution_count": 36,
   "metadata": {},
   "outputs": [
    {
     "name": "stderr",
     "output_type": "stream",
     "text": [
      "/var/folders/vv/6vndbrvd7r1gc7xq3qqx8tfh0000gq/T/ipykernel_90070/759946412.py:9: UserWarning: No artists with labels found to put in legend.  Note that artists whose label start with an underscore are ignored when legend() is called with no argument.\n",
      "  plt.legend()\n"
     ]
    },
    {
     "data": {
      "image/png": "[encoded data removed]",
      "text/plain": [
       "<Figure size 1000x600 with 1 Axes>"
      ]
     },
     "metadata": {},
     "output_type": "display_data"
    }
   ],
   "source": [
    "# Plot gradient magnitudes\n",
    "plt.figure(figsize=(10, 6))\n",
    "\n",
    "plt.plot(range(len(l2norm_gradient)), l2norm_gradient)\n",
    "\n",
    "plt.xlabel(\"Epochs\", fontsize=12)\n",
    "plt.ylabel(\"Gradient Magnitude (L2 Norm)\", fontsize=12)\n",
    "plt.title(\"Gradient Magnitude Changes Over Epochs\", fontsize=16)\n",
    "plt.legend()\n",
    "plt.tight_layout()\n",
    "plt.show()\n"
   ]
  },
  {
   "cell_type": "markdown",
   "metadata": {},
   "source": [
    "### Quantitative (overall baseline vs prediction view)\n",
    "- compare our prediction to baseline in test set in a quantitative manner (rather than looking at an individual heatmap)"
   ]
  },
  {
   "cell_type": "code",
   "execution_count": null,
   "metadata": {},
   "outputs": [],
   "source": [
    "if num_runs == 0: ## no training, take from previously saved model\n",
    "    print(\"loading old model\")\n",
    "    model = NN()\n",
    "    model = torch.load(\"model/next_step_3.pt\")"
   ]
  },
  {
   "cell_type": "code",
   "execution_count": null,
   "metadata": {},
   "outputs": [],
   "source": [
    "## take in dataframe, return known domain average for prediction, modified from baseline quant 11/04/2024\n",
    "def known_domain_average(data : pd.DataFrame):\n",
    "    \"\"\"\n",
    "    Imputes missing values (NaN) in a DataFrame with the average of the non-missing values in the same row.\n",
    "\n",
    "    Parameters:\n",
    "    - data (pd.DataFrame): The DataFrame to impute.\n",
    "\n",
    "    Returns:\n",
    "    - pd.DataFrame: The DataFrame with missing values imputed.\n",
    "    \"\"\"\n",
    "    assert(data.shape[1] == 14 * 2) ## make sure that the dataframe is the right shape with encoding, current, and target\n",
    "\n",
    "    # separate encoding, scores, and target (which we dont need so ignored in here)\n",
    "    encoding = data.iloc[:, :14].copy()\n",
    "    data_ = data.iloc[:, 14:28].copy()\n",
    "\n",
    "    # Replace '0' with NaN to handle them as missing values\n",
    "    data_ = data.replace(0, np.nan)\n",
    "    # initialize the list we are going to use to store all known domain average\n",
    "    known_domain_average_lst = []\n",
    "\n",
    "    # Iterate over each row\n",
    "    for index, row in data_.iterrows():\n",
    "        # Calculate the mean of the non-NaN values in the row\n",
    "        mean_value = row.mean()\n",
    "        # if there are no known domains, we say known domain average is 0\n",
    "        if np.isnan(mean_value):\n",
    "            mean_value = 0\n",
    "        # append the average onto the list\n",
    "        known_domain_average_lst.append(mean_value)\n",
    "        # in the encoding df, replace na with \n",
    "        encoding.loc[index] = encoding.loc[index].replace(1, mean_value)\n",
    "    \n",
    "    return encoding"
   ]
  },
  {
   "cell_type": "code",
   "execution_count": null,
   "metadata": {},
   "outputs": [],
   "source": [
    "def get_accuracy(y_pred, y_true, n, fn : str):\n",
    "    diff = y_pred - y_true\n",
    "    if fn == \"mse\":\n",
    "        return np.sum(np.power(diff, 2)) / n\n",
    "    elif fn == \"mae\":\n",
    "        return np.sum(np.abs(diff)) / n"
   ]
  },
  {
   "cell_type": "code",
   "execution_count": null,
   "metadata": {},
   "outputs": [],
   "source": [
    "# get predictions from the model\n",
    "def predict(data, model):\n",
    "    model.eval()\n",
    "    data_t = torch.tensor(data, dtype=torch.float32)\n",
    "    with torch.no_grad():\n",
    "        return model(data_t).clone().detach().numpy()"
   ]
  },
  {
   "cell_type": "code",
   "execution_count": null,
   "metadata": {},
   "outputs": [],
   "source": [
    "'''accuracy_list_prediction_sq = []\n",
    "accuracy_list_knownimputation_sq = []\n",
    "accuracy_list_prediction_abs = []\n",
    "accuracy_list_knownimputation_abs = []\n",
    "\n",
    "for masked_number in range(14):\n",
    "    # Count the number of rows with exactly 'masked_number' missing values (indicated by 0)\n",
    "    masked_rows = (test_data[score_columns] == 0).sum(axis=1) == masked_number\n",
    "    masked_test_data = test_data[masked_rows]\n",
    "    \n",
    "    if masked_test_data.shape[0] == 0:\n",
    "        # If no rows have the required number of missing values, append NaN and continue\n",
    "        accuracy_list_prediction_abs.append(np.nan)\n",
    "        accuracy_list_knownimputation_abs.append(np.nan)\n",
    "        accuracy_list_prediction_sq.append(np.nan)\n",
    "        accuracy_list_knownimputation_sq.append(np.nan)\n",
    "        continue\n",
    "\n",
    "    # known domain average prediction for the next domains\n",
    "    baseline_prediction = known_domain_average(masked_test_data[encoding_columns + score_columns]).to_numpy()\n",
    "\n",
    "    # predict\n",
    "    masked_test_data_ = copy.deepcopy(masked_test_data[encoding_columns + score_columns])\n",
    "    masked_test_data_ = masked_test_data_.to_numpy()\n",
    "    test_data_scores = create_missing_indicator(masked_test_data_[:, -14:])\n",
    "    masked_test_data_ = np.hstack((masked_test_data_[:, :14], test_data_scores))\n",
    "    model_prediction = predict(masked_test_data_, model)\n",
    "    model_prediction = np.multiply(model_prediction, masked_test_data[encoding_columns].to_numpy()) # element wise multiply the two so we have the same form as baseline prediction\n",
    "    # we only have the values we are predicting in the matrix, everything else is 0\n",
    "\n",
    "    # get accuracy (abs)\n",
    "    original = masked_test_data[target_columns].copy().to_numpy() # ground truth\n",
    "    original = np.multiply(original, masked_test_data[encoding_columns].copy().to_numpy()) # element wise multiply the two so we only have the scores we care about predicting\n",
    "    assert original.shape == model_prediction.shape and original.shape == baseline_prediction.shape\n",
    "    n_predicting = np.sum(masked_test_data[encoding_columns].copy().to_numpy())\n",
    "\n",
    "    accuracy_list_prediction_abs.append(get_accuracy(model_prediction, original, n_predicting, \"mae\"))\n",
    "    accuracy_list_knownimputation_abs.append(get_accuracy(baseline_prediction, original, n_predicting, \"mae\"))\n",
    "\n",
    "    # get accuracy (sq)\n",
    "    accuracy_list_prediction_sq.append(get_accuracy(model_prediction, original, n_predicting, \"mse\"))\n",
    "    accuracy_list_knownimputation_sq.append(get_accuracy(baseline_prediction, original, n_predicting, \"mse\"))'''"
   ]
  },
  {
   "cell_type": "code",
   "execution_count": null,
   "metadata": {},
   "outputs": [],
   "source": [
    "'''fig = plt.figure(figsize=(12, 12))\n",
    "# plt.errorbar(range(0, 14), accuracy_list_prediction_sq, yerr=error_prediction_sq, label=\"model\", linewidth=3)\n",
    "# plt.errorbar(range(0, 14), accuracy_list_imputation_sq, yerr=error_imputation_sq, label=\"baseline\")\n",
    "\n",
    "x_values = range(0, 14)\n",
    "\n",
    "plt.plot(x_values, accuracy_list_prediction_sq, label=\"model\", marker=\"o\")\n",
    "plt.plot(x_values, accuracy_list_knownimputation_sq, label=\"baseline\", marker=\"o\")\n",
    "\n",
    "for x, y1, y2 in zip(x_values, accuracy_list_prediction_sq, accuracy_list_knownimputation_sq):\n",
    "    offset = 10\n",
    "\n",
    "    label = \"{:.4f}\".format(y1)\n",
    "    plt.annotate(label, # this is the text\n",
    "                (x,y1), # these are the coordinates to position the label\n",
    "                textcoords=\"offset points\", # how to position the text\n",
    "                xytext=(0,10), # distance from text to points (x,y)\n",
    "                ha='center') # horizontal alignment can be left, right or center\n",
    "    \n",
    "    label = \"{:.4f}\".format(y2)\n",
    "    plt.annotate(label, # this is the text\n",
    "                (x,y2), # these are the coordinates to position the label\n",
    "                textcoords=\"offset points\", # how to position the text\n",
    "                xytext=(0,-10), # distance from text to points (x,y)\n",
    "                ha='center') # horizontal alignment can be left, right or center\n",
    "\n",
    "\n",
    "\n",
    "plt.xlabel(\"number of masked domains\")\n",
    "plt.ylabel(\"mean squared error\")\n",
    "plt.title(\"Mean squared error vs number of masked domains\")\n",
    "plt.legend()'''"
   ]
  },
  {
   "cell_type": "code",
   "execution_count": null,
   "metadata": {},
   "outputs": [],
   "source": [
    "'''fig = plt.figure(figsize=(12, 12))\n",
    "# plt.errorbar(range(0, 14), accuracy_list_prediction_abs, yerr=error_prediction_abs, label=\"prediction\", linewidth=3)\n",
    "# plt.errorbar(range(0, 14), accuracy_list_imputation_abs, yerr=error_imputation_abs, label=\"imputation\")\n",
    "x_values = range(0, 14)\n",
    "\n",
    "plt.plot(x_values, accuracy_list_prediction_abs, label=\"model\", marker=\"o\")\n",
    "plt.plot(x_values, accuracy_list_knownimputation_abs, label=\"baseline\", marker=\"o\")\n",
    "\n",
    "for x, y1, y2 in zip(x_values, accuracy_list_prediction_abs, accuracy_list_knownimputation_abs):\n",
    "\n",
    "    label = \"{:.4f}\".format(y1)\n",
    "    plt.annotate(label, # this is the text\n",
    "                (x,y1), # these are the coordinates to position the label\n",
    "                textcoords=\"offset points\", # how to position the text\n",
    "                xytext=(0,10), # distance from text to points (x,y)\n",
    "                ha='center') # horizontal alignment can be left, right or center\n",
    "    \n",
    "    label = \"{:.4f}\".format(y2)\n",
    "    plt.annotate(label, # this is the text\n",
    "                (x,y2), # these are the coordinates to position the label\n",
    "                textcoords=\"offset points\", # how to position the text\n",
    "                xytext=(0,-10), # distance from text to points (x,y)\n",
    "                ha='center') # horizontal alignment can be left, right or center\n",
    "    \n",
    "\n",
    "plt.xlabel(\"number of masked domains\")\n",
    "plt.ylabel(\"mean absolute error\")\n",
    "plt.title(\"Mean absolute erorr vs number of masked domains\")\n",
    "plt.legend()'''"
   ]
  },
  {
   "cell_type": "markdown",
   "metadata": {},
   "source": [
    "### Visualization\n",
    "- visualize individual patient's trajectory (ground truth vs prediction vs imputation?)\n",
    "- look at overall quantitative picture"
   ]
  },
  {
   "cell_type": "code",
   "execution_count": null,
   "metadata": {},
   "outputs": [],
   "source": [
    "column_names = [\"domain %d score\" % i for i in range(1, 15)]\n",
    "column_rename_dict = {}\n",
    "for i in range(len(column_names)):\n",
    "    column_rename_dict[column_names[i]] = i + 1"
   ]
  },
  {
   "cell_type": "code",
   "execution_count": null,
   "metadata": {},
   "outputs": [],
   "source": [
    "# takes in a matrix, returns a list mean along rows\n",
    "def get_score(data):\n",
    "    return np.mean(data, axis=1)"
   ]
  },
  {
   "cell_type": "code",
   "execution_count": null,
   "metadata": {},
   "outputs": [],
   "source": [
    "# get ground truth scores (overall)\n",
    "GT_scores = get_score(case_study_data[column_names].to_numpy())"
   ]
  },
  {
   "cell_type": "code",
   "execution_count": null,
   "metadata": {},
   "outputs": [],
   "source": [
    "# get prediction scores\n",
    "model.eval()\n",
    "with torch.no_grad():\n",
    "    test_data_case = case_study_data[encoding_columns + score_columns].to_numpy()\n",
    "    test_data_scores = create_missing_indicator(test_data_case[:, -14:])\n",
    "    test_data_case = np.hstack((test_data_case[:, :14], test_data_scores))\n",
    "    predictions = model(torch.from_numpy(test_data_case).type(torch.float32)).detach().numpy()"
   ]
  },
  {
   "cell_type": "code",
   "execution_count": null,
   "metadata": {},
   "outputs": [],
   "source": [
    "n_missing = np.sum(case_study_data[encoding_columns].to_numpy())\n",
    "target_ = np.multiply(case_study_data[target_columns].to_numpy(), case_study_data[encoding_columns].to_numpy()) # only the targets we want to predict\n",
    "prediction_ = np.multiply(predictions, case_study_data[encoding_columns].to_numpy()) # only the scores we want to predict\n",
    "mse_ = np.divide(np.sum(np.abs(target_ - prediction_)), n_missing)"
   ]
  },
  {
   "cell_type": "code",
   "execution_count": null,
   "metadata": {},
   "outputs": [],
   "source": [
    "# mask for which columns we are trying to predict\n",
    "mask = case_study_data[encoding_columns].to_numpy()"
   ]
  },
  {
   "cell_type": "code",
   "execution_count": null,
   "metadata": {},
   "outputs": [],
   "source": [
    "prediction_only = pd.DataFrame(mask * predictions, columns=column_names)\n",
    "target_only = pd.DataFrame(mask * case_study_data[target_columns].to_numpy(), columns=column_names)"
   ]
  },
  {
   "cell_type": "code",
   "execution_count": null,
   "metadata": {},
   "outputs": [],
   "source": [
    "## plot specific domain progression\n",
    "plt.figure()\n",
    "plt.plot(range(case_study_data.shape[0]), case_study_data[\"domain %d target\" % target_domain])\n",
    "plt.show()\n",
    "plt.figure()\n",
    "plt.plot(range(case_study_data.shape[0]), predictions[:, target_domain - 1])\n",
    "plt.show()"
   ]
  },
  {
   "cell_type": "code",
   "execution_count": null,
   "metadata": {},
   "outputs": [],
   "source": [
    "fig = plt.figure(figsize=(12, 18))\n",
    "vmin = 0\n",
    "vmax = 1\n",
    "\n",
    "plt.subplot(2, 2, 1)\n",
    "sns.heatmap(prediction_only, cmap=\"viridis\", cbar=True, vmin=vmin, vmax=vmax)\n",
    "plt.title(\"model prediction (next step domains only)\")\n",
    "\n",
    "plt.subplot(2, 2, 2)\n",
    "sns.heatmap(target_only, cmap=\"viridis\", cbar=True, vmin=vmin, vmax=vmax)\n",
    "plt.title(\"ground truth (next step domains only)\")\n",
    "\n",
    "plt.subplot(2, 2, 3)\n",
    "sns.heatmap(case_study_data[score_columns], cmap=\"viridis\", cbar=True, vmin=vmin, vmax=vmax)\n",
    "plt.title(\"full ground truth\")\n",
    "\n",
    "fig.tight_layout()\n",
    "fig.subplots_adjust(hspace=0.2)"
   ]
  },
  {
   "cell_type": "code",
   "execution_count": null,
   "metadata": {},
   "outputs": [],
   "source": [
    "np.unique(df[df.patient_id == pid][\"domain_ids\"])"
   ]
  },
  {
   "cell_type": "code",
   "execution_count": null,
   "metadata": {},
   "outputs": [],
   "source": [
    "## ground truth\n",
    "diff = test_data[target_columns].to_numpy() * test_data[encoding_columns].to_numpy() - test_data[score_columns].to_numpy() * test_data[encoding_columns].to_numpy()\n",
    "\n",
    "\n",
    "# Calculate column-wise averages\n",
    "column_averages = np.sum(diff, axis=0) / np.sum(test_data[encoding_columns].to_numpy(), axis=0)\n",
    "\n",
    "# Plot the bar chart\n",
    "fig, ax = plt.subplots(figsize=(8, 6))  # Create the figure and axes\n",
    "# bars = ax.bar(range(len(column_averages)), column_averages, tick_label=[f\"{i+1}\" for i in range(len(column_averages))])\n",
    "bars = ax.bar(range(1), column_averages, tick_label=[str(target_domain)])\n",
    "\n",
    "# Add values to the bars\n",
    "ax.bar_label(bars, label_type='edge')\n",
    "\n",
    "# Set the y-axis range from -1 to 1\n",
    "ax.set_ylim(-1, 1)\n",
    "\n",
    "# Add labels and title\n",
    "plt.xlabel(\"Domains\", fontsize=12)\n",
    "plt.ylabel(\"Average Difference\", fontsize=12)\n",
    "plt.title(\"Test Data Ground Truth Domain Improvement Averages\", fontsize=16)\n",
    "plt.tight_layout()\n",
    "\n",
    "# Show the plot\n",
    "plt.show()"
   ]
  },
  {
   "cell_type": "code",
   "execution_count": null,
   "metadata": {},
   "outputs": [],
   "source": [
    "test_data_input = test_data[encoding_columns + score_columns].copy().to_numpy().reshape((1, -1))\n",
    "test_data_scores = create_missing_indicator(test_data_input[:, -14:])\n",
    "test_data_input = np.hstack((test_data_input[:, :14], test_data_scores))"
   ]
  },
  {
   "cell_type": "code",
   "execution_count": null,
   "metadata": {},
   "outputs": [],
   "source": [
    "predictions = model(torch.from_numpy(test_data_input).float())"
   ]
  },
  {
   "cell_type": "code",
   "execution_count": null,
   "metadata": {},
   "outputs": [],
   "source": [
    "predictions"
   ]
  },
  {
   "cell_type": "code",
   "execution_count": null,
   "metadata": {},
   "outputs": [],
   "source": [
    "diff = predictions.detach().numpy() * test_data[encoding_columns].to_numpy() - test_data[score_columns].to_numpy() * test_data[encoding_columns].to_numpy()"
   ]
  },
  {
   "cell_type": "code",
   "execution_count": null,
   "metadata": {},
   "outputs": [],
   "source": [
    "np.sum(test_data[encoding_columns].to_numpy(), axis=0)"
   ]
  },
  {
   "cell_type": "code",
   "execution_count": null,
   "metadata": {},
   "outputs": [],
   "source": [
    "diff"
   ]
  },
  {
   "cell_type": "code",
   "execution_count": null,
   "metadata": {},
   "outputs": [],
   "source": [
    "# Calculate column-wise averages\n",
    "column_averages = np.sum(diff, axis=0) / np.sum(test_data[encoding_columns].to_numpy(), axis=0)\n",
    "\n",
    "# Plot the bar chart\n",
    "fig, ax = plt.subplots(figsize=(8, 6))  # Create the figure and axes\n",
    "# bars = ax.bar(range(len(column_averages)), column_averages, tick_label=[f\"{i+1}\" for i in range(len(column_averages))])\n",
    "bars = ax.bar(range(1), column_averages, tick_label=[str(target_domain)])\n",
    "\n",
    "# Add values to the bars\n",
    "ax.bar_label(bars, label_type='edge')\n",
    "\n",
    "# Set the y-axis range from -1 to 1\n",
    "ax.set_ylim(-1, 1)\n",
    "\n",
    "# Add labels and title\n",
    "plt.xlabel(\"Domains\", fontsize=12)\n",
    "plt.ylabel(\"Average Difference\", fontsize=12)\n",
    "plt.title(\"All Prediction Domain Improvement Averages\", fontsize=16)\n",
    "plt.tight_layout()\n",
    "\n",
    "# Show the plot\n",
    "plt.show()"
   ]
  },
  {
   "cell_type": "code",
   "execution_count": null,
   "metadata": {},
   "outputs": [],
   "source": [
    "diff.shape"
   ]
  },
  {
   "cell_type": "code",
   "execution_count": null,
   "metadata": {},
   "outputs": [],
   "source": [
    "repeat_test = test_data[repeat_columns].to_numpy().copy().flatten()\n",
    "repeat_test.shape"
   ]
  },
  {
   "cell_type": "code",
   "execution_count": null,
   "metadata": {},
   "outputs": [],
   "source": [
    "train_data"
   ]
  },
  {
   "cell_type": "code",
   "execution_count": null,
   "metadata": {},
   "outputs": [],
   "source": [
    "target"
   ]
  },
  {
   "cell_type": "code",
   "execution_count": null,
   "metadata": {},
   "outputs": [],
   "source": [
    "predict(train_data, model)"
   ]
  },
  {
   "cell_type": "code",
   "execution_count": null,
   "metadata": {},
   "outputs": [],
   "source": [
    "sample = torch.from_numpy(train_data).float().clone().detach().requires_grad_(True)\n",
    "target_sample = torch.from_numpy(target).float().clone().detach()\n",
    "\n",
    "for i, layer in enumerate(model.model):\n",
    "    # Forward pass\n",
    "    sample = layer(sample)\n",
    "\n",
    "    # Retain gradients for intermediate outputs\n",
    "    sample.retain_grad()\n",
    "\n",
    "    # Print output differences layer-by-layer\n",
    "    print(f\"Layer {i} Output: {sample}\")\n",
    "\n",
    "# Compute MSE Loss\n",
    "loss = F.mse_loss(sample, target_sample)\n",
    "print(\"loss: \", loss)\n",
    "\n",
    "# Backward pass for gradients\n",
    "loss.backward(retain_graph=True)\n",
    "\n",
    "# Compare gradients for weights and biases layer-by-layer\n",
    "for j, layer in enumerate(model.model):\n",
    "    if isinstance(layer, nn.Linear):  # Only compare Linear layers\n",
    "        print(f\"Layer {j} Weight Gradient: {layer.bias.grad}\")"
   ]
  },
  {
   "cell_type": "code",
   "execution_count": null,
   "metadata": {},
   "outputs": [],
   "source": [
    "repeats_diff_gt = test_data[repeat_test == 1][target_columns].to_numpy() * test_data[repeat_test == 1][encoding_columns].to_numpy() - test_data[repeat_test == 1][score_columns].to_numpy() * test_data[repeat_test == 1][encoding_columns].to_numpy()"
   ]
  },
  {
   "cell_type": "code",
   "execution_count": null,
   "metadata": {},
   "outputs": [],
   "source": [
    "non_repeat_diff_gt = test_data[repeat_test == 0][target_columns].to_numpy() * test_data[repeat_test == 0][encoding_columns].to_numpy() - test_data[repeat_test == 0][score_columns].to_numpy() * test_data[repeat_test == 0][encoding_columns].to_numpy()"
   ]
  },
  {
   "cell_type": "code",
   "execution_count": null,
   "metadata": {},
   "outputs": [],
   "source": [
    "repeats_diff = diff[repeat_test == 1]\n",
    "non_repeats_diff = diff[repeat_test == 0]"
   ]
  },
  {
   "cell_type": "code",
   "execution_count": null,
   "metadata": {},
   "outputs": [],
   "source": [
    "repeats_n = test_data[encoding_columns].to_numpy()[repeat_test == 1]\n",
    "non_repeats_n = test_data[encoding_columns].to_numpy()[repeat_test == 0]"
   ]
  },
  {
   "cell_type": "code",
   "execution_count": null,
   "metadata": {},
   "outputs": [],
   "source": [
    "# Calculate column-wise averages\n",
    "column_averages = np.sum(repeats_diff_gt, axis=0) / np.sum(repeats_n, axis=0)\n",
    "\n",
    "# Plot the bar chart\n",
    "fig, ax = plt.subplots(figsize=(8, 6))  # Create the figure and axes\n",
    "# bars = ax.bar(range(len(column_averages)), column_averages, tick_label=[f\"{i+1}\" for i in range(len(column_averages))])\n",
    "bars = ax.bar(range(1), column_averages, tick_label=[str(target_domain)])\n",
    "\n",
    "# Add values to the bars\n",
    "ax.bar_label(bars, label_type='edge')\n",
    "\n",
    "# Set the y-axis range from -1 to 1\n",
    "ax.set_ylim(-1, 1)\n",
    "\n",
    "# Add labels and title\n",
    "plt.xlabel(\"Domains\", fontsize=12)\n",
    "plt.ylabel(\"Average Difference\", fontsize=12)\n",
    "plt.title(\"Repeat Ground Truth Domain Improvement Averages\", fontsize=16)\n",
    "plt.tight_layout()\n",
    "\n",
    "# Show the plot\n",
    "plt.show()"
   ]
  },
  {
   "cell_type": "code",
   "execution_count": null,
   "metadata": {},
   "outputs": [],
   "source": [
    "# Calculate column-wise averages\n",
    "column_averages = np.sum(repeats_diff, axis=0) / np.sum(repeats_n, axis=0)\n",
    "\n",
    "# Plot the bar chart\n",
    "fig, ax = plt.subplots(figsize=(8, 6))  # Create the figure and axes\n",
    "# bars = ax.bar(range(len(column_averages)), column_averages, tick_label=[f\"{i+1}\" for i in range(len(column_averages))])\n",
    "bars = ax.bar(range(1), column_averages, tick_label=[str(target_domain)])\n",
    "\n",
    "# Add values to the bars\n",
    "ax.bar_label(bars, label_type='edge')\n",
    "\n",
    "# Set the y-axis range from -1 to 1\n",
    "ax.set_ylim(-1, 1)\n",
    "\n",
    "# Add labels and title\n",
    "plt.xlabel(\"Domains\", fontsize=12)\n",
    "plt.ylabel(\"Average Difference\", fontsize=12)\n",
    "plt.title(\"Repeat Prediction Domain Improvement Averages\", fontsize=16)\n",
    "plt.tight_layout()\n",
    "\n",
    "# Show the plot\n",
    "plt.show()"
   ]
  },
  {
   "cell_type": "code",
   "execution_count": null,
   "metadata": {},
   "outputs": [],
   "source": [
    "# Calculate column-wise averages\n",
    "column_averages = np.sum(non_repeat_diff_gt, axis=0) / np.sum(repeats_n, axis=0)\n",
    "\n",
    "# Plot the bar chart\n",
    "fig, ax = plt.subplots(figsize=(8, 6))  # Create the figure and axes\n",
    "# bars = ax.bar(range(len(column_averages)), column_averages, tick_label=[f\"{i+1}\" for i in range(len(column_averages))])\n",
    "bars = ax.bar(range(1), column_averages, tick_label=[str(target_domain)])\n",
    "\n",
    "# Add values to the bars\n",
    "ax.bar_label(bars, label_type='edge')\n",
    "\n",
    "# Set the y-axis range from -1 to 1\n",
    "ax.set_ylim(-1, 1)\n",
    "\n",
    "# Add labels and title\n",
    "plt.xlabel(\"Domains\", fontsize=12)\n",
    "plt.ylabel(\"Average Difference\", fontsize=12)\n",
    "plt.title(\"Repeat Ground Truth Domain Improvement Averages\", fontsize=16)\n",
    "plt.tight_layout()\n",
    "\n",
    "# Show the plot\n",
    "plt.show()"
   ]
  },
  {
   "cell_type": "code",
   "execution_count": null,
   "metadata": {},
   "outputs": [],
   "source": [
    "# Calculate column-wise averages\n",
    "column_averages = np.sum(non_repeats_diff, axis=0) / np.sum(non_repeats_n, axis=0)\n",
    "\n",
    "# Plot the bar chart\n",
    "fig, ax = plt.subplots(figsize=(8, 6))  # Create the figure and axes\n",
    "# bars = ax.bar(range(len(column_averages)), column_averages, tick_label=[f\"{i+1}\" for i in range(len(column_averages))])\n",
    "bars = ax.bar(range(1), column_averages, tick_label=[str(target_domain)])\n",
    "\n",
    "# Add values to the bars\n",
    "ax.bar_label(bars, label_type='edge')\n",
    "\n",
    "# Set the y-axis range from -1 to 1\n",
    "ax.set_ylim(-1, 1)\n",
    "\n",
    "# Add labels and title\n",
    "plt.xlabel(\"Domains\", fontsize=12)\n",
    "plt.ylabel(\"Average Difference\", fontsize=12)\n",
    "plt.title(\"Non Repeat Prediction Domain Improvement Averages\", fontsize=16)\n",
    "plt.tight_layout()\n",
    "\n",
    "# Show the plot\n",
    "plt.show()"
   ]
  },
  {
   "cell_type": "code",
   "execution_count": null,
   "metadata": {},
   "outputs": [],
   "source": [
    "# store model as \n",
    "# torch.save(model, \"model/next_step_5.pt\")"
   ]
  }
 ],
 "metadata": {
  "kernelspec": {
   "display_name": "ct",
   "language": "python",
   "name": "python3"
  },
  "language_info": {
   "codemirror_mode": {
    "name": "ipython",
    "version": 3
   },
   "file_extension": ".py",
   "mimetype": "text/x-python",
   "name": "python",
   "nbconvert_exporter": "python",
   "pygments_lexer": "ipython3",
   "version": "3.9.19"
  }
 },
 "nbformat": 4,
 "nbformat_minor": 2
}
