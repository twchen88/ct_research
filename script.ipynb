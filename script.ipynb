{
 "cells": [
  {
   "attachments": {},
   "cell_type": "markdown",
   "metadata": {},
   "source": [
    "Chloe Chen\n",
    "Updated: 2/15/2023\n"
   ]
  },
  {
   "attachments": {},
   "cell_type": "markdown",
   "metadata": {},
   "source": [
    "### Import packages"
   ]
  },
  {
   "cell_type": "code",
   "execution_count": 1,
   "metadata": {},
   "outputs": [],
   "source": [
    "import pandas as pd\n",
    "import numpy as np\n",
    "import matplotlib.pyplot as plt\n",
    "import seaborn as sns\n",
    "from helper import *"
   ]
  },
  {
   "attachments": {},
   "cell_type": "markdown",
   "metadata": {},
   "source": [
    "### Connect to MySQL Database"
   ]
  },
  {
   "cell_type": "code",
   "execution_count": 6,
   "metadata": {},
   "outputs": [
    {
     "name": "stderr",
     "output_type": "stream",
     "text": [
      "2023-02-21 15:43:07,805| ERROR   | Password is required for key /home/chloe/.ssh/id_rsa\n"
     ]
    }
   ],
   "source": [
    "from connection import *\n",
    "\n",
    "con = connect()\n",
    "\n",
    "### TODO: why is the error popping up? doesn't affect function though"
   ]
  },
  {
   "cell_type": "code",
   "execution_count": 3,
   "metadata": {},
   "outputs": [
    {
     "data": {
      "text/html": [
       "<div>\n",
       "<style scoped>\n",
       "    .dataframe tbody tr th:only-of-type {\n",
       "        vertical-align: middle;\n",
       "    }\n",
       "\n",
       "    .dataframe tbody tr th {\n",
       "        vertical-align: top;\n",
       "    }\n",
       "\n",
       "    .dataframe thead th {\n",
       "        text-align: right;\n",
       "    }\n",
       "</style>\n",
       "<table border=\"1\" class=\"dataframe\">\n",
       "  <thead>\n",
       "    <tr style=\"text-align: right;\">\n",
       "      <th></th>\n",
       "      <th>Tables_in_constant_therapy</th>\n",
       "    </tr>\n",
       "  </thead>\n",
       "  <tbody>\n",
       "    <tr>\n",
       "      <th>0</th>\n",
       "      <td>action_images</td>\n",
       "    </tr>\n",
       "    <tr>\n",
       "      <th>1</th>\n",
       "      <td>actions</td>\n",
       "    </tr>\n",
       "    <tr>\n",
       "      <th>2</th>\n",
       "      <td>anti_distractor_categories</td>\n",
       "    </tr>\n",
       "    <tr>\n",
       "      <th>3</th>\n",
       "      <td>anti_distractor_categories_v2</td>\n",
       "    </tr>\n",
       "    <tr>\n",
       "      <th>4</th>\n",
       "      <td>assessment_tasks</td>\n",
       "    </tr>\n",
       "    <tr>\n",
       "      <th>...</th>\n",
       "      <td>...</td>\n",
       "    </tr>\n",
       "    <tr>\n",
       "      <th>124</th>\n",
       "      <td>word_spelling_tasks</td>\n",
       "    </tr>\n",
       "    <tr>\n",
       "      <th>125</th>\n",
       "      <td>word_task_content</td>\n",
       "    </tr>\n",
       "    <tr>\n",
       "      <th>126</th>\n",
       "      <td>words</td>\n",
       "    </tr>\n",
       "    <tr>\n",
       "      <th>127</th>\n",
       "      <td>words_to_features</td>\n",
       "    </tr>\n",
       "    <tr>\n",
       "      <th>128</th>\n",
       "      <td>written_lexical_decision_tasks</td>\n",
       "    </tr>\n",
       "  </tbody>\n",
       "</table>\n",
       "<p>129 rows × 1 columns</p>\n",
       "</div>"
      ],
      "text/plain": [
       "         Tables_in_constant_therapy\n",
       "0                     action_images\n",
       "1                           actions\n",
       "2        anti_distractor_categories\n",
       "3     anti_distractor_categories_v2\n",
       "4                  assessment_tasks\n",
       "..                              ...\n",
       "124             word_spelling_tasks\n",
       "125               word_task_content\n",
       "126                           words\n",
       "127               words_to_features\n",
       "128  written_lexical_decision_tasks\n",
       "\n",
       "[129 rows x 1 columns]"
      ]
     },
     "execution_count": 3,
     "metadata": {},
     "output_type": "execute_result"
    }
   ],
   "source": [
    "# test\n",
    "query = \"show tables;\"\n",
    "SQL(query, con)"
   ]
  },
  {
   "attachments": {},
   "cell_type": "markdown",
   "metadata": {},
   "source": [
    "### Basic plots"
   ]
  },
  {
   "cell_type": "code",
   "execution_count": 13,
   "metadata": {},
   "outputs": [],
   "source": [
    "query = \"select * from domain_scores;\"\n",
    "data = SQL(query, con)"
   ]
  },
  {
   "cell_type": "code",
   "execution_count": 20,
   "metadata": {},
   "outputs": [
    {
     "data": {
      "text/plain": [
       "domain_id\n",
       "5     0.121016\n",
       "12    0.257091\n",
       "8     0.269387\n",
       "9     0.281605\n",
       "4     0.288451\n",
       "7     0.333839\n",
       "2     0.397512\n",
       "10    0.412056\n",
       "13    0.415907\n",
       "1     0.419652\n",
       "6     0.538331\n",
       "3     0.559260\n",
       "14    0.610745\n",
       "11    0.843765\n",
       "Name: baseline_domain_score, dtype: float64"
      ]
     },
     "execution_count": 20,
     "metadata": {},
     "output_type": "execute_result"
    }
   ],
   "source": [
    "domain_groups = data.groupby(\"domain_id\")\n",
    "domain_groups[\"baseline_domain_score\"].mean().sort_values()"
   ]
  },
  {
   "cell_type": "code",
   "execution_count": 22,
   "metadata": {},
   "outputs": [],
   "source": [
    "query = \"select * from before_after_v2;\"\n",
    "data = SQL(query, con)"
   ]
  },
  {
   "cell_type": "code",
   "execution_count": 26,
   "metadata": {},
   "outputs": [
    {
     "data": {
      "text/plain": [
       "0.01632128142303705"
      ]
     },
     "execution_count": 26,
     "metadata": {},
     "output_type": "execute_result"
    }
   ],
   "source": [
    "data[\"acc_diff\"] = data[\"after_accuracy_avg\"] - data[\"before_accuracy_avg\"]\n",
    "data[\"acc_diff\"].mean()"
   ]
  },
  {
   "cell_type": "code",
   "execution_count": 28,
   "metadata": {},
   "outputs": [
    {
     "data": {
      "text/plain": [
       "-0.13203832363196075"
      ]
     },
     "execution_count": 28,
     "metadata": {},
     "output_type": "execute_result"
    }
   ],
   "source": [
    "data[\"lat_diff\"] = data[\"after_log_latency_avg\"] - data[\"before_log_latency_avg\"]\n",
    "data[\"lat_diff\"].mean()"
   ]
  },
  {
   "cell_type": "code",
   "execution_count": null,
   "metadata": {},
   "outputs": [],
   "source": []
  },
  {
   "cell_type": "code",
   "execution_count": 25,
   "metadata": {},
   "outputs": [
    {
     "data": {
      "text/html": [
       "<div>\n",
       "<style scoped>\n",
       "    .dataframe tbody tr th:only-of-type {\n",
       "        vertical-align: middle;\n",
       "    }\n",
       "\n",
       "    .dataframe tbody tr th {\n",
       "        vertical-align: top;\n",
       "    }\n",
       "\n",
       "    .dataframe thead th {\n",
       "        text-align: right;\n",
       "    }\n",
       "</style>\n",
       "<table border=\"1\" class=\"dataframe\">\n",
       "  <thead>\n",
       "    <tr style=\"text-align: right;\">\n",
       "      <th></th>\n",
       "      <th>patient_id</th>\n",
       "      <th>session_types</th>\n",
       "      <th>disorder_id</th>\n",
       "      <th>task_type_id</th>\n",
       "      <th>task_level</th>\n",
       "      <th>before_accuracy_avg</th>\n",
       "      <th>after_accuracy_avg</th>\n",
       "      <th>before_latency_avg</th>\n",
       "      <th>after_latency_avg</th>\n",
       "      <th>before_log_latency_avg</th>\n",
       "      <th>after_log_latency_avg</th>\n",
       "      <th>timestamp</th>\n",
       "      <th>completed_task_count</th>\n",
       "      <th>acc_diff</th>\n",
       "    </tr>\n",
       "  </thead>\n",
       "  <tbody>\n",
       "    <tr>\n",
       "      <th>0</th>\n",
       "      <td>2043</td>\n",
       "      <td>SCHEDULED</td>\n",
       "      <td>2</td>\n",
       "      <td>1</td>\n",
       "      <td>1</td>\n",
       "      <td>0.555556</td>\n",
       "      <td>0.777778</td>\n",
       "      <td>19.127039</td>\n",
       "      <td>15.477067</td>\n",
       "      <td>2.885246</td>\n",
       "      <td>2.706310</td>\n",
       "      <td>2016-11-09 07:54:08</td>\n",
       "      <td>20</td>\n",
       "      <td>0.222222</td>\n",
       "    </tr>\n",
       "    <tr>\n",
       "      <th>1</th>\n",
       "      <td>2043</td>\n",
       "      <td>SCHEDULED</td>\n",
       "      <td>2</td>\n",
       "      <td>9</td>\n",
       "      <td>1</td>\n",
       "      <td>0.888889</td>\n",
       "      <td>0.777778</td>\n",
       "      <td>11.483053</td>\n",
       "      <td>11.466350</td>\n",
       "      <td>2.419956</td>\n",
       "      <td>2.434754</td>\n",
       "      <td>2016-11-09 08:50:01</td>\n",
       "      <td>20</td>\n",
       "      <td>-0.111111</td>\n",
       "    </tr>\n",
       "    <tr>\n",
       "      <th>2</th>\n",
       "      <td>2043</td>\n",
       "      <td>SCHEDULED</td>\n",
       "      <td>2</td>\n",
       "      <td>16</td>\n",
       "      <td>1</td>\n",
       "      <td>1.000000</td>\n",
       "      <td>1.000000</td>\n",
       "      <td>9.127086</td>\n",
       "      <td>7.867066</td>\n",
       "      <td>2.145456</td>\n",
       "      <td>2.055330</td>\n",
       "      <td>2016-11-09 10:00:03</td>\n",
       "      <td>20</td>\n",
       "      <td>0.000000</td>\n",
       "    </tr>\n",
       "    <tr>\n",
       "      <th>3</th>\n",
       "      <td>2043</td>\n",
       "      <td>SCHEDULED</td>\n",
       "      <td>2</td>\n",
       "      <td>30</td>\n",
       "      <td>1</td>\n",
       "      <td>0.944444</td>\n",
       "      <td>1.000000</td>\n",
       "      <td>12.883181</td>\n",
       "      <td>10.707060</td>\n",
       "      <td>2.495407</td>\n",
       "      <td>2.326532</td>\n",
       "      <td>2016-11-09 12:15:03</td>\n",
       "      <td>20</td>\n",
       "      <td>0.055556</td>\n",
       "    </tr>\n",
       "    <tr>\n",
       "      <th>4</th>\n",
       "      <td>2043</td>\n",
       "      <td>SCHEDULED</td>\n",
       "      <td>3</td>\n",
       "      <td>1</td>\n",
       "      <td>1</td>\n",
       "      <td>0.555556</td>\n",
       "      <td>0.777778</td>\n",
       "      <td>19.127039</td>\n",
       "      <td>15.477067</td>\n",
       "      <td>2.885246</td>\n",
       "      <td>2.706310</td>\n",
       "      <td>2016-11-15 20:12:00</td>\n",
       "      <td>20</td>\n",
       "      <td>0.222222</td>\n",
       "    </tr>\n",
       "  </tbody>\n",
       "</table>\n",
       "</div>"
      ],
      "text/plain": [
       "   patient_id session_types  disorder_id  task_type_id  task_level  \\\n",
       "0        2043     SCHEDULED            2             1           1   \n",
       "1        2043     SCHEDULED            2             9           1   \n",
       "2        2043     SCHEDULED            2            16           1   \n",
       "3        2043     SCHEDULED            2            30           1   \n",
       "4        2043     SCHEDULED            3             1           1   \n",
       "\n",
       "   before_accuracy_avg  after_accuracy_avg  before_latency_avg  \\\n",
       "0             0.555556            0.777778           19.127039   \n",
       "1             0.888889            0.777778           11.483053   \n",
       "2             1.000000            1.000000            9.127086   \n",
       "3             0.944444            1.000000           12.883181   \n",
       "4             0.555556            0.777778           19.127039   \n",
       "\n",
       "   after_latency_avg  before_log_latency_avg  after_log_latency_avg  \\\n",
       "0          15.477067                2.885246               2.706310   \n",
       "1          11.466350                2.419956               2.434754   \n",
       "2           7.867066                2.145456               2.055330   \n",
       "3          10.707060                2.495407               2.326532   \n",
       "4          15.477067                2.885246               2.706310   \n",
       "\n",
       "            timestamp  completed_task_count  acc_diff  \n",
       "0 2016-11-09 07:54:08                    20  0.222222  \n",
       "1 2016-11-09 08:50:01                    20 -0.111111  \n",
       "2 2016-11-09 10:00:03                    20  0.000000  \n",
       "3 2016-11-09 12:15:03                    20  0.055556  \n",
       "4 2016-11-15 20:12:00                    20  0.222222  "
      ]
     },
     "execution_count": 25,
     "metadata": {},
     "output_type": "execute_result"
    }
   ],
   "source": [
    "data.head()"
   ]
  },
  {
   "cell_type": "code",
   "execution_count": null,
   "metadata": {},
   "outputs": [],
   "source": [
    "# borrowing Claire's table for now, takes around 3.5 mins\n",
    "query = \"select * from q3;\"\n",
    "data = SQL(query, con)"
   ]
  },
  {
   "cell_type": "code",
   "execution_count": null,
   "metadata": {},
   "outputs": [],
   "source": [
    "data.head()"
   ]
  },
  {
   "cell_type": "code",
   "execution_count": null,
   "metadata": {},
   "outputs": [],
   "source": [
    "## current accuracy\n",
    "\n",
    "sns.boxplot(data=data, x=\"accuracy\")"
   ]
  },
  {
   "cell_type": "code",
   "execution_count": null,
   "metadata": {},
   "outputs": [],
   "source": [
    "## current task levels\n",
    "\n",
    "tl_data = data.groupby(\"task_level\")\n",
    "tl_data.size().plot.pie()"
   ]
  }
 ],
 "metadata": {
  "kernelspec": {
   "display_name": "Python 3",
   "language": "python",
   "name": "python3"
  },
  "language_info": {
   "codemirror_mode": {
    "name": "ipython",
    "version": 3
   },
   "file_extension": ".py",
   "mimetype": "text/x-python",
   "name": "python",
   "nbconvert_exporter": "python",
   "pygments_lexer": "ipython3",
   "version": "3.10.6"
  },
  "orig_nbformat": 4,
  "vscode": {
   "interpreter": {
    "hash": "916dbcbb3f70747c44a77c7bcd40155683ae19c65e1c03b4aa3499c5328201f1"
   }
  }
 },
 "nbformat": 4,
 "nbformat_minor": 2
}
