{
 "cells": [
  {
   "cell_type": "code",
   "execution_count": 2,
   "metadata": {},
   "outputs": [],
   "source": [
    "## import packages and helper functions\n",
    "import numpy as np\n",
    "import pandas as pd\n",
    "import matplotlib.pyplot as plt\n",
    "import seaborn as sns\n",
    "import sklearn\n",
    "import keras\n",
    "import tensorflow as tf\n",
    "\n",
    "from helper import *\n",
    "from connection import *"
   ]
  },
  {
   "cell_type": "code",
   "execution_count": 87,
   "metadata": {},
   "outputs": [],
   "source": [
    "## build autoencoder\n",
    "from keras import layers\n",
    "\n",
    "n_domain = 14 # number of domains\n",
    "\n",
    "encoding_dim = 10\n",
    "## input n_domain * 2 to represent missing values\n",
    "input_layer = keras.Input(shape=(n_domain * 2,))\n",
    "encode_layer = layers.Dense(encoding_dim, activation=\"relu\")(input_layer)\n",
    "decode_layer = layers.Dense(n_domain*2, activation=\"sigmoid\")(encode_layer)\n",
    "\n",
    "autoencoder = keras.Model(input_layer, decode_layer)"
   ]
  },
  {
   "cell_type": "code",
   "execution_count": 88,
   "metadata": {},
   "outputs": [],
   "source": [
    "# build encoder and decoder model\n",
    "encoder = keras.Model(input_layer, encode_layer)\n",
    "encoded_input = keras.Input(shape=(encoding_dim,))\n",
    "decode_layer = autoencoder.layers[-1]\n",
    "decoder = keras.Model(encoded_input, decode_layer(encoded_input))"
   ]
  },
  {
   "cell_type": "code",
   "execution_count": 89,
   "metadata": {},
   "outputs": [],
   "source": [
    "# compile with optimizer and loss function\n",
    "autoencoder.compile(optimizer=\"adam\", loss=\"mse\")"
   ]
  },
  {
   "cell_type": "code",
   "execution_count": 29,
   "metadata": {},
   "outputs": [
    {
     "data": {
      "text/html": [
       "<div>\n",
       "<style scoped>\n",
       "    .dataframe tbody tr th:only-of-type {\n",
       "        vertical-align: middle;\n",
       "    }\n",
       "\n",
       "    .dataframe tbody tr th {\n",
       "        vertical-align: top;\n",
       "    }\n",
       "\n",
       "    .dataframe thead th {\n",
       "        text-align: right;\n",
       "    }\n",
       "</style>\n",
       "<table border=\"1\" class=\"dataframe\">\n",
       "  <thead>\n",
       "    <tr style=\"text-align: right;\">\n",
       "      <th></th>\n",
       "      <th>id</th>\n",
       "      <th>patient_id</th>\n",
       "      <th>task_type_id</th>\n",
       "      <th>task_level</th>\n",
       "      <th>completed_task_count</th>\n",
       "      <th>accuracy</th>\n",
       "      <th>condition_since</th>\n",
       "      <th>birth_year</th>\n",
       "      <th>start_time</th>\n",
       "      <th>start_time_min</th>\n",
       "      <th>end_time_min</th>\n",
       "      <th>deficit_id</th>\n",
       "      <th>disorder_id</th>\n",
       "      <th>domain_id</th>\n",
       "      <th>progression_order</th>\n",
       "      <th>percentile</th>\n",
       "    </tr>\n",
       "  </thead>\n",
       "  <tbody>\n",
       "    <tr>\n",
       "      <th>0</th>\n",
       "      <td>639141</td>\n",
       "      <td>15796</td>\n",
       "      <td>20</td>\n",
       "      <td>1</td>\n",
       "      <td>2</td>\n",
       "      <td>0.032</td>\n",
       "      <td>5y</td>\n",
       "      <td>1950</td>\n",
       "      <td>2014-08-02</td>\n",
       "      <td>2014-08-02 21:11:37</td>\n",
       "      <td>2014-08-02 21:11:40</td>\n",
       "      <td>{1, 2, 3, 4, 8}</td>\n",
       "      <td>{2, 3}</td>\n",
       "      <td>1</td>\n",
       "      <td>0</td>\n",
       "      <td>0.010932</td>\n",
       "    </tr>\n",
       "    <tr>\n",
       "      <th>1</th>\n",
       "      <td>659924</td>\n",
       "      <td>16441</td>\n",
       "      <td>20</td>\n",
       "      <td>1</td>\n",
       "      <td>3</td>\n",
       "      <td>1.000</td>\n",
       "      <td>6m</td>\n",
       "      <td>1959</td>\n",
       "      <td>2014-08-08</td>\n",
       "      <td>2014-08-08 16:21:14</td>\n",
       "      <td>2014-08-08 16:21:54</td>\n",
       "      <td>{1, 2, 3, 4}</td>\n",
       "      <td>{2}</td>\n",
       "      <td>1</td>\n",
       "      <td>0</td>\n",
       "      <td>0.010932</td>\n",
       "    </tr>\n",
       "    <tr>\n",
       "      <th>2</th>\n",
       "      <td>677465</td>\n",
       "      <td>16441</td>\n",
       "      <td>20</td>\n",
       "      <td>1</td>\n",
       "      <td>3</td>\n",
       "      <td>1.000</td>\n",
       "      <td>6m</td>\n",
       "      <td>1959</td>\n",
       "      <td>2014-08-13</td>\n",
       "      <td>2014-08-13 01:07:54</td>\n",
       "      <td>2014-08-13 01:08:17</td>\n",
       "      <td>{1, 2, 3, 4}</td>\n",
       "      <td>{2}</td>\n",
       "      <td>1</td>\n",
       "      <td>0</td>\n",
       "      <td>0.010932</td>\n",
       "    </tr>\n",
       "    <tr>\n",
       "      <th>3</th>\n",
       "      <td>677586</td>\n",
       "      <td>16441</td>\n",
       "      <td>20</td>\n",
       "      <td>1</td>\n",
       "      <td>3</td>\n",
       "      <td>1.000</td>\n",
       "      <td>6m</td>\n",
       "      <td>1959</td>\n",
       "      <td>2014-08-13</td>\n",
       "      <td>2014-08-13 01:36:48</td>\n",
       "      <td>2014-08-13 01:37:13</td>\n",
       "      <td>{1, 2, 3, 4}</td>\n",
       "      <td>{2}</td>\n",
       "      <td>1</td>\n",
       "      <td>0</td>\n",
       "      <td>0.010932</td>\n",
       "    </tr>\n",
       "    <tr>\n",
       "      <th>4</th>\n",
       "      <td>679091</td>\n",
       "      <td>16441</td>\n",
       "      <td>20</td>\n",
       "      <td>1</td>\n",
       "      <td>3</td>\n",
       "      <td>1.000</td>\n",
       "      <td>6m</td>\n",
       "      <td>1959</td>\n",
       "      <td>2014-08-13</td>\n",
       "      <td>2014-08-13 16:15:30</td>\n",
       "      <td>2014-08-14 02:40:50</td>\n",
       "      <td>{1, 2, 3, 4}</td>\n",
       "      <td>{2}</td>\n",
       "      <td>1</td>\n",
       "      <td>0</td>\n",
       "      <td>0.010932</td>\n",
       "    </tr>\n",
       "    <tr>\n",
       "      <th>...</th>\n",
       "      <td>...</td>\n",
       "      <td>...</td>\n",
       "      <td>...</td>\n",
       "      <td>...</td>\n",
       "      <td>...</td>\n",
       "      <td>...</td>\n",
       "      <td>...</td>\n",
       "      <td>...</td>\n",
       "      <td>...</td>\n",
       "      <td>...</td>\n",
       "      <td>...</td>\n",
       "      <td>...</td>\n",
       "      <td>...</td>\n",
       "      <td>...</td>\n",
       "      <td>...</td>\n",
       "      <td>...</td>\n",
       "    </tr>\n",
       "    <tr>\n",
       "      <th>1601853</th>\n",
       "      <td>4662260</td>\n",
       "      <td>82474</td>\n",
       "      <td>75</td>\n",
       "      <td>1</td>\n",
       "      <td>10</td>\n",
       "      <td>0.780</td>\n",
       "      <td>1y</td>\n",
       "      <td>1983</td>\n",
       "      <td>2016-09-20</td>\n",
       "      <td>2016-09-20 18:52:46</td>\n",
       "      <td>2016-09-20 18:57:20</td>\n",
       "      <td>{1, 2, 3, 4}</td>\n",
       "      <td>{2, 3}</td>\n",
       "      <td>8</td>\n",
       "      <td>3</td>\n",
       "      <td>0.328086</td>\n",
       "    </tr>\n",
       "    <tr>\n",
       "      <th>1601854</th>\n",
       "      <td>4682259</td>\n",
       "      <td>82474</td>\n",
       "      <td>75</td>\n",
       "      <td>1</td>\n",
       "      <td>10</td>\n",
       "      <td>0.870</td>\n",
       "      <td>1y</td>\n",
       "      <td>1983</td>\n",
       "      <td>2016-09-22</td>\n",
       "      <td>2016-09-22 17:29:06</td>\n",
       "      <td>2016-09-22 17:33:08</td>\n",
       "      <td>{1, 2, 3, 4}</td>\n",
       "      <td>{2, 3}</td>\n",
       "      <td>8</td>\n",
       "      <td>3</td>\n",
       "      <td>0.328086</td>\n",
       "    </tr>\n",
       "    <tr>\n",
       "      <th>1601855</th>\n",
       "      <td>4698670</td>\n",
       "      <td>82474</td>\n",
       "      <td>75</td>\n",
       "      <td>1</td>\n",
       "      <td>10</td>\n",
       "      <td>0.900</td>\n",
       "      <td>1y</td>\n",
       "      <td>1983</td>\n",
       "      <td>2016-09-24</td>\n",
       "      <td>2016-09-24 15:58:14</td>\n",
       "      <td>2016-09-24 16:03:42</td>\n",
       "      <td>{1, 2, 3, 4}</td>\n",
       "      <td>{2, 3}</td>\n",
       "      <td>8</td>\n",
       "      <td>3</td>\n",
       "      <td>0.328086</td>\n",
       "    </tr>\n",
       "    <tr>\n",
       "      <th>1601856</th>\n",
       "      <td>4704074</td>\n",
       "      <td>82474</td>\n",
       "      <td>75</td>\n",
       "      <td>1</td>\n",
       "      <td>10</td>\n",
       "      <td>0.900</td>\n",
       "      <td>1y</td>\n",
       "      <td>1983</td>\n",
       "      <td>2016-09-25</td>\n",
       "      <td>2016-09-25 14:45:49</td>\n",
       "      <td>2016-09-25 14:53:32</td>\n",
       "      <td>{1, 2, 3, 4}</td>\n",
       "      <td>{2, 3}</td>\n",
       "      <td>8</td>\n",
       "      <td>3</td>\n",
       "      <td>0.328086</td>\n",
       "    </tr>\n",
       "    <tr>\n",
       "      <th>1601857</th>\n",
       "      <td>4728159</td>\n",
       "      <td>82474</td>\n",
       "      <td>75</td>\n",
       "      <td>1</td>\n",
       "      <td>10</td>\n",
       "      <td>1.000</td>\n",
       "      <td>1y</td>\n",
       "      <td>1983</td>\n",
       "      <td>2016-09-27</td>\n",
       "      <td>2016-09-27 21:35:34</td>\n",
       "      <td>2016-09-27 21:37:49</td>\n",
       "      <td>{1, 2, 3, 4}</td>\n",
       "      <td>{2, 3}</td>\n",
       "      <td>8</td>\n",
       "      <td>3</td>\n",
       "      <td>0.328086</td>\n",
       "    </tr>\n",
       "  </tbody>\n",
       "</table>\n",
       "<p>1601858 rows × 16 columns</p>\n",
       "</div>"
      ],
      "text/plain": [
       "              id  patient_id  task_type_id  task_level  completed_task_count  \\\n",
       "0         639141       15796            20           1                     2   \n",
       "1         659924       16441            20           1                     3   \n",
       "2         677465       16441            20           1                     3   \n",
       "3         677586       16441            20           1                     3   \n",
       "4         679091       16441            20           1                     3   \n",
       "...          ...         ...           ...         ...                   ...   \n",
       "1601853  4662260       82474            75           1                    10   \n",
       "1601854  4682259       82474            75           1                    10   \n",
       "1601855  4698670       82474            75           1                    10   \n",
       "1601856  4704074       82474            75           1                    10   \n",
       "1601857  4728159       82474            75           1                    10   \n",
       "\n",
       "         accuracy condition_since  birth_year  start_time  \\\n",
       "0           0.032              5y        1950  2014-08-02   \n",
       "1           1.000              6m        1959  2014-08-08   \n",
       "2           1.000              6m        1959  2014-08-13   \n",
       "3           1.000              6m        1959  2014-08-13   \n",
       "4           1.000              6m        1959  2014-08-13   \n",
       "...           ...             ...         ...         ...   \n",
       "1601853     0.780              1y        1983  2016-09-20   \n",
       "1601854     0.870              1y        1983  2016-09-22   \n",
       "1601855     0.900              1y        1983  2016-09-24   \n",
       "1601856     0.900              1y        1983  2016-09-25   \n",
       "1601857     1.000              1y        1983  2016-09-27   \n",
       "\n",
       "              start_time_min         end_time_min       deficit_id  \\\n",
       "0        2014-08-02 21:11:37  2014-08-02 21:11:40  {1, 2, 3, 4, 8}   \n",
       "1        2014-08-08 16:21:14  2014-08-08 16:21:54     {1, 2, 3, 4}   \n",
       "2        2014-08-13 01:07:54  2014-08-13 01:08:17     {1, 2, 3, 4}   \n",
       "3        2014-08-13 01:36:48  2014-08-13 01:37:13     {1, 2, 3, 4}   \n",
       "4        2014-08-13 16:15:30  2014-08-14 02:40:50     {1, 2, 3, 4}   \n",
       "...                      ...                  ...              ...   \n",
       "1601853  2016-09-20 18:52:46  2016-09-20 18:57:20     {1, 2, 3, 4}   \n",
       "1601854  2016-09-22 17:29:06  2016-09-22 17:33:08     {1, 2, 3, 4}   \n",
       "1601855  2016-09-24 15:58:14  2016-09-24 16:03:42     {1, 2, 3, 4}   \n",
       "1601856  2016-09-25 14:45:49  2016-09-25 14:53:32     {1, 2, 3, 4}   \n",
       "1601857  2016-09-27 21:35:34  2016-09-27 21:37:49     {1, 2, 3, 4}   \n",
       "\n",
       "        disorder_id  domain_id  progression_order  percentile  \n",
       "0            {2, 3}          1                  0    0.010932  \n",
       "1               {2}          1                  0    0.010932  \n",
       "2               {2}          1                  0    0.010932  \n",
       "3               {2}          1                  0    0.010932  \n",
       "4               {2}          1                  0    0.010932  \n",
       "...             ...        ...                ...         ...  \n",
       "1601853      {2, 3}          8                  3    0.328086  \n",
       "1601854      {2, 3}          8                  3    0.328086  \n",
       "1601855      {2, 3}          8                  3    0.328086  \n",
       "1601856      {2, 3}          8                  3    0.328086  \n",
       "1601857      {2, 3}          8                  3    0.328086  \n",
       "\n",
       "[1601858 rows x 16 columns]"
      ]
     },
     "execution_count": 29,
     "metadata": {},
     "output_type": "execute_result"
    }
   ],
   "source": [
    "# import data\n",
    "df = pd.read_csv(\"data/raw_percentile.csv\")\n",
    "df"
   ]
  },
  {
   "cell_type": "markdown",
   "metadata": {},
   "source": [
    "# build training data"
   ]
  },
  {
   "cell_type": "code",
   "execution_count": 15,
   "metadata": {},
   "outputs": [],
   "source": [
    "# make column name array\n",
    "def column_name_f(n):\n",
    "    output = [\"info\"]\n",
    "    for i in range(1, n+1):\n",
    "        output.append(\"domain %d true\" %(i))\n",
    "        output.append(\"domain %d comp\" %(i))\n",
    "    return output"
   ]
  },
  {
   "cell_type": "code",
   "execution_count": 60,
   "metadata": {},
   "outputs": [],
   "source": [
    "# given a patient's data, create a dataframe of scores, patient id\n",
    "def create_training_data(data):\n",
    "    data = data.sort_values(by=\"end_time_min\").reset_index() # sort data\n",
    "    n_sessions = data.shape[0]\n",
    "    n_domains = 14\n",
    "    output_array = np.zeros((1 + n_domains * 2, n_sessions))\n",
    "    i = 0\n",
    "\n",
    "    for idx, row in data.iterrows():\n",
    "        d = row[\"domain_id\"]\n",
    "        p = row[\"percentile\"]\n",
    "\n",
    "        # update output array\n",
    "        if i != 0: output_array[:, i] = output_array[:, i-1]\n",
    "        output_array[0, i] = row[\"patient_id\"]\n",
    "        output_array[d*2-1, i] = p # score\n",
    "        output_array[d*2, i] = 1-p # 1-score\n",
    "\n",
    "        i += 1\n",
    "    return output_array"
   ]
  },
  {
   "cell_type": "code",
   "execution_count": 65,
   "metadata": {},
   "outputs": [
    {
     "data": {
      "text/plain": [
       "array([[1.41890000e+04, 1.41890000e+04, 1.41890000e+04, ...,\n",
       "        1.08830000e+05, 1.99388000e+05, 1.99388000e+05],\n",
       "       [0.00000000e+00, 0.00000000e+00, 0.00000000e+00, ...,\n",
       "        7.59951825e-01, 0.00000000e+00, 7.59951825e-01],\n",
       "       [0.00000000e+00, 0.00000000e+00, 0.00000000e+00, ...,\n",
       "        2.40048175e-01, 0.00000000e+00, 2.40048175e-01],\n",
       "       ...,\n",
       "       [0.00000000e+00, 0.00000000e+00, 0.00000000e+00, ...,\n",
       "        0.00000000e+00, 0.00000000e+00, 0.00000000e+00],\n",
       "       [7.34256173e-03, 4.33580672e-01, 4.33580672e-01, ...,\n",
       "        7.78322629e-01, 0.00000000e+00, 0.00000000e+00],\n",
       "       [9.92657438e-01, 5.66419328e-01, 5.66419328e-01, ...,\n",
       "        2.21677371e-01, 0.00000000e+00, 0.00000000e+00]])"
      ]
     },
     "execution_count": 65,
     "metadata": {},
     "output_type": "execute_result"
    }
   ],
   "source": [
    "# takes about ~2 min to run\n",
    "train_X = np.array([])\n",
    "df_groups = df.groupby(\"patient_id\")\n",
    "df_groups.groups\n",
    "keys = df_groups.groups.keys()\n",
    "for key in keys:\n",
    "    data = df_groups.get_group(key)\n",
    "    temp = create_training_data(data)\n",
    "    if train_X.size == 0:\n",
    "        train_X = temp\n",
    "    else:\n",
    "        train_X = np.hstack((train_X, temp)) \n",
    "train_X"
   ]
  },
  {
   "cell_type": "code",
   "execution_count": 67,
   "metadata": {},
   "outputs": [],
   "source": [
    "temp_df = pd.DataFrame(train_X)\n",
    "temp_df.to_csv(\"data/autoencoder_train_1.csv\", index=False)"
   ]
  },
  {
   "cell_type": "code",
   "execution_count": 73,
   "metadata": {},
   "outputs": [
    {
     "data": {
      "text/plain": [
       "(1601858, 29)"
      ]
     },
     "execution_count": 73,
     "metadata": {},
     "output_type": "execute_result"
    }
   ],
   "source": [
    "np.transpose(train_X).shape"
   ]
  },
  {
   "cell_type": "markdown",
   "metadata": {},
   "source": [
    "# Training"
   ]
  },
  {
   "cell_type": "code",
   "execution_count": 92,
   "metadata": {},
   "outputs": [
    {
     "data": {
      "text/plain": [
       "(1601858, 28)"
      ]
     },
     "execution_count": 92,
     "metadata": {},
     "output_type": "execute_result"
    }
   ],
   "source": [
    "train = np.transpose(train_X)\n",
    "train = train_X[:, 1:]\n",
    "train.shape"
   ]
  },
  {
   "cell_type": "code",
   "execution_count": 96,
   "metadata": {},
   "outputs": [],
   "source": [
    "from sklearn.model_selection import train_test_split\n",
    "x_train, x_test = train_test_split(train, test_size=0.20, random_state=42)\n",
    "x_train, x_val = train_test_split(x_train, test_size=0.20, random_state=42)"
   ]
  },
  {
   "cell_type": "code",
   "execution_count": 97,
   "metadata": {},
   "outputs": [
    {
     "name": "stdout",
     "output_type": "stream",
     "text": [
      "Epoch 1/100\n",
      "4005/4005 [==============================] - 2s 448us/step - loss: 0.0221 - val_loss: 0.0220\n",
      "Epoch 2/100\n",
      "4005/4005 [==============================] - 2s 421us/step - loss: 0.0221 - val_loss: 0.0220\n",
      "Epoch 3/100\n",
      "4005/4005 [==============================] - 2s 417us/step - loss: 0.0221 - val_loss: 0.0220\n",
      "Epoch 4/100\n",
      "4005/4005 [==============================] - 2s 403us/step - loss: 0.0221 - val_loss: 0.0220\n",
      "Epoch 5/100\n",
      "4005/4005 [==============================] - 2s 410us/step - loss: 0.0221 - val_loss: 0.0220\n",
      "Epoch 6/100\n",
      "4005/4005 [==============================] - 2s 398us/step - loss: 0.0221 - val_loss: 0.0221\n",
      "Epoch 7/100\n",
      "4005/4005 [==============================] - 2s 400us/step - loss: 0.0221 - val_loss: 0.0220\n",
      "Epoch 8/100\n",
      "4005/4005 [==============================] - 2s 398us/step - loss: 0.0221 - val_loss: 0.0220\n",
      "Epoch 9/100\n",
      "4005/4005 [==============================] - 2s 401us/step - loss: 0.0221 - val_loss: 0.0220\n",
      "Epoch 10/100\n",
      "4005/4005 [==============================] - 2s 456us/step - loss: 0.0221 - val_loss: 0.0221\n",
      "Epoch 11/100\n",
      "4005/4005 [==============================] - 2s 439us/step - loss: 0.0221 - val_loss: 0.0220\n",
      "Epoch 12/100\n",
      "4005/4005 [==============================] - 2s 471us/step - loss: 0.0221 - val_loss: 0.0220\n",
      "Epoch 13/100\n",
      "4005/4005 [==============================] - 2s 471us/step - loss: 0.0221 - val_loss: 0.0220\n",
      "Epoch 14/100\n",
      "4005/4005 [==============================] - 2s 436us/step - loss: 0.0221 - val_loss: 0.0220\n",
      "Epoch 15/100\n",
      "4005/4005 [==============================] - 2s 451us/step - loss: 0.0221 - val_loss: 0.0220\n",
      "Epoch 16/100\n",
      "4005/4005 [==============================] - 2s 445us/step - loss: 0.0221 - val_loss: 0.0220\n",
      "Epoch 17/100\n",
      "4005/4005 [==============================] - 2s 429us/step - loss: 0.0221 - val_loss: 0.0220\n",
      "Epoch 18/100\n",
      "4005/4005 [==============================] - 2s 403us/step - loss: 0.0221 - val_loss: 0.0220\n",
      "Epoch 19/100\n",
      "4005/4005 [==============================] - 2s 405us/step - loss: 0.0220 - val_loss: 0.0220\n",
      "Epoch 20/100\n",
      "4005/4005 [==============================] - 2s 403us/step - loss: 0.0220 - val_loss: 0.0220\n",
      "Epoch 21/100\n",
      "4005/4005 [==============================] - 2s 413us/step - loss: 0.0220 - val_loss: 0.0220\n",
      "Epoch 22/100\n",
      "4005/4005 [==============================] - 2s 402us/step - loss: 0.0220 - val_loss: 0.0220\n",
      "Epoch 23/100\n",
      "4005/4005 [==============================] - 2s 422us/step - loss: 0.0220 - val_loss: 0.0221\n",
      "Epoch 24/100\n",
      "4005/4005 [==============================] - 2s 411us/step - loss: 0.0220 - val_loss: 0.0220\n",
      "Epoch 25/100\n",
      "4005/4005 [==============================] - 2s 403us/step - loss: 0.0220 - val_loss: 0.0220\n",
      "Epoch 26/100\n",
      "4005/4005 [==============================] - 2s 413us/step - loss: 0.0220 - val_loss: 0.0221\n",
      "Epoch 27/100\n",
      "4005/4005 [==============================] - 2s 436us/step - loss: 0.0220 - val_loss: 0.0220\n",
      "Epoch 28/100\n",
      "4005/4005 [==============================] - 2s 418us/step - loss: 0.0220 - val_loss: 0.0220\n",
      "Epoch 29/100\n",
      "4005/4005 [==============================] - 2s 434us/step - loss: 0.0220 - val_loss: 0.0220\n",
      "Epoch 30/100\n",
      "4005/4005 [==============================] - 2s 418us/step - loss: 0.0220 - val_loss: 0.0221\n",
      "Epoch 31/100\n",
      "4005/4005 [==============================] - 2s 409us/step - loss: 0.0220 - val_loss: 0.0220\n",
      "Epoch 32/100\n",
      "4005/4005 [==============================] - 2s 417us/step - loss: 0.0220 - val_loss: 0.0220\n",
      "Epoch 33/100\n",
      "4005/4005 [==============================] - 2s 407us/step - loss: 0.0220 - val_loss: 0.0220\n",
      "Epoch 34/100\n",
      "4005/4005 [==============================] - 2s 404us/step - loss: 0.0220 - val_loss: 0.0220\n",
      "Epoch 35/100\n",
      "4005/4005 [==============================] - 2s 399us/step - loss: 0.0220 - val_loss: 0.0220\n",
      "Epoch 36/100\n",
      "4005/4005 [==============================] - 2s 403us/step - loss: 0.0220 - val_loss: 0.0220\n",
      "Epoch 37/100\n",
      "4005/4005 [==============================] - 2s 402us/step - loss: 0.0220 - val_loss: 0.0220\n",
      "Epoch 38/100\n",
      "4005/4005 [==============================] - 2s 405us/step - loss: 0.0220 - val_loss: 0.0220\n",
      "Epoch 39/100\n",
      "4005/4005 [==============================] - 2s 415us/step - loss: 0.0220 - val_loss: 0.0220\n",
      "Epoch 40/100\n",
      "4005/4005 [==============================] - 2s 406us/step - loss: 0.0220 - val_loss: 0.0220\n",
      "Epoch 41/100\n",
      "4005/4005 [==============================] - 2s 399us/step - loss: 0.0220 - val_loss: 0.0220\n",
      "Epoch 42/100\n",
      "4005/4005 [==============================] - 2s 403us/step - loss: 0.0220 - val_loss: 0.0220\n",
      "Epoch 43/100\n",
      "4005/4005 [==============================] - 2s 408us/step - loss: 0.0220 - val_loss: 0.0220\n",
      "Epoch 44/100\n",
      "4005/4005 [==============================] - 2s 410us/step - loss: 0.0220 - val_loss: 0.0220\n",
      "Epoch 45/100\n",
      "4005/4005 [==============================] - 2s 407us/step - loss: 0.0220 - val_loss: 0.0220\n",
      "Epoch 46/100\n",
      "4005/4005 [==============================] - 2s 409us/step - loss: 0.0220 - val_loss: 0.0220\n",
      "Epoch 47/100\n",
      "4005/4005 [==============================] - 2s 424us/step - loss: 0.0220 - val_loss: 0.0220\n",
      "Epoch 48/100\n",
      "4005/4005 [==============================] - 2s 443us/step - loss: 0.0220 - val_loss: 0.0220\n",
      "Epoch 49/100\n",
      "4005/4005 [==============================] - 2s 422us/step - loss: 0.0220 - val_loss: 0.0221\n",
      "Epoch 50/100\n",
      "4005/4005 [==============================] - 2s 405us/step - loss: 0.0220 - val_loss: 0.0220\n",
      "Epoch 51/100\n",
      "4005/4005 [==============================] - 2s 400us/step - loss: 0.0220 - val_loss: 0.0220\n",
      "Epoch 52/100\n",
      "4005/4005 [==============================] - 2s 401us/step - loss: 0.0220 - val_loss: 0.0220\n",
      "Epoch 53/100\n",
      "4005/4005 [==============================] - 2s 408us/step - loss: 0.0220 - val_loss: 0.0220\n",
      "Epoch 54/100\n",
      "4005/4005 [==============================] - 2s 412us/step - loss: 0.0220 - val_loss: 0.0220\n",
      "Epoch 55/100\n",
      "4005/4005 [==============================] - 2s 403us/step - loss: 0.0220 - val_loss: 0.0220\n",
      "Epoch 56/100\n",
      "4005/4005 [==============================] - 2s 406us/step - loss: 0.0220 - val_loss: 0.0220\n",
      "Epoch 57/100\n",
      "4005/4005 [==============================] - 2s 405us/step - loss: 0.0220 - val_loss: 0.0220\n",
      "Epoch 58/100\n",
      "4005/4005 [==============================] - 2s 444us/step - loss: 0.0220 - val_loss: 0.0220\n",
      "Epoch 59/100\n",
      "4005/4005 [==============================] - 2s 409us/step - loss: 0.0220 - val_loss: 0.0220\n",
      "Epoch 60/100\n",
      "4005/4005 [==============================] - 2s 414us/step - loss: 0.0220 - val_loss: 0.0220\n",
      "Epoch 61/100\n",
      "4005/4005 [==============================] - 2s 411us/step - loss: 0.0220 - val_loss: 0.0220\n",
      "Epoch 62/100\n",
      "4005/4005 [==============================] - 2s 411us/step - loss: 0.0220 - val_loss: 0.0220\n",
      "Epoch 63/100\n",
      "4005/4005 [==============================] - 2s 402us/step - loss: 0.0220 - val_loss: 0.0220\n",
      "Epoch 64/100\n",
      "4005/4005 [==============================] - 2s 404us/step - loss: 0.0220 - val_loss: 0.0220\n",
      "Epoch 65/100\n",
      "4005/4005 [==============================] - 2s 402us/step - loss: 0.0220 - val_loss: 0.0220\n",
      "Epoch 66/100\n",
      "4005/4005 [==============================] - 2s 416us/step - loss: 0.0220 - val_loss: 0.0220\n",
      "Epoch 67/100\n",
      "4005/4005 [==============================] - 2s 408us/step - loss: 0.0220 - val_loss: 0.0220\n",
      "Epoch 68/100\n",
      "4005/4005 [==============================] - 2s 408us/step - loss: 0.0220 - val_loss: 0.0220\n",
      "Epoch 69/100\n",
      "4005/4005 [==============================] - 2s 414us/step - loss: 0.0220 - val_loss: 0.0220\n",
      "Epoch 70/100\n",
      "4005/4005 [==============================] - 2s 407us/step - loss: 0.0220 - val_loss: 0.0220\n",
      "Epoch 71/100\n",
      "4005/4005 [==============================] - 2s 403us/step - loss: 0.0220 - val_loss: 0.0220\n",
      "Epoch 72/100\n",
      "4005/4005 [==============================] - 2s 403us/step - loss: 0.0220 - val_loss: 0.0220\n",
      "Epoch 73/100\n",
      "4005/4005 [==============================] - 2s 446us/step - loss: 0.0220 - val_loss: 0.0220\n",
      "Epoch 74/100\n",
      "4005/4005 [==============================] - 2s 394us/step - loss: 0.0220 - val_loss: 0.0220\n",
      "Epoch 75/100\n",
      "4005/4005 [==============================] - 2s 431us/step - loss: 0.0220 - val_loss: 0.0220\n",
      "Epoch 76/100\n",
      "4005/4005 [==============================] - 2s 404us/step - loss: 0.0220 - val_loss: 0.0220\n",
      "Epoch 77/100\n",
      "4005/4005 [==============================] - 2s 409us/step - loss: 0.0220 - val_loss: 0.0220\n",
      "Epoch 78/100\n",
      "4005/4005 [==============================] - 2s 425us/step - loss: 0.0220 - val_loss: 0.0220\n",
      "Epoch 79/100\n",
      "4005/4005 [==============================] - 2s 402us/step - loss: 0.0220 - val_loss: 0.0220\n",
      "Epoch 80/100\n",
      "4005/4005 [==============================] - 2s 393us/step - loss: 0.0220 - val_loss: 0.0220\n",
      "Epoch 81/100\n",
      "4005/4005 [==============================] - 2s 393us/step - loss: 0.0220 - val_loss: 0.0220\n",
      "Epoch 82/100\n",
      "4005/4005 [==============================] - 2s 390us/step - loss: 0.0220 - val_loss: 0.0220\n",
      "Epoch 83/100\n",
      "4005/4005 [==============================] - 2s 396us/step - loss: 0.0220 - val_loss: 0.0220\n",
      "Epoch 84/100\n",
      "4005/4005 [==============================] - 2s 413us/step - loss: 0.0220 - val_loss: 0.0220\n",
      "Epoch 85/100\n",
      "4005/4005 [==============================] - 2s 427us/step - loss: 0.0220 - val_loss: 0.0220\n",
      "Epoch 86/100\n",
      "4005/4005 [==============================] - 2s 406us/step - loss: 0.0220 - val_loss: 0.0220\n",
      "Epoch 87/100\n",
      "4005/4005 [==============================] - 2s 389us/step - loss: 0.0220 - val_loss: 0.0220\n",
      "Epoch 88/100\n",
      "4005/4005 [==============================] - 2s 402us/step - loss: 0.0220 - val_loss: 0.0220\n",
      "Epoch 89/100\n",
      "4005/4005 [==============================] - 2s 392us/step - loss: 0.0220 - val_loss: 0.0220\n",
      "Epoch 90/100\n",
      "4005/4005 [==============================] - 2s 394us/step - loss: 0.0220 - val_loss: 0.0220\n",
      "Epoch 91/100\n",
      "4005/4005 [==============================] - 2s 390us/step - loss: 0.0220 - val_loss: 0.0220\n",
      "Epoch 92/100\n",
      "4005/4005 [==============================] - 2s 398us/step - loss: 0.0220 - val_loss: 0.0220\n",
      "Epoch 93/100\n",
      "4005/4005 [==============================] - 2s 396us/step - loss: 0.0220 - val_loss: 0.0220\n",
      "Epoch 94/100\n",
      "4005/4005 [==============================] - 2s 397us/step - loss: 0.0220 - val_loss: 0.0220\n",
      "Epoch 95/100\n",
      "4005/4005 [==============================] - 2s 402us/step - loss: 0.0220 - val_loss: 0.0220\n",
      "Epoch 96/100\n",
      "4005/4005 [==============================] - 2s 393us/step - loss: 0.0220 - val_loss: 0.0220\n",
      "Epoch 97/100\n",
      "4005/4005 [==============================] - 2s 390us/step - loss: 0.0220 - val_loss: 0.0220\n",
      "Epoch 98/100\n",
      "4005/4005 [==============================] - 2s 392us/step - loss: 0.0220 - val_loss: 0.0220\n",
      "Epoch 99/100\n",
      "4005/4005 [==============================] - 2s 390us/step - loss: 0.0220 - val_loss: 0.0220\n",
      "Epoch 100/100\n",
      "4005/4005 [==============================] - 2s 394us/step - loss: 0.0220 - val_loss: 0.0220\n"
     ]
    },
    {
     "data": {
      "text/plain": [
       "<keras.src.callbacks.History at 0x2f6381270>"
      ]
     },
     "execution_count": 97,
     "metadata": {},
     "output_type": "execute_result"
    }
   ],
   "source": [
    "autoencoder.fit(x_train, x_train,\n",
    "                epochs=100,\n",
    "                batch_size=256,\n",
    "                shuffle=True,\n",
    "                validation_data=(x_val, x_val))"
   ]
  },
  {
   "cell_type": "markdown",
   "metadata": {},
   "source": [
    "# Testing"
   ]
  },
  {
   "cell_type": "code",
   "execution_count": 98,
   "metadata": {},
   "outputs": [
    {
     "name": "stdout",
     "output_type": "stream",
     "text": [
      "1252/1252 [==============================] - 0s 209us/step\n"
     ]
    }
   ],
   "source": [
    "x_test_encoded = encoder.predict(x_test, batch_size=256)"
   ]
  },
  {
   "cell_type": "code",
   "execution_count": 102,
   "metadata": {},
   "outputs": [
    {
     "data": {
      "text/plain": [
       "(320372, 28)"
      ]
     },
     "execution_count": 102,
     "metadata": {},
     "output_type": "execute_result"
    }
   ],
   "source": [
    "x_test.shape"
   ]
  },
  {
   "cell_type": "code",
   "execution_count": 101,
   "metadata": {},
   "outputs": [
    {
     "data": {
      "text/plain": [
       "(320372, 10)"
      ]
     },
     "execution_count": 101,
     "metadata": {},
     "output_type": "execute_result"
    }
   ],
   "source": [
    "x_test_encoded.shape"
   ]
  },
  {
   "cell_type": "code",
   "execution_count": 103,
   "metadata": {},
   "outputs": [
    {
     "name": "stdout",
     "output_type": "stream",
     "text": [
      "10012/10012 [==============================] - 2s 191us/step\n"
     ]
    }
   ],
   "source": [
    "x_decoded = decoder.predict(x_test_encoded)"
   ]
  },
  {
   "cell_type": "code",
   "execution_count": 104,
   "metadata": {},
   "outputs": [
    {
     "data": {
      "text/plain": [
       "(320372, 28)"
      ]
     },
     "execution_count": 104,
     "metadata": {},
     "output_type": "execute_result"
    }
   ],
   "source": [
    "x_decoded.shape"
   ]
  },
  {
   "cell_type": "code",
   "execution_count": 107,
   "metadata": {},
   "outputs": [
    {
     "data": {
      "text/plain": [
       "array([0.75995182, 0.24004818, 0.        , 0.        , 0.47352006,\n",
       "       0.52647994, 0.        , 0.        , 0.21298966, 0.78701034,\n",
       "       0.29990384, 0.70009616, 0.        , 0.        , 0.        ,\n",
       "       0.        , 0.        , 0.        , 0.31128134, 0.68871866,\n",
       "       0.        , 0.        , 0.        , 0.        , 0.        ,\n",
       "       0.        , 0.63719172, 0.36280828])"
      ]
     },
     "execution_count": 107,
     "metadata": {},
     "output_type": "execute_result"
    }
   ],
   "source": [
    "x_test[0, :]"
   ]
  },
  {
   "cell_type": "code",
   "execution_count": 108,
   "metadata": {},
   "outputs": [
    {
     "data": {
      "text/plain": [
       "array([6.9029552e-01, 6.0489025e-02, 0.0000000e+00, 1.0108828e-34,\n",
       "       6.1131096e-01, 3.5200322e-01, 1.4610444e-02, 1.6641770e-02,\n",
       "       3.9018013e-02, 4.7832555e-01, 3.0466032e-01, 6.7708629e-01,\n",
       "       1.6645545e-02, 3.0436989e-02, 1.3438554e-17, 0.0000000e+00,\n",
       "       1.0178118e-10, 8.3955251e-02, 3.4518754e-01, 6.9202334e-01,\n",
       "       5.1309091e-18, 6.2653277e-20, 1.4793537e-02, 4.9202293e-02,\n",
       "       6.5008487e-23, 4.1087009e-02, 6.8994975e-01, 1.6583031e-01],\n",
       "      dtype=float32)"
      ]
     },
     "execution_count": 108,
     "metadata": {},
     "output_type": "execute_result"
    }
   ],
   "source": [
    "x_decoded[0, :]"
   ]
  }
 ],
 "metadata": {
  "kernelspec": {
   "display_name": "ct_research",
   "language": "python",
   "name": "python3"
  },
  "language_info": {
   "codemirror_mode": {
    "name": "ipython",
    "version": 3
   },
   "file_extension": ".py",
   "mimetype": "text/x-python",
   "name": "python",
   "nbconvert_exporter": "python",
   "pygments_lexer": "ipython3",
   "version": "3.10.11"
  },
  "orig_nbformat": 4
 },
 "nbformat": 4,
 "nbformat_minor": 2
}
