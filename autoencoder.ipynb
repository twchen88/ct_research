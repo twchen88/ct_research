{
 "cells": [
  {
   "cell_type": "code",
   "execution_count": 2,
   "metadata": {},
   "outputs": [],
   "source": [
    "## import packages and helper functions\n",
    "import numpy as np\n",
    "import pandas as pd\n",
    "import matplotlib.pyplot as plt\n",
    "import seaborn as sns\n",
    "import sklearn\n",
    "import keras\n",
    "import tensorflow as tf\n",
    "\n",
    "from helper import *\n",
    "from connection import *"
   ]
  },
  {
   "cell_type": "code",
   "execution_count": 87,
   "metadata": {},
   "outputs": [],
   "source": [
    "## build autoencoder\n",
    "from keras import layers\n",
    "\n",
    "n_domain = 14 # number of domains\n",
    "\n",
    "encoding_dim = 10\n",
    "## input n_domain * 2 to represent missing values\n",
    "input_layer = keras.Input(shape=(n_domain * 2,))\n",
    "encode_layer = layers.Dense(encoding_dim, activation=\"relu\")(input_layer)\n",
    "decode_layer = layers.Dense(n_domain*2, activation=\"sigmoid\")(encode_layer)\n",
    "\n",
    "autoencoder = keras.Model(input_layer, decode_layer)"
   ]
  },
  {
   "cell_type": "code",
   "execution_count": 88,
   "metadata": {},
   "outputs": [],
   "source": [
    "# build encoder and decoder model\n",
    "encoder = keras.Model(input_layer, encode_layer)\n",
    "encoded_input = keras.Input(shape=(encoding_dim,))\n",
    "decode_layer = autoencoder.layers[-1]\n",
    "decoder = keras.Model(encoded_input, decode_layer(encoded_input))"
   ]
  },
  {
   "cell_type": "code",
   "execution_count": 89,
   "metadata": {},
   "outputs": [],
   "source": [
    "# compile with optimizer and loss function\n",
    "autoencoder.compile(optimizer=\"adam\", loss=\"mse\")"
   ]
  },
  {
   "cell_type": "code",
   "execution_count": 29,
   "metadata": {},
   "outputs": [
    {
     "data": {
      "text/html": [
       "<div>\n",
       "<style scoped>\n",
       "    .dataframe tbody tr th:only-of-type {\n",
       "        vertical-align: middle;\n",
       "    }\n",
       "\n",
       "    .dataframe tbody tr th {\n",
       "        vertical-align: top;\n",
       "    }\n",
       "\n",
       "    .dataframe thead th {\n",
       "        text-align: right;\n",
       "    }\n",
       "</style>\n",
       "<table border=\"1\" class=\"dataframe\">\n",
       "  <thead>\n",
       "    <tr style=\"text-align: right;\">\n",
       "      <th></th>\n",
       "      <th>id</th>\n",
       "      <th>patient_id</th>\n",
       "      <th>task_type_id</th>\n",
       "      <th>task_level</th>\n",
       "      <th>completed_task_count</th>\n",
       "      <th>accuracy</th>\n",
       "      <th>condition_since</th>\n",
       "      <th>birth_year</th>\n",
       "      <th>start_time</th>\n",
       "      <th>start_time_min</th>\n",
       "      <th>end_time_min</th>\n",
       "      <th>deficit_id</th>\n",
       "      <th>disorder_id</th>\n",
       "      <th>domain_id</th>\n",
       "      <th>progression_order</th>\n",
       "      <th>percentile</th>\n",
       "    </tr>\n",
       "  </thead>\n",
       "  <tbody>\n",
       "    <tr>\n",
       "      <th>0</th>\n",
       "      <td>639141</td>\n",
       "      <td>15796</td>\n",
       "      <td>20</td>\n",
       "      <td>1</td>\n",
       "      <td>2</td>\n",
       "      <td>0.032</td>\n",
       "      <td>5y</td>\n",
       "      <td>1950</td>\n",
       "      <td>2014-08-02</td>\n",
       "      <td>2014-08-02 21:11:37</td>\n",
       "      <td>2014-08-02 21:11:40</td>\n",
       "      <td>{1, 2, 3, 4, 8}</td>\n",
       "      <td>{2, 3}</td>\n",
       "      <td>1</td>\n",
       "      <td>0</td>\n",
       "      <td>0.010932</td>\n",
       "    </tr>\n",
       "    <tr>\n",
       "      <th>1</th>\n",
       "      <td>659924</td>\n",
       "      <td>16441</td>\n",
       "      <td>20</td>\n",
       "      <td>1</td>\n",
       "      <td>3</td>\n",
       "      <td>1.000</td>\n",
       "      <td>6m</td>\n",
       "      <td>1959</td>\n",
       "      <td>2014-08-08</td>\n",
       "      <td>2014-08-08 16:21:14</td>\n",
       "      <td>2014-08-08 16:21:54</td>\n",
       "      <td>{1, 2, 3, 4}</td>\n",
       "      <td>{2}</td>\n",
       "      <td>1</td>\n",
       "      <td>0</td>\n",
       "      <td>0.010932</td>\n",
       "    </tr>\n",
       "    <tr>\n",
       "      <th>2</th>\n",
       "      <td>677465</td>\n",
       "      <td>16441</td>\n",
       "      <td>20</td>\n",
       "      <td>1</td>\n",
       "      <td>3</td>\n",
       "      <td>1.000</td>\n",
       "      <td>6m</td>\n",
       "      <td>1959</td>\n",
       "      <td>2014-08-13</td>\n",
       "      <td>2014-08-13 01:07:54</td>\n",
       "      <td>2014-08-13 01:08:17</td>\n",
       "      <td>{1, 2, 3, 4}</td>\n",
       "      <td>{2}</td>\n",
       "      <td>1</td>\n",
       "      <td>0</td>\n",
       "      <td>0.010932</td>\n",
       "    </tr>\n",
       "    <tr>\n",
       "      <th>3</th>\n",
       "      <td>677586</td>\n",
       "      <td>16441</td>\n",
       "      <td>20</td>\n",
       "      <td>1</td>\n",
       "      <td>3</td>\n",
       "      <td>1.000</td>\n",
       "      <td>6m</td>\n",
       "      <td>1959</td>\n",
       "      <td>2014-08-13</td>\n",
       "      <td>2014-08-13 01:36:48</td>\n",
       "      <td>2014-08-13 01:37:13</td>\n",
       "      <td>{1, 2, 3, 4}</td>\n",
       "      <td>{2}</td>\n",
       "      <td>1</td>\n",
       "      <td>0</td>\n",
       "      <td>0.010932</td>\n",
       "    </tr>\n",
       "    <tr>\n",
       "      <th>4</th>\n",
       "      <td>679091</td>\n",
       "      <td>16441</td>\n",
       "      <td>20</td>\n",
       "      <td>1</td>\n",
       "      <td>3</td>\n",
       "      <td>1.000</td>\n",
       "      <td>6m</td>\n",
       "      <td>1959</td>\n",
       "      <td>2014-08-13</td>\n",
       "      <td>2014-08-13 16:15:30</td>\n",
       "      <td>2014-08-14 02:40:50</td>\n",
       "      <td>{1, 2, 3, 4}</td>\n",
       "      <td>{2}</td>\n",
       "      <td>1</td>\n",
       "      <td>0</td>\n",
       "      <td>0.010932</td>\n",
       "    </tr>\n",
       "    <tr>\n",
       "      <th>...</th>\n",
       "      <td>...</td>\n",
       "      <td>...</td>\n",
       "      <td>...</td>\n",
       "      <td>...</td>\n",
       "      <td>...</td>\n",
       "      <td>...</td>\n",
       "      <td>...</td>\n",
       "      <td>...</td>\n",
       "      <td>...</td>\n",
       "      <td>...</td>\n",
       "      <td>...</td>\n",
       "      <td>...</td>\n",
       "      <td>...</td>\n",
       "      <td>...</td>\n",
       "      <td>...</td>\n",
       "      <td>...</td>\n",
       "    </tr>\n",
       "    <tr>\n",
       "      <th>1601853</th>\n",
       "      <td>4662260</td>\n",
       "      <td>82474</td>\n",
       "      <td>75</td>\n",
       "      <td>1</td>\n",
       "      <td>10</td>\n",
       "      <td>0.780</td>\n",
       "      <td>1y</td>\n",
       "      <td>1983</td>\n",
       "      <td>2016-09-20</td>\n",
       "      <td>2016-09-20 18:52:46</td>\n",
       "      <td>2016-09-20 18:57:20</td>\n",
       "      <td>{1, 2, 3, 4}</td>\n",
       "      <td>{2, 3}</td>\n",
       "      <td>8</td>\n",
       "      <td>3</td>\n",
       "      <td>0.328086</td>\n",
       "    </tr>\n",
       "    <tr>\n",
       "      <th>1601854</th>\n",
       "      <td>4682259</td>\n",
       "      <td>82474</td>\n",
       "      <td>75</td>\n",
       "      <td>1</td>\n",
       "      <td>10</td>\n",
       "      <td>0.870</td>\n",
       "      <td>1y</td>\n",
       "      <td>1983</td>\n",
       "      <td>2016-09-22</td>\n",
       "      <td>2016-09-22 17:29:06</td>\n",
       "      <td>2016-09-22 17:33:08</td>\n",
       "      <td>{1, 2, 3, 4}</td>\n",
       "      <td>{2, 3}</td>\n",
       "      <td>8</td>\n",
       "      <td>3</td>\n",
       "      <td>0.328086</td>\n",
       "    </tr>\n",
       "    <tr>\n",
       "      <th>1601855</th>\n",
       "      <td>4698670</td>\n",
       "      <td>82474</td>\n",
       "      <td>75</td>\n",
       "      <td>1</td>\n",
       "      <td>10</td>\n",
       "      <td>0.900</td>\n",
       "      <td>1y</td>\n",
       "      <td>1983</td>\n",
       "      <td>2016-09-24</td>\n",
       "      <td>2016-09-24 15:58:14</td>\n",
       "      <td>2016-09-24 16:03:42</td>\n",
       "      <td>{1, 2, 3, 4}</td>\n",
       "      <td>{2, 3}</td>\n",
       "      <td>8</td>\n",
       "      <td>3</td>\n",
       "      <td>0.328086</td>\n",
       "    </tr>\n",
       "    <tr>\n",
       "      <th>1601856</th>\n",
       "      <td>4704074</td>\n",
       "      <td>82474</td>\n",
       "      <td>75</td>\n",
       "      <td>1</td>\n",
       "      <td>10</td>\n",
       "      <td>0.900</td>\n",
       "      <td>1y</td>\n",
       "      <td>1983</td>\n",
       "      <td>2016-09-25</td>\n",
       "      <td>2016-09-25 14:45:49</td>\n",
       "      <td>2016-09-25 14:53:32</td>\n",
       "      <td>{1, 2, 3, 4}</td>\n",
       "      <td>{2, 3}</td>\n",
       "      <td>8</td>\n",
       "      <td>3</td>\n",
       "      <td>0.328086</td>\n",
       "    </tr>\n",
       "    <tr>\n",
       "      <th>1601857</th>\n",
       "      <td>4728159</td>\n",
       "      <td>82474</td>\n",
       "      <td>75</td>\n",
       "      <td>1</td>\n",
       "      <td>10</td>\n",
       "      <td>1.000</td>\n",
       "      <td>1y</td>\n",
       "      <td>1983</td>\n",
       "      <td>2016-09-27</td>\n",
       "      <td>2016-09-27 21:35:34</td>\n",
       "      <td>2016-09-27 21:37:49</td>\n",
       "      <td>{1, 2, 3, 4}</td>\n",
       "      <td>{2, 3}</td>\n",
       "      <td>8</td>\n",
       "      <td>3</td>\n",
       "      <td>0.328086</td>\n",
       "    </tr>\n",
       "  </tbody>\n",
       "</table>\n",
       "<p>1601858 rows × 16 columns</p>\n",
       "</div>"
      ],
      "text/plain": [
       "              id  patient_id  task_type_id  task_level  completed_task_count  \\\n",
       "0         639141       15796            20           1                     2   \n",
       "1         659924       16441            20           1                     3   \n",
       "2         677465       16441            20           1                     3   \n",
       "3         677586       16441            20           1                     3   \n",
       "4         679091       16441            20           1                     3   \n",
       "...          ...         ...           ...         ...                   ...   \n",
       "1601853  4662260       82474            75           1                    10   \n",
       "1601854  4682259       82474            75           1                    10   \n",
       "1601855  4698670       82474            75           1                    10   \n",
       "1601856  4704074       82474            75           1                    10   \n",
       "1601857  4728159       82474            75           1                    10   \n",
       "\n",
       "         accuracy condition_since  birth_year  start_time  \\\n",
       "0           0.032              5y        1950  2014-08-02   \n",
       "1           1.000              6m        1959  2014-08-08   \n",
       "2           1.000              6m        1959  2014-08-13   \n",
       "3           1.000              6m        1959  2014-08-13   \n",
       "4           1.000              6m        1959  2014-08-13   \n",
       "...           ...             ...         ...         ...   \n",
       "1601853     0.780              1y        1983  2016-09-20   \n",
       "1601854     0.870              1y        1983  2016-09-22   \n",
       "1601855     0.900              1y        1983  2016-09-24   \n",
       "1601856     0.900              1y        1983  2016-09-25   \n",
       "1601857     1.000              1y        1983  2016-09-27   \n",
       "\n",
       "              start_time_min         end_time_min       deficit_id  \\\n",
       "0        2014-08-02 21:11:37  2014-08-02 21:11:40  {1, 2, 3, 4, 8}   \n",
       "1        2014-08-08 16:21:14  2014-08-08 16:21:54     {1, 2, 3, 4}   \n",
       "2        2014-08-13 01:07:54  2014-08-13 01:08:17     {1, 2, 3, 4}   \n",
       "3        2014-08-13 01:36:48  2014-08-13 01:37:13     {1, 2, 3, 4}   \n",
       "4        2014-08-13 16:15:30  2014-08-14 02:40:50     {1, 2, 3, 4}   \n",
       "...                      ...                  ...              ...   \n",
       "1601853  2016-09-20 18:52:46  2016-09-20 18:57:20     {1, 2, 3, 4}   \n",
       "1601854  2016-09-22 17:29:06  2016-09-22 17:33:08     {1, 2, 3, 4}   \n",
       "1601855  2016-09-24 15:58:14  2016-09-24 16:03:42     {1, 2, 3, 4}   \n",
       "1601856  2016-09-25 14:45:49  2016-09-25 14:53:32     {1, 2, 3, 4}   \n",
       "1601857  2016-09-27 21:35:34  2016-09-27 21:37:49     {1, 2, 3, 4}   \n",
       "\n",
       "        disorder_id  domain_id  progression_order  percentile  \n",
       "0            {2, 3}          1                  0    0.010932  \n",
       "1               {2}          1                  0    0.010932  \n",
       "2               {2}          1                  0    0.010932  \n",
       "3               {2}          1                  0    0.010932  \n",
       "4               {2}          1                  0    0.010932  \n",
       "...             ...        ...                ...         ...  \n",
       "1601853      {2, 3}          8                  3    0.328086  \n",
       "1601854      {2, 3}          8                  3    0.328086  \n",
       "1601855      {2, 3}          8                  3    0.328086  \n",
       "1601856      {2, 3}          8                  3    0.328086  \n",
       "1601857      {2, 3}          8                  3    0.328086  \n",
       "\n",
       "[1601858 rows x 16 columns]"
      ]
     },
     "execution_count": 29,
     "metadata": {},
     "output_type": "execute_result"
    }
   ],
   "source": [
    "# import data\n",
    "df = pd.read_csv(\"data/raw_percentile.csv\")\n",
    "df"
   ]
  },
  {
   "cell_type": "markdown",
   "metadata": {},
   "source": [
    "# build training data"
   ]
  },
  {
   "cell_type": "code",
   "execution_count": 15,
   "metadata": {},
   "outputs": [],
   "source": [
    "# make column name array\n",
    "def column_name_f(n):\n",
    "    output = [\"info\"]\n",
    "    for i in range(1, n+1):\n",
    "        output.append(\"domain %d true\" %(i))\n",
    "        output.append(\"domain %d comp\" %(i))\n",
    "    return output"
   ]
  },
  {
   "cell_type": "code",
   "execution_count": 60,
   "metadata": {},
   "outputs": [],
   "source": [
    "# given a patient's data, create a dataframe of scores, patient id\n",
    "def create_training_data(data):\n",
    "    data = data.sort_values(by=\"end_time_min\").reset_index() # sort data\n",
    "    n_sessions = data.shape[0]\n",
    "    n_domains = 14\n",
    "    output_array = np.zeros((1 + n_domains * 2, n_sessions))\n",
    "    i = 0\n",
    "\n",
    "    for idx, row in data.iterrows():\n",
    "        d = row[\"domain_id\"]\n",
    "        p = row[\"percentile\"]\n",
    "\n",
    "        # update output array\n",
    "        if i != 0: output_array[:, i] = output_array[:, i-1]\n",
    "        output_array[0, i] = row[\"patient_id\"]\n",
    "        output_array[d*2-1, i] = p # score\n",
    "        output_array[d*2, i] = 1-p # 1-score\n",
    "\n",
    "        i += 1\n",
    "    return output_array"
   ]
  },
  {
   "cell_type": "code",
   "execution_count": 65,
   "metadata": {},
   "outputs": [
    {
     "data": {
      "text/plain": [
       "array([[1.41890000e+04, 1.41890000e+04, 1.41890000e+04, ...,\n",
       "        1.08830000e+05, 1.99388000e+05, 1.99388000e+05],\n",
       "       [0.00000000e+00, 0.00000000e+00, 0.00000000e+00, ...,\n",
       "        7.59951825e-01, 0.00000000e+00, 7.59951825e-01],\n",
       "       [0.00000000e+00, 0.00000000e+00, 0.00000000e+00, ...,\n",
       "        2.40048175e-01, 0.00000000e+00, 2.40048175e-01],\n",
       "       ...,\n",
       "       [0.00000000e+00, 0.00000000e+00, 0.00000000e+00, ...,\n",
       "        0.00000000e+00, 0.00000000e+00, 0.00000000e+00],\n",
       "       [7.34256173e-03, 4.33580672e-01, 4.33580672e-01, ...,\n",
       "        7.78322629e-01, 0.00000000e+00, 0.00000000e+00],\n",
       "       [9.92657438e-01, 5.66419328e-01, 5.66419328e-01, ...,\n",
       "        2.21677371e-01, 0.00000000e+00, 0.00000000e+00]])"
      ]
     },
     "execution_count": 65,
     "metadata": {},
     "output_type": "execute_result"
    }
   ],
   "source": [
    "# takes about ~2 min to run\n",
    "train_X = np.array([])\n",
    "df_groups = df.groupby(\"patient_id\")\n",
    "df_groups.groups\n",
    "keys = df_groups.groups.keys()\n",
    "for key in keys:\n",
    "    data = df_groups.get_group(key)\n",
    "    temp = create_training_data(data)\n",
    "    if train_X.size == 0:\n",
    "        train_X = temp\n",
    "    else:\n",
    "        train_X = np.hstack((train_X, temp)) \n",
    "train_X"
   ]
  },
  {
   "cell_type": "code",
   "execution_count": 67,
   "metadata": {},
   "outputs": [],
   "source": [
    "temp_df = pd.DataFrame(train_X)\n",
    "temp_df.to_csv(\"data/autoencoder_train_1.csv\", index=False)"
   ]
  },
  {
   "cell_type": "code",
   "execution_count": 73,
   "metadata": {},
   "outputs": [
    {
     "data": {
      "text/plain": [
       "(1601858, 29)"
      ]
     },
     "execution_count": 73,
     "metadata": {},
     "output_type": "execute_result"
    }
   ],
   "source": [
    "np.transpose(train_X).shape"
   ]
  },
  {
   "cell_type": "markdown",
   "metadata": {},
   "source": [
    "# Training"
   ]
  },
  {
   "cell_type": "code",
   "execution_count": 92,
   "metadata": {},
   "outputs": [
    {
     "data": {
      "text/plain": [
       "(1601858, 28)"
      ]
     },
     "execution_count": 92,
     "metadata": {},
     "output_type": "execute_result"
    }
   ],
   "source": [
    "train = np.transpose(train_X)\n",
    "train = train_X[:, 1:]\n",
    "train.shape"
   ]
  },
  {
   "cell_type": "code",
   "execution_count": 109,
   "metadata": {},
   "outputs": [],
   "source": [
    "from sklearn.model_selection import train_test_split\n",
    "x_train, x_test = train_test_split(train, test_size=0.20, random_state=42)\n",
    "x_train, x_val = train_test_split(x_train, test_size=0.25, random_state=42)"
   ]
  },
  {
   "cell_type": "code",
   "execution_count": 110,
   "metadata": {},
   "outputs": [
    {
     "name": "stdout",
     "output_type": "stream",
     "text": [
      "Epoch 1/100\n",
      "3755/3755 [==============================] - 2s 491us/step - loss: 0.0220 - val_loss: 0.0220\n",
      "Epoch 2/100\n",
      "3755/3755 [==============================] - 2s 446us/step - loss: 0.0220 - val_loss: 0.0220\n",
      "Epoch 3/100\n",
      "3755/3755 [==============================] - 2s 464us/step - loss: 0.0220 - val_loss: 0.0220\n",
      "Epoch 4/100\n",
      "3755/3755 [==============================] - 2s 430us/step - loss: 0.0220 - val_loss: 0.0220\n",
      "Epoch 5/100\n",
      "3755/3755 [==============================] - 2s 421us/step - loss: 0.0220 - val_loss: 0.0220\n",
      "Epoch 6/100\n",
      "3755/3755 [==============================] - 2s 444us/step - loss: 0.0220 - val_loss: 0.0220\n",
      "Epoch 7/100\n",
      "3755/3755 [==============================] - 2s 422us/step - loss: 0.0220 - val_loss: 0.0220\n",
      "Epoch 8/100\n",
      "3755/3755 [==============================] - 2s 424us/step - loss: 0.0220 - val_loss: 0.0220\n",
      "Epoch 9/100\n",
      "3755/3755 [==============================] - 2s 415us/step - loss: 0.0220 - val_loss: 0.0220\n",
      "Epoch 10/100\n",
      "3755/3755 [==============================] - 2s 406us/step - loss: 0.0220 - val_loss: 0.0220\n",
      "Epoch 11/100\n",
      "3755/3755 [==============================] - 2s 404us/step - loss: 0.0220 - val_loss: 0.0220\n",
      "Epoch 12/100\n",
      "3755/3755 [==============================] - 2s 405us/step - loss: 0.0220 - val_loss: 0.0220\n",
      "Epoch 13/100\n",
      "3755/3755 [==============================] - 2s 405us/step - loss: 0.0220 - val_loss: 0.0220\n",
      "Epoch 14/100\n",
      "3755/3755 [==============================] - 2s 423us/step - loss: 0.0220 - val_loss: 0.0220\n",
      "Epoch 15/100\n",
      "3755/3755 [==============================] - 2s 420us/step - loss: 0.0220 - val_loss: 0.0220\n",
      "Epoch 16/100\n",
      "3755/3755 [==============================] - 2s 416us/step - loss: 0.0220 - val_loss: 0.0220\n",
      "Epoch 17/100\n",
      "3755/3755 [==============================] - 2s 415us/step - loss: 0.0220 - val_loss: 0.0220\n",
      "Epoch 18/100\n",
      "3755/3755 [==============================] - 2s 409us/step - loss: 0.0220 - val_loss: 0.0220\n",
      "Epoch 19/100\n",
      "3755/3755 [==============================] - 2s 405us/step - loss: 0.0220 - val_loss: 0.0220\n",
      "Epoch 20/100\n",
      "3755/3755 [==============================] - 2s 409us/step - loss: 0.0220 - val_loss: 0.0220\n",
      "Epoch 21/100\n",
      "3755/3755 [==============================] - 2s 410us/step - loss: 0.0220 - val_loss: 0.0220\n",
      "Epoch 22/100\n",
      "3755/3755 [==============================] - 2s 409us/step - loss: 0.0220 - val_loss: 0.0220\n",
      "Epoch 23/100\n",
      "3755/3755 [==============================] - 2s 415us/step - loss: 0.0220 - val_loss: 0.0220\n",
      "Epoch 24/100\n",
      "3755/3755 [==============================] - 2s 409us/step - loss: 0.0220 - val_loss: 0.0220\n",
      "Epoch 25/100\n",
      "3755/3755 [==============================] - 2s 414us/step - loss: 0.0220 - val_loss: 0.0220\n",
      "Epoch 26/100\n",
      "3755/3755 [==============================] - 2s 406us/step - loss: 0.0220 - val_loss: 0.0220\n",
      "Epoch 27/100\n",
      "3755/3755 [==============================] - 2s 414us/step - loss: 0.0220 - val_loss: 0.0220\n",
      "Epoch 28/100\n",
      "3755/3755 [==============================] - 2s 412us/step - loss: 0.0220 - val_loss: 0.0220\n",
      "Epoch 29/100\n",
      "3755/3755 [==============================] - 2s 408us/step - loss: 0.0220 - val_loss: 0.0220\n",
      "Epoch 30/100\n",
      "3755/3755 [==============================] - 2s 415us/step - loss: 0.0220 - val_loss: 0.0220\n",
      "Epoch 31/100\n",
      "3755/3755 [==============================] - 2s 406us/step - loss: 0.0220 - val_loss: 0.0220\n",
      "Epoch 32/100\n",
      "3755/3755 [==============================] - 2s 402us/step - loss: 0.0220 - val_loss: 0.0220\n",
      "Epoch 33/100\n",
      "3755/3755 [==============================] - 2s 421us/step - loss: 0.0220 - val_loss: 0.0220\n",
      "Epoch 34/100\n",
      "3755/3755 [==============================] - 2s 420us/step - loss: 0.0220 - val_loss: 0.0220\n",
      "Epoch 35/100\n",
      "3755/3755 [==============================] - 2s 411us/step - loss: 0.0220 - val_loss: 0.0219\n",
      "Epoch 36/100\n",
      "3755/3755 [==============================] - 2s 415us/step - loss: 0.0220 - val_loss: 0.0220\n",
      "Epoch 37/100\n",
      "3755/3755 [==============================] - 2s 402us/step - loss: 0.0220 - val_loss: 0.0220\n",
      "Epoch 38/100\n",
      "3755/3755 [==============================] - 2s 401us/step - loss: 0.0220 - val_loss: 0.0220\n",
      "Epoch 39/100\n",
      "3755/3755 [==============================] - 2s 432us/step - loss: 0.0220 - val_loss: 0.0220\n",
      "Epoch 40/100\n",
      "3755/3755 [==============================] - 2s 425us/step - loss: 0.0220 - val_loss: 0.0220\n",
      "Epoch 41/100\n",
      "3755/3755 [==============================] - 2s 417us/step - loss: 0.0220 - val_loss: 0.0220\n",
      "Epoch 42/100\n",
      "3755/3755 [==============================] - 2s 407us/step - loss: 0.0220 - val_loss: 0.0220\n",
      "Epoch 43/100\n",
      "3755/3755 [==============================] - 2s 419us/step - loss: 0.0220 - val_loss: 0.0220\n",
      "Epoch 44/100\n",
      "3755/3755 [==============================] - 2s 413us/step - loss: 0.0220 - val_loss: 0.0220\n",
      "Epoch 45/100\n",
      "3755/3755 [==============================] - 2s 404us/step - loss: 0.0220 - val_loss: 0.0220\n",
      "Epoch 46/100\n",
      "3755/3755 [==============================] - 2s 414us/step - loss: 0.0220 - val_loss: 0.0220\n",
      "Epoch 47/100\n",
      "3755/3755 [==============================] - 2s 412us/step - loss: 0.0220 - val_loss: 0.0220\n",
      "Epoch 48/100\n",
      "3755/3755 [==============================] - 2s 414us/step - loss: 0.0220 - val_loss: 0.0220\n",
      "Epoch 49/100\n",
      "3755/3755 [==============================] - 2s 415us/step - loss: 0.0220 - val_loss: 0.0220\n",
      "Epoch 50/100\n",
      "3755/3755 [==============================] - 2s 409us/step - loss: 0.0220 - val_loss: 0.0220\n",
      "Epoch 51/100\n",
      "3755/3755 [==============================] - 2s 409us/step - loss: 0.0220 - val_loss: 0.0220\n",
      "Epoch 52/100\n",
      "3755/3755 [==============================] - 2s 414us/step - loss: 0.0220 - val_loss: 0.0220\n",
      "Epoch 53/100\n",
      "3755/3755 [==============================] - 2s 408us/step - loss: 0.0220 - val_loss: 0.0220\n",
      "Epoch 54/100\n",
      "3755/3755 [==============================] - 2s 418us/step - loss: 0.0220 - val_loss: 0.0220\n",
      "Epoch 55/100\n",
      "3755/3755 [==============================] - 2s 405us/step - loss: 0.0220 - val_loss: 0.0220\n",
      "Epoch 56/100\n",
      "3755/3755 [==============================] - 2s 413us/step - loss: 0.0220 - val_loss: 0.0220\n",
      "Epoch 57/100\n",
      "3755/3755 [==============================] - 2s 417us/step - loss: 0.0220 - val_loss: 0.0220\n",
      "Epoch 58/100\n",
      "3755/3755 [==============================] - 2s 411us/step - loss: 0.0220 - val_loss: 0.0219\n",
      "Epoch 59/100\n",
      "3755/3755 [==============================] - 2s 417us/step - loss: 0.0220 - val_loss: 0.0220\n",
      "Epoch 60/100\n",
      "3755/3755 [==============================] - 2s 409us/step - loss: 0.0220 - val_loss: 0.0220\n",
      "Epoch 61/100\n",
      "3755/3755 [==============================] - 2s 406us/step - loss: 0.0220 - val_loss: 0.0220\n",
      "Epoch 62/100\n",
      "3755/3755 [==============================] - 2s 400us/step - loss: 0.0220 - val_loss: 0.0220\n",
      "Epoch 63/100\n",
      "3755/3755 [==============================] - 2s 413us/step - loss: 0.0220 - val_loss: 0.0220\n",
      "Epoch 64/100\n",
      "3755/3755 [==============================] - 2s 401us/step - loss: 0.0220 - val_loss: 0.0220\n",
      "Epoch 65/100\n",
      "3755/3755 [==============================] - 2s 404us/step - loss: 0.0220 - val_loss: 0.0220\n",
      "Epoch 66/100\n",
      "3755/3755 [==============================] - 2s 405us/step - loss: 0.0220 - val_loss: 0.0220\n",
      "Epoch 67/100\n",
      "3755/3755 [==============================] - 2s 422us/step - loss: 0.0220 - val_loss: 0.0219\n",
      "Epoch 68/100\n",
      "3755/3755 [==============================] - 2s 436us/step - loss: 0.0220 - val_loss: 0.0220\n",
      "Epoch 69/100\n",
      "3755/3755 [==============================] - 2s 421us/step - loss: 0.0220 - val_loss: 0.0220\n",
      "Epoch 70/100\n",
      "3755/3755 [==============================] - 2s 475us/step - loss: 0.0220 - val_loss: 0.0220\n",
      "Epoch 71/100\n",
      "3755/3755 [==============================] - 2s 461us/step - loss: 0.0220 - val_loss: 0.0220\n",
      "Epoch 72/100\n",
      "3755/3755 [==============================] - 2s 454us/step - loss: 0.0220 - val_loss: 0.0220\n",
      "Epoch 73/100\n",
      "3755/3755 [==============================] - 2s 446us/step - loss: 0.0220 - val_loss: 0.0220\n",
      "Epoch 74/100\n",
      "3755/3755 [==============================] - 2s 417us/step - loss: 0.0220 - val_loss: 0.0220\n",
      "Epoch 75/100\n",
      "3755/3755 [==============================] - 2s 409us/step - loss: 0.0220 - val_loss: 0.0220\n",
      "Epoch 76/100\n",
      "3755/3755 [==============================] - 2s 408us/step - loss: 0.0220 - val_loss: 0.0219\n",
      "Epoch 77/100\n",
      "3755/3755 [==============================] - 2s 432us/step - loss: 0.0220 - val_loss: 0.0220\n",
      "Epoch 78/100\n",
      "3755/3755 [==============================] - 2s 436us/step - loss: 0.0220 - val_loss: 0.0220\n",
      "Epoch 79/100\n",
      "3755/3755 [==============================] - 2s 415us/step - loss: 0.0220 - val_loss: 0.0220\n",
      "Epoch 80/100\n",
      "3755/3755 [==============================] - 2s 410us/step - loss: 0.0220 - val_loss: 0.0219\n",
      "Epoch 81/100\n",
      "3755/3755 [==============================] - 2s 411us/step - loss: 0.0220 - val_loss: 0.0219\n",
      "Epoch 82/100\n",
      "3755/3755 [==============================] - 2s 407us/step - loss: 0.0220 - val_loss: 0.0220\n",
      "Epoch 83/100\n",
      "3755/3755 [==============================] - 2s 424us/step - loss: 0.0220 - val_loss: 0.0220\n",
      "Epoch 84/100\n",
      "3755/3755 [==============================] - 2s 412us/step - loss: 0.0220 - val_loss: 0.0219\n",
      "Epoch 85/100\n",
      "3755/3755 [==============================] - 2s 412us/step - loss: 0.0220 - val_loss: 0.0220\n",
      "Epoch 86/100\n",
      "3755/3755 [==============================] - 2s 407us/step - loss: 0.0220 - val_loss: 0.0219\n",
      "Epoch 87/100\n",
      "3755/3755 [==============================] - 2s 408us/step - loss: 0.0220 - val_loss: 0.0220\n",
      "Epoch 88/100\n",
      "3755/3755 [==============================] - 2s 413us/step - loss: 0.0220 - val_loss: 0.0220\n",
      "Epoch 89/100\n",
      "3755/3755 [==============================] - 2s 410us/step - loss: 0.0220 - val_loss: 0.0219\n",
      "Epoch 90/100\n",
      "3755/3755 [==============================] - 2s 443us/step - loss: 0.0220 - val_loss: 0.0220\n",
      "Epoch 91/100\n",
      "3755/3755 [==============================] - 2s 407us/step - loss: 0.0220 - val_loss: 0.0220\n",
      "Epoch 92/100\n",
      "3755/3755 [==============================] - 2s 420us/step - loss: 0.0220 - val_loss: 0.0220\n",
      "Epoch 93/100\n",
      "3755/3755 [==============================] - 2s 414us/step - loss: 0.0220 - val_loss: 0.0219\n",
      "Epoch 94/100\n",
      "3755/3755 [==============================] - 2s 427us/step - loss: 0.0220 - val_loss: 0.0219\n",
      "Epoch 95/100\n",
      "3755/3755 [==============================] - 2s 406us/step - loss: 0.0220 - val_loss: 0.0219\n",
      "Epoch 96/100\n",
      "3755/3755 [==============================] - 2s 412us/step - loss: 0.0220 - val_loss: 0.0220\n",
      "Epoch 97/100\n",
      "3755/3755 [==============================] - 2s 406us/step - loss: 0.0220 - val_loss: 0.0219\n",
      "Epoch 98/100\n",
      "3755/3755 [==============================] - 2s 421us/step - loss: 0.0220 - val_loss: 0.0220\n",
      "Epoch 99/100\n",
      "3755/3755 [==============================] - 2s 415us/step - loss: 0.0220 - val_loss: 0.0220\n",
      "Epoch 100/100\n",
      "3755/3755 [==============================] - 2s 415us/step - loss: 0.0220 - val_loss: 0.0219\n"
     ]
    },
    {
     "data": {
      "text/plain": [
       "<keras.src.callbacks.History at 0x2fedeadd0>"
      ]
     },
     "execution_count": 110,
     "metadata": {},
     "output_type": "execute_result"
    }
   ],
   "source": [
    "autoencoder.fit(x_train, x_train,\n",
    "                epochs=100,\n",
    "                batch_size=256,\n",
    "                shuffle=True,\n",
    "                validation_data=(x_val, x_val))"
   ]
  },
  {
   "cell_type": "markdown",
   "metadata": {},
   "source": [
    "# Testing"
   ]
  },
  {
   "cell_type": "code",
   "execution_count": 111,
   "metadata": {},
   "outputs": [
    {
     "name": "stdout",
     "output_type": "stream",
     "text": [
      "1252/1252 [==============================] - 0s 183us/step\n"
     ]
    }
   ],
   "source": [
    "x_test_encoded = encoder.predict(x_test, batch_size=256)"
   ]
  },
  {
   "cell_type": "code",
   "execution_count": 102,
   "metadata": {},
   "outputs": [
    {
     "data": {
      "text/plain": [
       "(320372, 28)"
      ]
     },
     "execution_count": 102,
     "metadata": {},
     "output_type": "execute_result"
    }
   ],
   "source": [
    "x_test.shape"
   ]
  },
  {
   "cell_type": "code",
   "execution_count": 101,
   "metadata": {},
   "outputs": [
    {
     "data": {
      "text/plain": [
       "(320372, 10)"
      ]
     },
     "execution_count": 101,
     "metadata": {},
     "output_type": "execute_result"
    }
   ],
   "source": [
    "x_test_encoded.shape"
   ]
  },
  {
   "cell_type": "code",
   "execution_count": 112,
   "metadata": {},
   "outputs": [
    {
     "name": "stdout",
     "output_type": "stream",
     "text": [
      "10012/10012 [==============================] - 2s 183us/step\n"
     ]
    }
   ],
   "source": [
    "x_decoded = decoder.predict(x_test_encoded)"
   ]
  },
  {
   "cell_type": "code",
   "execution_count": 113,
   "metadata": {},
   "outputs": [
    {
     "data": {
      "text/plain": [
       "(320372, 28)"
      ]
     },
     "execution_count": 113,
     "metadata": {},
     "output_type": "execute_result"
    }
   ],
   "source": [
    "x_decoded.shape"
   ]
  },
  {
   "cell_type": "code",
   "execution_count": 114,
   "metadata": {},
   "outputs": [
    {
     "data": {
      "text/plain": [
       "array([0.75995182, 0.24004818, 0.        , 0.        , 0.47352006,\n",
       "       0.52647994, 0.        , 0.        , 0.21298966, 0.78701034,\n",
       "       0.29990384, 0.70009616, 0.        , 0.        , 0.        ,\n",
       "       0.        , 0.        , 0.        , 0.31128134, 0.68871866,\n",
       "       0.        , 0.        , 0.        , 0.        , 0.        ,\n",
       "       0.        , 0.63719172, 0.36280828])"
      ]
     },
     "execution_count": 114,
     "metadata": {},
     "output_type": "execute_result"
    }
   ],
   "source": [
    "x_test[0, :]"
   ]
  },
  {
   "cell_type": "code",
   "execution_count": 115,
   "metadata": {},
   "outputs": [
    {
     "data": {
      "text/plain": [
       "array([6.8891996e-01, 5.9084844e-02, 0.0000000e+00, 1.3860722e-36,\n",
       "       6.0825437e-01, 3.6429656e-01, 1.4911434e-02, 1.4906266e-02,\n",
       "       4.7217946e-02, 4.7851676e-01, 3.2651675e-01, 6.6950011e-01,\n",
       "       1.6039453e-02, 3.0348606e-02, 3.8869560e-18, 0.0000000e+00,\n",
       "       3.8883272e-11, 8.0213971e-02, 3.4867087e-01, 6.9064498e-01,\n",
       "       3.1224841e-17, 2.8487291e-19, 1.4520704e-02, 4.7601730e-02,\n",
       "       7.3988100e-24, 3.5934772e-02, 7.0452738e-01, 1.6996652e-01],\n",
       "      dtype=float32)"
      ]
     },
     "execution_count": 115,
     "metadata": {},
     "output_type": "execute_result"
    },
    {
     "name": "stderr",
     "output_type": "stream",
     "text": [
      "Bad pipe message: %s [b'\\x967\\xdc\\x08\\xa6\\x7fLl\\x08M\\xfe|\\xdf\\xa93\\x8f\\xc7\\xd6\\x00\\x01|\\x00\\x00\\x00\\x01\\x00\\x02\\x00\\x03\\x00\\x04\\x00\\x05\\x00\\x06\\x00\\x07\\x00\\x08\\x00\\t\\x00\\n\\x00\\x0b\\x00\\x0c\\x00\\r\\x00\\x0e\\x00\\x0f\\x00\\x10\\x00\\x11\\x00\\x12\\x00\\x13\\x00\\x14\\x00\\x15\\x00\\x16\\x00\\x17\\x00\\x18\\x00\\x19\\x00\\x1a\\x00\\x1b\\x00/\\x000\\x001\\x002\\x003\\x004\\x005\\x006\\x007\\x008\\x009\\x00:\\x00;\\x00<\\x00=\\x00', b'?\\x00@\\x00A\\x00B\\x00C\\x00D\\x00E\\x00F\\x00g\\x00h\\x00i\\x00j\\x00k\\x00l\\x00m\\x00\\x84\\x00\\x85\\x00\\x86\\x00\\x87\\x00\\x88\\x00\\x89\\x00\\x96\\x00\\x97\\x00\\x98\\x00\\x99\\x00\\x9a\\x00\\x9b\\x00\\x9c\\x00\\x9d\\x00\\x9e\\x00\\x9f']\n",
      "Bad pipe message: %s [b'\\x87\\x99\\x0e(\\x88\\x1e\\x85\\xfazOR\\xa7@\\x81\\xc2\\x89\\xdf\\xcf\\x00\\x01|\\x00\\x00\\x00\\x01\\x00\\x02\\x00\\x03\\x00\\x04\\x00\\x05\\x00\\x06\\x00\\x07\\x00\\x08\\x00\\t\\x00\\n\\x00\\x0b\\x00\\x0c\\x00\\r\\x00\\x0e\\x00\\x0f\\x00\\x10\\x00\\x11\\x00\\x12\\x00\\x13\\x00\\x14\\x00', b'\\x16\\x00\\x17\\x00\\x18\\x00\\x19\\x00\\x1a\\x00\\x1b\\x00/\\x000\\x001\\x002\\x00']\n",
      "Bad pipe message: %s [b'4\\x005\\x006\\x007\\x008\\x009\\x00:\\x00;\\x00<\\x00=\\x00>\\x00?\\x00@\\x00A\\x00B\\x00C\\x00D\\x00E\\x00F\\x00g\\x00h\\x00i\\x00j\\x00k\\x00l\\x00']\n",
      "Bad pipe message: %s [b'\\x84\\x00\\x85\\x00\\x86\\x00\\x87\\x00\\x88\\x00\\x89\\x00\\x96\\x00\\x97\\x00\\x98\\x00\\x99\\x00\\x9a\\x00\\x9b\\x00\\x9c\\x00\\x9d\\x00\\x9e\\x00\\x9f\\x00\\xa0\\x00\\xa1\\x00\\xa2\\x00\\xa3\\x00\\xa4\\x00\\xa5\\x00\\xa6\\x00\\xa7\\x00\\xba\\x00\\xbb\\x00\\xbc\\x00\\xbd\\x00\\xbe\\x00\\xbf\\x00\\xc0\\x00\\xc1\\x00\\xc2\\x00\\xc3\\x00\\xc4\\x00\\xc5\\x13\\x01\\x13\\x02\\x13\\x03\\x13\\x04\\x13\\x05\\xc0\\x01\\xc0\\x02\\xc0\\x03\\xc0\\x04\\xc0\\x05\\xc0\\x06\\xc0\\x07\\xc0\\x08\\xc0\\t\\xc0\\n\\xc0\\x0b\\xc0\\x0c\\xc0\\r\\xc0']\n",
      "Bad pipe message: %s [b'\\x0f\\xc0\\x10\\xc0\\x11\\xc0\\x12\\xc0\\x13\\xc0\\x14\\xc0\\x15']\n",
      "Bad pipe message: %s [b'8\\xf7o\\xb8\\xd3\\x91GaY7(\\xe4\\xdd\\xb3{<@\\x8b\\x00\\x00J\\x00\\x00\\x00\\x01\\x00\\x02\\x00\\x04\\x00\\x05\\x00\\n\\x00\\r\\x00\\x10\\x00\\x13\\x00\\x16\\x00\\x18\\x00\\x1b\\x00/\\x000\\x001\\x002\\x003\\x004\\x005\\x006\\x007\\x008\\x009\\x00:\\x00;\\x00<\\x00=\\x00']\n",
      "Bad pipe message: %s [b'\\xb1\\x96\\x14\\x0f\\x1b\\xe27\\x88\\xcc\\xfc\\xc5.\\\\\\x1d\\xda\\xd3\\xcb\\xfd\\x00\\x00*\\x00\\x03\\x00\\x06\\x00\\x07\\x00\\x08\\x00\\t\\x00\\x0b\\x00\\x0c\\x00\\x0e\\x00\\x0f\\x00\\x11\\x00\\x12\\x00\\x14\\x00\\x15\\x00\\x17\\x00\\x19\\x00\\x1a\\xc0\\x02\\xc0\\x07\\xc0\\x0c\\xc0\\x11\\xc0\\x16']\n",
      "Bad pipe message: %s [b'\\x01']\n",
      "Bad pipe message: %s [b'j\\xca\"\\x82\\xea[V\\xdf\\xc8\\x88\\xedg\\xf5\\x8f`\\x12[\\xe1\\x00\\x00']\n",
      "Bad pipe message: %s [b'\\x03\\x00\\x06\\x00\\x07\\x00\\x08\\x00\\t\\x00\\x0b\\x00\\x0c\\x00\\x0e\\x00\\x0f\\x00\\x11\\x00\\x12\\x00\\x14\\x00\\x15\\x00\\x17\\x00\\x19\\x00\\x1a\\xc0\\x02\\xc0\\x07\\xc0\\x0c\\xc0\\x11\\xc0\\x16']\n",
      "Bad pipe message: %s [b'\\x01']\n",
      "Bad pipe message: %s [b'%@\\xd7\\xfa\\xb9\\x14@B%\\n\\xcb\\x12\\x8c$\\xfb>&\\xb7\\x00\\x00T\\xc0r\\xc0s\\xc0t\\xc0u\\xc0v\\xc0w\\xc0x\\xc0y\\xc0z\\xc0{\\xc0|\\xc0}\\xc0~\\xc0\\x7f\\xc0\\x80\\xc0\\x81\\xc0\\x82\\xc0\\x83\\xc0\\x84\\xc0\\x85\\xc0\\x86\\xc0\\x87\\xc0\\x88\\xc0\\x89\\xc0\\x8a\\xc0\\x8b\\xc0\\x8c\\xc0\\x8d\\xc0\\x8e\\xc0\\x8f\\xc0\\x90\\xc0\\x91\\xc0\\x92\\xc0\\x93\\xc0\\x94\\xc0\\x95\\xc0\\x96\\xc0\\x97\\xc0\\x98\\xc0\\x99\\xc0\\x9a\\xc0\\x9b\\x02\\x00\\x01\\x00,\\x00\\n\\x00\\n\\x00\\x08\\x00\\x17\\x00\\x19\\x00\\x18\\x00\\x16\\x00\\x0b\\x00\\x04\\x03\\x00\\x01\\x02\\x00\\r']\n",
      "Bad pipe message: %s [b'\\x89\\xe7\\x91\\xbf\\x1f\\x95\\x07\\x96;\\xa2\\x0b6\\\\e\\xf7\\xafx\\x05\\x00\\x00*\\x00\\x03\\x00\\x06\\x00\\x07\\x00\\x08\\x00\\t\\x00\\x0b\\x00\\x0c\\x00\\x0e\\x00\\x0f\\x00\\x11\\x00\\x12\\x00\\x14\\x00\\x15\\x00\\x17\\x00\\x19']\n",
      "Bad pipe message: %s [b'\\xdd\\x00\\xeeE\\x02xZ\\xbc\\xf1\\xdb\\xe72\\xf4\\x0b\\x12\\xea\\xa8\\xa1\\x00\\x01|\\x00\\x00\\x00\\x01\\x00\\x02\\x00\\x03\\x00\\x04\\x00\\x05']\n",
      "Bad pipe message: %s [b'\\xd8\\x90C\\x9er\\xa2{S\\xa9\\x0cc\\xef\\ne}*a-\\x00\\x01|\\x00\\x00\\x00\\x01\\x00\\x02\\x00\\x03\\x00\\x04\\x00\\x05\\x00\\x06\\x00\\x07\\x00\\x08\\x00\\t\\x00\\n\\x00\\x0b\\x00\\x0c\\x00\\r\\x00\\x0e\\x00\\x0f\\x00\\x10\\x00\\x11\\x00\\x12\\x00\\x13\\x00\\x14\\x00\\x15\\x00\\x16\\x00\\x17\\x00\\x18\\x00\\x19\\x00\\x1a\\x00\\x1b\\x00/\\x000\\x001\\x002\\x003\\x004\\x005\\x006\\x007\\x008\\x009\\x00:\\x00;\\x00<\\x00=\\x00>\\x00?\\x00@\\x00A\\x00B\\x00C\\x00D\\x00E\\x00F\\x00g\\x00h\\x00i\\x00j\\x00k\\x00l\\x00m\\x00\\x84\\x00\\x85\\x00\\x86\\x00\\x87\\x00\\x88\\x00\\x89\\x00\\x96\\x00\\x97\\x00\\x98\\x00\\x99\\x00\\x9a\\x00\\x9b\\x00\\x9c\\x00\\x9d\\x00\\x9e\\x00\\x9f\\x00\\xa0\\x00\\xa1\\x00\\xa2\\x00\\xa3\\x00\\xa4\\x00\\xa5\\x00']\n",
      "Bad pipe message: %s [b\"\\xa7\\x00\\xba\\x00\\xbb\\x00\\xbc\\x00\\xbd\\x00\\xbe\\x00\\xbf\\x00\\xc0\\x00\\xc1\\x00\\xc2\\x00\\xc3\\x00\\xc4\\x00\\xc5\\x13\\x01\\x13\\x02\\x13\\x03\\x13\\x04\\x13\\x05\\xc0\\x01\\xc0\\x02\\xc0\\x03\\xc0\\x04\\xc0\\x05\\xc0\\x06\\xc0\\x07\\xc0\\x08\\xc0\\t\\xc0\\n\\xc0\\x0b\\xc0\\x0c\\xc0\\r\\xc0\\x0e\\xc0\\x0f\\xc0\\x10\\xc0\\x11\\xc0\\x12\\xc0\\x13\\xc0\\x14\\xc0\\x15\\xc0\\x16\\xc0\\x17\\xc0\\x18\\xc0\\x19\\xc0#\\xc0$\\xc0%\\xc0&\\xc0'\\xc0(\\xc0)\\xc0*\\xc0+\\xc0,\\xc0-\\xc0.\\xc0/\\xc00\\xc01\\xc02\\xc0r\\xc0s\\xc0t\\xc0u\\xc0v\\xc0w\\xc0x\\xc0y\\xc0z\\xc0{\\xc0|\\xc0}\\xc0~\\xc0\\x7f\\xc0\\x80\\xc0\\x81\\xc0\\x82\\xc0\\x83\\xc0\\x84\\xc0\\x85\\xc0\\x86\\xc0\\x87\\xc0\\x88\\xc0\\x89\"]\n",
      "Bad pipe message: %s [b'\\xfe\\x07\\x05\\xf1#\\t\\x956*\\x1bB\\xf5GW7\\x98\\xfb\\x98\\x00\\x01|\\x00\\x00\\x00\\x01\\x00\\x02\\x00\\x03\\x00\\x04\\x00\\x05\\x00\\x06\\x00\\x07\\x00\\x08\\x00\\t\\x00\\n\\x00\\x0b\\x00\\x0c\\x00\\r\\x00\\x0e\\x00\\x0f\\x00\\x10\\x00\\x11\\x00\\x12\\x00\\x13\\x00\\x14\\x00\\x15\\x00\\x16\\x00\\x17\\x00\\x18\\x00\\x19\\x00\\x1a\\x00\\x1b\\x00/\\x000\\x001\\x002\\x003\\x004\\x005\\x006\\x007\\x008\\x009\\x00:\\x00;\\x00<\\x00=\\x00>\\x00?\\x00@\\x00A\\x00B\\x00C\\x00D\\x00E\\x00F\\x00g\\x00h\\x00i\\x00j\\x00k\\x00l\\x00m\\x00\\x84\\x00\\x85\\x00\\x86\\x00\\x87\\x00\\x88\\x00\\x89\\x00\\x96\\x00\\x97\\x00\\x98\\x00\\x99\\x00\\x9a\\x00\\x9b\\x00\\x9c\\x00\\x9d\\x00\\x9e\\x00\\x9f\\x00\\xa0\\x00\\xa1\\x00\\xa2\\x00\\xa3\\x00\\xa4\\x00\\xa5\\x00\\xa6\\x00\\xa7\\x00\\xba\\x00\\xbb\\x00\\xbc\\x00\\xbd\\x00\\xbe\\x00\\xbf\\x00\\xc0\\x00\\xc1\\x00\\xc2\\x00\\xc3\\x00\\xc4\\x00\\xc5\\x13\\x01\\x13\\x02\\x13\\x03\\x13\\x04\\x13\\x05\\xc0\\x01\\xc0\\x02\\xc0\\x03']\n",
      "Bad pipe message: %s [b\"\\xc0\\x05\\xc0\\x06\\xc0\\x07\\xc0\\x08\\xc0\\t\\xc0\\n\\xc0\\x0b\\xc0\\x0c\\xc0\\r\\xc0\\x0e\\xc0\\x0f\\xc0\\x10\\xc0\\x11\\xc0\\x12\\xc0\\x13\\xc0\\x14\\xc0\\x15\\xc0\\x16\\xc0\\x17\\xc0\\x18\\xc0\\x19\\xc0#\\xc0$\\xc0%\\xc0&\\xc0'\\xc0(\\xc0)\\xc0*\\xc0+\\xc0,\\xc0-\\xc0.\\xc0/\\xc00\\xc01\\xc02\\xc0r\\xc0s\\xc0t\\xc0u\\xc0v\\xc0w\\xc0x\\xc0y\\xc0z\\xc0{\\xc0|\\xc0}\\xc0~\\xc0\\x7f\\xc0\\x80\\xc0\\x81\\xc0\\x82\\xc0\\x83\\xc0\\x84\\xc0\\x85\\xc0\\x86\\xc0\\x87\\xc0\\x88\\xc0\\x89\\xc0\\x8a\\xc0\\x8b\\xc0\\x8c\\xc0\\x8d\\xc0\\x8e\\xc0\\x8f\\xc0\\x90\\xc0\\x91\\xc0\\x92\\xc0\\x93\\xc0\\x94\\xc0\\x95\\xc0\\x96\\xc0\\x97\\xc0\\x98\\xc0\\x99\\xc0\\x9a\\xc0\\x9b\\xcc\\xa8\\xcc\\xa9\\xcc\\xaa\\xcc\\xab\\xcc\\xac\\xcc\\xad\\xcc\\xae\\x02\\x00\\x01\\x00,\\x00\\n\\x00\\n\\x00\\x08\\x00\\x17\\x00\\x19\\x00\\x18\\x00\\x16\"]\n",
      "Bad pipe message: %s [b'd\\x14\\xff\\xeb\\x95\\xe5\\x0ek\\x99\\xbe\\xb1\\x90\\x98t\\x0fj{\\x10\\x00\\x01|\\x00\\x00\\x00\\x01\\x00\\x02\\x00\\x03\\x00\\x04\\x00\\x05\\x00\\x06\\x00\\x07\\x00\\x08\\x00\\t\\x00\\n\\x00\\x0b\\x00\\x0c\\x00\\r\\x00\\x0e\\x00\\x0f\\x00\\x10\\x00\\x11\\x00\\x12\\x00\\x13\\x00\\x14\\x00\\x15\\x00\\x16\\x00\\x17\\x00\\x18\\x00\\x19\\x00\\x1a\\x00\\x1b\\x00/\\x000\\x001\\x002\\x003\\x004\\x005\\x006\\x007\\x008\\x009\\x00:\\x00;\\x00<\\x00=\\x00>\\x00?\\x00@\\x00A\\x00B\\x00C\\x00D\\x00E\\x00F\\x00g\\x00h\\x00i\\x00j\\x00k\\x00l\\x00m\\x00\\x84\\x00\\x85\\x00\\x86\\x00\\x87\\x00\\x88\\x00\\x89\\x00\\x96\\x00\\x97\\x00\\x98\\x00\\x99\\x00\\x9a\\x00\\x9b\\x00\\x9c\\x00\\x9d\\x00\\x9e\\x00\\x9f\\x00\\xa0\\x00\\xa1\\x00\\xa2\\x00\\xa3\\x00\\xa4\\x00\\xa5\\x00\\xa6\\x00\\xa7\\x00\\xba\\x00\\xbb\\x00\\xbc\\x00\\xbd\\x00\\xbe\\x00\\xbf\\x00\\xc0\\x00\\xc1\\x00\\xc2\\x00\\xc3\\x00\\xc4\\x00\\xc5\\x13\\x01\\x13\\x02\\x13\\x03', b'\\x13\\x05\\xc0\\x01\\xc0\\x02\\xc0\\x03\\xc0\\x04\\xc0\\x05\\xc0\\x06\\xc0\\x07\\xc0\\x08']\n",
      "Bad pipe message: %s [b\"\\x11\\xed\\x03+\\xea\\x05\\xf0\\xa2H\\xf9\\xe9%\\x1f\\x04\\x01\\x95a\\xd5\\x00\\x00D\\x00\\x96\\x00\\x97\\x00\\x98\\x00\\x99\\x00\\x9a\\x00\\x9b\\x00\\x9c\\x00\\x9d\\x00\\x9e\\x00\\x9f\\x00\\xa0\\x00\\xa1\\x00\\xa2\\x00\\xa3\\x00\\xa4\\x00\\xa5\\x00\\xa6\\x00\\xa7\\xc0#\\xc0$\\xc0%\\xc0&\\xc0'\\xc0(\\xc0)\\xc0*\\xc0+\\xc0,\\xc0-\\xc0.\\xc0/\\xc00\\xc01\\xc02\\x02\\x00\\x01\\x00,\\x00\\n\"]\n",
      "Bad pipe message: %s [b'\\xb4\\x18\\xc5\\x99Z\\xcd\\xb3!\\xa0\\xbe\\x93\\xd1#\\x11\\xbf\\xbd\\x1dH\\x00\\x00*\\x00\\x03\\x00\\x06\\x00\\x07\\x00\\x08\\x00\\t\\x00\\x0b\\x00\\x0c\\x00\\x0e\\x00\\x0f\\x00\\x11\\x00\\x12\\x00\\x14\\x00\\x15\\x00\\x17\\x00\\x19\\x00\\x1a\\xc0\\x02\\xc0\\x07\\xc0\\x0c\\xc0\\x11\\xc0\\x16\\x02\\x00\\x01\\x00,\\x00\\n\\x00\\n\\x00\\x08\\x00\\x17\\x00\\x19\\x00\\x18\\x00\\x16\\x00\\x0b\\x00\\x04\\x03']\n",
      "Bad pipe message: %s [b'h\\x9eG\\xac\\xce\\xe0\\xce\\xfd\\xcc\\x99\\xf3\\x8c\\xb3\\x82Fj\\xc4\\x86\\x00\\x00\\n\\x13\\x01\\x13\\x02\\x13\\x03\\x13\\x04\\x13']\n",
      "Bad pipe message: %s [b'\\x00\\x01\\x00\\x00']\n",
      "Bad pipe message: %s [b\"\\xfb\\xa8\\xd8?O2\\xe9\\xa1G0\\x8c\\t\\x87\\x07\\xb2\\x05\\xc6'\\x00\\x000\\x00A\\x00B\\x00C\"]\n",
      "Bad pipe message: %s [b\" !\\\\aO9\\x0b\\x83\\xab\\xc6q@\\xc8\\x02\\xb9\\xea\\xba\\x90\\x00\\x00D\\x00\\x96\\x00\\x97\\x00\\x98\\x00\\x99\\x00\\x9a\\x00\\x9b\\x00\\x9c\\x00\\x9d\\x00\\x9e\\x00\\x9f\\x00\\xa0\\x00\\xa1\\x00\\xa2\\x00\\xa3\\x00\\xa4\\x00\\xa5\\x00\\xa6\\x00\\xa7\\xc0#\\xc0$\\xc0%\\xc0&\\xc0'\\xc0(\\xc0)\\xc0*\\xc0+\\xc0,\\xc0-\\xc0.\\xc0/\\xc00\\xc01\\xc02\\x02\\x00\\x01\\x00,\\x00\\n\\x00\\n\\x00\\x08\\x00\\x17\\x00\\x19\\x00\\x18\\x00\\x16\\x00\\x0b\\x00\\x04\\x03\\x00\\x01\\x02\\x00\"]\n",
      "Bad pipe message: %s [b'\\x12\\x00\\x10\\x04\\x03\\x08\\x04\\x04\\x01\\x05\\x03\\x05']\n",
      "Bad pipe message: %s [b'']\n",
      "Bad pipe message: %s [b'9f\\r\\xf1}\"\\xd1d\\xca\\x82\\'\\x82\\xa1zc\\xf1l\\x88\\x00\\x006\\xc0\\x01\\xc0\\x03\\xc0\\x04\\xc0\\x05\\xc0\\x06\\xc0\\x08\\xc0\\t\\xc0\\n\\xc0\\x0b\\xc0\\r\\xc0\\x0e\\xc0\\x0f\\xc0\\x10\\xc0\\x12\\xc0\\x13\\xc0\\x14\\xc0\\x15\\xc0\\x17\\xc0\\x18\\xc0\\x19\\xcc\\xa8\\xcc\\xa9\\xcc\\xaa\\xcc\\xab\\xcc\\xac\\xcc\\xad\\xcc\\xae']\n",
      "Bad pipe message: %s [b'\\x01']\n",
      "Bad pipe message: %s [b'\\x87Y\\x07\\x12\\xf1\\xcf\\x16K']\n",
      "Bad pipe message: %s [b'\\x89\\xf9\\xc6\\xa1P\\xf5\\xad']\n",
      "Bad pipe message: %s [b'\\xeeC\\x94+\\xad\\x9c\\x97']\n",
      "Bad pipe message: %s [b'\\x9f\\x9f\\x93?^i\\xc0y\\x11\\x94\\xf9\\xa2\\xf5\\x8dy{\\x81\\xea \\xcd\\xbc\\xe6\\x1a\\xbd.\\x02\\xe5\\x1c\\xe7\\xacMl\\x94\\x83+\\xc7\\x98\\xd0\\xe1.\\xc7\\xa1\\xbf\\xeb5\\xc0%B\\xb4o{\\x00\\n\\x13\\x01\\x13\\x02\\x13\\x03\\x13\\x04\\x13\\x05\\x01\\x00\\x00\\x9e\\x00+\\x00\\x03\\x02\\x03\\x04\\x00\\n\\x00\\n\\x00\\x08\\xaa\\xaa\\x00\\x17\\x00\\x18\\x00\\x1d\\x00\\x00\\x00\\x10\\x00\\x0e\\x00\\x00\\x0bAMBUS140821\\x00\\r\\x00\\x12\\x00\\x10\\x04\\x03\\x08\\x04\\x04\\x01\\x05\\x03\\x08\\x05\\x05\\x01\\x08\\x06\\x06\\x01\\x00\\x17\\x00\\x00\\x00#\\x00\\x05\\x01\\x00\\x00\\x00\\x00\\x00\\x05\\x00\\x01\\x00\\x00\\x10\\x00\\x0e\\x00\\x0c\\x02h2\\x08http/1.1\\x00-\\x00\\x02\\x01\\x01\\x00\\x1b\\x00\\x03\\x01\\x00\\x02\\x00\\x12\\x00\\x00\\x003\\x00&\\x00$\\x00\\x1d\\x00 MR\\xb1)\\x00\\xee&;\\xb2\\x01\\x8d6\\x91\\x00\\x0cmCEG\\xd1F\\xb0,%\\xf7\\xb8\\x08\\xf0\\xee\\xee\\xcc']\n",
      "Bad pipe message: %s [b';\\xb6k\\xef\\x1e\\xd3\\xea\\x1f\\xb3G\\x13\\xa65\\xe6\\xe2{\\xbb#\\x00\\x01|\\x00\\x00\\x00\\x01\\x00\\x02\\x00\\x03\\x00\\x04\\x00\\x05\\x00\\x06\\x00\\x07\\x00\\x08\\x00\\t\\x00\\n\\x00\\x0b\\x00\\x0c\\x00\\r\\x00\\x0e\\x00\\x0f\\x00\\x10\\x00\\x11\\x00\\x12\\x00\\x13\\x00']\n",
      "Bad pipe message: %s [b'\\x15\\x00\\x16\\x00\\x17\\x00\\x18\\x00\\x19\\x00\\x1a\\x00\\x1b\\x00/\\x000\\x001']\n",
      "Bad pipe message: %s [b'\\xbfQ\\xc3\\xd1\\x8f\\x8c\\xc7\\xc7\\xd9\\xfb4\\xedcS\\x99C\\x9c\\x8e\\x00\\x01|\\x00\\x00\\x00\\x01\\x00\\x02\\x00\\x03\\x00\\x04\\x00\\x05\\x00\\x06\\x00\\x07\\x00\\x08\\x00\\t\\x00\\n\\x00\\x0b\\x00\\x0c\\x00\\r\\x00\\x0e\\x00\\x0f\\x00\\x10\\x00\\x11\\x00\\x12\\x00\\x13\\x00\\x14\\x00\\x15\\x00\\x16\\x00\\x17\\x00\\x18\\x00\\x19\\x00\\x1a\\x00\\x1b\\x00/\\x000\\x001\\x002\\x003\\x004\\x005\\x006\\x007\\x008\\x009\\x00:\\x00;\\x00<\\x00=\\x00>\\x00?\\x00@\\x00A\\x00B\\x00C\\x00D\\x00E\\x00F\\x00g\\x00h\\x00i\\x00j\\x00k\\x00l\\x00m\\x00\\x84\\x00\\x85\\x00\\x86\\x00\\x87\\x00\\x88\\x00\\x89\\x00\\x96\\x00\\x97\\x00\\x98\\x00\\x99\\x00\\x9a\\x00\\x9b\\x00\\x9c\\x00\\x9d\\x00\\x9e\\x00\\x9f\\x00\\xa0\\x00\\xa1\\x00\\xa2\\x00\\xa3\\x00\\xa4\\x00\\xa5\\x00\\xa6\\x00\\xa7\\x00\\xba\\x00\\xbb\\x00\\xbc\\x00\\xbd\\x00\\xbe\\x00\\xbf\\x00\\xc0']\n",
      "Bad pipe message: %s [b'\\x02l\\xab*\\x9e3\\xed\\xc6-\\xb9\\x8e\\x87\\x7f\\x14\\x0f\\x92e\\xb1\\x00\\x000\\x00A\\x00B\\x00C\\x00D\\x00E\\x00F\\x00\\x84\\x00\\x85\\x00\\x86\\x00\\x87\\x00\\x88\\x00\\x89\\x00\\xba\\x00\\xbb\\x00\\xbc']\n",
      "Bad pipe message: %s [b\"\\x14'N#\\xd9\\xfe\\xa49y8\\xe5\\xe6\\\\(\\xc3\\xfeD\\xcc\\x00\\x00D\\x00\\x96\\x00\\x97\\x00\\x98\\x00\\x99\\x00\\x9a\\x00\\x9b\\x00\\x9c\\x00\\x9d\\x00\\x9e\\x00\\x9f\\x00\\xa0\\x00\\xa1\\x00\\xa2\\x00\\xa3\\x00\\xa4\\x00\\xa5\\x00\\xa6\\x00\\xa7\\xc0#\\xc0$\\xc0%\\xc0&\\xc0'\\xc0(\\xc0)\\xc0*\\xc0+\\xc0,\\xc0-\\xc0.\\xc0/\\xc00\\xc01\\xc02\\x02\\x00\\x01\\x00\"]\n",
      "Bad pipe message: %s [b'\\xe2\\x17\\xb4\\xf7\\xba\\xe4WF\\xc7\\x94\\xf5&H\\xd3?X*\\x8b\\x00\\x00J\\x00\\x00\\x00\\x01\\x00\\x02\\x00\\x04\\x00\\x05\\x00\\n\\x00\\r\\x00\\x10\\x00\\x13\\x00\\x16\\x00\\x18\\x00\\x1b\\x00/\\x000\\x001\\x002\\x003\\x004\\x005\\x006\\x007\\x008\\x009\\x00:\\x00;\\x00<\\x00=\\x00>\\x00?\\x00@\\x00g\\x00h\\x00i\\x00j\\x00k\\x00l\\x00m', b'\\x01']\n",
      "Bad pipe message: %s [b'\\x8d\\x95\\xcf\\xf0\\xb5\\x011\\xd3\\x02tCL~', b'\\x81\\xbe}\\x00\\x00*\\x00\\x03\\x00\\x06\\x00\\x07\\x00\\x08\\x00\\t\\x00\\x0b\\x00\\x0c\\x00\\x0e\\x00\\x0f\\x00\\x11\\x00\\x12\\x00\\x14\\x00\\x15\\x00\\x17\\x00\\x19\\x00\\x1a\\xc0\\x02\\xc0\\x07\\xc0\\x0c\\xc0']\n",
      "Bad pipe message: %s [b'\\x16\\x02\\x00\\x01\\x00,\\x00\\n\\x00\\n\\x00\\x08\\x00\\x17\\x00\\x19']\n",
      "Bad pipe message: %s [b'\\xa5']\n",
      "Bad pipe message: %s [b'[\\xea:\\xec\\xee\\x06]\\xfc\\xb3\\x9d\\xfb\\xa5\\xcbd\\xbc\\x1e\\xcf\\x80\\x00\\x006\\xc0\\x01\\xc0\\x03\\xc0\\x04\\xc0\\x05\\xc0\\x06\\xc0\\x08\\xc0\\t\\xc0\\n\\xc0\\x0b\\xc0\\r\\xc0\\x0e\\xc0\\x0f\\xc0\\x10\\xc0\\x12\\xc0\\x13\\xc0\\x14\\xc0\\x15\\xc0\\x17\\xc0\\x18\\xc0\\x19\\xcc\\xa8\\xcc\\xa9\\xcc\\xaa\\xcc\\xab']\n",
      "Bad pipe message: %s [b'\\xa8\\xae\\x90\\x99\\x9b\\xbal\\xa6\\x8d\\x81\\x98,\\xbeN`\\xe3\\xa5\\xfa\\x00']\n",
      "Bad pipe message: %s [b\"\\x8c\\x0c\\x98S\\xe9/\\xa4\\xe3\\x83\\xa6\\xaf\\xbfgX@\\x91\\xdf\\xf1 \\xed\\xb8\\x82\\xda\\xa7\\xc4n\\xd29= A5\\xcf7\\x80(\\x8ee\\xc6\\x98\\x95\\x05'+\\xc4D\\x82\\xbfi\\xb3\\xb5\\x00\\n\\x13\\x01\\x13\\x02\\x13\\x03\\x13\\x04\\x13\\x05\\x01\\x00\\x00\\x9e\\x00+\\x00\\x03\\x02\\x03\\x04\\x00\\n\\x00\\n\\x00\\x08\\xaa\\xaa\\x00\\x17\\x00\\x18\\x00\\x1d\\x00\\x00\\x00\\x10\\x00\\x0e\\x00\\x00\\x0bAMBUS140821\\x00\\r\\x00\\x12\\x00\\x10\\x04\\x03\\x08\\x04\\x04\\x01\\x05\\x03\\x08\\x05\\x05\\x01\\x08\\x06\\x06\\x01\\x00\\x17\\x00\\x00\\x00#\\x00\\x05\\x01\\x00\\x00\\x00\\x00\\x00\\x05\\x00\\x01\\x00\\x00\\x10\\x00\\x0e\\x00\\x0c\\x02h2\\x08http/1.1\\x00-\\x00\\x02\\x01\\x01\\x00\\x1b\\x00\\x03\\x01\\x00\\x02\\x00\\x12\\x00\\x00\\x003\\x00&\\x00$\\x00\"]\n",
      "Bad pipe message: %s [b' 5\\xe9\\x99\\xac``\\x84=\\xc4I\\xee\\x0f\\xf4&X\\xa6?K\\xac\\xe3^\\\\\\xbf\\\\YP\\xf4']\n"
     ]
    }
   ],
   "source": [
    "x_decoded[0, :]"
   ]
  }
 ],
 "metadata": {
  "kernelspec": {
   "display_name": "ct_research",
   "language": "python",
   "name": "python3"
  },
  "language_info": {
   "codemirror_mode": {
    "name": "ipython",
    "version": 3
   },
   "file_extension": ".py",
   "mimetype": "text/x-python",
   "name": "python",
   "nbconvert_exporter": "python",
   "pygments_lexer": "ipython3",
   "version": "3.10.11"
  },
  "orig_nbformat": 4
 },
 "nbformat": 4,
 "nbformat_minor": 2
}
