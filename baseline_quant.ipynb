{
 "cells": [
  {
   "cell_type": "markdown",
   "metadata": {},
   "source": [
    "## overview\n",
    "- training a model using masking to predict missing values in order to evaluate patient's overall performance\n",
    "- visualization for how prediction does overall compared to imputation as a baseline test"
   ]
  },
  {
   "cell_type": "code",
   "execution_count": 1,
   "metadata": {},
   "outputs": [],
   "source": [
    "import numpy as np\n",
    "import pandas as pd\n",
    "import matplotlib.pyplot as plt\n",
    "import matplotlib.dates as mdates\n",
    "import seaborn as sns\n",
    "import torch\n",
    "import torch.nn as nn\n",
    "import torch.nn.functional as F\n",
    "import copy\n",
    "import wandb\n",
    "import statistics\n",
    "from sklearn.model_selection import train_test_split\n",
    "import random"
   ]
  },
  {
   "cell_type": "markdown",
   "metadata": {},
   "source": [
    "Initialize run"
   ]
  },
  {
   "cell_type": "markdown",
   "metadata": {},
   "source": [
    "Data"
   ]
  },
  {
   "cell_type": "code",
   "execution_count": 2,
   "metadata": {},
   "outputs": [],
   "source": [
    "df = pd.read_csv(\"data/filtered_ds.csv\")"
   ]
  },
  {
   "cell_type": "code",
   "execution_count": 3,
   "metadata": {},
   "outputs": [],
   "source": [
    "df[\"start_time_min\"] = df[\"start_time_min\"].astype('datetime64[ns]')\n",
    "df = df.sort_values(by=[\"patient_id\", \"start_time_min\"])"
   ]
  },
  {
   "cell_type": "markdown",
   "metadata": {},
   "source": [
    "Create training data"
   ]
  },
  {
   "cell_type": "code",
   "execution_count": 4,
   "metadata": {},
   "outputs": [],
   "source": [
    "def process_row(row):\n",
    "    values_a = [float(x.strip()) for x in str(row['domain_ids']).split(',')]\n",
    "    values_b = [float(x.strip()) for x in str(row['domain_scores']).split(',')]\n",
    "    return values_a, values_b"
   ]
  },
  {
   "cell_type": "code",
   "execution_count": 5,
   "metadata": {},
   "outputs": [],
   "source": [
    "def create_training_data(data : pd.DataFrame):\n",
    "    score = np.zeros((1,14)) # single row that gets updated each session (row in dataframe)\n",
    "    scores = np.zeros((len(data), 14))\n",
    "    i = 0\n",
    "    \n",
    "    # sort data by time\n",
    "    data = data.sort_values(by=[\"start_time_min\"])\n",
    "    # go through each row, process row \n",
    "    for idx, row in data.iterrows():\n",
    "        # given a row, parse domain ids and scores so that it gives a list of same length with corresponding domain and score in that session (a task can be included in multiple domains)\n",
    "        domains, domain_scores = process_row(row)\n",
    "        for j in range(len(domains)):\n",
    "            score[0, int(domains[j] - 1)] = domain_scores[j]\n",
    "        # set score to the score list average\n",
    "        scores[i] = score\n",
    "        i += 1\n",
    "    \n",
    "    scores_df = pd.DataFrame(scores, columns=[\"domain %d score\" % i for i in range(1, 15)])\n",
    "    data.reset_index(drop=True, inplace=True)\n",
    "    scores_df.reset_index(drop=True, inplace=True)\n",
    "    data = pd.concat([data, scores_df], axis=1)\n",
    "    return data"
   ]
  },
  {
   "cell_type": "code",
   "execution_count": 6,
   "metadata": {},
   "outputs": [],
   "source": [
    "# def create_training_data(data : pd.DataFrame):\n",
    "#     scores = np.zeros((data[\"start_time_min\"].map(lambda t: t.date()).nunique(), 14))\n",
    "#     # scores[:, 0] = data[\"patient_id\"].iloc[0] # set first column to be patient id\n",
    "#     i = 0\n",
    "\n",
    "#     data = data.sort_values(by=[\"start_time_min\"])\n",
    "#     prevday = None\n",
    "#     curday_score = np.zeros((1,14))\n",
    "\n",
    "#     for idx, row in data.iterrows():\n",
    "#         curday = row[\"start_time_min\"].date()\n",
    "#         domains, domain_scores = process_row(row)\n",
    "\n",
    "#         # if curday is a different day than the previous day, set scores[i] to the curday scores, increment the counter\n",
    "#         if curday != prevday and prevday != None:\n",
    "#             scores[i] = curday_score\n",
    "#             i += 1\n",
    "#         # loop through the domains, update corresponding score in curdayscore\n",
    "#         for j in range(len(domains)):\n",
    "#             # print(j)\n",
    "#             curday_score[0, int(domains[j] - 1)] = domain_scores[j]\n",
    "#         # we finished the session, set prevday to curday\n",
    "#         prevday = curday\n",
    "    \n",
    "#     scores_df = pd.DataFrame(scores, columns=[\"domain %d score\" % i for i in range(1, 15)])\n",
    "#     scores_df.reset_index(drop=True, inplace=True)\n",
    "#     return scores_df"
   ]
  },
  {
   "cell_type": "code",
   "execution_count": 7,
   "metadata": {},
   "outputs": [],
   "source": [
    "data = df.groupby(\"patient_id\").apply(create_training_data, include_groups=False).reset_index(drop=True)"
   ]
  },
  {
   "cell_type": "code",
   "execution_count": 8,
   "metadata": {},
   "outputs": [],
   "source": [
    "model_data = data[[\"domain %d score\" % i for i in range(1, 15)]]"
   ]
  },
  {
   "cell_type": "code",
   "execution_count": 9,
   "metadata": {},
   "outputs": [],
   "source": [
    "def filter_nonzero_rows(df, max_zeros):\n",
    "    # Count number of zeros in each row\n",
    "    zeros_count = (df == 0).sum(axis=1)\n",
    "    \n",
    "    # Filter rows with at most max_zeros number of zeros\n",
    "    non_zero_rows = df[zeros_count <= max_zeros]\n",
    "    return non_zero_rows"
   ]
  },
  {
   "cell_type": "code",
   "execution_count": 10,
   "metadata": {},
   "outputs": [],
   "source": [
    "model_data = filter_nonzero_rows(model_data, 0) # second parameter is max number of zeros"
   ]
  },
  {
   "cell_type": "code",
   "execution_count": 11,
   "metadata": {},
   "outputs": [
    {
     "data": {
      "text/plain": [
       "(136131, 14)"
      ]
     },
     "execution_count": 11,
     "metadata": {},
     "output_type": "execute_result"
    }
   ],
   "source": [
    "model_data.shape"
   ]
  },
  {
   "cell_type": "code",
   "execution_count": 12,
   "metadata": {},
   "outputs": [],
   "source": [
    "train_data, test_data = train_test_split(model_data, test_size=0.25)"
   ]
  },
  {
   "cell_type": "code",
   "execution_count": 13,
   "metadata": {},
   "outputs": [
    {
     "data": {
      "text/plain": [
       "((102098, 14), (34033, 14))"
      ]
     },
     "execution_count": 13,
     "metadata": {},
     "output_type": "execute_result"
    }
   ],
   "source": [
    "train_data.shape, test_data.shape"
   ]
  },
  {
   "cell_type": "code",
   "execution_count": 14,
   "metadata": {},
   "outputs": [],
   "source": [
    "train_data = train_data.to_numpy()"
   ]
  },
  {
   "cell_type": "code",
   "execution_count": 15,
   "metadata": {},
   "outputs": [],
   "source": [
    "def generate_random_array(rows, cols, N):\n",
    "    if N > cols:\n",
    "        raise ValueError(\"N cannot be greater than the number of columns.\")\n",
    "    \n",
    "    # Create an array of ones with the desired shape\n",
    "    array = np.ones((rows, cols), dtype=int)\n",
    "    \n",
    "    # Randomly assign N zeros to each row\n",
    "    for i in range(rows):\n",
    "        indices = np.random.choice(cols, N, replace=False)\n",
    "        array[i, indices] = 0\n",
    "    \n",
    "    return array, array.shape[0] * N"
   ]
  },
  {
   "cell_type": "code",
   "execution_count": 16,
   "metadata": {},
   "outputs": [],
   "source": [
    "def generate_mask(data, N=10):\n",
    "    rows, cols = data.shape\n",
    "    assert(cols == 14)\n",
    "    mask, n_zeros = generate_random_array(rows, cols, N)\n",
    "    data = copy.deepcopy(data)\n",
    "    return data * mask, n_zeros, mask"
   ]
  },
  {
   "cell_type": "code",
   "execution_count": 17,
   "metadata": {},
   "outputs": [],
   "source": [
    "# take a numpy array for data, an int for dupe_n, return an array of shape (dupe_n * n_row, col) where\n",
    "# every ith matrix of shape (n_row, col), the data has i domains masked\n",
    "def generate_differently_masked_data(original_matrix, dupe_n=14):\n",
    "    n_row, n_col = original_matrix.shape\n",
    "    new_matrix = np.zeros((n_row * dupe_n, n_col), dtype=float)\n",
    "    new_ground_truth = np.zeros((n_row * dupe_n, n_col), dtype=float)\n",
    "    for i in range(dupe_n):\n",
    "        masked_matrix, _, _ = generate_mask(original_matrix, N = i)\n",
    "        new_matrix[i * n_row:(i + 1) * n_row, :] = masked_matrix\n",
    "        new_ground_truth[i * n_row:(i + 1) * n_row, :] = original_matrix\n",
    "    return new_matrix, new_ground_truth"
   ]
  },
  {
   "cell_type": "code",
   "execution_count": 18,
   "metadata": {},
   "outputs": [],
   "source": [
    "train_data, ground_truth = generate_differently_masked_data(train_data, dupe_n=14)"
   ]
  },
  {
   "cell_type": "code",
   "execution_count": 19,
   "metadata": {},
   "outputs": [],
   "source": [
    "def create_missing_indicator(data):\n",
    "    (l, w) = data.shape\n",
    "    temp = np.zeros((l, w*2))\n",
    "    for i in range(l):\n",
    "        for d in range(w):\n",
    "            p = data[i, d]\n",
    "            # update output array\n",
    "            if p == 0:\n",
    "                missing_ind = np.random.choice(2, 1)[0]\n",
    "                temp[i, d*2] = missing_ind\n",
    "                temp[i, d*2+1] = missing_ind\n",
    "            else:\n",
    "                temp[i, d*2] = p # score\n",
    "                temp[i, d*2+1] = 1-p # 1-score\n",
    "    return copy.deepcopy(temp)"
   ]
  },
  {
   "cell_type": "code",
   "execution_count": 20,
   "metadata": {},
   "outputs": [],
   "source": [
    "train_data = create_missing_indicator(train_data)\n",
    "ground_truth = create_missing_indicator(ground_truth)"
   ]
  },
  {
   "cell_type": "code",
   "execution_count": 21,
   "metadata": {},
   "outputs": [
    {
     "data": {
      "text/plain": [
       "((1429372, 28), (1429372, 28), (34033, 14))"
      ]
     },
     "execution_count": 21,
     "metadata": {},
     "output_type": "execute_result"
    }
   ],
   "source": [
    "train_data.shape, ground_truth.shape, test_data.shape"
   ]
  },
  {
   "cell_type": "markdown",
   "metadata": {},
   "source": [
    "Model"
   ]
  },
  {
   "cell_type": "code",
   "execution_count": 22,
   "metadata": {},
   "outputs": [],
   "source": [
    "class AE(torch.nn.Module):\n",
    "    def __init__(self):\n",
    "        super().__init__()\n",
    "        n_domains = 14\n",
    "        hidden1 = 100\n",
    "        hidden2 = 25\n",
    "        \n",
    "        self.model = torch.nn.Sequential(\n",
    "            torch.nn.Linear(n_domains * 2, hidden1),\n",
    "            torch.nn.Sigmoid(),\n",
    "            torch.nn.Linear(hidden1, hidden2),\n",
    "            torch.nn.Sigmoid(),\n",
    "            torch.nn.Linear(hidden2, hidden1),\n",
    "            torch.nn.Sigmoid(),\n",
    "            torch.nn.Linear(hidden1, n_domains * 2)\n",
    "        )\n",
    "\n",
    "    def forward(self, x):\n",
    "        return torch.clamp(self.model(x), min=0, max=1)"
   ]
  },
  {
   "cell_type": "markdown",
   "metadata": {},
   "source": [
    "masking"
   ]
  },
  {
   "cell_type": "code",
   "execution_count": 23,
   "metadata": {},
   "outputs": [],
   "source": [
    "def missing(arr):\n",
    "    assert(len(arr) == 2)\n",
    "    # if two values are the same (the only three possible values pairs are (0, 0), (1, 1), and (0.5, 0.5) and only 0.5 isn't a missing indicator)\n",
    "    return arr[0] == arr[1] and (arr[0] == 0 or arr[0] == 1)"
   ]
  },
  {
   "cell_type": "markdown",
   "metadata": {},
   "source": [
    "Training"
   ]
  },
  {
   "cell_type": "code",
   "execution_count": 24,
   "metadata": {},
   "outputs": [],
   "source": [
    "def train_model(x_train, x_val,y_train, y_val, epochs, model, optimizer, loss_function):\n",
    "    outputs = []\n",
    "    losses = []\n",
    "    val_losses = []\n",
    "    w = 14 ## hardcoded\n",
    "\n",
    "    for epoch in range(epochs):\n",
    "        epoch_loss = []\n",
    "        val_epoch_loss = []\n",
    "        ## training\n",
    "        model.train()\n",
    "        for i in range(len(x_train)):\n",
    "            session = x_train[i]\n",
    "            # Output of Autoencoder\n",
    "            session_rs = session.reshape(-1, w * 2)\n",
    "            session_t = torch.from_numpy(session_rs).float()\n",
    "            reconstructed = model(session_t)\n",
    "            \n",
    "            # handle missing value\n",
    "            # missing_exists = False\n",
    "            # missing_domains = []\n",
    "            # for domain in range(w):\n",
    "            #     if missing(session[domain*2:domain*2+2]):\n",
    "            #         missing_exists = True\n",
    "            #         missing_domains.append(domain)\n",
    "            \n",
    "\n",
    "            target = copy.deepcopy(y_train[i].reshape(-1, w * 2))\n",
    "            # if missing_exists:\n",
    "            #     recon = reconstructed.detach().numpy()\n",
    "            #     for d in missing_domains:\n",
    "            #         target[0, d*2:d*2+2] = recon[0, d*2:d*2+2]\n",
    "            target = torch.from_numpy(target).float()\n",
    "\n",
    "\n",
    "            # Calculating the loss function\n",
    "            loss = loss_function(reconstructed, target)\n",
    "            \n",
    "            optimizer.zero_grad()\n",
    "            loss.backward()\n",
    "            optimizer.step()\n",
    "            \n",
    "            # Storing the losses in a list for plotting\n",
    "            epoch_loss.append(loss.item())\n",
    "\n",
    "        losses.append(statistics.mean(epoch_loss))\n",
    "        outputs.append((epochs, session_t, reconstructed))\n",
    "\n",
    "        ## validation\n",
    "        model.eval()\n",
    "        with torch.no_grad():\n",
    "            for k in range(len(x_val)):\n",
    "                val = x_val[k]\n",
    "                val_rs = val.reshape(-1, w * 2)\n",
    "                val_t = torch.from_numpy(val_rs)\n",
    "                val_t = val_t.clone().detach().type(torch.float32)\n",
    "                answer = model(val_t)\n",
    "                val_loss = loss_function(answer, torch.from_numpy(y_val[k].reshape(-1, w * 2)).type(torch.float32))\n",
    "                val_epoch_loss.append(val_loss.item())\n",
    "        val_losses.append(statistics.mean(val_epoch_loss))\n",
    "    return losses, val_losses, outputs, model"
   ]
  },
  {
   "cell_type": "code",
   "execution_count": 25,
   "metadata": {},
   "outputs": [],
   "source": [
    "num_runs = 1"
   ]
  },
  {
   "cell_type": "code",
   "execution_count": 26,
   "metadata": {},
   "outputs": [],
   "source": [
    "losses_2d = []\n",
    "val_losses_2d = []\n",
    "for i in range(num_runs):\n",
    "    model = AE()\n",
    "    epochs = 3\n",
    "    lr = 0.005\n",
    "\n",
    "    # Validation using MSE Loss function\n",
    "    loss_function = torch.nn.MSELoss()\n",
    "    \n",
    "    # Using an Adam Optimizer\n",
    "    optimizer = torch.optim.Adam(model.parameters(),\n",
    "                                lr = lr)\n",
    "    \n",
    "    x_train, x_val, y_train, y_val = train_test_split(train_data, ground_truth, test_size=0.50) # further splitting training set into train and validation\n",
    "    model.eval()\n",
    "    with torch.no_grad():\n",
    "        predictions = model(torch.from_numpy(x_train).float())\n",
    "        zero_loss = loss_function(predictions, torch.from_numpy(y_train).float())\n",
    "\n",
    "        predictions = model(torch.from_numpy(x_val).float())\n",
    "        zero_loss_val = loss_function(predictions, torch.from_numpy(y_val).float())\n",
    "    \n",
    "    losses, val_losses, outputs, model = train_model(x_train, x_val, y_train, y_val, epochs, model, optimizer, loss_function)\n",
    "    losses = [zero_loss.item()] + losses\n",
    "    val_losses = [zero_loss_val.item()] + val_losses\n",
    "    \n",
    "    losses_2d.append(losses)\n",
    "    val_losses_2d.append(val_losses)"
   ]
  },
  {
   "cell_type": "code",
   "execution_count": 27,
   "metadata": {},
   "outputs": [],
   "source": [
    "def plot_mean_and_std(data, color_choice=\"blue\", setting=\"\"):\n",
    "    \"\"\"\n",
    "    Plots the mean and standard deviation across multiple lists of data.\n",
    "    \n",
    "    Parameters:\n",
    "    - data (list of lists): A list where each element is a list of numbers.\n",
    "    \n",
    "    The function will compute the mean and standard deviation at each point\n",
    "    across the lists and plot these as a line for the mean and shading for the\n",
    "    standard deviation.\n",
    "    \"\"\"\n",
    "    # Convert data to a NumPy array for easier manipulation\n",
    "    data_array = np.array(data)\n",
    "    \n",
    "    # Calculate mean and standard deviation\n",
    "    means = np.mean(data_array, axis=0)\n",
    "    stds = np.std(data_array, axis=0)\n",
    "    # print(means, stds)\n",
    "    \n",
    "    # Create the x-axis values\n",
    "    x_values = np.arange(len(means))\n",
    "    \n",
    "    # Plotting\n",
    "    plt.plot(x_values, means, label='%s Mean' %setting, color=color_choice)  # Mean line\n",
    "    plt.fill_between(x_values, means - stds, means + stds, color=color_choice, alpha=0.2, label='%s Standard Deviation' % setting)\n",
    "    \n",
    "    plt.title('Mean and Standard Deviation Plot')\n",
    "    plt.xlabel('epochs')\n",
    "    plt.ylabel('loss')\n",
    "    plt.legend()\n",
    "    plt.grid(True)"
   ]
  },
  {
   "cell_type": "code",
   "execution_count": 28,
   "metadata": {},
   "outputs": [
    {
     "data": {
      "image/png": "[encoded data removed]",
      "text/plain": [
       "<Figure size 640x480 with 1 Axes>"
      ]
     },
     "metadata": {},
     "output_type": "display_data"
    }
   ],
   "source": [
    "# Plotting\n",
    "with torch.no_grad():\n",
    "    plot_mean_and_std(losses_2d, \"blue\", \"Training\")\n",
    "    plot_mean_and_std(val_losses_2d, \"orange\", \"Validation\")"
   ]
  },
  {
   "cell_type": "code",
   "execution_count": 29,
   "metadata": {},
   "outputs": [
    {
     "data": {
      "text/plain": [
       "array([0.52716423, 0.4722327 , 0.51311077, 0.48669194, 0.68641119,\n",
       "       0.31326839, 0.48269364, 0.51784226, 0.38993426, 0.60976351,\n",
       "       0.56997921, 0.42926241, 0.54237018, 0.45783551, 0.62812981,\n",
       "       0.37087115, 0.44491301, 0.55511777, 0.53750325, 0.46119268,\n",
       "       0.68752275, 0.312224  , 0.46403448, 0.53659937, 0.56357772,\n",
       "       0.43857008, 0.63381501, 0.36426527])"
      ]
     },
     "execution_count": 29,
     "metadata": {},
     "output_type": "execute_result"
    }
   ],
   "source": [
    "np.mean(x_train, axis=0)"
   ]
  },
  {
   "cell_type": "markdown",
   "metadata": {},
   "source": [
    "Error Plots"
   ]
  },
  {
   "cell_type": "code",
   "execution_count": 30,
   "metadata": {},
   "outputs": [],
   "source": [
    "## data average\n",
    "def impute_with_column_mean(data : pd.DataFrame):\n",
    "    \"\"\"\n",
    "    Imputes missing values (represented as 0) in a DataFrame with the mean of the non-zero values in the same column.\n",
    "\n",
    "    Parameters:\n",
    "    - data (pd.DataFrame): The DataFrame to impute.\n",
    "\n",
    "    Returns:\n",
    "    - pd.DataFrame: The DataFrame with missing values imputed using column means.\n",
    "    \"\"\"\n",
    "    # Replace '0' with NaN to handle them as missing values\n",
    "    imputed_data = data.replace(0, np.nan)\n",
    "    \n",
    "    # Calculate the mean of each column, ignoring NaNs\n",
    "    column_means = imputed_data.mean()\n",
    "    # replace the nans with 0 since that means there's no data at all for that column\n",
    "    column_means = column_means.replace(np.nan, 0)\n",
    "\n",
    "    \n",
    "    # Replace NaN values in each column with the mean of that column\n",
    "    imputed_data.fillna(column_means, inplace=True)\n",
    "\n",
    "    return imputed_data"
   ]
  },
  {
   "cell_type": "code",
   "execution_count": 31,
   "metadata": {},
   "outputs": [],
   "source": [
    "## known domain average\n",
    "def impute_with_row_average(data : pd.DataFrame):\n",
    "    \"\"\"\n",
    "    Imputes missing values (NaN) in a DataFrame with the average of the non-missing values in the same row.\n",
    "\n",
    "    Parameters:\n",
    "    - data (pd.DataFrame): The DataFrame to impute.\n",
    "\n",
    "    Returns:\n",
    "    - pd.DataFrame: The DataFrame with missing values imputed.\n",
    "    \"\"\"\n",
    "    # Create a copy of the DataFrame to avoid modifying the original data\n",
    "    imputed_data = data.copy()\n",
    "    # Replace '0' with NaN to handle them as missing values\n",
    "    imputed_data = data.replace(0, np.nan)\n",
    "\n",
    "    # Iterate over each row\n",
    "    for index, row in imputed_data.iterrows():\n",
    "        # Calculate the mean of the non-NaN values in the row\n",
    "        mean_value = row.mean()\n",
    "        if np.isnan(mean_value):\n",
    "            mean_value = 0\n",
    "\n",
    "        # Replace NaN values in the row with the calculated mean\n",
    "        imputed_data.loc[index] = row.fillna(mean_value)\n",
    "\n",
    "    return imputed_data"
   ]
  },
  {
   "cell_type": "code",
   "execution_count": 32,
   "metadata": {},
   "outputs": [],
   "source": [
    "# mode = other => impute by average of other domains, mode = data => impute by average of the data set\n",
    "def imputation(data, mode=\"\"):\n",
    "    if mode == \"other\":\n",
    "        return impute_with_row_average(data)\n",
    "    elif mode == \"data\":\n",
    "        return impute_with_column_mean(data)"
   ]
  },
  {
   "cell_type": "code",
   "execution_count": 33,
   "metadata": {},
   "outputs": [],
   "source": [
    "# get predictions from the model\n",
    "def predict(data, model):\n",
    "    model.eval()\n",
    "    data_t = torch.tensor(data, dtype=torch.float32)\n",
    "    with torch.no_grad():\n",
    "        return model(data_t).clone().detach().numpy()"
   ]
  },
  {
   "cell_type": "code",
   "execution_count": 34,
   "metadata": {},
   "outputs": [
    {
     "data": {
      "text/html": [
       "<div>\n",
       "<style scoped>\n",
       "    .dataframe tbody tr th:only-of-type {\n",
       "        vertical-align: middle;\n",
       "    }\n",
       "\n",
       "    .dataframe tbody tr th {\n",
       "        vertical-align: top;\n",
       "    }\n",
       "\n",
       "    .dataframe thead th {\n",
       "        text-align: right;\n",
       "    }\n",
       "</style>\n",
       "<table border=\"1\" class=\"dataframe\">\n",
       "  <thead>\n",
       "    <tr style=\"text-align: right;\">\n",
       "      <th></th>\n",
       "      <th>domain 1 score</th>\n",
       "      <th>domain 2 score</th>\n",
       "      <th>domain 3 score</th>\n",
       "      <th>domain 4 score</th>\n",
       "      <th>domain 5 score</th>\n",
       "      <th>domain 6 score</th>\n",
       "      <th>domain 7 score</th>\n",
       "      <th>domain 8 score</th>\n",
       "      <th>domain 9 score</th>\n",
       "      <th>domain 10 score</th>\n",
       "      <th>domain 11 score</th>\n",
       "      <th>domain 12 score</th>\n",
       "      <th>domain 13 score</th>\n",
       "      <th>domain 14 score</th>\n",
       "    </tr>\n",
       "  </thead>\n",
       "  <tbody>\n",
       "    <tr>\n",
       "      <th>1264273</th>\n",
       "      <td>1.000</td>\n",
       "      <td>1.00</td>\n",
       "      <td>1.000</td>\n",
       "      <td>1.000</td>\n",
       "      <td>0.500</td>\n",
       "      <td>0.947</td>\n",
       "      <td>0.33</td>\n",
       "      <td>0.917</td>\n",
       "      <td>1.000</td>\n",
       "      <td>1.000</td>\n",
       "      <td>1.00</td>\n",
       "      <td>0.557</td>\n",
       "      <td>0.921</td>\n",
       "      <td>1.000</td>\n",
       "    </tr>\n",
       "    <tr>\n",
       "      <th>1328056</th>\n",
       "      <td>0.200</td>\n",
       "      <td>0.44</td>\n",
       "      <td>0.600</td>\n",
       "      <td>0.386</td>\n",
       "      <td>0.230</td>\n",
       "      <td>0.579</td>\n",
       "      <td>0.74</td>\n",
       "      <td>0.917</td>\n",
       "      <td>0.410</td>\n",
       "      <td>1.000</td>\n",
       "      <td>0.56</td>\n",
       "      <td>0.243</td>\n",
       "      <td>0.121</td>\n",
       "      <td>1.000</td>\n",
       "    </tr>\n",
       "    <tr>\n",
       "      <th>60977</th>\n",
       "      <td>0.485</td>\n",
       "      <td>0.45</td>\n",
       "      <td>0.840</td>\n",
       "      <td>0.428</td>\n",
       "      <td>0.500</td>\n",
       "      <td>0.326</td>\n",
       "      <td>0.30</td>\n",
       "      <td>1.000</td>\n",
       "      <td>0.350</td>\n",
       "      <td>0.357</td>\n",
       "      <td>0.76</td>\n",
       "      <td>0.536</td>\n",
       "      <td>0.727</td>\n",
       "      <td>1.000</td>\n",
       "    </tr>\n",
       "    <tr>\n",
       "      <th>870927</th>\n",
       "      <td>0.543</td>\n",
       "      <td>0.25</td>\n",
       "      <td>0.840</td>\n",
       "      <td>0.600</td>\n",
       "      <td>0.360</td>\n",
       "      <td>1.000</td>\n",
       "      <td>1.00</td>\n",
       "      <td>1.000</td>\n",
       "      <td>0.100</td>\n",
       "      <td>0.671</td>\n",
       "      <td>1.00</td>\n",
       "      <td>0.500</td>\n",
       "      <td>0.939</td>\n",
       "      <td>0.567</td>\n",
       "    </tr>\n",
       "    <tr>\n",
       "      <th>677754</th>\n",
       "      <td>0.443</td>\n",
       "      <td>0.50</td>\n",
       "      <td>0.867</td>\n",
       "      <td>0.413</td>\n",
       "      <td>0.168</td>\n",
       "      <td>0.695</td>\n",
       "      <td>0.65</td>\n",
       "      <td>0.050</td>\n",
       "      <td>0.267</td>\n",
       "      <td>0.308</td>\n",
       "      <td>1.00</td>\n",
       "      <td>0.273</td>\n",
       "      <td>0.746</td>\n",
       "      <td>0.667</td>\n",
       "    </tr>\n",
       "    <tr>\n",
       "      <th>...</th>\n",
       "      <td>...</td>\n",
       "      <td>...</td>\n",
       "      <td>...</td>\n",
       "      <td>...</td>\n",
       "      <td>...</td>\n",
       "      <td>...</td>\n",
       "      <td>...</td>\n",
       "      <td>...</td>\n",
       "      <td>...</td>\n",
       "      <td>...</td>\n",
       "      <td>...</td>\n",
       "      <td>...</td>\n",
       "      <td>...</td>\n",
       "      <td>...</td>\n",
       "    </tr>\n",
       "    <tr>\n",
       "      <th>994650</th>\n",
       "      <td>0.214</td>\n",
       "      <td>1.00</td>\n",
       "      <td>0.800</td>\n",
       "      <td>0.171</td>\n",
       "      <td>0.020</td>\n",
       "      <td>0.421</td>\n",
       "      <td>0.50</td>\n",
       "      <td>0.667</td>\n",
       "      <td>0.160</td>\n",
       "      <td>0.550</td>\n",
       "      <td>0.55</td>\n",
       "      <td>0.264</td>\n",
       "      <td>0.212</td>\n",
       "      <td>0.560</td>\n",
       "    </tr>\n",
       "    <tr>\n",
       "      <th>1083719</th>\n",
       "      <td>0.743</td>\n",
       "      <td>0.67</td>\n",
       "      <td>0.760</td>\n",
       "      <td>0.500</td>\n",
       "      <td>0.250</td>\n",
       "      <td>1.000</td>\n",
       "      <td>0.76</td>\n",
       "      <td>1.000</td>\n",
       "      <td>0.390</td>\n",
       "      <td>0.922</td>\n",
       "      <td>1.00</td>\n",
       "      <td>0.193</td>\n",
       "      <td>0.648</td>\n",
       "      <td>1.000</td>\n",
       "    </tr>\n",
       "    <tr>\n",
       "      <th>308300</th>\n",
       "      <td>0.543</td>\n",
       "      <td>0.98</td>\n",
       "      <td>0.867</td>\n",
       "      <td>0.414</td>\n",
       "      <td>0.050</td>\n",
       "      <td>1.000</td>\n",
       "      <td>0.88</td>\n",
       "      <td>1.000</td>\n",
       "      <td>0.900</td>\n",
       "      <td>0.650</td>\n",
       "      <td>0.80</td>\n",
       "      <td>0.607</td>\n",
       "      <td>0.788</td>\n",
       "      <td>0.907</td>\n",
       "    </tr>\n",
       "    <tr>\n",
       "      <th>363589</th>\n",
       "      <td>0.629</td>\n",
       "      <td>0.50</td>\n",
       "      <td>0.827</td>\n",
       "      <td>0.429</td>\n",
       "      <td>0.250</td>\n",
       "      <td>0.474</td>\n",
       "      <td>0.35</td>\n",
       "      <td>0.483</td>\n",
       "      <td>0.250</td>\n",
       "      <td>0.679</td>\n",
       "      <td>1.00</td>\n",
       "      <td>0.500</td>\n",
       "      <td>0.727</td>\n",
       "      <td>0.714</td>\n",
       "    </tr>\n",
       "    <tr>\n",
       "      <th>60549</th>\n",
       "      <td>0.400</td>\n",
       "      <td>0.46</td>\n",
       "      <td>0.840</td>\n",
       "      <td>0.500</td>\n",
       "      <td>0.460</td>\n",
       "      <td>0.326</td>\n",
       "      <td>0.30</td>\n",
       "      <td>1.000</td>\n",
       "      <td>0.350</td>\n",
       "      <td>0.357</td>\n",
       "      <td>0.76</td>\n",
       "      <td>0.536</td>\n",
       "      <td>0.812</td>\n",
       "      <td>1.000</td>\n",
       "    </tr>\n",
       "  </tbody>\n",
       "</table>\n",
       "<p>34033 rows × 14 columns</p>\n",
       "</div>"
      ],
      "text/plain": [
       "         domain 1 score  domain 2 score  domain 3 score  domain 4 score  \\\n",
       "1264273           1.000            1.00           1.000           1.000   \n",
       "1328056           0.200            0.44           0.600           0.386   \n",
       "60977             0.485            0.45           0.840           0.428   \n",
       "870927            0.543            0.25           0.840           0.600   \n",
       "677754            0.443            0.50           0.867           0.413   \n",
       "...                 ...             ...             ...             ...   \n",
       "994650            0.214            1.00           0.800           0.171   \n",
       "1083719           0.743            0.67           0.760           0.500   \n",
       "308300            0.543            0.98           0.867           0.414   \n",
       "363589            0.629            0.50           0.827           0.429   \n",
       "60549             0.400            0.46           0.840           0.500   \n",
       "\n",
       "         domain 5 score  domain 6 score  domain 7 score  domain 8 score  \\\n",
       "1264273           0.500           0.947            0.33           0.917   \n",
       "1328056           0.230           0.579            0.74           0.917   \n",
       "60977             0.500           0.326            0.30           1.000   \n",
       "870927            0.360           1.000            1.00           1.000   \n",
       "677754            0.168           0.695            0.65           0.050   \n",
       "...                 ...             ...             ...             ...   \n",
       "994650            0.020           0.421            0.50           0.667   \n",
       "1083719           0.250           1.000            0.76           1.000   \n",
       "308300            0.050           1.000            0.88           1.000   \n",
       "363589            0.250           0.474            0.35           0.483   \n",
       "60549             0.460           0.326            0.30           1.000   \n",
       "\n",
       "         domain 9 score  domain 10 score  domain 11 score  domain 12 score  \\\n",
       "1264273           1.000            1.000             1.00            0.557   \n",
       "1328056           0.410            1.000             0.56            0.243   \n",
       "60977             0.350            0.357             0.76            0.536   \n",
       "870927            0.100            0.671             1.00            0.500   \n",
       "677754            0.267            0.308             1.00            0.273   \n",
       "...                 ...              ...              ...              ...   \n",
       "994650            0.160            0.550             0.55            0.264   \n",
       "1083719           0.390            0.922             1.00            0.193   \n",
       "308300            0.900            0.650             0.80            0.607   \n",
       "363589            0.250            0.679             1.00            0.500   \n",
       "60549             0.350            0.357             0.76            0.536   \n",
       "\n",
       "         domain 13 score  domain 14 score  \n",
       "1264273            0.921            1.000  \n",
       "1328056            0.121            1.000  \n",
       "60977              0.727            1.000  \n",
       "870927             0.939            0.567  \n",
       "677754             0.746            0.667  \n",
       "...                  ...              ...  \n",
       "994650             0.212            0.560  \n",
       "1083719            0.648            1.000  \n",
       "308300             0.788            0.907  \n",
       "363589             0.727            0.714  \n",
       "60549              0.812            1.000  \n",
       "\n",
       "[34033 rows x 14 columns]"
      ]
     },
     "execution_count": 34,
     "metadata": {},
     "output_type": "execute_result"
    }
   ],
   "source": [
    "test_data"
   ]
  },
  {
   "cell_type": "code",
   "execution_count": 35,
   "metadata": {},
   "outputs": [],
   "source": [
    "column_names = [\"domain %d score\" % i for i in range(1, 15)]\n",
    "accuracy_list_prediction_sq = []\n",
    "accuracy_list_knownimputation_sq = []\n",
    "accuracy_list_dataimputation_sq = []\n",
    "accuracy_list_prediction_abs = []\n",
    "accuracy_list_knownimputation_abs = []\n",
    "accuracy_list_dataimputation_abs = []"
   ]
  },
  {
   "cell_type": "code",
   "execution_count": 36,
   "metadata": {},
   "outputs": [],
   "source": [
    "def create_new_array_2d(ground_truth, prediction, masked):\n",
    "    # Ensure all arrays have the same shape\n",
    "    if ground_truth.shape != prediction.shape or prediction.shape != masked.shape:\n",
    "        raise ValueError(\"All arrays must have the same shape\")\n",
    "\n",
    "    # Initialize the new array with the same shape\n",
    "    new_array = np.empty_like(ground_truth)\n",
    "\n",
    "    # Iterate through each row\n",
    "    for i in range(ground_truth.shape[0]):\n",
    "        # Iterate through each pair of values in the row\n",
    "        for j in range(0, ground_truth.shape[1], 2):\n",
    "            pair_masked = masked[i, j:j+2]\n",
    "            # print(pair_masked)\n",
    "            # Check if the pair in the masked array is missing\n",
    "            if pair_masked[0] == pair_masked[1] and (pair_masked[0] == 1 or pair_masked[0] == 0):\n",
    "                # print(i, j, pair_masked)\n",
    "                # Use the corresponding pair from the prediction array\n",
    "                new_array[i, j:j+2] = prediction[i, j:j+2]\n",
    "            else:\n",
    "                # Use the corresponding pair from the ground truth array\n",
    "                new_array[i, j:j+2] = ground_truth[i, j:j+2]\n",
    "\n",
    "    return new_array"
   ]
  },
  {
   "cell_type": "code",
   "execution_count": 37,
   "metadata": {},
   "outputs": [],
   "source": [
    "def get_accuracy(y_pred, y_true, mask, fn : str):\n",
    "    mask = mask ^ 1\n",
    "    n_missing = np.sum(mask)\n",
    "    y_pred *= mask\n",
    "    y_true *= mask\n",
    "    diff = y_pred - y_true\n",
    "    if n_missing == 0: n_missing = 1\n",
    "    if fn == \"mse\":\n",
    "        # print(np.sum(np.power(diff, 2)))\n",
    "        return np.sum(np.power(diff, 2)) / n_missing\n",
    "    elif fn == \"mae\":\n",
    "        # print(np.sum(np.abs(diff)))\n",
    "        return np.sum(np.abs(diff)) / n_missing"
   ]
  },
  {
   "cell_type": "code",
   "execution_count": 38,
   "metadata": {},
   "outputs": [],
   "source": [
    "from scipy.stats import sem\n",
    "\n",
    "for masked_number in range(14):\n",
    "    # masked_ratio = masked_number / 14\n",
    "    ## create masked testing data so we can see how the model predicts and how imputation compares\n",
    "    masked_test_data, n_missing, mask = generate_mask(test_data[column_names].copy().to_numpy(), N=masked_number)\n",
    "    assert n_missing == masked_number * test_data.shape[0], \"n missing weird\"\n",
    "    assert n_missing == np.size(mask) - np.sum(mask), \"n missing weird\"\n",
    "\n",
    "    # impute \n",
    "    imputataion_data_data = imputation(pd.DataFrame(masked_test_data, columns=column_names), mode=\"data\").to_numpy()\n",
    "    imputataion_data_known = imputation(pd.DataFrame(masked_test_data, columns=column_names), mode=\"other\").to_numpy()\n",
    "    \n",
    "\n",
    "    # predict\n",
    "    masked_test_data = create_missing_indicator(masked_test_data)\n",
    "    predictions = predict(masked_test_data, model)[:, ::2]\n",
    "\n",
    "    ## get accuracy (abs)\n",
    "    original = test_data[column_names].copy().to_numpy()\n",
    "    assert original.shape == mask.shape and original.shape == predictions.shape and original.shape == imputataion_data_data.shape \\\n",
    "           and original.shape == imputataion_data_known.shape, \"shape weird\"\n",
    "    \n",
    "    accuracy_list_prediction_abs.append(get_accuracy(predictions, original, mask, \"mae\"))\n",
    "\n",
    "    accuracy_list_dataimputation_abs.append(get_accuracy(imputataion_data_data, original, mask, \"mae\"))\n",
    "\n",
    "    accuracy_list_knownimputation_abs.append(get_accuracy(imputataion_data_known, original, mask, \"mae\"))\n",
    "\n",
    "    ## get accuracy (sq)\n",
    "    accuracy_list_prediction_sq.append(get_accuracy(predictions, original, mask, \"mse\"))\n",
    "\n",
    "    accuracy_list_dataimputation_sq.append(get_accuracy(imputataion_data_data, original, mask, \"mse\"))\n",
    "\n",
    "    accuracy_list_knownimputation_sq.append(get_accuracy(imputataion_data_known, original, mask, \"mse\"))\n"
   ]
  },
  {
   "cell_type": "markdown",
   "metadata": {},
   "source": [
    "Visualization"
   ]
  },
  {
   "cell_type": "code",
   "execution_count": 39,
   "metadata": {},
   "outputs": [
    {
     "data": {
      "text/plain": [
       "(0.18587200417304037, 0.05576958987016619)"
      ]
     },
     "execution_count": 39,
     "metadata": {},
     "output_type": "execute_result"
    }
   ],
   "source": [
    "get_accuracy(predictions, original, mask, \"mae\"), get_accuracy(predictions, original, mask, \"mse\")"
   ]
  },
  {
   "cell_type": "code",
   "execution_count": 40,
   "metadata": {},
   "outputs": [
    {
     "data": {
      "text/plain": [
       "[0.0,\n",
       " 0.11712615478779269,\n",
       " 0.12024010307217273,\n",
       " 0.12470854432288228,\n",
       " 0.12837151281038978,\n",
       " 0.1332789846867639,\n",
       " 0.13769052211237037,\n",
       " 0.14258249909406626,\n",
       " 0.14799993349058324,\n",
       " 0.153044738209464,\n",
       " 0.15918295147042041,\n",
       " 0.16671323062132012,\n",
       " 0.1750379961261216,\n",
       " 0.18587200417304037]"
      ]
     },
     "execution_count": 40,
     "metadata": {},
     "output_type": "execute_result"
    }
   ],
   "source": [
    "accuracy_list_prediction_abs"
   ]
  },
  {
   "cell_type": "code",
   "execution_count": 41,
   "metadata": {},
   "outputs": [
    {
     "data": {
      "text/plain": [
       "[0.0,\n",
       " 0.026470250425388493,\n",
       " 0.027546661713963343,\n",
       " 0.0293982801983142,\n",
       " 0.03082939945119294,\n",
       " 0.03280382276350854,\n",
       " 0.034772277133870676,\n",
       " 0.03674114816081218,\n",
       " 0.039053375092430745,\n",
       " 0.041206213398827185,\n",
       " 0.04395123782778127,\n",
       " 0.047150346135277944,\n",
       " 0.05075791329849614,\n",
       " 0.05576958987016619]"
      ]
     },
     "execution_count": 41,
     "metadata": {},
     "output_type": "execute_result"
    }
   ],
   "source": [
    "accuracy_list_prediction_sq"
   ]
  },
  {
   "cell_type": "code",
   "execution_count": 42,
   "metadata": {},
   "outputs": [
    {
     "data": {
      "text/plain": [
       "<matplotlib.legend.Legend at 0x34fd228e0>"
      ]
     },
     "execution_count": 42,
     "metadata": {},
     "output_type": "execute_result"
    },
    {
     "data": {
      "image/png": "[encoded data removed]",
      "text/plain": [
       "<Figure size 1200x1200 with 1 Axes>"
      ]
     },
     "metadata": {},
     "output_type": "display_data"
    }
   ],
   "source": [
    "fig = plt.figure(figsize=(12, 12))\n",
    "# plt.errorbar(range(0, 14), accuracy_list_prediction_sq, yerr=error_prediction_sq, label=\"prediction\", linewidth=3)\n",
    "# plt.errorbar(range(0, 14), accuracy_list_imputation_sq, yerr=error_imputation_sq, label=\"imputation\")\n",
    "\n",
    "x_values = range(0, 14)\n",
    "\n",
    "plt.plot(x_values, accuracy_list_prediction_sq, label=\"model\", marker=\"o\")\n",
    "plt.plot(x_values, accuracy_list_knownimputation_sq, label=\"imputation - known domains\", marker=\"o\")\n",
    "plt.plot(x_values, accuracy_list_dataimputation_sq, label=\"imputation - test set average\", marker=\"o\")\n",
    "\n",
    "for x, y1, y2, y3 in zip(x_values, accuracy_list_prediction_sq, accuracy_list_knownimputation_sq, accuracy_list_dataimputation_sq):\n",
    "    offset = 10\n",
    "\n",
    "    label = \"{:.4f}\".format(y1)\n",
    "    plt.annotate(label, # this is the text\n",
    "                (x,y1), # these are the coordinates to position the label\n",
    "                textcoords=\"offset points\", # how to position the text\n",
    "                xytext=(0,offset), # distance from text to points (x,y)\n",
    "                ha='center') # horizontal alignment can be left, right or center\n",
    "    \n",
    "    label = \"{:.4f}\".format(y2)\n",
    "    plt.annotate(label, # this is the text\n",
    "                (x,y2), # these are the coordinates to position the label\n",
    "                textcoords=\"offset points\", # how to position the text\n",
    "                xytext=(0,offset), # distance from text to points (x,y)\n",
    "                ha='center') # horizontal alignment can be left, right or center\n",
    "    \n",
    "    label = \"{:.4f}\".format(y3)\n",
    "    plt.annotate(label, # this is the text\n",
    "                (x,y3), # these are the coordinates to position the label\n",
    "                textcoords=\"offset points\", # how to position the text\n",
    "                xytext=(0,offset), # distance from text to points (x,y)\n",
    "                ha='center') # horizontal alignment can be left, right or center\n",
    "\n",
    "\n",
    "\n",
    "plt.xlabel(\"number of masked domains\")\n",
    "plt.ylabel(\"mean squared error\")\n",
    "plt.title(\"Mean squared error vs number of masked domains\")\n",
    "plt.legend()"
   ]
  },
  {
   "cell_type": "code",
   "execution_count": 43,
   "metadata": {},
   "outputs": [
    {
     "data": {
      "text/plain": [
       "<matplotlib.legend.Legend at 0x34fd22610>"
      ]
     },
     "execution_count": 43,
     "metadata": {},
     "output_type": "execute_result"
    },
    {
     "data": {
      "image/png": "[encoded data removed]",
      "text/plain": [
       "<Figure size 1200x1200 with 1 Axes>"
      ]
     },
     "metadata": {},
     "output_type": "display_data"
    }
   ],
   "source": [
    "fig = plt.figure(figsize=(12, 12))\n",
    "# plt.errorbar(range(0, 14), accuracy_list_prediction_abs, yerr=error_prediction_abs, label=\"prediction\", linewidth=3)\n",
    "# plt.errorbar(range(0, 14), accuracy_list_imputation_abs, yerr=error_imputation_abs, label=\"imputation\")\n",
    "x_values = range(0, 14)\n",
    "\n",
    "plt.plot(x_values, accuracy_list_prediction_abs, label=\"model\", marker=\"o\")\n",
    "plt.plot(x_values, accuracy_list_knownimputation_abs, label=\"imputation - known domains\", marker=\"o\")\n",
    "plt.plot(x_values, accuracy_list_dataimputation_abs, label=\"imputation - test set average\", marker=\"o\")\n",
    "\n",
    "for x, y1, y2, y3 in zip(x_values, accuracy_list_prediction_abs, accuracy_list_knownimputation_abs, accuracy_list_dataimputation_abs):\n",
    "    offset = 10\n",
    "\n",
    "    label = \"{:.4f}\".format(y1)\n",
    "    plt.annotate(label, # this is the text\n",
    "                (x,y1), # these are the coordinates to position the label\n",
    "                textcoords=\"offset points\", # how to position the text\n",
    "                xytext=(0,offset), # distance from text to points (x,y)\n",
    "                ha='center') # horizontal alignment can be left, right or center\n",
    "    \n",
    "    label = \"{:.4f}\".format(y2)\n",
    "    plt.annotate(label, # this is the text\n",
    "                (x,y2), # these are the coordinates to position the label\n",
    "                textcoords=\"offset points\", # how to position the text\n",
    "                xytext=(0,offset), # distance from text to points (x,y)\n",
    "                ha='center') # horizontal alignment can be left, right or center\n",
    "    \n",
    "    label = \"{:.4f}\".format(y3)\n",
    "    plt.annotate(label, # this is the text\n",
    "                (x,y3), # these are the coordinates to position the label\n",
    "                textcoords=\"offset points\", # how to position the text\n",
    "                xytext=(0,offset), # distance from text to points (x,y)\n",
    "                ha='center') # horizontal alignment can be left, right or center\n",
    "\n",
    "plt.xlabel(\"number of masked domains\")\n",
    "plt.ylabel(\"mean absolute error\")\n",
    "plt.title(\"Mean absolute erorr vs number of masked domains\")\n",
    "plt.legend()"
   ]
  },
  {
   "cell_type": "code",
   "execution_count": 44,
   "metadata": {},
   "outputs": [],
   "source": [
    "# torch.save(model.state_dict(), \"model/base_quant01.pth\")"
   ]
  },
  {
   "cell_type": "code",
   "execution_count": 45,
   "metadata": {},
   "outputs": [
    {
     "data": {
      "text/html": [
       "<div>\n",
       "<style scoped>\n",
       "    .dataframe tbody tr th:only-of-type {\n",
       "        vertical-align: middle;\n",
       "    }\n",
       "\n",
       "    .dataframe tbody tr th {\n",
       "        vertical-align: top;\n",
       "    }\n",
       "\n",
       "    .dataframe thead th {\n",
       "        text-align: right;\n",
       "    }\n",
       "</style>\n",
       "<table border=\"1\" class=\"dataframe\">\n",
       "  <thead>\n",
       "    <tr style=\"text-align: right;\">\n",
       "      <th></th>\n",
       "      <th>domain 1 score</th>\n",
       "      <th>domain 2 score</th>\n",
       "      <th>domain 3 score</th>\n",
       "      <th>domain 4 score</th>\n",
       "      <th>domain 5 score</th>\n",
       "      <th>domain 6 score</th>\n",
       "      <th>domain 7 score</th>\n",
       "      <th>domain 8 score</th>\n",
       "      <th>domain 9 score</th>\n",
       "      <th>domain 10 score</th>\n",
       "      <th>domain 11 score</th>\n",
       "      <th>domain 12 score</th>\n",
       "      <th>domain 13 score</th>\n",
       "      <th>domain 14 score</th>\n",
       "    </tr>\n",
       "  </thead>\n",
       "  <tbody>\n",
       "    <tr>\n",
       "      <th>1264273</th>\n",
       "      <td>1.000</td>\n",
       "      <td>1.00</td>\n",
       "      <td>1.000</td>\n",
       "      <td>1.000</td>\n",
       "      <td>0.500</td>\n",
       "      <td>0.947</td>\n",
       "      <td>0.33</td>\n",
       "      <td>0.917</td>\n",
       "      <td>1.000</td>\n",
       "      <td>1.000</td>\n",
       "      <td>1.00</td>\n",
       "      <td>0.557</td>\n",
       "      <td>0.921</td>\n",
       "      <td>1.000</td>\n",
       "    </tr>\n",
       "    <tr>\n",
       "      <th>1328056</th>\n",
       "      <td>0.200</td>\n",
       "      <td>0.44</td>\n",
       "      <td>0.600</td>\n",
       "      <td>0.386</td>\n",
       "      <td>0.230</td>\n",
       "      <td>0.579</td>\n",
       "      <td>0.74</td>\n",
       "      <td>0.917</td>\n",
       "      <td>0.410</td>\n",
       "      <td>1.000</td>\n",
       "      <td>0.56</td>\n",
       "      <td>0.243</td>\n",
       "      <td>0.121</td>\n",
       "      <td>1.000</td>\n",
       "    </tr>\n",
       "    <tr>\n",
       "      <th>60977</th>\n",
       "      <td>0.485</td>\n",
       "      <td>0.45</td>\n",
       "      <td>0.840</td>\n",
       "      <td>0.428</td>\n",
       "      <td>0.500</td>\n",
       "      <td>0.326</td>\n",
       "      <td>0.30</td>\n",
       "      <td>1.000</td>\n",
       "      <td>0.350</td>\n",
       "      <td>0.357</td>\n",
       "      <td>0.76</td>\n",
       "      <td>0.536</td>\n",
       "      <td>0.727</td>\n",
       "      <td>1.000</td>\n",
       "    </tr>\n",
       "    <tr>\n",
       "      <th>870927</th>\n",
       "      <td>0.543</td>\n",
       "      <td>0.25</td>\n",
       "      <td>0.840</td>\n",
       "      <td>0.600</td>\n",
       "      <td>0.360</td>\n",
       "      <td>1.000</td>\n",
       "      <td>1.00</td>\n",
       "      <td>1.000</td>\n",
       "      <td>0.100</td>\n",
       "      <td>0.671</td>\n",
       "      <td>1.00</td>\n",
       "      <td>0.500</td>\n",
       "      <td>0.939</td>\n",
       "      <td>0.567</td>\n",
       "    </tr>\n",
       "    <tr>\n",
       "      <th>677754</th>\n",
       "      <td>0.443</td>\n",
       "      <td>0.50</td>\n",
       "      <td>0.867</td>\n",
       "      <td>0.413</td>\n",
       "      <td>0.168</td>\n",
       "      <td>0.695</td>\n",
       "      <td>0.65</td>\n",
       "      <td>0.050</td>\n",
       "      <td>0.267</td>\n",
       "      <td>0.308</td>\n",
       "      <td>1.00</td>\n",
       "      <td>0.273</td>\n",
       "      <td>0.746</td>\n",
       "      <td>0.667</td>\n",
       "    </tr>\n",
       "    <tr>\n",
       "      <th>...</th>\n",
       "      <td>...</td>\n",
       "      <td>...</td>\n",
       "      <td>...</td>\n",
       "      <td>...</td>\n",
       "      <td>...</td>\n",
       "      <td>...</td>\n",
       "      <td>...</td>\n",
       "      <td>...</td>\n",
       "      <td>...</td>\n",
       "      <td>...</td>\n",
       "      <td>...</td>\n",
       "      <td>...</td>\n",
       "      <td>...</td>\n",
       "      <td>...</td>\n",
       "    </tr>\n",
       "    <tr>\n",
       "      <th>994650</th>\n",
       "      <td>0.214</td>\n",
       "      <td>1.00</td>\n",
       "      <td>0.800</td>\n",
       "      <td>0.171</td>\n",
       "      <td>0.020</td>\n",
       "      <td>0.421</td>\n",
       "      <td>0.50</td>\n",
       "      <td>0.667</td>\n",
       "      <td>0.160</td>\n",
       "      <td>0.550</td>\n",
       "      <td>0.55</td>\n",
       "      <td>0.264</td>\n",
       "      <td>0.212</td>\n",
       "      <td>0.560</td>\n",
       "    </tr>\n",
       "    <tr>\n",
       "      <th>1083719</th>\n",
       "      <td>0.743</td>\n",
       "      <td>0.67</td>\n",
       "      <td>0.760</td>\n",
       "      <td>0.500</td>\n",
       "      <td>0.250</td>\n",
       "      <td>1.000</td>\n",
       "      <td>0.76</td>\n",
       "      <td>1.000</td>\n",
       "      <td>0.390</td>\n",
       "      <td>0.922</td>\n",
       "      <td>1.00</td>\n",
       "      <td>0.193</td>\n",
       "      <td>0.648</td>\n",
       "      <td>1.000</td>\n",
       "    </tr>\n",
       "    <tr>\n",
       "      <th>308300</th>\n",
       "      <td>0.543</td>\n",
       "      <td>0.98</td>\n",
       "      <td>0.867</td>\n",
       "      <td>0.414</td>\n",
       "      <td>0.050</td>\n",
       "      <td>1.000</td>\n",
       "      <td>0.88</td>\n",
       "      <td>1.000</td>\n",
       "      <td>0.900</td>\n",
       "      <td>0.650</td>\n",
       "      <td>0.80</td>\n",
       "      <td>0.607</td>\n",
       "      <td>0.788</td>\n",
       "      <td>0.907</td>\n",
       "    </tr>\n",
       "    <tr>\n",
       "      <th>363589</th>\n",
       "      <td>0.629</td>\n",
       "      <td>0.50</td>\n",
       "      <td>0.827</td>\n",
       "      <td>0.429</td>\n",
       "      <td>0.250</td>\n",
       "      <td>0.474</td>\n",
       "      <td>0.35</td>\n",
       "      <td>0.483</td>\n",
       "      <td>0.250</td>\n",
       "      <td>0.679</td>\n",
       "      <td>1.00</td>\n",
       "      <td>0.500</td>\n",
       "      <td>0.727</td>\n",
       "      <td>0.714</td>\n",
       "    </tr>\n",
       "    <tr>\n",
       "      <th>60549</th>\n",
       "      <td>0.400</td>\n",
       "      <td>0.46</td>\n",
       "      <td>0.840</td>\n",
       "      <td>0.500</td>\n",
       "      <td>0.460</td>\n",
       "      <td>0.326</td>\n",
       "      <td>0.30</td>\n",
       "      <td>1.000</td>\n",
       "      <td>0.350</td>\n",
       "      <td>0.357</td>\n",
       "      <td>0.76</td>\n",
       "      <td>0.536</td>\n",
       "      <td>0.812</td>\n",
       "      <td>1.000</td>\n",
       "    </tr>\n",
       "  </tbody>\n",
       "</table>\n",
       "<p>34033 rows × 14 columns</p>\n",
       "</div>"
      ],
      "text/plain": [
       "         domain 1 score  domain 2 score  domain 3 score  domain 4 score  \\\n",
       "1264273           1.000            1.00           1.000           1.000   \n",
       "1328056           0.200            0.44           0.600           0.386   \n",
       "60977             0.485            0.45           0.840           0.428   \n",
       "870927            0.543            0.25           0.840           0.600   \n",
       "677754            0.443            0.50           0.867           0.413   \n",
       "...                 ...             ...             ...             ...   \n",
       "994650            0.214            1.00           0.800           0.171   \n",
       "1083719           0.743            0.67           0.760           0.500   \n",
       "308300            0.543            0.98           0.867           0.414   \n",
       "363589            0.629            0.50           0.827           0.429   \n",
       "60549             0.400            0.46           0.840           0.500   \n",
       "\n",
       "         domain 5 score  domain 6 score  domain 7 score  domain 8 score  \\\n",
       "1264273           0.500           0.947            0.33           0.917   \n",
       "1328056           0.230           0.579            0.74           0.917   \n",
       "60977             0.500           0.326            0.30           1.000   \n",
       "870927            0.360           1.000            1.00           1.000   \n",
       "677754            0.168           0.695            0.65           0.050   \n",
       "...                 ...             ...             ...             ...   \n",
       "994650            0.020           0.421            0.50           0.667   \n",
       "1083719           0.250           1.000            0.76           1.000   \n",
       "308300            0.050           1.000            0.88           1.000   \n",
       "363589            0.250           0.474            0.35           0.483   \n",
       "60549             0.460           0.326            0.30           1.000   \n",
       "\n",
       "         domain 9 score  domain 10 score  domain 11 score  domain 12 score  \\\n",
       "1264273           1.000            1.000             1.00            0.557   \n",
       "1328056           0.410            1.000             0.56            0.243   \n",
       "60977             0.350            0.357             0.76            0.536   \n",
       "870927            0.100            0.671             1.00            0.500   \n",
       "677754            0.267            0.308             1.00            0.273   \n",
       "...                 ...              ...              ...              ...   \n",
       "994650            0.160            0.550             0.55            0.264   \n",
       "1083719           0.390            0.922             1.00            0.193   \n",
       "308300            0.900            0.650             0.80            0.607   \n",
       "363589            0.250            0.679             1.00            0.500   \n",
       "60549             0.350            0.357             0.76            0.536   \n",
       "\n",
       "         domain 13 score  domain 14 score  \n",
       "1264273            0.921            1.000  \n",
       "1328056            0.121            1.000  \n",
       "60977              0.727            1.000  \n",
       "870927             0.939            0.567  \n",
       "677754             0.746            0.667  \n",
       "...                  ...              ...  \n",
       "994650             0.212            0.560  \n",
       "1083719            0.648            1.000  \n",
       "308300             0.788            0.907  \n",
       "363589             0.727            0.714  \n",
       "60549              0.812            1.000  \n",
       "\n",
       "[34033 rows x 14 columns]"
      ]
     },
     "execution_count": 45,
     "metadata": {},
     "output_type": "execute_result"
    }
   ],
   "source": [
    "test_data"
   ]
  },
  {
   "cell_type": "code",
   "execution_count": 46,
   "metadata": {},
   "outputs": [
    {
     "data": {
      "text/plain": [
       "domain 1 score     0.551231\n",
       "domain 2 score     0.526479\n",
       "domain 3 score     0.850049\n",
       "domain 4 score     0.464515\n",
       "domain 5 score     0.292079\n",
       "domain 6 score     0.632026\n",
       "domain 7 score     0.580582\n",
       "domain 8 score     0.744828\n",
       "domain 9 score     0.397956\n",
       "domain 10 score    0.570404\n",
       "domain 11 score    0.848467\n",
       "domain 12 score    0.433499\n",
       "domain 13 score    0.617470\n",
       "domain 14 score    0.753544\n",
       "dtype: float64"
      ]
     },
     "execution_count": 46,
     "metadata": {},
     "output_type": "execute_result"
    }
   ],
   "source": [
    "test_data.mean()"
   ]
  },
  {
   "cell_type": "code",
   "execution_count": 47,
   "metadata": {},
   "outputs": [],
   "source": [
    "torch.save(model, \"model/clamp1.pt\")"
   ]
  }
 ],
 "metadata": {
  "kernelspec": {
   "display_name": "ct",
   "language": "python",
   "name": "python3"
  },
  "language_info": {
   "codemirror_mode": {
    "name": "ipython",
    "version": 3
   },
   "file_extension": ".py",
   "mimetype": "text/x-python",
   "name": "python",
   "nbconvert_exporter": "python",
   "pygments_lexer": "ipython3",
   "version": "3.9.19"
  }
 },
 "nbformat": 4,
 "nbformat_minor": 2
}
