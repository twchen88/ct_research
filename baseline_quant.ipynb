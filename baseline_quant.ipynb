{
 "cells": [
  {
   "cell_type": "markdown",
   "metadata": {},
   "source": [
    "## overview\n",
    "- training a model using masking to predict missing values in order to evaluate patient's overall performance\n",
    "- visualization for how prediction does overall compared to imputation as a baseline test"
   ]
  },
  {
   "cell_type": "code",
   "execution_count": 1,
   "metadata": {},
   "outputs": [],
   "source": [
    "import numpy as np\n",
    "import pandas as pd\n",
    "import matplotlib.pyplot as plt\n",
    "import matplotlib.dates as mdates\n",
    "import seaborn as sns\n",
    "import torch\n",
    "import torch.nn as nn\n",
    "import torch.nn.functional as F\n",
    "import copy\n",
    "import wandb\n",
    "import statistics\n",
    "from sklearn.model_selection import train_test_split\n",
    "import random"
   ]
  },
  {
   "cell_type": "markdown",
   "metadata": {},
   "source": [
    "Initialize run"
   ]
  },
  {
   "cell_type": "markdown",
   "metadata": {},
   "source": [
    "Data"
   ]
  },
  {
   "cell_type": "code",
   "execution_count": 2,
   "metadata": {},
   "outputs": [],
   "source": [
    "df = pd.read_csv(\"data/filtered_ds.csv\")"
   ]
  },
  {
   "cell_type": "code",
   "execution_count": 3,
   "metadata": {},
   "outputs": [],
   "source": [
    "df[\"start_time_min\"] = df[\"start_time_min\"].astype('datetime64[ns]')\n",
    "df = df.sort_values(by=[\"patient_id\", \"start_time_min\"])"
   ]
  },
  {
   "cell_type": "markdown",
   "metadata": {},
   "source": [
    "Create training data"
   ]
  },
  {
   "cell_type": "code",
   "execution_count": 4,
   "metadata": {},
   "outputs": [],
   "source": [
    "def process_row(row):\n",
    "    values_a = [float(x.strip()) for x in str(row['domain_ids']).split(',')]\n",
    "    values_b = [float(x.strip()) for x in str(row['domain_scores']).split(',')]\n",
    "    return values_a, values_b"
   ]
  },
  {
   "cell_type": "code",
   "execution_count": 5,
   "metadata": {},
   "outputs": [],
   "source": [
    "def create_training_data(data : pd.DataFrame):\n",
    "    score = np.zeros((1,14)) # single row that gets updated each session (row in dataframe)\n",
    "    scores = np.zeros((len(data), 14))\n",
    "    i = 0\n",
    "    \n",
    "    # sort data by time\n",
    "    data = data.sort_values(by=[\"start_time_min\"])\n",
    "    # go through each row, process row \n",
    "    for idx, row in data.iterrows():\n",
    "        # given a row, parse domain ids and scores so that it gives a list of same length with corresponding domain and score in that session (a task can be included in multiple domains)\n",
    "        domains, domain_scores = process_row(row)\n",
    "        for j in range(len(domains)):\n",
    "            score[0, int(domains[j] - 1)] = domain_scores[j]\n",
    "        # set score to the score list average\n",
    "        scores[i] = score\n",
    "        i += 1\n",
    "    \n",
    "    scores_df = pd.DataFrame(scores, columns=[\"domain %d score\" % i for i in range(1, 15)])\n",
    "    data.reset_index(drop=True, inplace=True)\n",
    "    scores_df.reset_index(drop=True, inplace=True)\n",
    "    data = pd.concat([data, scores_df], axis=1)\n",
    "    return data"
   ]
  },
  {
   "cell_type": "code",
   "execution_count": 6,
   "metadata": {},
   "outputs": [],
   "source": [
    "# def create_training_data(data : pd.DataFrame):\n",
    "#     scores = np.zeros((data[\"start_time_min\"].map(lambda t: t.date()).nunique(), 14))\n",
    "#     # scores[:, 0] = data[\"patient_id\"].iloc[0] # set first column to be patient id\n",
    "#     i = 0\n",
    "\n",
    "#     data = data.sort_values(by=[\"start_time_min\"])\n",
    "#     prevday = None\n",
    "#     curday_score = np.zeros((1,14))\n",
    "\n",
    "#     for idx, row in data.iterrows():\n",
    "#         curday = row[\"start_time_min\"].date()\n",
    "#         domains, domain_scores = process_row(row)\n",
    "\n",
    "#         # if curday is a different day than the previous day, set scores[i] to the curday scores, increment the counter\n",
    "#         if curday != prevday and prevday != None:\n",
    "#             scores[i] = curday_score\n",
    "#             i += 1\n",
    "#         # loop through the domains, update corresponding score in curdayscore\n",
    "#         for j in range(len(domains)):\n",
    "#             # print(j)\n",
    "#             curday_score[0, int(domains[j] - 1)] = domain_scores[j]\n",
    "#         # we finished the session, set prevday to curday\n",
    "#         prevday = curday\n",
    "    \n",
    "#     scores_df = pd.DataFrame(scores, columns=[\"domain %d score\" % i for i in range(1, 15)])\n",
    "#     scores_df.reset_index(drop=True, inplace=True)\n",
    "#     return scores_df"
   ]
  },
  {
   "cell_type": "code",
   "execution_count": 7,
   "metadata": {},
   "outputs": [],
   "source": [
    "data = df.groupby(\"patient_id\").apply(create_training_data, include_groups=False).reset_index(drop=True)"
   ]
  },
  {
   "cell_type": "code",
   "execution_count": 8,
   "metadata": {},
   "outputs": [],
   "source": [
    "model_data = data[[\"domain %d score\" % i for i in range(1, 15)]]"
   ]
  },
  {
   "cell_type": "code",
   "execution_count": 9,
   "metadata": {},
   "outputs": [],
   "source": [
    "def filter_nonzero_rows(df, max_zeros):\n",
    "    # Count number of zeros in each row\n",
    "    zeros_count = (df == 0).sum(axis=1)\n",
    "    \n",
    "    # Filter rows with at most max_zeros number of zeros\n",
    "    non_zero_rows = df[zeros_count <= max_zeros]\n",
    "    return non_zero_rows"
   ]
  },
  {
   "cell_type": "code",
   "execution_count": 10,
   "metadata": {},
   "outputs": [],
   "source": [
    "model_data = filter_nonzero_rows(model_data, 0) # second parameter is max number of zeros"
   ]
  },
  {
   "cell_type": "code",
   "execution_count": 11,
   "metadata": {},
   "outputs": [
    {
     "data": {
      "text/plain": [
       "(136131, 14)"
      ]
     },
     "execution_count": 11,
     "metadata": {},
     "output_type": "execute_result"
    }
   ],
   "source": [
    "model_data.shape"
   ]
  },
  {
   "cell_type": "code",
   "execution_count": 12,
   "metadata": {},
   "outputs": [],
   "source": [
    "train_data, test_data = train_test_split(model_data, test_size=0.25)"
   ]
  },
  {
   "cell_type": "code",
   "execution_count": 13,
   "metadata": {},
   "outputs": [
    {
     "data": {
      "text/plain": [
       "((102098, 14), (34033, 14))"
      ]
     },
     "execution_count": 13,
     "metadata": {},
     "output_type": "execute_result"
    }
   ],
   "source": [
    "train_data.shape, test_data.shape"
   ]
  },
  {
   "cell_type": "code",
   "execution_count": 14,
   "metadata": {},
   "outputs": [],
   "source": [
    "train_data = train_data.to_numpy()"
   ]
  },
  {
   "cell_type": "code",
   "execution_count": 15,
   "metadata": {},
   "outputs": [],
   "source": [
    "def generate_random_array(rows, cols, N):\n",
    "    if N > cols:\n",
    "        raise ValueError(\"N cannot be greater than the number of columns.\")\n",
    "    \n",
    "    # Create an array of ones with the desired shape\n",
    "    array = np.ones((rows, cols), dtype=int)\n",
    "    \n",
    "    # Randomly assign N zeros to each row\n",
    "    for i in range(rows):\n",
    "        indices = np.random.choice(cols, N, replace=False)\n",
    "        array[i, indices] = 0\n",
    "    \n",
    "    return array, array.shape[0] * N"
   ]
  },
  {
   "cell_type": "code",
   "execution_count": 16,
   "metadata": {},
   "outputs": [],
   "source": [
    "def generate_mask(data, N=10):\n",
    "    rows, cols = data.shape\n",
    "    assert(cols == 14)\n",
    "    mask, n_zeros = generate_random_array(rows, cols, N)\n",
    "    data = copy.deepcopy(data)\n",
    "    return data * mask, n_zeros, mask"
   ]
  },
  {
   "cell_type": "code",
   "execution_count": 17,
   "metadata": {},
   "outputs": [],
   "source": [
    "# take a numpy array for data, an int for dupe_n, return an array of shape (dupe_n * n_row, col) where\n",
    "# every ith matrix of shape (n_row, col), the data has i domains masked\n",
    "def generate_differently_masked_data(original_matrix, dupe_n=14):\n",
    "    n_row, n_col = original_matrix.shape\n",
    "    new_matrix = np.zeros((n_row * dupe_n, n_col), dtype=float)\n",
    "    new_ground_truth = np.zeros((n_row * dupe_n, n_col), dtype=float)\n",
    "    for i in range(dupe_n):\n",
    "        masked_matrix, _, _ = generate_mask(original_matrix, N = i)\n",
    "        new_matrix[i * n_row:(i + 1) * n_row, :] = masked_matrix\n",
    "        new_ground_truth[i * n_row:(i + 1) * n_row, :] = original_matrix\n",
    "    return new_matrix, new_ground_truth"
   ]
  },
  {
   "cell_type": "code",
   "execution_count": 18,
   "metadata": {},
   "outputs": [],
   "source": [
    "train_data, ground_truth = generate_differently_masked_data(train_data, dupe_n=14)"
   ]
  },
  {
   "cell_type": "code",
   "execution_count": 19,
   "metadata": {},
   "outputs": [],
   "source": [
    "def create_missing_indicator(data):\n",
    "    (l, w) = data.shape\n",
    "    temp = np.zeros((l, w*2))\n",
    "    for i in range(l):\n",
    "        for d in range(w):\n",
    "            p = data[i, d]\n",
    "            # update output array\n",
    "            if p == 0:\n",
    "                missing_ind = np.random.choice(2, 1)[0]\n",
    "                temp[i, d*2] = missing_ind\n",
    "                temp[i, d*2+1] = missing_ind\n",
    "            else:\n",
    "                temp[i, d*2] = p # score\n",
    "                temp[i, d*2+1] = 1-p # 1-score\n",
    "    return copy.deepcopy(temp)"
   ]
  },
  {
   "cell_type": "code",
   "execution_count": 20,
   "metadata": {},
   "outputs": [],
   "source": [
    "train_data = create_missing_indicator(train_data)\n",
    "ground_truth = create_missing_indicator(ground_truth)"
   ]
  },
  {
   "cell_type": "code",
   "execution_count": 21,
   "metadata": {},
   "outputs": [
    {
     "data": {
      "text/plain": [
       "((1429372, 28), (1429372, 28), (34033, 14))"
      ]
     },
     "execution_count": 21,
     "metadata": {},
     "output_type": "execute_result"
    }
   ],
   "source": [
    "train_data.shape, ground_truth.shape, test_data.shape"
   ]
  },
  {
   "cell_type": "markdown",
   "metadata": {},
   "source": [
    "Model"
   ]
  },
  {
   "cell_type": "code",
   "execution_count": 22,
   "metadata": {},
   "outputs": [],
   "source": [
    "class AE(torch.nn.Module):\n",
    "    def __init__(self):\n",
    "        super().__init__()\n",
    "        n_domains = 14\n",
    "        hidden1 = 100\n",
    "        hidden2 = 25\n",
    "        \n",
    "        self.model = torch.nn.Sequential(\n",
    "            torch.nn.Linear(n_domains * 2, hidden1),\n",
    "            torch.nn.Sigmoid(),\n",
    "            torch.nn.Linear(hidden1, hidden2),\n",
    "            torch.nn.Sigmoid(),\n",
    "            torch.nn.Linear(hidden2, hidden1),\n",
    "            torch.nn.Sigmoid(),\n",
    "            torch.nn.Linear(hidden1, n_domains * 2)\n",
    "        )\n",
    "\n",
    "    def forward(self, x):\n",
    "        return self.model(x)"
   ]
  },
  {
   "cell_type": "markdown",
   "metadata": {},
   "source": [
    "masking"
   ]
  },
  {
   "cell_type": "code",
   "execution_count": 23,
   "metadata": {},
   "outputs": [],
   "source": [
    "def missing(arr):\n",
    "    assert(len(arr) == 2)\n",
    "    # if two values are the same (the only three possible values pairs are (0, 0), (1, 1), and (0.5, 0.5) and only 0.5 isn't a missing indicator)\n",
    "    return arr[0] == arr[1] and (arr[0] == 0 or arr[0] == 1)"
   ]
  },
  {
   "cell_type": "markdown",
   "metadata": {},
   "source": [
    "Training"
   ]
  },
  {
   "cell_type": "code",
   "execution_count": 24,
   "metadata": {},
   "outputs": [],
   "source": [
    "def train_model(x_train, x_val,y_train, y_val, epochs, model, optimizer, loss_function):\n",
    "    outputs = []\n",
    "    losses = []\n",
    "    val_losses = []\n",
    "    w = 14 ## hardcoded\n",
    "\n",
    "    for epoch in range(epochs):\n",
    "        epoch_loss = []\n",
    "        val_epoch_loss = []\n",
    "        ## training\n",
    "        model.train()\n",
    "        for i in range(len(x_train)):\n",
    "            session = x_train[i]\n",
    "            # Output of Autoencoder\n",
    "            session_rs = session.reshape(-1, w * 2)\n",
    "            session_t = torch.from_numpy(session_rs).float()\n",
    "            reconstructed = model(session_t)\n",
    "            \n",
    "            # handle missing value\n",
    "            # missing_exists = False\n",
    "            # missing_domains = []\n",
    "            # for domain in range(w):\n",
    "            #     if missing(session[domain*2:domain*2+2]):\n",
    "            #         missing_exists = True\n",
    "            #         missing_domains.append(domain)\n",
    "            \n",
    "\n",
    "            target = copy.deepcopy(y_train[i].reshape(-1, w * 2))\n",
    "            # if missing_exists:\n",
    "            #     recon = reconstructed.detach().numpy()\n",
    "            #     for d in missing_domains:\n",
    "            #         target[0, d*2:d*2+2] = recon[0, d*2:d*2+2]\n",
    "            target = torch.from_numpy(target).float()\n",
    "\n",
    "\n",
    "            # Calculating the loss function\n",
    "            loss = loss_function(reconstructed, target)\n",
    "            \n",
    "            optimizer.zero_grad()\n",
    "            loss.backward()\n",
    "            optimizer.step()\n",
    "            \n",
    "            # Storing the losses in a list for plotting\n",
    "            epoch_loss.append(loss.item())\n",
    "\n",
    "        losses.append(statistics.mean(epoch_loss))\n",
    "        outputs.append((epochs, session_t, reconstructed))\n",
    "\n",
    "        ## validation\n",
    "        model.eval()\n",
    "        with torch.no_grad():\n",
    "            for k in range(len(x_val)):\n",
    "                val = x_val[k]\n",
    "                val_rs = val.reshape(-1, w * 2)\n",
    "                val_t = torch.from_numpy(val_rs)\n",
    "                val_t = val_t.clone().detach().type(torch.float32)\n",
    "                answer = model(val_t)\n",
    "                val_loss = loss_function(answer, torch.from_numpy(y_val[k].reshape(-1, w * 2)).type(torch.float32))\n",
    "                val_epoch_loss.append(val_loss.item())\n",
    "        val_losses.append(statistics.mean(val_epoch_loss))\n",
    "    return losses, val_losses, outputs, model"
   ]
  },
  {
   "cell_type": "code",
   "execution_count": 25,
   "metadata": {},
   "outputs": [],
   "source": [
    "num_runs = 1"
   ]
  },
  {
   "cell_type": "code",
   "execution_count": 26,
   "metadata": {},
   "outputs": [],
   "source": [
    "losses_2d = []\n",
    "val_losses_2d = []\n",
    "for i in range(num_runs):\n",
    "    model = AE()\n",
    "    epochs = 3\n",
    "    lr = 0.005\n",
    "\n",
    "    # Validation using MSE Loss function\n",
    "    loss_function = torch.nn.MSELoss()\n",
    "    \n",
    "    # Using an Adam Optimizer\n",
    "    optimizer = torch.optim.Adam(model.parameters(),\n",
    "                                lr = lr)\n",
    "    \n",
    "    x_train, x_val, y_train, y_val = train_test_split(train_data, ground_truth, test_size=0.50) # further splitting training set into train and validation\n",
    "    model.eval()\n",
    "    with torch.no_grad():\n",
    "        predictions = model(torch.from_numpy(x_train).float())\n",
    "        zero_loss = loss_function(predictions, torch.from_numpy(y_train).float())\n",
    "\n",
    "        predictions = model(torch.from_numpy(x_val).float())\n",
    "        zero_loss_val = loss_function(predictions, torch.from_numpy(y_val).float())\n",
    "    \n",
    "    losses, val_losses, outputs, model = train_model(x_train, x_val, y_train, y_val, epochs, model, optimizer, loss_function)\n",
    "    losses = [zero_loss.item()] + losses\n",
    "    val_losses = [zero_loss_val.item()] + val_losses\n",
    "    \n",
    "    losses_2d.append(losses)\n",
    "    val_losses_2d.append(val_losses)"
   ]
  },
  {
   "cell_type": "code",
   "execution_count": 27,
   "metadata": {},
   "outputs": [],
   "source": [
    "def plot_mean_and_std(data, color_choice=\"blue\", setting=\"\"):\n",
    "    \"\"\"\n",
    "    Plots the mean and standard deviation across multiple lists of data.\n",
    "    \n",
    "    Parameters:\n",
    "    - data (list of lists): A list where each element is a list of numbers.\n",
    "    \n",
    "    The function will compute the mean and standard deviation at each point\n",
    "    across the lists and plot these as a line for the mean and shading for the\n",
    "    standard deviation.\n",
    "    \"\"\"\n",
    "    # Convert data to a NumPy array for easier manipulation\n",
    "    data_array = np.array(data)\n",
    "    \n",
    "    # Calculate mean and standard deviation\n",
    "    means = np.mean(data_array, axis=0)\n",
    "    stds = np.std(data_array, axis=0)\n",
    "    # print(means, stds)\n",
    "    \n",
    "    # Create the x-axis values\n",
    "    x_values = np.arange(len(means))\n",
    "    \n",
    "    # Plotting\n",
    "    plt.plot(x_values, means, label='%s Mean' %setting, color=color_choice)  # Mean line\n",
    "    plt.fill_between(x_values, means - stds, means + stds, color=color_choice, alpha=0.2, label='%s Standard Deviation' % setting)\n",
    "    \n",
    "    plt.title('Mean and Standard Deviation Plot')\n",
    "    plt.xlabel('epochs')\n",
    "    plt.ylabel('loss')\n",
    "    plt.legend()\n",
    "    plt.grid(True)"
   ]
  },
  {
   "cell_type": "code",
   "execution_count": 28,
   "metadata": {},
   "outputs": [
    {
     "data": {
      "image/png": "[encoded data removed]",
      "text/plain": [
       "<Figure size 640x480 with 1 Axes>"
      ]
     },
     "metadata": {},
     "output_type": "display_data"
    }
   ],
   "source": [
    "# Plotting\n",
    "with torch.no_grad():\n",
    "    plot_mean_and_std(losses_2d, \"blue\", \"Training\")\n",
    "    plot_mean_and_std(val_losses_2d, \"orange\", \"Validation\")"
   ]
  },
  {
   "cell_type": "code",
   "execution_count": 29,
   "metadata": {},
   "outputs": [
    {
     "data": {
      "text/plain": [
       "array([0.52752489, 0.47242474, 0.51309727, 0.48617234, 0.68781155,\n",
       "       0.31308954, 0.48244543, 0.51883065, 0.39000678, 0.61024928,\n",
       "       0.57079741, 0.43055143, 0.54252114, 0.45722   , 0.62924828,\n",
       "       0.37116029, 0.4456596 , 0.55589633, 0.53666966, 0.46124411,\n",
       "       0.68750912, 0.31312892, 0.46381757, 0.53522956, 0.5628973 ,\n",
       "       0.43729019, 0.63455669, 0.36473111])"
      ]
     },
     "execution_count": 29,
     "metadata": {},
     "output_type": "execute_result"
    }
   ],
   "source": [
    "np.mean(x_train, axis=0)"
   ]
  },
  {
   "cell_type": "markdown",
   "metadata": {},
   "source": [
    "Error Plots"
   ]
  },
  {
   "cell_type": "code",
   "execution_count": 30,
   "metadata": {},
   "outputs": [],
   "source": [
    "## data average\n",
    "def impute_with_column_mean(data : pd.DataFrame):\n",
    "    \"\"\"\n",
    "    Imputes missing values (represented as 0) in a DataFrame with the mean of the non-zero values in the same column.\n",
    "\n",
    "    Parameters:\n",
    "    - data (pd.DataFrame): The DataFrame to impute.\n",
    "\n",
    "    Returns:\n",
    "    - pd.DataFrame: The DataFrame with missing values imputed using column means.\n",
    "    \"\"\"\n",
    "    # Replace '0' with NaN to handle them as missing values\n",
    "    imputed_data = data.replace(0, np.nan)\n",
    "    \n",
    "    # Calculate the mean of each column, ignoring NaNs\n",
    "    column_means = imputed_data.mean()\n",
    "    # replace the nans with 0 since that means there's no data at all for that column\n",
    "    column_means = column_means.replace(np.nan, 0)\n",
    "\n",
    "    \n",
    "    # Replace NaN values in each column with the mean of that column\n",
    "    imputed_data.fillna(column_means, inplace=True)\n",
    "\n",
    "    return imputed_data"
   ]
  },
  {
   "cell_type": "code",
   "execution_count": 31,
   "metadata": {},
   "outputs": [],
   "source": [
    "## known domain average\n",
    "def impute_with_row_average(data : pd.DataFrame):\n",
    "    \"\"\"\n",
    "    Imputes missing values (NaN) in a DataFrame with the average of the non-missing values in the same row.\n",
    "\n",
    "    Parameters:\n",
    "    - data (pd.DataFrame): The DataFrame to impute.\n",
    "\n",
    "    Returns:\n",
    "    - pd.DataFrame: The DataFrame with missing values imputed.\n",
    "    \"\"\"\n",
    "    # Create a copy of the DataFrame to avoid modifying the original data\n",
    "    imputed_data = data.copy()\n",
    "    # Replace '0' with NaN to handle them as missing values\n",
    "    imputed_data = data.replace(0, np.nan)\n",
    "\n",
    "    # Iterate over each row\n",
    "    for index, row in imputed_data.iterrows():\n",
    "        # Calculate the mean of the non-NaN values in the row\n",
    "        mean_value = row.mean()\n",
    "        if np.isnan(mean_value):\n",
    "            mean_value = 0\n",
    "\n",
    "        # Replace NaN values in the row with the calculated mean\n",
    "        imputed_data.loc[index] = row.fillna(mean_value)\n",
    "\n",
    "    return imputed_data"
   ]
  },
  {
   "cell_type": "code",
   "execution_count": 32,
   "metadata": {},
   "outputs": [],
   "source": [
    "# mode = other => impute by average of other domains, mode = data => impute by average of the data set\n",
    "def imputation(data, mode=\"\"):\n",
    "    if mode == \"other\":\n",
    "        return impute_with_row_average(data)\n",
    "    elif mode == \"data\":\n",
    "        return impute_with_column_mean(data)"
   ]
  },
  {
   "cell_type": "code",
   "execution_count": 33,
   "metadata": {},
   "outputs": [],
   "source": [
    "# get predictions from the model\n",
    "def predict(data, model):\n",
    "    model.eval()\n",
    "    data_t = torch.tensor(data, dtype=torch.float32)\n",
    "    with torch.no_grad():\n",
    "        return model(data_t).clone().detach().numpy()"
   ]
  },
  {
   "cell_type": "code",
   "execution_count": 34,
   "metadata": {},
   "outputs": [
    {
     "data": {
      "text/html": [
       "<div>\n",
       "<style scoped>\n",
       "    .dataframe tbody tr th:only-of-type {\n",
       "        vertical-align: middle;\n",
       "    }\n",
       "\n",
       "    .dataframe tbody tr th {\n",
       "        vertical-align: top;\n",
       "    }\n",
       "\n",
       "    .dataframe thead th {\n",
       "        text-align: right;\n",
       "    }\n",
       "</style>\n",
       "<table border=\"1\" class=\"dataframe\">\n",
       "  <thead>\n",
       "    <tr style=\"text-align: right;\">\n",
       "      <th></th>\n",
       "      <th>domain 1 score</th>\n",
       "      <th>domain 2 score</th>\n",
       "      <th>domain 3 score</th>\n",
       "      <th>domain 4 score</th>\n",
       "      <th>domain 5 score</th>\n",
       "      <th>domain 6 score</th>\n",
       "      <th>domain 7 score</th>\n",
       "      <th>domain 8 score</th>\n",
       "      <th>domain 9 score</th>\n",
       "      <th>domain 10 score</th>\n",
       "      <th>domain 11 score</th>\n",
       "      <th>domain 12 score</th>\n",
       "      <th>domain 13 score</th>\n",
       "      <th>domain 14 score</th>\n",
       "    </tr>\n",
       "  </thead>\n",
       "  <tbody>\n",
       "    <tr>\n",
       "      <th>871966</th>\n",
       "      <td>0.286</td>\n",
       "      <td>0.36</td>\n",
       "      <td>0.840</td>\n",
       "      <td>0.600</td>\n",
       "      <td>0.360</td>\n",
       "      <td>1.000</td>\n",
       "      <td>1.00</td>\n",
       "      <td>1.000</td>\n",
       "      <td>0.100</td>\n",
       "      <td>0.621</td>\n",
       "      <td>1.00</td>\n",
       "      <td>0.650</td>\n",
       "      <td>0.697</td>\n",
       "      <td>0.500</td>\n",
       "    </tr>\n",
       "    <tr>\n",
       "      <th>672559</th>\n",
       "      <td>0.357</td>\n",
       "      <td>0.46</td>\n",
       "      <td>0.733</td>\n",
       "      <td>0.243</td>\n",
       "      <td>0.100</td>\n",
       "      <td>0.295</td>\n",
       "      <td>0.15</td>\n",
       "      <td>0.050</td>\n",
       "      <td>0.170</td>\n",
       "      <td>0.350</td>\n",
       "      <td>0.96</td>\n",
       "      <td>0.321</td>\n",
       "      <td>0.685</td>\n",
       "      <td>0.667</td>\n",
       "    </tr>\n",
       "    <tr>\n",
       "      <th>757017</th>\n",
       "      <td>0.357</td>\n",
       "      <td>0.40</td>\n",
       "      <td>0.893</td>\n",
       "      <td>0.288</td>\n",
       "      <td>0.149</td>\n",
       "      <td>0.067</td>\n",
       "      <td>0.15</td>\n",
       "      <td>0.583</td>\n",
       "      <td>0.280</td>\n",
       "      <td>0.215</td>\n",
       "      <td>0.72</td>\n",
       "      <td>0.970</td>\n",
       "      <td>0.976</td>\n",
       "      <td>0.220</td>\n",
       "    </tr>\n",
       "    <tr>\n",
       "      <th>870727</th>\n",
       "      <td>0.929</td>\n",
       "      <td>0.25</td>\n",
       "      <td>0.840</td>\n",
       "      <td>0.571</td>\n",
       "      <td>0.420</td>\n",
       "      <td>0.832</td>\n",
       "      <td>0.88</td>\n",
       "      <td>1.000</td>\n",
       "      <td>0.310</td>\n",
       "      <td>0.671</td>\n",
       "      <td>1.00</td>\n",
       "      <td>0.550</td>\n",
       "      <td>0.945</td>\n",
       "      <td>0.500</td>\n",
       "    </tr>\n",
       "    <tr>\n",
       "      <th>520520</th>\n",
       "      <td>0.400</td>\n",
       "      <td>0.04</td>\n",
       "      <td>0.889</td>\n",
       "      <td>0.400</td>\n",
       "      <td>0.206</td>\n",
       "      <td>0.053</td>\n",
       "      <td>0.35</td>\n",
       "      <td>0.750</td>\n",
       "      <td>0.133</td>\n",
       "      <td>0.457</td>\n",
       "      <td>0.52</td>\n",
       "      <td>0.600</td>\n",
       "      <td>0.876</td>\n",
       "      <td>0.587</td>\n",
       "    </tr>\n",
       "    <tr>\n",
       "      <th>...</th>\n",
       "      <td>...</td>\n",
       "      <td>...</td>\n",
       "      <td>...</td>\n",
       "      <td>...</td>\n",
       "      <td>...</td>\n",
       "      <td>...</td>\n",
       "      <td>...</td>\n",
       "      <td>...</td>\n",
       "      <td>...</td>\n",
       "      <td>...</td>\n",
       "      <td>...</td>\n",
       "      <td>...</td>\n",
       "      <td>...</td>\n",
       "      <td>...</td>\n",
       "    </tr>\n",
       "    <tr>\n",
       "      <th>1368604</th>\n",
       "      <td>0.714</td>\n",
       "      <td>0.65</td>\n",
       "      <td>0.893</td>\n",
       "      <td>0.343</td>\n",
       "      <td>0.220</td>\n",
       "      <td>1.000</td>\n",
       "      <td>0.53</td>\n",
       "      <td>0.533</td>\n",
       "      <td>0.480</td>\n",
       "      <td>0.585</td>\n",
       "      <td>1.00</td>\n",
       "      <td>0.036</td>\n",
       "      <td>0.636</td>\n",
       "      <td>0.954</td>\n",
       "    </tr>\n",
       "    <tr>\n",
       "      <th>1023564</th>\n",
       "      <td>0.843</td>\n",
       "      <td>1.00</td>\n",
       "      <td>1.000</td>\n",
       "      <td>0.571</td>\n",
       "      <td>0.410</td>\n",
       "      <td>0.873</td>\n",
       "      <td>0.85</td>\n",
       "      <td>0.967</td>\n",
       "      <td>0.750</td>\n",
       "      <td>1.000</td>\n",
       "      <td>1.00</td>\n",
       "      <td>0.464</td>\n",
       "      <td>0.776</td>\n",
       "      <td>1.000</td>\n",
       "    </tr>\n",
       "    <tr>\n",
       "      <th>384171</th>\n",
       "      <td>0.671</td>\n",
       "      <td>1.00</td>\n",
       "      <td>1.000</td>\n",
       "      <td>0.886</td>\n",
       "      <td>0.491</td>\n",
       "      <td>1.000</td>\n",
       "      <td>0.79</td>\n",
       "      <td>1.000</td>\n",
       "      <td>0.854</td>\n",
       "      <td>0.779</td>\n",
       "      <td>0.80</td>\n",
       "      <td>0.460</td>\n",
       "      <td>0.806</td>\n",
       "      <td>0.940</td>\n",
       "    </tr>\n",
       "    <tr>\n",
       "      <th>1030971</th>\n",
       "      <td>0.971</td>\n",
       "      <td>0.90</td>\n",
       "      <td>1.000</td>\n",
       "      <td>0.528</td>\n",
       "      <td>0.300</td>\n",
       "      <td>0.916</td>\n",
       "      <td>0.75</td>\n",
       "      <td>0.967</td>\n",
       "      <td>0.530</td>\n",
       "      <td>0.836</td>\n",
       "      <td>1.00</td>\n",
       "      <td>0.579</td>\n",
       "      <td>0.848</td>\n",
       "      <td>1.000</td>\n",
       "    </tr>\n",
       "    <tr>\n",
       "      <th>58202</th>\n",
       "      <td>0.357</td>\n",
       "      <td>0.50</td>\n",
       "      <td>0.840</td>\n",
       "      <td>0.629</td>\n",
       "      <td>0.380</td>\n",
       "      <td>0.642</td>\n",
       "      <td>0.45</td>\n",
       "      <td>1.000</td>\n",
       "      <td>0.350</td>\n",
       "      <td>0.536</td>\n",
       "      <td>0.80</td>\n",
       "      <td>0.643</td>\n",
       "      <td>0.745</td>\n",
       "      <td>1.000</td>\n",
       "    </tr>\n",
       "  </tbody>\n",
       "</table>\n",
       "<p>34033 rows × 14 columns</p>\n",
       "</div>"
      ],
      "text/plain": [
       "         domain 1 score  domain 2 score  domain 3 score  domain 4 score  \\\n",
       "871966            0.286            0.36           0.840           0.600   \n",
       "672559            0.357            0.46           0.733           0.243   \n",
       "757017            0.357            0.40           0.893           0.288   \n",
       "870727            0.929            0.25           0.840           0.571   \n",
       "520520            0.400            0.04           0.889           0.400   \n",
       "...                 ...             ...             ...             ...   \n",
       "1368604           0.714            0.65           0.893           0.343   \n",
       "1023564           0.843            1.00           1.000           0.571   \n",
       "384171            0.671            1.00           1.000           0.886   \n",
       "1030971           0.971            0.90           1.000           0.528   \n",
       "58202             0.357            0.50           0.840           0.629   \n",
       "\n",
       "         domain 5 score  domain 6 score  domain 7 score  domain 8 score  \\\n",
       "871966            0.360           1.000            1.00           1.000   \n",
       "672559            0.100           0.295            0.15           0.050   \n",
       "757017            0.149           0.067            0.15           0.583   \n",
       "870727            0.420           0.832            0.88           1.000   \n",
       "520520            0.206           0.053            0.35           0.750   \n",
       "...                 ...             ...             ...             ...   \n",
       "1368604           0.220           1.000            0.53           0.533   \n",
       "1023564           0.410           0.873            0.85           0.967   \n",
       "384171            0.491           1.000            0.79           1.000   \n",
       "1030971           0.300           0.916            0.75           0.967   \n",
       "58202             0.380           0.642            0.45           1.000   \n",
       "\n",
       "         domain 9 score  domain 10 score  domain 11 score  domain 12 score  \\\n",
       "871966            0.100            0.621             1.00            0.650   \n",
       "672559            0.170            0.350             0.96            0.321   \n",
       "757017            0.280            0.215             0.72            0.970   \n",
       "870727            0.310            0.671             1.00            0.550   \n",
       "520520            0.133            0.457             0.52            0.600   \n",
       "...                 ...              ...              ...              ...   \n",
       "1368604           0.480            0.585             1.00            0.036   \n",
       "1023564           0.750            1.000             1.00            0.464   \n",
       "384171            0.854            0.779             0.80            0.460   \n",
       "1030971           0.530            0.836             1.00            0.579   \n",
       "58202             0.350            0.536             0.80            0.643   \n",
       "\n",
       "         domain 13 score  domain 14 score  \n",
       "871966             0.697            0.500  \n",
       "672559             0.685            0.667  \n",
       "757017             0.976            0.220  \n",
       "870727             0.945            0.500  \n",
       "520520             0.876            0.587  \n",
       "...                  ...              ...  \n",
       "1368604            0.636            0.954  \n",
       "1023564            0.776            1.000  \n",
       "384171             0.806            0.940  \n",
       "1030971            0.848            1.000  \n",
       "58202              0.745            1.000  \n",
       "\n",
       "[34033 rows x 14 columns]"
      ]
     },
     "execution_count": 34,
     "metadata": {},
     "output_type": "execute_result"
    }
   ],
   "source": [
    "test_data"
   ]
  },
  {
   "cell_type": "code",
   "execution_count": 47,
   "metadata": {},
   "outputs": [],
   "source": [
    "column_names = [\"domain %d score\" % i for i in range(1, 15)]\n",
    "accuracy_list_prediction_sq = []\n",
    "accuracy_list_knownimputation_sq = []\n",
    "accuracy_list_dataimputation_sq = []\n",
    "accuracy_list_prediction_abs = []\n",
    "accuracy_list_knownimputation_abs = []\n",
    "accuracy_list_dataimputation_abs = []"
   ]
  },
  {
   "cell_type": "code",
   "execution_count": 48,
   "metadata": {},
   "outputs": [],
   "source": [
    "def create_new_array_2d(ground_truth, prediction, masked):\n",
    "    # Ensure all arrays have the same shape\n",
    "    if ground_truth.shape != prediction.shape or prediction.shape != masked.shape:\n",
    "        raise ValueError(\"All arrays must have the same shape\")\n",
    "\n",
    "    # Initialize the new array with the same shape\n",
    "    new_array = np.empty_like(ground_truth)\n",
    "\n",
    "    # Iterate through each row\n",
    "    for i in range(ground_truth.shape[0]):\n",
    "        # Iterate through each pair of values in the row\n",
    "        for j in range(0, ground_truth.shape[1], 2):\n",
    "            pair_masked = masked[i, j:j+2]\n",
    "            # print(pair_masked)\n",
    "            # Check if the pair in the masked array is missing\n",
    "            if pair_masked[0] == pair_masked[1] and (pair_masked[0] == 1 or pair_masked[0] == 0):\n",
    "                # print(i, j, pair_masked)\n",
    "                # Use the corresponding pair from the prediction array\n",
    "                new_array[i, j:j+2] = prediction[i, j:j+2]\n",
    "            else:\n",
    "                # Use the corresponding pair from the ground truth array\n",
    "                new_array[i, j:j+2] = ground_truth[i, j:j+2]\n",
    "\n",
    "    return new_array"
   ]
  },
  {
   "cell_type": "code",
   "execution_count": 49,
   "metadata": {},
   "outputs": [],
   "source": [
    "def get_accuracy(y_pred, y_true, mask, fn : str):\n",
    "    mask = mask ^ 1\n",
    "    n_missing = np.sum(mask)\n",
    "    y_pred *= mask\n",
    "    y_true *= mask\n",
    "    diff = y_pred - y_true\n",
    "    if n_missing == 0: n_missing = 1\n",
    "    if fn == \"mse\":\n",
    "        # print(np.sum(np.power(diff, 2)))\n",
    "        return np.sum(np.power(diff, 2)) / n_missing\n",
    "    elif fn == \"mae\":\n",
    "        # print(np.sum(np.abs(diff)))\n",
    "        return np.sum(np.abs(diff)) / n_missing"
   ]
  },
  {
   "cell_type": "code",
   "execution_count": 50,
   "metadata": {},
   "outputs": [],
   "source": [
    "from scipy.stats import sem\n",
    "\n",
    "for masked_number in range(14):\n",
    "    # masked_ratio = masked_number / 14\n",
    "    ## create masked testing data so we can see how the model predicts and how imputation compares\n",
    "    masked_test_data, n_missing, mask = generate_mask(test_data[column_names].copy().to_numpy(), N=masked_number)\n",
    "    assert n_missing == masked_number * test_data.shape[0], \"n missing weird\"\n",
    "    assert n_missing == np.size(mask) - np.sum(mask), \"n missing weird\"\n",
    "\n",
    "    # impute \n",
    "    imputataion_data_data = imputation(pd.DataFrame(masked_test_data, columns=column_names), mode=\"data\").to_numpy()\n",
    "    imputataion_data_known = imputation(pd.DataFrame(masked_test_data, columns=column_names), mode=\"other\").to_numpy()\n",
    "    \n",
    "\n",
    "    # predict\n",
    "    masked_test_data = create_missing_indicator(masked_test_data)\n",
    "    predictions = predict(masked_test_data, model)[:, ::2]\n",
    "\n",
    "    ## get accuracy (abs)\n",
    "    original = test_data[column_names].copy().to_numpy()\n",
    "    assert original.shape == mask.shape and original.shape == predictions.shape and original.shape == imputataion_data_data.shape \\\n",
    "           and original.shape == imputataion_data_known.shape, \"shape weird\"\n",
    "    \n",
    "    accuracy_list_prediction_abs.append(get_accuracy(predictions, original, mask, \"mae\"))\n",
    "\n",
    "    accuracy_list_dataimputation_abs.append(get_accuracy(imputataion_data_data, original, mask, \"mae\"))\n",
    "\n",
    "    accuracy_list_knownimputation_abs.append(get_accuracy(imputataion_data_known, original, mask, \"mae\"))\n",
    "\n",
    "    ## get accuracy (sq)\n",
    "    accuracy_list_prediction_sq.append(get_accuracy(predictions, original, mask, \"mse\"))\n",
    "\n",
    "    accuracy_list_dataimputation_sq.append(get_accuracy(imputataion_data_data, original, mask, \"mse\"))\n",
    "\n",
    "    accuracy_list_knownimputation_sq.append(get_accuracy(imputataion_data_known, original, mask, \"mse\"))\n"
   ]
  },
  {
   "cell_type": "markdown",
   "metadata": {},
   "source": [
    "Visualization"
   ]
  },
  {
   "cell_type": "code",
   "execution_count": 51,
   "metadata": {},
   "outputs": [
    {
     "data": {
      "text/plain": [
       "(0.1872132265136353, 0.056614946402998766)"
      ]
     },
     "execution_count": 51,
     "metadata": {},
     "output_type": "execute_result"
    }
   ],
   "source": [
    "get_accuracy(predictions, original, mask, \"mae\"), get_accuracy(predictions, original, mask, \"mse\")"
   ]
  },
  {
   "cell_type": "code",
   "execution_count": 52,
   "metadata": {},
   "outputs": [
    {
     "data": {
      "text/plain": [
       "[0.0,\n",
       " 0.12791534573435384,\n",
       " 0.1309717378677403,\n",
       " 0.13378996861427359,\n",
       " 0.13721867908704866,\n",
       " 0.1407592434429973,\n",
       " 0.1448381979557257,\n",
       " 0.14909608653414846,\n",
       " 0.1533819682212057,\n",
       " 0.15853053348073926,\n",
       " 0.16379363402144648,\n",
       " 0.17019803538925665,\n",
       " 0.17699171276847736,\n",
       " 0.1872132265136353]"
      ]
     },
     "execution_count": 52,
     "metadata": {},
     "output_type": "execute_result"
    }
   ],
   "source": [
    "accuracy_list_prediction_abs"
   ]
  },
  {
   "cell_type": "code",
   "execution_count": 53,
   "metadata": {},
   "outputs": [
    {
     "data": {
      "text/plain": [
       "[0.0,\n",
       " 0.03005000584665748,\n",
       " 0.03226646146120575,\n",
       " 0.03459111759572159,\n",
       " 0.034894831827931114,\n",
       " 0.03711684809225415,\n",
       " 0.03772096795544278,\n",
       " 0.03985015080308733,\n",
       " 0.04246943190709063,\n",
       " 0.044221216257519895,\n",
       " 0.047027619359418356,\n",
       " 0.049239059971523814,\n",
       " 0.05170089498735091,\n",
       " 0.056614946402998766]"
      ]
     },
     "execution_count": 53,
     "metadata": {},
     "output_type": "execute_result"
    }
   ],
   "source": [
    "accuracy_list_prediction_sq"
   ]
  },
  {
   "cell_type": "code",
   "execution_count": 54,
   "metadata": {},
   "outputs": [
    {
     "data": {
      "text/plain": [
       "<matplotlib.legend.Legend at 0x351231a30>"
      ]
     },
     "execution_count": 54,
     "metadata": {},
     "output_type": "execute_result"
    },
    {
     "data": {
      "image/png": "[encoded data removed]",
      "text/plain": [
       "<Figure size 1200x1200 with 1 Axes>"
      ]
     },
     "metadata": {},
     "output_type": "display_data"
    }
   ],
   "source": [
    "fig = plt.figure(figsize=(12, 12))\n",
    "# plt.errorbar(range(0, 14), accuracy_list_prediction_sq, yerr=error_prediction_sq, label=\"prediction\", linewidth=3)\n",
    "# plt.errorbar(range(0, 14), accuracy_list_imputation_sq, yerr=error_imputation_sq, label=\"imputation\")\n",
    "\n",
    "x_values = range(0, 14)\n",
    "\n",
    "plt.plot(x_values, accuracy_list_prediction_sq, label=\"model\", marker=\"o\")\n",
    "plt.plot(x_values, accuracy_list_knownimputation_sq, label=\"imputation - known domains\", marker=\"o\")\n",
    "plt.plot(x_values, accuracy_list_dataimputation_sq, label=\"imputation - test set average\", marker=\"o\")\n",
    "\n",
    "for x, y1, y2, y3 in zip(x_values, accuracy_list_prediction_sq, accuracy_list_knownimputation_sq, accuracy_list_dataimputation_sq):\n",
    "    offset = 10\n",
    "\n",
    "    label = \"{:.4f}\".format(y1)\n",
    "    plt.annotate(label, # this is the text\n",
    "                (x,y1), # these are the coordinates to position the label\n",
    "                textcoords=\"offset points\", # how to position the text\n",
    "                xytext=(0,offset), # distance from text to points (x,y)\n",
    "                ha='center') # horizontal alignment can be left, right or center\n",
    "    \n",
    "    label = \"{:.4f}\".format(y2)\n",
    "    plt.annotate(label, # this is the text\n",
    "                (x,y2), # these are the coordinates to position the label\n",
    "                textcoords=\"offset points\", # how to position the text\n",
    "                xytext=(0,offset), # distance from text to points (x,y)\n",
    "                ha='center') # horizontal alignment can be left, right or center\n",
    "    \n",
    "    label = \"{:.4f}\".format(y3)\n",
    "    plt.annotate(label, # this is the text\n",
    "                (x,y3), # these are the coordinates to position the label\n",
    "                textcoords=\"offset points\", # how to position the text\n",
    "                xytext=(0,offset), # distance from text to points (x,y)\n",
    "                ha='center') # horizontal alignment can be left, right or center\n",
    "\n",
    "\n",
    "\n",
    "plt.xlabel(\"number of masked domains\")\n",
    "plt.ylabel(\"mean squared error\")\n",
    "plt.title(\"Mean squared error vs number of masked domains\")\n",
    "plt.legend()"
   ]
  },
  {
   "cell_type": "code",
   "execution_count": 55,
   "metadata": {},
   "outputs": [
    {
     "data": {
      "text/plain": [
       "<matplotlib.legend.Legend at 0x34ff01ee0>"
      ]
     },
     "execution_count": 55,
     "metadata": {},
     "output_type": "execute_result"
    },
    {
     "data": {
      "image/png": "[encoded data removed]",
      "text/plain": [
       "<Figure size 1200x1200 with 1 Axes>"
      ]
     },
     "metadata": {},
     "output_type": "display_data"
    }
   ],
   "source": [
    "fig = plt.figure(figsize=(12, 12))\n",
    "# plt.errorbar(range(0, 14), accuracy_list_prediction_abs, yerr=error_prediction_abs, label=\"prediction\", linewidth=3)\n",
    "# plt.errorbar(range(0, 14), accuracy_list_imputation_abs, yerr=error_imputation_abs, label=\"imputation\")\n",
    "x_values = range(0, 14)\n",
    "\n",
    "plt.plot(x_values, accuracy_list_prediction_abs, label=\"model\", marker=\"o\")\n",
    "plt.plot(x_values, accuracy_list_knownimputation_abs, label=\"imputation - known domains\", marker=\"o\")\n",
    "plt.plot(x_values, accuracy_list_dataimputation_abs, label=\"imputation - test set average\", marker=\"o\")\n",
    "\n",
    "for x, y1, y2, y3 in zip(x_values, accuracy_list_prediction_abs, accuracy_list_knownimputation_abs, accuracy_list_dataimputation_abs):\n",
    "    offset = 10\n",
    "\n",
    "    label = \"{:.4f}\".format(y1)\n",
    "    plt.annotate(label, # this is the text\n",
    "                (x,y1), # these are the coordinates to position the label\n",
    "                textcoords=\"offset points\", # how to position the text\n",
    "                xytext=(0,offset), # distance from text to points (x,y)\n",
    "                ha='center') # horizontal alignment can be left, right or center\n",
    "    \n",
    "    label = \"{:.4f}\".format(y2)\n",
    "    plt.annotate(label, # this is the text\n",
    "                (x,y2), # these are the coordinates to position the label\n",
    "                textcoords=\"offset points\", # how to position the text\n",
    "                xytext=(0,offset), # distance from text to points (x,y)\n",
    "                ha='center') # horizontal alignment can be left, right or center\n",
    "    \n",
    "    label = \"{:.4f}\".format(y3)\n",
    "    plt.annotate(label, # this is the text\n",
    "                (x,y3), # these are the coordinates to position the label\n",
    "                textcoords=\"offset points\", # how to position the text\n",
    "                xytext=(0,offset), # distance from text to points (x,y)\n",
    "                ha='center') # horizontal alignment can be left, right or center\n",
    "\n",
    "plt.xlabel(\"number of masked domains\")\n",
    "plt.ylabel(\"mean absolute error\")\n",
    "plt.title(\"Mean absolute erorr vs number of masked domains\")\n",
    "plt.legend()"
   ]
  },
  {
   "cell_type": "code",
   "execution_count": 56,
   "metadata": {},
   "outputs": [],
   "source": [
    "# torch.save(model.state_dict(), \"model/base_quant01.pth\")"
   ]
  },
  {
   "cell_type": "code",
   "execution_count": 57,
   "metadata": {},
   "outputs": [
    {
     "data": {
      "text/html": [
       "<div>\n",
       "<style scoped>\n",
       "    .dataframe tbody tr th:only-of-type {\n",
       "        vertical-align: middle;\n",
       "    }\n",
       "\n",
       "    .dataframe tbody tr th {\n",
       "        vertical-align: top;\n",
       "    }\n",
       "\n",
       "    .dataframe thead th {\n",
       "        text-align: right;\n",
       "    }\n",
       "</style>\n",
       "<table border=\"1\" class=\"dataframe\">\n",
       "  <thead>\n",
       "    <tr style=\"text-align: right;\">\n",
       "      <th></th>\n",
       "      <th>domain 1 score</th>\n",
       "      <th>domain 2 score</th>\n",
       "      <th>domain 3 score</th>\n",
       "      <th>domain 4 score</th>\n",
       "      <th>domain 5 score</th>\n",
       "      <th>domain 6 score</th>\n",
       "      <th>domain 7 score</th>\n",
       "      <th>domain 8 score</th>\n",
       "      <th>domain 9 score</th>\n",
       "      <th>domain 10 score</th>\n",
       "      <th>domain 11 score</th>\n",
       "      <th>domain 12 score</th>\n",
       "      <th>domain 13 score</th>\n",
       "      <th>domain 14 score</th>\n",
       "    </tr>\n",
       "  </thead>\n",
       "  <tbody>\n",
       "    <tr>\n",
       "      <th>871966</th>\n",
       "      <td>0.286</td>\n",
       "      <td>0.36</td>\n",
       "      <td>0.840</td>\n",
       "      <td>0.600</td>\n",
       "      <td>0.360</td>\n",
       "      <td>1.000</td>\n",
       "      <td>1.00</td>\n",
       "      <td>1.000</td>\n",
       "      <td>0.100</td>\n",
       "      <td>0.621</td>\n",
       "      <td>1.00</td>\n",
       "      <td>0.650</td>\n",
       "      <td>0.697</td>\n",
       "      <td>0.500</td>\n",
       "    </tr>\n",
       "    <tr>\n",
       "      <th>672559</th>\n",
       "      <td>0.357</td>\n",
       "      <td>0.46</td>\n",
       "      <td>0.733</td>\n",
       "      <td>0.243</td>\n",
       "      <td>0.100</td>\n",
       "      <td>0.295</td>\n",
       "      <td>0.15</td>\n",
       "      <td>0.050</td>\n",
       "      <td>0.170</td>\n",
       "      <td>0.350</td>\n",
       "      <td>0.96</td>\n",
       "      <td>0.321</td>\n",
       "      <td>0.685</td>\n",
       "      <td>0.667</td>\n",
       "    </tr>\n",
       "    <tr>\n",
       "      <th>757017</th>\n",
       "      <td>0.357</td>\n",
       "      <td>0.40</td>\n",
       "      <td>0.893</td>\n",
       "      <td>0.288</td>\n",
       "      <td>0.149</td>\n",
       "      <td>0.067</td>\n",
       "      <td>0.15</td>\n",
       "      <td>0.583</td>\n",
       "      <td>0.280</td>\n",
       "      <td>0.215</td>\n",
       "      <td>0.72</td>\n",
       "      <td>0.970</td>\n",
       "      <td>0.976</td>\n",
       "      <td>0.220</td>\n",
       "    </tr>\n",
       "    <tr>\n",
       "      <th>870727</th>\n",
       "      <td>0.929</td>\n",
       "      <td>0.25</td>\n",
       "      <td>0.840</td>\n",
       "      <td>0.571</td>\n",
       "      <td>0.420</td>\n",
       "      <td>0.832</td>\n",
       "      <td>0.88</td>\n",
       "      <td>1.000</td>\n",
       "      <td>0.310</td>\n",
       "      <td>0.671</td>\n",
       "      <td>1.00</td>\n",
       "      <td>0.550</td>\n",
       "      <td>0.945</td>\n",
       "      <td>0.500</td>\n",
       "    </tr>\n",
       "    <tr>\n",
       "      <th>520520</th>\n",
       "      <td>0.400</td>\n",
       "      <td>0.04</td>\n",
       "      <td>0.889</td>\n",
       "      <td>0.400</td>\n",
       "      <td>0.206</td>\n",
       "      <td>0.053</td>\n",
       "      <td>0.35</td>\n",
       "      <td>0.750</td>\n",
       "      <td>0.133</td>\n",
       "      <td>0.457</td>\n",
       "      <td>0.52</td>\n",
       "      <td>0.600</td>\n",
       "      <td>0.876</td>\n",
       "      <td>0.587</td>\n",
       "    </tr>\n",
       "    <tr>\n",
       "      <th>...</th>\n",
       "      <td>...</td>\n",
       "      <td>...</td>\n",
       "      <td>...</td>\n",
       "      <td>...</td>\n",
       "      <td>...</td>\n",
       "      <td>...</td>\n",
       "      <td>...</td>\n",
       "      <td>...</td>\n",
       "      <td>...</td>\n",
       "      <td>...</td>\n",
       "      <td>...</td>\n",
       "      <td>...</td>\n",
       "      <td>...</td>\n",
       "      <td>...</td>\n",
       "    </tr>\n",
       "    <tr>\n",
       "      <th>1368604</th>\n",
       "      <td>0.714</td>\n",
       "      <td>0.65</td>\n",
       "      <td>0.893</td>\n",
       "      <td>0.343</td>\n",
       "      <td>0.220</td>\n",
       "      <td>1.000</td>\n",
       "      <td>0.53</td>\n",
       "      <td>0.533</td>\n",
       "      <td>0.480</td>\n",
       "      <td>0.585</td>\n",
       "      <td>1.00</td>\n",
       "      <td>0.036</td>\n",
       "      <td>0.636</td>\n",
       "      <td>0.954</td>\n",
       "    </tr>\n",
       "    <tr>\n",
       "      <th>1023564</th>\n",
       "      <td>0.843</td>\n",
       "      <td>1.00</td>\n",
       "      <td>1.000</td>\n",
       "      <td>0.571</td>\n",
       "      <td>0.410</td>\n",
       "      <td>0.873</td>\n",
       "      <td>0.85</td>\n",
       "      <td>0.967</td>\n",
       "      <td>0.750</td>\n",
       "      <td>1.000</td>\n",
       "      <td>1.00</td>\n",
       "      <td>0.464</td>\n",
       "      <td>0.776</td>\n",
       "      <td>1.000</td>\n",
       "    </tr>\n",
       "    <tr>\n",
       "      <th>384171</th>\n",
       "      <td>0.671</td>\n",
       "      <td>1.00</td>\n",
       "      <td>1.000</td>\n",
       "      <td>0.886</td>\n",
       "      <td>0.491</td>\n",
       "      <td>1.000</td>\n",
       "      <td>0.79</td>\n",
       "      <td>1.000</td>\n",
       "      <td>0.854</td>\n",
       "      <td>0.779</td>\n",
       "      <td>0.80</td>\n",
       "      <td>0.460</td>\n",
       "      <td>0.806</td>\n",
       "      <td>0.940</td>\n",
       "    </tr>\n",
       "    <tr>\n",
       "      <th>1030971</th>\n",
       "      <td>0.971</td>\n",
       "      <td>0.90</td>\n",
       "      <td>1.000</td>\n",
       "      <td>0.528</td>\n",
       "      <td>0.300</td>\n",
       "      <td>0.916</td>\n",
       "      <td>0.75</td>\n",
       "      <td>0.967</td>\n",
       "      <td>0.530</td>\n",
       "      <td>0.836</td>\n",
       "      <td>1.00</td>\n",
       "      <td>0.579</td>\n",
       "      <td>0.848</td>\n",
       "      <td>1.000</td>\n",
       "    </tr>\n",
       "    <tr>\n",
       "      <th>58202</th>\n",
       "      <td>0.357</td>\n",
       "      <td>0.50</td>\n",
       "      <td>0.840</td>\n",
       "      <td>0.629</td>\n",
       "      <td>0.380</td>\n",
       "      <td>0.642</td>\n",
       "      <td>0.45</td>\n",
       "      <td>1.000</td>\n",
       "      <td>0.350</td>\n",
       "      <td>0.536</td>\n",
       "      <td>0.80</td>\n",
       "      <td>0.643</td>\n",
       "      <td>0.745</td>\n",
       "      <td>1.000</td>\n",
       "    </tr>\n",
       "  </tbody>\n",
       "</table>\n",
       "<p>34033 rows × 14 columns</p>\n",
       "</div>"
      ],
      "text/plain": [
       "         domain 1 score  domain 2 score  domain 3 score  domain 4 score  \\\n",
       "871966            0.286            0.36           0.840           0.600   \n",
       "672559            0.357            0.46           0.733           0.243   \n",
       "757017            0.357            0.40           0.893           0.288   \n",
       "870727            0.929            0.25           0.840           0.571   \n",
       "520520            0.400            0.04           0.889           0.400   \n",
       "...                 ...             ...             ...             ...   \n",
       "1368604           0.714            0.65           0.893           0.343   \n",
       "1023564           0.843            1.00           1.000           0.571   \n",
       "384171            0.671            1.00           1.000           0.886   \n",
       "1030971           0.971            0.90           1.000           0.528   \n",
       "58202             0.357            0.50           0.840           0.629   \n",
       "\n",
       "         domain 5 score  domain 6 score  domain 7 score  domain 8 score  \\\n",
       "871966            0.360           1.000            1.00           1.000   \n",
       "672559            0.100           0.295            0.15           0.050   \n",
       "757017            0.149           0.067            0.15           0.583   \n",
       "870727            0.420           0.832            0.88           1.000   \n",
       "520520            0.206           0.053            0.35           0.750   \n",
       "...                 ...             ...             ...             ...   \n",
       "1368604           0.220           1.000            0.53           0.533   \n",
       "1023564           0.410           0.873            0.85           0.967   \n",
       "384171            0.491           1.000            0.79           1.000   \n",
       "1030971           0.300           0.916            0.75           0.967   \n",
       "58202             0.380           0.642            0.45           1.000   \n",
       "\n",
       "         domain 9 score  domain 10 score  domain 11 score  domain 12 score  \\\n",
       "871966            0.100            0.621             1.00            0.650   \n",
       "672559            0.170            0.350             0.96            0.321   \n",
       "757017            0.280            0.215             0.72            0.970   \n",
       "870727            0.310            0.671             1.00            0.550   \n",
       "520520            0.133            0.457             0.52            0.600   \n",
       "...                 ...              ...              ...              ...   \n",
       "1368604           0.480            0.585             1.00            0.036   \n",
       "1023564           0.750            1.000             1.00            0.464   \n",
       "384171            0.854            0.779             0.80            0.460   \n",
       "1030971           0.530            0.836             1.00            0.579   \n",
       "58202             0.350            0.536             0.80            0.643   \n",
       "\n",
       "         domain 13 score  domain 14 score  \n",
       "871966             0.697            0.500  \n",
       "672559             0.685            0.667  \n",
       "757017             0.976            0.220  \n",
       "870727             0.945            0.500  \n",
       "520520             0.876            0.587  \n",
       "...                  ...              ...  \n",
       "1368604            0.636            0.954  \n",
       "1023564            0.776            1.000  \n",
       "384171             0.806            0.940  \n",
       "1030971            0.848            1.000  \n",
       "58202              0.745            1.000  \n",
       "\n",
       "[34033 rows x 14 columns]"
      ]
     },
     "execution_count": 57,
     "metadata": {},
     "output_type": "execute_result"
    }
   ],
   "source": [
    "test_data"
   ]
  },
  {
   "cell_type": "code",
   "execution_count": 58,
   "metadata": {},
   "outputs": [
    {
     "data": {
      "text/plain": [
       "domain 1 score     0.550699\n",
       "domain 2 score     0.524613\n",
       "domain 3 score     0.848463\n",
       "domain 4 score     0.464923\n",
       "domain 5 score     0.291666\n",
       "domain 6 score     0.629754\n",
       "domain 7 score     0.577523\n",
       "domain 8 score     0.742393\n",
       "domain 9 score     0.395835\n",
       "domain 10 score    0.571449\n",
       "domain 11 score    0.848380\n",
       "domain 12 score    0.430873\n",
       "domain 13 score    0.615884\n",
       "domain 14 score    0.753106\n",
       "dtype: float64"
      ]
     },
     "execution_count": 58,
     "metadata": {},
     "output_type": "execute_result"
    }
   ],
   "source": [
    "test_data.mean()"
   ]
  },
  {
   "cell_type": "code",
   "execution_count": 59,
   "metadata": {},
   "outputs": [],
   "source": [
    "torch.save(model, \"model/iter2.pt\")"
   ]
  }
 ],
 "metadata": {
  "kernelspec": {
   "display_name": "ct",
   "language": "python",
   "name": "python3"
  },
  "language_info": {
   "codemirror_mode": {
    "name": "ipython",
    "version": 3
   },
   "file_extension": ".py",
   "mimetype": "text/x-python",
   "name": "python",
   "nbconvert_exporter": "python",
   "pygments_lexer": "ipython3",
   "version": "3.9.19"
  }
 },
 "nbformat": 4,
 "nbformat_minor": 2
}
