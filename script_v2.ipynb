{
 "cells": [
  {
   "cell_type": "code",
   "execution_count": 1,
   "metadata": {},
   "outputs": [],
   "source": [
    "import pandas as pd\n",
    "import numpy as np\n",
    "import matplotlib.pyplot as plt\n",
    "import seaborn as sns\n",
    "from helper import *"
   ]
  },
  {
   "cell_type": "code",
   "execution_count": 2,
   "metadata": {},
   "outputs": [
    {
     "name": "stderr",
     "output_type": "stream",
     "text": [
      "2023-04-18 15:58:07,957| ERROR   | Password is required for key /home/chloe/.ssh/id_rsa\n"
     ]
    },
    {
     "name": "stdout",
     "output_type": "stream",
     "text": [
      "Connection Successful\n"
     ]
    }
   ],
   "source": [
    "from connection import *\n",
    "\n",
    "con = connect()"
   ]
  },
  {
   "cell_type": "code",
   "execution_count": 3,
   "metadata": {},
   "outputs": [],
   "source": [
    "query_1 = '''\n",
    "select * from constant_therapy.context_action_dis\n",
    "'''\n",
    "data1 = SQL(query_1, con)"
   ]
  },
  {
   "cell_type": "code",
   "execution_count": null,
   "metadata": {},
   "outputs": [],
   "source": [
    "dis1def1.nunique()"
   ]
  },
  {
   "cell_type": "code",
   "execution_count": null,
   "metadata": {},
   "outputs": [],
   "source": [
    "dis1def1[\"condition_since\"] = dis1def1[\"condition_since\"].apply(time_convert)\n",
    "sns.boxplot(data=dis1def1.drop_duplicates(subset=\"patient_id\"), x=\"condition_since\")"
   ]
  },
  {
   "cell_type": "code",
   "execution_count": null,
   "metadata": {},
   "outputs": [],
   "source": [
    "sns.histplot(data=dis1def1.drop_duplicates(subset=\"patient_id\"), x=\"birth_year\")"
   ]
  },
  {
   "cell_type": "code",
   "execution_count": null,
   "metadata": {},
   "outputs": [],
   "source": [
    "dis1def1.groupby(\"task_type_id\").size().plot.pie()"
   ]
  },
  {
   "cell_type": "code",
   "execution_count": null,
   "metadata": {},
   "outputs": [],
   "source": [
    "query_1 = '''\n",
    "select sess.id, sess.patient_id, sess.task_type_id, sess.task_level, sess.completed_task_count, sess.accuracy, tp.domain_id, ps.condition_since, ps.birth_year, dis.disorder_id,\n",
    "DATE(sess.start_time) AS start_time, sess.start_time AS start_time_min, DATE(sess.end_time) AS end_time, sess.end_time as end_time_min\n",
    "from constant_therapy.sessions sess\n",
    "join (\n",
    "select domain_id, task_type_id, task_level from constant_therapy.task_progression\n",
    ") tp on tp.task_type_id = sess.task_type_id and tp.task_level = sess.task_level\n",
    "join (\n",
    "select user_id, id, condition_since, age_group, birth_year, usertype, created_date, subscription_status from ct_customer.customers\n",
    ") ps on ps.user_id = sess.patient_id\n",
    "join (\n",
    "select customer_id, deficit_id from ct_customer.customers_to_deficits\n",
    ") def on def.customer_id = ps.id\n",
    "join (\n",
    "select customer_id, disorder_id from ct_customer.customers_to_disorders\n",
    ") dis on dis.customer_id = ps.id\n",
    "where (sess.accuracy is not null) and (ps.condition_since is not null) and (ps.birth_year is not null) and (ps.birth_year <> 0) and (ps.usertype = \"patient\") and DATE(ps.created_date) >= '2016-10-04'\n",
    "and (ps.subscription_status IN ('flex', 'grandfathered', 'scholarship', 'expired', 'paying', 'veteran', 'active')) and (sess.type = \"scheduled\")\n",
    "and (dis.disorder_id = 1) and (def.deficit_id = 1);\n",
    "'''\n",
    "dis1def1 = SQL(query_1, con)"
   ]
  }
 ],
 "metadata": {
  "kernelspec": {
   "display_name": "Python 3",
   "language": "python",
   "name": "python3"
  },
  "language_info": {
   "codemirror_mode": {
    "name": "ipython",
    "version": 3
   },
   "file_extension": ".py",
   "mimetype": "text/x-python",
   "name": "python",
   "nbconvert_exporter": "python",
   "pygments_lexer": "ipython3",
   "version": "3.10.6"
  },
  "orig_nbformat": 4
 },
 "nbformat": 4,
 "nbformat_minor": 2
}
