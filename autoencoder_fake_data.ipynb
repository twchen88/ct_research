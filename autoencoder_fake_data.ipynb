{
 "cells": [
  {
   "cell_type": "code",
   "execution_count": 63,
   "metadata": {},
   "outputs": [],
   "source": [
    "## import packages and helper functions\n",
    "import numpy as np\n",
    "import pandas as pd\n",
    "import matplotlib.pyplot as plt\n",
    "import seaborn as sns\n",
    "import sklearn\n",
    "import keras\n",
    "import tensorflow as tf\n",
    "\n",
    "from helper import *\n",
    "from connection import *"
   ]
  },
  {
   "cell_type": "markdown",
   "metadata": {},
   "source": [
    "# build training data"
   ]
  },
  {
   "cell_type": "code",
   "execution_count": 64,
   "metadata": {},
   "outputs": [],
   "source": [
    "# import data\n",
    "df = pd.read_csv(\"data/test_dataset_no_missing_2.csv\")\n",
    "data = df.to_numpy()"
   ]
  },
  {
   "cell_type": "code",
   "execution_count": 65,
   "metadata": {},
   "outputs": [
    {
     "data": {
      "text/plain": [
       "array([[0.78208023, 0.21791977, 0.3816844 , 0.6183156 ],\n",
       "       [0.39358905, 0.60641095, 0.31200055, 0.68799945],\n",
       "       [0.0572248 , 0.9427752 , 0.78475412, 0.21524588],\n",
       "       ...,\n",
       "       [0.25542948, 0.74457052, 0.88261002, 0.11738998],\n",
       "       [0.6164064 , 0.3835936 , 0.15777525, 0.84222475],\n",
       "       [0.89770934, 0.10229066, 0.6429232 , 0.3570768 ]])"
      ]
     },
     "execution_count": 65,
     "metadata": {},
     "output_type": "execute_result"
    }
   ],
   "source": [
    "(l, w) = data.shape\n",
    "x_train = np.zeros((l, w*2))\n",
    "for i in range(l):\n",
    "    for d in range(w):\n",
    "        p = data[i, d]\n",
    "        # update output array\n",
    "        if p == 0: \n",
    "            x_train[i, d*2] = p # 0 score\n",
    "            x_train[i, d*2+1] = p # missing indicator\n",
    "        else:\n",
    "            x_train[i, d*2] = p # score\n",
    "            x_train[i, d*2+1] = 1-p # 1-score\n",
    "x_train"
   ]
  },
  {
   "cell_type": "code",
   "execution_count": 66,
   "metadata": {},
   "outputs": [],
   "source": [
    "from sklearn.metrics import mean_squared_error\n",
    "\n",
    "# @tf.function\n",
    "def custom_mse(y_true, y_pred):\n",
    "    # print(\"here\")\n",
    "    # ground = np.zeros(y_true.shape)\n",
    "    # pred = y_pred.numpy()\n",
    "    # n_domain = 2\n",
    "    # for row in range(len(ground)):\n",
    "    #     for i in range(n_domain):\n",
    "    #         if y_true[row, i*2] == 0 and y_true[row, i*2+1] == 0:\n",
    "    #             print(\"here\")\n",
    "    #             ground[row, i*2] = pred[row, i*2] + 0.1\n",
    "    #             ground[row, i*2+1] = pred[row, i*2+1] + 0.1\n",
    "    #         else:\n",
    "    #             ground[row, i*2] = y_true[row, i*2]\n",
    "    #             ground[row, i*2+1] = y_true[row, i*2+1]\n",
    "    \n",
    "    # print(mse)\n",
    "    with tf.GradientTape() as tape:\n",
    "        mse = mean_squared_error(y_pred, y_true)\n",
    "        \n",
    "    grads = tape.gradient(mse, y_true)\n",
    "\topt.apply_gradients(zip(grads, y_true))\n",
    "    return mse\n",
    "    # ground = tf.TensorArray(tf.int32, size=0, dynamic_size=True)\n",
    "    # pred = tf.TensorArray(tf.int32, size=0, dynamic_size=True)\n",
    "    # n_domain = 2\n",
    "    # for row in range(len(y_true)):\n",
    "    #     new_row = []\n",
    "    #     for i in range(n_domain):\n",
    "    #         # if missing, then modify target\n",
    "    #         if y_true[row, i*2] == 0 and y_true[row, i*2+1] == 0:\n",
    "    #             new_row.append(y_pred[row, i*2])\n",
    "    #             new_row.append(y_pred[row, i*2+1])\n",
    "    #         else:\n",
    "    #             new_row.append(y_true[row, i*2])\n",
    "    #             new_row.append(y_true[row, i*2+1])\n",
    "    #     ground = ground.write(row, new_row)\n",
    "    #     pred = pred.write(row, y_pred[row])\n",
    "\n",
    "    # # ground = tf.convert_to_tensor(ground)\n",
    "    # # pred = tf.convert_to_tensor(pred)\n",
    "    # print(pred)\n",
    "    # print(ground)\n",
    "\n",
    "    # return tf.reduce_mean(tf.math.squared_difference(tf.cast(pred, tf.float32), tf.cast(ground, tf.float32)))"
   ]
  },
  {
   "cell_type": "markdown",
   "metadata": {},
   "source": [
    "# Simple Autoencoder"
   ]
  },
  {
   "cell_type": "code",
   "execution_count": 67,
   "metadata": {},
   "outputs": [],
   "source": [
    "## build autoencoder\n",
    "from keras import layers\n",
    "\n",
    "n_domain = w # number of domains\n",
    "\n",
    "encoding_dim = 1\n",
    "## input n_domain * 2 to represent missing values\n",
    "input_layer = keras.Input(shape=(n_domain * 2,))\n",
    "encode_layer = layers.Dense(encoding_dim, activation=\"relu\")(input_layer)\n",
    "decode_layer = layers.Dense(n_domain * 2, activation=\"sigmoid\")(encode_layer)\n",
    "\n",
    "autoencoder = keras.Model(input_layer, decode_layer)"
   ]
  },
  {
   "cell_type": "code",
   "execution_count": 68,
   "metadata": {},
   "outputs": [],
   "source": [
    "# build encoder and decoder model\n",
    "encoder = keras.Model(input_layer, encode_layer)\n",
    "encoded_input = keras.Input(shape=(encoding_dim,))\n",
    "decode_layer = autoencoder.layers[-1]\n",
    "decoder = keras.Model(encoded_input, decode_layer(encoded_input))"
   ]
  },
  {
   "cell_type": "code",
   "execution_count": 69,
   "metadata": {},
   "outputs": [],
   "source": [
    "# compile with optimizer and loss function\n",
    "autoencoder.compile(optimizer=\"adam\", loss=custom_mse, run_eagerly=True)"
   ]
  },
  {
   "cell_type": "markdown",
   "metadata": {},
   "source": [
    "### Training"
   ]
  },
  {
   "cell_type": "code",
   "execution_count": 70,
   "metadata": {},
   "outputs": [],
   "source": [
    "from sklearn.model_selection import train_test_split\n",
    "x_train, x_test = train_test_split(x_train, test_size=0.20, random_state=42)\n",
    "x_train, x_val = train_test_split(x_train, test_size=0.25, random_state=42)"
   ]
  },
  {
   "cell_type": "code",
   "execution_count": 71,
   "metadata": {},
   "outputs": [],
   "source": [
    "test_case = np.array([[0, 0, 1, 0]])"
   ]
  },
  {
   "cell_type": "code",
   "execution_count": 72,
   "metadata": {},
   "outputs": [
    {
     "name": "stdout",
     "output_type": "stream",
     "text": [
      "1/1 [==============================] - 0s 18ms/step\n",
      "1/1 [==============================] - 0s 21ms/step\n"
     ]
    }
   ],
   "source": [
    "x_test_encoded = encoder.predict(test_case, batch_size=256)\n",
    "x_decoded = decoder.predict(x_test_encoded)"
   ]
  },
  {
   "cell_type": "code",
   "execution_count": 73,
   "metadata": {},
   "outputs": [
    {
     "data": {
      "text/plain": [
       "array([[0.5, 0.5, 0.5, 0.5]], dtype=float32)"
      ]
     },
     "execution_count": 73,
     "metadata": {},
     "output_type": "execute_result"
    }
   ],
   "source": [
    "x_test_encoded\n",
    "x_decoded"
   ]
  },
  {
   "cell_type": "code",
   "execution_count": 74,
   "metadata": {},
   "outputs": [],
   "source": [
    "# custom_mse(test_case, x_decoded)"
   ]
  },
  {
   "cell_type": "code",
   "execution_count": 75,
   "metadata": {},
   "outputs": [
    {
     "name": "stdout",
     "output_type": "stream",
     "text": [
      "Epoch 1/500\n"
     ]
    },
    {
     "ename": "ValueError",
     "evalue": "No gradients provided for any variable: (['dense_10/kernel:0', 'dense_10/bias:0', 'dense_11/kernel:0', 'dense_11/bias:0'],). Provided `grads_and_vars` is ((None, <tf.Variable 'dense_10/kernel:0' shape=(4, 1) dtype=float32, numpy=\narray([[ 0.08216476],\n       [ 1.0656536 ],\n       [-0.27173638],\n       [ 0.7902583 ]], dtype=float32)>), (None, <tf.Variable 'dense_10/bias:0' shape=(1,) dtype=float32, numpy=array([0.], dtype=float32)>), (None, <tf.Variable 'dense_11/kernel:0' shape=(1, 4) dtype=float32, numpy=\narray([[-0.01872778, -0.38015175, -1.0917088 , -0.5939489 ]],\n      dtype=float32)>), (None, <tf.Variable 'dense_11/bias:0' shape=(4,) dtype=float32, numpy=array([0., 0., 0., 0.], dtype=float32)>)).",
     "output_type": "error",
     "traceback": [
      "\u001b[0;31m---------------------------------------------------------------------------\u001b[0m",
      "\u001b[0;31mValueError\u001b[0m                                Traceback (most recent call last)",
      "Cell \u001b[0;32mIn[75], line 1\u001b[0m\n\u001b[0;32m----> 1\u001b[0m output \u001b[38;5;241m=\u001b[39m \u001b[43mautoencoder\u001b[49m\u001b[38;5;241;43m.\u001b[39;49m\u001b[43mfit\u001b[49m\u001b[43m(\u001b[49m\u001b[43mx\u001b[49m\u001b[43m \u001b[49m\u001b[38;5;241;43m=\u001b[39;49m\u001b[43m \u001b[49m\u001b[43mx_train\u001b[49m\u001b[43m,\u001b[49m\u001b[43m \u001b[49m\u001b[43my\u001b[49m\u001b[43m \u001b[49m\u001b[38;5;241;43m=\u001b[39;49m\u001b[43m \u001b[49m\u001b[43mx_train\u001b[49m\u001b[43m,\u001b[49m\n\u001b[1;32m      2\u001b[0m \u001b[43m                \u001b[49m\u001b[43mepochs\u001b[49m\u001b[38;5;241;43m=\u001b[39;49m\u001b[38;5;241;43m500\u001b[39;49m\u001b[43m,\u001b[49m\n\u001b[1;32m      3\u001b[0m \u001b[43m                \u001b[49m\u001b[43mbatch_size\u001b[49m\u001b[38;5;241;43m=\u001b[39;49m\u001b[38;5;241;43m1\u001b[39;49m\u001b[43m,\u001b[49m\n\u001b[1;32m      4\u001b[0m \u001b[43m                \u001b[49m\u001b[43mshuffle\u001b[49m\u001b[38;5;241;43m=\u001b[39;49m\u001b[38;5;28;43;01mTrue\u001b[39;49;00m\u001b[43m,\u001b[49m\n\u001b[1;32m      5\u001b[0m \u001b[43m                \u001b[49m\u001b[43mvalidation_data\u001b[49m\u001b[38;5;241;43m=\u001b[39;49m\u001b[43m(\u001b[49m\u001b[43mx_val\u001b[49m\u001b[43m,\u001b[49m\u001b[43m \u001b[49m\u001b[43mx_val\u001b[49m\u001b[43m)\u001b[49m\u001b[43m)\u001b[49m\n",
      "File \u001b[0;32m~/CT/ct_research/ct/lib/python3.10/site-packages/keras/src/utils/traceback_utils.py:70\u001b[0m, in \u001b[0;36mfilter_traceback.<locals>.error_handler\u001b[0;34m(*args, **kwargs)\u001b[0m\n\u001b[1;32m     67\u001b[0m     filtered_tb \u001b[38;5;241m=\u001b[39m _process_traceback_frames(e\u001b[38;5;241m.\u001b[39m__traceback__)\n\u001b[1;32m     68\u001b[0m     \u001b[38;5;66;03m# To get the full stack trace, call:\u001b[39;00m\n\u001b[1;32m     69\u001b[0m     \u001b[38;5;66;03m# `tf.debugging.disable_traceback_filtering()`\u001b[39;00m\n\u001b[0;32m---> 70\u001b[0m     \u001b[38;5;28;01mraise\u001b[39;00m e\u001b[38;5;241m.\u001b[39mwith_traceback(filtered_tb) \u001b[38;5;28;01mfrom\u001b[39;00m \u001b[38;5;28;01mNone\u001b[39;00m\n\u001b[1;32m     71\u001b[0m \u001b[38;5;28;01mfinally\u001b[39;00m:\n\u001b[1;32m     72\u001b[0m     \u001b[38;5;28;01mdel\u001b[39;00m filtered_tb\n",
      "File \u001b[0;32m~/CT/ct_research/ct/lib/python3.10/site-packages/keras/src/optimizers/utils.py:77\u001b[0m, in \u001b[0;36mfilter_empty_gradients\u001b[0;34m(grads_and_vars)\u001b[0m\n\u001b[1;32m     75\u001b[0m \u001b[38;5;28;01mif\u001b[39;00m \u001b[38;5;129;01mnot\u001b[39;00m filtered:\n\u001b[1;32m     76\u001b[0m     variable \u001b[38;5;241m=\u001b[39m ([v\u001b[38;5;241m.\u001b[39mname \u001b[38;5;28;01mfor\u001b[39;00m _, v \u001b[38;5;129;01min\u001b[39;00m grads_and_vars],)\n\u001b[0;32m---> 77\u001b[0m     \u001b[38;5;28;01mraise\u001b[39;00m \u001b[38;5;167;01mValueError\u001b[39;00m(\n\u001b[1;32m     78\u001b[0m         \u001b[38;5;124mf\u001b[39m\u001b[38;5;124m\"\u001b[39m\u001b[38;5;124mNo gradients provided for any variable: \u001b[39m\u001b[38;5;132;01m{\u001b[39;00mvariable\u001b[38;5;132;01m}\u001b[39;00m\u001b[38;5;124m. \u001b[39m\u001b[38;5;124m\"\u001b[39m\n\u001b[1;32m     79\u001b[0m         \u001b[38;5;124mf\u001b[39m\u001b[38;5;124m\"\u001b[39m\u001b[38;5;124mProvided `grads_and_vars` is \u001b[39m\u001b[38;5;132;01m{\u001b[39;00mgrads_and_vars\u001b[38;5;132;01m}\u001b[39;00m\u001b[38;5;124m.\u001b[39m\u001b[38;5;124m\"\u001b[39m\n\u001b[1;32m     80\u001b[0m     )\n\u001b[1;32m     81\u001b[0m \u001b[38;5;28;01mif\u001b[39;00m vars_with_empty_grads:\n\u001b[1;32m     82\u001b[0m     logging\u001b[38;5;241m.\u001b[39mwarning(\n\u001b[1;32m     83\u001b[0m         \u001b[38;5;124m\"\u001b[39m\u001b[38;5;124mGradients do not exist for variables \u001b[39m\u001b[38;5;132;01m%s\u001b[39;00m\u001b[38;5;124m when minimizing the \u001b[39m\u001b[38;5;124m\"\u001b[39m\n\u001b[1;32m     84\u001b[0m         \u001b[38;5;124m\"\u001b[39m\u001b[38;5;124mloss. If you\u001b[39m\u001b[38;5;124m'\u001b[39m\u001b[38;5;124mre using `model.compile()`, did you forget to \u001b[39m\u001b[38;5;124m\"\u001b[39m\n\u001b[1;32m     85\u001b[0m         \u001b[38;5;124m\"\u001b[39m\u001b[38;5;124mprovide a `loss` argument?\u001b[39m\u001b[38;5;124m\"\u001b[39m,\n\u001b[1;32m     86\u001b[0m         ([v\u001b[38;5;241m.\u001b[39mname \u001b[38;5;28;01mfor\u001b[39;00m v \u001b[38;5;129;01min\u001b[39;00m vars_with_empty_grads]),\n\u001b[1;32m     87\u001b[0m     )\n",
      "\u001b[0;31mValueError\u001b[0m: No gradients provided for any variable: (['dense_10/kernel:0', 'dense_10/bias:0', 'dense_11/kernel:0', 'dense_11/bias:0'],). Provided `grads_and_vars` is ((None, <tf.Variable 'dense_10/kernel:0' shape=(4, 1) dtype=float32, numpy=\narray([[ 0.08216476],\n       [ 1.0656536 ],\n       [-0.27173638],\n       [ 0.7902583 ]], dtype=float32)>), (None, <tf.Variable 'dense_10/bias:0' shape=(1,) dtype=float32, numpy=array([0.], dtype=float32)>), (None, <tf.Variable 'dense_11/kernel:0' shape=(1, 4) dtype=float32, numpy=\narray([[-0.01872778, -0.38015175, -1.0917088 , -0.5939489 ]],\n      dtype=float32)>), (None, <tf.Variable 'dense_11/bias:0' shape=(4,) dtype=float32, numpy=array([0., 0., 0., 0.], dtype=float32)>))."
     ]
    }
   ],
   "source": [
    "output = autoencoder.fit(x = x_train, y = x_train,\n",
    "                epochs=500,\n",
    "                batch_size=1,\n",
    "                shuffle=True,\n",
    "                validation_data=(x_val, x_val))"
   ]
  },
  {
   "cell_type": "markdown",
   "metadata": {},
   "source": [
    "### Evaluation"
   ]
  },
  {
   "cell_type": "code",
   "execution_count": null,
   "metadata": {},
   "outputs": [
    {
     "name": "stdout",
     "output_type": "stream",
     "text": [
      "1/1 [==============================] - 0s 8ms/step\n"
     ]
    }
   ],
   "source": [
    "x_test_encoded = encoder.predict(x_test, batch_size=256)"
   ]
  },
  {
   "cell_type": "code",
   "execution_count": null,
   "metadata": {},
   "outputs": [
    {
     "name": "stdout",
     "output_type": "stream",
     "text": [
      "4/4 [==============================] - 0s 784us/step\n"
     ]
    }
   ],
   "source": [
    "x_decoded = decoder.predict(x_test_encoded)"
   ]
  },
  {
   "cell_type": "code",
   "execution_count": null,
   "metadata": {},
   "outputs": [],
   "source": [
    "from sklearn.metrics import mean_absolute_error\n",
    "from sklearn.metrics import mean_squared_error"
   ]
  },
  {
   "cell_type": "code",
   "execution_count": null,
   "metadata": {},
   "outputs": [
    {
     "data": {
      "text/plain": [
       "array([0.22166746, 0.2215287 , 0.09399757, 0.1030815 ])"
      ]
     },
     "execution_count": 272,
     "metadata": {},
     "output_type": "execute_result"
    }
   ],
   "source": [
    "mean_absolute_error(x_test, x_decoded, multioutput=\"raw_values\")"
   ]
  },
  {
   "cell_type": "code",
   "execution_count": null,
   "metadata": {},
   "outputs": [
    {
     "data": {
      "text/plain": [
       "0.16006880902751305"
      ]
     },
     "execution_count": 273,
     "metadata": {},
     "output_type": "execute_result"
    }
   ],
   "source": [
    "mean_absolute_error(x_test, x_decoded)"
   ]
  },
  {
   "cell_type": "code",
   "execution_count": null,
   "metadata": {},
   "outputs": [
    {
     "data": {
      "image/png": "[encoded data removed]",
      "text/plain": [
       "<Figure size 640x480 with 1 Axes>"
      ]
     },
     "metadata": {},
     "output_type": "display_data"
    }
   ],
   "source": [
    "plt.plot(output.history['loss'])\n",
    "plt.plot(output.history['val_loss'])\n",
    "plt.title('model loss')\n",
    "plt.ylabel('loss')\n",
    "plt.xlabel('epoch')\n",
    "plt.legend(['train', 'val'], loc='upper left')\n",
    "plt.show()"
   ]
  },
  {
   "cell_type": "code",
   "execution_count": null,
   "metadata": {},
   "outputs": [
    {
     "name": "stdout",
     "output_type": "stream",
     "text": [
      "1/1 [==============================] - 0s 13ms/step\n",
      "1/1 [==============================] - 0s 10ms/step\n"
     ]
    },
    {
     "data": {
      "text/plain": [
       "array([[0.53411585, 0.46574932, 0.31580558, 0.68357104]], dtype=float32)"
      ]
     },
     "execution_count": 276,
     "metadata": {},
     "output_type": "execute_result"
    }
   ],
   "source": [
    "## all zero test case, expecting it to return averages\n",
    "\n",
    "all_zeros = np.zeros((1, 4))\n",
    "all_zeros_encoded = encoder.predict(all_zeros)\n",
    "all_zeros_decoded = decoder.predict(all_zeros_encoded)\n",
    "all_zeros_decoded"
   ]
  },
  {
   "cell_type": "code",
   "execution_count": null,
   "metadata": {},
   "outputs": [
    {
     "data": {
      "text/plain": [
       "array([[0.534116, 0.465749, 0.315806, 0.683571]], dtype=float32)"
      ]
     },
     "execution_count": 277,
     "metadata": {},
     "output_type": "execute_result"
    }
   ],
   "source": [
    "np.set_printoptions(formatter={'float_kind':'{:f}'.format})\n",
    "all_zeros_decoded"
   ]
  },
  {
   "cell_type": "code",
   "execution_count": null,
   "metadata": {},
   "outputs": [
    {
     "data": {
      "text/plain": [
       "array([0.466631, 0.486703, 0.445332, 0.491335])"
      ]
     },
     "execution_count": 279,
     "metadata": {},
     "output_type": "execute_result"
    }
   ],
   "source": [
    "x_train.mean(axis=0)"
   ]
  }
 ],
 "metadata": {
  "kernelspec": {
   "display_name": "ct_research",
   "language": "python",
   "name": "python3"
  },
  "language_info": {
   "codemirror_mode": {
    "name": "ipython",
    "version": 3
   },
   "file_extension": ".py",
   "mimetype": "text/x-python",
   "name": "python",
   "nbconvert_exporter": "python",
   "pygments_lexer": "ipython3",
   "version": "3.10.11"
  },
  "orig_nbformat": 4
 },
 "nbformat": 4,
 "nbformat_minor": 2
}
