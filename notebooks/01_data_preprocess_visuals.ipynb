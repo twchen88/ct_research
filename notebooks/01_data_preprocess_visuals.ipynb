{
 "cells": [
  {
   "cell_type": "markdown",
   "id": "954b3b23",
   "metadata": {},
   "source": [
    "### Preprocessed Data Sanity Check\n",
    "## Objective\n",
    "- Check to see that preprocessed data is as expected as compared to v1 results (20250602)"
   ]
  },
  {
   "cell_type": "markdown",
   "id": "6c0a4fc9",
   "metadata": {},
   "source": [
    "## Set up"
   ]
  },
  {
   "cell_type": "markdown",
   "id": "faeff3cb",
   "metadata": {},
   "source": [
    "### Set up working directory"
   ]
  },
  {
   "cell_type": "code",
   "execution_count": 1,
   "id": "3cb8942c",
   "metadata": {},
   "outputs": [
    {
     "data": {
      "text/plain": [
       "'/Users/964505/CT/ct_research/v2'"
      ]
     },
     "execution_count": 1,
     "metadata": {},
     "output_type": "execute_result"
    }
   ],
   "source": [
    "import os\n",
    "os.chdir('..')\n",
    "os.getcwd()"
   ]
  },
  {
   "cell_type": "markdown",
   "id": "60e27211",
   "metadata": {},
   "source": [
    "### Import Packages"
   ]
  },
  {
   "cell_type": "code",
   "execution_count": 2,
   "id": "e404ef18",
   "metadata": {},
   "outputs": [],
   "source": [
    "import src.data.data_io as data_io\n",
    "import src.data.preprocessing as preprocessing\n",
    "import src.utils.config_loading as config_loading"
   ]
  },
  {
   "cell_type": "markdown",
   "id": "ad014529",
   "metadata": {},
   "source": [
    "## Load data and config"
   ]
  },
  {
   "cell_type": "code",
   "execution_count": 3,
   "id": "dba91ec8",
   "metadata": {},
   "outputs": [],
   "source": [
    "df = data_io.read_preprocessed_session_file('data/raw/predictor_data_20250529.csv')"
   ]
  },
  {
   "cell_type": "code",
   "execution_count": 4,
   "id": "ab67325a",
   "metadata": {},
   "outputs": [],
   "source": [
    "config = config_loading.load_yaml_config(\"config/preprocess/20250602.yaml\")\n",
    "# extract information from the configuration file\n",
    "input_path = config['source']['directory'] + config['source']['filename']\n",
    "output_path = config['target']['directory'] + config['target']['filename']\n",
    "\n",
    "usage_frequency_threshold = config['filter_params']['usage_frequency']\n",
    "usage_days_threshold = config['filter_params']['usage_days']\n",
    "\n",
    "eps_days = config['filter_params']['eps_days']\n",
    "min_samples = config['filter_params']['min_samples']"
   ]
  },
  {
   "cell_type": "markdown",
   "id": "106f930f",
   "metadata": {},
   "source": [
    "## Run through preprocess pipeline"
   ]
  },
  {
   "cell_type": "markdown",
   "id": "2a630c95",
   "metadata": {},
   "source": [
    "### drop duplicate ids"
   ]
  },
  {
   "cell_type": "code",
   "execution_count": 5,
   "id": "09bed972",
   "metadata": {},
   "outputs": [],
   "source": [
    "raw_data_dropped = preprocessing.drop_duplicates(df, based_on=['id'])"
   ]
  },
  {
   "cell_type": "code",
   "execution_count": 6,
   "id": "d81764f1",
   "metadata": {},
   "outputs": [
    {
     "data": {
      "text/plain": [
       "id               7008614\n",
       "patient_id         68780\n",
       "start_time       6693130\n",
       "task_type_id         173\n",
       "task_level            12\n",
       "domain_ids            27\n",
       "domain_scores     191137\n",
       "dtype: int64"
      ]
     },
     "execution_count": 6,
     "metadata": {},
     "output_type": "execute_result"
    }
   ],
   "source": [
    "raw_data_dropped.nunique()"
   ]
  },
  {
   "cell_type": "code",
   "execution_count": 7,
   "id": "d3c886d7",
   "metadata": {},
   "outputs": [
    {
     "data": {
      "text/html": [
       "<div>\n",
       "<style scoped>\n",
       "    .dataframe tbody tr th:only-of-type {\n",
       "        vertical-align: middle;\n",
       "    }\n",
       "\n",
       "    .dataframe tbody tr th {\n",
       "        vertical-align: top;\n",
       "    }\n",
       "\n",
       "    .dataframe thead th {\n",
       "        text-align: right;\n",
       "    }\n",
       "</style>\n",
       "<table border=\"1\" class=\"dataframe\">\n",
       "  <thead>\n",
       "    <tr style=\"text-align: right;\">\n",
       "      <th></th>\n",
       "      <th>id</th>\n",
       "      <th>patient_id</th>\n",
       "      <th>start_time</th>\n",
       "      <th>task_type_id</th>\n",
       "      <th>task_level</th>\n",
       "      <th>domain_ids</th>\n",
       "      <th>domain_scores</th>\n",
       "    </tr>\n",
       "  </thead>\n",
       "  <tbody>\n",
       "    <tr>\n",
       "      <th>0</th>\n",
       "      <td>11018577</td>\n",
       "      <td>2171</td>\n",
       "      <td>2018-04-13 17:37:55</td>\n",
       "      <td>4</td>\n",
       "      <td>1</td>\n",
       "      <td>6,10</td>\n",
       "      <td>0.2950,0.8140</td>\n",
       "    </tr>\n",
       "    <tr>\n",
       "      <th>5</th>\n",
       "      <td>11042076</td>\n",
       "      <td>2171</td>\n",
       "      <td>2018-04-15 23:48:00</td>\n",
       "      <td>4</td>\n",
       "      <td>1</td>\n",
       "      <td>6,10</td>\n",
       "      <td>0.3050,0.8000</td>\n",
       "    </tr>\n",
       "    <tr>\n",
       "      <th>10</th>\n",
       "      <td>11057448</td>\n",
       "      <td>2171</td>\n",
       "      <td>2018-04-16 21:55:03</td>\n",
       "      <td>4</td>\n",
       "      <td>1</td>\n",
       "      <td>6,10</td>\n",
       "      <td>0.3160,0.7930</td>\n",
       "    </tr>\n",
       "    <tr>\n",
       "      <th>15</th>\n",
       "      <td>11069816</td>\n",
       "      <td>2171</td>\n",
       "      <td>2018-04-17 17:54:54</td>\n",
       "      <td>4</td>\n",
       "      <td>1</td>\n",
       "      <td>6,10</td>\n",
       "      <td>0.3160,0.8070</td>\n",
       "    </tr>\n",
       "    <tr>\n",
       "      <th>20</th>\n",
       "      <td>11742188</td>\n",
       "      <td>2171</td>\n",
       "      <td>2018-06-05 17:35:50</td>\n",
       "      <td>4</td>\n",
       "      <td>1</td>\n",
       "      <td>6,10</td>\n",
       "      <td>0.2740,0.8360</td>\n",
       "    </tr>\n",
       "    <tr>\n",
       "      <th>...</th>\n",
       "      <td>...</td>\n",
       "      <td>...</td>\n",
       "      <td>...</td>\n",
       "      <td>...</td>\n",
       "      <td>...</td>\n",
       "      <td>...</td>\n",
       "      <td>...</td>\n",
       "    </tr>\n",
       "    <tr>\n",
       "      <th>80506826</th>\n",
       "      <td>41286101</td>\n",
       "      <td>584095</td>\n",
       "      <td>2023-05-22 17:29:53</td>\n",
       "      <td>255</td>\n",
       "      <td>3</td>\n",
       "      <td>12</td>\n",
       "      <td>0.6790</td>\n",
       "    </tr>\n",
       "    <tr>\n",
       "      <th>80506830</th>\n",
       "      <td>41465313</td>\n",
       "      <td>584095</td>\n",
       "      <td>2023-05-25 19:56:38</td>\n",
       "      <td>255</td>\n",
       "      <td>3</td>\n",
       "      <td>12</td>\n",
       "      <td>0.6670</td>\n",
       "    </tr>\n",
       "    <tr>\n",
       "      <th>80506834</th>\n",
       "      <td>41530297</td>\n",
       "      <td>584095</td>\n",
       "      <td>2023-05-30 03:44:54</td>\n",
       "      <td>255</td>\n",
       "      <td>3</td>\n",
       "      <td>12</td>\n",
       "      <td>0.6670</td>\n",
       "    </tr>\n",
       "    <tr>\n",
       "      <th>80506838</th>\n",
       "      <td>41585933</td>\n",
       "      <td>584095</td>\n",
       "      <td>2023-05-31 00:33:20</td>\n",
       "      <td>255</td>\n",
       "      <td>3</td>\n",
       "      <td>12</td>\n",
       "      <td>0.6550</td>\n",
       "    </tr>\n",
       "    <tr>\n",
       "      <th>80506842</th>\n",
       "      <td>41739599</td>\n",
       "      <td>584095</td>\n",
       "      <td>2023-06-07 23:36:32</td>\n",
       "      <td>255</td>\n",
       "      <td>3</td>\n",
       "      <td>12</td>\n",
       "      <td>0.6730</td>\n",
       "    </tr>\n",
       "  </tbody>\n",
       "</table>\n",
       "<p>7008614 rows × 7 columns</p>\n",
       "</div>"
      ],
      "text/plain": [
       "                id  patient_id           start_time  task_type_id  task_level  \\\n",
       "0         11018577        2171  2018-04-13 17:37:55             4           1   \n",
       "5         11042076        2171  2018-04-15 23:48:00             4           1   \n",
       "10        11057448        2171  2018-04-16 21:55:03             4           1   \n",
       "15        11069816        2171  2018-04-17 17:54:54             4           1   \n",
       "20        11742188        2171  2018-06-05 17:35:50             4           1   \n",
       "...            ...         ...                  ...           ...         ...   \n",
       "80506826  41286101      584095  2023-05-22 17:29:53           255           3   \n",
       "80506830  41465313      584095  2023-05-25 19:56:38           255           3   \n",
       "80506834  41530297      584095  2023-05-30 03:44:54           255           3   \n",
       "80506838  41585933      584095  2023-05-31 00:33:20           255           3   \n",
       "80506842  41739599      584095  2023-06-07 23:36:32           255           3   \n",
       "\n",
       "         domain_ids  domain_scores  \n",
       "0              6,10  0.2950,0.8140  \n",
       "5              6,10  0.3050,0.8000  \n",
       "10             6,10  0.3160,0.7930  \n",
       "15             6,10  0.3160,0.8070  \n",
       "20             6,10  0.2740,0.8360  \n",
       "...             ...            ...  \n",
       "80506826         12         0.6790  \n",
       "80506830         12         0.6670  \n",
       "80506834         12         0.6670  \n",
       "80506838         12         0.6550  \n",
       "80506842         12         0.6730  \n",
       "\n",
       "[7008614 rows x 7 columns]"
      ]
     },
     "execution_count": 7,
     "metadata": {},
     "output_type": "execute_result"
    }
   ],
   "source": [
    "raw_data_dropped"
   ]
  },
  {
   "cell_type": "markdown",
   "id": "06daa445",
   "metadata": {},
   "source": [
    "### filter datetime outlier"
   ]
  },
  {
   "cell_type": "code",
   "execution_count": 8,
   "id": "a2a6d360",
   "metadata": {},
   "outputs": [],
   "source": [
    "raw_data_filtered = raw_data_dropped.groupby(\"patient_id\")[raw_data_dropped.columns].apply(preprocessing.filter_datetime_outliers, eps_days, min_samples).reset_index(drop=True)"
   ]
  },
  {
   "cell_type": "code",
   "execution_count": 9,
   "id": "1df7e96c",
   "metadata": {},
   "outputs": [
    {
     "data": {
      "text/plain": [
       "id               6608495\n",
       "patient_id         29459\n",
       "start_time       6327908\n",
       "task_type_id         173\n",
       "task_level            12\n",
       "domain_ids            27\n",
       "domain_scores     186958\n",
       "dtype: int64"
      ]
     },
     "execution_count": 9,
     "metadata": {},
     "output_type": "execute_result"
    }
   ],
   "source": [
    "raw_data_filtered.nunique()"
   ]
  },
  {
   "cell_type": "code",
   "execution_count": 10,
   "id": "d7f9d483",
   "metadata": {},
   "outputs": [
    {
     "data": {
      "text/html": [
       "<div>\n",
       "<style scoped>\n",
       "    .dataframe tbody tr th:only-of-type {\n",
       "        vertical-align: middle;\n",
       "    }\n",
       "\n",
       "    .dataframe tbody tr th {\n",
       "        vertical-align: top;\n",
       "    }\n",
       "\n",
       "    .dataframe thead th {\n",
       "        text-align: right;\n",
       "    }\n",
       "</style>\n",
       "<table border=\"1\" class=\"dataframe\">\n",
       "  <thead>\n",
       "    <tr style=\"text-align: right;\">\n",
       "      <th></th>\n",
       "      <th>id</th>\n",
       "      <th>patient_id</th>\n",
       "      <th>start_time</th>\n",
       "      <th>task_type_id</th>\n",
       "      <th>task_level</th>\n",
       "      <th>domain_ids</th>\n",
       "      <th>domain_scores</th>\n",
       "    </tr>\n",
       "  </thead>\n",
       "  <tbody>\n",
       "    <tr>\n",
       "      <th>0</th>\n",
       "      <td>11018577</td>\n",
       "      <td>2171</td>\n",
       "      <td>2018-04-13 17:37:55</td>\n",
       "      <td>4</td>\n",
       "      <td>1</td>\n",
       "      <td>6,10</td>\n",
       "      <td>0.2950,0.8140</td>\n",
       "    </tr>\n",
       "    <tr>\n",
       "      <th>1</th>\n",
       "      <td>11042076</td>\n",
       "      <td>2171</td>\n",
       "      <td>2018-04-15 23:48:00</td>\n",
       "      <td>4</td>\n",
       "      <td>1</td>\n",
       "      <td>6,10</td>\n",
       "      <td>0.3050,0.8000</td>\n",
       "    </tr>\n",
       "    <tr>\n",
       "      <th>2</th>\n",
       "      <td>11057448</td>\n",
       "      <td>2171</td>\n",
       "      <td>2018-04-16 21:55:03</td>\n",
       "      <td>4</td>\n",
       "      <td>1</td>\n",
       "      <td>6,10</td>\n",
       "      <td>0.3160,0.7930</td>\n",
       "    </tr>\n",
       "    <tr>\n",
       "      <th>3</th>\n",
       "      <td>11069816</td>\n",
       "      <td>2171</td>\n",
       "      <td>2018-04-17 17:54:54</td>\n",
       "      <td>4</td>\n",
       "      <td>1</td>\n",
       "      <td>6,10</td>\n",
       "      <td>0.3160,0.8070</td>\n",
       "    </tr>\n",
       "    <tr>\n",
       "      <th>4</th>\n",
       "      <td>11742188</td>\n",
       "      <td>2171</td>\n",
       "      <td>2018-06-05 17:35:50</td>\n",
       "      <td>4</td>\n",
       "      <td>1</td>\n",
       "      <td>6,10</td>\n",
       "      <td>0.2740,0.8360</td>\n",
       "    </tr>\n",
       "    <tr>\n",
       "      <th>...</th>\n",
       "      <td>...</td>\n",
       "      <td>...</td>\n",
       "      <td>...</td>\n",
       "      <td>...</td>\n",
       "      <td>...</td>\n",
       "      <td>...</td>\n",
       "      <td>...</td>\n",
       "    </tr>\n",
       "    <tr>\n",
       "      <th>6608490</th>\n",
       "      <td>41286101</td>\n",
       "      <td>584095</td>\n",
       "      <td>2023-05-22 17:29:53</td>\n",
       "      <td>255</td>\n",
       "      <td>3</td>\n",
       "      <td>12</td>\n",
       "      <td>0.6790</td>\n",
       "    </tr>\n",
       "    <tr>\n",
       "      <th>6608491</th>\n",
       "      <td>41465313</td>\n",
       "      <td>584095</td>\n",
       "      <td>2023-05-25 19:56:38</td>\n",
       "      <td>255</td>\n",
       "      <td>3</td>\n",
       "      <td>12</td>\n",
       "      <td>0.6670</td>\n",
       "    </tr>\n",
       "    <tr>\n",
       "      <th>6608492</th>\n",
       "      <td>41530297</td>\n",
       "      <td>584095</td>\n",
       "      <td>2023-05-30 03:44:54</td>\n",
       "      <td>255</td>\n",
       "      <td>3</td>\n",
       "      <td>12</td>\n",
       "      <td>0.6670</td>\n",
       "    </tr>\n",
       "    <tr>\n",
       "      <th>6608493</th>\n",
       "      <td>41585933</td>\n",
       "      <td>584095</td>\n",
       "      <td>2023-05-31 00:33:20</td>\n",
       "      <td>255</td>\n",
       "      <td>3</td>\n",
       "      <td>12</td>\n",
       "      <td>0.6550</td>\n",
       "    </tr>\n",
       "    <tr>\n",
       "      <th>6608494</th>\n",
       "      <td>41739599</td>\n",
       "      <td>584095</td>\n",
       "      <td>2023-06-07 23:36:32</td>\n",
       "      <td>255</td>\n",
       "      <td>3</td>\n",
       "      <td>12</td>\n",
       "      <td>0.6730</td>\n",
       "    </tr>\n",
       "  </tbody>\n",
       "</table>\n",
       "<p>6608495 rows × 7 columns</p>\n",
       "</div>"
      ],
      "text/plain": [
       "               id  patient_id          start_time  task_type_id  task_level  \\\n",
       "0        11018577        2171 2018-04-13 17:37:55             4           1   \n",
       "1        11042076        2171 2018-04-15 23:48:00             4           1   \n",
       "2        11057448        2171 2018-04-16 21:55:03             4           1   \n",
       "3        11069816        2171 2018-04-17 17:54:54             4           1   \n",
       "4        11742188        2171 2018-06-05 17:35:50             4           1   \n",
       "...           ...         ...                 ...           ...         ...   \n",
       "6608490  41286101      584095 2023-05-22 17:29:53           255           3   \n",
       "6608491  41465313      584095 2023-05-25 19:56:38           255           3   \n",
       "6608492  41530297      584095 2023-05-30 03:44:54           255           3   \n",
       "6608493  41585933      584095 2023-05-31 00:33:20           255           3   \n",
       "6608494  41739599      584095 2023-06-07 23:36:32           255           3   \n",
       "\n",
       "        domain_ids  domain_scores  \n",
       "0             6,10  0.2950,0.8140  \n",
       "1             6,10  0.3050,0.8000  \n",
       "2             6,10  0.3160,0.7930  \n",
       "3             6,10  0.3160,0.8070  \n",
       "4             6,10  0.2740,0.8360  \n",
       "...            ...            ...  \n",
       "6608490         12         0.6790  \n",
       "6608491         12         0.6670  \n",
       "6608492         12         0.6670  \n",
       "6608493         12         0.6550  \n",
       "6608494         12         0.6730  \n",
       "\n",
       "[6608495 rows x 7 columns]"
      ]
     },
     "execution_count": 10,
     "metadata": {},
     "output_type": "execute_result"
    }
   ],
   "source": [
    "raw_data_filtered"
   ]
  },
  {
   "cell_type": "markdown",
   "id": "6d74de01",
   "metadata": {},
   "source": [
    "### filter usage frequency and length"
   ]
  },
  {
   "cell_type": "code",
   "execution_count": 11,
   "id": "9f065c07",
   "metadata": {},
   "outputs": [],
   "source": [
    "usage_df = preprocessing.find_usage_frequency(raw_data_filtered)"
   ]
  },
  {
   "cell_type": "code",
   "execution_count": 17,
   "id": "6b31b15c",
   "metadata": {},
   "outputs": [
    {
     "data": {
      "text/html": [
       "<div>\n",
       "<style scoped>\n",
       "    .dataframe tbody tr th:only-of-type {\n",
       "        vertical-align: middle;\n",
       "    }\n",
       "\n",
       "    .dataframe tbody tr th {\n",
       "        vertical-align: top;\n",
       "    }\n",
       "\n",
       "    .dataframe thead th {\n",
       "        text-align: right;\n",
       "    }\n",
       "</style>\n",
       "<table border=\"1\" class=\"dataframe\">\n",
       "  <thead>\n",
       "    <tr style=\"text-align: right;\">\n",
       "      <th></th>\n",
       "      <th>patient_id</th>\n",
       "      <th>unique_days</th>\n",
       "      <th>usage_time</th>\n",
       "      <th>usage_freq</th>\n",
       "    </tr>\n",
       "  </thead>\n",
       "  <tbody>\n",
       "    <tr>\n",
       "      <th>0</th>\n",
       "      <td>2171</td>\n",
       "      <td>483</td>\n",
       "      <td>1442</td>\n",
       "      <td>0.334951</td>\n",
       "    </tr>\n",
       "    <tr>\n",
       "      <th>1</th>\n",
       "      <td>2281</td>\n",
       "      <td>47</td>\n",
       "      <td>1944</td>\n",
       "      <td>0.024177</td>\n",
       "    </tr>\n",
       "    <tr>\n",
       "      <th>2</th>\n",
       "      <td>2517</td>\n",
       "      <td>187</td>\n",
       "      <td>699</td>\n",
       "      <td>0.267525</td>\n",
       "    </tr>\n",
       "    <tr>\n",
       "      <th>3</th>\n",
       "      <td>4032</td>\n",
       "      <td>30</td>\n",
       "      <td>534</td>\n",
       "      <td>0.056180</td>\n",
       "    </tr>\n",
       "    <tr>\n",
       "      <th>4</th>\n",
       "      <td>4073</td>\n",
       "      <td>5</td>\n",
       "      <td>10</td>\n",
       "      <td>0.500000</td>\n",
       "    </tr>\n",
       "    <tr>\n",
       "      <th>...</th>\n",
       "      <td>...</td>\n",
       "      <td>...</td>\n",
       "      <td>...</td>\n",
       "      <td>...</td>\n",
       "    </tr>\n",
       "    <tr>\n",
       "      <th>29454</th>\n",
       "      <td>560491</td>\n",
       "      <td>14</td>\n",
       "      <td>41</td>\n",
       "      <td>0.341463</td>\n",
       "    </tr>\n",
       "    <tr>\n",
       "      <th>29455</th>\n",
       "      <td>565981</td>\n",
       "      <td>50</td>\n",
       "      <td>57</td>\n",
       "      <td>0.877193</td>\n",
       "    </tr>\n",
       "    <tr>\n",
       "      <th>29456</th>\n",
       "      <td>568669</td>\n",
       "      <td>134</td>\n",
       "      <td>268</td>\n",
       "      <td>0.500000</td>\n",
       "    </tr>\n",
       "    <tr>\n",
       "      <th>29457</th>\n",
       "      <td>575513</td>\n",
       "      <td>14</td>\n",
       "      <td>46</td>\n",
       "      <td>0.304348</td>\n",
       "    </tr>\n",
       "    <tr>\n",
       "      <th>29458</th>\n",
       "      <td>584095</td>\n",
       "      <td>20</td>\n",
       "      <td>63</td>\n",
       "      <td>0.317460</td>\n",
       "    </tr>\n",
       "  </tbody>\n",
       "</table>\n",
       "<p>29459 rows × 4 columns</p>\n",
       "</div>"
      ],
      "text/plain": [
       "       patient_id  unique_days  usage_time  usage_freq\n",
       "0            2171          483        1442    0.334951\n",
       "1            2281           47        1944    0.024177\n",
       "2            2517          187         699    0.267525\n",
       "3            4032           30         534    0.056180\n",
       "4            4073            5          10    0.500000\n",
       "...           ...          ...         ...         ...\n",
       "29454      560491           14          41    0.341463\n",
       "29455      565981           50          57    0.877193\n",
       "29456      568669          134         268    0.500000\n",
       "29457      575513           14          46    0.304348\n",
       "29458      584095           20          63    0.317460\n",
       "\n",
       "[29459 rows x 4 columns]"
      ]
     },
     "execution_count": 17,
     "metadata": {},
     "output_type": "execute_result"
    }
   ],
   "source": [
    "usage_df"
   ]
  },
  {
   "cell_type": "code",
   "execution_count": 12,
   "id": "82cc8399",
   "metadata": {},
   "outputs": [],
   "source": [
    "usage_df_filtered = usage_df[(usage_df['usage_freq'] > usage_frequency_threshold) & (usage_df['usage_time'] > usage_days_threshold)]"
   ]
  },
  {
   "cell_type": "code",
   "execution_count": 13,
   "id": "7c26acdd",
   "metadata": {},
   "outputs": [],
   "source": [
    "patient_ids = usage_df_filtered['patient_id'].tolist()"
   ]
  },
  {
   "cell_type": "code",
   "execution_count": null,
   "id": "32da3dff",
   "metadata": {},
   "outputs": [],
   "source": [
    "filtered_data = raw_data_dropped[raw_data_dropped['patient_id'].isin(patient_ids)]"
   ]
  },
  {
   "cell_type": "code",
   "execution_count": null,
   "id": "5fb33bd4",
   "metadata": {},
   "outputs": [
    {
     "data": {
      "text/plain": [
       "id               4961763\n",
       "patient_id          2456\n",
       "start_time       4806462\n",
       "task_type_id         169\n",
       "task_level            12\n",
       "domain_ids            27\n",
       "domain_scores     156532\n",
       "dtype: int64"
      ]
     },
     "execution_count": 17,
     "metadata": {},
     "output_type": "execute_result"
    }
   ],
   "source": [
    "filtered_data.nunique()"
   ]
  },
  {
   "cell_type": "markdown",
   "id": "c5a0b36e",
   "metadata": {},
   "source": [
    "## Check data stats"
   ]
  },
  {
   "cell_type": "code",
   "execution_count": null,
   "id": "2ea957d0",
   "metadata": {},
   "outputs": [
    {
     "data": {
      "text/plain": [
       "id               7008614\n",
       "patient_id         68780\n",
       "start_time       6693130\n",
       "task_type_id         173\n",
       "task_level            12\n",
       "domain_ids            27\n",
       "domain_scores     191137\n",
       "dtype: int64"
      ]
     },
     "execution_count": 17,
     "metadata": {},
     "output_type": "execute_result"
    }
   ],
   "source": [
    "df.nunique()"
   ]
  }
 ],
 "metadata": {
  "kernelspec": {
   "display_name": "CT",
   "language": "python",
   "name": "python3"
  },
  "language_info": {
   "codemirror_mode": {
    "name": "ipython",
    "version": 3
   },
   "file_extension": ".py",
   "mimetype": "text/x-python",
   "name": "python",
   "nbconvert_exporter": "python",
   "pygments_lexer": "ipython3",
   "version": "3.9.19"
  }
 },
 "nbformat": 4,
 "nbformat_minor": 5
}
