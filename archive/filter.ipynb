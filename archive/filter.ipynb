{
 "cells": [
  {
   "cell_type": "code",
   "execution_count": 78,
   "metadata": {},
   "outputs": [],
   "source": [
    "# import packages\n",
    "import pandas as pd\n",
    "import numpy as np\n",
    "import scipy as scp\n",
    "import matplotlib.pyplot as plt\n",
    "import seaborn as sns\n",
    "from helper import *\n",
    "import ipywidgets as widgets"
   ]
  },
  {
   "attachments": {},
   "cell_type": "markdown",
   "metadata": {},
   "source": [
    "# variables\n",
    "time_period = (1, 2, 3, 4, 5) # 5 different implementation of progression order  \n",
    "n_patients = 0 # number of patients included in the model  \n",
    "n_sessions = 0 # number of sessions included in the model  \n",
    "usage_time: how many months the patient has been using the app  \n",
    "usage_freq: how frequent the patient uses the app  "
   ]
  },
  {
   "attachments": {},
   "cell_type": "markdown",
   "metadata": {},
   "source": [
    "Clean Data"
   ]
  },
  {
   "cell_type": "code",
   "execution_count": 79,
   "metadata": {},
   "outputs": [],
   "source": [
    "# querying from the SQL database, 2 mins for q3 table\n",
    "\n",
    "# from connection import *\n",
    "\n",
    "# con = connect()\n",
    "# df = SQL(\"select * from constant_therapy.q3\", con)\n",
    "# df = df.rename(columns={'session_id':\"id\"})"
   ]
  },
  {
   "cell_type": "code",
   "execution_count": 80,
   "metadata": {},
   "outputs": [
    {
     "name": "stderr",
     "output_type": "stream",
     "text": [
      "/var/folders/vv/6vndbrvd7r1gc7xq3qqx8tfh0000gq/T/ipykernel_11152/2410965418.py:2: DtypeWarning: Columns (5,6) have mixed types. Specify dtype option on import or set low_memory=False.\n",
      "  df = pd.read_csv(\"data/model_data.csv\")\n"
     ]
    },
    {
     "data": {
      "text/html": [
       "<div>\n",
       "<style scoped>\n",
       "    .dataframe tbody tr th:only-of-type {\n",
       "        vertical-align: middle;\n",
       "    }\n",
       "\n",
       "    .dataframe tbody tr th {\n",
       "        vertical-align: top;\n",
       "    }\n",
       "\n",
       "    .dataframe thead th {\n",
       "        text-align: right;\n",
       "    }\n",
       "</style>\n",
       "<table border=\"1\" class=\"dataframe\">\n",
       "  <thead>\n",
       "    <tr style=\"text-align: right;\">\n",
       "      <th></th>\n",
       "      <th>id</th>\n",
       "      <th>patient_id</th>\n",
       "      <th>start_time</th>\n",
       "      <th>task_type_id</th>\n",
       "      <th>task_level</th>\n",
       "      <th>domain_ids</th>\n",
       "      <th>domain_scores</th>\n",
       "    </tr>\n",
       "  </thead>\n",
       "  <tbody>\n",
       "    <tr>\n",
       "      <th>0</th>\n",
       "      <td>11018577</td>\n",
       "      <td>2171</td>\n",
       "      <td>2018-04-13 17:37:55</td>\n",
       "      <td>4</td>\n",
       "      <td>1</td>\n",
       "      <td>6,10</td>\n",
       "      <td>0.2950,0.8140</td>\n",
       "    </tr>\n",
       "    <tr>\n",
       "      <th>1</th>\n",
       "      <td>11018577</td>\n",
       "      <td>2171</td>\n",
       "      <td>2018-04-13 17:37:55</td>\n",
       "      <td>4</td>\n",
       "      <td>1</td>\n",
       "      <td>6,10</td>\n",
       "      <td>0.2950,0.8140</td>\n",
       "    </tr>\n",
       "    <tr>\n",
       "      <th>2</th>\n",
       "      <td>11018577</td>\n",
       "      <td>2171</td>\n",
       "      <td>2018-04-13 17:37:55</td>\n",
       "      <td>4</td>\n",
       "      <td>1</td>\n",
       "      <td>6,10</td>\n",
       "      <td>0.2950,0.8140</td>\n",
       "    </tr>\n",
       "    <tr>\n",
       "      <th>3</th>\n",
       "      <td>11018577</td>\n",
       "      <td>2171</td>\n",
       "      <td>2018-04-13 17:37:55</td>\n",
       "      <td>4</td>\n",
       "      <td>1</td>\n",
       "      <td>6,10</td>\n",
       "      <td>0.2950,0.8140</td>\n",
       "    </tr>\n",
       "    <tr>\n",
       "      <th>4</th>\n",
       "      <td>11018577</td>\n",
       "      <td>2171</td>\n",
       "      <td>2018-04-13 17:37:55</td>\n",
       "      <td>4</td>\n",
       "      <td>1</td>\n",
       "      <td>6,10</td>\n",
       "      <td>0.2950,0.8140</td>\n",
       "    </tr>\n",
       "  </tbody>\n",
       "</table>\n",
       "</div>"
      ],
      "text/plain": [
       "         id  patient_id           start_time  task_type_id  task_level  \\\n",
       "0  11018577        2171  2018-04-13 17:37:55             4           1   \n",
       "1  11018577        2171  2018-04-13 17:37:55             4           1   \n",
       "2  11018577        2171  2018-04-13 17:37:55             4           1   \n",
       "3  11018577        2171  2018-04-13 17:37:55             4           1   \n",
       "4  11018577        2171  2018-04-13 17:37:55             4           1   \n",
       "\n",
       "  domain_ids  domain_scores  \n",
       "0       6,10  0.2950,0.8140  \n",
       "1       6,10  0.2950,0.8140  \n",
       "2       6,10  0.2950,0.8140  \n",
       "3       6,10  0.2950,0.8140  \n",
       "4       6,10  0.2950,0.8140  "
      ]
     },
     "execution_count": 80,
     "metadata": {},
     "output_type": "execute_result"
    }
   ],
   "source": [
    "# 1 min, data saved from previous runs\n",
    "df = pd.read_csv(\"data/model_data.csv\")\n",
    "df.head()"
   ]
  },
  {
   "cell_type": "code",
   "execution_count": 81,
   "metadata": {},
   "outputs": [],
   "source": [
    "# 20 seconds\n",
    "# deficit_ids = df.groupby(\"patient_id\")[\"deficit_id\"].apply(set).reset_index()\n",
    "# df = df.drop(columns=\"deficit_id\")\n",
    "# df = df.merge(deficit_ids, on=\"patient_id\", how=\"left\")"
   ]
  },
  {
   "cell_type": "code",
   "execution_count": 82,
   "metadata": {},
   "outputs": [],
   "source": [
    "# 1 min\n",
    "# domain_ids = df.groupby(\"id\")[\"domain_id\"].apply(set).reset_index()\n",
    "# df = df.drop(columns=\"domain_id\")\n",
    "# df = df.merge(domain_ids, on=\"id\", how=\"left\")"
   ]
  },
  {
   "cell_type": "code",
   "execution_count": 83,
   "metadata": {},
   "outputs": [],
   "source": [
    "df = df.drop_duplicates(subset=\"id\")"
   ]
  },
  {
   "cell_type": "code",
   "execution_count": 84,
   "metadata": {},
   "outputs": [
    {
     "data": {
      "text/plain": [
       "id               7008614\n",
       "patient_id         68780\n",
       "start_time       6693130\n",
       "task_type_id         173\n",
       "task_level            12\n",
       "domain_ids            34\n",
       "domain_scores     191396\n",
       "dtype: int64"
      ]
     },
     "execution_count": 84,
     "metadata": {},
     "output_type": "execute_result"
    }
   ],
   "source": [
    "df.nunique()"
   ]
  },
  {
   "cell_type": "code",
   "execution_count": 85,
   "metadata": {},
   "outputs": [
    {
     "data": {
      "text/html": [
       "<div>\n",
       "<style scoped>\n",
       "    .dataframe tbody tr th:only-of-type {\n",
       "        vertical-align: middle;\n",
       "    }\n",
       "\n",
       "    .dataframe tbody tr th {\n",
       "        vertical-align: top;\n",
       "    }\n",
       "\n",
       "    .dataframe thead th {\n",
       "        text-align: right;\n",
       "    }\n",
       "</style>\n",
       "<table border=\"1\" class=\"dataframe\">\n",
       "  <thead>\n",
       "    <tr style=\"text-align: right;\">\n",
       "      <th></th>\n",
       "      <th>id</th>\n",
       "      <th>patient_id</th>\n",
       "      <th>start_time</th>\n",
       "      <th>task_type_id</th>\n",
       "      <th>task_level</th>\n",
       "      <th>domain_ids</th>\n",
       "      <th>domain_scores</th>\n",
       "    </tr>\n",
       "  </thead>\n",
       "  <tbody>\n",
       "    <tr>\n",
       "      <th>0</th>\n",
       "      <td>11018577</td>\n",
       "      <td>2171</td>\n",
       "      <td>2018-04-13 17:37:55</td>\n",
       "      <td>4</td>\n",
       "      <td>1</td>\n",
       "      <td>6,10</td>\n",
       "      <td>0.2950,0.8140</td>\n",
       "    </tr>\n",
       "    <tr>\n",
       "      <th>5</th>\n",
       "      <td>11042076</td>\n",
       "      <td>2171</td>\n",
       "      <td>2018-04-15 23:48:00</td>\n",
       "      <td>4</td>\n",
       "      <td>1</td>\n",
       "      <td>6,10</td>\n",
       "      <td>0.3050,0.8000</td>\n",
       "    </tr>\n",
       "    <tr>\n",
       "      <th>10</th>\n",
       "      <td>11057448</td>\n",
       "      <td>2171</td>\n",
       "      <td>2018-04-16 21:55:03</td>\n",
       "      <td>4</td>\n",
       "      <td>1</td>\n",
       "      <td>6,10</td>\n",
       "      <td>0.3160,0.7930</td>\n",
       "    </tr>\n",
       "    <tr>\n",
       "      <th>15</th>\n",
       "      <td>11069816</td>\n",
       "      <td>2171</td>\n",
       "      <td>2018-04-17 17:54:54</td>\n",
       "      <td>4</td>\n",
       "      <td>1</td>\n",
       "      <td>6,10</td>\n",
       "      <td>0.3160,0.8070</td>\n",
       "    </tr>\n",
       "    <tr>\n",
       "      <th>20</th>\n",
       "      <td>11742188</td>\n",
       "      <td>2171</td>\n",
       "      <td>2018-06-05 17:35:50</td>\n",
       "      <td>4</td>\n",
       "      <td>1</td>\n",
       "      <td>6,10</td>\n",
       "      <td>0.2740,0.8360</td>\n",
       "    </tr>\n",
       "    <tr>\n",
       "      <th>...</th>\n",
       "      <td>...</td>\n",
       "      <td>...</td>\n",
       "      <td>...</td>\n",
       "      <td>...</td>\n",
       "      <td>...</td>\n",
       "      <td>...</td>\n",
       "      <td>...</td>\n",
       "    </tr>\n",
       "    <tr>\n",
       "      <th>80506826</th>\n",
       "      <td>41286101</td>\n",
       "      <td>584095</td>\n",
       "      <td>2023-05-22 17:29:53</td>\n",
       "      <td>255</td>\n",
       "      <td>3</td>\n",
       "      <td>12</td>\n",
       "      <td>0.6790</td>\n",
       "    </tr>\n",
       "    <tr>\n",
       "      <th>80506830</th>\n",
       "      <td>41465313</td>\n",
       "      <td>584095</td>\n",
       "      <td>2023-05-25 19:56:38</td>\n",
       "      <td>255</td>\n",
       "      <td>3</td>\n",
       "      <td>12</td>\n",
       "      <td>0.6670</td>\n",
       "    </tr>\n",
       "    <tr>\n",
       "      <th>80506834</th>\n",
       "      <td>41530297</td>\n",
       "      <td>584095</td>\n",
       "      <td>2023-05-30 03:44:54</td>\n",
       "      <td>255</td>\n",
       "      <td>3</td>\n",
       "      <td>12</td>\n",
       "      <td>0.6670</td>\n",
       "    </tr>\n",
       "    <tr>\n",
       "      <th>80506838</th>\n",
       "      <td>41585933</td>\n",
       "      <td>584095</td>\n",
       "      <td>2023-05-31 00:33:20</td>\n",
       "      <td>255</td>\n",
       "      <td>3</td>\n",
       "      <td>12</td>\n",
       "      <td>0.6550</td>\n",
       "    </tr>\n",
       "    <tr>\n",
       "      <th>80506842</th>\n",
       "      <td>41739599</td>\n",
       "      <td>584095</td>\n",
       "      <td>2023-06-07 23:36:32</td>\n",
       "      <td>255</td>\n",
       "      <td>3</td>\n",
       "      <td>12</td>\n",
       "      <td>0.6730</td>\n",
       "    </tr>\n",
       "  </tbody>\n",
       "</table>\n",
       "<p>7008614 rows × 7 columns</p>\n",
       "</div>"
      ],
      "text/plain": [
       "                id  patient_id           start_time  task_type_id  task_level  \\\n",
       "0         11018577        2171  2018-04-13 17:37:55             4           1   \n",
       "5         11042076        2171  2018-04-15 23:48:00             4           1   \n",
       "10        11057448        2171  2018-04-16 21:55:03             4           1   \n",
       "15        11069816        2171  2018-04-17 17:54:54             4           1   \n",
       "20        11742188        2171  2018-06-05 17:35:50             4           1   \n",
       "...            ...         ...                  ...           ...         ...   \n",
       "80506826  41286101      584095  2023-05-22 17:29:53           255           3   \n",
       "80506830  41465313      584095  2023-05-25 19:56:38           255           3   \n",
       "80506834  41530297      584095  2023-05-30 03:44:54           255           3   \n",
       "80506838  41585933      584095  2023-05-31 00:33:20           255           3   \n",
       "80506842  41739599      584095  2023-06-07 23:36:32           255           3   \n",
       "\n",
       "         domain_ids  domain_scores  \n",
       "0              6,10  0.2950,0.8140  \n",
       "5              6,10  0.3050,0.8000  \n",
       "10             6,10  0.3160,0.7930  \n",
       "15             6,10  0.3160,0.8070  \n",
       "20             6,10  0.2740,0.8360  \n",
       "...             ...            ...  \n",
       "80506826         12         0.6790  \n",
       "80506830         12         0.6670  \n",
       "80506834         12         0.6670  \n",
       "80506838         12         0.6550  \n",
       "80506842         12         0.6730  \n",
       "\n",
       "[7008614 rows x 7 columns]"
      ]
     },
     "execution_count": 85,
     "metadata": {},
     "output_type": "execute_result"
    }
   ],
   "source": [
    "# df.to_csv(\"data/consolidate_data_w_ds.csv\", index=False)\n",
    "## careful when reading, will read set as string\n",
    "# df = pd.read_csv(\"data/consolidate_data.csv\", index_col=[0])\n",
    "df"
   ]
  },
  {
   "attachments": {},
   "cell_type": "markdown",
   "metadata": {},
   "source": [
    "All data has been consolidated, there should be no duplicate sessions for different disorders/domains.\n",
    "We want to add time_period, usage_time, and usage_freq to the dataset."
   ]
  },
  {
   "attachments": {},
   "cell_type": "markdown",
   "metadata": {},
   "source": [
    "**This part doesn't need to be run if it's claire's data**"
   ]
  },
  {
   "cell_type": "code",
   "execution_count": 86,
   "metadata": {},
   "outputs": [],
   "source": [
    "# progression_order_df = pd.read_csv(\"data/progression_order.csv\", index_col=[0])\n",
    "# progression_order_df.rename(columns={'time_implemented':'start_time'}, inplace=True)\n",
    "# progression_order_df[\"start_time\"] = pd.to_datetime(progression_order_df[\"start_time\"])\n",
    "# df[\"start_time\"] = pd.to_datetime(df[\"start_time\"])"
   ]
  },
  {
   "cell_type": "code",
   "execution_count": 87,
   "metadata": {},
   "outputs": [],
   "source": [
    "# def time_period_convert(dd):\n",
    "#     dates = sorted(pd.unique(progression_order_df[\"start_time\"]))\n",
    "#     if dd < pd.to_datetime(dates[1]):\n",
    "#         return 1\n",
    "#     elif dd < pd.to_datetime(dates[2]):\n",
    "#         return 2\n",
    "#     elif dd < pd.to_datetime(dates[3]):\n",
    "#         return 3\n",
    "#     elif dd < pd.to_datetime(dates[4]):\n",
    "#         return 4\n",
    "#     else:\n",
    "#         return 5"
   ]
  },
  {
   "cell_type": "code",
   "execution_count": 88,
   "metadata": {},
   "outputs": [],
   "source": [
    "# added time period, takes around 8-9 minutes to run\n",
    "# df[\"time_period\"] = df[\"start_time\"].apply(time_period_convert)\n",
    "# df"
   ]
  },
  {
   "cell_type": "code",
   "execution_count": 89,
   "metadata": {},
   "outputs": [],
   "source": [
    "# progression_order_df[\"time_period\"] = progression_order_df[\"start_time\"].apply(time_period_convert)\n",
    "# progression_order_df"
   ]
  },
  {
   "attachments": {},
   "cell_type": "markdown",
   "metadata": {},
   "source": [
    "Adding Usage Time\n",
    "* this is by patient\n",
    "* need a patient dataframe vs session dataframe (df)"
   ]
  },
  {
   "cell_type": "code",
   "execution_count": 90,
   "metadata": {},
   "outputs": [],
   "source": [
    "df[\"start_time\"] = pd.to_datetime(df[\"start_time\"])\n",
    "df = df.sort_values(by=\"start_time\")"
   ]
  },
  {
   "cell_type": "code",
   "execution_count": 91,
   "metadata": {},
   "outputs": [
    {
     "data": {
      "text/html": [
       "<div>\n",
       "<style scoped>\n",
       "    .dataframe tbody tr th:only-of-type {\n",
       "        vertical-align: middle;\n",
       "    }\n",
       "\n",
       "    .dataframe tbody tr th {\n",
       "        vertical-align: top;\n",
       "    }\n",
       "\n",
       "    .dataframe thead th {\n",
       "        text-align: right;\n",
       "    }\n",
       "</style>\n",
       "<table border=\"1\" class=\"dataframe\">\n",
       "  <thead>\n",
       "    <tr style=\"text-align: right;\">\n",
       "      <th></th>\n",
       "      <th>patient_id</th>\n",
       "      <th>usage_time</th>\n",
       "    </tr>\n",
       "  </thead>\n",
       "  <tbody>\n",
       "    <tr>\n",
       "      <th>0</th>\n",
       "      <td>2171</td>\n",
       "      <td>1500</td>\n",
       "    </tr>\n",
       "    <tr>\n",
       "      <th>1</th>\n",
       "      <td>2281</td>\n",
       "      <td>1967</td>\n",
       "    </tr>\n",
       "    <tr>\n",
       "      <th>2</th>\n",
       "      <td>2466</td>\n",
       "      <td>894</td>\n",
       "    </tr>\n",
       "    <tr>\n",
       "      <th>3</th>\n",
       "      <td>2517</td>\n",
       "      <td>1140</td>\n",
       "    </tr>\n",
       "    <tr>\n",
       "      <th>4</th>\n",
       "      <td>3882</td>\n",
       "      <td>1</td>\n",
       "    </tr>\n",
       "    <tr>\n",
       "      <th>...</th>\n",
       "      <td>...</td>\n",
       "      <td>...</td>\n",
       "    </tr>\n",
       "    <tr>\n",
       "      <th>68775</th>\n",
       "      <td>560491</td>\n",
       "      <td>49</td>\n",
       "    </tr>\n",
       "    <tr>\n",
       "      <th>68776</th>\n",
       "      <td>565981</td>\n",
       "      <td>57</td>\n",
       "    </tr>\n",
       "    <tr>\n",
       "      <th>68777</th>\n",
       "      <td>568669</td>\n",
       "      <td>268</td>\n",
       "    </tr>\n",
       "    <tr>\n",
       "      <th>68778</th>\n",
       "      <td>575513</td>\n",
       "      <td>67</td>\n",
       "    </tr>\n",
       "    <tr>\n",
       "      <th>68779</th>\n",
       "      <td>584095</td>\n",
       "      <td>196</td>\n",
       "    </tr>\n",
       "  </tbody>\n",
       "</table>\n",
       "<p>68780 rows × 2 columns</p>\n",
       "</div>"
      ],
      "text/plain": [
       "       patient_id  usage_time\n",
       "0            2171        1500\n",
       "1            2281        1967\n",
       "2            2466         894\n",
       "3            2517        1140\n",
       "4            3882           1\n",
       "...           ...         ...\n",
       "68775      560491          49\n",
       "68776      565981          57\n",
       "68777      568669         268\n",
       "68778      575513          67\n",
       "68779      584095         196\n",
       "\n",
       "[68780 rows x 2 columns]"
      ]
     },
     "execution_count": 91,
     "metadata": {},
     "output_type": "execute_result"
    }
   ],
   "source": [
    "patients = (df.groupby(\"patient_id\")[\"start_time\"].max() - df.groupby(\"patient_id\")[\"start_time\"].min()).reset_index()\n",
    "patients.columns = [\"patient_id\", \"usage_time\"]\n",
    "patients[\"usage_time\"] = patients[\"usage_time\"].dt.days + 1\n",
    "patients"
   ]
  },
  {
   "attachments": {},
   "cell_type": "markdown",
   "metadata": {},
   "source": [
    "Add usage_freq for patient dataframe\n",
    "* using the simplest way of calculating frequency\n",
    "* how to get rid of outlier"
   ]
  },
  {
   "cell_type": "code",
   "execution_count": 92,
   "metadata": {},
   "outputs": [
    {
     "data": {
      "text/html": [
       "<div>\n",
       "<style scoped>\n",
       "    .dataframe tbody tr th:only-of-type {\n",
       "        vertical-align: middle;\n",
       "    }\n",
       "\n",
       "    .dataframe tbody tr th {\n",
       "        vertical-align: top;\n",
       "    }\n",
       "\n",
       "    .dataframe thead th {\n",
       "        text-align: right;\n",
       "    }\n",
       "</style>\n",
       "<table border=\"1\" class=\"dataframe\">\n",
       "  <thead>\n",
       "    <tr style=\"text-align: right;\">\n",
       "      <th></th>\n",
       "      <th>patient_id</th>\n",
       "      <th>usage_time</th>\n",
       "      <th>session_count</th>\n",
       "      <th>unique_days</th>\n",
       "    </tr>\n",
       "  </thead>\n",
       "  <tbody>\n",
       "    <tr>\n",
       "      <th>0</th>\n",
       "      <td>2171</td>\n",
       "      <td>1500</td>\n",
       "      <td>3221</td>\n",
       "      <td>3221</td>\n",
       "    </tr>\n",
       "    <tr>\n",
       "      <th>1</th>\n",
       "      <td>2281</td>\n",
       "      <td>1967</td>\n",
       "      <td>618</td>\n",
       "      <td>618</td>\n",
       "    </tr>\n",
       "    <tr>\n",
       "      <th>2</th>\n",
       "      <td>2466</td>\n",
       "      <td>894</td>\n",
       "      <td>12</td>\n",
       "      <td>12</td>\n",
       "    </tr>\n",
       "    <tr>\n",
       "      <th>3</th>\n",
       "      <td>2517</td>\n",
       "      <td>1140</td>\n",
       "      <td>1521</td>\n",
       "      <td>1521</td>\n",
       "    </tr>\n",
       "    <tr>\n",
       "      <th>4</th>\n",
       "      <td>3882</td>\n",
       "      <td>1</td>\n",
       "      <td>2</td>\n",
       "      <td>2</td>\n",
       "    </tr>\n",
       "    <tr>\n",
       "      <th>...</th>\n",
       "      <td>...</td>\n",
       "      <td>...</td>\n",
       "      <td>...</td>\n",
       "      <td>...</td>\n",
       "    </tr>\n",
       "    <tr>\n",
       "      <th>68775</th>\n",
       "      <td>560491</td>\n",
       "      <td>49</td>\n",
       "      <td>60</td>\n",
       "      <td>60</td>\n",
       "    </tr>\n",
       "    <tr>\n",
       "      <th>68776</th>\n",
       "      <td>565981</td>\n",
       "      <td>57</td>\n",
       "      <td>1105</td>\n",
       "      <td>1105</td>\n",
       "    </tr>\n",
       "    <tr>\n",
       "      <th>68777</th>\n",
       "      <td>568669</td>\n",
       "      <td>268</td>\n",
       "      <td>1103</td>\n",
       "      <td>1103</td>\n",
       "    </tr>\n",
       "    <tr>\n",
       "      <th>68778</th>\n",
       "      <td>575513</td>\n",
       "      <td>67</td>\n",
       "      <td>118</td>\n",
       "      <td>118</td>\n",
       "    </tr>\n",
       "    <tr>\n",
       "      <th>68779</th>\n",
       "      <td>584095</td>\n",
       "      <td>196</td>\n",
       "      <td>110</td>\n",
       "      <td>110</td>\n",
       "    </tr>\n",
       "  </tbody>\n",
       "</table>\n",
       "<p>68780 rows × 4 columns</p>\n",
       "</div>"
      ],
      "text/plain": [
       "       patient_id  usage_time  session_count  unique_days\n",
       "0            2171        1500           3221         3221\n",
       "1            2281        1967            618          618\n",
       "2            2466         894             12           12\n",
       "3            2517        1140           1521         1521\n",
       "4            3882           1              2            2\n",
       "...           ...         ...            ...          ...\n",
       "68775      560491          49             60           60\n",
       "68776      565981          57           1105         1105\n",
       "68777      568669         268           1103         1103\n",
       "68778      575513          67            118          118\n",
       "68779      584095         196            110          110\n",
       "\n",
       "[68780 rows x 4 columns]"
      ]
     },
     "execution_count": 92,
     "metadata": {},
     "output_type": "execute_result"
    }
   ],
   "source": [
    "patients[\"session_count\"] = df.groupby(\"patient_id\")[\"id\"].count().reset_index(name=\"session_count\")[\"session_count\"]\n",
    "patients[\"unique_days\"] = df.groupby(\"patient_id\")[\"start_time\"].nunique().reset_index(name=\"days\")[\"days\"]\n",
    "patients"
   ]
  },
  {
   "cell_type": "code",
   "execution_count": 93,
   "metadata": {},
   "outputs": [
    {
     "data": {
      "text/html": [
       "<div>\n",
       "<style scoped>\n",
       "    .dataframe tbody tr th:only-of-type {\n",
       "        vertical-align: middle;\n",
       "    }\n",
       "\n",
       "    .dataframe tbody tr th {\n",
       "        vertical-align: top;\n",
       "    }\n",
       "\n",
       "    .dataframe thead th {\n",
       "        text-align: right;\n",
       "    }\n",
       "</style>\n",
       "<table border=\"1\" class=\"dataframe\">\n",
       "  <thead>\n",
       "    <tr style=\"text-align: right;\">\n",
       "      <th></th>\n",
       "      <th>patient_id</th>\n",
       "      <th>usage_time</th>\n",
       "      <th>session_count</th>\n",
       "      <th>unique_days</th>\n",
       "      <th>usage_freq</th>\n",
       "    </tr>\n",
       "  </thead>\n",
       "  <tbody>\n",
       "    <tr>\n",
       "      <th>0</th>\n",
       "      <td>2171</td>\n",
       "      <td>1500</td>\n",
       "      <td>3221</td>\n",
       "      <td>3221</td>\n",
       "      <td>2.147333</td>\n",
       "    </tr>\n",
       "    <tr>\n",
       "      <th>1</th>\n",
       "      <td>2281</td>\n",
       "      <td>1967</td>\n",
       "      <td>618</td>\n",
       "      <td>618</td>\n",
       "      <td>0.314184</td>\n",
       "    </tr>\n",
       "    <tr>\n",
       "      <th>2</th>\n",
       "      <td>2466</td>\n",
       "      <td>894</td>\n",
       "      <td>12</td>\n",
       "      <td>12</td>\n",
       "      <td>0.013423</td>\n",
       "    </tr>\n",
       "    <tr>\n",
       "      <th>3</th>\n",
       "      <td>2517</td>\n",
       "      <td>1140</td>\n",
       "      <td>1521</td>\n",
       "      <td>1521</td>\n",
       "      <td>1.334211</td>\n",
       "    </tr>\n",
       "    <tr>\n",
       "      <th>4</th>\n",
       "      <td>3882</td>\n",
       "      <td>1</td>\n",
       "      <td>2</td>\n",
       "      <td>2</td>\n",
       "      <td>2.000000</td>\n",
       "    </tr>\n",
       "    <tr>\n",
       "      <th>...</th>\n",
       "      <td>...</td>\n",
       "      <td>...</td>\n",
       "      <td>...</td>\n",
       "      <td>...</td>\n",
       "      <td>...</td>\n",
       "    </tr>\n",
       "    <tr>\n",
       "      <th>68775</th>\n",
       "      <td>560491</td>\n",
       "      <td>49</td>\n",
       "      <td>60</td>\n",
       "      <td>60</td>\n",
       "      <td>1.224490</td>\n",
       "    </tr>\n",
       "    <tr>\n",
       "      <th>68776</th>\n",
       "      <td>565981</td>\n",
       "      <td>57</td>\n",
       "      <td>1105</td>\n",
       "      <td>1105</td>\n",
       "      <td>19.385965</td>\n",
       "    </tr>\n",
       "    <tr>\n",
       "      <th>68777</th>\n",
       "      <td>568669</td>\n",
       "      <td>268</td>\n",
       "      <td>1103</td>\n",
       "      <td>1103</td>\n",
       "      <td>4.115672</td>\n",
       "    </tr>\n",
       "    <tr>\n",
       "      <th>68778</th>\n",
       "      <td>575513</td>\n",
       "      <td>67</td>\n",
       "      <td>118</td>\n",
       "      <td>118</td>\n",
       "      <td>1.761194</td>\n",
       "    </tr>\n",
       "    <tr>\n",
       "      <th>68779</th>\n",
       "      <td>584095</td>\n",
       "      <td>196</td>\n",
       "      <td>110</td>\n",
       "      <td>110</td>\n",
       "      <td>0.561224</td>\n",
       "    </tr>\n",
       "  </tbody>\n",
       "</table>\n",
       "<p>68780 rows × 5 columns</p>\n",
       "</div>"
      ],
      "text/plain": [
       "       patient_id  usage_time  session_count  unique_days  usage_freq\n",
       "0            2171        1500           3221         3221    2.147333\n",
       "1            2281        1967            618          618    0.314184\n",
       "2            2466         894             12           12    0.013423\n",
       "3            2517        1140           1521         1521    1.334211\n",
       "4            3882           1              2            2    2.000000\n",
       "...           ...         ...            ...          ...         ...\n",
       "68775      560491          49             60           60    1.224490\n",
       "68776      565981          57           1105         1105   19.385965\n",
       "68777      568669         268           1103         1103    4.115672\n",
       "68778      575513          67            118          118    1.761194\n",
       "68779      584095         196            110          110    0.561224\n",
       "\n",
       "[68780 rows x 5 columns]"
      ]
     },
     "execution_count": 93,
     "metadata": {},
     "output_type": "execute_result"
    }
   ],
   "source": [
    "patients[\"usage_freq\"] = patients[\"unique_days\"] / patients[\"usage_time\"]\n",
    "patients"
   ]
  },
  {
   "attachments": {},
   "cell_type": "markdown",
   "metadata": {},
   "source": [
    "How to remove outlier"
   ]
  },
  {
   "cell_type": "code",
   "execution_count": 94,
   "metadata": {},
   "outputs": [],
   "source": [
    "from sklearn.cluster import DBSCAN\n",
    "\n",
    "def filter_datetime_outliers(data, column=\"start_time\", eps_days=7, min_samples=10):\n",
    "    \"\"\"\n",
    "    Filters outlier dates by clustering with DBSCAN.\n",
    "    \n",
    "    Parameters:\n",
    "    - data (pd.DataFrame): DataFrame containing datetime column.\n",
    "    - column (str): Name of the datetime column.\n",
    "    - eps_days (int): Max days apart for dates to be considered in the same cluster.\n",
    "    - min_samples (int): Minimum number of points required to form a cluster.\n",
    "    \n",
    "    Returns:\n",
    "    - pd.DataFrame: Filtered DataFrame containing only clustered dates.\n",
    "    \"\"\"\n",
    "    df = data.copy()\n",
    "\n",
    "    # Convert dates to numerical timestamps\n",
    "    df[\"timestamp\"] = df[column].astype(np.int64) // 10**9  # Convert to seconds\n",
    "\n",
    "    # Apply DBSCAN clustering\n",
    "    eps_seconds = eps_days * 24 * 60 * 60  # Convert days to seconds\n",
    "    clustering = DBSCAN(eps=eps_seconds, min_samples=min_samples).fit(df[[\"timestamp\"]])\n",
    "    \n",
    "    # Assign cluster labels\n",
    "    df[\"cluster\"] = clustering.labels_\n",
    "\n",
    "    # Remove outliers (DBSCAN labels outliers as -1)\n",
    "    filtered_df = df[df[\"cluster\"] != -1].drop(columns=[\"timestamp\", \"cluster\"])\n",
    "\n",
    "    return filtered_df"
   ]
  },
  {
   "cell_type": "code",
   "execution_count": 95,
   "metadata": {},
   "outputs": [],
   "source": [
    "# modified from https://stackoverflow.com/questions/56750841/how-to-trim-outliers-in-dates-in-python\n",
    "def datetime_outlier(data):\n",
    "    qa = data[\"start_time\"].quantile(0.2) #lower 10%\n",
    "    qb = data[\"start_time\"] #higher 10%\n",
    "    #remove outliers\n",
    "    xf = data[(data.start_time >= qa) & (data.start_time <= qb)]\n",
    "    return xf"
   ]
  },
  {
   "cell_type": "code",
   "execution_count": 96,
   "metadata": {},
   "outputs": [
    {
     "name": "stderr",
     "output_type": "stream",
     "text": [
      "/var/folders/vv/6vndbrvd7r1gc7xq3qqx8tfh0000gq/T/ipykernel_11152/3640673850.py:2: DeprecationWarning: DataFrameGroupBy.apply operated on the grouping columns. This behavior is deprecated, and in a future version of pandas the grouping columns will be excluded from the operation. Either pass `include_groups=False` to exclude the groupings or explicitly select the grouping columns after groupby to silence this warning.\n",
      "  patients_v2 = df.groupby(\"patient_id\").apply(filter_datetime_outliers).reset_index(drop=True)\n"
     ]
    }
   ],
   "source": [
    "# about a min\n",
    "patients_v2 = df.groupby(\"patient_id\").apply(filter_datetime_outliers).reset_index(drop=True)"
   ]
  },
  {
   "cell_type": "code",
   "execution_count": 97,
   "metadata": {},
   "outputs": [
    {
     "data": {
      "text/html": [
       "<div>\n",
       "<style scoped>\n",
       "    .dataframe tbody tr th:only-of-type {\n",
       "        vertical-align: middle;\n",
       "    }\n",
       "\n",
       "    .dataframe tbody tr th {\n",
       "        vertical-align: top;\n",
       "    }\n",
       "\n",
       "    .dataframe thead th {\n",
       "        text-align: right;\n",
       "    }\n",
       "</style>\n",
       "<table border=\"1\" class=\"dataframe\">\n",
       "  <thead>\n",
       "    <tr style=\"text-align: right;\">\n",
       "      <th></th>\n",
       "      <th>id</th>\n",
       "      <th>patient_id</th>\n",
       "      <th>start_time</th>\n",
       "      <th>task_type_id</th>\n",
       "      <th>task_level</th>\n",
       "      <th>domain_ids</th>\n",
       "      <th>domain_scores</th>\n",
       "    </tr>\n",
       "  </thead>\n",
       "  <tbody>\n",
       "    <tr>\n",
       "      <th>80506550</th>\n",
       "      <td>38748396</td>\n",
       "      <td>584095</td>\n",
       "      <td>2022-12-07 01:33:52</td>\n",
       "      <td>134</td>\n",
       "      <td>1</td>\n",
       "      <td>3</td>\n",
       "      <td>0.0370</td>\n",
       "    </tr>\n",
       "    <tr>\n",
       "      <th>80506678</th>\n",
       "      <td>38748397</td>\n",
       "      <td>584095</td>\n",
       "      <td>2022-12-07 01:36:22</td>\n",
       "      <td>212</td>\n",
       "      <td>6</td>\n",
       "      <td>5</td>\n",
       "      <td>0.0000</td>\n",
       "    </tr>\n",
       "    <tr>\n",
       "      <th>80506554</th>\n",
       "      <td>38840767</td>\n",
       "      <td>584095</td>\n",
       "      <td>2022-12-13 02:41:39</td>\n",
       "      <td>134</td>\n",
       "      <td>1</td>\n",
       "      <td>3</td>\n",
       "      <td>0.0370</td>\n",
       "    </tr>\n",
       "    <tr>\n",
       "      <th>80506682</th>\n",
       "      <td>38840768</td>\n",
       "      <td>584095</td>\n",
       "      <td>2022-12-13 02:47:04</td>\n",
       "      <td>212</td>\n",
       "      <td>6</td>\n",
       "      <td>5</td>\n",
       "      <td>0.4200</td>\n",
       "    </tr>\n",
       "    <tr>\n",
       "      <th>80506422</th>\n",
       "      <td>38840769</td>\n",
       "      <td>584095</td>\n",
       "      <td>2023-01-06 22:15:03</td>\n",
       "      <td>13</td>\n",
       "      <td>5</td>\n",
       "      <td>2</td>\n",
       "      <td>0.0000</td>\n",
       "    </tr>\n",
       "    <tr>\n",
       "      <th>...</th>\n",
       "      <td>...</td>\n",
       "      <td>...</td>\n",
       "      <td>...</td>\n",
       "      <td>...</td>\n",
       "      <td>...</td>\n",
       "      <td>...</td>\n",
       "      <td>...</td>\n",
       "    </tr>\n",
       "    <tr>\n",
       "      <th>80506642</th>\n",
       "      <td>41858185</td>\n",
       "      <td>584095</td>\n",
       "      <td>2023-06-17 20:29:23</td>\n",
       "      <td>207</td>\n",
       "      <td>5</td>\n",
       "      <td>12</td>\n",
       "      <td>0.5330</td>\n",
       "    </tr>\n",
       "    <tr>\n",
       "      <th>80506478</th>\n",
       "      <td>41858186</td>\n",
       "      <td>584095</td>\n",
       "      <td>2023-06-17 20:46:31</td>\n",
       "      <td>26</td>\n",
       "      <td>4</td>\n",
       "      <td>5</td>\n",
       "      <td>0.5350</td>\n",
       "    </tr>\n",
       "    <tr>\n",
       "      <th>80506498</th>\n",
       "      <td>41858187</td>\n",
       "      <td>584095</td>\n",
       "      <td>2023-06-17 20:52:27</td>\n",
       "      <td>26</td>\n",
       "      <td>5</td>\n",
       "      <td>5</td>\n",
       "      <td>0.5350</td>\n",
       "    </tr>\n",
       "    <tr>\n",
       "      <th>80506626</th>\n",
       "      <td>41858188</td>\n",
       "      <td>584095</td>\n",
       "      <td>2023-06-21 00:26:53</td>\n",
       "      <td>167</td>\n",
       "      <td>1</td>\n",
       "      <td>4,5</td>\n",
       "      <td>0.8750,0.5550</td>\n",
       "    </tr>\n",
       "    <tr>\n",
       "      <th>80506450</th>\n",
       "      <td>41954575</td>\n",
       "      <td>584095</td>\n",
       "      <td>2023-06-21 00:31:25</td>\n",
       "      <td>25</td>\n",
       "      <td>4</td>\n",
       "      <td>12</td>\n",
       "      <td>0.4060</td>\n",
       "    </tr>\n",
       "  </tbody>\n",
       "</table>\n",
       "<p>110 rows × 7 columns</p>\n",
       "</div>"
      ],
      "text/plain": [
       "                id  patient_id          start_time  task_type_id  task_level  \\\n",
       "80506550  38748396      584095 2022-12-07 01:33:52           134           1   \n",
       "80506678  38748397      584095 2022-12-07 01:36:22           212           6   \n",
       "80506554  38840767      584095 2022-12-13 02:41:39           134           1   \n",
       "80506682  38840768      584095 2022-12-13 02:47:04           212           6   \n",
       "80506422  38840769      584095 2023-01-06 22:15:03            13           5   \n",
       "...            ...         ...                 ...           ...         ...   \n",
       "80506642  41858185      584095 2023-06-17 20:29:23           207           5   \n",
       "80506478  41858186      584095 2023-06-17 20:46:31            26           4   \n",
       "80506498  41858187      584095 2023-06-17 20:52:27            26           5   \n",
       "80506626  41858188      584095 2023-06-21 00:26:53           167           1   \n",
       "80506450  41954575      584095 2023-06-21 00:31:25            25           4   \n",
       "\n",
       "         domain_ids  domain_scores  \n",
       "80506550          3         0.0370  \n",
       "80506678          5         0.0000  \n",
       "80506554          3         0.0370  \n",
       "80506682          5         0.4200  \n",
       "80506422          2         0.0000  \n",
       "...             ...            ...  \n",
       "80506642         12         0.5330  \n",
       "80506478          5         0.5350  \n",
       "80506498          5         0.5350  \n",
       "80506626        4,5  0.8750,0.5550  \n",
       "80506450         12         0.4060  \n",
       "\n",
       "[110 rows x 7 columns]"
      ]
     },
     "execution_count": 97,
     "metadata": {},
     "output_type": "execute_result"
    }
   ],
   "source": [
    "df[df.patient_id == 584095].sort_values(by=\"start_time\")"
   ]
  },
  {
   "cell_type": "code",
   "execution_count": 98,
   "metadata": {},
   "outputs": [
    {
     "data": {
      "text/html": [
       "<div>\n",
       "<style scoped>\n",
       "    .dataframe tbody tr th:only-of-type {\n",
       "        vertical-align: middle;\n",
       "    }\n",
       "\n",
       "    .dataframe tbody tr th {\n",
       "        vertical-align: top;\n",
       "    }\n",
       "\n",
       "    .dataframe thead th {\n",
       "        text-align: right;\n",
       "    }\n",
       "</style>\n",
       "<table border=\"1\" class=\"dataframe\">\n",
       "  <thead>\n",
       "    <tr style=\"text-align: right;\">\n",
       "      <th></th>\n",
       "      <th>id</th>\n",
       "      <th>patient_id</th>\n",
       "      <th>start_time</th>\n",
       "      <th>task_type_id</th>\n",
       "      <th>task_level</th>\n",
       "      <th>domain_ids</th>\n",
       "      <th>domain_scores</th>\n",
       "    </tr>\n",
       "  </thead>\n",
       "  <tbody>\n",
       "    <tr>\n",
       "      <th>6608399</th>\n",
       "      <td>40946268</td>\n",
       "      <td>584095</td>\n",
       "      <td>2023-04-20 00:22:17</td>\n",
       "      <td>212</td>\n",
       "      <td>10</td>\n",
       "      <td>5</td>\n",
       "      <td>0.3350</td>\n",
       "    </tr>\n",
       "    <tr>\n",
       "      <th>6608400</th>\n",
       "      <td>40946269</td>\n",
       "      <td>584095</td>\n",
       "      <td>2023-04-20 00:41:38</td>\n",
       "      <td>13</td>\n",
       "      <td>5</td>\n",
       "      <td>2</td>\n",
       "      <td>0.3170</td>\n",
       "    </tr>\n",
       "    <tr>\n",
       "      <th>6608401</th>\n",
       "      <td>40946270</td>\n",
       "      <td>584095</td>\n",
       "      <td>2023-04-20 00:46:13</td>\n",
       "      <td>254</td>\n",
       "      <td>3</td>\n",
       "      <td>5</td>\n",
       "      <td>0.3350</td>\n",
       "    </tr>\n",
       "    <tr>\n",
       "      <th>6608402</th>\n",
       "      <td>41058178</td>\n",
       "      <td>584095</td>\n",
       "      <td>2023-04-26 23:26:56</td>\n",
       "      <td>215</td>\n",
       "      <td>1</td>\n",
       "      <td>3,13</td>\n",
       "      <td>0.0810,0.0810</td>\n",
       "    </tr>\n",
       "    <tr>\n",
       "      <th>6608403</th>\n",
       "      <td>41058179</td>\n",
       "      <td>584095</td>\n",
       "      <td>2023-04-26 23:29:14</td>\n",
       "      <td>215</td>\n",
       "      <td>7</td>\n",
       "      <td>3,13</td>\n",
       "      <td>0.1850,0.2710</td>\n",
       "    </tr>\n",
       "    <tr>\n",
       "      <th>...</th>\n",
       "      <td>...</td>\n",
       "      <td>...</td>\n",
       "      <td>...</td>\n",
       "      <td>...</td>\n",
       "      <td>...</td>\n",
       "      <td>...</td>\n",
       "      <td>...</td>\n",
       "    </tr>\n",
       "    <tr>\n",
       "      <th>6608490</th>\n",
       "      <td>41858185</td>\n",
       "      <td>584095</td>\n",
       "      <td>2023-06-17 20:29:23</td>\n",
       "      <td>207</td>\n",
       "      <td>5</td>\n",
       "      <td>12</td>\n",
       "      <td>0.5330</td>\n",
       "    </tr>\n",
       "    <tr>\n",
       "      <th>6608491</th>\n",
       "      <td>41858186</td>\n",
       "      <td>584095</td>\n",
       "      <td>2023-06-17 20:46:31</td>\n",
       "      <td>26</td>\n",
       "      <td>4</td>\n",
       "      <td>5</td>\n",
       "      <td>0.5350</td>\n",
       "    </tr>\n",
       "    <tr>\n",
       "      <th>6608492</th>\n",
       "      <td>41858187</td>\n",
       "      <td>584095</td>\n",
       "      <td>2023-06-17 20:52:27</td>\n",
       "      <td>26</td>\n",
       "      <td>5</td>\n",
       "      <td>5</td>\n",
       "      <td>0.5350</td>\n",
       "    </tr>\n",
       "    <tr>\n",
       "      <th>6608493</th>\n",
       "      <td>41858188</td>\n",
       "      <td>584095</td>\n",
       "      <td>2023-06-21 00:26:53</td>\n",
       "      <td>167</td>\n",
       "      <td>1</td>\n",
       "      <td>4,5</td>\n",
       "      <td>0.8750,0.5550</td>\n",
       "    </tr>\n",
       "    <tr>\n",
       "      <th>6608494</th>\n",
       "      <td>41954575</td>\n",
       "      <td>584095</td>\n",
       "      <td>2023-06-21 00:31:25</td>\n",
       "      <td>25</td>\n",
       "      <td>4</td>\n",
       "      <td>12</td>\n",
       "      <td>0.4060</td>\n",
       "    </tr>\n",
       "  </tbody>\n",
       "</table>\n",
       "<p>96 rows × 7 columns</p>\n",
       "</div>"
      ],
      "text/plain": [
       "               id  patient_id          start_time  task_type_id  task_level  \\\n",
       "6608399  40946268      584095 2023-04-20 00:22:17           212          10   \n",
       "6608400  40946269      584095 2023-04-20 00:41:38            13           5   \n",
       "6608401  40946270      584095 2023-04-20 00:46:13           254           3   \n",
       "6608402  41058178      584095 2023-04-26 23:26:56           215           1   \n",
       "6608403  41058179      584095 2023-04-26 23:29:14           215           7   \n",
       "...           ...         ...                 ...           ...         ...   \n",
       "6608490  41858185      584095 2023-06-17 20:29:23           207           5   \n",
       "6608491  41858186      584095 2023-06-17 20:46:31            26           4   \n",
       "6608492  41858187      584095 2023-06-17 20:52:27            26           5   \n",
       "6608493  41858188      584095 2023-06-21 00:26:53           167           1   \n",
       "6608494  41954575      584095 2023-06-21 00:31:25            25           4   \n",
       "\n",
       "        domain_ids  domain_scores  \n",
       "6608399          5         0.3350  \n",
       "6608400          2         0.3170  \n",
       "6608401          5         0.3350  \n",
       "6608402       3,13  0.0810,0.0810  \n",
       "6608403       3,13  0.1850,0.2710  \n",
       "...            ...            ...  \n",
       "6608490         12         0.5330  \n",
       "6608491          5         0.5350  \n",
       "6608492          5         0.5350  \n",
       "6608493        4,5  0.8750,0.5550  \n",
       "6608494         12         0.4060  \n",
       "\n",
       "[96 rows x 7 columns]"
      ]
     },
     "execution_count": 98,
     "metadata": {},
     "output_type": "execute_result"
    }
   ],
   "source": [
    "patients_v2[patients_v2.patient_id == 584095].sort_values(by=\"start_time\")"
   ]
  },
  {
   "cell_type": "code",
   "execution_count": 99,
   "metadata": {},
   "outputs": [
    {
     "data": {
      "text/plain": [
       "id               6608495\n",
       "patient_id         29459\n",
       "start_time       6327908\n",
       "task_type_id         173\n",
       "task_level            12\n",
       "domain_ids            34\n",
       "domain_scores     187217\n",
       "dtype: int64"
      ]
     },
     "execution_count": 99,
     "metadata": {},
     "output_type": "execute_result"
    }
   ],
   "source": [
    "patients_v2.nunique()"
   ]
  },
  {
   "cell_type": "code",
   "execution_count": 100,
   "metadata": {},
   "outputs": [
    {
     "data": {
      "text/html": [
       "<div>\n",
       "<style scoped>\n",
       "    .dataframe tbody tr th:only-of-type {\n",
       "        vertical-align: middle;\n",
       "    }\n",
       "\n",
       "    .dataframe tbody tr th {\n",
       "        vertical-align: top;\n",
       "    }\n",
       "\n",
       "    .dataframe thead th {\n",
       "        text-align: right;\n",
       "    }\n",
       "</style>\n",
       "<table border=\"1\" class=\"dataframe\">\n",
       "  <thead>\n",
       "    <tr style=\"text-align: right;\">\n",
       "      <th></th>\n",
       "      <th>patient_id</th>\n",
       "      <th>usage_time</th>\n",
       "    </tr>\n",
       "  </thead>\n",
       "  <tbody>\n",
       "    <tr>\n",
       "      <th>0</th>\n",
       "      <td>2171</td>\n",
       "      <td>1442</td>\n",
       "    </tr>\n",
       "    <tr>\n",
       "      <th>1</th>\n",
       "      <td>2281</td>\n",
       "      <td>1944</td>\n",
       "    </tr>\n",
       "    <tr>\n",
       "      <th>2</th>\n",
       "      <td>2517</td>\n",
       "      <td>699</td>\n",
       "    </tr>\n",
       "    <tr>\n",
       "      <th>3</th>\n",
       "      <td>4032</td>\n",
       "      <td>534</td>\n",
       "    </tr>\n",
       "    <tr>\n",
       "      <th>4</th>\n",
       "      <td>4073</td>\n",
       "      <td>10</td>\n",
       "    </tr>\n",
       "    <tr>\n",
       "      <th>...</th>\n",
       "      <td>...</td>\n",
       "      <td>...</td>\n",
       "    </tr>\n",
       "    <tr>\n",
       "      <th>29454</th>\n",
       "      <td>560491</td>\n",
       "      <td>41</td>\n",
       "    </tr>\n",
       "    <tr>\n",
       "      <th>29455</th>\n",
       "      <td>565981</td>\n",
       "      <td>57</td>\n",
       "    </tr>\n",
       "    <tr>\n",
       "      <th>29456</th>\n",
       "      <td>568669</td>\n",
       "      <td>268</td>\n",
       "    </tr>\n",
       "    <tr>\n",
       "      <th>29457</th>\n",
       "      <td>575513</td>\n",
       "      <td>46</td>\n",
       "    </tr>\n",
       "    <tr>\n",
       "      <th>29458</th>\n",
       "      <td>584095</td>\n",
       "      <td>63</td>\n",
       "    </tr>\n",
       "  </tbody>\n",
       "</table>\n",
       "<p>29459 rows × 2 columns</p>\n",
       "</div>"
      ],
      "text/plain": [
       "       patient_id  usage_time\n",
       "0            2171        1442\n",
       "1            2281        1944\n",
       "2            2517         699\n",
       "3            4032         534\n",
       "4            4073          10\n",
       "...           ...         ...\n",
       "29454      560491          41\n",
       "29455      565981          57\n",
       "29456      568669         268\n",
       "29457      575513          46\n",
       "29458      584095          63\n",
       "\n",
       "[29459 rows x 2 columns]"
      ]
     },
     "execution_count": 100,
     "metadata": {},
     "output_type": "execute_result"
    }
   ],
   "source": [
    "patients_filtered = (patients_v2.groupby(\"patient_id\")[\"start_time\"].max() - patients_v2.groupby(\"patient_id\")[\"start_time\"].min()).reset_index()\n",
    "patients_filtered.columns = [\"patient_id\", \"usage_time\"]\n",
    "patients_filtered[\"usage_time\"] = patients_filtered[\"usage_time\"].dt.days + 1\n",
    "patients_filtered"
   ]
  },
  {
   "cell_type": "code",
   "execution_count": 101,
   "metadata": {},
   "outputs": [],
   "source": [
    "patients_filtered[\"session_count\"] = patients_v2.groupby(\"patient_id\")[\"id\"].count().reset_index(name=\"session_count\")[\"session_count\"]\n",
    "patients_filtered[\"unique_days\"] = patients_v2.groupby(\"patient_id\")[\"start_time\"].nunique().reset_index(name=\"days\")[\"days\"]\n",
    "patients_filtered[\"usage_freq\"] = patients_filtered[\"unique_days\"] / patients_filtered[\"usage_time\"]"
   ]
  },
  {
   "attachments": {},
   "cell_type": "markdown",
   "metadata": {},
   "source": [
    "Check that the length of patients_filtered is less than or equal to the length of patients"
   ]
  },
  {
   "cell_type": "code",
   "execution_count": 102,
   "metadata": {},
   "outputs": [
    {
     "data": {
      "text/html": [
       "<div>\n",
       "<style scoped>\n",
       "    .dataframe tbody tr th:only-of-type {\n",
       "        vertical-align: middle;\n",
       "    }\n",
       "\n",
       "    .dataframe tbody tr th {\n",
       "        vertical-align: top;\n",
       "    }\n",
       "\n",
       "    .dataframe thead th {\n",
       "        text-align: right;\n",
       "    }\n",
       "</style>\n",
       "<table border=\"1\" class=\"dataframe\">\n",
       "  <thead>\n",
       "    <tr style=\"text-align: right;\">\n",
       "      <th></th>\n",
       "      <th>patient_id</th>\n",
       "      <th>usage_time</th>\n",
       "      <th>session_count</th>\n",
       "      <th>unique_days</th>\n",
       "      <th>usage_freq</th>\n",
       "    </tr>\n",
       "  </thead>\n",
       "  <tbody>\n",
       "    <tr>\n",
       "      <th>0</th>\n",
       "      <td>2171</td>\n",
       "      <td>1500</td>\n",
       "      <td>3221</td>\n",
       "      <td>3221</td>\n",
       "      <td>2.147333</td>\n",
       "    </tr>\n",
       "    <tr>\n",
       "      <th>1</th>\n",
       "      <td>2281</td>\n",
       "      <td>1967</td>\n",
       "      <td>618</td>\n",
       "      <td>618</td>\n",
       "      <td>0.314184</td>\n",
       "    </tr>\n",
       "    <tr>\n",
       "      <th>2</th>\n",
       "      <td>2466</td>\n",
       "      <td>894</td>\n",
       "      <td>12</td>\n",
       "      <td>12</td>\n",
       "      <td>0.013423</td>\n",
       "    </tr>\n",
       "    <tr>\n",
       "      <th>3</th>\n",
       "      <td>2517</td>\n",
       "      <td>1140</td>\n",
       "      <td>1521</td>\n",
       "      <td>1521</td>\n",
       "      <td>1.334211</td>\n",
       "    </tr>\n",
       "    <tr>\n",
       "      <th>4</th>\n",
       "      <td>3882</td>\n",
       "      <td>1</td>\n",
       "      <td>2</td>\n",
       "      <td>2</td>\n",
       "      <td>2.000000</td>\n",
       "    </tr>\n",
       "    <tr>\n",
       "      <th>...</th>\n",
       "      <td>...</td>\n",
       "      <td>...</td>\n",
       "      <td>...</td>\n",
       "      <td>...</td>\n",
       "      <td>...</td>\n",
       "    </tr>\n",
       "    <tr>\n",
       "      <th>68775</th>\n",
       "      <td>560491</td>\n",
       "      <td>49</td>\n",
       "      <td>60</td>\n",
       "      <td>60</td>\n",
       "      <td>1.224490</td>\n",
       "    </tr>\n",
       "    <tr>\n",
       "      <th>68776</th>\n",
       "      <td>565981</td>\n",
       "      <td>57</td>\n",
       "      <td>1105</td>\n",
       "      <td>1105</td>\n",
       "      <td>19.385965</td>\n",
       "    </tr>\n",
       "    <tr>\n",
       "      <th>68777</th>\n",
       "      <td>568669</td>\n",
       "      <td>268</td>\n",
       "      <td>1103</td>\n",
       "      <td>1103</td>\n",
       "      <td>4.115672</td>\n",
       "    </tr>\n",
       "    <tr>\n",
       "      <th>68778</th>\n",
       "      <td>575513</td>\n",
       "      <td>67</td>\n",
       "      <td>118</td>\n",
       "      <td>118</td>\n",
       "      <td>1.761194</td>\n",
       "    </tr>\n",
       "    <tr>\n",
       "      <th>68779</th>\n",
       "      <td>584095</td>\n",
       "      <td>196</td>\n",
       "      <td>110</td>\n",
       "      <td>110</td>\n",
       "      <td>0.561224</td>\n",
       "    </tr>\n",
       "  </tbody>\n",
       "</table>\n",
       "<p>68780 rows × 5 columns</p>\n",
       "</div>"
      ],
      "text/plain": [
       "       patient_id  usage_time  session_count  unique_days  usage_freq\n",
       "0            2171        1500           3221         3221    2.147333\n",
       "1            2281        1967            618          618    0.314184\n",
       "2            2466         894             12           12    0.013423\n",
       "3            2517        1140           1521         1521    1.334211\n",
       "4            3882           1              2            2    2.000000\n",
       "...           ...         ...            ...          ...         ...\n",
       "68775      560491          49             60           60    1.224490\n",
       "68776      565981          57           1105         1105   19.385965\n",
       "68777      568669         268           1103         1103    4.115672\n",
       "68778      575513          67            118          118    1.761194\n",
       "68779      584095         196            110          110    0.561224\n",
       "\n",
       "[68780 rows x 5 columns]"
      ]
     },
     "execution_count": 102,
     "metadata": {},
     "output_type": "execute_result"
    }
   ],
   "source": [
    "patients"
   ]
  },
  {
   "cell_type": "code",
   "execution_count": 103,
   "metadata": {},
   "outputs": [
    {
     "data": {
      "text/html": [
       "<div>\n",
       "<style scoped>\n",
       "    .dataframe tbody tr th:only-of-type {\n",
       "        vertical-align: middle;\n",
       "    }\n",
       "\n",
       "    .dataframe tbody tr th {\n",
       "        vertical-align: top;\n",
       "    }\n",
       "\n",
       "    .dataframe thead th {\n",
       "        text-align: right;\n",
       "    }\n",
       "</style>\n",
       "<table border=\"1\" class=\"dataframe\">\n",
       "  <thead>\n",
       "    <tr style=\"text-align: right;\">\n",
       "      <th></th>\n",
       "      <th>patient_id</th>\n",
       "      <th>usage_time</th>\n",
       "      <th>session_count</th>\n",
       "      <th>unique_days</th>\n",
       "      <th>usage_freq</th>\n",
       "    </tr>\n",
       "  </thead>\n",
       "  <tbody>\n",
       "    <tr>\n",
       "      <th>0</th>\n",
       "      <td>2171</td>\n",
       "      <td>1442</td>\n",
       "      <td>3140</td>\n",
       "      <td>3140</td>\n",
       "      <td>2.177531</td>\n",
       "    </tr>\n",
       "    <tr>\n",
       "      <th>1</th>\n",
       "      <td>2281</td>\n",
       "      <td>1944</td>\n",
       "      <td>576</td>\n",
       "      <td>576</td>\n",
       "      <td>0.296296</td>\n",
       "    </tr>\n",
       "    <tr>\n",
       "      <th>2</th>\n",
       "      <td>2517</td>\n",
       "      <td>699</td>\n",
       "      <td>1484</td>\n",
       "      <td>1484</td>\n",
       "      <td>2.123033</td>\n",
       "    </tr>\n",
       "    <tr>\n",
       "      <th>3</th>\n",
       "      <td>4032</td>\n",
       "      <td>534</td>\n",
       "      <td>123</td>\n",
       "      <td>123</td>\n",
       "      <td>0.230337</td>\n",
       "    </tr>\n",
       "    <tr>\n",
       "      <th>4</th>\n",
       "      <td>4073</td>\n",
       "      <td>10</td>\n",
       "      <td>10</td>\n",
       "      <td>10</td>\n",
       "      <td>1.000000</td>\n",
       "    </tr>\n",
       "    <tr>\n",
       "      <th>...</th>\n",
       "      <td>...</td>\n",
       "      <td>...</td>\n",
       "      <td>...</td>\n",
       "      <td>...</td>\n",
       "      <td>...</td>\n",
       "    </tr>\n",
       "    <tr>\n",
       "      <th>29454</th>\n",
       "      <td>560491</td>\n",
       "      <td>41</td>\n",
       "      <td>58</td>\n",
       "      <td>58</td>\n",
       "      <td>1.414634</td>\n",
       "    </tr>\n",
       "    <tr>\n",
       "      <th>29455</th>\n",
       "      <td>565981</td>\n",
       "      <td>57</td>\n",
       "      <td>1105</td>\n",
       "      <td>1105</td>\n",
       "      <td>19.385965</td>\n",
       "    </tr>\n",
       "    <tr>\n",
       "      <th>29456</th>\n",
       "      <td>568669</td>\n",
       "      <td>268</td>\n",
       "      <td>1103</td>\n",
       "      <td>1103</td>\n",
       "      <td>4.115672</td>\n",
       "    </tr>\n",
       "    <tr>\n",
       "      <th>29457</th>\n",
       "      <td>575513</td>\n",
       "      <td>46</td>\n",
       "      <td>111</td>\n",
       "      <td>111</td>\n",
       "      <td>2.413043</td>\n",
       "    </tr>\n",
       "    <tr>\n",
       "      <th>29458</th>\n",
       "      <td>584095</td>\n",
       "      <td>63</td>\n",
       "      <td>96</td>\n",
       "      <td>96</td>\n",
       "      <td>1.523810</td>\n",
       "    </tr>\n",
       "  </tbody>\n",
       "</table>\n",
       "<p>29459 rows × 5 columns</p>\n",
       "</div>"
      ],
      "text/plain": [
       "       patient_id  usage_time  session_count  unique_days  usage_freq\n",
       "0            2171        1442           3140         3140    2.177531\n",
       "1            2281        1944            576          576    0.296296\n",
       "2            2517         699           1484         1484    2.123033\n",
       "3            4032         534            123          123    0.230337\n",
       "4            4073          10             10           10    1.000000\n",
       "...           ...         ...            ...          ...         ...\n",
       "29454      560491          41             58           58    1.414634\n",
       "29455      565981          57           1105         1105   19.385965\n",
       "29456      568669         268           1103         1103    4.115672\n",
       "29457      575513          46            111          111    2.413043\n",
       "29458      584095          63             96           96    1.523810\n",
       "\n",
       "[29459 rows x 5 columns]"
      ]
     },
     "execution_count": 103,
     "metadata": {},
     "output_type": "execute_result"
    }
   ],
   "source": [
    "patients_filtered"
   ]
  },
  {
   "attachments": {},
   "cell_type": "markdown",
   "metadata": {},
   "source": [
    "## INTERACT\n",
    "Filter seems to work for time outlier, so we using patient_filtered"
   ]
  },
  {
   "cell_type": "code",
   "execution_count": null,
   "metadata": {},
   "outputs": [
    {
     "data": {
      "application/vnd.jupyter.widget-view+json": {
       "model_id": "9ecbfd939c4a49b1996dc5f6971efa48",
       "version_major": 2,
       "version_minor": 0
      },
      "text/plain": [
       "interactive(children=(IntSlider(value=183, description='usage_time', max=365, min=1), FloatSlider(value=0.5, d…"
      ]
     },
     "metadata": {},
     "output_type": "display_data"
    }
   ],
   "source": [
    "# interact to figure out what thresholds to use\n",
    "\n",
    "@widgets.interact_manual(usage_time=(1, 365), usage_freq=(0.0, 1.0))\n",
    "def visualize(usage_time, usage_freq):\n",
    "    temp = patients_filtered[patients_filtered.usage_time > usage_time]\n",
    "    temp = temp[temp.usage_freq > usage_freq]\n",
    "    return \"number of patients: %d\" %(temp[\"patient_id\"].nunique())"
   ]
  },
  {
   "cell_type": "code",
   "execution_count": 116,
   "metadata": {},
   "outputs": [
    {
     "name": "stdout",
     "output_type": "stream",
     "text": [
      "inputted  95\n",
      "inputted  0.2\n"
     ]
    }
   ],
   "source": [
    "# create the according filtered patients dataframe\n",
    "\n",
    "usage_time = input(\"usage time: \")\n",
    "print(\"inputted \", usage_time)\n",
    "usage_freq = input(\"usage_freq: \")\n",
    "print(\"inputted \", usage_freq)"
   ]
  },
  {
   "cell_type": "code",
   "execution_count": 117,
   "metadata": {},
   "outputs": [],
   "source": [
    "filtered_patients_list = patients_filtered[patients_filtered.usage_time > float(usage_time)]\n",
    "filtered_patients_list = filtered_patients_list[filtered_patients_list.usage_freq > float(usage_freq)]"
   ]
  },
  {
   "cell_type": "code",
   "execution_count": 118,
   "metadata": {},
   "outputs": [
    {
     "data": {
      "text/plain": [
       "patient_id       4399\n",
       "usage_time       1386\n",
       "session_count    1980\n",
       "unique_days      1986\n",
       "usage_freq       4298\n",
       "dtype: int64"
      ]
     },
     "execution_count": 118,
     "metadata": {},
     "output_type": "execute_result"
    }
   ],
   "source": [
    "filtered_patients_list.nunique()"
   ]
  },
  {
   "cell_type": "code",
   "execution_count": 119,
   "metadata": {},
   "outputs": [
    {
     "data": {
      "text/html": [
       "<div>\n",
       "<style scoped>\n",
       "    .dataframe tbody tr th:only-of-type {\n",
       "        vertical-align: middle;\n",
       "    }\n",
       "\n",
       "    .dataframe tbody tr th {\n",
       "        vertical-align: top;\n",
       "    }\n",
       "\n",
       "    .dataframe thead th {\n",
       "        text-align: right;\n",
       "    }\n",
       "</style>\n",
       "<table border=\"1\" class=\"dataframe\">\n",
       "  <thead>\n",
       "    <tr style=\"text-align: right;\">\n",
       "      <th></th>\n",
       "      <th>id</th>\n",
       "      <th>patient_id</th>\n",
       "      <th>start_time</th>\n",
       "      <th>task_type_id</th>\n",
       "      <th>task_level</th>\n",
       "      <th>domain_ids</th>\n",
       "      <th>domain_scores</th>\n",
       "    </tr>\n",
       "  </thead>\n",
       "  <tbody>\n",
       "    <tr>\n",
       "      <th>11225782</th>\n",
       "      <td>6334548</td>\n",
       "      <td>97021</td>\n",
       "      <td>2017-03-13 00:49:21</td>\n",
       "      <td>79</td>\n",
       "      <td>3</td>\n",
       "      <td>9</td>\n",
       "      <td>0.6000</td>\n",
       "    </tr>\n",
       "    <tr>\n",
       "      <th>17344069</th>\n",
       "      <td>8391327</td>\n",
       "      <td>134153</td>\n",
       "      <td>2017-09-21 17:46:51</td>\n",
       "      <td>37</td>\n",
       "      <td>1</td>\n",
       "      <td>1,10,11</td>\n",
       "      <td>0.3430,0.3640,0.7600</td>\n",
       "    </tr>\n",
       "    <tr>\n",
       "      <th>19382641</th>\n",
       "      <td>8814541</td>\n",
       "      <td>139776</td>\n",
       "      <td>2017-10-25 21:53:53</td>\n",
       "      <td>76</td>\n",
       "      <td>1</td>\n",
       "      <td>6,8</td>\n",
       "      <td>0.7500,0.5000</td>\n",
       "    </tr>\n",
       "    <tr>\n",
       "      <th>14401772</th>\n",
       "      <td>8970881</td>\n",
       "      <td>119855</td>\n",
       "      <td>2017-11-07 20:06:06</td>\n",
       "      <td>24</td>\n",
       "      <td>4</td>\n",
       "      <td>12</td>\n",
       "      <td>0.5640</td>\n",
       "    </tr>\n",
       "    <tr>\n",
       "      <th>20663123</th>\n",
       "      <td>9156751</td>\n",
       "      <td>144485</td>\n",
       "      <td>2017-11-22 15:01:40</td>\n",
       "      <td>10</td>\n",
       "      <td>4</td>\n",
       "      <td>6,7</td>\n",
       "      <td>0.4000,0.4000</td>\n",
       "    </tr>\n",
       "    <tr>\n",
       "      <th>...</th>\n",
       "      <td>...</td>\n",
       "      <td>...</td>\n",
       "      <td>...</td>\n",
       "      <td>...</td>\n",
       "      <td>...</td>\n",
       "      <td>...</td>\n",
       "      <td>...</td>\n",
       "    </tr>\n",
       "    <tr>\n",
       "      <th>4080248</th>\n",
       "      <td>41974214</td>\n",
       "      <td>35004</td>\n",
       "      <td>2023-06-22 03:09:03</td>\n",
       "      <td>235</td>\n",
       "      <td>6</td>\n",
       "      <td>14</td>\n",
       "      <td>0.8670</td>\n",
       "    </tr>\n",
       "    <tr>\n",
       "      <th>6783830</th>\n",
       "      <td>41976112</td>\n",
       "      <td>54405</td>\n",
       "      <td>2023-06-22 03:15:19</td>\n",
       "      <td>136</td>\n",
       "      <td>6</td>\n",
       "      <td>13</td>\n",
       "      <td>0.5410</td>\n",
       "    </tr>\n",
       "    <tr>\n",
       "      <th>6760870</th>\n",
       "      <td>41976113</td>\n",
       "      <td>54405</td>\n",
       "      <td>2023-06-22 03:16:52</td>\n",
       "      <td>13</td>\n",
       "      <td>2</td>\n",
       "      <td>2</td>\n",
       "      <td>0.3800</td>\n",
       "    </tr>\n",
       "    <tr>\n",
       "      <th>6765630</th>\n",
       "      <td>41976114</td>\n",
       "      <td>54405</td>\n",
       "      <td>2023-06-22 03:20:17</td>\n",
       "      <td>26</td>\n",
       "      <td>2</td>\n",
       "      <td>5</td>\n",
       "      <td>0.2580</td>\n",
       "    </tr>\n",
       "    <tr>\n",
       "      <th>6793210</th>\n",
       "      <td>41976115</td>\n",
       "      <td>54405</td>\n",
       "      <td>2023-06-22 03:23:17</td>\n",
       "      <td>199</td>\n",
       "      <td>3</td>\n",
       "      <td>10</td>\n",
       "      <td>0.3080</td>\n",
       "    </tr>\n",
       "  </tbody>\n",
       "</table>\n",
       "<p>5839764 rows × 7 columns</p>\n",
       "</div>"
      ],
      "text/plain": [
       "                id  patient_id          start_time  task_type_id  task_level  \\\n",
       "11225782   6334548       97021 2017-03-13 00:49:21            79           3   \n",
       "17344069   8391327      134153 2017-09-21 17:46:51            37           1   \n",
       "19382641   8814541      139776 2017-10-25 21:53:53            76           1   \n",
       "14401772   8970881      119855 2017-11-07 20:06:06            24           4   \n",
       "20663123   9156751      144485 2017-11-22 15:01:40            10           4   \n",
       "...            ...         ...                 ...           ...         ...   \n",
       "4080248   41974214       35004 2023-06-22 03:09:03           235           6   \n",
       "6783830   41976112       54405 2023-06-22 03:15:19           136           6   \n",
       "6760870   41976113       54405 2023-06-22 03:16:52            13           2   \n",
       "6765630   41976114       54405 2023-06-22 03:20:17            26           2   \n",
       "6793210   41976115       54405 2023-06-22 03:23:17           199           3   \n",
       "\n",
       "         domain_ids         domain_scores  \n",
       "11225782          9                0.6000  \n",
       "17344069    1,10,11  0.3430,0.3640,0.7600  \n",
       "19382641        6,8         0.7500,0.5000  \n",
       "14401772         12                0.5640  \n",
       "20663123        6,7         0.4000,0.4000  \n",
       "...             ...                   ...  \n",
       "4080248          14                0.8670  \n",
       "6783830          13                0.5410  \n",
       "6760870           2                0.3800  \n",
       "6765630           5                0.2580  \n",
       "6793210          10                0.3080  \n",
       "\n",
       "[5839764 rows x 7 columns]"
      ]
     },
     "execution_count": 119,
     "metadata": {},
     "output_type": "execute_result"
    }
   ],
   "source": [
    "# create filtered session dataframe from filtered patients data\n",
    "temp_lst = filtered_patients_list[\"patient_id\"]\n",
    "sessions_filter_df = df[df.patient_id.isin(temp_lst)]\n",
    "sessions_filter_df"
   ]
  },
  {
   "cell_type": "code",
   "execution_count": 120,
   "metadata": {},
   "outputs": [],
   "source": [
    "# filter based on time_period\n",
    "# time_period_n = input(\"time period: \")\n",
    "# sessions_filter_df = sessions_filter_df[sessions_filter_df.time_period == int(time_period_n)]"
   ]
  },
  {
   "cell_type": "code",
   "execution_count": 110,
   "metadata": {},
   "outputs": [],
   "source": [
    "# sessions_filter_df.to_csv(\"data/filtered_model_data.csv\", index=False)"
   ]
  },
  {
   "cell_type": "code",
   "execution_count": 121,
   "metadata": {},
   "outputs": [
    {
     "data": {
      "text/plain": [
       "id            5839764\n",
       "patient_id       4399\n",
       "dtype: int64"
      ]
     },
     "execution_count": 121,
     "metadata": {},
     "output_type": "execute_result"
    }
   ],
   "source": [
    "sessions_filter_df[[\"id\", \"patient_id\"]].nunique()"
   ]
  },
  {
   "cell_type": "code",
   "execution_count": 124,
   "metadata": {},
   "outputs": [
    {
     "data": {
      "text/plain": [
       "session_count    1293.34667\n",
       "dtype: float64"
      ]
     },
     "execution_count": 124,
     "metadata": {},
     "output_type": "execute_result"
    }
   ],
   "source": [
    "filtered_patients_list[[\"session_count\"]].mean()"
   ]
  },
  {
   "cell_type": "code",
   "execution_count": 122,
   "metadata": {},
   "outputs": [
    {
     "name": "stderr",
     "output_type": "stream",
     "text": [
      "/var/folders/vv/6vndbrvd7r1gc7xq3qqx8tfh0000gq/T/ipykernel_11152/2775516111.py:8: SettingWithCopyWarning: \n",
      "A value is trying to be set on a copy of a slice from a DataFrame.\n",
      "Try using .loc[row_indexer,col_indexer] = value instead\n",
      "\n",
      "See the caveats in the documentation: https://pandas.pydata.org/pandas-docs/stable/user_guide/indexing.html#returning-a-view-versus-a-copy\n",
      "  df1['date'] = df1['start_time'].dt.date\n",
      "/var/folders/vv/6vndbrvd7r1gc7xq3qqx8tfh0000gq/T/ipykernel_11152/2775516111.py:9: SettingWithCopyWarning: \n",
      "A value is trying to be set on a copy of a slice from a DataFrame.\n",
      "Try using .loc[row_indexer,col_indexer] = value instead\n",
      "\n",
      "See the caveats in the documentation: https://pandas.pydata.org/pandas-docs/stable/user_guide/indexing.html#returning-a-view-versus-a-copy\n",
      "  df2['date'] = df2['start_time'].dt.date\n",
      "/var/folders/vv/6vndbrvd7r1gc7xq3qqx8tfh0000gq/T/ipykernel_11152/2775516111.py:30: UserWarning: set_ticklabels() should only be used with a fixed number of ticks, i.e. after set_ticks() or using a FixedLocator.\n",
      "  ax.set_xticklabels(df1['date'], rotation=45, ha='right')\n"
     ]
    },
    {
     "data": {
      "image/png": "[encoded data removed]",
      "text/plain": [
       "<Figure size 1000x400 with 1 Axes>"
      ]
     },
     "metadata": {},
     "output_type": "display_data"
    }
   ],
   "source": [
    "import random\n",
    "\n",
    "pid = random.choice(pd.unique(patients_v2[\"patient_id\"]))\n",
    "df1 = df[df.patient_id == pid]\n",
    "df2 = patients_v2[patients_v2.patient_id == pid]\n",
    "\n",
    "# Convert start_time to just the date (drop time details)\n",
    "df1['date'] = df1['start_time'].dt.date\n",
    "df2['date'] = df2['start_time'].dt.date\n",
    "\n",
    "# Find missing dates\n",
    "missing_dates = set(df1['date']) - set(df2['date'])\n",
    "\n",
    "# Create the figure\n",
    "fig, ax = plt.subplots(figsize=(10, 4))\n",
    "\n",
    "# Plot all dates from df1\n",
    "ax.scatter(df1['date'], [1] * len(df1), label='df1 (Original)', color='blue', marker='o')\n",
    "\n",
    "# Plot retained dates from df2\n",
    "ax.scatter(df2['date'], [2] * len(df2), label='df2 (Filtered)', color='green', marker='o')\n",
    "\n",
    "# Highlight missing dates\n",
    "for missing in missing_dates:\n",
    "    ax.scatter(missing, 1, color='red', marker='x', label=\"Removed\" if missing == list(missing_dates)[0] else \"\")\n",
    "\n",
    "# Formatting\n",
    "ax.set_yticks([1, 2])\n",
    "ax.set_yticklabels([\"df1 (Original)\", \"df2 (Filtered)\"])\n",
    "ax.set_xticklabels(df1['date'], rotation=45, ha='right')\n",
    "plt.xlabel(\"Date\")\n",
    "plt.ylabel(\"Timeline\")\n",
    "plt.title(\"Comparison of Dates in df1 and df2\")\n",
    "plt.legend()\n",
    "plt.grid(True, linestyle=\"--\", alpha=0.5)\n",
    "\n",
    "plt.show()"
   ]
  },
  {
   "cell_type": "markdown",
   "metadata": {},
   "source": [
    "Check if there are any duplicate domain ids for each session"
   ]
  },
  {
   "cell_type": "code",
   "execution_count": 72,
   "metadata": {},
   "outputs": [
    {
     "ename": "KeyError",
     "evalue": "'domain_id'",
     "output_type": "error",
     "traceback": [
      "\u001b[0;31m---------------------------------------------------------------------------\u001b[0m",
      "\u001b[0;31mKeyError\u001b[0m                                  Traceback (most recent call last)",
      "File \u001b[0;32m/opt/homebrew/anaconda3/envs/ct/lib/python3.9/site-packages/pandas/core/indexes/base.py:3805\u001b[0m, in \u001b[0;36mIndex.get_loc\u001b[0;34m(self, key)\u001b[0m\n\u001b[1;32m   3804\u001b[0m \u001b[38;5;28;01mtry\u001b[39;00m:\n\u001b[0;32m-> 3805\u001b[0m     \u001b[38;5;28;01mreturn\u001b[39;00m \u001b[38;5;28;43mself\u001b[39;49m\u001b[38;5;241;43m.\u001b[39;49m\u001b[43m_engine\u001b[49m\u001b[38;5;241;43m.\u001b[39;49m\u001b[43mget_loc\u001b[49m\u001b[43m(\u001b[49m\u001b[43mcasted_key\u001b[49m\u001b[43m)\u001b[49m\n\u001b[1;32m   3806\u001b[0m \u001b[38;5;28;01mexcept\u001b[39;00m \u001b[38;5;167;01mKeyError\u001b[39;00m \u001b[38;5;28;01mas\u001b[39;00m err:\n",
      "File \u001b[0;32mindex.pyx:167\u001b[0m, in \u001b[0;36mpandas._libs.index.IndexEngine.get_loc\u001b[0;34m()\u001b[0m\n",
      "File \u001b[0;32mindex.pyx:196\u001b[0m, in \u001b[0;36mpandas._libs.index.IndexEngine.get_loc\u001b[0;34m()\u001b[0m\n",
      "File \u001b[0;32mpandas/_libs/hashtable_class_helper.pxi:7081\u001b[0m, in \u001b[0;36mpandas._libs.hashtable.PyObjectHashTable.get_item\u001b[0;34m()\u001b[0m\n",
      "File \u001b[0;32mpandas/_libs/hashtable_class_helper.pxi:7089\u001b[0m, in \u001b[0;36mpandas._libs.hashtable.PyObjectHashTable.get_item\u001b[0;34m()\u001b[0m\n",
      "\u001b[0;31mKeyError\u001b[0m: 'domain_id'",
      "\nThe above exception was the direct cause of the following exception:\n",
      "\u001b[0;31mKeyError\u001b[0m                                  Traceback (most recent call last)",
      "Cell \u001b[0;32mIn[72], line 1\u001b[0m\n\u001b[0;32m----> 1\u001b[0m sessions_filter_df[\u001b[43msessions_filter_df\u001b[49m\u001b[43m[\u001b[49m\u001b[38;5;124;43m\"\u001b[39;49m\u001b[38;5;124;43mdomain_id\u001b[39;49m\u001b[38;5;124;43m\"\u001b[39;49m\u001b[43m]\u001b[49m\u001b[38;5;241m.\u001b[39mapply(\u001b[38;5;28;01mlambda\u001b[39;00m x: \u001b[38;5;28mlen\u001b[39m(x) \u001b[38;5;241m!=\u001b[39m \u001b[38;5;241m1\u001b[39m)]\n",
      "File \u001b[0;32m/opt/homebrew/anaconda3/envs/ct/lib/python3.9/site-packages/pandas/core/frame.py:4102\u001b[0m, in \u001b[0;36mDataFrame.__getitem__\u001b[0;34m(self, key)\u001b[0m\n\u001b[1;32m   4100\u001b[0m \u001b[38;5;28;01mif\u001b[39;00m \u001b[38;5;28mself\u001b[39m\u001b[38;5;241m.\u001b[39mcolumns\u001b[38;5;241m.\u001b[39mnlevels \u001b[38;5;241m>\u001b[39m \u001b[38;5;241m1\u001b[39m:\n\u001b[1;32m   4101\u001b[0m     \u001b[38;5;28;01mreturn\u001b[39;00m \u001b[38;5;28mself\u001b[39m\u001b[38;5;241m.\u001b[39m_getitem_multilevel(key)\n\u001b[0;32m-> 4102\u001b[0m indexer \u001b[38;5;241m=\u001b[39m \u001b[38;5;28;43mself\u001b[39;49m\u001b[38;5;241;43m.\u001b[39;49m\u001b[43mcolumns\u001b[49m\u001b[38;5;241;43m.\u001b[39;49m\u001b[43mget_loc\u001b[49m\u001b[43m(\u001b[49m\u001b[43mkey\u001b[49m\u001b[43m)\u001b[49m\n\u001b[1;32m   4103\u001b[0m \u001b[38;5;28;01mif\u001b[39;00m is_integer(indexer):\n\u001b[1;32m   4104\u001b[0m     indexer \u001b[38;5;241m=\u001b[39m [indexer]\n",
      "File \u001b[0;32m/opt/homebrew/anaconda3/envs/ct/lib/python3.9/site-packages/pandas/core/indexes/base.py:3812\u001b[0m, in \u001b[0;36mIndex.get_loc\u001b[0;34m(self, key)\u001b[0m\n\u001b[1;32m   3807\u001b[0m     \u001b[38;5;28;01mif\u001b[39;00m \u001b[38;5;28misinstance\u001b[39m(casted_key, \u001b[38;5;28mslice\u001b[39m) \u001b[38;5;129;01mor\u001b[39;00m (\n\u001b[1;32m   3808\u001b[0m         \u001b[38;5;28misinstance\u001b[39m(casted_key, abc\u001b[38;5;241m.\u001b[39mIterable)\n\u001b[1;32m   3809\u001b[0m         \u001b[38;5;129;01mand\u001b[39;00m \u001b[38;5;28many\u001b[39m(\u001b[38;5;28misinstance\u001b[39m(x, \u001b[38;5;28mslice\u001b[39m) \u001b[38;5;28;01mfor\u001b[39;00m x \u001b[38;5;129;01min\u001b[39;00m casted_key)\n\u001b[1;32m   3810\u001b[0m     ):\n\u001b[1;32m   3811\u001b[0m         \u001b[38;5;28;01mraise\u001b[39;00m InvalidIndexError(key)\n\u001b[0;32m-> 3812\u001b[0m     \u001b[38;5;28;01mraise\u001b[39;00m \u001b[38;5;167;01mKeyError\u001b[39;00m(key) \u001b[38;5;28;01mfrom\u001b[39;00m \u001b[38;5;21;01merr\u001b[39;00m\n\u001b[1;32m   3813\u001b[0m \u001b[38;5;28;01mexcept\u001b[39;00m \u001b[38;5;167;01mTypeError\u001b[39;00m:\n\u001b[1;32m   3814\u001b[0m     \u001b[38;5;66;03m# If we have a listlike key, _check_indexing_error will raise\u001b[39;00m\n\u001b[1;32m   3815\u001b[0m     \u001b[38;5;66;03m#  InvalidIndexError. Otherwise we fall through and re-raise\u001b[39;00m\n\u001b[1;32m   3816\u001b[0m     \u001b[38;5;66;03m#  the TypeError.\u001b[39;00m\n\u001b[1;32m   3817\u001b[0m     \u001b[38;5;28mself\u001b[39m\u001b[38;5;241m.\u001b[39m_check_indexing_error(key)\n",
      "\u001b[0;31mKeyError\u001b[0m: 'domain_id'"
     ]
    }
   ],
   "source": [
    "sessions_filter_df[sessions_filter_df[\"domain_id\"].apply(lambda x: len(x) != 1)]"
   ]
  },
  {
   "attachments": {},
   "cell_type": "markdown",
   "metadata": {},
   "source": [
    "Now that we have the filtered dataframe, we want to start performance metric calculation\n",
    "* add progression order  \n",
    "**for now**  \n",
    "* calculate percentile of each session for each domain\n",
    "* for each patient, average percentile value across all domains **at the time**, which is our final performance metric calculation"
   ]
  },
  {
   "attachments": {},
   "cell_type": "markdown",
   "metadata": {},
   "source": [
    "This part doesn not need to be run if it's claire's data"
   ]
  },
  {
   "cell_type": "code",
   "execution_count": null,
   "metadata": {},
   "outputs": [],
   "source": [
    "# expand sessions due to compressed domain\n",
    "sessions_filter_df = sessions_filter_df.explode(\"domain_id\").reset_index()"
   ]
  },
  {
   "cell_type": "code",
   "execution_count": null,
   "metadata": {},
   "outputs": [],
   "source": [
    "# progression_order_df[progression_order_df.time_period == int(time_period_n)]"
   ]
  },
  {
   "cell_type": "code",
   "execution_count": null,
   "metadata": {},
   "outputs": [],
   "source": [
    "sessions_filter_df.dtypes"
   ]
  },
  {
   "cell_type": "code",
   "execution_count": null,
   "metadata": {},
   "outputs": [],
   "source": [
    "def set_to_int(s):\n",
    "    if isinstance(s, int): return s\n",
    "    return s.pop()"
   ]
  },
  {
   "cell_type": "code",
   "execution_count": null,
   "metadata": {},
   "outputs": [],
   "source": [
    "sessions_filter_df[\"domain_id\"] = sessions_filter_df[\"domain_id\"].apply(set_to_int)\n",
    "sessions_filter_df"
   ]
  },
  {
   "cell_type": "markdown",
   "metadata": {},
   "source": [
    "get domain scores"
   ]
  },
  {
   "cell_type": "code",
   "execution_count": null,
   "metadata": {},
   "outputs": [],
   "source": [
    "domain_scores = pd.read_csv(\"data/domain_score.csv\")\n",
    "domain_scores.pop(domain_scores.columns[0])\n",
    "domain_scores.head()"
   ]
  },
  {
   "cell_type": "code",
   "execution_count": null,
   "metadata": {},
   "outputs": [],
   "source": [
    "def process_row(row):\n",
    "    values_a = [float(x.strip()) for x in str(row['domain_ids']).split(',')]\n",
    "    values_b = [float(x.strip()) for x in str(row['domain_scores']).split(',')]\n",
    "    return values_a, values_b\n",
    "\n",
    "def expand_dataframe(df):\n",
    "    new_rows = []\n",
    "    for _, row in df.iterrows():\n",
    "        values_a, values_b = process_row(row)\n",
    "        row['domain_ids'] = values_a\n",
    "        row['domain_scores'] = values_b\n",
    "        new_rows.append(row)\n",
    "    return pd.DataFrame(new_rows)\n",
    "\n",
    "# Example usage:\n",
    "data = {'domain_ids': [0.1, \"0.2, 0.4, 0.7\"],\n",
    "        'domain_scores': [0.3, \"0.5, 0.6, 0.8\"],\n",
    "        'C': [1, 2]}\n",
    "df = pd.DataFrame(data)\n",
    "expanded_df = expand_dataframe(df)\n",
    "print(expanded_df)"
   ]
  },
  {
   "cell_type": "code",
   "execution_count": null,
   "metadata": {},
   "outputs": [],
   "source": [
    "domain_scores_expanded = expand_dataframe(domain_scores)"
   ]
  },
  {
   "cell_type": "code",
   "execution_count": null,
   "metadata": {},
   "outputs": [],
   "source": [
    "domain_scores"
   ]
  },
  {
   "cell_type": "code",
   "execution_count": null,
   "metadata": {},
   "outputs": [],
   "source": [
    "domain_scores_expanded"
   ]
  },
  {
   "cell_type": "code",
   "execution_count": null,
   "metadata": {},
   "outputs": [],
   "source": [
    "df_ds = pd.merge(sessions_filter_df, domain_scores, how='inner', left_on='id', right_on='id', suffixes=('', '_y'))\n",
    "df_ds.drop(df_ds.filter(regex='_y$').columns, axis=1, inplace=True)\n",
    "df_ds"
   ]
  },
  {
   "cell_type": "code",
   "execution_count": null,
   "metadata": {},
   "outputs": [],
   "source": [
    "df_ds.drop([\"index\"], axis=1, inplace=True)"
   ]
  },
  {
   "cell_type": "code",
   "execution_count": null,
   "metadata": {},
   "outputs": [],
   "source": [
    "df_ds.columns"
   ]
  },
  {
   "cell_type": "code",
   "execution_count": null,
   "metadata": {},
   "outputs": [],
   "source": [
    "df_ds_1 = df_ds[[\"id\", \"patient_id\", \"domain_ids\", \"domain_scores\", \"start_time_min\"]]\n",
    "df_ds_1"
   ]
  },
  {
   "cell_type": "code",
   "execution_count": null,
   "metadata": {},
   "outputs": [],
   "source": [
    "df_ds_1 = df_ds_1.drop_duplicates(subset=\"id\")"
   ]
  },
  {
   "cell_type": "code",
   "execution_count": null,
   "metadata": {},
   "outputs": [],
   "source": [
    "df_ds_1.to_csv(\"data/filtered_ds.csv\", index=False)"
   ]
  },
  {
   "cell_type": "code",
   "execution_count": null,
   "metadata": {},
   "outputs": [],
   "source": [
    "df_ds_1"
   ]
  },
  {
   "cell_type": "markdown",
   "metadata": {},
   "source": [
    "progression order code"
   ]
  },
  {
   "cell_type": "code",
   "execution_count": null,
   "metadata": {},
   "outputs": [],
   "source": [
    "# add progression order\n",
    "# sessions_filter_df = sessions_filter_df.merge(progression_order_df[progression_order_df.time_period == int(time_period_n)], on=[\"task_type_id\", \"task_level\", \"domain_id\"]).reset_index()\n",
    "# sessions_filter_df"
   ]
  },
  {
   "attachments": {},
   "cell_type": "markdown",
   "metadata": {},
   "source": [
    "Get Percentile"
   ]
  },
  {
   "cell_type": "code",
   "execution_count": null,
   "metadata": {},
   "outputs": [],
   "source": [
    "# get percentile of a domain\n",
    "# def get_percentile(data):\n",
    "#     data[\"percentile\"] = data[\"progression_order\"].rank(pct=True)\n",
    "#     return data"
   ]
  },
  {
   "cell_type": "code",
   "execution_count": null,
   "metadata": {},
   "outputs": [],
   "source": [
    "## get percentile for each domain\n",
    "# df_pct = sessions_filter_df.groupby(\"domain_id\").apply(get_percentile).reset_index(drop=True)\n",
    "# df_pct"
   ]
  },
  {
   "cell_type": "code",
   "execution_count": null,
   "metadata": {},
   "outputs": [],
   "source": [
    "## clean dataframe, does not need to be run if Claire's data\n",
    "# df_pct.drop(df_pct.columns[[0, 11, 16, 17, 19, 20]], axis=1, inplace=True)\n",
    "# df_pct"
   ]
  },
  {
   "cell_type": "code",
   "execution_count": null,
   "metadata": {},
   "outputs": [],
   "source": [
    "# df_pct.to_csv(\"data/raw_percentile_time5.csv\", index=False)"
   ]
  },
  {
   "attachments": {},
   "cell_type": "markdown",
   "metadata": {},
   "source": [
    "Get overall"
   ]
  },
  {
   "cell_type": "code",
   "execution_count": null,
   "metadata": {},
   "outputs": [],
   "source": [
    "# take in individual dataframe and output dataframe with overall performance metric\n",
    "def get_score(data : pd.DataFrame):\n",
    "    updated_domain_pct = dict() # keeps updated domain pct\n",
    "    score = 0 # score for each session, an average of all available domains\n",
    "    scores = []\n",
    "\n",
    "    data = data.sort_values(by=\"start_time_min\").reset_index(drop=True)\n",
    "\n",
    "    for idx, row in data.iterrows():\n",
    "        \n",
    "        updated_domain_pct[row[\"domain_ids\"]] = row[\"domain_scores\"] # update domain pct to the latest one\n",
    "        # find sum of all domain pct\n",
    "        for k, v in updated_domain_pct.items():\n",
    "            score += float(v)\n",
    "        # take average of domain pct, add to list, reset score to 0\n",
    "        score /= len(updated_domain_pct)\n",
    "        scores.append(score)\n",
    "        score = 0\n",
    "    # set score to the score list\n",
    "    data[\"score\"] = scores\n",
    "    return data"
   ]
  },
  {
   "cell_type": "code",
   "execution_count": null,
   "metadata": {},
   "outputs": [],
   "source": [
    "df_ds_1 = df_ds_1.drop_duplicates(subset=\"id\")"
   ]
  },
  {
   "cell_type": "code",
   "execution_count": null,
   "metadata": {},
   "outputs": [],
   "source": [
    "df_ds_1.shape"
   ]
  },
  {
   "cell_type": "code",
   "execution_count": null,
   "metadata": {},
   "outputs": [],
   "source": [
    "## get performance metric by each patient for each session\n",
    "final_df = df_ds_1.groupby(\"patient_id\").apply(get_score).reset_index(drop=True)\n",
    "final_df"
   ]
  },
  {
   "cell_type": "code",
   "execution_count": null,
   "metadata": {},
   "outputs": [],
   "source": []
  },
  {
   "attachments": {},
   "cell_type": "markdown",
   "metadata": {},
   "source": [
    "## Question\n",
    "* right now there are duplicate sessions since domain percentile was calulated separately, how do we feed this to the model?\n",
    "* task changes visualization -> try to explain the fluctuations\n",
    "* add overall timeline"
   ]
  },
  {
   "attachments": {},
   "cell_type": "markdown",
   "metadata": {},
   "source": [
    "* update only the domains that have been practiced\n",
    "* keep other domains constant\n",
    "* how much they switch domains"
   ]
  },
  {
   "cell_type": "code",
   "execution_count": null,
   "metadata": {},
   "outputs": [],
   "source": [
    "import random\n",
    "pid = random.choice(pd.unique(final_df[\"patient_id\"]))\n",
    "print(pid)"
   ]
  },
  {
   "cell_type": "code",
   "execution_count": null,
   "metadata": {},
   "outputs": [],
   "source": [
    "sns.scatterplot(data=final_df[final_df.patient_id == pid], x=\"start_time_min\", y=\"score\", hue=\"domain_ids\", palette=\"bright\").set_title(pid)\n",
    "plt.plot(final_df[final_df.patient_id == pid][\"start_time_min\"], final_df[final_df.patient_id == pid][\"score\"], 'k')"
   ]
  },
  {
   "cell_type": "code",
   "execution_count": null,
   "metadata": {},
   "outputs": [],
   "source": [
    "sns.lineplot(data=final_df[final_df.patient_id == pid], x=\"start_time_min\", y=\"domain_scores\", hue=\"domain_ids\", palette=\"bright\").set_title(pid)"
   ]
  },
  {
   "attachments": {},
   "cell_type": "markdown",
   "metadata": {},
   "source": [
    "Second metric calculation:\n",
    "* keep other domains constant \n",
    "* how do we start off each domain -> average of when people first start out or just average"
   ]
  },
  {
   "cell_type": "code",
   "execution_count": null,
   "metadata": {},
   "outputs": [],
   "source": [
    "df_pct"
   ]
  },
  {
   "attachments": {},
   "cell_type": "markdown",
   "metadata": {},
   "source": [
    "First: average across all sessions"
   ]
  },
  {
   "cell_type": "code",
   "execution_count": null,
   "metadata": {},
   "outputs": [],
   "source": [
    "df_pct.groupby(\"domain_id\")[\"percentile\"].mean()"
   ]
  },
  {
   "cell_type": "code",
   "execution_count": null,
   "metadata": {},
   "outputs": [],
   "source": [
    "# take in individual dataframe and output dataframe with overall performance metric\n",
    "def get_score_avg(data):\n",
    "    # initialize score with average\n",
    "    score = [0.5 for i in range(14)]\n",
    "    scores = []\n",
    "    \n",
    "\n",
    "    data = data.sort_values(by=\"start_time_min\") # sort data by time\n",
    "\n",
    "    for idx, row in data.iterrows():\n",
    "        score[row[\"domain_id\"] - 1] = row[\"percentile\"]\n",
    "        # set score to the score list average\n",
    "        scores.append(sum(score) / len(score))\n",
    "    data[\"score\"] = scores\n",
    "    return data"
   ]
  },
  {
   "cell_type": "code",
   "execution_count": null,
   "metadata": {},
   "outputs": [],
   "source": [
    "## get performance metric by each patient for each session\n",
    "avg_final_df = df_pct.groupby(\"patient_id\").apply(get_score_avg).reset_index(drop=True)\n",
    "avg_final_df"
   ]
  },
  {
   "attachments": {},
   "cell_type": "markdown",
   "metadata": {},
   "source": [
    "Let's look at results"
   ]
  },
  {
   "cell_type": "code",
   "execution_count": null,
   "metadata": {},
   "outputs": [],
   "source": [
    "import random\n",
    "pid = random.choice(pd.unique(avg_final_df[\"patient_id\"]))\n",
    "print(pid)\n",
    "sns.scatterplot(data=avg_final_df[avg_final_df.patient_id == pid], x=\"start_time_min\", y=\"score\", hue=\"domain_id\", palette=\"bright\").set_title(pid)\n",
    "plt.plot(avg_final_df[avg_final_df.patient_id == pid][\"start_time_min\"], avg_final_df[avg_final_df.patient_id == pid][\"score\"])"
   ]
  },
  {
   "attachments": {},
   "cell_type": "markdown",
   "metadata": {},
   "source": [
    "Second average method: average starting point"
   ]
  },
  {
   "cell_type": "code",
   "execution_count": null,
   "metadata": {},
   "outputs": [],
   "source": [
    "df_pct"
   ]
  },
  {
   "cell_type": "code",
   "execution_count": null,
   "metadata": {},
   "outputs": [],
   "source": [
    "domain_avg = final_df.sort_values(by=\"start_time_min\")\n",
    "domain_avg = domain_avg.drop_duplicates(subset=[\"patient_id\", \"domain_ids\"])"
   ]
  },
  {
   "cell_type": "code",
   "execution_count": null,
   "metadata": {},
   "outputs": [],
   "source": [
    "domain_avg[\"domain_id\"].unique()"
   ]
  },
  {
   "cell_type": "code",
   "execution_count": null,
   "metadata": {},
   "outputs": [],
   "source": [
    "lst = list(domain_avg.groupby(\"domain_ids\")[\"domain_scores\"].mean().reset_index()[\"domain_scores\"])\n",
    "lst"
   ]
  },
  {
   "cell_type": "code",
   "execution_count": null,
   "metadata": {},
   "outputs": [],
   "source": [
    "lst = lst[:10] + [0] + lst[10:]\n",
    "lst"
   ]
  },
  {
   "cell_type": "code",
   "execution_count": null,
   "metadata": {},
   "outputs": [],
   "source": [
    "# take in individual dataframe and output dataframe with overall performance metric\n",
    "def get_score_avg2(data):\n",
    "    # initialize score with average\n",
    "    global lst\n",
    "    score = lst\n",
    "    scores = []\n",
    "    \n",
    "    data = data.sort_values(by=\"start_time_min\") # sort data by time\n",
    "\n",
    "    for idx, row in data.iterrows():\n",
    "        score[row[\"domain_id\"] - 1] = row[\"percentile\"]\n",
    "        # set score to the score list average\n",
    "        scores.append(sum(score) / len(score))\n",
    "    data[\"score\"] = scores\n",
    "    return data"
   ]
  },
  {
   "cell_type": "code",
   "execution_count": null,
   "metadata": {},
   "outputs": [],
   "source": [
    "## get performance metric by each patient for each session\n",
    "avg_final_df2 = df_pct.groupby(\"patient_id\").apply(get_score_avg2).reset_index(drop=True)\n",
    "avg_final_df2"
   ]
  },
  {
   "cell_type": "code",
   "execution_count": null,
   "metadata": {},
   "outputs": [],
   "source": [
    "import random\n",
    "pid = random.choice(pd.unique(avg_final_df2[\"patient_id\"]))\n",
    "\n",
    "print(pid)\n",
    "sns.scatterplot(data=avg_final_df2[avg_final_df2.patient_id == pid], x=\"start_time_min\", y=\"score\", hue=\"domain_id\", palette=\"bright\").set_title(pid)\n",
    "plt.plot(avg_final_df2[avg_final_df2.patient_id == pid][\"start_time_min\"], avg_final_df2[avg_final_df2.patient_id == pid][\"score\"])"
   ]
  },
  {
   "attachments": {},
   "cell_type": "markdown",
   "metadata": {},
   "source": [
    "Normalization"
   ]
  },
  {
   "cell_type": "code",
   "execution_count": null,
   "metadata": {},
   "outputs": [],
   "source": [
    "df_pct"
   ]
  },
  {
   "cell_type": "code",
   "execution_count": null,
   "metadata": {},
   "outputs": [],
   "source": [
    "sorted_df = df_pct.sort_values(by=\"start_time_min\")\n",
    "sorted_df"
   ]
  },
  {
   "cell_type": "code",
   "execution_count": null,
   "metadata": {},
   "outputs": [],
   "source": [
    "# initial score\n",
    "initial = lst"
   ]
  },
  {
   "cell_type": "code",
   "execution_count": null,
   "metadata": {},
   "outputs": [],
   "source": [
    "column_names = [\"domain %d score\" % i for i in range(1, 15)]\n",
    "column_names"
   ]
  },
  {
   "cell_type": "code",
   "execution_count": null,
   "metadata": {},
   "outputs": [],
   "source": [
    "# create domain score columns, input a patient's session data\n",
    "def create_domain_scores(data):\n",
    "    global initial\n",
    "    global column_names\n",
    "    score = initial\n",
    "    data = data.sort_values(by=\"start_time_min\")\n",
    "    scores = np.zeros((len(data), 14))\n",
    "    i = 0\n",
    "\n",
    "    for idx, row in data.iterrows():\n",
    "        score[int(row[\"domain_ids\"] - 1)] = row[\"domain_scores\"]\n",
    "        # set score to the score list average\n",
    "        scores[i] = score\n",
    "        i += 1\n",
    "    data = pd.concat([data, pd.DataFrame(scores, columns=column_names)], axis=1)\n",
    "    return data"
   ]
  },
  {
   "cell_type": "code",
   "execution_count": null,
   "metadata": {},
   "outputs": [],
   "source": [
    "scores_df = final_df.groupby(\"patient_id\").apply(create_domain_scores).reset_index(drop=True)\n",
    "scores_df"
   ]
  },
  {
   "cell_type": "code",
   "execution_count": null,
   "metadata": {},
   "outputs": [],
   "source": [
    "final_df.to_csv(\"data/domain_scores_CT.csv\", index=False)"
   ]
  },
  {
   "cell_type": "code",
   "execution_count": null,
   "metadata": {},
   "outputs": [],
   "source": [
    "# nomralize scores\n",
    "from sklearn.preprocessing import MinMaxScaler\n",
    "from sklearn.preprocessing import StandardScaler\n",
    "# scores only df\n",
    "scores_df_minmax = MinMaxScaler().fit_transform(scores_df[column_names])"
   ]
  },
  {
   "cell_type": "code",
   "execution_count": null,
   "metadata": {},
   "outputs": [],
   "source": [
    "minmax_df = scores_df\n",
    "minmax_df[column_names] = scores_df_minmax"
   ]
  },
  {
   "cell_type": "code",
   "execution_count": null,
   "metadata": {},
   "outputs": [],
   "source": [
    "minmax_df.columns"
   ]
  },
  {
   "cell_type": "code",
   "execution_count": null,
   "metadata": {},
   "outputs": [],
   "source": [
    "minmax_df['score'] = minmax_df[column_names].mean(axis=1)\n",
    "minmax_df"
   ]
  },
  {
   "cell_type": "code",
   "execution_count": null,
   "metadata": {},
   "outputs": [],
   "source": [
    "avg_final_df2[avg_final_df2.patient_id == pid]"
   ]
  },
  {
   "cell_type": "code",
   "execution_count": null,
   "metadata": {},
   "outputs": [],
   "source": [
    "minmax_df[minmax_df.patient_id == pid]"
   ]
  },
  {
   "cell_type": "code",
   "execution_count": null,
   "metadata": {},
   "outputs": [],
   "source": [
    "import random\n",
    "pid = random.choice(pd.unique(minmax_df[\"patient_id\"]))\n",
    "print(pid)\n",
    "sns.scatterplot(data=minmax_df[minmax_df.patient_id == pid], x=\"start_time_min\", y=\"score\", hue=\"domain_id\", palette=\"bright\").set_title(pid)\n",
    "plt.plot(minmax_df[minmax_df.patient_id == pid][\"start_time_min\"], minmax_df[minmax_df.patient_id == pid][\"score\"])"
   ]
  },
  {
   "cell_type": "code",
   "execution_count": null,
   "metadata": {},
   "outputs": [],
   "source": [
    "temp = minmax_df[minmax_df.patient_id == pid]"
   ]
  },
  {
   "cell_type": "code",
   "execution_count": null,
   "metadata": {},
   "outputs": [],
   "source": [
    "sns.lineplot(data=temp, x=\"start_time_min\", y=\"score\", hue=\"domain_id\", palette=\"bright\").set_title(pid)"
   ]
  },
  {
   "cell_type": "code",
   "execution_count": null,
   "metadata": {},
   "outputs": [],
   "source": [
    "sns.lineplot(data=temp, x=\"start_time_min\", y=\"progression_order\", hue=\"domain_id\", palette=\"bright\").set_title(pid)"
   ]
  },
  {
   "cell_type": "code",
   "execution_count": null,
   "metadata": {},
   "outputs": [],
   "source": [
    "temp[[\"domain_id\", \"task_type_id\", \"task_level\", \"score\", \"progression_order\", \"domain 14 score\", \"start_time_min\", \"id\"]]"
   ]
  },
  {
   "attachments": {},
   "cell_type": "markdown",
   "metadata": {},
   "source": [
    "Create day-to-day score -> combine sessions of the same domain -> average that then average across domains -> one score for each day instead of each session"
   ]
  },
  {
   "attachments": {},
   "cell_type": "markdown",
   "metadata": {},
   "source": [
    "Filter out fluctations"
   ]
  },
  {
   "cell_type": "code",
   "execution_count": null,
   "metadata": {},
   "outputs": [],
   "source": [
    "# return false if there's fluctation given a person's data\n",
    "def fluctate(data):\n",
    "    data = data.sort_values(by=\"start_time_min\").reset_index() # sort data by time\n",
    "    d = dict()\n",
    "    for idx, row in data.iterrows():\n",
    "        if row[\"start_time\"] not in d:\n",
    "            d[row[\"start_time\"]] = [row[\"domain_id\"]]\n",
    "        else:\n",
    "            if row[\"domain_id\"] in d[row[\"start_time\"]]:\n",
    "                return False\n",
    "            else:\n",
    "                d[row[\"start_time\"]].append(row[\"domain_id\"])\n",
    "    return True"
   ]
  },
  {
   "cell_type": "code",
   "execution_count": null,
   "metadata": {},
   "outputs": [],
   "source": [
    "filter_lst = minmax_df.groupby(\"patient_id\").apply(fluctate).reset_index()"
   ]
  },
  {
   "cell_type": "code",
   "execution_count": null,
   "metadata": {},
   "outputs": [],
   "source": [
    "filter_lst = filter_lst.rename(columns={0: \"a\"})\n",
    "filter_lst"
   ]
  },
  {
   "cell_type": "code",
   "execution_count": null,
   "metadata": {},
   "outputs": [],
   "source": [
    "filter_lst[filter_lst.a][\"patient_id\"]"
   ]
  },
  {
   "cell_type": "code",
   "execution_count": null,
   "metadata": {},
   "outputs": [],
   "source": [
    "flutuate_data = minmax_df.loc[minmax_df[\"patient_id\"].isin(filter_lst[filter_lst.a][\"patient_id\"])].reset_index()\n",
    "flutuate_data"
   ]
  },
  {
   "attachments": {},
   "cell_type": "markdown",
   "metadata": {},
   "source": [
    "Filtering doesn't seem to work, work on incorporating accuracy"
   ]
  },
  {
   "cell_type": "code",
   "execution_count": null,
   "metadata": {},
   "outputs": [],
   "source": [
    "df_pct"
   ]
  },
  {
   "cell_type": "code",
   "execution_count": null,
   "metadata": {},
   "outputs": [],
   "source": [
    "def new_score(row):\n",
    "    score = None\n",
    "    p = [1.05, 1.0, 0.9, 0.8]\n",
    "    if row.accuracy > .90:\n",
    "        score = row.percentile * p[0]\n",
    "    elif row.accuracy > .60:\n",
    "        score = row.percentile * p[1]\n",
    "    elif row.accuracy > .40:\n",
    "        score = row.percentile * p[2]\n",
    "    else:\n",
    "        score = row.percentile * p[3]\n",
    "    return score"
   ]
  },
  {
   "cell_type": "code",
   "execution_count": null,
   "metadata": {},
   "outputs": [],
   "source": [
    "# 12 seconds\n",
    "df_pscore = df_pct.copy(deep=True)\n",
    "df_pscore[\"percentile\"] = df_pscore.apply(new_score, axis=1)\n",
    "df_pscore"
   ]
  },
  {
   "cell_type": "code",
   "execution_count": null,
   "metadata": {},
   "outputs": [],
   "source": [
    "def combine(data):\n",
    "    data = data.sort_values(by=\"start_time_min\").reset_index() # sort data by time\n",
    "    return data.groupby([\"domain_id\", \"start_time\"])[\"percentile\"].mean().reset_index()"
   ]
  },
  {
   "cell_type": "code",
   "execution_count": null,
   "metadata": {},
   "outputs": [],
   "source": [
    "# create domain score columns, input a patient's session data\n",
    "def create_domain_scores2(data):\n",
    "    global initial\n",
    "    global column_names\n",
    "    score = initial\n",
    "    data = data.sort_values(by=\"start_time_min\").reset_index() # sort data by time\n",
    "    i = 0\n",
    "    combined_scores = combine(data)\n",
    "    scores = np.zeros((len(combined_scores), 14))\n",
    "    combined_scores = combined_scores.sort_values(by=\"start_time\").reset_index()\n",
    "    for idx, row in combined_scores.iterrows():\n",
    "        score[row[\"domain_id\"] - 1] = row[\"percentile\"]\n",
    "        # set score to the score list average\n",
    "        scores[i] = score\n",
    "        i += 1\n",
    "    data = data.drop_duplicates(subset=[\"domain_id\", \"start_time\"]).reset_index()\n",
    "    data = pd.concat([data, pd.DataFrame(scores, columns=column_names)], axis=1)\n",
    "    return data"
   ]
  },
  {
   "cell_type": "code",
   "execution_count": null,
   "metadata": {},
   "outputs": [],
   "source": [
    "df_pscore2 = df_pscore.groupby(\"patient_id\").apply(create_domain_scores2).reset_index(drop=True)\n",
    "df_pscore2"
   ]
  },
  {
   "cell_type": "code",
   "execution_count": null,
   "metadata": {},
   "outputs": [],
   "source": [
    "column_n = column_names"
   ]
  },
  {
   "cell_type": "code",
   "execution_count": null,
   "metadata": {},
   "outputs": [],
   "source": [
    "scores_df_minmax2 = MinMaxScaler().fit_transform(df_pscore2[column_n])"
   ]
  },
  {
   "cell_type": "code",
   "execution_count": null,
   "metadata": {},
   "outputs": [],
   "source": [
    "minmax_df2 = df_pscore2\n",
    "minmax_df2[column_n] = scores_df_minmax2"
   ]
  },
  {
   "cell_type": "code",
   "execution_count": null,
   "metadata": {},
   "outputs": [],
   "source": [
    "minmax_df2['score'] = minmax_df2[column_n].mean(axis=1)\n",
    "minmax_df2"
   ]
  },
  {
   "cell_type": "code",
   "execution_count": null,
   "metadata": {},
   "outputs": [],
   "source": [
    "import random\n",
    "pid = random.choice(pd.unique(minmax_df2[\"patient_id\"]))\n",
    "print(pid)\n",
    "sns.scatterplot(data=minmax_df2[minmax_df2.patient_id == pid], x=\"start_time_min\", y=\"score\", hue=\"domain_id\", palette=\"bright\").set_title(pid)\n",
    "plt.plot(minmax_df2[minmax_df2.patient_id == pid][\"start_time_min\"], minmax_df2[minmax_df2.patient_id == pid][\"score\"], 'k')"
   ]
  },
  {
   "cell_type": "code",
   "execution_count": null,
   "metadata": {},
   "outputs": [],
   "source": [
    "minmax_df2"
   ]
  },
  {
   "cell_type": "code",
   "execution_count": null,
   "metadata": {},
   "outputs": [],
   "source": [
    "temp = df_pct[df_pct.patient_id == 30679]\n",
    "temp = temp.sort_values(by=\"start_time_min\").reset_index()\n",
    "temp[temp.domain_id == 10][[\"accuracy\", \"progression_order\", \"percentile\"]][temp.progression_order == 3]"
   ]
  },
  {
   "cell_type": "code",
   "execution_count": null,
   "metadata": {},
   "outputs": [],
   "source": [
    "temp = create_domain_scores2(df_pscore[df_pscore.patient_id == 87299])\n",
    "temp[temp.domain_id == 4][[\"accuracy\", \"progression_order\", \"domain 4 score\", \"start_time\"]]"
   ]
  }
 ],
 "metadata": {
  "kernelspec": {
   "display_name": "ct",
   "language": "python",
   "name": "python3"
  },
  "language_info": {
   "codemirror_mode": {
    "name": "ipython",
    "version": 3
   },
   "file_extension": ".py",
   "mimetype": "text/x-python",
   "name": "python",
   "nbconvert_exporter": "python",
   "pygments_lexer": "ipython3",
   "version": "3.9.19"
  },
  "orig_nbformat": 4
 },
 "nbformat": 4,
 "nbformat_minor": 2
}
