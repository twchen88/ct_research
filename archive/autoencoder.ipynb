{
 "cells": [
  {
   "cell_type": "code",
   "execution_count": 1,
   "metadata": {},
   "outputs": [],
   "source": [
    "## import packages and helper functions\n",
    "import numpy as np\n",
    "import pandas as pd\n",
    "import matplotlib.pyplot as plt\n",
    "import seaborn as sns\n",
    "import sklearn\n",
    "import keras\n",
    "import tensorflow as tf\n",
    "\n",
    "from helper import *\n",
    "from connection import *"
   ]
  },
  {
   "cell_type": "markdown",
   "metadata": {},
   "source": [
    "# build training data"
   ]
  },
  {
   "cell_type": "code",
   "execution_count": 2,
   "metadata": {},
   "outputs": [
    {
     "data": {
      "text/html": [
       "<div>\n",
       "<style scoped>\n",
       "    .dataframe tbody tr th:only-of-type {\n",
       "        vertical-align: middle;\n",
       "    }\n",
       "\n",
       "    .dataframe tbody tr th {\n",
       "        vertical-align: top;\n",
       "    }\n",
       "\n",
       "    .dataframe thead th {\n",
       "        text-align: right;\n",
       "    }\n",
       "</style>\n",
       "<table border=\"1\" class=\"dataframe\">\n",
       "  <thead>\n",
       "    <tr style=\"text-align: right;\">\n",
       "      <th></th>\n",
       "      <th>id</th>\n",
       "      <th>patient_id</th>\n",
       "      <th>task_type_id</th>\n",
       "      <th>task_level</th>\n",
       "      <th>completed_task_count</th>\n",
       "      <th>accuracy</th>\n",
       "      <th>condition_since</th>\n",
       "      <th>birth_year</th>\n",
       "      <th>start_time</th>\n",
       "      <th>start_time_min</th>\n",
       "      <th>end_time_min</th>\n",
       "      <th>deficit_id</th>\n",
       "      <th>disorder_id</th>\n",
       "      <th>domain_id</th>\n",
       "      <th>progression_order</th>\n",
       "      <th>percentile</th>\n",
       "    </tr>\n",
       "  </thead>\n",
       "  <tbody>\n",
       "    <tr>\n",
       "      <th>0</th>\n",
       "      <td>24003939</td>\n",
       "      <td>15796</td>\n",
       "      <td>20</td>\n",
       "      <td>5</td>\n",
       "      <td>5</td>\n",
       "      <td>0.850</td>\n",
       "      <td>5y</td>\n",
       "      <td>1950</td>\n",
       "      <td>2020-04-17</td>\n",
       "      <td>2020-04-17 16:16:37</td>\n",
       "      <td>2020-04-17 16:22:28</td>\n",
       "      <td>{1, 2, 3, 4, 8}</td>\n",
       "      <td>{2, 3}</td>\n",
       "      <td>1</td>\n",
       "      <td>4</td>\n",
       "      <td>0.402837</td>\n",
       "    </tr>\n",
       "    <tr>\n",
       "      <th>1</th>\n",
       "      <td>17594498</td>\n",
       "      <td>27987</td>\n",
       "      <td>20</td>\n",
       "      <td>5</td>\n",
       "      <td>5</td>\n",
       "      <td>0.875</td>\n",
       "      <td>5y</td>\n",
       "      <td>1953</td>\n",
       "      <td>2019-05-11</td>\n",
       "      <td>2019-05-11 14:15:24</td>\n",
       "      <td>NaN</td>\n",
       "      <td>{1, 2, 3, 4, 5, 6, 7, 8}</td>\n",
       "      <td>{3}</td>\n",
       "      <td>1</td>\n",
       "      <td>4</td>\n",
       "      <td>0.402837</td>\n",
       "    </tr>\n",
       "    <tr>\n",
       "      <th>2</th>\n",
       "      <td>18379970</td>\n",
       "      <td>27987</td>\n",
       "      <td>20</td>\n",
       "      <td>5</td>\n",
       "      <td>1</td>\n",
       "      <td>1.000</td>\n",
       "      <td>5y</td>\n",
       "      <td>1953</td>\n",
       "      <td>2019-06-21</td>\n",
       "      <td>2019-06-21 13:46:17</td>\n",
       "      <td>NaN</td>\n",
       "      <td>{1, 2, 3, 4, 5, 6, 7, 8}</td>\n",
       "      <td>{3}</td>\n",
       "      <td>1</td>\n",
       "      <td>4</td>\n",
       "      <td>0.402837</td>\n",
       "    </tr>\n",
       "    <tr>\n",
       "      <th>3</th>\n",
       "      <td>20401349</td>\n",
       "      <td>27987</td>\n",
       "      <td>20</td>\n",
       "      <td>5</td>\n",
       "      <td>5</td>\n",
       "      <td>0.862</td>\n",
       "      <td>5y</td>\n",
       "      <td>1953</td>\n",
       "      <td>2019-10-09</td>\n",
       "      <td>2019-10-09 18:18:17</td>\n",
       "      <td>2019-10-09 18:44:53</td>\n",
       "      <td>{1, 2, 3, 4, 5, 6, 7, 8}</td>\n",
       "      <td>{3}</td>\n",
       "      <td>1</td>\n",
       "      <td>4</td>\n",
       "      <td>0.402837</td>\n",
       "    </tr>\n",
       "    <tr>\n",
       "      <th>4</th>\n",
       "      <td>20456915</td>\n",
       "      <td>27987</td>\n",
       "      <td>20</td>\n",
       "      <td>5</td>\n",
       "      <td>5</td>\n",
       "      <td>0.888</td>\n",
       "      <td>5y</td>\n",
       "      <td>1953</td>\n",
       "      <td>2019-10-12</td>\n",
       "      <td>2019-10-12 17:59:21</td>\n",
       "      <td>2019-10-12 18:03:47</td>\n",
       "      <td>{1, 2, 3, 4, 5, 6, 7, 8}</td>\n",
       "      <td>{3}</td>\n",
       "      <td>1</td>\n",
       "      <td>4</td>\n",
       "      <td>0.402837</td>\n",
       "    </tr>\n",
       "    <tr>\n",
       "      <th>...</th>\n",
       "      <td>...</td>\n",
       "      <td>...</td>\n",
       "      <td>...</td>\n",
       "      <td>...</td>\n",
       "      <td>...</td>\n",
       "      <td>...</td>\n",
       "      <td>...</td>\n",
       "      <td>...</td>\n",
       "      <td>...</td>\n",
       "      <td>...</td>\n",
       "      <td>...</td>\n",
       "      <td>...</td>\n",
       "      <td>...</td>\n",
       "      <td>...</td>\n",
       "      <td>...</td>\n",
       "      <td>...</td>\n",
       "    </tr>\n",
       "    <tr>\n",
       "      <th>405030</th>\n",
       "      <td>23397692</td>\n",
       "      <td>73017</td>\n",
       "      <td>56</td>\n",
       "      <td>6</td>\n",
       "      <td>13</td>\n",
       "      <td>0.695</td>\n",
       "      <td>6m</td>\n",
       "      <td>1959</td>\n",
       "      <td>2020-03-16</td>\n",
       "      <td>2020-03-16 14:45:08</td>\n",
       "      <td>2020-03-16 14:59:40</td>\n",
       "      <td>{2, 4, 5, 6, 7, 8}</td>\n",
       "      <td>{2}</td>\n",
       "      <td>12</td>\n",
       "      <td>26</td>\n",
       "      <td>0.911901</td>\n",
       "    </tr>\n",
       "    <tr>\n",
       "      <th>405031</th>\n",
       "      <td>5325432</td>\n",
       "      <td>79263</td>\n",
       "      <td>56</td>\n",
       "      <td>3</td>\n",
       "      <td>4</td>\n",
       "      <td>0.950</td>\n",
       "      <td>6m</td>\n",
       "      <td>1939</td>\n",
       "      <td>2017-01-28</td>\n",
       "      <td>2017-01-28 20:01:36</td>\n",
       "      <td>NaN</td>\n",
       "      <td>{8, 5, 6, 7}</td>\n",
       "      <td>{2}</td>\n",
       "      <td>12</td>\n",
       "      <td>10</td>\n",
       "      <td>0.405029</td>\n",
       "    </tr>\n",
       "    <tr>\n",
       "      <th>405032</th>\n",
       "      <td>5802448</td>\n",
       "      <td>94930</td>\n",
       "      <td>71</td>\n",
       "      <td>2</td>\n",
       "      <td>8</td>\n",
       "      <td>1.000</td>\n",
       "      <td>6m</td>\n",
       "      <td>1959</td>\n",
       "      <td>2017-01-23</td>\n",
       "      <td>2017-01-23 15:19:57</td>\n",
       "      <td>NaN</td>\n",
       "      <td>{1, 6}</td>\n",
       "      <td>{2}</td>\n",
       "      <td>10</td>\n",
       "      <td>24</td>\n",
       "      <td>1.000000</td>\n",
       "    </tr>\n",
       "    <tr>\n",
       "      <th>405033</th>\n",
       "      <td>14021229</td>\n",
       "      <td>177029</td>\n",
       "      <td>88</td>\n",
       "      <td>5</td>\n",
       "      <td>2</td>\n",
       "      <td>0.000</td>\n",
       "      <td>2y</td>\n",
       "      <td>1955</td>\n",
       "      <td>2018-11-04</td>\n",
       "      <td>2018-11-04 14:09:48</td>\n",
       "      <td>NaN</td>\n",
       "      <td>{1, 4, 5, 6, 7}</td>\n",
       "      <td>{1}</td>\n",
       "      <td>13</td>\n",
       "      <td>30</td>\n",
       "      <td>0.976744</td>\n",
       "    </tr>\n",
       "    <tr>\n",
       "      <th>405034</th>\n",
       "      <td>1286775</td>\n",
       "      <td>14901</td>\n",
       "      <td>56</td>\n",
       "      <td>1</td>\n",
       "      <td>7</td>\n",
       "      <td>0.793</td>\n",
       "      <td>2y</td>\n",
       "      <td>1954</td>\n",
       "      <td>2015-01-24</td>\n",
       "      <td>2015-01-24 05:56:45</td>\n",
       "      <td>NaN</td>\n",
       "      <td>{1, 2, 3, 4, 6}</td>\n",
       "      <td>{2}</td>\n",
       "      <td>12</td>\n",
       "      <td>3</td>\n",
       "      <td>0.064097</td>\n",
       "    </tr>\n",
       "  </tbody>\n",
       "</table>\n",
       "<p>405035 rows × 16 columns</p>\n",
       "</div>"
      ],
      "text/plain": [
       "              id  patient_id  task_type_id  task_level  completed_task_count  \\\n",
       "0       24003939       15796            20           5                     5   \n",
       "1       17594498       27987            20           5                     5   \n",
       "2       18379970       27987            20           5                     1   \n",
       "3       20401349       27987            20           5                     5   \n",
       "4       20456915       27987            20           5                     5   \n",
       "...          ...         ...           ...         ...                   ...   \n",
       "405030  23397692       73017            56           6                    13   \n",
       "405031   5325432       79263            56           3                     4   \n",
       "405032   5802448       94930            71           2                     8   \n",
       "405033  14021229      177029            88           5                     2   \n",
       "405034   1286775       14901            56           1                     7   \n",
       "\n",
       "        accuracy condition_since  birth_year  start_time       start_time_min  \\\n",
       "0          0.850              5y        1950  2020-04-17  2020-04-17 16:16:37   \n",
       "1          0.875              5y        1953  2019-05-11  2019-05-11 14:15:24   \n",
       "2          1.000              5y        1953  2019-06-21  2019-06-21 13:46:17   \n",
       "3          0.862              5y        1953  2019-10-09  2019-10-09 18:18:17   \n",
       "4          0.888              5y        1953  2019-10-12  2019-10-12 17:59:21   \n",
       "...          ...             ...         ...         ...                  ...   \n",
       "405030     0.695              6m        1959  2020-03-16  2020-03-16 14:45:08   \n",
       "405031     0.950              6m        1939  2017-01-28  2017-01-28 20:01:36   \n",
       "405032     1.000              6m        1959  2017-01-23  2017-01-23 15:19:57   \n",
       "405033     0.000              2y        1955  2018-11-04  2018-11-04 14:09:48   \n",
       "405034     0.793              2y        1954  2015-01-24  2015-01-24 05:56:45   \n",
       "\n",
       "               end_time_min                deficit_id disorder_id  domain_id  \\\n",
       "0       2020-04-17 16:22:28           {1, 2, 3, 4, 8}      {2, 3}          1   \n",
       "1                       NaN  {1, 2, 3, 4, 5, 6, 7, 8}         {3}          1   \n",
       "2                       NaN  {1, 2, 3, 4, 5, 6, 7, 8}         {3}          1   \n",
       "3       2019-10-09 18:44:53  {1, 2, 3, 4, 5, 6, 7, 8}         {3}          1   \n",
       "4       2019-10-12 18:03:47  {1, 2, 3, 4, 5, 6, 7, 8}         {3}          1   \n",
       "...                     ...                       ...         ...        ...   \n",
       "405030  2020-03-16 14:59:40        {2, 4, 5, 6, 7, 8}         {2}         12   \n",
       "405031                  NaN              {8, 5, 6, 7}         {2}         12   \n",
       "405032                  NaN                    {1, 6}         {2}         10   \n",
       "405033                  NaN           {1, 4, 5, 6, 7}         {1}         13   \n",
       "405034                  NaN           {1, 2, 3, 4, 6}         {2}         12   \n",
       "\n",
       "        progression_order  percentile  \n",
       "0                       4    0.402837  \n",
       "1                       4    0.402837  \n",
       "2                       4    0.402837  \n",
       "3                       4    0.402837  \n",
       "4                       4    0.402837  \n",
       "...                   ...         ...  \n",
       "405030                 26    0.911901  \n",
       "405031                 10    0.405029  \n",
       "405032                 24    1.000000  \n",
       "405033                 30    0.976744  \n",
       "405034                  3    0.064097  \n",
       "\n",
       "[405035 rows x 16 columns]"
      ]
     },
     "execution_count": 2,
     "metadata": {},
     "output_type": "execute_result"
    }
   ],
   "source": [
    "# import data\n",
    "df = pd.read_csv(\"data/raw_percentile_time5.csv\")\n",
    "df"
   ]
  },
  {
   "cell_type": "code",
   "execution_count": 3,
   "metadata": {},
   "outputs": [
    {
     "data": {
      "text/plain": [
       "id                      405035\n",
       "patient_id                3833\n",
       "task_type_id                73\n",
       "task_level                  12\n",
       "completed_task_count        37\n",
       "accuracy                  1019\n",
       "condition_since              9\n",
       "birth_year                  92\n",
       "start_time                 733\n",
       "start_time_min          396835\n",
       "end_time_min            384662\n",
       "deficit_id                 590\n",
       "disorder_id                149\n",
       "domain_id                   13\n",
       "progression_order           33\n",
       "percentile                 220\n",
       "dtype: int64"
      ]
     },
     "execution_count": 3,
     "metadata": {},
     "output_type": "execute_result"
    }
   ],
   "source": [
    "df.nunique()"
   ]
  },
  {
   "cell_type": "code",
   "execution_count": 4,
   "metadata": {},
   "outputs": [],
   "source": [
    "# make column name array\n",
    "def column_name_f(n):\n",
    "    output = [\"info\"]\n",
    "    for i in range(1, n+1):\n",
    "        output.append(\"domain %d true\" %(i))\n",
    "        output.append(\"domain %d comp\" %(i))\n",
    "    return output"
   ]
  },
  {
   "cell_type": "code",
   "execution_count": 5,
   "metadata": {},
   "outputs": [],
   "source": [
    "# given a patient's data, create a dataframe of scores, patient id\n",
    "def create_training_data(data):\n",
    "    data = data.sort_values(by=\"start_time_min\").reset_index() # sort data\n",
    "    n_sessions = data.shape[0]\n",
    "    n_domains = 14\n",
    "    output_array = np.zeros((n_domains * 2, n_sessions))\n",
    "    i = 0\n",
    "\n",
    "    for idx, row in data.iterrows():\n",
    "        d = row[\"domain_id\"]\n",
    "        p = row[\"percentile\"]\n",
    "\n",
    "        # update output array\n",
    "        if i != 0: output_array[:, i] = output_array[:, i-1]\n",
    "        output_array[d*2-2, i] = p # score\n",
    "        output_array[d*2-1, i] = 1-p # 1-score\n",
    "\n",
    "        i += 1\n",
    "    return output_array"
   ]
  },
  {
   "cell_type": "code",
   "execution_count": 6,
   "metadata": {},
   "outputs": [
    {
     "data": {
      "text/plain": [
       "array([[0., 0., 0., ..., 0., 0., 0.],\n",
       "       [0., 0., 0., ..., 0., 0., 0.],\n",
       "       [0., 0., 0., ..., 0., 0., 0.],\n",
       "       ...,\n",
       "       [0., 0., 0., ..., 0., 0., 0.],\n",
       "       [0., 0., 0., ..., 0., 0., 0.],\n",
       "       [0., 0., 0., ..., 0., 0., 0.]])"
      ]
     },
     "execution_count": 6,
     "metadata": {},
     "output_type": "execute_result"
    }
   ],
   "source": [
    "# takes about ~2 min to run\n",
    "train_X = np.array([])\n",
    "df_groups = df.groupby(\"patient_id\")\n",
    "df_groups.groups\n",
    "keys = df_groups.groups.keys()\n",
    "for key in keys:\n",
    "    data = df_groups.get_group(key)\n",
    "    temp = create_training_data(data)\n",
    "    if train_X.size == 0:\n",
    "        train_X = temp\n",
    "    else:\n",
    "        train_X = np.hstack((train_X, temp)) \n",
    "train_X"
   ]
  },
  {
   "cell_type": "code",
   "execution_count": 7,
   "metadata": {},
   "outputs": [],
   "source": [
    "temp_df = pd.DataFrame(train_X)\n",
    "temp_df.to_csv(\"data/autoencoder_train_1.csv\", index=False)"
   ]
  },
  {
   "cell_type": "markdown",
   "metadata": {},
   "source": [
    "# Simple Autoencoder"
   ]
  },
  {
   "cell_type": "code",
   "execution_count": 8,
   "metadata": {},
   "outputs": [],
   "source": [
    "## build autoencoder\n",
    "from keras import layers\n",
    "\n",
    "n_domain = 14 # number of domains\n",
    "\n",
    "encoding_dim = 3\n",
    "## input n_domain * 2 to represent missing values\n",
    "input_layer = keras.Input(shape=(n_domain * 2,))\n",
    "encode_layer = layers.Dense(encoding_dim, activation=\"relu\")(input_layer)\n",
    "decode_layer = layers.Dense(n_domain, activation=\"sigmoid\")(encode_layer)\n",
    "\n",
    "autoencoder = keras.Model(input_layer, decode_layer)"
   ]
  },
  {
   "cell_type": "code",
   "execution_count": 9,
   "metadata": {},
   "outputs": [],
   "source": [
    "# build encoder and decoder model\n",
    "encoder = keras.Model(input_layer, encode_layer)\n",
    "encoded_input = keras.Input(shape=(encoding_dim,))\n",
    "decode_layer = autoencoder.layers[-1]\n",
    "decoder = keras.Model(encoded_input, decode_layer(encoded_input))"
   ]
  },
  {
   "cell_type": "code",
   "execution_count": 10,
   "metadata": {},
   "outputs": [],
   "source": [
    "# compile with optimizer and loss function\n",
    "autoencoder.compile(optimizer=\"adam\", loss=\"mae\")"
   ]
  },
  {
   "cell_type": "markdown",
   "metadata": {},
   "source": [
    "### Training"
   ]
  },
  {
   "cell_type": "code",
   "execution_count": 11,
   "metadata": {},
   "outputs": [
    {
     "data": {
      "text/plain": [
       "(405035, 28)"
      ]
     },
     "execution_count": 11,
     "metadata": {},
     "output_type": "execute_result"
    }
   ],
   "source": [
    "train = train_X.copy()\n",
    "train = np.transpose(train)\n",
    "train.shape"
   ]
  },
  {
   "cell_type": "code",
   "execution_count": 12,
   "metadata": {},
   "outputs": [],
   "source": [
    "from sklearn.model_selection import train_test_split\n",
    "x_train, x_test = train_test_split(train, test_size=0.20, random_state=42)\n",
    "x_train, x_val = train_test_split(x_train, test_size=0.25, random_state=42)"
   ]
  },
  {
   "cell_type": "code",
   "execution_count": 13,
   "metadata": {},
   "outputs": [],
   "source": [
    "tf.config.run_functions_eagerly(True)"
   ]
  },
  {
   "cell_type": "code",
   "execution_count": 14,
   "metadata": {},
   "outputs": [
    {
     "name": "stdout",
     "output_type": "stream",
     "text": [
      "Epoch 1/25\n",
      " 42/950 [>.............................] - ETA: 2s - loss: 0.3949"
     ]
    },
    {
     "name": "stderr",
     "output_type": "stream",
     "text": [
      "/Users/964505/CT/ct_research/ct/lib/python3.10/site-packages/tensorflow/python/data/ops/structured_function.py:265: UserWarning: Even though the `tf.config.experimental_run_functions_eagerly` option is set, this option does not apply to tf.data functions. To force eager execution of tf.data functions, please use `tf.data.experimental.enable_debug_mode()`.\n",
      "  warnings.warn(\n"
     ]
    },
    {
     "name": "stdout",
     "output_type": "stream",
     "text": [
      "950/950 [==============================] - 3s 3ms/step - loss: 0.2244 - val_loss: 0.1683\n",
      "Epoch 2/25\n",
      "950/950 [==============================] - 3s 3ms/step - loss: 0.1556 - val_loss: 0.1481\n",
      "Epoch 3/25\n",
      "950/950 [==============================] - 3s 3ms/step - loss: 0.1449 - val_loss: 0.1427\n",
      "Epoch 4/25\n",
      "950/950 [==============================] - 3s 3ms/step - loss: 0.1409 - val_loss: 0.1394\n",
      "Epoch 5/25\n",
      "950/950 [==============================] - 3s 3ms/step - loss: 0.1376 - val_loss: 0.1361\n",
      "Epoch 6/25\n",
      "950/950 [==============================] - 3s 3ms/step - loss: 0.1346 - val_loss: 0.1337\n",
      "Epoch 7/25\n",
      "950/950 [==============================] - 3s 3ms/step - loss: 0.1326 - val_loss: 0.1320\n",
      "Epoch 8/25\n",
      "950/950 [==============================] - 3s 3ms/step - loss: 0.1311 - val_loss: 0.1306\n",
      "Epoch 9/25\n",
      "950/950 [==============================] - 3s 3ms/step - loss: 0.1299 - val_loss: 0.1296\n",
      "Epoch 10/25\n",
      "950/950 [==============================] - 3s 3ms/step - loss: 0.1290 - val_loss: 0.1287\n",
      "Epoch 11/25\n",
      "950/950 [==============================] - 3s 3ms/step - loss: 0.1282 - val_loss: 0.1280\n",
      "Epoch 12/25\n",
      "950/950 [==============================] - 3s 3ms/step - loss: 0.1276 - val_loss: 0.1275\n",
      "Epoch 13/25\n",
      "950/950 [==============================] - 3s 3ms/step - loss: 0.1271 - val_loss: 0.1270\n",
      "Epoch 14/25\n",
      "950/950 [==============================] - 3s 3ms/step - loss: 0.1267 - val_loss: 0.1267\n",
      "Epoch 15/25\n",
      "950/950 [==============================] - 3s 3ms/step - loss: 0.1263 - val_loss: 0.1263\n",
      "Epoch 16/25\n",
      "950/950 [==============================] - 3s 3ms/step - loss: 0.1260 - val_loss: 0.1261\n",
      "Epoch 17/25\n",
      "950/950 [==============================] - 3s 3ms/step - loss: 0.1258 - val_loss: 0.1258\n",
      "Epoch 18/25\n",
      "950/950 [==============================] - 3s 3ms/step - loss: 0.1256 - val_loss: 0.1256\n",
      "Epoch 19/25\n",
      "950/950 [==============================] - 3s 3ms/step - loss: 0.1254 - val_loss: 0.1254\n",
      "Epoch 20/25\n",
      "950/950 [==============================] - 3s 3ms/step - loss: 0.1252 - val_loss: 0.1253\n",
      "Epoch 21/25\n",
      "950/950 [==============================] - 3s 3ms/step - loss: 0.1250 - val_loss: 0.1251\n",
      "Epoch 22/25\n",
      "950/950 [==============================] - 3s 3ms/step - loss: 0.1249 - val_loss: 0.1250\n",
      "Epoch 23/25\n",
      "950/950 [==============================] - 3s 3ms/step - loss: 0.1247 - val_loss: 0.1248\n",
      "Epoch 24/25\n",
      "950/950 [==============================] - 3s 3ms/step - loss: 0.1246 - val_loss: 0.1247\n",
      "Epoch 25/25\n",
      "950/950 [==============================] - 3s 3ms/step - loss: 0.1245 - val_loss: 0.1246\n"
     ]
    }
   ],
   "source": [
    "output = autoencoder.fit(x_train, x_train,\n",
    "                epochs=25,\n",
    "                batch_size=256,\n",
    "                shuffle=True,\n",
    "                validation_data=(x_val, x_val))"
   ]
  },
  {
   "cell_type": "markdown",
   "metadata": {},
   "source": [
    "### Evaluation"
   ]
  },
  {
   "cell_type": "code",
   "execution_count": 15,
   "metadata": {},
   "outputs": [
    {
     "name": "stdout",
     "output_type": "stream",
     "text": [
      "317/317 [==============================] - 0s 326us/step\n"
     ]
    }
   ],
   "source": [
    "x_test_encoded = encoder.predict(x_test, batch_size=256)"
   ]
  },
  {
   "cell_type": "code",
   "execution_count": 16,
   "metadata": {},
   "outputs": [
    {
     "name": "stdout",
     "output_type": "stream",
     "text": [
      "2532/2532 [==============================] - 1s 323us/step\n"
     ]
    }
   ],
   "source": [
    "x_decoded = decoder.predict(x_test_encoded)"
   ]
  },
  {
   "cell_type": "code",
   "execution_count": 17,
   "metadata": {},
   "outputs": [],
   "source": [
    "from sklearn.metrics import mean_absolute_error\n",
    "from sklearn.metrics import mean_squared_error"
   ]
  },
  {
   "cell_type": "code",
   "execution_count": 18,
   "metadata": {},
   "outputs": [
    {
     "data": {
      "text/plain": [
       "array([2.11214295e-01, 1.96084634e-01, 2.22515260e-01, 2.00794394e-01,\n",
       "       1.44641357e-01, 1.99969598e-01, 6.10574222e-02, 1.98993004e-01,\n",
       "       1.12826089e-01, 1.43250712e-01, 1.85650588e-01, 1.95033199e-01,\n",
       "       6.25694378e-03, 4.21210423e-03, 9.47113717e-02, 8.24837967e-02,\n",
       "       1.14486049e-01, 1.10584387e-01, 2.76173644e-01, 1.96415942e-01,\n",
       "       4.83320266e-07, 5.22392474e-07, 1.77524692e-01, 2.33708007e-01,\n",
       "       1.60220943e-03, 2.13909301e-03, 4.75281215e-02, 6.54504476e-02])"
      ]
     },
     "execution_count": 18,
     "metadata": {},
     "output_type": "execute_result"
    }
   ],
   "source": [
    "mean_absolute_error(x_test, x_decoded, multioutput=\"raw_values\")"
   ]
  },
  {
   "cell_type": "code",
   "execution_count": 19,
   "metadata": {},
   "outputs": [
    {
     "data": {
      "text/plain": [
       "0.12447529889388301"
      ]
     },
     "execution_count": 19,
     "metadata": {},
     "output_type": "execute_result"
    }
   ],
   "source": [
    "mean_absolute_error(x_test, x_decoded)"
   ]
  },
  {
   "cell_type": "code",
   "execution_count": 20,
   "metadata": {},
   "outputs": [
    {
     "data": {
      "image/png": "[encoded data removed]",
      "text/plain": [
       "<Figure size 640x480 with 1 Axes>"
      ]
     },
     "metadata": {},
     "output_type": "display_data"
    }
   ],
   "source": [
    "plt.plot(output.history['loss'])\n",
    "plt.plot(output.history['val_loss'])\n",
    "plt.title('model loss')\n",
    "plt.ylabel('loss')\n",
    "plt.xlabel('epoch')\n",
    "plt.legend(['train', 'val'], loc='upper left')\n",
    "plt.show()"
   ]
  },
  {
   "cell_type": "code",
   "execution_count": 21,
   "metadata": {},
   "outputs": [
    {
     "name": "stdout",
     "output_type": "stream",
     "text": [
      "1/1 [==============================] - 0s 9ms/step\n",
      "1/1 [==============================] - 0s 8ms/step\n"
     ]
    },
    {
     "name": "stderr",
     "output_type": "stream",
     "text": [
      "/Users/964505/CT/ct_research/ct/lib/python3.10/site-packages/tensorflow/python/data/ops/structured_function.py:265: UserWarning: Even though the `tf.config.experimental_run_functions_eagerly` option is set, this option does not apply to tf.data functions. To force eager execution of tf.data functions, please use `tf.data.experimental.enable_debug_mode()`.\n",
      "  warnings.warn(\n"
     ]
    }
   ],
   "source": [
    "## all zero test case, expecting it to return averages\n",
    "\n",
    "all_zeros = np.zeros((1, 28))\n",
    "all_zeros_encoded = encoder.predict(all_zeros, batch_size=256)\n",
    "all_zeros_decoded = decoder.predict(all_zeros_encoded)"
   ]
  },
  {
   "cell_type": "code",
   "execution_count": 22,
   "metadata": {},
   "outputs": [
    {
     "data": {
      "text/plain": [
       "array([[0.000000, 0.000000, 0.063890, 0.006645, 0.000000, 0.065478,\n",
       "        0.000046, 0.089785, 0.059816, 0.009286, 0.000000, 0.000000,\n",
       "        0.000000, 0.000000, 0.000000, 0.000000, 0.003316, 0.001644,\n",
       "        0.000000, 0.000000, 0.000000, 0.000000, 0.253019, 0.329752,\n",
       "        0.000000, 0.000000, 0.000000, 0.000000]], dtype=float32)"
      ]
     },
     "execution_count": 22,
     "metadata": {},
     "output_type": "execute_result"
    }
   ],
   "source": [
    "np.set_printoptions(formatter={'float_kind':'{:f}'.format})\n",
    "all_zeros_decoded"
   ]
  },
  {
   "cell_type": "markdown",
   "metadata": {},
   "source": [
    "# Variational Autoencoder"
   ]
  },
  {
   "cell_type": "code",
   "execution_count": 23,
   "metadata": {},
   "outputs": [],
   "source": [
    "original_dim = n_domain * 2\n",
    "intermediate_dim = n_domain\n",
    "latent_dim = 2\n",
    "\n",
    "inputs = keras.Input(shape=(original_dim,))\n",
    "h = layers.Dense(intermediate_dim, activation='relu')(inputs)\n",
    "z_mean = layers.Dense(latent_dim)(h)\n",
    "z_log_sigma = layers.Dense(latent_dim)(h)"
   ]
  },
  {
   "cell_type": "code",
   "execution_count": 24,
   "metadata": {},
   "outputs": [],
   "source": [
    "from keras import backend as K\n",
    "\n",
    "def sampling(args):\n",
    "    z_mean, z_log_sigma = args\n",
    "    epsilon = K.random_normal(shape=(K.shape(z_mean)[0], latent_dim),\n",
    "                              mean=0., stddev=0.1)\n",
    "    return z_mean + K.exp(z_log_sigma) * epsilon\n",
    "\n",
    "z = layers.Lambda(sampling)([z_mean, z_log_sigma])"
   ]
  },
  {
   "cell_type": "code",
   "execution_count": 25,
   "metadata": {},
   "outputs": [],
   "source": [
    "# Create encoder\n",
    "encoder = keras.Model(inputs, [z_mean, z_log_sigma, z], name='encoder')\n",
    "\n",
    "# Create decoder\n",
    "latent_inputs = keras.Input(shape=(latent_dim,), name='z_sampling')\n",
    "x = layers.Dense(intermediate_dim, activation='relu')(latent_inputs)\n",
    "outputs = layers.Dense(original_dim, activation='sigmoid')(x)\n",
    "decoder = keras.Model(latent_inputs, outputs, name='decoder')\n",
    "\n",
    "# instantiate VAE model\n",
    "outputs = decoder(encoder(inputs)[2])\n",
    "vae = keras.Model(inputs, outputs, name='vae_mlp')"
   ]
  },
  {
   "cell_type": "code",
   "execution_count": 26,
   "metadata": {},
   "outputs": [],
   "source": [
    "reconstruction_loss = keras.losses.binary_crossentropy(inputs, outputs)\n",
    "reconstruction_loss *= original_dim\n",
    "kl_loss = 1 + z_log_sigma - K.square(z_mean) - K.exp(z_log_sigma)\n",
    "kl_loss = K.sum(kl_loss, axis=-1)\n",
    "kl_loss *= -0.5\n",
    "vae_loss = K.mean(reconstruction_loss + kl_loss)\n",
    "vae.add_loss(vae_loss)\n",
    "vae.compile(optimizer='adam')"
   ]
  },
  {
   "cell_type": "code",
   "execution_count": 29,
   "metadata": {},
   "outputs": [
    {
     "name": "stdout",
     "output_type": "stream",
     "text": [
      "Epoch 1/15\n",
      "  16/7595 [..............................] - ETA: 51s - loss: 9.3814"
     ]
    },
    {
     "name": "stderr",
     "output_type": "stream",
     "text": [
      "/Users/964505/CT/ct_research/ct/lib/python3.10/site-packages/tensorflow/python/data/ops/structured_function.py:265: UserWarning: Even though the `tf.config.experimental_run_functions_eagerly` option is set, this option does not apply to tf.data functions. To force eager execution of tf.data functions, please use `tf.data.experimental.enable_debug_mode()`.\n",
      "  warnings.warn(\n"
     ]
    },
    {
     "name": "stdout",
     "output_type": "stream",
     "text": [
      "7595/7595 [==============================] - 53s 7ms/step - loss: 9.3906 - val_loss: 9.4194\n",
      "Epoch 2/15\n",
      "7595/7595 [==============================] - 53s 7ms/step - loss: 9.3886 - val_loss: 9.4086\n",
      "Epoch 3/15\n",
      "7595/7595 [==============================] - 54s 7ms/step - loss: 9.3883 - val_loss: 9.4112\n",
      "Epoch 4/15\n",
      "7595/7595 [==============================] - 54s 7ms/step - loss: 9.3881 - val_loss: 9.4047\n",
      "Epoch 5/15\n",
      "7595/7595 [==============================] - 54s 7ms/step - loss: 9.3884 - val_loss: 9.4006\n",
      "Epoch 6/15\n",
      "7595/7595 [==============================] - 54s 7ms/step - loss: 9.3884 - val_loss: 9.3970\n",
      "Epoch 7/15\n",
      "7595/7595 [==============================] - 53s 7ms/step - loss: 9.3868 - val_loss: 9.3954\n",
      "Epoch 8/15\n",
      "7595/7595 [==============================] - 53s 7ms/step - loss: 9.3849 - val_loss: 9.4091\n",
      "Epoch 9/15\n",
      "7595/7595 [==============================] - 53s 7ms/step - loss: 9.3837 - val_loss: 9.4011\n",
      "Epoch 10/15\n",
      "7595/7595 [==============================] - 54s 7ms/step - loss: 9.3841 - val_loss: 9.4012\n",
      "Epoch 11/15\n",
      "7595/7595 [==============================] - 53s 7ms/step - loss: 9.3832 - val_loss: 9.3908\n",
      "Epoch 12/15\n",
      "7595/7595 [==============================] - 53s 7ms/step - loss: 9.3834 - val_loss: 9.3993\n",
      "Epoch 13/15\n",
      "7595/7595 [==============================] - 53s 7ms/step - loss: 9.3834 - val_loss: 9.3900\n",
      "Epoch 14/15\n",
      "7595/7595 [==============================] - 53s 7ms/step - loss: 9.3816 - val_loss: 9.3996\n",
      "Epoch 15/15\n",
      "7595/7595 [==============================] - 54s 7ms/step - loss: 9.3820 - val_loss: 9.4107\n"
     ]
    }
   ],
   "source": [
    "output = vae.fit(x_train, x_train,\n",
    "        epochs=15,\n",
    "        batch_size=32,\n",
    "        validation_data=(x_val, x_val))"
   ]
  },
  {
   "cell_type": "code",
   "execution_count": 30,
   "metadata": {},
   "outputs": [
    {
     "data": {
      "image/png": "[encoded data removed]",
      "text/plain": [
       "<Figure size 640x480 with 1 Axes>"
      ]
     },
     "metadata": {},
     "output_type": "display_data"
    },
    {
     "name": "stderr",
     "output_type": "stream",
     "text": [
      "Bad pipe message: %s [b'A\\xb3\\x9e@}\\x93#j\\xcf`l\\xfe\\xe6\\xb6\\x98*u\\x94\\x00\\x01|\\x00\\x00\\x00\\x01\\x00\\x02\\x00\\x03\\x00\\x04\\x00\\x05\\x00\\x06\\x00\\x07\\x00\\x08\\x00\\t\\x00\\n\\x00\\x0b\\x00\\x0c\\x00\\r\\x00\\x0e\\x00\\x0f\\x00\\x10\\x00\\x11\\x00\\x12\\x00\\x13\\x00\\x14\\x00\\x15\\x00\\x16\\x00']\n",
      "Bad pipe message: %s [b'\\x18\\x00\\x19\\x00\\x1a\\x00\\x1b\\x00/\\x000\\x001\\x002\\x003\\x004\\x005\\x00']\n",
      "Bad pipe message: %s [b\"'\\x1a0\\xf6\\xedd\\x04\\xdb\\xe5]\\x80+1}\\x7f:\\xc1T\\x00\\x01|\\x00\\x00\\x00\\x01\\x00\\x02\\x00\\x03\\x00\\x04\\x00\\x05\\x00\\x06\\x00\\x07\\x00\\x08\\x00\\t\\x00\\n\"]\n",
      "Bad pipe message: %s [b'K\\x87\\xe7\\xc6.\\xf4)|E\\x83\\x92\\ty\\x91p\\xa0\\x1cN\\x00\\x01|\\x00\\x00\\x00\\x01\\x00\\x02\\x00\\x03\\x00\\x04\\x00\\x05\\x00\\x06\\x00\\x07\\x00\\x08\\x00\\t\\x00\\n\\x00\\x0b\\x00\\x0c\\x00\\r\\x00\\x0e\\x00\\x0f\\x00\\x10\\x00\\x11\\x00\\x12\\x00\\x13\\x00\\x14\\x00\\x15\\x00\\x16\\x00\\x17\\x00\\x18\\x00\\x19\\x00\\x1a\\x00\\x1b\\x00/\\x000\\x001\\x002\\x003\\x004\\x005\\x006\\x007\\x008\\x009\\x00:\\x00;\\x00<\\x00=\\x00>\\x00?\\x00@\\x00A\\x00B\\x00C\\x00D\\x00E\\x00F\\x00g\\x00h\\x00i\\x00j\\x00k\\x00l\\x00m\\x00\\x84\\x00\\x85\\x00\\x86\\x00\\x87\\x00\\x88\\x00\\x89\\x00\\x96\\x00\\x97\\x00\\x98\\x00\\x99\\x00\\x9a\\x00\\x9b\\x00\\x9c\\x00\\x9d\\x00\\x9e\\x00\\x9f\\x00\\xa0\\x00\\xa1\\x00\\xa2\\x00\\xa3\\x00\\xa4\\x00\\xa5\\x00\\xa6\\x00\\xa7\\x00\\xba\\x00\\xbb\\x00\\xbc\\x00\\xbd']\n",
      "Bad pipe message: %s [b'7\\x008\\x009\\x00:\\x00;\\x00<\\x00=\\x00>\\x00?\\x00@\\x00A\\x00B\\x00C\\x00D\\x00E\\x00F\\x00g\\x00h\\x00i\\x00j\\x00k\\x00l\\x00m\\x00\\x84\\x00\\x85\\x00\\x86\\x00\\x87']\n",
      "Bad pipe message: %s [b'6v!2\\xf6\\xf7F\\xc9\\xfc\\xb0p\\x03']\n",
      "Bad pipe message: %s [b\"y\\\\\\xa6\\x8cZR\\xce\\x8b<C\\xad\\xb3\\x1aW6q\\xa9N\\x00\\x00D\\x00\\x96\\x00\\x97\\x00\\x98\\x00\\x99\\x00\\x9a\\x00\\x9b\\x00\\x9c\\x00\\x9d\\x00\\x9e\\x00\\x9f\\x00\\xa0\\x00\\xa1\\x00\\xa2\\x00\\xa3\\x00\\xa4\\x00\\xa5\\x00\\xa6\\x00\\xa7\\xc0#\\xc0$\\xc0%\\xc0&\\xc0'\\xc0\", b')\\xc0*\\xc0+\\xc0,\\xc0-\\xc0.\\xc0/\\xc00\\xc01\\xc02\\x02\\x00\\x01\\x00,\\x00\\n\\x00\\n\\x00\\x08\\x00\\x17\\x00\\x19\\x00\\x18\\x00\\x16\\x00']\n",
      "Bad pipe message: %s [b'\\x04\\x03\\x00\\x01\\x02\\x00\\r\\x00\\x12\\x00']\n",
      "Bad pipe message: %s [b'\\x03\\x08\\x04\\x04\\x01\\x05\\x03\\x05\\x01\\x08\\x05\\x08\\x06\\x06\\x01']\n",
      "Bad pipe message: %s [b'T\\x14\\xa5\\xae\\xfbL\\xeb\\r\\x18\\xa7\\n\\xb1\\xfc\\xb7B\\x84Lu\\x00\\x006\\xc0\\x01\\xc0\\x03\\xc0\\x04\\xc0\\x05\\xc0\\x06\\xc0\\x08\\xc0\\t\\xc0\\n\\xc0\\x0b\\xc0\\r\\xc0\\x0e\\xc0\\x0f\\xc0\\x10\\xc0\\x12\\xc0\\x13\\xc0\\x14\\xc0\\x15\\xc0\\x17\\xc0\\x18\\xc0\\x19\\xcc\\xa8\\xcc\\xa9\\xcc\\xaa\\xcc\\xab\\xcc\\xac\\xcc\\xad\\xcc\\xae\\x02\\x00\\x01\\x00,\\x00\\n\\x00\\n\\x00\\x08\\x00\\x17\\x00\\x19\\x00\\x18\\x00\\x16\\x00\\x0b\\x00\\x04\\x03\\x00\\x01\\x02']\n",
      "Bad pipe message: %s [b'_\\xe1\\xaf\\x12\\xcc\\xae%\\xfe2\\\\\\x9a\\xdff\\x12\\x0c\\x08\\xad\\xb3\\x00\\x000\\x00A\\x00B\\x00C\\x00D\\x00E\\x00F\\x00\\x84\\x00\\x85\\x00\\x86\\x00\\x87\\x00\\x88\\x00\\x89\\x00\\xba\\x00']\n",
      "Bad pipe message: %s [b'\\x93\\xac\\xdb#\\x12S\\xff\\xf5\\xa2N\\x9b\\xf5\\xcd.\\xa6\\x014B\\x00\\x00T\\xc0r\\xc0s\\xc0t\\xc0u\\xc0v\\xc0w\\xc0x\\xc0y\\xc0z\\xc0{\\xc0|\\xc0}\\xc0~\\xc0\\x7f\\xc0\\x80\\xc0\\x81\\xc0\\x82\\xc0\\x83\\xc0\\x84\\xc0\\x85\\xc0\\x86\\xc0\\x87\\xc0\\x88\\xc0\\x89\\xc0\\x8a\\xc0\\x8b\\xc0\\x8c\\xc0\\x8d\\xc0\\x8e\\xc0\\x8f\\xc0\\x90\\xc0\\x91\\xc0\\x92\\xc0\\x93\\xc0\\x94\\xc0\\x95\\xc0\\x96\\xc0\\x97\\xc0\\x98\\xc0\\x99\\xc0\\x9a\\xc0\\x9b\\x02\\x00\\x01\\x00,\\x00\\n\\x00\\n\\x00\\x08\\x00\\x17\\x00\\x19\\x00\\x18\\x00\\x16\\x00\\x0b\\x00\\x04\\x03\\x00\\x01\\x02\\x00\\r\\x00', b'\\x10\\x04\\x03\\x08\\x04\\x04\\x01\\x05\\x03\\x05\\x01\\x08\\x05\\x08\\x06\\x06\\x01']\n",
      "Bad pipe message: %s [b'\\x92\\x03:\\xb7\\xc2J\\xecq~Y\\x8e9\\xba\\xe3Te\\xa5M\\x00\\x006\\xc0\\x01\\xc0\\x03\\xc0\\x04\\xc0\\x05\\xc0\\x06\\xc0\\x08\\xc0\\t\\xc0\\n\\xc0\\x0b\\xc0\\r\\xc0\\x0e\\xc0\\x0f\\xc0\\x10\\xc0\\x12\\xc0\\x13\\xc0\\x14\\xc0\\x15\\xc0\\x17\\xc0']\n",
      "Bad pipe message: %s [b'\\x19\\xcc\\xa8\\xcc\\xa9\\xcc\\xaa\\xcc\\xab\\xcc\\xac\\xcc\\xad\\xcc\\xae\\x02\\x00\\x01\\x00,\\x00\\n\\x00']\n",
      "Bad pipe message: %s [b'\\x08\\x00\\x17\\x00\\x19\\x00\\x18\\x00\\x16']\n",
      "Bad pipe message: %s [b\"'\\xc6\\xff\\xea\\x15\\xd2\\x04\\xbe\\xa1\\xa9~\\xee\\xd1x\\x9c\\x02['\\x00\\x00*\\x00\\x03\\x00\\x06\\x00\\x07\\x00\\x08\\x00\\t\\x00\\x0b\\x00\\x0c\\x00\\x0e\\x00\\x0f\\x00\\x11\\x00\\x12\\x00\\x14\\x00\\x15\\x00\\x17\\x00\\x19\\x00\\x1a\\xc0\\x02\\xc0\\x07\\xc0\\x0c\\xc0\\x11\\xc0\\x16\\x02\\x00\\x01\\x00,\\x00\\n\\x00\\n\\x00\\x08\\x00\\x17\\x00\\x19\\x00\\x18\\x00\\x16\\x00\\x0b\\x00\\x04\\x03\\x00\\x01\\x02\\x00\\r\\x00\\x12\\x00\\x10\\x04\"]\n",
      "Bad pipe message: %s [b'\\x04\\x04']\n",
      "Bad pipe message: %s [b'\\xd2h2\\xf4*\\xc6\\x840\\xe8)\\x7fn\\xa7\\xfe\\x82\\x1c$\\xb8\\x00\\x006\\xc0\\x01\\xc0\\x03\\xc0\\x04\\xc0\\x05\\xc0\\x06\\xc0\\x08\\xc0\\t\\xc0\\n\\xc0\\x0b\\xc0\\r\\xc0\\x0e\\xc0\\x0f\\xc0\\x10\\xc0\\x12\\xc0\\x13\\xc0\\x14\\xc0\\x15\\xc0\\x17\\xc0\\x18\\xc0\\x19\\xcc\\xa8\\xcc\\xa9\\xcc\\xaa\\xcc\\xab\\xcc\\xac\\xcc\\xad\\xcc\\xae\\x02\\x00\\x01\\x00,\\x00\\n\\x00\\n\\x00\\x08\\x00\\x17\\x00\\x19\\x00\\x18']\n",
      "Bad pipe message: %s [b'\\xe8\\xb5\\x18\\xacl\\xd9%\\x17\\xbb{\\xec\\xdf\\x82>\\xd1\\x19xA q;\\xae\\xc8\\x8e\\x8c\\xb0P^\\x9b\\x03<v\\xfc<\\xb3r=\\xb7\\xcaE}\\xe9~']\n",
      "Bad pipe message: %s [b'qd\\x9b\\xc2G\\\\\\x01\\x07\\x01Y\\x8a_\\x98\\x84\\xaf:\\x92\\r\\x00\\x01|\\x00\\x00\\x00\\x01\\x00\\x02\\x00\\x03\\x00\\x04\\x00\\x05\\x00\\x06\\x00\\x07\\x00\\x08\\x00\\t\\x00\\n\\x00\\x0b\\x00\\x0c\\x00\\r\\x00\\x0e\\x00\\x0f\\x00\\x10\\x00\\x11\\x00\\x12\\x00\\x13\\x00\\x14\\x00\\x15\\x00\\x16\\x00\\x17\\x00\\x18\\x00\\x19\\x00\\x1a\\x00\\x1b\\x00/\\x000\\x001\\x002\\x003\\x004\\x005\\x006\\x007\\x008\\x009\\x00:\\x00;\\x00<\\x00=\\x00>\\x00?\\x00@\\x00A\\x00B\\x00C\\x00D\\x00E\\x00F\\x00g\\x00h\\x00i\\x00j\\x00k\\x00l\\x00m\\x00\\x84\\x00\\x85\\x00\\x86\\x00\\x87\\x00\\x88\\x00\\x89\\x00\\x96\\x00\\x97\\x00\\x98\\x00\\x99\\x00\\x9a\\x00\\x9b\\x00\\x9c\\x00\\x9d\\x00\\x9e\\x00\\x9f\\x00\\xa0\\x00\\xa1\\x00\\xa2\\x00\\xa3\\x00\\xa4\\x00\\xa5\\x00\\xa6\\x00\\xa7\\x00\\xba\\x00\\xbb\\x00\\xbc\\x00\\xbd\\x00\\xbe\\x00\\xbf\\x00\\xc0\\x00\\xc1\\x00\\xc2\\x00\\xc3\\x00\\xc4\\x00\\xc5\\x13\\x01\\x13\\x02\\x13\\x03\\x13\\x04\\x13\\x05\\xc0\\x01\\xc0\\x02\\xc0\\x03\\xc0\\x04\\xc0\\x05\\xc0\\x06\\xc0\\x07\\xc0\\x08\\xc0\\t\\xc0\\n\\xc0\\x0b\\xc0\\x0c\\xc0']\n",
      "Bad pipe message: %s [b'\\xec\\xa2\\xa8\\\\]\\x1a5\\xab\\xaf\\xc0\\\\\\xa1\\x08\\x01\\n\\xc6#,\\x00\\x01|\\x00\\x00\\x00\\x01\\x00\\x02\\x00\\x03\\x00\\x04\\x00\\x05\\x00\\x06\\x00\\x07\\x00\\x08\\x00\\t\\x00\\n\\x00\\x0b\\x00\\x0c\\x00\\r\\x00\\x0e\\x00\\x0f\\x00\\x10\\x00\\x11\\x00\\x12\\x00\\x13\\x00\\x14\\x00\\x15\\x00\\x16\\x00\\x17\\x00\\x18\\x00\\x19\\x00\\x1a\\x00\\x1b\\x00/\\x000\\x001\\x002\\x003\\x004\\x005\\x006\\x007\\x008\\x009\\x00:\\x00;\\x00<\\x00=\\x00>\\x00?\\x00@\\x00A\\x00B\\x00C\\x00D\\x00E\\x00F\\x00g\\x00h\\x00i\\x00j\\x00k\\x00l\\x00m\\x00\\x84\\x00\\x85\\x00\\x86\\x00\\x87\\x00\\x88\\x00\\x89\\x00\\x96\\x00\\x97\\x00\\x98\\x00\\x99\\x00\\x9a\\x00\\x9b\\x00\\x9c\\x00\\x9d\\x00\\x9e\\x00\\x9f\\x00\\xa0\\x00\\xa1\\x00\\xa2\\x00\\xa3']\n",
      "Bad pipe message: %s [b'z\\xe9\\x04D*\\x1a\\x1e6\\xa2\\xeb\\x81\\xe6\\xb3~z\\xd2-\\xe8\\x00\\x01|\\x00\\x00\\x00\\x01\\x00\\x02\\x00\\x03\\x00\\x04\\x00\\x05\\x00\\x06\\x00\\x07\\x00\\x08\\x00\\t\\x00\\n\\x00\\x0b\\x00\\x0c\\x00\\r\\x00\\x0e\\x00\\x0f\\x00\\x10\\x00\\x11\\x00\\x12\\x00\\x13\\x00\\x14\\x00\\x15\\x00\\x16\\x00\\x17\\x00\\x18\\x00\\x19\\x00\\x1a\\x00\\x1b\\x00/\\x000\\x001\\x002\\x003\\x004\\x005\\x006\\x007\\x008\\x009\\x00:\\x00;\\x00<\\x00=\\x00>\\x00?\\x00@\\x00A\\x00B\\x00C\\x00D\\x00E\\x00F\\x00g\\x00h\\x00i\\x00j\\x00k\\x00l\\x00m\\x00\\x84\\x00\\x85\\x00\\x86\\x00\\x87\\x00\\x88\\x00\\x89\\x00\\x96\\x00\\x97\\x00\\x98\\x00\\x99\\x00\\x9a\\x00\\x9b\\x00\\x9c\\x00\\x9d']\n",
      "Bad pipe message: %s [b'\\x0e\\xc0\\x0f\\xc0\\x10\\xc0\\x11\\xc0\\x12\\xc0\\x13\\xc0']\n",
      "Bad pipe message: %s [b\"\\x15\\xc0\\x16\\xc0\\x17\\xc0\\x18\\xc0\\x19\\xc0#\\xc0$\\xc0%\\xc0&\\xc0'\"]\n",
      "Bad pipe message: %s [b'\\xfc^R\\x1eV\\x83L\\xdf\\xb1\\xb9wM_\\xfbF\\r\\xc4\\x18\\x00\\x01|\\x00\\x00\\x00\\x01\\x00\\x02\\x00\\x03\\x00\\x04\\x00\\x05\\x00\\x06\\x00\\x07\\x00\\x08\\x00\\t\\x00\\n\\x00\\x0b\\x00\\x0c\\x00\\r\\x00\\x0e\\x00\\x0f\\x00\\x10\\x00\\x11\\x00\\x12\\x00\\x13\\x00\\x14\\x00\\x15\\x00\\x16\\x00\\x17\\x00\\x18\\x00\\x19\\x00\\x1a\\x00\\x1b\\x00/\\x000\\x001\\x002\\x003\\x004\\x005\\x006\\x007\\x008\\x009\\x00:\\x00;\\x00<\\x00=\\x00>\\x00?\\x00@\\x00A\\x00B\\x00C\\x00D\\x00E\\x00F\\x00g\\x00h\\x00i\\x00j\\x00k\\x00l\\x00m\\x00\\x84\\x00\\x85\\x00\\x86\\x00\\x87\\x00\\x88\\x00\\x89\\x00\\x96\\x00\\x97\\x00\\x98\\x00\\x99\\x00\\x9a\\x00\\x9b\\x00\\x9c\\x00\\x9d\\x00\\x9e\\x00\\x9f\\x00\\xa0\\x00', b\"\\xa2\\x00\\xa3\\x00\\xa4\\x00\\xa5\\x00\\xa6\\x00\\xa7\\x00\\xba\\x00\\xbb\\x00\\xbc\\x00\\xbd\\x00\\xbe\\x00\\xbf\\x00\\xc0\\x00\\xc1\\x00\\xc2\\x00\\xc3\\x00\\xc4\\x00\\xc5\\x13\\x01\\x13\\x02\\x13\\x03\\x13\\x04\\x13\\x05\\xc0\\x01\\xc0\\x02\\xc0\\x03\\xc0\\x04\\xc0\\x05\\xc0\\x06\\xc0\\x07\\xc0\\x08\\xc0\\t\\xc0\\n\\xc0\\x0b\\xc0\\x0c\\xc0\\r\\xc0\\x0e\\xc0\\x0f\\xc0\\x10\\xc0\\x11\\xc0\\x12\\xc0\\x13\\xc0\\x14\\xc0\\x15\\xc0\\x16\\xc0\\x17\\xc0\\x18\\xc0\\x19\\xc0#\\xc0$\\xc0%\\xc0&\\xc0'\\xc0(\\xc0)\\xc0*\\xc0+\\xc0,\\xc0-\\xc0.\\xc0/\\xc00\\xc01\\xc02\\xc0r\\xc0s\\xc0t\\xc0u\\xc0v\\xc0w\\xc0x\\xc0y\\xc0z\\xc0{\\xc0|\\xc0}\\xc0~\\xc0\\x7f\\xc0\\x80\\xc0\\x81\\xc0\"]\n",
      "Bad pipe message: %s [b\"\\xa1\\xc7\\xd8?\\xaa\\xeaQLq\\xf4\\xb5U\\x16\\x9b\\x8e\\xa4' \\x00\\x00D\\x00\\x96\\x00\\x97\\x00\\x98\\x00\\x99\\x00\\x9a\\x00\\x9b\\x00\\x9c\\x00\\x9d\\x00\\x9e\\x00\\x9f\\x00\\xa0\\x00\\xa1\\x00\"]\n",
      "Bad pipe message: %s [b'\\xa071%)0\\xd8\\x88c']\n",
      "Bad pipe message: %s [b\"O\\xb8\\xb5\\x9a\\x81;\\xcc\\xa5W\\xf6C?\\xba\\xcf\\x9d\\xbd\\xfa\\xe9\\x00\\x00D\\x00\\x96\\x00\\x97\\x00\\x98\\x00\\x99\\x00\\x9a\\x00\\x9b\\x00\\x9c\\x00\\x9d\\x00\\x9e\\x00\\x9f\\x00\\xa0\\x00\\xa1\\x00\\xa2\\x00\\xa3\\x00\\xa4\\x00\\xa5\\x00\\xa6\\x00\\xa7\\xc0#\\xc0$\\xc0%\\xc0&\\xc0'\\xc0(\\xc0)\\xc0*\\xc0+\\xc0,\\xc0-\\xc0.\\xc0/\\xc00\\xc01\\xc02\\x02\\x00\\x01\\x00,\\x00\\n\\x00\\n\\x00\\x08\"]\n",
      "Bad pipe message: %s [b'ZSs\\x0b_\\xa0T\\x9d_.\\xaa\\x8c\\xef\\x18\\xd4\\x08]\\xda\\x00\\x00T\\xc0r\\xc0s\\xc0t\\xc0u\\xc0v\\xc0w\\xc0x\\xc0y\\xc0z\\xc0{\\xc0|\\xc0}\\xc0~\\xc0\\x7f\\xc0\\x80\\xc0\\x81\\xc0\\x82\\xc0\\x83\\xc0\\x84\\xc0\\x85\\xc0\\x86\\xc0\\x87\\xc0\\x88\\xc0\\x89\\xc0\\x8a\\xc0\\x8b\\xc0\\x8c\\xc0\\x8d\\xc0\\x8e\\xc0\\x8f\\xc0\\x90\\xc0\\x91\\xc0\\x92\\xc0\\x93\\xc0\\x94\\xc0\\x95\\xc0\\x96\\xc0\\x97\\xc0\\x98\\xc0\\x99\\xc0\\x9a\\xc0\\x9b\\x02\\x00\\x01\\x00,\\x00\\n\\x00\\n\\x00\\x08\\x00\\x17\\x00\\x19\\x00\\x18\\x00\\x16\\x00\\x0b\\x00\\x04\\x03']\n",
      "Bad pipe message: %s [b'\\xce)\\xff\\xf6\\x93I\\xb7\\xbd\\xa9\\xf4@\\xc5\\x19\\xa7\\x89\\xf0\\x14o\\x00\\x00*\\x00\\x03\\x00\\x06\\x00\\x07\\x00\\x08\\x00\\t\\x00\\x0b\\x00\\x0c\\x00\\x0e\\x00\\x0f\\x00\\x11\\x00\\x12\\x00\\x14\\x00\\x15\\x00\\x17\\x00\\x19\\x00\\x1a\\xc0\\x02\\xc0\\x07\\xc0\\x0c\\xc0\\x11\\xc0\\x16\\x02\\x00\\x01\\x00,\\x00\\n\\x00\\n\\x00\\x08\\x00\\x17\\x00\\x19\\x00\\x18\\x00\\x16\\x00\\x0b\\x00\\x04\\x03\\x00\\x01\\x02\\x00\\r\\x00\\x12\\x00\\x10\\x04\\x03\\x08\\x04\\x04\\x01\\x05\\x03\\x05']\n",
      "Bad pipe message: %s [b'']\n",
      "Bad pipe message: %s [b'Uc\\x10\\xacJ\\x9c\\xc5Rj\\xa1\\x0e\\x92\\x8c\\x94\\xb8\\x91\\xb6;\\x00\\x006\\xc0\\x01\\xc0\\x03\\xc0\\x04\\xc0\\x05\\xc0\\x06\\xc0\\x08\\xc0\\t\\xc0\\n\\xc0\\x0b\\xc0\\r\\xc0\\x0e\\xc0\\x0f\\xc0\\x10\\xc0\\x12\\xc0\\x13\\xc0\\x14\\xc0\\x15\\xc0\\x17\\xc0\\x18\\xc0\\x19\\xcc\\xa8\\xcc\\xa9\\xcc\\xaa\\xcc\\xab\\xcc\\xac\\xcc\\xad\\xcc\\xae\\x02\\x00\\x01\\x00,\\x00\\n\\x00\\n\\x00\\x08\\x00\\x17\\x00\\x19\\x00\\x18\\x00\\x16\\x00\\x0b\\x00\\x04\\x03\\x00\\x01\\x02\\x00\\r\\x00\\x12\\x00\\x10\\x04\\x03\\x08\\x04', b'\\x05\\x03\\x05', b'']\n",
      "Bad pipe message: %s [b'\\x0cR\\xf24<\\x14\\x8f \\xb2~\\x0f\\xa5\\xa5\\xe7R\\xd2\\x806\\x00\\x00T\\xc0r\\xc0s\\xc0t\\xc0u\\xc0v\\xc0w\\xc0x\\xc0y\\xc0z\\xc0{\\xc0|\\xc0}\\xc0~\\xc0\\x7f\\xc0\\x80\\xc0\\x81\\xc0\\x82\\xc0\\x83\\xc0\\x84\\xc0\\x85\\xc0\\x86\\xc0\\x87\\xc0\\x88\\xc0\\x89\\xc0\\x8a\\xc0\\x8b\\xc0\\x8c\\xc0\\x8d\\xc0\\x8e\\xc0\\x8f\\xc0\\x90\\xc0\\x91\\xc0\\x92\\xc0\\x93\\xc0\\x94\\xc0\\x95\\xc0\\x96\\xc0\\x97\\xc0\\x98\\xc0\\x99\\xc0\\x9a\\xc0\\x9b\\x02\\x00\\x01\\x00,\\x00\\n\\x00\\n\\x00\\x08\\x00\\x17\\x00\\x19\\x00\\x18\\x00\\x16\\x00\\x0b\\x00\\x04\\x03\\x00\\x01\\x02\\x00\\r\\x00\\x12\\x00\\x10\\x04\\x03\\x08\\x04\\x04\\x01\\x05\\x03\\x05\\x01']\n",
      "Bad pipe message: %s [b'\\xad\\x05\\xb1f\\xf1\\xcf\\xe2\\xadzo\\x88\\x9cTJ\\xa5\\xf1\\x03\\xc7\\x00\\x006\\xc0\\x01\\xc0\\x03\\xc0\\x04\\xc0\\x05\\xc0\\x06\\xc0\\x08\\xc0\\t\\xc0\\n\\xc0\\x0b\\xc0\\r\\xc0\\x0e\\xc0\\x0f\\xc0\\x10\\xc0\\x12\\xc0\\x13\\xc0\\x14\\xc0\\x15\\xc0\\x17\\xc0\\x18\\xc0\\x19\\xcc\\xa8\\xcc\\xa9\\xcc\\xaa\\xcc\\xab\\xcc\\xac\\xcc\\xad\\xcc\\xae\\x02\\x00\\x01\\x00,\\x00\\n\\x00\\n\\x00\\x08\\x00\\x17\\x00\\x19\\x00\\x18\\x00\\x16\\x00\\x0b\\x00\\x04\\x03\\x00\\x01\\x02\\x00\\r\\x00\\x12\\x00']\n",
      "Bad pipe message: %s [b'\\x03\\x08\\x04\\x04\\x01\\x05\\x03\\x05\\x01\\x08\\x05\\x08\\x06\\x06\\x01']\n",
      "Bad pipe message: %s [b'\\x93\\xd9\\xb0\\xf6=\\x9d\\xcao\\xc7\\x8f\\x02 \\r\\x8e\\x85\\x8f.\\xe9 \\xefP\\x95\\xdc\\xaev\\x14\\x1dz3#\\xb6}\\x14\\x0f\\x92\\xef\\x0c\\x1a\\xfc\\xb7\\xf8\\xb2z-\\xf2\\x98\\x93b\\xbc?\\xf2\\x00\\n\\x13\\x01\\x13\\x02\\x13\\x03\\x13\\x04\\x13\\x05\\x01\\x00\\x00\\x9e\\x00+\\x00\\x03\\x02\\x03\\x04\\x00\\n\\x00\\n\\x00\\x08\\xaa\\xaa\\x00\\x17\\x00\\x18\\x00\\x1d\\x00\\x00\\x00\\x10\\x00\\x0e\\x00\\x00\\x0bAMBUS140821\\x00\\r\\x00\\x12\\x00\\x10\\x04\\x03\\x08\\x04\\x04\\x01\\x05\\x03\\x08\\x05\\x05\\x01\\x08\\x06\\x06\\x01\\x00\\x17\\x00\\x00\\x00#\\x00\\x05\\x01\\x00\\x00\\x00\\x00\\x00\\x05\\x00\\x01\\x00\\x00\\x10\\x00', b'\\x0c\\x02h2\\x08http/1.1']\n",
      "Bad pipe message: %s [b'|\\x92\\xe9(\\xb2n*\\xcd\\xe6\\x9e\\x06\\x18\\xb7\\xedlj\\xd2\\xac\\x00\\x01|\\x00\\x00\\x00\\x01\\x00']\n",
      "Bad pipe message: %s [b'\\x03']\n",
      "Bad pipe message: %s [b'f\\x1f\\xe2&\\x03^\\x10y\\ny\\xa6\\xe8\\x16\\xfa\\xd3\\x98\\x94Z\\x00\\x01|\\x00\\x00\\x00\\x01\\x00\\x02\\x00\\x03\\x00\\x04\\x00\\x05\\x00\\x06\\x00\\x07\\x00\\x08\\x00\\t\\x00\\n\\x00\\x0b\\x00\\x0c\\x00\\r\\x00\\x0e\\x00\\x0f\\x00\\x10\\x00\\x11\\x00\\x12\\x00\\x13\\x00\\x14\\x00\\x15\\x00\\x16\\x00\\x17\\x00\\x18\\x00\\x19\\x00\\x1a\\x00\\x1b\\x00/\\x000\\x001\\x002\\x003\\x004\\x005\\x006\\x007\\x008\\x009\\x00:\\x00;\\x00<\\x00=\\x00>\\x00?\\x00@\\x00A\\x00B\\x00C\\x00D\\x00E\\x00F\\x00g\\x00h\\x00i\\x00j\\x00k']\n",
      "Bad pipe message: %s [b'\\xfc2AS\\xaa\\x0bmU;\\\\wy\\xe9t\\xc90J\\x9a\\x00\\x01|\\x00\\x00\\x00\\x01\\x00\\x02\\x00\\x03\\x00\\x04\\x00\\x05\\x00\\x06\\x00\\x07\\x00\\x08\\x00\\t\\x00\\n\\x00\\x0b\\x00\\x0c\\x00\\r\\x00\\x0e\\x00\\x0f\\x00\\x10\\x00\\x11']\n",
      "Bad pipe message: %s [b'}\\x8f\\xc4K\\xdd\\xba<\\x99Y\\n\\xb7o8:\\x87U\\x93#\\x00\\x00*\\x00', b'\\x06\\x00']\n",
      "Bad pipe message: %s [b'\\x08\\x00\\t\\x00\\x0b\\x00']\n",
      "Bad pipe message: %s [b'\\x0e\\x00\\x0f\\x00\\x11\\x00\\x12\\x00\\x14\\x00\\x15']\n",
      "Bad pipe message: %s [b'\\xb3\\xe4>\\xaaa\\xe7']\n",
      "Bad pipe message: %s [b'\\xe8Fe\\x1a\\\\T\\x9e\\xc2\\r\\x19\\xfe\\x80\\xaf`j\\xe8\\xa6\\x8f\\x00\\x000\\x00A\\x00B\\x00C\\x00D\\x00E\\x00F\\x00\\x84\\x00\\x85\\x00\\x86\\x00\\x87\\x00\\x88\\x00']\n",
      "Bad pipe message: %s [b'\\xb8\\xdb?Qa\\xa1\\n-7K\\xe8\\xb9,\\x14\\xbd%$\\xd7\\x00\\x00T\\xc0r\\xc0s\\xc0t\\xc0u\\xc0v\\xc0w\\xc0x\\xc0y\\xc0z\\xc0{\\xc0|\\xc0}\\xc0~\\xc0\\x7f\\xc0']\n",
      "Bad pipe message: %s [b'\\t\\xea:\\xef\\xa4R\\x1a\\x1f\\x96\\xca\\xdexD\\xce\\xac\\xf3h\\xe1\\x00\\x00*\\x00\\x03\\x00\\x06\\x00\\x07\\x00\\x08\\x00\\t\\x00\\x0b\\x00\\x0c\\x00\\x0e\\x00\\x0f\\x00\\x11\\x00\\x12\\x00\\x14\\x00\\x15\\x00\\x17\\x00\\x19\\x00\\x1a\\xc0\\x02\\xc0\\x07\\xc0\\x0c\\xc0\\x11\\xc0\\x16\\x02\\x00\\x01\\x00,\\x00\\n\\x00\\n\\x00\\x08\\x00\\x17\\x00\\x19\\x00\\x18\\x00\\x16\\x00\\x0b\\x00\\x04\\x03\\x00\\x01\\x02\\x00\\r\\x00\\x12\\x00\\x10\\x04\\x03\\x08\\x04\\x04\\x01\\x05']\n",
      "Bad pipe message: %s [b\"\\xd9\\xd5E\\xc9iq\\t\\xfaF(\\n\\x9c\\x17\\x8fY\\xf3\\x10f\\x00\\x00D\\x00\\x96\\x00\\x97\\x00\\x98\\x00\\x99\\x00\\x9a\\x00\\x9b\\x00\\x9c\\x00\\x9d\\x00\\x9e\\x00\\x9f\\x00\\xa0\\x00\\xa1\\x00\\xa2\\x00\\xa3\\x00\\xa4\\x00\\xa5\\x00\\xa6\\x00\\xa7\\xc0#\\xc0$\\xc0%\\xc0&\\xc0'\\xc0(\\xc0)\\xc0*\\xc0+\\xc0,\\xc0-\\xc0\"]\n",
      "Bad pipe message: %s [b'/\\xc00\\xc01\\xc02\\x02\\x00\\x01\\x00,\\x00\\n\\x00\\n\\x00\\x08\\x00\\x17\\x00\\x19\\x00\\x18\\x00\\x16\\x00\\x0b\\x00\\x04\\x03\\x00\\x01\\x02\\x00\\r\\x00\\x12\\x00\\x10\\x04\\x03\\x08\\x04\\x04']\n",
      "Bad pipe message: %s [b'\\x1f\\xe7\\x9d\\xd5\\xffS\\xceu\\xc2r\\xcc']\n",
      "Bad pipe message: %s [b'\\xd1\\x1b\\x9d\\xfbF\\x00\\x006\\xc0\\x01\\xc0\\x03\\xc0\\x04\\xc0\\x05\\xc0\\x06\\xc0\\x08']\n",
      "Bad pipe message: %s [b'a/\\nX\\x93\\xeb1\\xbda*\\xeeyR\\xc7\\xf8\\xc5\\x8e\\xa9\\x00\\x000\\x00A\\x00B\\x00C\\x00D\\x00E\\x00F\\x00\\x84\\x00\\x85\\x00\\x86\\x00\\x87\\x00\\x88\\x00\\x89\\x00\\xba\\x00\\xbb\\x00\\xbc\\x00\\xbd\\x00\\xbe\\x00\\xbf\\x00\\xc0\\x00']\n",
      "Bad pipe message: %s [b'\\x83\\x98\\xa3\\xa9\\xfb\\x18Cd\\xf7E/\\xef\\xbalM\\xe7E']\n",
      "Bad pipe message: %s [b'\\x00*\\x00\\x03\\x00\\x06\\x00\\x07\\x00\\x08\\x00\\t\\x00\\x0b\\x00\\x0c\\x00\\x0e\\x00\\x0f\\x00\\x11\\x00\\x12\\x00\\x14\\x00\\x15\\x00\\x17\\x00\\x19\\x00\\x1a\\xc0\\x02\\xc0\\x07\\xc0\\x0c\\xc0\\x11\\xc0\\x16\\x02\\x00\\x01\\x00,\\x00\\n\\x00\\n\\x00\\x08\\x00\\x17\\x00\\x19\\x00\\x18\\x00\\x16\\x00\\x0b\\x00\\x04']\n",
      "Bad pipe message: %s [b'\\x01\\x02']\n",
      "Bad pipe message: %s [b'\\x19\\xed\\xa5C\\x061\\xbaPW\\xc7p\\xaeV\\x7f\\xd6\\xd8\\xbf= \\xc6\\xf3Gb\\xa9Z\\x91\\x0c9\\xe5L\\xa01\\x1bv,=\\x00\\xf2B\\x0be\\x93\\x1fm\\r\\xfa\\x99\\x16\\x95\\xa0\\xc6\\x00\\n\\x13\\x01\\x13\\x02\\x13\\x03\\x13\\x04\\x13\\x05\\x01\\x00\\x00\\x9e\\x00+\\x00\\x03\\x02\\x03\\x04\\x00', b'\\n\\x00\\x08\\xaa\\xaa\\x00\\x17\\x00\\x18']\n",
      "Bad pipe message: %s [b'\\xc5@\\xc5\\x91\\x19\\x12F\\xaf,\\xf6p{\\xb8\\xb0\\x14ui^\\x00\\x01|\\x00\\x00\\x00\\x01\\x00\\x02\\x00\\x03\\x00\\x04\\x00\\x05\\x00\\x06\\x00\\x07\\x00\\x08\\x00\\t\\x00\\n\\x00\\x0b\\x00\\x0c\\x00\\r\\x00\\x0e\\x00\\x0f\\x00\\x10\\x00\\x11\\x00\\x12\\x00\\x13\\x00\\x14\\x00\\x15\\x00\\x16\\x00\\x17\\x00\\x18\\x00\\x19\\x00\\x1a\\x00\\x1b\\x00/\\x000\\x001\\x002\\x003\\x004\\x005\\x006\\x007\\x008\\x009\\x00:\\x00;\\x00<\\x00=\\x00>\\x00?\\x00@\\x00A\\x00B\\x00C\\x00D\\x00E\\x00F\\x00g\\x00h\\x00i\\x00j\\x00k\\x00l\\x00m\\x00\\x84\\x00\\x85\\x00\\x86\\x00\\x87\\x00\\x88\\x00\\x89\\x00\\x96\\x00\\x97\\x00\\x98\\x00\\x99\\x00\\x9a\\x00\\x9b\\x00\\x9c\\x00\\x9d\\x00\\x9e\\x00\\x9f\\x00\\xa0\\x00\\xa1\\x00\\xa2\\x00\\xa3\\x00\\xa4\\x00\\xa5\\x00\\xa6\\x00\\xa7\\x00\\xba\\x00\\xbb\\x00\\xbc\\x00\\xbd\\x00\\xbe\\x00\\xbf\\x00\\xc0\\x00\\xc1\\x00\\xc2\\x00\\xc3\\x00\\xc4\\x00\\xc5\\x13\\x01\\x13\\x02\\x13\\x03\\x13\\x04\\x13\\x05\\xc0']\n",
      "Bad pipe message: %s [b'']\n",
      "Bad pipe message: %s [b'q\\xe5\\xf5\\xab\\x1b\\xf6\\xf2t=\\xdd?A\\tD\\x97\\x19!\\xfb\\x00\\x01|\\x00\\x00\\x00\\x01\\x00\\x02\\x00\\x03\\x00\\x04\\x00\\x05\\x00\\x06\\x00\\x07\\x00\\x08\\x00\\t\\x00\\n\\x00\\x0b\\x00\\x0c\\x00\\r\\x00\\x0e\\x00\\x0f\\x00\\x10\\x00\\x11\\x00\\x12\\x00\\x13\\x00\\x14\\x00\\x15\\x00\\x16\\x00\\x17\\x00\\x18\\x00\\x19\\x00\\x1a\\x00\\x1b\\x00/\\x000\\x001\\x002\\x003\\x004\\x005\\x006\\x007\\x008\\x009\\x00:\\x00;\\x00<\\x00=\\x00>\\x00?\\x00@\\x00A\\x00B\\x00C']\n",
      "Bad pipe message: %s [b'\\x03']\n",
      "Bad pipe message: %s [b\"\\xc0\\x05\\xc0\\x06\\xc0\\x07\\xc0\\x08\\xc0\\t\\xc0\\n\\xc0\\x0b\\xc0\\x0c\\xc0\\r\\xc0\\x0e\\xc0\\x0f\\xc0\\x10\\xc0\\x11\\xc0\\x12\\xc0\\x13\\xc0\\x14\\xc0\\x15\\xc0\\x16\\xc0\\x17\\xc0\\x18\\xc0\\x19\\xc0#\\xc0$\\xc0%\\xc0&\\xc0'\\xc0(\\xc0)\\xc0*\\xc0+\\xc0,\\xc0-\\xc0.\\xc0/\\xc00\\xc01\\xc02\\xc0r\\xc0s\\xc0t\\xc0u\\xc0v\\xc0w\\xc0x\\xc0y\\xc0z\\xc0{\\xc0|\\xc0}\\xc0~\\xc0\\x7f\\xc0\\x80\\xc0\\x81\\xc0\\x82\\xc0\\x83\\xc0\\x84\\xc0\\x85\\xc0\\x86\\xc0\\x87\\xc0\\x88\\xc0\\x89\\xc0\\x8a\\xc0\\x8b\\xc0\\x8c\\xc0\\x8d\\xc0\\x8e\\xc0\\x8f\\xc0\\x90\\xc0\\x91\\xc0\\x92\\xc0\\x93\\xc0\\x94\\xc0\\x95\\xc0\\x96\\xc0\\x97\\xc0\\x98\\xc0\\x99\\xc0\\x9a\\xc0\\x9b\\xcc\\xa8\\xcc\\xa9\\xcc\\xaa\\xcc\\xab\\xcc\\xac\\xcc\\xad\\xcc\\xae\\x02\\x00\\x01\\x00,\\x00\\n\\x00\\n\\x00\\x08\\x00\\x17\\x00\\x19\\x00\\x18\\x00\\x16\"]\n",
      "Bad pipe message: %s [b'\\x83\\x06\\xeb\\xa7`\\xebKOF\\x0f\\x8f\\xb6\\xa1G\\xb61\\xee\\xb8\\x00\\x01|\\x00\\x00\\x00\\x01\\x00\\x02\\x00\\x03\\x00\\x04\\x00\\x05\\x00\\x06\\x00\\x07\\x00\\x08\\x00\\t\\x00\\n\\x00\\x0b\\x00\\x0c\\x00\\r\\x00\\x0e\\x00\\x0f\\x00\\x10\\x00\\x11\\x00\\x12\\x00\\x13\\x00\\x14\\x00\\x15\\x00\\x16\\x00\\x17\\x00\\x18\\x00\\x19\\x00\\x1a\\x00\\x1b\\x00/\\x000\\x001\\x002\\x003\\x004\\x005\\x006\\x007\\x008\\x009\\x00:\\x00;\\x00<\\x00=\\x00>\\x00?\\x00@\\x00A\\x00B\\x00C\\x00D\\x00E\\x00', b'g\\x00h\\x00i\\x00j\\x00k\\x00l\\x00m\\x00\\x84\\x00\\x85\\x00\\x86\\x00\\x87\\x00\\x88\\x00\\x89\\x00\\x96\\x00\\x97\\x00\\x98\\x00\\x99\\x00\\x9a\\x00\\x9b\\x00\\x9c\\x00\\x9d\\x00\\x9e\\x00\\x9f\\x00\\xa0\\x00\\xa1\\x00\\xa2\\x00\\xa3\\x00\\xa4\\x00\\xa5\\x00\\xa6\\x00\\xa7\\x00\\xba\\x00\\xbb\\x00\\xbc\\x00\\xbd']\n",
      "Bad pipe message: %s [b':\\x07\\xbf\\xfa\\xd7>\\xacD\\xd0Li\\xe2\\x9d\\x03\\xad\\x0c^\\xaa\\x00\\x00*\\x00\\x03\\x00\\x06\\x00\\x07\\x00\\x08\\x00\\t\\x00\\x0b\\x00\\x0c\\x00\\x0e\\x00\\x0f\\x00\\x11\\x00\\x12']\n",
      "Bad pipe message: %s [b'\\xda\\xf6C\\\\=6\\x14\\xef\\xefw@j\\nS\\x13\\xef4\\xf5\\x00\\x006\\xc0\\x01\\xc0\\x03\\xc0\\x04\\xc0\\x05\\xc0\\x06\\xc0\\x08\\xc0\\t\\xc0\\n\\xc0\\x0b\\xc0\\r\\xc0\\x0e\\xc0\\x0f\\xc0\\x10\\xc0\\x12\\xc0\\x13\\xc0\\x14\\xc0']\n",
      "Bad pipe message: %s [b'\\x17\\xc0\\x18\\xc0\\x19\\xcc\\xa8\\xcc\\xa9\\xcc\\xaa\\xcc\\xab\\xcc\\xac\\xcc\\xad\\xcc\\xae\\x02']\n",
      "Bad pipe message: %s [b'\\x17\\x84o\\xe44\\xb3(\\xc3\\x19p\\xa2\\x1a\\xdc\\x17@\\xd8m\\x97\\x00\\x006\\xc0\\x01\\xc0\\x03\\xc0\\x04\\xc0\\x05\\xc0\\x06\\xc0\\x08\\xc0\\t\\xc0\\n\\xc0\\x0b\\xc0\\r\\xc0\\x0e\\xc0\\x0f\\xc0\\x10\\xc0\\x12\\xc0\\x13\\xc0\\x14\\xc0\\x15\\xc0\\x17\\xc0\\x18\\xc0\\x19\\xcc\\xa8\\xcc\\xa9\\xcc\\xaa\\xcc\\xab\\xcc\\xac\\xcc\\xad\\xcc\\xae\\x02\\x00\\x01\\x00,\\x00\\n\\x00\\n\\x00\\x08\\x00\\x17\\x00\\x19\\x00\\x18\\x00\\x16\\x00\\x0b\\x00\\x04\\x03\\x00\\x01\\x02\\x00\\r\\x00\\x12\\x00\\x10\\x04\\x03\\x08', b'\\x01\\x05\\x03']\n",
      "Bad pipe message: %s [b'\\xff\\xa8Ds\\xb7#\\xb7\\x11<@\\x88\\xe2\\xfd)\\xd9\\xed\\x0eb\\x00\\x006\\xc0\\x01\\xc0\\x03\\xc0\\x04\\xc0\\x05\\xc0\\x06\\xc0\\x08\\xc0\\t\\xc0\\n\\xc0\\x0b\\xc0\\r\\xc0\\x0e\\xc0\\x0f\\xc0\\x10\\xc0\\x12\\xc0\\x13\\xc0\\x14\\xc0\\x15\\xc0\\x17\\xc0\\x18\\xc0\\x19\\xcc\\xa8\\xcc\\xa9\\xcc\\xaa\\xcc\\xab\\xcc\\xac\\xcc\\xad\\xcc\\xae\\x02\\x00\\x01\\x00,\\x00\\n\\x00\\n\\x00\\x08\\x00\\x17\\x00\\x19\\x00\\x18\\x00\\x16\\x00\\x0b\\x00\\x04\\x03\\x00\\x01']\n",
      "Bad pipe message: %s [b'\\r']\n",
      "Bad pipe message: %s [b'\\x82\\x00\\xfe~\\xdb@w\\xbb\\x01oLM&Q\\x7f\\xbfn=\\x00\\x01|\\x00\\x00\\x00\\x01\\x00\\x02\\x00\\x03\\x00\\x04\\x00\\x05\\x00\\x06\\x00\\x07\\x00\\x08\\x00\\t\\x00\\n\\x00\\x0b\\x00\\x0c\\x00\\r\\x00\\x0e\\x00\\x0f\\x00\\x10\\x00\\x11\\x00\\x12\\x00\\x13\\x00\\x14\\x00\\x15\\x00\\x16\\x00\\x17\\x00\\x18\\x00\\x19\\x00\\x1a\\x00\\x1b\\x00/\\x000\\x001\\x002\\x003\\x004\\x005\\x006\\x007\\x008\\x009\\x00:\\x00', b'<\\x00=\\x00>\\x00?\\x00@\\x00A\\x00B\\x00C\\x00D\\x00E\\x00F\\x00g\\x00h\\x00i\\x00j\\x00k\\x00l\\x00m\\x00\\x84\\x00\\x85\\x00\\x86\\x00\\x87\\x00\\x88\\x00\\x89\\x00\\x96\\x00\\x97\\x00\\x98\\x00\\x99\\x00\\x9a\\x00']\n",
      "Bad pipe message: %s [b\"\\x9c\\x00\\x9d\\x00\\x9e\\x00\\x9f\\x00\\xa0\\x00\\xa1\\x00\\xa2\\x00\\xa3\\x00\\xa4\\x00\\xa5\\x00\\xa6\\x00\\xa7\\x00\\xba\\x00\\xbb\\x00\\xbc\\x00\\xbd\\x00\\xbe\\x00\\xbf\\x00\\xc0\\x00\\xc1\\x00\\xc2\\x00\\xc3\\x00\\xc4\\x00\\xc5\\x13\\x01\\x13\\x02\\x13\\x03\\x13\\x04\\x13\\x05\\xc0\\x01\\xc0\\x02\\xc0\\x03\\xc0\\x04\\xc0\\x05\\xc0\\x06\\xc0\\x07\\xc0\\x08\\xc0\\t\\xc0\\n\\xc0\\x0b\\xc0\\x0c\\xc0\\r\\xc0\\x0e\\xc0\\x0f\\xc0\\x10\\xc0\\x11\\xc0\\x12\\xc0\\x13\\xc0\\x14\\xc0\\x15\\xc0\\x16\\xc0\\x17\\xc0\\x18\\xc0\\x19\\xc0#\\xc0$\\xc0%\\xc0&\\xc0'\\xc0(\\xc0)\\xc0*\\xc0+\\xc0,\\xc0-\\xc0.\\xc0/\\xc00\\xc01\\xc02\\xc0r\\xc0s\\xc0t\\xc0u\\xc0v\\xc0w\\xc0x\\xc0\"]\n",
      "Bad pipe message: %s [b'z\\xc0{\\xc0|\\xc0}\\xc0~\\xc0\\x7f\\xc0\\x80\\xc0\\x81\\xc0\\x82\\xc0\\x83\\xc0\\x84\\xc0\\x85\\xc0\\x86\\xc0\\x87\\xc0\\x88\\xc0\\x89\\xc0\\x8a\\xc0\\x8b\\xc0\\x8c\\xc0\\x8d\\xc0\\x8e\\xc0\\x8f\\xc0\\x90\\xc0\\x91\\xc0\\x92\\xc0\\x93\\xc0\\x94\\xc0\\x95\\xc0\\x96\\xc0\\x97\\xc0\\x98\\xc0\\x99\\xc0\\x9a\\xc0\\x9b\\xcc\\xa8\\xcc\\xa9\\xcc\\xaa\\xcc\\xab\\xcc\\xac\\xcc\\xad\\xcc\\xae\\x02\\x00\\x01\\x00,\\x00\\n\\x00\\n\\x00\\x08\\x00\\x17\\x00\\x19\\x00\\x18\\x00\\x16\\x00\\x0b\\x00\\x04\\x03\\x00\\x01\\x02\\x00\\r\\x00\\x12\\x00\\x10\\x04\\x03\\x08\\x04\\x04\\x01']\n",
      "Bad pipe message: %s [b'`%>\\xc3\\xb5njQ{\\x8dv\\x9e\\xd56~u\\xc1\\x1a\\x00\\x01|\\x00\\x00\\x00\\x01\\x00\\x02\\x00\\x03\\x00\\x04\\x00\\x05\\x00\\x06\\x00\\x07\\x00\\x08\\x00\\t\\x00\\n\\x00\\x0b\\x00\\x0c\\x00\\r\\x00\\x0e\\x00\\x0f\\x00\\x10\\x00\\x11\\x00\\x12\\x00\\x13\\x00\\x14\\x00\\x15\\x00\\x16\\x00\\x17\\x00\\x18\\x00\\x19']\n",
      "Bad pipe message: %s [b'72\\r\\x1ac\\xfc\\xed\\x7f\\x19\\xe8z\\x10\\x0c7\\xe8T\\x0b\\x9b\\x00\\x01|\\x00\\x00\\x00\\x01\\x00\\x02\\x00\\x03\\x00\\x04\\x00\\x05\\x00\\x06\\x00\\x07\\x00\\x08\\x00\\t\\x00\\n\\x00\\x0b\\x00\\x0c\\x00\\r\\x00\\x0e\\x00\\x0f\\x00\\x10\\x00\\x11\\x00\\x12\\x00\\x13\\x00', b'\\x15\\x00\\x16\\x00\\x17\\x00\\x18\\x00\\x19\\x00\\x1a\\x00\\x1b\\x00/\\x000\\x001']\n",
      "Bad pipe message: %s [b'\\xc0\\x92k\\xb9\\xc9%IZ\\xc2\\xab<\\x9d\\x13\\x85\\x13\\xd8!O\\x00\\x00D\\x00\\x96\\x00']\n",
      "Bad pipe message: %s [b'\\x84\\x07\\xe9\\x04Y\\xee\\x8a\\r\\xda\\xd4T\\xba\\r\\xf2\\xdfZ']\n",
      "Bad pipe message: %s [b'\\xf7N\\x1c.\\xd77\\xa3\\x02`\\xbb\\x83\\x89\\xfd\\xb18\\xa5\\x11\\x0c']\n",
      "Bad pipe message: %s [b'}L\\xdb\\xf1b\\xd7\\x80r\\xe1 \\xce\\x81\\xfd\\xe9\\xad\\x8d (\\x00\\x00*\\x00\\x03\\x00\\x06\\x00\\x07\\x00\\x08\\x00\\t\\x00\\x0b\\x00\\x0c\\x00\\x0e\\x00\\x0f\\x00\\x11\\x00\\x12\\x00\\x14\\x00\\x15\\x00\\x17\\x00\\x19\\x00\\x1a\\xc0\\x02\\xc0\\x07\\xc0\\x0c\\xc0\\x11\\xc0\\x16\\x02\\x00\\x01\\x00,\\x00\\n\\x00\\n\\x00\\x08\\x00\\x17\\x00\\x19\\x00\\x18\\x00\\x16\\x00\\x0b\\x00\\x04\\x03\\x00\\x01\\x02\\x00\\r\\x00\\x12\\x00\\x10\\x04\\x03\\x08\\x04\\x04\\x01\\x05\\x03\\x05\\x01\\x08\\x05\\x08']\n",
      "Bad pipe message: %s [b'\\xe3\\xb8:+\\x11a\\xf3Z\\xe1\\xeb8M\\xa89\\xdbd\\xadc\\x00\\x00T\\xc0r\\xc0s\\xc0t\\xc0u\\xc0v\\xc0w\\xc0x\\xc0y\\xc0z\\xc0{\\xc0|\\xc0}\\xc0~\\xc0\\x7f\\xc0\\x80\\xc0\\x81\\xc0\\x82\\xc0\\x83\\xc0\\x84\\xc0\\x85\\xc0\\x86\\xc0\\x87\\xc0\\x88']\n",
      "Bad pipe message: %s [b'\\x02\\xc8l\\xa2\\xf7g3*z\\x01\\xdbn\\xecY\\x87l\\xbeD\\x00\\x00*\\x00\\x03\\x00\\x06\\x00\\x07\\x00\\x08\\x00\\t\\x00\\x0b\\x00\\x0c\\x00\\x0e\\x00\\x0f\\x00\\x11\\x00\\x12\\x00\\x14\\x00\\x15\\x00\\x17\\x00\\x19\\x00']\n",
      "Bad pipe message: %s [b'\\x02\\xc0\\x07\\xc0\\x0c\\xc0\\x11\\xc0\\x16\\x02\\x00\\x01\\x00,\\x00\\n\\x00\\n\\x00\\x08\\x00\\x17\\x00\\x19\\x00']\n",
      "Bad pipe message: %s [b'\\x16\\x00\\x0b\\x00\\x04\\x03\\x00\\x01\\x02\\x00\\r\\x00\\x12\\x00\\x10\\x04\\x03\\x08\\x04\\x04\\x01\\x05\\x03']\n",
      "Bad pipe message: %s [b'\\xe5\\xda\\xcdf\\x87\\xdaY\\xedMkEU\\x9e\\xcd\\xf0s!\\x13\\x00\\x000\\x00A\\x00B\\x00C\\x00D\\x00E\\x00']\n",
      "Bad pipe message: %s [b\"\\xa2\\xc5\\x9c?\\xd5mH\\xb7'.\\x83:{\\xda\\x84\\xfaR\\xe6\\x00\\x00D\\x00\\x96\\x00\\x97\\x00\\x98\\x00\\x99\\x00\\x9a\\x00\\x9b\\x00\\x9c\\x00\\x9d\\x00\\x9e\\x00\\x9f\\x00\\xa0\\x00\\xa1\\x00\\xa2\\x00\\xa3\\x00\\xa4\\x00\\xa5\\x00\\xa6\\x00\\xa7\"]\n",
      "Bad pipe message: %s [b'\\x05\\xfa\\xb6\\r\\xc6\\xfd\\x16\\x0ep\\x84\\xe3~~uo\\xc6\\xe5\\xb7\\x00\\x01|\\x00\\x00\\x00\\x01\\x00\\x02\\x00\\x03\\x00\\x04\\x00\\x05\\x00\\x06\\x00\\x07\\x00\\x08\\x00\\t\\x00\\n\\x00\\x0b\\x00\\x0c\\x00\\r\\x00\\x0e\\x00\\x0f\\x00\\x10\\x00\\x11\\x00\\x12\\x00\\x13\\x00\\x14\\x00\\x15\\x00\\x16\\x00\\x17\\x00\\x18\\x00\\x19\\x00\\x1a\\x00\\x1b\\x00/\\x000\\x001\\x002\\x003\\x004\\x005\\x006\\x007\\x008\\x009\\x00:\\x00;\\x00<\\x00=\\x00>\\x00?\\x00@\\x00A\\x00B\\x00C\\x00D\\x00E\\x00F\\x00g\\x00h\\x00i\\x00j\\x00k\\x00l\\x00m\\x00\\x84\\x00\\x85\\x00\\x86\\x00\\x87\\x00\\x88\\x00\\x89\\x00\\x96\\x00\\x97\\x00\\x98\\x00\\x99\\x00\\x9a\\x00\\x9b\\x00\\x9c\\x00\\x9d\\x00\\x9e\\x00\\x9f\\x00\\xa0\\x00\\xa1\\x00\\xa2\\x00\\xa3\\x00\\xa4\\x00\\xa5\\x00\\xa6\\x00\\xa7\\x00\\xba\\x00\\xbb\\x00\\xbc\\x00\\xbd\\x00\\xbe\\x00\\xbf\\x00\\xc0\\x00\\xc1\\x00\\xc2\\x00\\xc3\\x00\\xc4\\x00\\xc5\\x13\\x01\\x13\\x02\\x13\\x03\\x13\\x04\\x13\\x05']\n",
      "Bad pipe message: %s [b'\\xc6k`/D\\xe9\\xf5\\xa7\\r\\xdf\\xb88\\x06\\xee<\\x83\\xd3\\x11\\x00\\x01|\\x00\\x00\\x00\\x01\\x00\\x02\\x00\\x03\\x00\\x04\\x00\\x05\\x00\\x06\\x00\\x07\\x00\\x08\\x00\\t\\x00\\n\\x00\\x0b\\x00\\x0c\\x00\\r\\x00']\n",
      "Bad pipe message: %s [b'\\x0f\\x00\\x10\\x00\\x11\\x00\\x12\\x00\\x13\\x00\\x14\\x00\\x15']\n",
      "Bad pipe message: %s [b'qS]2Y\\xe6\\xfd\\x05\\xdbJ\\xfb\\x02\\x041\\x83w\\x7f\\xd5\\x00\\x01|\\x00\\x00\\x00\\x01\\x00\\x02\\x00\\x03\\x00\\x04\\x00\\x05\\x00\\x06\\x00\\x07\\x00\\x08\\x00\\t\\x00\\n\\x00\\x0b\\x00\\x0c\\x00\\r\\x00\\x0e\\x00\\x0f\\x00\\x10\\x00\\x11\\x00\\x12\\x00\\x13\\x00\\x14\\x00\\x15\\x00\\x16\\x00\\x17\\x00\\x18\\x00\\x19\\x00\\x1a\\x00\\x1b\\x00/\\x000\\x001\\x002\\x003\\x004\\x005\\x006\\x007\\x008\\x009\\x00:\\x00;\\x00<\\x00=\\x00>\\x00?\\x00@\\x00A\\x00B\\x00C\\x00D\\x00E\\x00F\\x00g\\x00h\\x00i\\x00j\\x00k\\x00l\\x00m\\x00\\x84\\x00\\x85\\x00\\x86\\x00\\x87\\x00\\x88\\x00\\x89\\x00\\x96\\x00\\x97\\x00\\x98\\x00\\x99\\x00\\x9a\\x00\\x9b\\x00\\x9c\\x00\\x9d\\x00\\x9e\\x00\\x9f\\x00\\xa0\\x00\\xa1\\x00\\xa2\\x00\\xa3\\x00\\xa4\\x00\\xa5\\x00\\xa6\\x00\\xa7\\x00\\xba\\x00\\xbb\\x00\\xbc\\x00\\xbd\\x00\\xbe\\x00\\xbf\\x00\\xc0\\x00\\xc1\\x00\\xc2\\x00\\xc3\\x00\\xc4\\x00\\xc5\\x13\\x01\\x13\\x02\\x13\\x03\\x13\\x04\\x13\\x05\\xc0\\x01\\xc0\\x02\\xc0\\x03\\xc0\\x04\\xc0\\x05\\xc0\\x06\\xc0\\x07\\xc0\\x08']\n",
      "Bad pipe message: %s [b'xi\\xc0\\xdd\\xf7v\\xf4\\x07\\xd7\\xb9$DU>E\\x9d\\x94k\\x00\\x00T\\xc0r\\xc0s\\xc0t\\xc0u\\xc0v\\xc0w\\xc0x']\n",
      "Bad pipe message: %s [b'\\xdd\\xb6h9\\xbcx\\xda`\\xfc\\xfd6\\xa7\\xc8\\xed\\x12\\x15{\\xaa\\x00\\x006\\xc0\\x01\\xc0\\x03\\xc0\\x04\\xc0\\x05\\xc0\\x06\\xc0\\x08\\xc0\\t']\n",
      "Bad pipe message: %s [b'\\xbb\\xb84\\x07\\xea+\\xeaqN\\xd1\\xca]\\x86\\xebX\\xb8\\xa7\\xb3\\x00\\x00D\\x00\\x96\\x00\\x97\\x00\\x98\\x00\\x99\\x00\\x9a\\x00\\x9b\\x00\\x9c\\x00\\x9d\\x00\\x9e\\x00\\x9f\\x00\\xa0\\x00\\xa1\\x00\\xa2\\x00\\xa3\\x00\\xa4\\x00\\xa5\\x00\\xa6']\n",
      "Bad pipe message: %s [b'G\\x0c\"\\xe3B\\x0bW\\xff\\x92\\x7f\\x05\\xf2\\xc7\\x15\\xc9P\\xed\\x96\\x00\\x00T\\xc0r\\xc0s\\xc0t\\xc0u\\xc0v\\xc0w\\xc0x\\xc0y\\xc0z\\xc0{\\xc0|\\xc0}\\xc0~\\xc0\\x7f\\xc0\\x80\\xc0\\x81\\xc0\\x82\\xc0\\x83\\xc0\\x84\\xc0\\x85\\xc0\\x86\\xc0\\x87\\xc0\\x88\\xc0\\x89\\xc0\\x8a\\xc0\\x8b\\xc0\\x8c\\xc0\\x8d\\xc0\\x8e\\xc0\\x8f\\xc0\\x90\\xc0\\x91\\xc0\\x92\\xc0\\x93\\xc0\\x94\\xc0\\x95\\xc0\\x96\\xc0\\x97\\xc0\\x98\\xc0\\x99\\xc0\\x9a\\xc0\\x9b\\x02\\x00\\x01\\x00,\\x00\\n\\x00\\n\\x00\\x08\\x00\\x17\\x00\\x19\\x00\\x18\\x00\\x16\\x00']\n",
      "Bad pipe message: %s [b'\\x04\\x03\\x00\\x01\\x02\\x00\\r\\x00\\x12\\x00']\n",
      "Bad pipe message: %s [b'\\x03\\x08\\x04\\x04\\x01\\x05\\x03\\x05\\x01\\x08\\x05\\x08\\x06\\x06\\x01']\n",
      "Bad pipe message: %s [b'\\xed\\xcf{(T\\xbf\\x1an74\\x10 \\xecQ\\xc7\\xe0\\xf4U\\x00\\x006\\xc0\\x01\\xc0\\x03\\xc0\\x04\\xc0\\x05\\xc0\\x06\\xc0\\x08\\xc0\\t\\xc0\\n\\xc0\\x0b\\xc0\\r\\xc0\\x0e\\xc0\\x0f\\xc0\\x10\\xc0\\x12\\xc0\\x13\\xc0\\x14\\xc0\\x15\\xc0\\x17\\xc0\\x18\\xc0', b'\\xa8\\xcc\\xa9\\xcc\\xaa\\xcc\\xab\\xcc\\xac\\xcc\\xad\\xcc\\xae\\x02\\x00\\x01\\x00,\\x00\\n\\x00\\n\\x00\\x08']\n",
      "Bad pipe message: %s [b'\\x1e\\xa7\\xa7`_\\x817\\xfb\\x84_\\xac,+^\\x15\\xf1\\xe7! =\\x9ep\\x91\\x0f+\\x17k\\x94\\xe2\\x1cL3\\x83,\\xd4\\xb3V\\x13\\x8d\\xbe\\x90o1\\xdczu\\xd7\\xd2\\xdf\\xf6]\\x00\\n\\x13\\x01\\x13\\x02\\x13\\x03\\x13\\x04\\x13\\x05\\x01\\x00\\x00\\x9e\\x00+\\x00\\x03\\x02\\x03\\x04\\x00\\n\\x00\\n\\x00\\x08\\xaa\\xaa\\x00\\x17\\x00\\x18\\x00\\x1d\\x00\\x00\\x00\\x10\\x00\\x0e\\x00\\x00\\x0bAMBUS140821\\x00\\r\\x00\\x12\\x00\\x10\\x04\\x03\\x08\\x04\\x04\\x01\\x05\\x03\\x08\\x05\\x05\\x01\\x08\\x06\\x06\\x01\\x00\\x17\\x00\\x00\\x00#\\x00\\x05\\x01\\x00\\x00\\x00\\x00\\x00\\x05\\x00\\x01\\x00\\x00\\x10\\x00\\x0e\\x00\\x0c\\x02h2\\x08http/1.1\\x00-\\x00\\x02\\x01\\x01\\x00\\x1b\\x00\\x03\\x01\\x00\\x02\\x00\\x12']\n",
      "Bad pipe message: %s [b'\\xd0\\xe6\\x80\\\\3\\xc4\\x8d\\xf7\\xbbw\\xc5\\xa5}\\x01iu\\x99\\xb4\\x00\\x01|\\x00\\x00\\x00\\x01\\x00\\x02\\x00\\x03\\x00\\x04\\x00\\x05\\x00\\x06\\x00\\x07\\x00\\x08\\x00\\t\\x00\\n\\x00\\x0b\\x00\\x0c\\x00\\r\\x00\\x0e\\x00\\x0f\\x00\\x10\\x00\\x11\\x00\\x12\\x00\\x13\\x00\\x14\\x00\\x15\\x00\\x16\\x00\\x17\\x00\\x18\\x00\\x19\\x00\\x1a\\x00\\x1b\\x00/\\x000\\x001\\x002\\x003\\x004\\x005\\x006\\x007\\x008\\x009\\x00:\\x00;\\x00<\\x00=\\x00>\\x00?\\x00@\\x00A\\x00B\\x00C\\x00D\\x00E\\x00F\\x00g\\x00h\\x00i\\x00j\\x00k\\x00l\\x00m\\x00\\x84\\x00\\x85\\x00\\x86\\x00\\x87\\x00\\x88\\x00\\x89\\x00\\x96\\x00\\x97\\x00\\x98\\x00\\x99\\x00\\x9a\\x00\\x9b\\x00\\x9c\\x00\\x9d\\x00\\x9e\\x00\\x9f\\x00\\xa0\\x00\\xa1\\x00', b\"\\xa3\\x00\\xa4\\x00\\xa5\\x00\\xa6\\x00\\xa7\\x00\\xba\\x00\\xbb\\x00\\xbc\\x00\\xbd\\x00\\xbe\\x00\\xbf\\x00\\xc0\\x00\\xc1\\x00\\xc2\\x00\\xc3\\x00\\xc4\\x00\\xc5\\x13\\x01\\x13\\x02\\x13\\x03\\x13\\x04\\x13\\x05\\xc0\\x01\\xc0\\x02\\xc0\\x03\\xc0\\x04\\xc0\\x05\\xc0\\x06\\xc0\\x07\\xc0\\x08\\xc0\\t\\xc0\\n\\xc0\\x0b\\xc0\\x0c\\xc0\\r\\xc0\\x0e\\xc0\\x0f\\xc0\\x10\\xc0\\x11\\xc0\\x12\\xc0\\x13\\xc0\\x14\\xc0\\x15\\xc0\\x16\\xc0\\x17\\xc0\\x18\\xc0\\x19\\xc0#\\xc0$\\xc0%\\xc0&\\xc0'\\xc0(\\xc0)\\xc0*\\xc0+\\xc0,\\xc0-\\xc0.\\xc0/\\xc00\\xc01\\xc02\\xc0r\\xc0s\\xc0t\\xc0u\\xc0v\\xc0w\\xc0x\\xc0y\\xc0z\\xc0{\\xc0|\\xc0}\\xc0~\\xc0\\x7f\\xc0\\x80\\xc0\\x81\\xc0\\x82\\xc0\\x83\"]\n",
      "Bad pipe message: %s [b'\\xb1\\x17\\xb5\\x19\\xffh\\xb62\\xf7\\xf1\\xbb\\x85,\\xa6&\\x86\\xe4$\\x00\\x01|\\x00\\x00\\x00\\x01\\x00\\x02\\x00\\x03\\x00\\x04\\x00\\x05\\x00\\x06\\x00\\x07\\x00\\x08\\x00\\t\\x00\\n\\x00\\x0b\\x00\\x0c\\x00\\r\\x00\\x0e\\x00\\x0f\\x00\\x10\\x00\\x11\\x00\\x12\\x00\\x13\\x00\\x14\\x00\\x15\\x00\\x16\\x00\\x17\\x00\\x18\\x00\\x19\\x00\\x1a\\x00\\x1b\\x00/\\x000\\x001\\x002\\x003\\x004\\x005\\x006\\x007\\x008\\x009\\x00:\\x00;\\x00<\\x00=\\x00>\\x00?\\x00@\\x00A\\x00B\\x00C\\x00D\\x00E\\x00F\\x00g\\x00h\\x00i\\x00j\\x00k\\x00l\\x00m\\x00\\x84\\x00\\x85\\x00\\x86\\x00\\x87\\x00\\x88\\x00\\x89\\x00\\x96\\x00\\x97\\x00\\x98\\x00\\x99\\x00\\x9a\\x00\\x9b\\x00\\x9c\\x00\\x9d\\x00', b\"\\x9f\\x00\\xa0\\x00\\xa1\\x00\\xa2\\x00\\xa3\\x00\\xa4\\x00\\xa5\\x00\\xa6\\x00\\xa7\\x00\\xba\\x00\\xbb\\x00\\xbc\\x00\\xbd\\x00\\xbe\\x00\\xbf\\x00\\xc0\\x00\\xc1\\x00\\xc2\\x00\\xc3\\x00\\xc4\\x00\\xc5\\x13\\x01\\x13\\x02\\x13\\x03\\x13\\x04\\x13\\x05\\xc0\\x01\\xc0\\x02\\xc0\\x03\\xc0\\x04\\xc0\\x05\\xc0\\x06\\xc0\\x07\\xc0\\x08\\xc0\\t\\xc0\\n\\xc0\\x0b\\xc0\\x0c\\xc0\\r\\xc0\\x0e\\xc0\\x0f\\xc0\\x10\\xc0\\x11\\xc0\\x12\\xc0\\x13\\xc0\\x14\\xc0\\x15\\xc0\\x16\\xc0\\x17\\xc0\\x18\\xc0\\x19\\xc0#\\xc0$\\xc0%\\xc0&\\xc0'\\xc0(\\xc0)\\xc0*\\xc0+\\xc0,\\xc0-\\xc0.\\xc0/\\xc00\\xc01\\xc02\\xc0r\\xc0s\\xc0t\\xc0u\\xc0v\\xc0w\\xc0x\\xc0y\\xc0z\\xc0{\\xc0|\\xc0}\"]\n",
      "Bad pipe message: %s [b'9d\\xba*\\xd8u4c\\x99\\xfd\\xdd6\\x894@\\xa9\\xff\\xfa\\x00\\x00*\\x00\\x03\\x00\\x06\\x00\\x07\\x00\\x08\\x00\\t\\x00\\x0b\\x00\\x0c\\x00\\x0e\\x00\\x0f\\x00\\x11\\x00\\x12\\x00']\n",
      "Bad pipe message: %s [b'\\x15\\x00\\x17\\x00\\x19\\x00\\x1a\\xc0\\x02\\xc0\\x07\\xc0\\x0c\\xc0\\x11\\xc0\\x16\\x02\\x00']\n",
      "Bad pipe message: %s [b'']\n",
      "Bad pipe message: %s [b'\\x167\\x98~,\\x1b\\xe9=\\x08\\xcf\\x92\\x91\\x94\\x00\\xa3>To\\x00\\x00T\\xc0r\\xc0s\\xc0t\\xc0', b'v\\xc0w\\xc0x\\xc0y\\xc0z\\xc0{\\xc0|\\xc0}\\xc0~\\xc0\\x7f\\xc0\\x80\\xc0\\x81\\xc0\\x82\\xc0\\x83\\xc0\\x84\\xc0\\x85\\xc0\\x86\\xc0\\x87\\xc0\\x88\\xc0\\x89\\xc0\\x8a\\xc0\\x8b\\xc0\\x8c\\xc0\\x8d\\xc0\\x8e\\xc0\\x8f\\xc0\\x90\\xc0\\x91\\xc0\\x92\\xc0\\x93\\xc0\\x94\\xc0\\x95\\xc0\\x96\\xc0\\x97\\xc0\\x98\\xc0\\x99\\xc0\\x9a\\xc0\\x9b\\x02\\x00\\x01\\x00,\\x00\\n\\x00\\n\\x00\\x08\\x00\\x17\\x00\\x19\\x00\\x18\\x00\\x16\\x00\\x0b\\x00\\x04\\x03\\x00\\x01\\x02\\x00\\r\\x00\\x12\\x00\\x10\\x04\\x03\\x08\\x04\\x04\\x01\\x05\\x03']\n",
      "Bad pipe message: %s [b'\\xf7\\xe6fV\\xdf\\xe4~\\xf0g\\x8e-A\\xb7\\x87\\xb2\\x9e:\\xfc\\x00\\x006\\xc0\\x01\\xc0\\x03\\xc0\\x04\\xc0\\x05\\xc0\\x06\\xc0\\x08\\xc0\\t\\xc0\\n\\xc0\\x0b\\xc0\\r\\xc0\\x0e\\xc0\\x0f\\xc0\\x10\\xc0\\x12\\xc0\\x13\\xc0\\x14\\xc0\\x15\\xc0\\x17\\xc0\\x18\\xc0\\x19\\xcc\\xa8\\xcc\\xa9\\xcc\\xaa\\xcc\\xab\\xcc\\xac\\xcc\\xad\\xcc\\xae\\x02\\x00\\x01\\x00,\\x00\\n\\x00\\n\\x00\\x08\\x00\\x17\\x00\\x19\\x00\\x18\\x00\\x16\\x00\\x0b\\x00\\x04\\x03\\x00', b'']\n",
      "Bad pipe message: %s [b\"Hk\\xaf\\x93\\xb2U\\x8c\\x12m\\x11?5R\\xa1\\x14\\xfb\\x85\\xbc\\x00\\x00D\\x00\\x96\\x00\\x97\\x00\\x98\\x00\\x99\\x00\\x9a\\x00\\x9b\\x00\\x9c\\x00\\x9d\\x00\\x9e\\x00\\x9f\\x00\\xa0\\x00\\xa1\\x00\\xa2\\x00\\xa3\\x00\\xa4\\x00\\xa5\\x00\\xa6\\x00\\xa7\\xc0#\\xc0$\\xc0%\\xc0&\\xc0'\"]\n",
      "Bad pipe message: %s [b'\\x1c<\\x18\\x85g\\x81\\xf9\\x8e\\xac\\xf5\\xa2\\x93\\xf5\\xf7\\x14\\xddd;\\x00\\x00J\\x00\\x00\\x00\\x01\\x00\\x02\\x00\\x04\\x00\\x05\\x00\\n\\x00\\r\\x00\\x10\\x00\\x13\\x00\\x16\\x00\\x18\\x00\\x1b\\x00/\\x00']\n",
      "Bad pipe message: %s [b'1\\x002\\x003\\x004\\x005\\x006\\x007\\x008\\x009\\x00:\\x00;\\x00<\\x00=\\x00>\\x00?\\x00@\\x00g\\x00h\\x00i\\x00j\\x00k\\x00l\\x00m\\x02\\x00']\n",
      "Bad pipe message: %s [b'']\n",
      "Bad pipe message: %s [b'\\xd4N\\xfbut\\xf8\\xae\\xf5\\xccO\\xe5\\xc1\\x0b\\x15']\n",
      "Bad pipe message: %s [b'y\\x18k\\xd0\\x06\\xe1\\xc1\\x840\\x03c\\x90\\xdd\\xe9\\xbe7\\xe9\\xa7\\x00\\x00T\\xc0r\\xc0s\\xc0t\\xc0u\\xc0v\\xc0w\\xc0x\\xc0y\\xc0z\\xc0{\\xc0|\\xc0}\\xc0~\\xc0\\x7f\\xc0\\x80\\xc0\\x81\\xc0\\x82\\xc0\\x83\\xc0\\x84\\xc0\\x85\\xc0\\x86\\xc0\\x87\\xc0\\x88\\xc0\\x89\\xc0\\x8a\\xc0\\x8b\\xc0\\x8c\\xc0\\x8d\\xc0\\x8e\\xc0\\x8f\\xc0\\x90\\xc0\\x91\\xc0\\x92\\xc0\\x93\\xc0\\x94\\xc0\\x95\\xc0\\x96\\xc0\\x97\\xc0\\x98\\xc0\\x99\\xc0\\x9a\\xc0\\x9b\\x02\\x00\\x01\\x00,\\x00\\n\\x00\\n\\x00\\x08\\x00\\x17\\x00\\x19\\x00\\x18\\x00\\x16\\x00\\x0b\\x00\\x04\\x03\\x00\\x01\\x02\\x00\\r\\x00\\x12\\x00\\x10\\x04\\x03\\x08\\x04\\x04']\n",
      "Bad pipe message: %s [b'', b'\\x8a(\\x1cay\\xb5\\x10\\xa5*\\x93B\\x96\\xed\\\\\\xc1}\\x00\\x006\\xc0\\x01\\xc0\\x03\\xc0\\x04\\xc0\\x05\\xc0\\x06\\xc0\\x08\\xc0\\t\\xc0\\n\\xc0\\x0b\\xc0\\r\\xc0\\x0e\\xc0\\x0f\\xc0\\x10\\xc0\\x12\\xc0\\x13\\xc0\\x14\\xc0\\x15\\xc0\\x17\\xc0\\x18\\xc0\\x19\\xcc\\xa8\\xcc\\xa9\\xcc\\xaa\\xcc\\xab\\xcc\\xac\\xcc\\xad\\xcc\\xae\\x02\\x00\\x01\\x00,\\x00\\n\\x00\\n\\x00\\x08\\x00\\x17\\x00\\x19\\x00\\x18\\x00\\x16\\x00\\x0b\\x00']\n",
      "Bad pipe message: %s [b'\\x97,\\xa9\\xc9\\xb2\\x14\\x92+F\\x04\\xe2\\xa7{r\\xda\\x8d\\xc5\\xb4\\x00\\x01|\\x00\\x00\\x00\\x01\\x00\\x02\\x00\\x03\\x00\\x04\\x00\\x05\\x00\\x06\\x00\\x07\\x00\\x08\\x00\\t\\x00\\n\\x00\\x0b\\x00\\x0c\\x00\\r\\x00\\x0e\\x00\\x0f\\x00\\x10\\x00\\x11\\x00\\x12\\x00\\x13\\x00\\x14\\x00\\x15\\x00\\x16\\x00\\x17\\x00\\x18\\x00\\x19\\x00\\x1a\\x00\\x1b\\x00/\\x000\\x001\\x002\\x003\\x004\\x005\\x006\\x007\\x008\\x00', b':\\x00;\\x00<\\x00=\\x00>\\x00?\\x00@\\x00A\\x00B\\x00C\\x00D\\x00E\\x00F\\x00g\\x00h\\x00i\\x00j\\x00k\\x00l\\x00m\\x00\\x84\\x00\\x85\\x00\\x86\\x00\\x87\\x00\\x88\\x00\\x89\\x00\\x96\\x00\\x97\\x00']\n",
      "Bad pipe message: %s [b\"\\x99\\x00\\x9a\\x00\\x9b\\x00\\x9c\\x00\\x9d\\x00\\x9e\\x00\\x9f\\x00\\xa0\\x00\\xa1\\x00\\xa2\\x00\\xa3\\x00\\xa4\\x00\\xa5\\x00\\xa6\\x00\\xa7\\x00\\xba\\x00\\xbb\\x00\\xbc\\x00\\xbd\\x00\\xbe\\x00\\xbf\\x00\\xc0\\x00\\xc1\\x00\\xc2\\x00\\xc3\\x00\\xc4\\x00\\xc5\\x13\\x01\\x13\\x02\\x13\\x03\\x13\\x04\\x13\\x05\\xc0\\x01\\xc0\\x02\\xc0\\x03\\xc0\\x04\\xc0\\x05\\xc0\\x06\\xc0\\x07\\xc0\\x08\\xc0\\t\\xc0\\n\\xc0\\x0b\\xc0\\x0c\\xc0\\r\\xc0\\x0e\\xc0\\x0f\\xc0\\x10\\xc0\\x11\\xc0\\x12\\xc0\\x13\\xc0\\x14\\xc0\\x15\\xc0\\x16\\xc0\\x17\\xc0\\x18\\xc0\\x19\\xc0#\\xc0$\\xc0%\\xc0&\\xc0'\\xc0(\\xc0)\\xc0*\\xc0+\\xc0,\\xc0-\\xc0.\\xc0/\\xc00\\xc01\\xc02\\xc0r\\xc0s\\xc0t\"]\n",
      "Bad pipe message: %s [b'$\\r;\\xd9\\\\<\\xff\\x06(J:\\xac\\x92\\xcaV\\xfc\\xd4\\xed\\x00\\x01|\\x00\\x00\\x00\\x01\\x00\\x02\\x00\\x03\\x00\\x04\\x00\\x05\\x00\\x06\\x00\\x07\\x00\\x08\\x00\\t\\x00\\n\\x00\\x0b\\x00\\x0c\\x00\\r\\x00\\x0e\\x00\\x0f\\x00\\x10\\x00\\x11\\x00\\x12\\x00\\x13\\x00\\x14\\x00\\x15\\x00\\x16\\x00\\x17\\x00\\x18\\x00\\x19\\x00\\x1a\\x00\\x1b\\x00/\\x000\\x001\\x002\\x003\\x004\\x005\\x006\\x007\\x008\\x009\\x00:\\x00;\\x00<\\x00=\\x00>\\x00?\\x00@\\x00A\\x00B\\x00C\\x00D\\x00E\\x00F\\x00g\\x00h\\x00i\\x00j\\x00k\\x00l\\x00m\\x00\\x84\\x00\\x85\\x00\\x86\\x00\\x87\\x00\\x88\\x00\\x89\\x00\\x96\\x00\\x97\\x00\\x98\\x00\\x99\\x00\\x9a']\n",
      "Bad pipe message: %s [b'\\xe9\\x8d\\xfc\\x85\\x9dZ\\xba\\xe1\\x89Lf\\xbdtiK\\xcd\\x1a\\xa9\\x00\\x01|\\x00\\x00\\x00\\x01\\x00\\x02\\x00\\x03\\x00\\x04\\x00\\x05\\x00\\x06\\x00\\x07\\x00\\x08\\x00\\t\\x00\\n\\x00\\x0b\\x00\\x0c\\x00\\r\\x00\\x0e\\x00\\x0f\\x00\\x10\\x00\\x11\\x00\\x12\\x00\\x13\\x00\\x14\\x00\\x15\\x00\\x16\\x00\\x17\\x00\\x18\\x00\\x19\\x00\\x1a\\x00\\x1b\\x00/\\x000\\x001\\x002\\x003\\x004\\x005\\x006\\x007\\x008\\x009\\x00:\\x00;\\x00<\\x00=\\x00>\\x00?\\x00@\\x00A\\x00B\\x00C\\x00D\\x00E\\x00F\\x00g\\x00h\\x00i\\x00j\\x00k\\x00l\\x00m\\x00\\x84']\n",
      "Bad pipe message: %s [b\"\\xc0\\xd7\\x83\\xf7\\xdc\\xfc\\xe7\\xd80\\x7f\\xff\\xc5\\x85/\\x18M\\xe4[\\x00\\x00D\\x00\\x96\\x00\\x97\\x00\\x98\\x00\\x99\\x00\\x9a\\x00\\x9b\\x00\\x9c\\x00\\x9d\\x00\\x9e\\x00\\x9f\\x00\\xa0\\x00\\xa1\\x00\\xa2\\x00\\xa3\\x00\\xa4\\x00\\xa5\\x00\\xa6\\x00\\xa7\\xc0#\\xc0$\\xc0%\\xc0&\\xc0'\\xc0(\\xc0)\\xc0*\\xc0\"]\n",
      "Bad pipe message: %s [b'\\x1e\\x05\\xcc\\xe9\\xd2\\xf0\\xaf\\xd5\\xb9!\\xb4\\xa7\\xb2jf\\t=\\xf4\\x00\\x00T\\xc0r\\xc0s\\xc0t\\xc0u\\xc0v\\xc0w\\xc0x\\xc0y\\xc0z\\xc0{\\xc0|\\xc0}\\xc0~\\xc0\\x7f\\xc0\\x80\\xc0\\x81\\xc0\\x82\\xc0\\x83\\xc0\\x84\\xc0\\x85\\xc0\\x86\\xc0\\x87\\xc0\\x88\\xc0\\x89\\xc0\\x8a\\xc0\\x8b\\xc0\\x8c\\xc0\\x8d\\xc0\\x8e\\xc0\\x8f\\xc0\\x90\\xc0\\x91\\xc0\\x92\\xc0\\x93\\xc0\\x94\\xc0\\x95\\xc0\\x96\\xc0\\x97\\xc0\\x98\\xc0\\x99\\xc0\\x9a\\xc0\\x9b\\x02\\x00\\x01\\x00,\\x00\\n\\x00\\n\\x00\\x08\\x00\\x17\\x00\\x19\\x00\\x18\\x00\\x16\\x00\\x0b\\x00\\x04\\x03']\n",
      "Bad pipe message: %s [b'\\xe8\\xc7\\xae\\x1eoB\\xa2V\\xc7\\x84|X\\xa9~\\x93\\x96\\xc2@\\x00\\x00*\\x00\\x03\\x00\\x06\\x00\\x07\\x00\\x08\\x00\\t\\x00\\x0b\\x00\\x0c\\x00\\x0e\\x00\\x0f\\x00\\x11\\x00\\x12\\x00\\x14\\x00\\x15\\x00\\x17\\x00\\x19\\x00\\x1a\\xc0\\x02\\xc0\\x07\\xc0\\x0c\\xc0\\x11\\xc0\\x16\\x02\\x00\\x01\\x00,\\x00\\n\\x00\\n\\x00\\x08\\x00\\x17\\x00\\x19\\x00\\x18\\x00\\x16\\x00\\x0b\\x00\\x04\\x03\\x00\\x01\\x02\\x00\\r\\x00']\n",
      "Bad pipe message: %s [b'\\x10\\x04\\x03\\x08\\x04\\x04\\x01\\x05\\x03\\x05\\x01\\x08\\x05\\x08\\x06\\x06\\x01']\n",
      "Bad pipe message: %s [b'Y3\\x08R\\xda\\x8a\\xd4\\xe8N\\x0e\\x0eN\\x8b\\x0bd\\x05`\\x90\\x00\\x00T\\xc0r\\xc0s\\xc0t\\xc0u\\xc0v\\xc0w\\xc0x\\xc0y\\xc0z\\xc0{\\xc0|\\xc0}\\xc0~\\xc0\\x7f\\xc0\\x80\\xc0\\x81\\xc0\\x82\\xc0\\x83\\xc0\\x84\\xc0\\x85\\xc0\\x86\\xc0\\x87\\xc0\\x88\\xc0\\x89\\xc0\\x8a\\xc0\\x8b\\xc0\\x8c\\xc0\\x8d\\xc0\\x8e\\xc0\\x8f\\xc0\\x90\\xc0\\x91\\xc0\\x92\\xc0\\x93\\xc0\\x94\\xc0\\x95\\xc0\\x96\\xc0\\x97\\xc0\\x98\\xc0\\x99\\xc0\\x9a\\xc0\\x9b\\x02\\x00']\n",
      "Bad pipe message: %s [b'']\n",
      "Bad pipe message: %s [b'\\n\\x00\\n\\x00\\x08\\x00\\x17\\x00\\x19\\x00\\x18\\x00\\x16\\x00\\x0b\\x00\\x04\\x03\\x00\\x01\\x02\\x00\\r\\x00\\x12\\x00\\x10\\x04\\x03\\x08\\x04\\x04\\x01\\x05\\x03\\x05\\x01\\x08\\x05\\x08\\x06\\x06\\x01']\n",
      "Bad pipe message: %s [b\"`\\x02\\xc9\\x8a\\x9e~e\\xa5\\xf3m\\xfd#\\x978\\x1f\\x87\\xc22\\x00\\x00D\\x00\\x96\\x00\\x97\\x00\\x98\\x00\\x99\\x00\\x9a\\x00\\x9b\\x00\\x9c\\x00\\x9d\\x00\\x9e\\x00\\x9f\\x00\\xa0\\x00\\xa1\\x00\\xa2\\x00\\xa3\\x00\\xa4\\x00\\xa5\\x00\\xa6\\x00\\xa7\\xc0#\\xc0$\\xc0%\\xc0&\\xc0'\\xc0(\\xc0)\\xc0*\\xc0+\\xc0,\\xc0-\\xc0.\\xc0/\\xc00\\xc01\\xc02\\x02\\x00\\x01\\x00,\\x00\\n\\x00\\n\\x00\\x08\\x00\\x17\\x00\\x19\\x00\\x18\\x00\\x16\\x00\\x0b\\x00\\x04\\x03\\x00\\x01\\x02\\x00\\r\\x00\\x12\\x00\\x10\"]\n",
      "Bad pipe message: %s [b'1']\n",
      "Bad pipe message: %s [b\"\\x08\\xd2W\\x08b\\xac[?\\xff'\\xb7\\xd9!\\x1e+\\xec\\x945 \\xc3-\\xf5L\\xde\\xe92\\r7\\xe3\\xda\\x00\\x173N3u\\xf2\\x85\\xeb\\xf71W@$\\xf03<K\\xd7\\xb0\\xda\\x00\\n\\x13\\x01\\x13\\x02\\x13\\x03\\x13\\x04\\x13\\x05\\x01\\x00\\x00\\x9e\\x00+\\x00\\x03\\x02\\x03\\x04\\x00\\n\\x00\\n\\x00\\x08\\xaa\\xaa\\x00\", b'\\x18\\x00\\x1d\\x00\\x00\\x00\\x10\\x00\\x0e\\x00\\x00\\x0bAMBUS14082']\n",
      "Bad pipe message: %s [b'\\r\\x00\\x12\\x00\\x10\\x04\\x03\\x08\\x04\\x04\\x01\\x05\\x03\\x08\\x05\\x05\\x01\\x08\\x06\\x06\\x01\\x00\\x17\\x00\\x00\\x00#\\x00\\x05\\x01\\x00\\x00\\x00\\x00\\x00\\x05\\x00\\x01\\x00\\x00\\x10\\x00\\x0e\\x00\\x0c\\x02h2']\n",
      "Bad pipe message: %s [b'ttp/1.1']\n",
      "Bad pipe message: %s [b'\\xb3l\\xe7\\x1bE\\xcfOibeyy\\xd3\\xec\\xd5\\x8c\\x84$\\x00\\x01|\\x00\\x00\\x00\\x01\\x00\\x02\\x00\\x03\\x00\\x04\\x00\\x05\\x00\\x06\\x00\\x07\\x00\\x08\\x00\\t\\x00\\n\\x00\\x0b\\x00\\x0c\\x00\\r\\x00\\x0e\\x00\\x0f\\x00\\x10\\x00\\x11\\x00\\x12\\x00\\x13\\x00\\x14\\x00\\x15\\x00\\x16\\x00\\x17\\x00\\x18\\x00\\x19\\x00\\x1a\\x00\\x1b\\x00/\\x000\\x001\\x002\\x003\\x004\\x005\\x006\\x007\\x008\\x009\\x00:\\x00;\\x00<\\x00=\\x00>\\x00?\\x00@\\x00A\\x00B\\x00C\\x00D\\x00E\\x00F\\x00g\\x00h']\n",
      "Bad pipe message: %s [b\"R\\xd8\\xc0\\x9b,C\\xd1\\xfb\\xa79\\x90'C*<\\x10\\x88D\\x00\\x01|\\x00\\x00\\x00\\x01\\x00\\x02\\x00\\x03\\x00\\x04\\x00\\x05\\x00\\x06\\x00\\x07\\x00\\x08\\x00\\t\\x00\\n\\x00\\x0b\\x00\\x0c\\x00\\r\\x00\"]\n",
      "Bad pipe message: %s [b'\\x0f\\x00\\x10\\x00\\x11\\x00\\x12\\x00\\x13\\x00\\x14\\x00\\x15']\n",
      "Bad pipe message: %s [b'\\xf3\\xc2,Po\\xb1C\\xbe\\xac\\xcc\\x9f\\x87\\xa3U\\xb5\\x81;\\x89\\x00\\x01|\\x00\\x00\\x00\\x01\\x00\\x02\\x00\\x03\\x00\\x04\\x00\\x05']\n",
      "Bad pipe message: %s [b'H\\x9c\\x1c\\x00\\xba\\x99\\x9f\\xde\\xe0\\x08\\xd6\\xc9\\x86q6\\xc1\\xb4\\xfd\\x00\\x01|\\x00\\x00\\x00\\x01\\x00\\x02\\x00\\x03\\x00\\x04\\x00\\x05\\x00\\x06\\x00\\x07\\x00\\x08\\x00\\t\\x00\\n\\x00\\x0b\\x00\\x0c\\x00\\r\\x00\\x0e\\x00\\x0f\\x00\\x10\\x00\\x11\\x00\\x12\\x00\\x13\\x00\\x14\\x00\\x15\\x00\\x16\\x00\\x17\\x00\\x18\\x00\\x19\\x00\\x1a\\x00\\x1b\\x00/\\x000\\x001\\x002\\x003\\x004\\x005\\x006\\x007\\x008\\x009\\x00', b';\\x00<\\x00=\\x00>\\x00?\\x00@\\x00A\\x00B\\x00C\\x00D\\x00E\\x00F\\x00g\\x00h\\x00i\\x00j\\x00k\\x00l\\x00m\\x00\\x84\\x00\\x85\\x00\\x86\\x00\\x87\\x00\\x88\\x00\\x89\\x00\\x96\\x00\\x97\\x00\\x98\\x00\\x99']\n",
      "Bad pipe message: %s [b'\\x8d\\xf7h\\xbb\\xb0\\x97\\x86#il\\x16\\x82\\x8a#\\xd36i\\xe7']\n",
      "Bad pipe message: %s [b'/1\\x06:tJ&@\\x7f@-\\x1d\\x15gN\\x0b5j\\x00\\x01|\\x00\\x00\\x00\\x01\\x00\\x02\\x00\\x03\\x00\\x04\\x00\\x05\\x00\\x06\\x00\\x07\\x00\\x08\\x00\\t\\x00\\n\\x00\\x0b\\x00\\x0c\\x00\\r\\x00\\x0e\\x00\\x0f\\x00\\x10\\x00\\x11\\x00\\x12\\x00\\x13\\x00\\x14\\x00\\x15\\x00\\x16\\x00\\x17\\x00\\x18\\x00\\x19\\x00\\x1a\\x00\\x1b\\x00/\\x000\\x001\\x002\\x003\\x004\\x005\\x006\\x007\\x008\\x009\\x00:\\x00;\\x00<\\x00=\\x00>\\x00?\\x00@\\x00A\\x00B\\x00C\\x00D\\x00E\\x00F\\x00g\\x00h\\x00i\\x00j\\x00k\\x00l\\x00m\\x00\\x84\\x00\\x85\\x00\\x86\\x00\\x87\\x00\\x88\\x00']\n",
      "Bad pipe message: %s [b\"\\x96\\x00\\x97\\x00\\x98\\x00\\x99\\x00\\x9a\\x00\\x9b\\x00\\x9c\\x00\\x9d\\x00\\x9e\\x00\\x9f\\x00\\xa0\\x00\\xa1\\x00\\xa2\\x00\\xa3\\x00\\xa4\\x00\\xa5\\x00\\xa6\\x00\\xa7\\x00\\xba\\x00\\xbb\\x00\\xbc\\x00\\xbd\\x00\\xbe\\x00\\xbf\\x00\\xc0\\x00\\xc1\\x00\\xc2\\x00\\xc3\\x00\\xc4\\x00\\xc5\\x13\\x01\\x13\\x02\\x13\\x03\\x13\\x04\\x13\\x05\\xc0\\x01\\xc0\\x02\\xc0\\x03\\xc0\\x04\\xc0\\x05\\xc0\\x06\\xc0\\x07\\xc0\\x08\\xc0\\t\\xc0\\n\\xc0\\x0b\\xc0\\x0c\\xc0\\r\\xc0\\x0e\\xc0\\x0f\\xc0\\x10\\xc0\\x11\\xc0\\x12\\xc0\\x13\\xc0\\x14\\xc0\\x15\\xc0\\x16\\xc0\\x17\\xc0\\x18\\xc0\\x19\\xc0#\\xc0$\\xc0%\\xc0&\\xc0'\\xc0(\\xc0)\\xc0*\\xc0\"]\n",
      "Bad pipe message: %s [b',\\xc0-\\xc0.\\xc0/\\xc00\\xc01\\xc02\\xc0r\\xc0s\\xc0t\\xc0u\\xc0v\\xc0w\\xc0x\\xc0y\\xc0z\\xc0{\\xc0|\\xc0}\\xc0~\\xc0\\x7f\\xc0']\n",
      "Bad pipe message: %s [b\"ie'\\x9cj\\x9c\\xbc\\xab~\\xfa\\xfd\\x17`\\xaf\\xe7W\\xef\\xef\\x00\\x01|\\x00\\x00\\x00\\x01\\x00\\x02\\x00\\x03\\x00\\x04\\x00\\x05\\x00\\x06\\x00\\x07\\x00\\x08\\x00\\t\\x00\\n\\x00\\x0b\\x00\\x0c\\x00\\r\\x00\\x0e\\x00\\x0f\\x00\\x10\\x00\\x11\\x00\\x12\\x00\\x13\\x00\\x14\\x00\\x15\\x00\\x16\\x00\\x17\\x00\\x18\\x00\\x19\\x00\\x1a\\x00\\x1b\\x00/\\x000\\x001\\x002\\x003\\x004\\x005\\x006\\x007\\x008\\x009\\x00:\\x00;\\x00<\\x00=\\x00>\\x00?\\x00@\\x00A\\x00B\\x00C\\x00D\\x00E\\x00F\\x00g\\x00h\\x00i\\x00j\\x00k\\x00l\\x00m\\x00\\x84\\x00\\x85\\x00\\x86\\x00\\x87\\x00\\x88\\x00\\x89\\x00\\x96\\x00\\x97\\x00\\x98\\x00\\x99\\x00\\x9a\\x00\\x9b\\x00\\x9c\\x00\\x9d\\x00\\x9e\\x00\\x9f\\x00\\xa0\\x00\\xa1\\x00\\xa2\\x00\\xa3\\x00\\xa4\\x00\\xa5\\x00\\xa6\\x00\\xa7\\x00\\xba\\x00\\xbb\\x00\\xbc\\x00\\xbd\\x00\\xbe\\x00\\xbf\\x00\\xc0\\x00\\xc1\\x00\\xc2\\x00\\xc3\\x00\\xc4\\x00\\xc5\\x13\\x01\\x13\\x02\\x13\\x03\\x13\\x04\\x13\\x05\\xc0\"]\n",
      "Bad pipe message: %s [b'']\n",
      "Bad pipe message: %s [b'\\x03']\n",
      "Bad pipe message: %s [b'0+\\xacOPzuA\\xaaT\\\\=j\\x97@\\xcb\\tK\\x00\\x006\\xc0\\x01\\xc0\\x03\\xc0\\x04\\xc0\\x05\\xc0\\x06\\xc0\\x08\\xc0\\t\\xc0\\n\\xc0\\x0b\\xc0\\r\\xc0\\x0e\\xc0\\x0f\\xc0\\x10\\xc0\\x12\\xc0\\x13\\xc0\\x14\\xc0\\x15\\xc0\\x17\\xc0\\x18\\xc0\\x19\\xcc\\xa8\\xcc\\xa9\\xcc\\xaa\\xcc\\xab\\xcc\\xac\\xcc\\xad\\xcc\\xae', b'\\x01']\n",
      "Bad pipe message: %s [b'\\xef\\xe6\\x14r\\x85L\"\\x0c\\xdb\\x9c\\x1cv\\xfa\\xd2']\n",
      "Bad pipe message: %s [b\"Nv\\x11 \\x9d\\x91\\xa9\\x8c\\xec\\x94lt'g\\xae\\x14<\\xf8\\x00\\x00*\\x00\\x03\\x00\\x06\\x00\\x07\\x00\\x08\\x00\\t\\x00\\x0b\\x00\\x0c\\x00\\x0e\\x00\\x0f\\x00\\x11\\x00\\x12\\x00\\x14\\x00\\x15\\x00\\x17\\x00\\x19\\x00\\x1a\\xc0\\x02\\xc0\\x07\\xc0\\x0c\\xc0\\x11\\xc0\\x16\\x02\\x00\\x01\\x00,\\x00\\n\\x00\\n\\x00\\x08\\x00\\x17\\x00\\x19\\x00\\x18\\x00\\x16\\x00\\x0b\\x00\\x04\\x03\\x00\\x01\\x02\"]\n",
      "Bad pipe message: %s [b\"o\\x8e\\xaf~\\x8dU\\xa2\\xe0\\xdc\\x88\\xb1\\xd77\\xfe\\xd9c\\xbe'\\x00\\x00J\\x00\\x00\\x00\\x01\\x00\\x02\\x00\\x04\\x00\\x05\\x00\\n\\x00\\r\\x00\\x10\\x00\\x13\\x00\\x16\\x00\\x18\\x00\\x1b\\x00/\\x000\\x001\\x002\\x003\\x004\\x005\\x006\\x007\\x008\\x009\\x00:\\x00;\\x00<\\x00=\\x00>\\x00?\"]\n",
      "Bad pipe message: %s [b\"\\x07\\xb5'8\\xcf\\xd5\\x07\\x89\\xaa\\xf6[\\xf2-\\x11\\x03\\x87:8\\x00\\x00T\\xc0r\\xc0s\\xc0t\\xc0u\\xc0v\\xc0w\\xc0x\\xc0y\\xc0z\\xc0{\\xc0|\\xc0}\\xc0~\\xc0\\x7f\\xc0\\x80\\xc0\\x81\\xc0\\x82\\xc0\\x83\\xc0\\x84\\xc0\\x85\\xc0\\x86\\xc0\\x87\\xc0\\x88\\xc0\\x89\\xc0\\x8a\\xc0\\x8b\\xc0\\x8c\\xc0\\x8d\\xc0\\x8e\\xc0\\x8f\\xc0\\x90\\xc0\\x91\\xc0\\x92\\xc0\\x93\\xc0\\x94\\xc0\\x95\\xc0\\x96\\xc0\\x97\\xc0\\x98\\xc0\\x99\\xc0\\x9a\\xc0\\x9b\\x02\\x00\\x01\\x00,\\x00\\n\\x00\\n\\x00\\x08\\x00\\x17\\x00\"]\n",
      "Bad pipe message: %s [b'\\x18\\x00\\x16\\x00\\x0b\\x00\\x04\\x03\\x00\\x01\\x02\\x00\\r\\x00\\x12\\x00\\x10\\x04\\x03\\x08\\x04\\x04\\x01\\x05']\n",
      "Bad pipe message: %s [b'/)\\xc3\\x98\\x9d_\\xc1\\xfa\\xec\\x85\\xfc\\xa5\\xea\\x88\\xef\\xe0Vw\\x00\\x006\\xc0\\x01\\xc0\\x03\\xc0\\x04\\xc0\\x05\\xc0\\x06\\xc0\\x08\\xc0\\t\\xc0\\n\\xc0\\x0b\\xc0\\r\\xc0\\x0e\\xc0\\x0f\\xc0\\x10\\xc0\\x12\\xc0\\x13\\xc0\\x14\\xc0\\x15\\xc0\\x17\\xc0\\x18\\xc0\\x19\\xcc\\xa8\\xcc\\xa9\\xcc\\xaa\\xcc\\xab\\xcc\\xac\\xcc\\xad\\xcc\\xae\\x02\\x00\\x01\\x00,\\x00\\n']\n",
      "Bad pipe message: %s [b'(\\x10+\\xc7\\xf6\\xd1TV\\x8c\\x87\\xf3']\n",
      "Bad pipe message: %s [b'\\xa2\\xc4\\xf5O\\xa2\\xfbc', b'\\xd4m\\x98Z\\xb8]&\\xf5\\xca\\x00\\x01|\\x00\\x00\\x00\\x01\\x00\\x02\\x00\\x03\\x00\\x04\\x00\\x05\\x00\\x06\\x00\\x07\\x00\\x08\\x00\\t\\x00\\n\\x00\\x0b\\x00\\x0c\\x00\\r\\x00\\x0e\\x00\\x0f\\x00\\x10\\x00\\x11\\x00\\x12\\x00\\x13\\x00\\x14\\x00\\x15\\x00\\x16\\x00\\x17\\x00\\x18\\x00\\x19\\x00\\x1a\\x00\\x1b\\x00/\\x000\\x001\\x002\\x00', b'4\\x005\\x006\\x007\\x008\\x009\\x00:\\x00;\\x00<\\x00=\\x00>\\x00?\\x00@\\x00A\\x00B\\x00C\\x00D\\x00E\\x00F\\x00g\\x00h\\x00i\\x00j\\x00k\\x00l\\x00']\n",
      "Bad pipe message: %s [b'\\x84\\x00\\x85\\x00\\x86\\x00\\x87\\x00\\x88\\x00\\x89\\x00\\x96\\x00\\x97\\x00\\x98\\x00\\x99\\x00\\x9a\\x00\\x9b\\x00\\x9c\\x00\\x9d\\x00\\x9e\\x00\\x9f\\x00\\xa0\\x00\\xa1\\x00\\xa2\\x00\\xa3\\x00\\xa4\\x00\\xa5\\x00\\xa6\\x00\\xa7\\x00\\xba\\x00\\xbb\\x00\\xbc\\x00\\xbd\\x00\\xbe\\x00\\xbf\\x00\\xc0\\x00\\xc1\\x00\\xc2\\x00\\xc3\\x00\\xc4\\x00\\xc5\\x13\\x01\\x13\\x02\\x13\\x03\\x13\\x04\\x13\\x05\\xc0\\x01\\xc0\\x02\\xc0\\x03\\xc0\\x04\\xc0\\x05\\xc0\\x06\\xc0\\x07\\xc0\\x08\\xc0\\t\\xc0\\n\\xc0\\x0b\\xc0\\x0c\\xc0\\r\\xc0']\n",
      "Bad pipe message: %s [b'\\x0f\\xc0\\x10\\xc0\\x11\\xc0\\x12\\xc0\\x13\\xc0\\x14\\xc0\\x15']\n",
      "Bad pipe message: %s [b'$\\xd1(\\xfe\\x89.}\\xa5h\\x0e\\xd4\\xec&\\xec\\xf5\\xdd\\x99\\x97\\x00\\x01|\\x00\\x00\\x00\\x01\\x00\\x02\\x00\\x03\\x00\\x04\\x00\\x05\\x00\\x06\\x00\\x07\\x00\\x08\\x00\\t\\x00\\n\\x00\\x0b\\x00\\x0c\\x00\\r\\x00\\x0e\\x00\\x0f\\x00\\x10\\x00\\x11\\x00\\x12\\x00\\x13\\x00\\x14\\x00\\x15\\x00\\x16\\x00\\x17\\x00\\x18\\x00\\x19\\x00\\x1a\\x00\\x1b\\x00/\\x000\\x001\\x002\\x003\\x004\\x005\\x006\\x007\\x008\\x009\\x00:\\x00;\\x00<\\x00=\\x00>\\x00?\\x00@\\x00A\\x00B\\x00C\\x00D\\x00E\\x00F\\x00g\\x00h\\x00i\\x00j\\x00k\\x00l\\x00m\\x00\\x84\\x00\\x85\\x00\\x86\\x00\\x87\\x00\\x88\\x00\\x89\\x00\\x96\\x00\\x97\\x00\\x98\\x00\\x99\\x00']\n",
      "Bad pipe message: %s [b\"\\x9b\\x00\\x9c\\x00\\x9d\\x00\\x9e\\x00\\x9f\\x00\\xa0\\x00\\xa1\\x00\\xa2\\x00\\xa3\\x00\\xa4\\x00\\xa5\\x00\\xa6\\x00\\xa7\\x00\\xba\\x00\\xbb\\x00\\xbc\\x00\\xbd\\x00\\xbe\\x00\\xbf\\x00\\xc0\\x00\\xc1\\x00\\xc2\\x00\\xc3\\x00\\xc4\\x00\\xc5\\x13\\x01\\x13\\x02\\x13\\x03\\x13\\x04\\x13\\x05\\xc0\\x01\\xc0\\x02\\xc0\\x03\\xc0\\x04\\xc0\\x05\\xc0\\x06\\xc0\\x07\\xc0\\x08\\xc0\\t\\xc0\\n\\xc0\\x0b\\xc0\\x0c\\xc0\\r\\xc0\\x0e\\xc0\\x0f\\xc0\\x10\\xc0\\x11\\xc0\\x12\\xc0\\x13\\xc0\\x14\\xc0\\x15\\xc0\\x16\\xc0\\x17\\xc0\\x18\\xc0\\x19\\xc0#\\xc0$\\xc0%\\xc0&\\xc0'\\xc0(\\xc0)\\xc0*\\xc0+\\xc0,\\xc0-\\xc0.\\xc0/\\xc00\\xc01\\xc02\\xc0r\\xc0s\\xc0t\\xc0u\\xc0v\\xc0w\"]\n",
      "Bad pipe message: %s [b'\\xcd+\\xb2\\xe3\\xd5\\x0c\\x04\\x97\\xdd\\xad|Z\\xbds\\x84G\\x8d\\x95\\x00\\x01|\\x00\\x00\\x00\\x01\\x00\\x02\\x00\\x03\\x00\\x04\\x00\\x05\\x00\\x06\\x00\\x07\\x00\\x08\\x00\\t\\x00\\n\\x00\\x0b\\x00\\x0c\\x00\\r\\x00\\x0e\\x00\\x0f\\x00\\x10\\x00\\x11\\x00\\x12\\x00\\x13\\x00\\x14\\x00\\x15\\x00\\x16\\x00\\x17\\x00\\x18']\n",
      "Bad pipe message: %s [b'@/\\x9d\\x94\\xb1\\xe9W\\x16\\x86Ri\\xb4|@\\x0b3\\xad', b'\\x01|\\x00\\x00\\x00\\x01\\x00\\x02\\x00\\x03\\x00\\x04\\x00\\x05\\x00\\x06\\x00\\x07\\x00\\x08\\x00\\t\\x00\\n\\x00\\x0b\\x00\\x0c\\x00\\r\\x00\\x0e\\x00\\x0f\\x00\\x10\\x00\\x11\\x00\\x12\\x00\\x13\\x00\\x14\\x00\\x15\\x00\\x16\\x00\\x17\\x00\\x18\\x00\\x19\\x00\\x1a\\x00\\x1b\\x00/\\x000\\x001\\x002\\x003\\x004\\x005\\x006\\x007\\x008\\x009\\x00:\\x00;\\x00<\\x00=\\x00>\\x00?\\x00@\\x00A\\x00B\\x00C\\x00D\\x00E\\x00F\\x00g\\x00h']\n",
      "Bad pipe message: %s [b'\\x0e\\x05*\\xef\\x9ft\\xc2\\xc1pQ\\x88x\\xab\\x17\\xb8\\x92\\x18\\xc9\\x00\\x000\\x00A\\x00B\\x00C\\x00D\\x00E\\x00F\\x00\\x84\\x00\\x85\\x00\\x86\\x00\\x87\\x00\\x88\\x00\\x89\\x00\\xba\\x00\\xbb\\x00\\xbc\\x00\\xbd\\x00\\xbe\\x00\\xbf\\x00\\xc0\\x00\\xc1\\x00\\xc2\\x00\\xc3']\n",
      "Bad pipe message: %s [b'\\x15H\\xa5\\x1b\\xd5X|D\\x99\\xdf\\xae\\x83\\xf3F.\\xf1H\\xce\\x00\\x00T\\xc0r\\xc0s\\xc0t\\xc0u\\xc0v\\xc0w\\xc0x\\xc0y\\xc0z\\xc0{\\xc0|\\xc0}\\xc0~\\xc0\\x7f\\xc0\\x80\\xc0\\x81\\xc0\\x82\\xc0\\x83\\xc0\\x84\\xc0\\x85\\xc0\\x86\\xc0\\x87\\xc0\\x88\\xc0\\x89\\xc0\\x8a\\xc0\\x8b\\xc0\\x8c\\xc0\\x8d\\xc0\\x8e\\xc0\\x8f\\xc0\\x90\\xc0\\x91\\xc0\\x92\\xc0\\x93\\xc0\\x94\\xc0\\x95\\xc0\\x96\\xc0\\x97\\xc0\\x98\\xc0\\x99\\xc0\\x9a\\xc0\\x9b']\n",
      "Bad pipe message: %s [b'\\x01']\n",
      "Bad pipe message: %s [b'*\\xb3\\xb67\\x03\\xbe\\x8b\\x9d\\xa1t\\xe2\\xd2{T\\xec\\x11\\xd3\\xbc \\x83P!\\xb3\\x183\\x1f\\xecH\\xd0*>\\xde\\xe5H']\n",
      "Bad pipe message: %s [b'V\\x00(\\x96`:Z\\x06#\\xcd\\xe3\\xf4\\xea\\xd9\\xe0\\x00\\n\\x13\\x01\\x13\\x02\\x13\\x03\\x13\\x04\\x13\\x05\\x01\\x00\\x00\\x9e\\x00+\\x00\\x03\\x02\\x03\\x04\\x00\\n\\x00\\n\\x00\\x08\\xaa\\xaa\\x00\\x17\\x00\\x18\\x00\\x1d\\x00\\x00\\x00\\x10\\x00\\x0e\\x00\\x00\\x0bAMBUS140821\\x00\\r\\x00\\x12\\x00\\x10\\x04\\x03\\x08\\x04\\x04\\x01\\x05\\x03\\x08\\x05\\x05\\x01\\x08\\x06\\x06\\x01\\x00\\x17\\x00\\x00\\x00#\\x00\\x05\\x01\\x00\\x00\\x00\\x00\\x00\\x05\\x00\\x01\\x00\\x00\\x10\\x00\\x0e\\x00\\x0c\\x02h2\\x08http']\n",
      "Bad pipe message: %s [b'\\xb6\\x84\\x19\\xab\\xc2!.\\xf9\\xc5\\x857\\xae\\xcb\\xa4\\xaa\\x82\\x8e\\x9b\\x00\\x01|\\x00\\x00\\x00\\x01\\x00\\x02\\x00\\x03\\x00\\x04\\x00\\x05\\x00\\x06\\x00\\x07\\x00\\x08\\x00', b'\\n\\x00\\x0b\\x00\\x0c\\x00\\r\\x00']\n",
      "Bad pipe message: %s [b'\\x0f\\x00\\x10\\x00\\x11\\x00\\x12\\x00\\x13\\x00\\x14\\x00\\x15']\n",
      "Bad pipe message: %s [b'\\x04\\xf1\\x8a\\x86i\\x01\\xc6\\x1auNO\\x1b\\x03ve\\x855q\\x00\\x01|\\x00\\x00\\x00\\x01\\x00\\x02\\x00\\x03\\x00\\x04\\x00\\x05\\x00\\x06\\x00\\x07\\x00\\x08\\x00\\t\\x00\\n\\x00\\x0b\\x00\\x0c\\x00\\r\\x00\\x0e\\x00\\x0f\\x00\\x10\\x00\\x11\\x00\\x12\\x00\\x13\\x00\\x14\\x00\\x15\\x00\\x16\\x00\\x17\\x00\\x18\\x00\\x19\\x00\\x1a\\x00\\x1b\\x00/\\x000\\x001\\x002\\x003\\x004\\x005\\x006\\x007\\x008\\x009\\x00:\\x00;\\x00<\\x00=\\x00>\\x00?\\x00@\\x00A\\x00B\\x00C\\x00D\\x00E\\x00F\\x00g\\x00h\\x00i\\x00j\\x00k\\x00l\\x00m\\x00\\x84\\x00\\x85\\x00\\x86\\x00\\x87\\x00\\x88']\n",
      "Bad pipe message: %s [b'b\\x10.\\xdf\\xc2v| %\\x7f{$D\\xe0\\xf9!\\xcc\\xc0\\x00\\x01|\\x00\\x00\\x00\\x01\\x00\\x02\\x00\\x03\\x00\\x04\\x00\\x05\\x00\\x06\\x00\\x07\\x00\\x08\\x00\\t\\x00\\n\\x00\\x0b\\x00\\x0c\\x00\\r\\x00\\x0e\\x00\\x0f\\x00\\x10\\x00\\x11\\x00\\x12\\x00\\x13\\x00\\x14\\x00\\x15\\x00\\x16\\x00\\x17\\x00\\x18\\x00\\x19\\x00\\x1a\\x00\\x1b\\x00/\\x000\\x001\\x002\\x003\\x004\\x005\\x006\\x007\\x008\\x009\\x00:\\x00;\\x00<\\x00=\\x00>\\x00?\\x00@\\x00A\\x00B\\x00C\\x00D\\x00E\\x00F\\x00g\\x00h\\x00i\\x00j\\x00k\\x00l\\x00m\\x00\\x84\\x00\\x85\\x00\\x86\\x00\\x87\\x00\\x88\\x00\\x89\\x00\\x96\\x00\\x97\\x00\\x98\\x00\\x99\\x00\\x9a\\x00\\x9b\\x00\\x9c\\x00\\x9d\\x00\\x9e\\x00\\x9f\\x00\\xa0\\x00\\xa1\\x00\\xa2\\x00\\xa3\\x00\\xa4\\x00\\xa5\\x00\\xa6\\x00\\xa7\\x00\\xba\\x00\\xbb\\x00\\xbc\\x00\\xbd\\x00\\xbe\\x00\\xbf\\x00\\xc0\\x00\\xc1\\x00\\xc2\\x00\\xc3\\x00\\xc4\\x00\\xc5\\x13\\x01\\x13\\x02\\x13\\x03\\x13\\x04\\x13\\x05\\xc0\\x01\\xc0\\x02\\xc0\\x03\\xc0\\x04']\n",
      "Bad pipe message: %s [b'\\x914\\xc0o\"\\xebC\\xd5\\xeb\\xbe\\x85\\xc6\\xc3!\\xd0\\x9a\\xb9\\xd0\\x00\\x00D\\x00\\x96\\x00\\x97\\x00\\x98\\x00\\x99\\x00\\x9a\\x00\\x9b\\x00\\x9c\\x00\\x9d\\x00\\x9e\\x00\\x9f\\x00\\xa0\\x00\\xa1\\x00\\xa2\\x00\\xa3\\x00\\xa4\\x00\\xa5\\x00\\xa6\\x00']\n",
      "Bad pipe message: %s [b'\\xf6']\n",
      "Bad pipe message: %s [b\"\\xbd\\xa7\\xb5bD\\xd1z\\nm\\xda \\x1e\\x8c\\xe9\\xae\\xd4\\x03\\xaa\\x00\\x00D\\x00\\x96\\x00\\x97\\x00\\x98\\x00\\x99\\x00\\x9a\\x00\\x9b\\x00\\x9c\\x00\\x9d\\x00\\x9e\\x00\\x9f\\x00\\xa0\\x00\\xa1\\x00\\xa2\\x00\\xa3\\x00\\xa4\\x00\\xa5\\x00\\xa6\\x00\\xa7\\xc0#\\xc0$\\xc0%\\xc0&\\xc0'\\xc0(\\xc0)\\xc0*\\xc0+\\xc0,\\xc0-\\xc0.\\xc0/\\xc00\\xc01\\xc02\\x02\\x00\\x01\\x00,\\x00\"]\n",
      "Bad pipe message: %s [b'\\n\\x00\\x08\\x00\\x17\\x00\\x19\\x00\\x18']\n",
      "Bad pipe message: %s [b'\\x8c \\xacK\\x9a\\xd2_\\xad\\x18\\x1d\\xac?\\r\\xb1\\xe6\\xe8\\x989\\x00\\x006\\xc0\\x01\\xc0\\x03\\xc0\\x04\\xc0\\x05\\xc0\\x06\\xc0\\x08\\xc0\\t']\n",
      "Bad pipe message: %s [b'\\x03\\x18\\xe2zy\\xe5_\\n\\x8bC\\x03\\xde\\x8bE(\\xf2RJ\\x00\\x00*\\x00\\x03\\x00\\x06\\x00\\x07']\n",
      "Bad pipe message: %s [b'\\xd95\\x80?a\\x07\\xf8\\x07\\xc1y\\xac%E\\x08\\xc1\\x06\\xc2\\xea\\x00\\x00T\\xc0r\\xc0s\\xc0t\\xc0u\\xc0v\\xc0w\\xc0x\\xc0y\\xc0z\\xc0{\\xc0|\\xc0}\\xc0~\\xc0\\x7f\\xc0\\x80\\xc0\\x81\\xc0\\x82\\xc0\\x83\\xc0\\x84\\xc0\\x85\\xc0\\x86\\xc0\\x87\\xc0\\x88\\xc0\\x89\\xc0\\x8a\\xc0\\x8b']\n",
      "Bad pipe message: %s [b'0\\x16\\x8b\\xd1<\\xb8G\\xe7^\\xaac\\x1b\\xaa\\xcehdfG\\x00\\x00*\\x00\\x03\\x00\\x06']\n",
      "Bad pipe message: %s [b';\\xd50z[Z\\xa6\\x91\\xf6\\xbc\\xd3\\xb3\\x05G\\xaa\\x16\\x17c\\x00\\x01|\\x00\\x00\\x00\\x01\\x00\\x02\\x00\\x03\\x00\\x04\\x00\\x05\\x00\\x06\\x00\\x07\\x00\\x08\\x00\\t\\x00\\n\\x00\\x0b\\x00\\x0c\\x00\\r\\x00\\x0e\\x00\\x0f\\x00\\x10\\x00\\x11\\x00\\x12\\x00\\x13\\x00\\x14\\x00\\x15\\x00\\x16\\x00\\x17\\x00\\x18\\x00\\x19\\x00\\x1a\\x00\\x1b\\x00/\\x000\\x001\\x002\\x003\\x004\\x005\\x006\\x007\\x008\\x009\\x00:\\x00;\\x00<\\x00=\\x00>\\x00?\\x00@\\x00A\\x00B\\x00C\\x00D\\x00E\\x00F\\x00', b'h\\x00i\\x00j\\x00k\\x00l\\x00m\\x00\\x84\\x00\\x85\\x00\\x86\\x00\\x87\\x00\\x88\\x00\\x89\\x00\\x96\\x00\\x97\\x00\\x98\\x00\\x99\\x00\\x9a\\x00\\x9b\\x00\\x9c\\x00\\x9d\\x00\\x9e\\x00\\x9f\\x00\\xa0\\x00\\xa1\\x00\\xa2\\x00\\xa3\\x00\\xa4\\x00\\xa5\\x00\\xa6\\x00\\xa7\\x00\\xba\\x00\\xbb\\x00\\xbc\\x00\\xbd\\x00\\xbe\\x00\\xbf\\x00\\xc0\\x00\\xc1\\x00\\xc2\\x00\\xc3\\x00\\xc4\\x00\\xc5\\x13\\x01\\x13\\x02\\x13\\x03\\x13\\x04\\x13\\x05\\xc0\\x01\\xc0\\x02\\xc0\\x03\\xc0\\x04\\xc0']\n",
      "Bad pipe message: %s [b'\\x06\\xc0\\x07\\xc0']\n",
      "Bad pipe message: %s [b\"-\\x0c\\x1a\\x13\\xc1.?\\x90\\x8b\\xf5\\x97\\x0b\\xd7SD\\xd8\\xa3'\\x00\\x01|\\x00\\x00\\x00\\x01\\x00\\x02\\x00\\x03\\x00\\x04\\x00\\x05\\x00\\x06\\x00\\x07\\x00\\x08\\x00\\t\\x00\\n\\x00\\x0b\\x00\\x0c\\x00\\r\\x00\\x0e\\x00\\x0f\\x00\\x10\\x00\\x11\\x00\\x12\\x00\\x13\\x00\\x14\\x00\\x15\\x00\\x16\\x00\\x17\\x00\\x18\\x00\\x19\\x00\\x1a\\x00\\x1b\\x00/\\x000\\x001\\x00\", b'3\\x004\\x005\\x006\\x007\\x008\\x009\\x00:\\x00;\\x00<\\x00=\\x00>\\x00?\\x00@\\x00A\\x00B\\x00C\\x00D\\x00E\\x00F\\x00g\\x00h\\x00i\\x00j\\x00k']\n",
      "Bad pipe message: %s [b'\\t\\xc0\\n\\xc0\\x0b\\xc0\\x0c']\n",
      "Bad pipe message: %s [b\"\\xc0\\x0e\\xc0\\x0f\\xc0\\x10\\xc0\\x11\\xc0\\x12\\xc0\\x13\\xc0\\x14\\xc0\\x15\\xc0\\x16\\xc0\\x17\\xc0\\x18\\xc0\\x19\\xc0#\\xc0$\\xc0%\\xc0&\\xc0'\\xc0(\\xc0)\\xc0*\\xc0+\\xc0,\\xc0-\\xc0.\\xc0/\\xc00\\xc01\\xc02\\xc0r\\xc0s\\xc0t\\xc0u\\xc0v\\xc0w\\xc0x\\xc0y\\xc0z\\xc0{\\xc0|\\xc0}\\xc0~\\xc0\\x7f\\xc0\\x80\\xc0\\x81\\xc0\\x82\\xc0\\x83\\xc0\\x84\\xc0\\x85\\xc0\\x86\\xc0\\x87\\xc0\\x88\\xc0\\x89\\xc0\\x8a\\xc0\\x8b\\xc0\\x8c\\xc0\\x8d\\xc0\\x8e\\xc0\\x8f\\xc0\\x90\\xc0\\x91\\xc0\\x92\\xc0\\x93\\xc0\\x94\\xc0\\x95\\xc0\\x96\\xc0\\x97\\xc0\\x98\\xc0\\x99\\xc0\\x9a\\xc0\\x9b\\xcc\\xa8\\xcc\\xa9\\xcc\\xaa\\xcc\\xab\\xcc\\xac\\xcc\\xad\\xcc\\xae\\x02\\x00\\x01\\x00,\\x00\\n\\x00\\n\\x00\\x08\\x00\\x17\\x00\\x19\\x00\\x18\\x00\\x16\\x00\\x0b\\x00\\x04\\x03\\x00\\x01\\x02\\x00\\r\\x00\\x12\\x00\\x10\\x04\\x03\\x08\\x04\", b'\\x05\\x03\\x05', b'']\n",
      "Bad pipe message: %s [b'\"\\xb5vtc\\x06d\\xcf\\x1a\\xd2>\\xf0j\\xbd?6\\xcf\\xc3\\x00\\x00D\\x00\\x96\\x00\\x97\\x00\\x98\\x00\\x99\\x00\\x9a\\x00\\x9b\\x00\\x9c\\x00\\x9d\\x00\\x9e\\x00\\x9f\\x00\\xa0\\x00\\xa1\\x00\\xa2\\x00\\xa3\\x00\\xa4\\x00\\xa5\\x00\\xa6\\x00\\xa7\\xc0#\\xc0$\\xc0%\\xc0&\\xc0\\'\\xc0(\\xc0)\\xc0*\\xc0+\\xc0,\\xc0-\\xc0.\\xc0/\\xc00\\xc01\\xc02\\x02\\x00\\x01\\x00,\\x00\\n\\x00\\n\\x00\\x08\\x00\\x17\\x00\\x19\\x00\\x18\\x00\\x16\\x00\\x0b\\x00\\x04\\x03\\x00', b'']\n",
      "Bad pipe message: %s [b'\\xe2\\xa6G\\xe0\\x97\\xad\\xa6\\x0fwR\\xb9\\x15&\\xa3\\xbam\\x8b\\xcb\\x00\\x01|\\x00\\x00\\x00\\x01\\x00\\x02\\x00\\x03\\x00\\x04\\x00\\x05\\x00\\x06\\x00\\x07\\x00\\x08\\x00\\t\\x00\\n\\x00\\x0b\\x00\\x0c\\x00\\r\\x00\\x0e\\x00\\x0f\\x00\\x10\\x00\\x11\\x00\\x12\\x00\\x13\\x00\\x14\\x00\\x15\\x00\\x16\\x00\\x17\\x00\\x18\\x00\\x19\\x00\\x1a\\x00\\x1b\\x00/\\x000\\x001\\x002\\x003\\x004\\x005\\x006\\x007\\x008\\x009\\x00:\\x00;\\x00<\\x00=\\x00>\\x00?\\x00@\\x00A\\x00B\\x00C\\x00D\\x00E\\x00F\\x00g\\x00h\\x00i\\x00j\\x00k\\x00l\\x00m\\x00\\x84\\x00\\x85\\x00\\x86\\x00\\x87\\x00\\x88\\x00\\x89\\x00\\x96\\x00\\x97\\x00\\x98\\x00\\x99\\x00\\x9a\\x00\\x9b\\x00\\x9c\\x00\\x9d\\x00\\x9e\\x00\\x9f\\x00\\xa0\\x00\\xa1\\x00\\xa2\\x00\\xa3\\x00\\xa4\\x00\\xa5\\x00\\xa6\\x00\\xa7\\x00\\xba\\x00\\xbb\\x00\\xbc\\x00\\xbd\\x00\\xbe\\x00\\xbf\\x00\\xc0']\n",
      "Bad pipe message: %s [b'\\x16\\xcf\\xa46\\xdc9\\xc3\\x10>\\xfd\\x0bkK\\xac\\x8bN\\x9d\\x1b\\x00\\x01|\\x00\\x00\\x00\\x01\\x00\\x02\\x00\\x03\\x00\\x04\\x00\\x05\\x00\\x06\\x00\\x07\\x00\\x08\\x00\\t\\x00\\n\\x00\\x0b\\x00\\x0c\\x00\\r\\x00\\x0e\\x00\\x0f\\x00\\x10\\x00\\x11\\x00\\x12\\x00\\x13\\x00\\x14\\x00\\x15\\x00\\x16\\x00\\x17\\x00\\x18\\x00\\x19\\x00\\x1a\\x00\\x1b\\x00/\\x000\\x001\\x002\\x003\\x004\\x005\\x006\\x007\\x008\\x009\\x00:\\x00;\\x00<\\x00=\\x00>\\x00?\\x00@\\x00A\\x00B\\x00C\\x00D\\x00E\\x00F\\x00g\\x00h\\x00i\\x00j\\x00k\\x00l\\x00m\\x00\\x84\\x00\\x85\\x00\\x86\\x00\\x87\\x00\\x88\\x00\\x89\\x00\\x96\\x00\\x97\\x00\\x98\\x00\\x99\\x00\\x9a\\x00\\x9b\\x00\\x9c\\x00\\x9d\\x00\\x9e\\x00\\x9f\\x00\\xa0\\x00\\xa1\\x00\\xa2\\x00\\xa3\\x00\\xa4\\x00\\xa5\\x00\\xa6\\x00\\xa7\\x00\\xba\\x00\\xbb\\x00\\xbc\\x00\\xbd\\x00\\xbe\\x00\\xbf\\x00\\xc0\\x00\\xc1\\x00\\xc2\\x00\\xc3\\x00\\xc4\\x00\\xc5\\x13\\x01\\x13\\x02\\x13\\x03\\x13\\x04\\x13\\x05\\xc0', b'']\n",
      "Bad pipe message: %s [b'\\x03']\n",
      "Bad pipe message: %s [b\"\\xc0\\x05\\xc0\\x06\\xc0\\x07\\xc0\\x08\\xc0\\t\\xc0\\n\\xc0\\x0b\\xc0\\x0c\\xc0\\r\\xc0\\x0e\\xc0\\x0f\\xc0\\x10\\xc0\\x11\\xc0\\x12\\xc0\\x13\\xc0\\x14\\xc0\\x15\\xc0\\x16\\xc0\\x17\\xc0\\x18\\xc0\\x19\\xc0#\\xc0$\\xc0%\\xc0&\\xc0'\\xc0(\\xc0)\\xc0*\\xc0+\\xc0,\\xc0-\\xc0.\\xc0/\\xc00\\xc01\\xc02\\xc0r\\xc0s\\xc0t\\xc0u\\xc0v\\xc0w\\xc0x\\xc0y\\xc0z\\xc0{\\xc0|\\xc0}\\xc0~\\xc0\\x7f\\xc0\\x80\\xc0\\x81\\xc0\\x82\\xc0\\x83\\xc0\\x84\\xc0\\x85\\xc0\\x86\\xc0\\x87\\xc0\\x88\\xc0\\x89\\xc0\\x8a\\xc0\\x8b\\xc0\\x8c\\xc0\\x8d\\xc0\\x8e\\xc0\\x8f\\xc0\\x90\\xc0\\x91\\xc0\\x92\\xc0\\x93\\xc0\\x94\\xc0\\x95\\xc0\\x96\\xc0\\x97\\xc0\\x98\\xc0\\x99\\xc0\\x9a\\xc0\\x9b\\xcc\\xa8\\xcc\\xa9\\xcc\\xaa\\xcc\\xab\\xcc\\xac\\xcc\\xad\\xcc\\xae\\x02\\x00\\x01\\x00,\\x00\\n\\x00\\n\\x00\\x08\\x00\\x17\\x00\\x19\\x00\\x18\\x00\\x16\"]\n",
      "Bad pipe message: %s [b'8\\x89\\x9a@\\xb9\\x9b^1\\xdeL\\xb5z\\xc1xb\\xfa\\x1c\\xb7\\x00\\x01|\\x00\\x00\\x00\\x01\\x00\\x02\\x00\\x03\\x00\\x04\\x00\\x05\\x00\\x06\\x00\\x07\\x00\\x08\\x00\\t\\x00\\n\\x00\\x0b\\x00\\x0c\\x00\\r\\x00\\x0e\\x00\\x0f\\x00\\x10\\x00\\x11\\x00\\x12\\x00\\x13\\x00\\x14\\x00\\x15\\x00\\x16\\x00\\x17\\x00\\x18\\x00\\x19\\x00\\x1a\\x00\\x1b\\x00/\\x000\\x001\\x002\\x003\\x004\\x005\\x006\\x007\\x008\\x009\\x00:\\x00;\\x00<\\x00=\\x00>\\x00?\\x00@\\x00A\\x00B\\x00C\\x00D\\x00E\\x00F\\x00g\\x00h\\x00i\\x00j\\x00k\\x00l\\x00m\\x00\\x84\\x00\\x85\\x00\\x86\\x00\\x87\\x00\\x88\\x00\\x89\\x00\\x96\\x00\\x97\\x00\\x98\\x00\\x99\\x00\\x9a\\x00\\x9b\\x00']\n",
      "Bad pipe message: %s [b\"\\x9d\\x00\\x9e\\x00\\x9f\\x00\\xa0\\x00\\xa1\\x00\\xa2\\x00\\xa3\\x00\\xa4\\x00\\xa5\\x00\\xa6\\x00\\xa7\\x00\\xba\\x00\\xbb\\x00\\xbc\\x00\\xbd\\x00\\xbe\\x00\\xbf\\x00\\xc0\\x00\\xc1\\x00\\xc2\\x00\\xc3\\x00\\xc4\\x00\\xc5\\x13\\x01\\x13\\x02\\x13\\x03\\x13\\x04\\x13\\x05\\xc0\\x01\\xc0\\x02\\xc0\\x03\\xc0\\x04\\xc0\\x05\\xc0\\x06\\xc0\\x07\\xc0\\x08\\xc0\\t\\xc0\\n\\xc0\\x0b\\xc0\\x0c\\xc0\\r\\xc0\\x0e\\xc0\\x0f\\xc0\\x10\\xc0\\x11\\xc0\\x12\\xc0\\x13\\xc0\\x14\\xc0\\x15\\xc0\\x16\\xc0\\x17\\xc0\\x18\\xc0\\x19\\xc0#\\xc0$\\xc0%\\xc0&\\xc0'\\xc0(\\xc0)\\xc0*\\xc0+\\xc0,\\xc0-\\xc0.\\xc0/\\xc00\\xc01\\xc02\\xc0r\\xc0s\\xc0t\\xc0u\\xc0v\\xc0w\\xc0x\\xc0y\\xc0z\"]\n",
      "Bad pipe message: %s [b'^#\\xc7+L\\xe2\\t\\x97\\xb2\\xe3i\\x84\\xa2\\x9a)So\\x81\\x00\\x01|\\x00\\x00\\x00\\x01\\x00\\x02\\x00\\x03\\x00\\x04\\x00\\x05\\x00\\x06\\x00\\x07\\x00\\x08\\x00\\t\\x00\\n\\x00\\x0b\\x00\\x0c\\x00\\r\\x00\\x0e\\x00\\x0f\\x00\\x10\\x00\\x11\\x00\\x12\\x00\\x13\\x00\\x14\\x00\\x15\\x00\\x16\\x00\\x17\\x00\\x18\\x00\\x19\\x00\\x1a\\x00\\x1b\\x00/\\x000\\x001\\x002\\x003\\x004\\x005\\x006\\x007\\x008\\x009\\x00:\\x00;\\x00<\\x00=\\x00>\\x00?\\x00@\\x00A\\x00B\\x00C\\x00D\\x00E\\x00F\\x00g\\x00h\\x00i\\x00j\\x00k\\x00l\\x00m\\x00\\x84\\x00\\x85\\x00\\x86\\x00\\x87\\x00\\x88\\x00\\x89\\x00\\x96\\x00\\x97\\x00\\x98\\x00\\x99\\x00\\x9a\\x00\\x9b\\x00\\x9c\\x00\\x9d\\x00\\x9e\\x00\\x9f\\x00\\xa0']\n",
      "Bad pipe message: %s [b\"\\x0f}\\xd2@\\xd1\\x17\\xcd\\xd4A2Z\\xa5\\xfb\\xceD1}'\\x00\\x00J\\x00\\x00\\x00\\x01\\x00\\x02\\x00\\x04\\x00\\x05\\x00\\n\\x00\\r\\x00\\x10\\x00\", b'\\x16\\x00\\x18\\x00\\x1b\\x00/\\x000\\x001\\x002\\x003\\x004\\x00']\n",
      "Bad pipe message: %s [b'V\\xa9\\x04\\xb2\\x1b\\x03\\xc9\\x13)|\\x8f\\xc2\\x01\\xea\\xcf\\xf4\\xd0T\\x00\\x00J\\x00\\x00\\x00\\x01\\x00\\x02\\x00\\x04\\x00\\x05']\n",
      "Bad pipe message: %s [b'\\xad\\x8d\\x8d\\xab\\x96Zo\\xab\\x18\\x94\\xfcn{\\x0f\\xf7\\xffk\\x84\\x00\\x00*\\x00\\x03\\x00\\x06\\x00\\x07\\x00\\x08\\x00\\t\\x00\\x0b\\x00\\x0c\\x00\\x0e\\x00\\x0f\\x00\\x11\\x00\\x12\\x00\\x14\\x00\\x15\\x00\\x17\\x00', b'\\x1a\\xc0\\x02\\xc0\\x07\\xc0\\x0c\\xc0\\x11\\xc0\\x16\\x02\\x00\\x01\\x00,\\x00\\n\\x00\\n\\x00\\x08\\x00\\x17']\n",
      "Bad pipe message: %s [b'!,\\x95\\x96hIW\\\\\\xab}D\\x11\\x84\\x0c\\xac\\n\\\\\\xd1\\x00\\x006\\xc0\\x01\\xc0\\x03\\xc0\\x04\\xc0\\x05\\xc0\\x06\\xc0\\x08\\xc0\\t\\xc0\\n\\xc0\\x0b\\xc0\\r\\xc0\\x0e\\xc0\\x0f\\xc0\\x10\\xc0']\n",
      "Bad pipe message: %s [b'\\x13\\xc0\\x14\\xc0\\x15\\xc0\\x17\\xc0\\x18\\xc0\\x19\\xcc\\xa8\\xcc\\xa9\\xcc\\xaa']\n",
      "Bad pipe message: %s [b'\\xdd\\x08\\x83./\\xfb\\x98\\xfaW\\x98Z\\xc2\\xa2\\n\\xddm\\xfb\\xe1\\x00\\x00T\\xc0r\\xc0s\\xc0t\\xc0u\\xc0v\\xc0w\\xc0x\\xc0y\\xc0z\\xc0{\\xc0|\\xc0}\\xc0~\\xc0\\x7f\\xc0\\x80\\xc0\\x81\\xc0\\x82\\xc0\\x83\\xc0\\x84\\xc0\\x85\\xc0\\x86\\xc0\\x87\\xc0\\x88\\xc0\\x89\\xc0\\x8a\\xc0\\x8b\\xc0\\x8c\\xc0\\x8d\\xc0\\x8e\\xc0\\x8f\\xc0\\x90\\xc0\\x91\\xc0\\x92\\xc0\\x93\\xc0\\x94\\xc0\\x95\\xc0\\x96']\n",
      "Bad pipe message: %s [b\"\\xdd<\\x04\\xbfS\\xf6\\xa5'>=%n\\xb0S\\xe2\\xfa\\x92\\x9b\\x00\\x006\\xc0\\x01\\xc0\\x03\\xc0\\x04\\xc0\\x05\\xc0\\x06\"]\n",
      "Bad pipe message: %s [b\"o,\\xea\\x03\\x02,\\xddQ$\\x82U`+\\xa5\\x02\\xca\\x07\\xff\\x00\\x00D\\x00\\x96\\x00\\x97\\x00\\x98\\x00\\x99\\x00\\x9a\\x00\\x9b\\x00\\x9c\\x00\\x9d\\x00\\x9e\\x00\\x9f\\x00\\xa0\\x00\\xa1\\x00\\xa2\\x00\\xa3\\x00\\xa4\\x00\\xa5\\x00\\xa6\\x00\\xa7\\xc0#\\xc0$\\xc0%\\xc0&\\xc0'\\xc0(\\xc0)\\xc0*\\xc0+\\xc0,\\xc0\", b'.\\xc0/\\xc00\\xc01\\xc02\\x02\\x00\\x01\\x00,\\x00\\n\\x00\\n\\x00\\x08\\x00\\x17\\x00\\x19\\x00\\x18\\x00\\x16\\x00\\x0b\\x00\\x04\\x03\\x00\\x01\\x02\\x00\\r\\x00\\x12\\x00\\x10\\x04\\x03']\n",
      "Bad pipe message: %s [b'\\x04\\x01\\x05\\x03\\x05\\x01\\x08']\n",
      "Bad pipe message: %s [b'\\xdc\\xf2\\x06\\xdb\\xcdW\\xb2\\xfeq\\x8e\\r>\\xec\\xd8D\\xb8|\\xc2\\x00\\x00*\\x00\\x03\\x00\\x06\\x00\\x07\\x00\\x08\\x00\\t\\x00\\x0b\\x00\\x0c\\x00\\x0e\\x00\\x0f\\x00\\x11\\x00', b'\\x14\\x00\\x15\\x00\\x17\\x00\\x19\\x00\\x1a\\xc0\\x02\\xc0\\x07\\xc0\\x0c\\xc0\\x11']\n",
      "Bad pipe message: %s [b\"F\\x05\\xf9D6\\x86\\x1a\\xe0s]!(\\xf4\\xeb'$\\xb9\\x9f\"]\n"
     ]
    }
   ],
   "source": [
    "plt.plot(output.history['loss'])\n",
    "plt.plot(output.history['val_loss'])\n",
    "plt.title('model loss')\n",
    "plt.ylabel('loss')\n",
    "plt.xlabel('epoch')\n",
    "plt.legend(['train', 'val'], loc='upper left')\n",
    "plt.show()"
   ]
  },
  {
   "cell_type": "markdown",
   "metadata": {},
   "source": [
    "# not sure what to name this yet"
   ]
  },
  {
   "cell_type": "code",
   "execution_count": null,
   "metadata": {},
   "outputs": [],
   "source": [
    "def custom_mse(y_true, y_pred):\n",
    "    n_domain = len(y_true) // 2\n",
    "    for i in range(n_domain):\n",
    "        # if missing, then modify target\n",
    "        if y_true[i*2] == 0 and y_true[i*2+1] == 0:\n",
    "            y_true[i*2] = y_pred[i*2]\n",
    "            y_true[i*2+1] = y_pred[i*2+1]\n",
    "\n",
    "    # calculate mse as \n",
    "    mse = tf.keras.losses.MeanSquaredError()\n",
    "    return mse(y_true, y_pred).numpy()"
   ]
  },
  {
   "cell_type": "code",
   "execution_count": null,
   "metadata": {},
   "outputs": [],
   "source": [
    "def custom_mae(y_true, y_pred):\n",
    "    n_domain = len(y_true) // 2\n",
    "    for i in range(n_domain):\n",
    "        # if missing, then modify target\n",
    "        if y_true[i*2] == 0 and y_true[i*2+1] == 0:\n",
    "            y_true[i*2] = y_pred[i*2]\n",
    "            y_true[i*2+1] = y_pred[i*2+1]\n",
    "\n",
    "    # calculate mse as \n",
    "    mse = tf.keras.losses.MeanAbsoluteError()\n",
    "    return mse(y_true, y_pred).numpy()"
   ]
  }
 ],
 "metadata": {
  "kernelspec": {
   "display_name": "ct_research",
   "language": "python",
   "name": "python3"
  },
  "language_info": {
   "codemirror_mode": {
    "name": "ipython",
    "version": 3
   },
   "file_extension": ".py",
   "mimetype": "text/x-python",
   "name": "python",
   "nbconvert_exporter": "python",
   "pygments_lexer": "ipython3",
   "version": "3.10.11"
  },
  "orig_nbformat": 4
 },
 "nbformat": 4,
 "nbformat_minor": 2
}
