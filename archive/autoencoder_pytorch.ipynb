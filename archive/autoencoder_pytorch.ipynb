{
 "cells": [
  {
   "cell_type": "code",
   "execution_count": 35,
   "metadata": {},
   "outputs": [],
   "source": [
    "## import packages and helper functions\n",
    "import numpy as np\n",
    "import pandas as pd\n",
    "import matplotlib.pyplot as plt\n",
    "import seaborn as sns\n",
    "import torch\n",
    "import statistics\n",
    "import copy"
   ]
  },
  {
   "cell_type": "markdown",
   "metadata": {},
   "source": [
    "training data"
   ]
  },
  {
   "cell_type": "code",
   "execution_count": 36,
   "metadata": {},
   "outputs": [],
   "source": [
    "# import data\n",
    "df = pd.read_csv(\"data/95_missing_5000sample.csv\")\n",
    "data = df.to_numpy()\n",
    "(l, w) = data.shape"
   ]
  },
  {
   "cell_type": "code",
   "execution_count": 37,
   "metadata": {},
   "outputs": [],
   "source": [
    "x_train = np.zeros((l, w*2))\n",
    "for i in range(l):\n",
    "    for d in range(w):\n",
    "        p = data[i, d]\n",
    "        # update output array\n",
    "        if p == 0:\n",
    "            # print(\"shouldn't be here\")\n",
    "            missing_ind = np.random.choice(2, 1)[0]\n",
    "            x_train[i, d*2] = missing_ind\n",
    "            x_train[i, d*2+1] = missing_ind\n",
    "        else:\n",
    "            x_train[i, d*2] = p # score\n",
    "            x_train[i, d*2+1] = 1-p # 1-score"
   ]
  },
  {
   "cell_type": "code",
   "execution_count": 38,
   "metadata": {},
   "outputs": [],
   "source": [
    "# x_train = data.reshape((-1, 28))\n",
    "# x_train.shape"
   ]
  },
  {
   "cell_type": "code",
   "execution_count": 39,
   "metadata": {},
   "outputs": [],
   "source": [
    "from sklearn.model_selection import train_test_split\n",
    "\n",
    "x_train, x_val = train_test_split(x_train, test_size=0.20)"
   ]
  },
  {
   "cell_type": "markdown",
   "metadata": {},
   "source": [
    "Autoencoder model"
   ]
  },
  {
   "cell_type": "code",
   "execution_count": 40,
   "metadata": {},
   "outputs": [
    {
     "data": {
      "text/plain": [
       "(5000, 2)"
      ]
     },
     "execution_count": 40,
     "metadata": {},
     "output_type": "execute_result"
    }
   ],
   "source": [
    "(l, w)"
   ]
  },
  {
   "cell_type": "code",
   "execution_count": 41,
   "metadata": {},
   "outputs": [],
   "source": [
    "class AE(torch.nn.Module):\n",
    "    def __init__(self):\n",
    "        super().__init__()\n",
    "        n_domains = 2\n",
    "         \n",
    "        self.encoder = torch.nn.Sequential(\n",
    "            torch.nn.Linear(n_domains * 2, 10),\n",
    "            torch.nn.Sigmoid(),\n",
    "            torch.nn.Linear(10, 5)\n",
    "        )\n",
    "         \n",
    "        self.decoder = torch.nn.Sequential(\n",
    "            torch.nn.Linear(5, 10),\n",
    "            torch.nn.Sigmoid(),\n",
    "            torch.nn.Linear(10, n_domains * 2),\n",
    "            torch.nn.Sigmoid()\n",
    "        )\n",
    " \n",
    "    def forward(self, x):\n",
    "        encoded = self.encoder(x)\n",
    "        decoded = self.decoder(encoded)\n",
    "        return decoded"
   ]
  },
  {
   "cell_type": "code",
   "execution_count": 42,
   "metadata": {},
   "outputs": [],
   "source": [
    "# Model Initialization\n",
    "model = AE()\n",
    " \n",
    "# Validation using MSE Loss function\n",
    "loss_function = torch.nn.MSELoss()\n",
    " \n",
    "# Using an Adam Optimizer\n",
    "optimizer = torch.optim.Adam(model.parameters(),\n",
    "                             lr = 1e-4,\n",
    "                             weight_decay = 1e-8)"
   ]
  },
  {
   "cell_type": "code",
   "execution_count": 43,
   "metadata": {},
   "outputs": [],
   "source": [
    "def missing(arr):\n",
    "    return arr[0] == arr[1]"
   ]
  },
  {
   "cell_type": "code",
   "execution_count": 44,
   "metadata": {},
   "outputs": [
    {
     "data": {
      "text/html": [
       "Finishing last run (ID:w99i3hq3) before initializing another..."
      ],
      "text/plain": [
       "<IPython.core.display.HTML object>"
      ]
     },
     "metadata": {},
     "output_type": "display_data"
    },
    {
     "data": {
      "application/vnd.jupyter.widget-view+json": {
       "model_id": "a46867aa9a1a43b0b8d0dddd682a0a1e",
       "version_major": 2,
       "version_minor": 0
      },
      "text/plain": [
       "VBox(children=(Label(value='0.001 MB of 0.001 MB uploaded\\r'), FloatProgress(value=1.0, max=1.0)))"
      ]
     },
     "metadata": {},
     "output_type": "display_data"
    },
    {
     "name": "stderr",
     "output_type": "stream",
     "text": [
      "wandb: WARNING Source type is set to 'repo' but some required information is missing from the environment. A job will not be created from this run. See https://docs.wandb.ai/guides/launch/create-job\n"
     ]
    },
    {
     "data": {
      "text/html": [
       " View run <strong style=\"color:#cdcd00\">chocolate-microwave-4</strong> at: <a href='https://wandb.ai/evolutionaryai/autoencoder_test_model_debug/runs/w99i3hq3' target=\"_blank\">https://wandb.ai/evolutionaryai/autoencoder_test_model_debug/runs/w99i3hq3</a><br/>Synced 4 W&B file(s), 0 media file(s), 0 artifact file(s) and 0 other file(s)"
      ],
      "text/plain": [
       "<IPython.core.display.HTML object>"
      ]
     },
     "metadata": {},
     "output_type": "display_data"
    },
    {
     "data": {
      "text/html": [
       "Find logs at: <code>./wandb/run-20240228_165600-w99i3hq3/logs</code>"
      ],
      "text/plain": [
       "<IPython.core.display.HTML object>"
      ]
     },
     "metadata": {},
     "output_type": "display_data"
    },
    {
     "data": {
      "text/html": [
       "Successfully finished last run (ID:w99i3hq3). Initializing new run:<br/>"
      ],
      "text/plain": [
       "<IPython.core.display.HTML object>"
      ]
     },
     "metadata": {},
     "output_type": "display_data"
    },
    {
     "data": {
      "application/vnd.jupyter.widget-view+json": {
       "model_id": "e9fa879e7ae14082823756d151d343d1",
       "version_major": 2,
       "version_minor": 0
      },
      "text/plain": [
       "VBox(children=(Label(value='Waiting for wandb.init()...\\r'), FloatProgress(value=0.011167953233335639, max=1.0…"
      ]
     },
     "metadata": {},
     "output_type": "display_data"
    },
    {
     "data": {
      "text/html": [
       "Tracking run with wandb version 0.16.3"
      ],
      "text/plain": [
       "<IPython.core.display.HTML object>"
      ]
     },
     "metadata": {},
     "output_type": "display_data"
    },
    {
     "data": {
      "text/html": [
       "Run data is saved locally in <code>/Users/964505/CT/ct_research/wandb/run-20240228_165745-jdg1zo00</code>"
      ],
      "text/plain": [
       "<IPython.core.display.HTML object>"
      ]
     },
     "metadata": {},
     "output_type": "display_data"
    },
    {
     "data": {
      "text/html": [
       "Syncing run <strong><a href='https://wandb.ai/evolutionaryai/autoencoder_test_model_debug/runs/jdg1zo00' target=\"_blank\">cool-bee-5</a></strong> to <a href='https://wandb.ai/evolutionaryai/autoencoder_test_model_debug' target=\"_blank\">Weights & Biases</a> (<a href='https://wandb.me/run' target=\"_blank\">docs</a>)<br/>"
      ],
      "text/plain": [
       "<IPython.core.display.HTML object>"
      ]
     },
     "metadata": {},
     "output_type": "display_data"
    },
    {
     "data": {
      "text/html": [
       " View project at <a href='https://wandb.ai/evolutionaryai/autoencoder_test_model_debug' target=\"_blank\">https://wandb.ai/evolutionaryai/autoencoder_test_model_debug</a>"
      ],
      "text/plain": [
       "<IPython.core.display.HTML object>"
      ]
     },
     "metadata": {},
     "output_type": "display_data"
    },
    {
     "data": {
      "text/html": [
       " View run at <a href='https://wandb.ai/evolutionaryai/autoencoder_test_model_debug/runs/jdg1zo00' target=\"_blank\">https://wandb.ai/evolutionaryai/autoencoder_test_model_debug/runs/jdg1zo00</a>"
      ],
      "text/plain": [
       "<IPython.core.display.HTML object>"
      ]
     },
     "metadata": {},
     "output_type": "display_data"
    },
    {
     "data": {
      "text/plain": [
       "[]"
      ]
     },
     "execution_count": 44,
     "metadata": {},
     "output_type": "execute_result"
    }
   ],
   "source": [
    "import wandb\n",
    "\n",
    "wandb.init(project='autoencoder_test_model_debug')\n",
    "wandb.watch(model, log='all')"
   ]
  },
  {
   "cell_type": "code",
   "execution_count": 45,
   "metadata": {},
   "outputs": [
    {
     "name": "stdout",
     "output_type": "stream",
     "text": [
      "Epoch [1/25], Loss: 0.0038\n",
      "Epoch [2/25], Loss: 0.0038\n",
      "Epoch [3/25], Loss: 0.0038\n",
      "Epoch [4/25], Loss: 0.0037\n",
      "Epoch [5/25], Loss: 0.0037\n",
      "Epoch [6/25], Loss: 0.0037\n",
      "Epoch [7/25], Loss: 0.0037\n",
      "Epoch [8/25], Loss: 0.0037\n",
      "Epoch [9/25], Loss: 0.0036\n",
      "Epoch [10/25], Loss: 0.0036\n",
      "Epoch [11/25], Loss: 0.0035\n",
      "Epoch [12/25], Loss: 0.0035\n",
      "Epoch [13/25], Loss: 0.0034\n",
      "Epoch [14/25], Loss: 0.0032\n",
      "Epoch [15/25], Loss: 0.0031\n",
      "Epoch [16/25], Loss: 0.0029\n",
      "Epoch [17/25], Loss: 0.0026\n",
      "Epoch [18/25], Loss: 0.0023\n",
      "Epoch [19/25], Loss: 0.0019\n",
      "Epoch [20/25], Loss: 0.0015\n",
      "Epoch [21/25], Loss: 0.0011\n",
      "Epoch [22/25], Loss: 0.0007\n",
      "Epoch [23/25], Loss: 0.0005\n",
      "Epoch [24/25], Loss: 0.0003\n",
      "Epoch [25/25], Loss: 0.0002\n"
     ]
    }
   ],
   "source": [
    "epochs = 25\n",
    "outputs = []\n",
    "losses = []\n",
    "val_losses = []\n",
    "epoch_loss = []\n",
    "val_epoch_loss = []\n",
    "\n",
    "for epoch in range(epochs):\n",
    "    for session in x_train:\n",
    "\n",
    "      optimizer.zero_grad()\n",
    "\n",
    "      # Output of Autoencoder\n",
    "      session_rs = session.reshape(-1, w * 2)\n",
    "      session_t = torch.from_numpy(session_rs)\n",
    "      session_t = session_t.clone().detach().requires_grad_(True).type(torch.float32)\n",
    "      reconstructed = model(session_t)\n",
    "\n",
    "      # handle missing value\n",
    "      missing_exists = False\n",
    "      missing_domains = []\n",
    "      for domain in range(w):\n",
    "        if missing(session[domain*2:domain*2+2]):\n",
    "          missing_exists = True\n",
    "          missing_domains.append(domain)\n",
    "          \n",
    "      if missing_exists:\n",
    "        session_dc = copy.deepcopy(session)\n",
    "        for d in missing_domains:\n",
    "          target = reconstructed.detach().numpy()[0][d*2:d*2+2]\n",
    "          session_dc[d*2:d*2+2] = target\n",
    "        session_dc = session_dc.reshape(-1, w * 2)\n",
    "        session_t = torch.from_numpy(session_dc)\n",
    "        session_t = session_t.clone().detach().requires_grad_(True).type(torch.float32)\n",
    "       \n",
    "      # Calculating the loss function\n",
    "      loss = loss_function(reconstructed, session_t)\n",
    "      \n",
    "      loss.backward()\n",
    "      optimizer.step()\n",
    "      # print(f'Epoch [{epoch + 1}/{epochs}], Loss: {loss.item():.4f}')\n",
    "       \n",
    "      # Storing the losses in a list for plotting\n",
    "      epoch_loss.append(loss.item())\n",
    "\n",
    "    losses.append(statistics.mean(epoch_loss))\n",
    "    print(f'Epoch [{epoch + 1}/{epochs}], Loss: {statistics.mean(epoch_loss):.4f}')\n",
    "    epoch_loss = []\n",
    "    outputs.append((epochs, session_t, reconstructed))\n",
    "\n",
    "    with torch.no_grad():\n",
    "      for val in x_val:\n",
    "        val_rs = val.reshape(-1, w * 2)\n",
    "        val_t = torch.from_numpy(val_rs)\n",
    "        val_t = val_t.clone().detach().type(torch.float32)\n",
    "        answer = model(val_t)\n",
    "        val_loss = loss_function(answer, val_t)\n",
    "        val_epoch_loss.append(val_loss.item())\n",
    "    val_losses.append(statistics.mean(val_epoch_loss))"
   ]
  },
  {
   "cell_type": "code",
   "execution_count": 46,
   "metadata": {},
   "outputs": [
    {
     "data": {
      "image/png": "[encoded data removed]",
      "text/plain": [
       "<Figure size 640x480 with 1 Axes>"
      ]
     },
     "metadata": {},
     "output_type": "display_data"
    }
   ],
   "source": [
    " # Defining the Plot Style\n",
    "plt.style.use('fivethirtyeight')\n",
    "plt.xlabel('Epochs')\n",
    "plt.ylabel('Loss')\n",
    " \n",
    "# Plotting\n",
    "with torch.no_grad():\n",
    "   plt.plot(losses)\n",
    "   plt.plot(val_losses)\n",
    "   plt.legend([\"train\", \"validation\"])\n",
    "\n",
    "wandb.log(\n",
    "    {\n",
    "        \"train val loss\": wandb.plot.line_series(\n",
    "            xs=range(epochs),\n",
    "            ys=[losses, val_losses],\n",
    "            keys=[\"Train\", \"Validation\"],\n",
    "            title=\"training and validation loss\",\n",
    "            xname=\"epochs\",\n",
    "        )\n",
    "    }\n",
    ")"
   ]
  },
  {
   "cell_type": "code",
   "execution_count": 47,
   "metadata": {},
   "outputs": [
    {
     "data": {
      "text/plain": [
       "array([0.49929884, 0.49970116, 0.50298793, 0.50201207])"
      ]
     },
     "execution_count": 47,
     "metadata": {},
     "output_type": "execute_result"
    }
   ],
   "source": [
    "np.mean(x_train, axis=0)"
   ]
  },
  {
   "cell_type": "markdown",
   "metadata": {},
   "source": [
    "Testing all missing average"
   ]
  },
  {
   "cell_type": "code",
   "execution_count": 48,
   "metadata": {},
   "outputs": [],
   "source": [
    "missing_data = pd.read_csv(\"data/all_1_500.csv\")\n",
    "missing_data = missing_data.to_numpy()\n",
    "(l, w) = missing_data.shape"
   ]
  },
  {
   "cell_type": "code",
   "execution_count": 49,
   "metadata": {},
   "outputs": [],
   "source": [
    "missing_set = np.zeros((l, w*2))\n",
    "for i in range(l):\n",
    "    for d in range(w):\n",
    "        p = missing_data[i, d]\n",
    "        # update output array\n",
    "        missing_set[i, d*2] = p\n",
    "        missing_set[i, d*2+1] = p"
   ]
  },
  {
   "cell_type": "code",
   "execution_count": 50,
   "metadata": {},
   "outputs": [
    {
     "data": {
      "text/plain": [
       "array([0.48413864, 0.52297401, 0.5165202 , 0.48637348])"
      ]
     },
     "execution_count": 50,
     "metadata": {},
     "output_type": "execute_result"
    }
   ],
   "source": [
    "total = np.array([0.0, 0.0, 0.0, 0.0])\n",
    "with torch.no_grad():\n",
    "    for row in missing_set:\n",
    "        temp = row.reshape(-1, w * 2)\n",
    "        temp = torch.from_numpy(temp)\n",
    "        temp = temp.clone().detach().type(torch.float32)\n",
    "        output = model(temp).detach().numpy()[0]\n",
    "        total = output + total\n",
    "\n",
    "total = total/l\n",
    "total"
   ]
  },
  {
   "cell_type": "code",
   "execution_count": 51,
   "metadata": {},
   "outputs": [],
   "source": [
    "missing_data = pd.read_csv(\"data/all_0_500.csv\")\n",
    "missing_data = missing_data.to_numpy()\n",
    "(l, w) = missing_data.shape"
   ]
  },
  {
   "cell_type": "code",
   "execution_count": 52,
   "metadata": {},
   "outputs": [
    {
     "data": {
      "text/plain": [
       "array([0.46647894, 0.54300725, 0.53586137, 0.46732584])"
      ]
     },
     "execution_count": 52,
     "metadata": {},
     "output_type": "execute_result"
    }
   ],
   "source": [
    "missing_set = np.zeros((l, w*2))\n",
    "for i in range(l):\n",
    "    for d in range(w):\n",
    "        p = missing_data[i, d]\n",
    "        # update output array\n",
    "        missing_set[i, d*2] = p\n",
    "        missing_set[i, d*2+1] = p\n",
    "\n",
    "total = np.array([0.0, 0.0, 0.0, 0.0])\n",
    "with torch.no_grad():\n",
    "    for row in missing_set:\n",
    "        temp = row.reshape(-1, w * 2)\n",
    "        temp = torch.from_numpy(temp)\n",
    "        temp = temp.clone().detach().type(torch.float32)\n",
    "        output = model(temp).detach().numpy()[0]\n",
    "        total = output + total\n",
    "\n",
    "total = total/l\n",
    "total"
   ]
  },
  {
   "cell_type": "markdown",
   "metadata": {},
   "source": [
    "No missing test"
   ]
  },
  {
   "cell_type": "code",
   "execution_count": 53,
   "metadata": {},
   "outputs": [],
   "source": [
    "test_data = pd.read_csv(\"data/test_dataset_no_missing_2.csv\")\n",
    "test_data = test_data.to_numpy()\n",
    "(l, w) = test_data.shape"
   ]
  },
  {
   "cell_type": "code",
   "execution_count": 54,
   "metadata": {},
   "outputs": [],
   "source": [
    "x_test = np.zeros((l, w*2))\n",
    "for i in range(l):\n",
    "    for d in range(w):\n",
    "        p = test_data[i, d]\n",
    "        x_test[i, d*2] = p # score\n",
    "        x_test[i, d*2+1] = 1-p # 1-score"
   ]
  },
  {
   "cell_type": "code",
   "execution_count": 55,
   "metadata": {},
   "outputs": [
    {
     "data": {
      "text/plain": [
       "0.05280764142633416"
      ]
     },
     "execution_count": 55,
     "metadata": {},
     "output_type": "execute_result"
    }
   ],
   "source": [
    "total_loss = 0\n",
    "with torch.no_grad():\n",
    "    for row in x_test:\n",
    "        temp = row.reshape(-1, w * 2)\n",
    "        temp = torch.from_numpy(temp)\n",
    "        temp = temp.clone().detach().type(torch.float32)\n",
    "        \n",
    "        output = model(temp)\n",
    "        loss = loss_function(output, temp).detach().numpy()\n",
    "        total_loss += loss\n",
    "\n",
    "total_loss/l"
   ]
  },
  {
   "cell_type": "code",
   "execution_count": 56,
   "metadata": {},
   "outputs": [
    {
     "name": "stderr",
     "output_type": "stream",
     "text": [
      "wandb: WARNING Source type is set to 'repo' but some required information is missing from the environment. A job will not be created from this run. See https://docs.wandb.ai/guides/launch/create-job\n"
     ]
    },
    {
     "data": {
      "application/vnd.jupyter.widget-view+json": {
       "model_id": "5e52996656054f67ac88370ee5d026bb",
       "version_major": 2,
       "version_minor": 0
      },
      "text/plain": [
       "VBox(children=(Label(value='0.005 MB of 0.005 MB uploaded\\r'), FloatProgress(value=1.0, max=1.0)))"
      ]
     },
     "metadata": {},
     "output_type": "display_data"
    },
    {
     "data": {
      "text/html": [
       " View run <strong style=\"color:#cdcd00\">cool-bee-5</strong> at: <a href='https://wandb.ai/evolutionaryai/autoencoder_test_model_debug/runs/jdg1zo00' target=\"_blank\">https://wandb.ai/evolutionaryai/autoencoder_test_model_debug/runs/jdg1zo00</a><br/>Synced 5 W&B file(s), 1 media file(s), 1 artifact file(s) and 0 other file(s)"
      ],
      "text/plain": [
       "<IPython.core.display.HTML object>"
      ]
     },
     "metadata": {},
     "output_type": "display_data"
    },
    {
     "data": {
      "text/html": [
       "Find logs at: <code>./wandb/run-20240228_165745-jdg1zo00/logs</code>"
      ],
      "text/plain": [
       "<IPython.core.display.HTML object>"
      ]
     },
     "metadata": {},
     "output_type": "display_data"
    },
    {
     "name": "stderr",
     "output_type": "stream",
     "text": [
      "Bad pipe message: %s [b\"\\xf5\\n=9\\xa0\\xb31\\xaf\\xa1\\xb8H\\x0b\\xcd\\x10\\xbbf'\\x95\\x00\\x01|\\x00\\x00\\x00\\x01\\x00\\x02\\x00\\x03\\x00\\x04\\x00\\x05\\x00\\x06\\x00\\x07\\x00\\x08\\x00\\t\\x00\\n\\x00\\x0b\\x00\\x0c\\x00\\r\\x00\\x0e\\x00\\x0f\\x00\\x10\\x00\\x11\\x00\\x12\\x00\\x13\\x00\\x14\\x00\\x15\\x00\\x16\\x00\\x17\\x00\\x18\\x00\\x19\\x00\\x1a\\x00\\x1b\\x00/\\x000\\x001\\x002\\x003\\x004\\x005\\x006\\x007\\x008\\x009\\x00:\\x00;\\x00<\\x00=\\x00>\\x00?\\x00@\\x00A\\x00B\\x00C\\x00D\\x00E\\x00F\\x00g\\x00h\\x00i\\x00j\\x00k\\x00l\\x00m\\x00\\x84\\x00\\x85\\x00\\x86\\x00\\x87\\x00\\x88\\x00\\x89\\x00\\x96\\x00\\x97\\x00\\x98\\x00\\x99\\x00\\x9a\\x00\\x9b\\x00\\x9c\\x00\\x9d\\x00\\x9e\\x00\\x9f\\x00\\xa0\\x00\\xa1\\x00\\xa2\\x00\\xa3\\x00\\xa4\\x00\\xa5\\x00\\xa6\\x00\\xa7\\x00\\xba\\x00\\xbb\\x00\\xbc\\x00\\xbd\\x00\\xbe\\x00\\xbf\\x00\\xc0\\x00\\xc1\\x00\\xc2\\x00\\xc3\\x00\\xc4\\x00\\xc5\\x13\\x01\\x13\\x02\\x13\\x03\\x13\\x04\\x13\\x05\\xc0\\x01\\xc0\\x02\\xc0\\x03\\xc0\\x04\\xc0\\x05\\xc0\\x06\\xc0\\x07\\xc0\\x08\\xc0\\t\\xc0\\n\\xc0\\x0b\\xc0\\x0c\\xc0\\r\\xc0\"]\n",
      "Bad pipe message: %s [b'\\x0f\\xc0\\x10\\xc0\\x11\\xc0\\x12\\xc0\\x13\\xc0\\x14\\xc0\\x15']\n",
      "Bad pipe message: %s [b'\\x0c\\xa6)\\x1d\\x07]U\\x8c\\xb0\\x133<K\\x10\\x10\\t\\x17w\\x00\\x01|\\x00\\x00\\x00\\x01\\x00\\x02\\x00\\x03\\x00\\x04\\x00\\x05\\x00\\x06\\x00\\x07\\x00\\x08\\x00\\t\\x00\\n\\x00\\x0b\\x00']\n",
      "Bad pipe message: %s [b'WC\\x93\\x00\\xb8\\x8d\\xa02\\xca\\xcaNbz\\xa4\\xb1\\xa5\\x8eY\\x00\\x01|\\x00\\x00\\x00\\x01\\x00\\x02\\x00\\x03\\x00\\x04\\x00\\x05\\x00\\x06\\x00\\x07\\x00\\x08\\x00\\t\\x00\\n\\x00\\x0b\\x00\\x0c\\x00\\r\\x00\\x0e\\x00\\x0f\\x00\\x10\\x00\\x11\\x00\\x12\\x00\\x13\\x00\\x14\\x00\\x15\\x00\\x16\\x00\\x17\\x00\\x18\\x00\\x19\\x00\\x1a\\x00\\x1b\\x00/\\x000\\x001\\x002\\x003\\x004\\x005\\x006\\x007\\x008\\x009\\x00:\\x00;\\x00<\\x00=\\x00>\\x00?\\x00@\\x00A\\x00B\\x00C\\x00D\\x00E\\x00F\\x00g\\x00h\\x00i\\x00j\\x00k']\n",
      "Bad pipe message: %s [b'\\x1d\\r0\\x06R\\xe1\\xa4\\xf7\\xf4\\x9bo\\xe8L\\x00\\x1e\\xdfs/\\x00\\x01|\\x00\\x00\\x00\\x01\\x00\\x02\\x00\\x03\\x00\\x04\\x00\\x05\\x00\\x06\\x00\\x07\\x00\\x08\\x00\\t\\x00\\n\\x00\\x0b\\x00\\x0c\\x00\\r\\x00\\x0e\\x00\\x0f\\x00\\x10\\x00\\x11\\x00\\x12\\x00\\x13\\x00\\x14\\x00\\x15\\x00\\x16\\x00\\x17\\x00\\x18\\x00\\x19\\x00\\x1a\\x00\\x1b\\x00/\\x000\\x001\\x002\\x003\\x004\\x005\\x006\\x007\\x008\\x009\\x00:\\x00;\\x00<\\x00=\\x00>\\x00?\\x00@\\x00A\\x00B\\x00C\\x00D\\x00E\\x00F\\x00g\\x00h\\x00i\\x00j\\x00k\\x00l\\x00m\\x00\\x84\\x00']\n",
      "Bad pipe message: %s [b'\\x86\\x00\\x87\\x00\\x88\\x00\\x89\\x00\\x96\\x00\\x97\\x00\\x98\\x00\\x99\\x00\\x9a\\x00\\x9b\\x00\\x9c\\x00\\x9d\\x00\\x9e\\x00\\x9f\\x00\\xa0\\x00\\xa1\\x00\\xa2\\x00\\xa3\\x00\\xa4\\x00\\xa5\\x00\\xa6\\x00\\xa7\\x00\\xba\\x00\\xbb\\x00\\xbc\\x00\\xbd\\x00\\xbe\\x00\\xbf\\x00\\xc0\\x00\\xc1\\x00\\xc2\\x00\\xc3\\x00\\xc4\\x00\\xc5\\x13\\x01\\x13\\x02\\x13\\x03\\x13\\x04\\x13\\x05\\xc0\\x01\\xc0\\x02\\xc0\\x03\\xc0\\x04\\xc0\\x05\\xc0\\x06\\xc0\\x07\\xc0\\x08\\xc0\\t\\xc0\\n\\xc0\\x0b\\xc0\\x0c\\xc0\\r\\xc0\\x0e\\xc0\\x0f\\xc0\\x10\\xc0\\x11\\xc0\\x12\\xc0\\x13\\xc0\\x14\\xc0\\x15\\xc0\\x16\\xc0\\x17\\xc0\\x18\\xc0\\x19\\xc0#\\xc0$\\xc0']\n",
      "Bad pipe message: %s [b'\\r\\x00\\x0e\\x00\\x0f\\x00\\x10\\x00\\x11\\x00\\x12']\n",
      "Bad pipe message: %s [b\"&\\xc0'\\xc0(\\xc0)\\xc0*\\xc0+\\xc0,\\xc0-\\xc0.\\xc0/\\xc00\\xc01\\xc02\\xc0r\\xc0s\\xc0t\\xc0u\\xc0v\\xc0\"]\n",
      "Exception in thread SockSrvRdThr:\n",
      "Traceback (most recent call last):\n",
      "  File \"/Library/Frameworks/Python.framework/Versions/3.10/lib/python3.10/threading.py\", line 1016, in _bootstrap_inner\n",
      "    self.run()\n",
      "  File \"/Users/964505/CT/ct_research/ct/lib/python3.10/site-packages/wandb/sdk/service/server_sock.py\", line 99, in run\n",
      "    sreq = self._sock_client.read_server_request()\n",
      "  File \"/Users/964505/CT/ct_research/ct/lib/python3.10/site-packages/wandb/sdk/lib/sock_client.py\", line 274, in read_server_request\n",
      "    data = self._read_packet_bytes()\n",
      "  File \"/Users/964505/CT/ct_research/ct/lib/python3.10/site-packages/wandb/sdk/lib/sock_client.py\", line 248, in _read_packet_bytes\n",
      "    rec = self._extract_packet_bytes()\n",
      "  File \"/Users/964505/CT/ct_research/ct/lib/python3.10/site-packages/wandb/sdk/lib/sock_client.py\", line 230, in _extract_packet_bytes\n",
      "    assert magic == ord(\"W\")\n",
      "AssertionError\n",
      "Exception in thread SockSrvRdThr:\n",
      "Traceback (most recent call last):\n",
      "  File \"/Library/Frameworks/Python.framework/Versions/3.10/lib/python3.10/threading.py\", line 1016, in _bootstrap_inner\n",
      "    self.run()\n",
      "  File \"/Users/964505/CT/ct_research/ct/lib/python3.10/site-packages/wandb/sdk/service/server_sock.py\", line 99, in run\n",
      "    sreq = self._sock_client.read_server_request()\n",
      "  File \"/Users/964505/CT/ct_research/ct/lib/python3.10/site-packages/wandb/sdk/lib/sock_client.py\", line 274, in read_server_request\n",
      "    data = self._read_packet_bytes()\n",
      "  File \"/Users/964505/CT/ct_research/ct/lib/python3.10/site-packages/wandb/sdk/lib/sock_client.py\", line 248, in _read_packet_bytes\n",
      "    rec = self._extract_packet_bytes()\n",
      "  File \"/Users/964505/CT/ct_research/ct/lib/python3.10/site-packages/wandb/sdk/lib/sock_client.py\", line 230, in _extract_packet_bytes\n",
      "    assert magic == ord(\"W\")\n",
      "AssertionError\n",
      "Exception in thread SockSrvRdThr:\n",
      "Traceback (most recent call last):\n",
      "  File \"/Library/Frameworks/Python.framework/Versions/3.10/lib/python3.10/threading.py\", line 1016, in _bootstrap_inner\n",
      "    self.run()\n",
      "  File \"/Users/964505/CT/ct_research/ct/lib/python3.10/site-packages/wandb/sdk/service/server_sock.py\", line 99, in run\n",
      "    sreq = self._sock_client.read_server_request()\n",
      "  File \"/Users/964505/CT/ct_research/ct/lib/python3.10/site-packages/wandb/sdk/lib/sock_client.py\", line 274, in read_server_request\n",
      "    data = self._read_packet_bytes()\n",
      "  File \"/Users/964505/CT/ct_research/ct/lib/python3.10/site-packages/wandb/sdk/lib/sock_client.py\", line 248, in _read_packet_bytes\n",
      "    rec = self._extract_packet_bytes()\n",
      "  File \"/Users/964505/CT/ct_research/ct/lib/python3.10/site-packages/wandb/sdk/lib/sock_client.py\", line 230, in _extract_packet_bytes\n",
      "    assert magic == ord(\"W\")\n",
      "AssertionError\n",
      "Exception in thread SockSrvRdThr:\n",
      "Traceback (most recent call last):\n",
      "  File \"/Library/Frameworks/Python.framework/Versions/3.10/lib/python3.10/threading.py\", line 1016, in _bootstrap_inner\n",
      "    self.run()\n",
      "  File \"/Users/964505/CT/ct_research/ct/lib/python3.10/site-packages/wandb/sdk/service/server_sock.py\", line 99, in run\n",
      "    sreq = self._sock_client.read_server_request()\n",
      "  File \"/Users/964505/CT/ct_research/ct/lib/python3.10/site-packages/wandb/sdk/lib/sock_client.py\", line 274, in read_server_request\n",
      "    data = self._read_packet_bytes()\n",
      "  File \"/Users/964505/CT/ct_research/ct/lib/python3.10/site-packages/wandb/sdk/lib/sock_client.py\", line 248, in _read_packet_bytes\n",
      "    rec = self._extract_packet_bytes()\n",
      "  File \"/Users/964505/CT/ct_research/ct/lib/python3.10/site-packages/wandb/sdk/lib/sock_client.py\", line 230, in _extract_packet_bytes\n",
      "    assert magic == ord(\"W\")\n",
      "AssertionError\n",
      "Exception in thread SockSrvRdThr:\n",
      "Traceback (most recent call last):\n",
      "  File \"/Library/Frameworks/Python.framework/Versions/3.10/lib/python3.10/threading.py\", line 1016, in _bootstrap_inner\n",
      "    self.run()\n",
      "  File \"/Users/964505/CT/ct_research/ct/lib/python3.10/site-packages/wandb/sdk/service/server_sock.py\", line 99, in run\n",
      "    sreq = self._sock_client.read_server_request()\n",
      "  File \"/Users/964505/CT/ct_research/ct/lib/python3.10/site-packages/wandb/sdk/lib/sock_client.py\", line 274, in read_server_request\n",
      "    data = self._read_packet_bytes()\n",
      "  File \"/Users/964505/CT/ct_research/ct/lib/python3.10/site-packages/wandb/sdk/lib/sock_client.py\", line 248, in _read_packet_bytes\n",
      "    rec = self._extract_packet_bytes()\n",
      "  File \"/Users/964505/CT/ct_research/ct/lib/python3.10/site-packages/wandb/sdk/lib/sock_client.py\", line 230, in _extract_packet_bytes\n",
      "    assert magic == ord(\"W\")\n",
      "AssertionError\n",
      "Bad pipe message: %s [b'\\xae5\\xde\\xe9\\xcce\\xd5\\xbb\\x02)t\\xb2R\\x9fA\\xff\\xb1L\\x00\\x00D\\x00\\x96\\x00\\x97\\x00\\x98\\x00\\x99\\x00\\x9a\\x00\\x9b\\x00\\x9c\\x00\\x9d\\x00\\x9e\\x00\\x9f\\x00\\xa0\\x00\\xa1\\x00\\xa2\\x00\\xa3\\x00\\xa4\\x00\\xa5\\x00\\xa6\\x00\\xa7\\xc0']\n",
      "Bad pipe message: %s [b\"$\\xc0%\\xc0&\\xc0'\\xc0(\\xc0)\\xc0*\\xc0+\\xc0,\\xc0-\\xc0.\\xc0/\\xc00\\xc01\\xc02\\x02\\x00\\x01\\x00\\x00\"]\n",
      "Bad pipe message: %s [b'\\x90\\x15n6x\\x8b\\x9f\\x03\\xea\\x10fh4\\x189\\xa3q\\x00\\x00\\x00T\\xc0r\\xc0s\\xc0t\\xc0u\\xc0v\\xc0w\\xc0x\\xc0y\\xc0z\\xc0{\\xc0|\\xc0}\\xc0~\\xc0\\x7f\\xc0\\x80\\xc0\\x81\\xc0\\x82\\xc0\\x83\\xc0\\x84\\xc0\\x85\\xc0\\x86\\xc0\\x87\\xc0\\x88\\xc0\\x89\\xc0\\x8a\\xc0\\x8b\\xc0\\x8c\\xc0\\x8d\\xc0\\x8e\\xc0\\x8f\\xc0\\x90\\xc0\\x91\\xc0\\x92\\xc0\\x93\\xc0\\x94\\xc0\\x95\\xc0\\x96\\xc0\\x97\\xc0\\x98\\xc0\\x99\\xc0\\x9a\\xc0\\x9b\\x02\\x00']\n",
      "Bad pipe message: %s [b'']\n",
      "Bad pipe message: %s [b'\\xb50\\xd4\\x0e\\x92\\x8aZ\\xc5\\x0b\\xbaot.\\r\\x82f/I\\x00\\x00', b'\\x01\\xc0\\x03\\xc0\\x04\\xc0\\x05\\xc0\\x06\\xc0\\x08\\xc0\\t\\xc0\\n\\xc0\\x0b\\xc0\\r\\xc0\\x0e\\xc0\\x0f\\xc0\\x10\\xc0\\x12\\xc0\\x13\\xc0\\x14\\xc0\\x15\\xc0\\x17\\xc0\\x18\\xc0\\x19\\xcc\\xa8\\xcc\\xa9\\xcc\\xaa\\xcc\\xab\\xcc\\xac\\xcc\\xad\\xcc\\xae']\n",
      "Bad pipe message: %s [b'\\x01']\n",
      "Bad pipe message: %s [b'B\\xd3<\\xf0)&\\x86\\x05fF\\x0b\\x8f\\xdc\\xbf\\x95\\xf0\\xa3\\xdb\\x00\\x00D\\x00\\x96\\x00\\x97\\x00\\x98\\x00\\x99\\x00\\x9a\\x00\\x9b']\n",
      "Bad pipe message: %s [b\"\\xd7\\x8bS@\\xe88\\xeb\\xc5y\\x18'\\xdb\\x13\\x8fwG\\xe9\\x0f\\x00\\x00*\\x00\\x03\\x00\\x06\\x00\\x07\\x00\\x08\\x00\\t\\x00\\x0b\\x00\\x0c\\x00\\x0e\\x00\\x0f\\x00\\x11\\x00\\x12\\x00\\x14\\x00\\x15\\x00\\x17\\x00\\x19\\x00\\x1a\\xc0\\x02\\xc0\\x07\\xc0\\x0c\\xc0\\x11\\xc0\\x16\\x02\\x00\", b'']\n",
      "Bad pipe message: %s [b'\\n\\x00\\n\\x00\\x08\\x00\\x17\\x00\\x19\\x00\\x18\\x00\\x16\\x00\\x0b\\x00\\x04\\x03\\x00\\x01\\x02\\x00\\r\\x00\\x12\\x00\\x10\\x04\\x03\\x08\\x04\\x04\\x01\\x05\\x03\\x05\\x01\\x08\\x05\\x08\\x06\\x06\\x01']\n",
      "Bad pipe message: %s [b'\\x8b\\xc2\\xed;\\x9a\\x02\\x93\\xd4S\\xec\\xda\\xef\\xf3\\x07\\x92\\x97\\xf7H\\x00\\x00D\\x00']\n",
      "Bad pipe message: %s [b'\\xbd<', b'k\\xa0N\\xf0\\xe09}\\x0e\\xfeI\\xd0t\\xa1\\x16\\x00\\x00', b'\\x01\\xc0\\x03\\xc0\\x04\\xc0\\x05\\xc0\\x06\\xc0\\x08\\xc0\\t\\xc0\\n\\xc0\\x0b\\xc0\\r\\xc0\\x0e\\xc0\\x0f\\xc0\\x10\\xc0\\x12\\xc0\\x13\\xc0\\x14\\xc0\\x15\\xc0\\x17\\xc0\\x18\\xc0\\x19\\xcc\\xa8\\xcc\\xa9\\xcc\\xaa\\xcc\\xab\\xcc\\xac\\xcc\\xad\\xcc\\xae']\n",
      "Bad pipe message: %s [b'\\x01']\n",
      "Bad pipe message: %s [b'\\t\\xaa\\x95\\xa0\\xfb\\xf4m\\x92\\x87\\x18V\\x84\\\\\\x9d\\xc0\\xff\\x04\\xcc fW\\x90\\xc5\\xa3\\xb2\\xa3,sp\\x8b{W\\xc0\\x92\\x93@~\\xc4\\xf9\\x82\\xfeF\\xe5\\xbf.\\xa7A\\x1d\\xdf\\x12\\x8c\\x00\\n\\x13\\x01\\x13\\x02\\x13\\x03\\x13\\x04\\x13\\x05\\x01\\x00\\x00\\x9e\\x00+\\x00\\x03\\x02\\x03\\x04\\x00\\n\\x00\\n\\x00\\x08\\xaa\\xaa\\x00\\x17\\x00\\x18\\x00\\x1d\\x00\\x00']\n"
     ]
    }
   ],
   "source": [
    "wandb.finish()"
   ]
  }
 ],
 "metadata": {
  "kernelspec": {
   "display_name": "ct",
   "language": "python",
   "name": "python3"
  },
  "language_info": {
   "codemirror_mode": {
    "name": "ipython",
    "version": 3
   },
   "file_extension": ".py",
   "mimetype": "text/x-python",
   "name": "python",
   "nbconvert_exporter": "python",
   "pygments_lexer": "ipython3",
   "version": "3.10.11"
  }
 },
 "nbformat": 4,
 "nbformat_minor": 2
}
